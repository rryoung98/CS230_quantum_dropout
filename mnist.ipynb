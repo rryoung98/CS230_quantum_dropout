{
 "cells": [
  {
   "cell_type": "markdown",
   "metadata": {
    "colab_type": "text",
    "id": "xLOXFOT5Q40E"
   },
   "source": [
    "##### Copyright 2020 The TensorFlow Authors."
   ]
  },
  {
   "cell_type": "code",
   "execution_count": 201,
   "metadata": {
    "cellView": "form",
    "colab": {},
    "colab_type": "code",
    "id": "iiQkM5ZgQ8r2",
    "tags": []
   },
   "outputs": [],
   "source": [
    "#@title Licensed under the Apache License, Version 2.0 (the \"License\");\n",
    "# you may not use this file except in compliance with the License.\n",
    "# You may obtain a copy of the License at\n",
    "#\n",
    "# https://www.apache.org/licenses/LICENSE-2.0\n",
    "#\n",
    "# Unless required by applicable law or agreed to in writing, software\n",
    "# distributed under the License is distributed on an \"AS IS\" BASIS,\n",
    "# WITHOUT WARRANTIES OR CONDITIONS OF ANY KIND, either express or implied.\n",
    "# See the License for the specific language governing permissions and\n",
    "# limitations under the License."
   ]
  },
  {
   "cell_type": "markdown",
   "metadata": {
    "colab_type": "text",
    "id": "j6331ZSsQGY3"
   },
   "source": [
    "# MNIST classification"
   ]
  },
  {
   "cell_type": "markdown",
   "metadata": {
    "colab_type": "text",
    "id": "i9Jcnb8bQQyd"
   },
   "source": [
    "Based on https://www.tensorflow.org/quantum/tutorials/mnist"
   ]
  },
  {
   "cell_type": "markdown",
   "metadata": {
    "colab_type": "text",
    "id": "udLObUVeGfTs"
   },
   "source": [
    "We build a quantum neural network (QNN) to classify a simplified version of MNIST, similar to the approach used in <a href=\"https://arxiv.org/pdf/1802.06002.pdf\" class=\"external\">Farhi et al</a>. The performance of the quantum neural network on this classical data problem is compared with a classical neural network."
   ]
  },
  {
   "cell_type": "markdown",
   "metadata": {
    "colab_type": "text",
    "id": "X35qHdh5Gzqg"
   },
   "source": [
    "## Setup"
   ]
  },
  {
   "cell_type": "code",
   "execution_count": 202,
   "metadata": {
    "colab": {},
    "colab_type": "code",
    "id": "TorxE5tnkvb2",
    "tags": []
   },
   "outputs": [
    {
     "name": "stdout",
     "output_type": "stream",
     "text": [
      "\u001b[31mERROR: pip's dependency resolver does not currently take into account all the packages that are installed. This behaviour is the source of the following dependency conflicts.\n",
      "tfq-nightly 0.5.0.dev20210516 requires grpcio==1.30.0, but you have grpcio 1.32.0 which is incompatible.\u001b[0m\n",
      "\u001b[33mWARNING: You are using pip version 21.1.1; however, version 21.1.2 is available.\n",
      "You should consider upgrading via the '/mnt/c/Users/mmints/Documents/Stanford/CS230/project/CS230_quantum_dropout/qenv_project/bin/python3.8 -m pip install --upgrade pip' command.\u001b[0m\n",
      "Requirement already satisfied: tensorboard_plugin_profile==2.3.0 in ./qenv_project/lib/python3.8/site-packages (2.3.0)\n",
      "Requirement already satisfied: protobuf>=3.6.0 in ./qenv_project/lib/python3.8/site-packages (from tensorboard_plugin_profile==2.3.0) (3.13.0)\n",
      "Requirement already satisfied: gviz-api>=1.9.0 in ./qenv_project/lib/python3.8/site-packages (from tensorboard_plugin_profile==2.3.0) (1.9.0)\n",
      "Requirement already satisfied: werkzeug>=0.11.15 in ./qenv_project/lib/python3.8/site-packages (from tensorboard_plugin_profile==2.3.0) (2.0.0)\n",
      "Requirement already satisfied: setuptools>=41.0.0 in ./qenv_project/lib/python3.8/site-packages (from tensorboard_plugin_profile==2.3.0) (56.2.0)\n",
      "Requirement already satisfied: six>=1.10.0 in ./qenv_project/lib/python3.8/site-packages (from tensorboard_plugin_profile==2.3.0) (1.15.0)\n",
      "\u001b[33mWARNING: You are using pip version 21.1.1; however, version 21.1.2 is available.\n",
      "You should consider upgrading via the '/mnt/c/Users/mmints/Documents/Stanford/CS230/project/CS230_quantum_dropout/qenv_project/bin/python3.8 -m pip install --upgrade pip' command.\u001b[0m\n",
      "The tensorboard extension is already loaded. To reload it, use:\n",
      "  %reload_ext tensorboard\n"
     ]
    }
   ],
   "source": [
    "#!pip3 install -q tensorflow==2.3.1\n",
    "!python3.8 -m pip install -q tensorflow==2.4.1\n",
    "!python3.8 -m pip install tensorboard_plugin_profile==2.3.0\n",
    "%load_ext tensorboard"
   ]
  },
  {
   "cell_type": "markdown",
   "metadata": {
    "colab_type": "text",
    "id": "FxkQA6oblNqI"
   },
   "source": [
    "Install TensorFlow Quantum:"
   ]
  },
  {
   "cell_type": "code",
   "execution_count": 203,
   "metadata": {
    "colab": {},
    "colab_type": "code",
    "id": "saFHsRDpkvkH",
    "tags": []
   },
   "outputs": [
    {
     "name": "stdout",
     "output_type": "stream",
     "text": [
      "Requirement already satisfied: tfq-nightly in ./qenv_project/lib/python3.8/site-packages (0.5.0.dev20210516)\n",
      "Requirement already satisfied: cirq==0.11.0 in ./qenv_project/lib/python3.8/site-packages (from tfq-nightly) (0.11.0)\n",
      "Requirement already satisfied: google-auth==1.18.0 in ./qenv_project/lib/python3.8/site-packages (from tfq-nightly) (1.18.0)\n",
      "Requirement already satisfied: google-api-core==1.21.0 in ./qenv_project/lib/python3.8/site-packages (from tfq-nightly) (1.21.0)\n",
      "Requirement already satisfied: googleapis-common-protos==1.52.0 in ./qenv_project/lib/python3.8/site-packages (from tfq-nightly) (1.52.0)\n",
      "Requirement already satisfied: protobuf==3.13.0 in ./qenv_project/lib/python3.8/site-packages (from tfq-nightly) (3.13.0)\n",
      "Requirement already satisfied: sympy==1.5 in ./qenv_project/lib/python3.8/site-packages (from tfq-nightly) (1.5)\n",
      "Collecting grpcio==1.30.0\n",
      "  Using cached grpcio-1.30.0-cp38-cp38-manylinux2010_x86_64.whl (3.0 MB)\n",
      "Requirement already satisfied: cirq-core==0.11.0 in ./qenv_project/lib/python3.8/site-packages (from cirq==0.11.0->tfq-nightly) (0.11.0)\n",
      "Requirement already satisfied: cirq-google==0.11.0 in ./qenv_project/lib/python3.8/site-packages (from cirq==0.11.0->tfq-nightly) (0.11.0)\n",
      "Requirement already satisfied: pandas in ./qenv_project/lib/python3.8/site-packages (from cirq-core==0.11.0->cirq==0.11.0->tfq-nightly) (1.2.4)\n",
      "Requirement already satisfied: matplotlib~=3.0 in ./qenv_project/lib/python3.8/site-packages (from cirq-core==0.11.0->cirq==0.11.0->tfq-nightly) (3.4.2)\n",
      "Requirement already satisfied: requests~=2.18 in ./qenv_project/lib/python3.8/site-packages (from cirq-core==0.11.0->cirq==0.11.0->tfq-nightly) (2.25.1)\n",
      "Requirement already satisfied: tqdm in ./qenv_project/lib/python3.8/site-packages (from cirq-core==0.11.0->cirq==0.11.0->tfq-nightly) (4.60.0)\n",
      "Requirement already satisfied: scipy in ./qenv_project/lib/python3.8/site-packages (from cirq-core==0.11.0->cirq==0.11.0->tfq-nightly) (1.6.3)\n",
      "Requirement already satisfied: typing-extensions in ./qenv_project/lib/python3.8/site-packages (from cirq-core==0.11.0->cirq==0.11.0->tfq-nightly) (3.7.4.3)\n",
      "Requirement already satisfied: sortedcontainers~=2.0 in ./qenv_project/lib/python3.8/site-packages (from cirq-core==0.11.0->cirq==0.11.0->tfq-nightly) (2.4.0)\n",
      "Requirement already satisfied: networkx~=2.4 in ./qenv_project/lib/python3.8/site-packages (from cirq-core==0.11.0->cirq==0.11.0->tfq-nightly) (2.5.1)\n",
      "Requirement already satisfied: numpy~=1.16 in ./qenv_project/lib/python3.8/site-packages (from cirq-core==0.11.0->cirq==0.11.0->tfq-nightly) (1.19.5)\n",
      "Requirement already satisfied: setuptools>=34.0.0 in ./qenv_project/lib/python3.8/site-packages (from google-api-core==1.21.0->tfq-nightly) (56.2.0)\n",
      "Requirement already satisfied: six>=1.10.0 in ./qenv_project/lib/python3.8/site-packages (from google-api-core==1.21.0->tfq-nightly) (1.15.0)\n",
      "Requirement already satisfied: pytz in ./qenv_project/lib/python3.8/site-packages (from google-api-core==1.21.0->tfq-nightly) (2021.1)\n",
      "Requirement already satisfied: cachetools<5.0,>=2.0.0 in ./qenv_project/lib/python3.8/site-packages (from google-auth==1.18.0->tfq-nightly) (4.2.2)\n",
      "Requirement already satisfied: rsa<5,>=3.1.4 in ./qenv_project/lib/python3.8/site-packages (from google-auth==1.18.0->tfq-nightly) (4.7.2)\n",
      "Requirement already satisfied: pyasn1-modules>=0.2.1 in ./qenv_project/lib/python3.8/site-packages (from google-auth==1.18.0->tfq-nightly) (0.2.8)\n",
      "Requirement already satisfied: mpmath>=0.19 in ./qenv_project/lib/python3.8/site-packages (from sympy==1.5->tfq-nightly) (1.2.1)\n",
      "Requirement already satisfied: pillow>=6.2.0 in ./qenv_project/lib/python3.8/site-packages (from matplotlib~=3.0->cirq-core==0.11.0->cirq==0.11.0->tfq-nightly) (8.2.0)\n",
      "Requirement already satisfied: pyparsing>=2.2.1 in ./qenv_project/lib/python3.8/site-packages (from matplotlib~=3.0->cirq-core==0.11.0->cirq==0.11.0->tfq-nightly) (2.4.7)\n",
      "Requirement already satisfied: kiwisolver>=1.0.1 in ./qenv_project/lib/python3.8/site-packages (from matplotlib~=3.0->cirq-core==0.11.0->cirq==0.11.0->tfq-nightly) (1.3.1)\n",
      "Requirement already satisfied: cycler>=0.10 in ./qenv_project/lib/python3.8/site-packages (from matplotlib~=3.0->cirq-core==0.11.0->cirq==0.11.0->tfq-nightly) (0.10.0)\n",
      "Requirement already satisfied: python-dateutil>=2.7 in ./qenv_project/lib/python3.8/site-packages (from matplotlib~=3.0->cirq-core==0.11.0->cirq==0.11.0->tfq-nightly) (2.8.1)\n",
      "Requirement already satisfied: decorator<5,>=4.3 in ./qenv_project/lib/python3.8/site-packages (from networkx~=2.4->cirq-core==0.11.0->cirq==0.11.0->tfq-nightly) (4.4.2)\n",
      "Requirement already satisfied: pyasn1<0.5.0,>=0.4.6 in ./qenv_project/lib/python3.8/site-packages (from pyasn1-modules>=0.2.1->google-auth==1.18.0->tfq-nightly) (0.4.8)\n",
      "Requirement already satisfied: idna<3,>=2.5 in ./qenv_project/lib/python3.8/site-packages (from requests~=2.18->cirq-core==0.11.0->cirq==0.11.0->tfq-nightly) (2.10)\n",
      "Requirement already satisfied: chardet<5,>=3.0.2 in ./qenv_project/lib/python3.8/site-packages (from requests~=2.18->cirq-core==0.11.0->cirq==0.11.0->tfq-nightly) (4.0.0)\n",
      "Requirement already satisfied: urllib3<1.27,>=1.21.1 in ./qenv_project/lib/python3.8/site-packages (from requests~=2.18->cirq-core==0.11.0->cirq==0.11.0->tfq-nightly) (1.26.4)\n",
      "Requirement already satisfied: certifi>=2017.4.17 in ./qenv_project/lib/python3.8/site-packages (from requests~=2.18->cirq-core==0.11.0->cirq==0.11.0->tfq-nightly) (2020.12.5)\n",
      "Installing collected packages: grpcio\n",
      "  Attempting uninstall: grpcio\n",
      "    Found existing installation: grpcio 1.32.0\n",
      "    Uninstalling grpcio-1.32.0:\n",
      "      Successfully uninstalled grpcio-1.32.0\n",
      "\u001b[31mERROR: pip's dependency resolver does not currently take into account all the packages that are installed. This behaviour is the source of the following dependency conflicts.\n",
      "tensorflow 2.4.1 requires grpcio~=1.32.0, but you have grpcio 1.30.0 which is incompatible.\u001b[0m\n",
      "Successfully installed grpcio-1.30.0\n",
      "\u001b[33mWARNING: You are using pip version 21.1.1; however, version 21.1.2 is available.\n",
      "You should consider upgrading via the '/mnt/c/Users/mmints/Documents/Stanford/CS230/project/CS230_quantum_dropout/qenv_project/bin/python3.8 -m pip install --upgrade pip' command.\u001b[0m\n"
     ]
    }
   ],
   "source": [
    "#!pip3 install -q tensorflow-quantum\n",
    "!python3.8 -m pip install tfq-nightly"
   ]
  },
  {
   "cell_type": "markdown",
   "metadata": {
    "colab_type": "text",
    "id": "hdgMMZEBGqyl"
   },
   "source": [
    "Now import TensorFlow and the module dependencies:"
   ]
  },
  {
   "cell_type": "code",
   "execution_count": 256,
   "metadata": {
    "colab": {},
    "colab_type": "code",
    "id": "enZ300Bflq80",
    "tags": []
   },
   "outputs": [],
   "source": [
    "import tensorflow as tf\n",
    "import tensorflow_quantum as tfq\n",
    "\n",
    "import cirq\n",
    "import sympy\n",
    "import numpy as np\n",
    "import seaborn as sns\n",
    "import collections\n",
    "import datetime\n",
    "# visualization tools\n",
    "%matplotlib inline\n",
    "import matplotlib.pyplot as plt\n",
    "from cirq.contrib.svg import SVGCircuit\n",
    "\n",
    "# set the random seed\n",
    "tf.random.set_seed(137)\n",
    "np.random.seed(137)\n",
    "\n",
    "\n",
    "\n",
    "NUM_EXAMPLES = 500"
   ]
  },
  {
   "cell_type": "markdown",
   "metadata": {
    "colab_type": "text",
    "id": "b08Mmbs8lr81"
   },
   "source": [
    "## 1. Load the data\n",
    "\n",
    "In this tutorial you will build a binary classifier to distinguish between the digits 3 and 6, following <a href=\"https://arxiv.org/pdf/1802.06002.pdf\" class=\"external\">Farhi et al.</a> This section covers the data handling that:\n",
    "\n",
    "- Loads the raw data from Keras.\n",
    "- Filters the dataset to only 3s and 6s.\n",
    "- Downscales the images so they fit can fit in a quantum computer.\n",
    "- Removes any contradictory examples.\n",
    "- Converts the binary images to Cirq circuits.\n",
    "- Converts the Cirq circuits to TensorFlow Quantum circuits. "
   ]
  },
  {
   "cell_type": "markdown",
   "metadata": {
    "colab_type": "text",
    "id": "pDUdGxn-ojgy"
   },
   "source": [
    "### 1.1 Load the raw data"
   ]
  },
  {
   "cell_type": "markdown",
   "metadata": {
    "colab_type": "text",
    "id": "xZyGXlaKojgz"
   },
   "source": [
    "Load the MNIST dataset distributed with Keras. "
   ]
  },
  {
   "cell_type": "code",
   "execution_count": 205,
   "metadata": {
    "colab": {},
    "colab_type": "code",
    "id": "d9OSExvCojg0",
    "tags": []
   },
   "outputs": [
    {
     "name": "stdout",
     "output_type": "stream",
     "text": [
      "Number of original training examples: 60000\n",
      "Number of original test examples: 10000\n"
     ]
    }
   ],
   "source": [
    "(x_train, y_train), (x_test, y_test) = tf.keras.datasets.mnist.load_data()\n",
    "\n",
    "# Rescale the images from [0,255] to the [0.0,1.0] range.\n",
    "x_train, x_test = x_train[..., np.newaxis]/255.0, x_test[..., np.newaxis]/255.0\n",
    "\n",
    "print(\"Number of original training examples:\", len(x_train))\n",
    "print(\"Number of original test examples:\", len(x_test))"
   ]
  },
  {
   "cell_type": "markdown",
   "metadata": {
    "colab_type": "text",
    "id": "fZpbygdGojg3"
   },
   "source": [
    "Filter the dataset to keep just the 3s and 6s,  remove the other classes. At the same time convert the label, `y`, to boolean: `True` for `3` and `False` for 6. "
   ]
  },
  {
   "cell_type": "code",
   "execution_count": 206,
   "metadata": {
    "colab": {},
    "colab_type": "code",
    "id": "hOw68cCZojg4",
    "tags": []
   },
   "outputs": [],
   "source": [
    "def filter_36(x, y):\n",
    "    keep = (y == 3) | (y == 6)\n",
    "    x, y = x[keep], y[keep]\n",
    "    y = y == 3\n",
    "    return x,y"
   ]
  },
  {
   "cell_type": "code",
   "execution_count": 207,
   "metadata": {
    "colab": {},
    "colab_type": "code",
    "id": "p-XEU8egGL6q",
    "tags": []
   },
   "outputs": [
    {
     "name": "stdout",
     "output_type": "stream",
     "text": [
      "Number of filtered training examples: 12049\n",
      "Number of filtered test examples: 1968\n"
     ]
    }
   ],
   "source": [
    "x_train, y_train = filter_36(x_train, y_train)\n",
    "x_test, y_test = filter_36(x_test, y_test)\n",
    "\n",
    "print(\"Number of filtered training examples:\", len(x_train))\n",
    "print(\"Number of filtered test examples:\", len(x_test))"
   ]
  },
  {
   "cell_type": "markdown",
   "metadata": {
    "colab_type": "text",
    "id": "3wyiaP0Xojg_"
   },
   "source": [
    "Show the first example:"
   ]
  },
  {
   "cell_type": "code",
   "execution_count": 208,
   "metadata": {
    "colab": {},
    "colab_type": "code",
    "id": "j5STP7MbojhA",
    "tags": []
   },
   "outputs": [
    {
     "name": "stdout",
     "output_type": "stream",
     "text": [
      "True\n"
     ]
    },
    {
     "data": {
      "text/plain": [
       "<matplotlib.colorbar.Colorbar at 0x7fbb30ecc6a0>"
      ]
     },
     "execution_count": 208,
     "metadata": {},
     "output_type": "execute_result"
    },
    {
     "data": {
      "image/png": "[encoded data removed]",
      "text/plain": [
       "<Figure size 432x288 with 2 Axes>"
      ]
     },
     "metadata": {
      "needs_background": "light"
     },
     "output_type": "display_data"
    }
   ],
   "source": [
    "print(y_train[0])\n",
    "\n",
    "plt.imshow(x_train[0, :, :, 0])\n",
    "plt.colorbar()"
   ]
  },
  {
   "cell_type": "markdown",
   "metadata": {
    "colab_type": "text",
    "id": "wNS9sVPQojhC"
   },
   "source": [
    "### 1.2 Downscale the images"
   ]
  },
  {
   "cell_type": "markdown",
   "metadata": {
    "colab_type": "text",
    "id": "fmmtplIFGL6t"
   },
   "source": [
    "An image size of 28x28 is much too large for current quantum computers. Resize the image down to 4x4:"
   ]
  },
  {
   "cell_type": "code",
   "execution_count": 242,
   "metadata": {
    "colab": {},
    "colab_type": "code",
    "id": "lbhUdBFWojhE",
    "tags": []
   },
   "outputs": [],
   "source": [
    "x_train_small = tf.image.resize(x_train, (4,4)).numpy()\n",
    "x_test_small = tf.image.resize(x_test, (4,4)).numpy()\n",
    "\n",
    "# 16x16 for amplitude embedding!\n",
    "x_train_small_256 = tf.image.resize(x_train, (16,16)).numpy()\n",
    "x_test_small_256 = tf.image.resize(x_test, (16,16)).numpy()"
   ]
  },
  {
   "cell_type": "markdown",
   "metadata": {
    "colab_type": "text",
    "id": "pOMd7zIjGL6x"
   },
   "source": [
    "Again, display the first training example—after resize: "
   ]
  },
  {
   "cell_type": "code",
   "execution_count": 210,
   "metadata": {
    "colab": {},
    "colab_type": "code",
    "id": "YIYOtCRIGL6y",
    "scrolled": true,
    "tags": []
   },
   "outputs": [
    {
     "name": "stdout",
     "output_type": "stream",
     "text": [
      "True\n"
     ]
    },
    {
     "data": {
      "text/plain": [
       "<matplotlib.colorbar.Colorbar at 0x7fbaa4df24c0>"
      ]
     },
     "execution_count": 210,
     "metadata": {},
     "output_type": "execute_result"
    },
    {
     "data": {
      "image/png": "[encoded data removed]",
      "text/plain": [
       "<Figure size 432x288 with 2 Axes>"
      ]
     },
     "metadata": {
      "needs_background": "light"
     },
     "output_type": "display_data"
    }
   ],
   "source": [
    "print(y_train[0])\n",
    "\n",
    "plt.imshow(x_train_small[0,:,:,0], vmin=0, vmax=1)\n",
    "plt.colorbar()"
   ]
  },
  {
   "cell_type": "code",
   "execution_count": 243,
   "metadata": {},
   "outputs": [
    {
     "name": "stdout",
     "output_type": "stream",
     "text": [
      "True\n"
     ]
    },
    {
     "data": {
      "text/plain": [
       "<matplotlib.colorbar.Colorbar at 0x7fbb3b9500a0>"
      ]
     },
     "execution_count": 243,
     "metadata": {},
     "output_type": "execute_result"
    },
    {
     "data": {
      "image/png": "[encoded data removed]",
      "text/plain": [
       "<Figure size 432x288 with 2 Axes>"
      ]
     },
     "metadata": {
      "needs_background": "light"
     },
     "output_type": "display_data"
    }
   ],
   "source": [
    "print(y_train[0])\n",
    "\n",
    "plt.imshow(x_train_small_256[0,:,:,0], vmin=0, vmax=1)\n",
    "plt.colorbar()"
   ]
  },
  {
   "cell_type": "markdown",
   "metadata": {
    "colab_type": "text",
    "id": "gGeF1_qtojhK"
   },
   "source": [
    "### 1.3 Remove contradictory examples"
   ]
  },
  {
   "cell_type": "markdown",
   "metadata": {
    "colab_type": "text",
    "id": "7ZLkq2yeojhL"
   },
   "source": [
    "From section *3.3 Learning to Distinguish Digits* of <a href=\"https://arxiv.org/pdf/1802.06002.pdf\" class=\"external\">Farhi et al.</a>, filter the dataset to remove images that are labeled as belonging to both classes.\n",
    "\n",
    "This is not a standard machine-learning procedure, but is included in the interest of following the paper."
   ]
  },
  {
   "cell_type": "code",
   "execution_count": 211,
   "metadata": {
    "colab": {},
    "colab_type": "code",
    "id": "LqOPW0C7ojhL",
    "tags": []
   },
   "outputs": [],
   "source": [
    "def remove_contradicting(xs, ys):\n",
    "    mapping = collections.defaultdict(set)\n",
    "    orig_x = {}\n",
    "    # Determine the set of labels for each unique image:\n",
    "    for x,y in zip(xs,ys):\n",
    "       orig_x[tuple(x.flatten())] = x\n",
    "       mapping[tuple(x.flatten())].add(y)\n",
    "    \n",
    "    new_x = []\n",
    "    new_y = []\n",
    "    for flatten_x in mapping:\n",
    "      x = orig_x[flatten_x]\n",
    "      labels = mapping[flatten_x]\n",
    "      if len(labels) == 1:\n",
    "          new_x.append(x)\n",
    "          new_y.append(next(iter(labels)))\n",
    "      else:\n",
    "          # Throw out images that match more than one label.\n",
    "          pass\n",
    "    \n",
    "    num_uniq_3 = sum(1 for value in mapping.values() if len(value) == 1 and True in value)\n",
    "    num_uniq_6 = sum(1 for value in mapping.values() if len(value) == 1 and False in value)\n",
    "    num_uniq_both = sum(1 for value in mapping.values() if len(value) == 2)\n",
    "\n",
    "    print(\"Number of unique images:\", len(mapping.values()))\n",
    "    print(\"Number of unique 3s: \", num_uniq_3)\n",
    "    print(\"Number of unique 6s: \", num_uniq_6)\n",
    "    print(\"Number of unique contradicting labels (both 3 and 6): \", num_uniq_both)\n",
    "    print()\n",
    "    print(\"Initial number of images: \", len(xs))\n",
    "    print(\"Remaining non-contradicting unique images: \", len(new_x))\n",
    "    \n",
    "    return np.array(new_x), np.array(new_y)"
   ]
  },
  {
   "cell_type": "markdown",
   "metadata": {
    "colab_type": "text",
    "id": "VMOiJfz_ojhP"
   },
   "source": [
    "The resulting counts do not closely match the reported values, but the exact procedure is not specified.\n",
    "\n",
    "It is also worth noting here that applying filtering contradictory examples at this point does not totally prevent the model from receiving contradictory training examples: the next step binarizes the data which will cause more collisions. "
   ]
  },
  {
   "cell_type": "code",
   "execution_count": 244,
   "metadata": {},
   "outputs": [
    {
     "name": "stdout",
     "output_type": "stream",
     "text": [
      "Number of unique images: 10387\n",
      "Number of unique 3s:  4912\n",
      "Number of unique 6s:  5426\n",
      "Number of unique contradicting labels (both 3 and 6):  49\n",
      "\n",
      "Initial number of images:  12049\n",
      "Remaining non-contradicting unique images:  10338\n"
     ]
    }
   ],
   "source": [
    "x_train_nocon, y_train_nocon = remove_contradicting(x_train_small, y_train)"
   ]
  },
  {
   "cell_type": "code",
   "execution_count": 257,
   "metadata": {
    "colab": {},
    "colab_type": "code",
    "id": "zpnsAssWojhP",
    "scrolled": true,
    "tags": []
   },
   "outputs": [
    {
     "name": "stdout",
     "output_type": "stream",
     "text": [
      "Number of unique images: 12049\n",
      "Number of unique 3s:  6131\n",
      "Number of unique 6s:  5918\n",
      "Number of unique contradicting labels (both 3 and 6):  0\n",
      "\n",
      "Initial number of images:  12049\n",
      "Remaining non-contradicting unique images:  12049\n"
     ]
    }
   ],
   "source": [
    "x_train_nocon_256, y_train_nocon_256 = remove_contradicting(x_train_small_256, y_train)\n",
    "x_train_nocon_256 = x_train_nocon_256[:NUM_EXAMPLES]\n",
    "y_train_nocon_256 = y_train_nocon_256[:NUM_EXAMPLES]"
   ]
  },
  {
   "cell_type": "code",
   "execution_count": 213,
   "metadata": {},
   "outputs": [
    {
     "name": "stdout",
     "output_type": "stream",
     "text": [
      "(10538, 4, 4, 1)\n",
      "(10538,)\n"
     ]
    }
   ],
   "source": [
    "# Duplicate some entries to illustrate the effects of dropout! Run this cell only if testing dropout\n",
    "NUM_DUPLICATE = 200\n",
    "\n",
    "for i in range(NUM_DUPLICATE):\n",
    "    x_train_nocon = np.insert(x_train_nocon, 0, x_train_nocon[0], axis=0)\n",
    "    y_train_nocon = np.insert(y_train_nocon, 0, y_train_nocon[0], axis=0)\n",
    "print(x_train_nocon.shape)\n",
    "print(y_train_nocon.shape)"
   ]
  },
  {
   "cell_type": "markdown",
   "metadata": {
    "colab_type": "text",
    "id": "SlJ5NVaPojhT"
   },
   "source": [
    "### 1.4 Encode the data as quantum circuits\n",
    "\n",
    "To process images using a quantum computer, <a href=\"https://arxiv.org/pdf/1802.06002.pdf\" class=\"external\">Farhi et al.</a> proposed representing each pixel with a qubit, with the state depending on the value of the pixel. The first step is to convert to a binary encoding."
   ]
  },
  {
   "cell_type": "code",
   "execution_count": 214,
   "metadata": {
    "colab": {},
    "colab_type": "code",
    "id": "1z8J7OyDojhV",
    "tags": []
   },
   "outputs": [],
   "source": [
    "THRESHOLD = 0.5\n",
    "\n",
    "x_train_bin = np.array(x_train_nocon > THRESHOLD, dtype=np.float32)\n",
    "x_test_bin = np.array(x_test_small > THRESHOLD, dtype=np.float32)"
   ]
  },
  {
   "cell_type": "markdown",
   "metadata": {
    "colab_type": "text",
    "id": "SlJ5NVaPojhU"
   },
   "source": [
    "If you were to remove contradictory images at this point you would be left with only 193, likely not enough for effective training."
   ]
  },
  {
   "cell_type": "code",
   "execution_count": 215,
   "metadata": {
    "colab": {},
    "colab_type": "code",
    "id": "1z8J7OyDojhW",
    "tags": []
   },
   "outputs": [
    {
     "name": "stdout",
     "output_type": "stream",
     "text": [
      "Number of unique images: 193\n",
      "Number of unique 3s:  80\n",
      "Number of unique 6s:  69\n",
      "Number of unique contradicting labels (both 3 and 6):  44\n",
      "\n",
      "Initial number of images:  10538\n",
      "Remaining non-contradicting unique images:  149\n"
     ]
    }
   ],
   "source": [
    "_ = remove_contradicting(x_train_bin, y_train_nocon)"
   ]
  },
  {
   "cell_type": "markdown",
   "metadata": {
    "colab_type": "text",
    "id": "oLyxS9KlojhZ"
   },
   "source": [
    "The qubits at pixel indices with values that exceed a threshold, are rotated through an $X$ gate."
   ]
  },
  {
   "cell_type": "code",
   "execution_count": 254,
   "metadata": {},
   "outputs": [],
   "source": [
    "# tolerance for normalization\n",
    "TOLERANCE = 1e-10\n",
    "\n",
    "# Use Mottonen state preparation to get an amplitude embedding of the states\n",
    "# Adapted from https://pennylane.readthedocs.io/en/stable/_modules/pennylane/templates/state_preparations/mottonen.html#MottonenStatePreparation\n",
    "\n",
    "def gray_code(rank):\n",
    "    \"\"\"Generates the Gray code of given rank.\n",
    "\n",
    "    Args:\n",
    "        rank (int): rank of the Gray code (i.e. number of bits)\n",
    "    \"\"\"\n",
    "\n",
    "    def gray_code_recurse(g, rank):\n",
    "        k = len(g)\n",
    "        if rank <= 0:\n",
    "            return\n",
    "\n",
    "        for i in range(k - 1, -1, -1):\n",
    "            char = \"1\" + g[i]\n",
    "            g.append(char)\n",
    "        for i in range(k - 1, -1, -1):\n",
    "            g[i] = \"0\" + g[i]\n",
    "\n",
    "        gray_code_recurse(g, rank - 1)\n",
    "\n",
    "    g = [\"0\", \"1\"]\n",
    "    gray_code_recurse(g, rank - 1)\n",
    "\n",
    "    return g\n",
    "\n",
    "\n",
    "def _matrix_M_entry(row, col):\n",
    "    \"\"\"Returns one entry for the matrix that maps alpha to theta.\n",
    "\n",
    "    See Eq. (3) in `Möttönen et al. (2004) <https://arxiv.org/pdf/quant-ph/0407010.pdf>`_.\n",
    "\n",
    "    Args:\n",
    "        row (int): one-based row number\n",
    "        col (int): one-based column number\n",
    "\n",
    "    Returns:\n",
    "        (float): transformation matrix entry at given row and column\n",
    "    \"\"\"\n",
    "    # (col >> 1) ^ col is the Gray code of col\n",
    "    b_and_g = row & ((col >> 1) ^ col)\n",
    "    sum_of_ones = 0\n",
    "    while b_and_g > 0:\n",
    "        if b_and_g & 0b1:\n",
    "            sum_of_ones += 1\n",
    "\n",
    "        b_and_g = b_and_g >> 1\n",
    "\n",
    "    return (-1) ** sum_of_ones\n",
    "\n",
    "\n",
    "def _compute_theta(alpha):\n",
    "    \"\"\"Maps the angles alpha of the multi-controlled rotations decomposition of a uniformly controlled rotation\n",
    "     to the rotation angles used in the Gray code implementation.\n",
    "\n",
    "    Args:\n",
    "        alpha (tensor_like): alpha parameters\n",
    "\n",
    "    Returns:\n",
    "        (tensor_like): rotation angles theta\n",
    "    \"\"\"\n",
    "    ln = alpha.shape[0]\n",
    "    k = np.log2(alpha.shape[0])\n",
    "\n",
    "    M_trans = np.zeros(shape=(ln, ln))\n",
    "    for i in range(len(M_trans)):\n",
    "        for j in range(len(M_trans[0])):\n",
    "            M_trans[i, j] = _matrix_M_entry(j, i)\n",
    "\n",
    "    theta = np.dot(M_trans, alpha)\n",
    "\n",
    "    return theta / 2 ** k\n",
    "\n",
    "\n",
    "def _uniform_rotation_dagger(gate, alpha, control_wires, target_wire, circuit):\n",
    "    r\"\"\"Applies a uniformly-controlled rotation to the target qubit.\n",
    "\n",
    "    A uniformly-controlled rotation is a sequence of multi-controlled\n",
    "    rotations, each of which is conditioned on the control qubits being in a different state.\n",
    "    For example, a uniformly-controlled rotation with two control qubits describes a sequence of\n",
    "    four multi-controlled rotations, each applying the rotation only if the control qubits\n",
    "    are in states :math:`|00\\rangle`, :math:`|01\\rangle`, :math:`|10\\rangle`, and :math:`|11\\rangle`, respectively.\n",
    "\n",
    "    To implement a uniformly-controlled rotation using single qubit rotations and CNOT gates,\n",
    "    a decomposition based on Gray codes is used. For this purpose, the multi-controlled rotation\n",
    "    angles alpha have to be converted into a set of non-controlled rotation angles theta.\n",
    "\n",
    "    For more details, see `Möttönen and Vartiainen (2005), Fig 7a<https://arxiv.org/pdf/quant-ph/0504100.pdf>`_.\n",
    "\n",
    "    Args:\n",
    "        gate (.Operation): gate to be applied, needs to have exactly one parameter\n",
    "        alpha (tensor_like): angles to decompose the uniformly-controlled rotation into multi-controlled rotations\n",
    "        control_wires (array[int]): wires that act as control\n",
    "        target_wire (int): wire that acts as target\n",
    "    \"\"\"\n",
    "\n",
    "    theta = _compute_theta(alpha)\n",
    "\n",
    "    gray_code_rank = len(control_wires)\n",
    "\n",
    "    if gray_code_rank == 0:\n",
    "        if theta[0] != 0.0:\n",
    "            circuit.append(gate(theta[0])(target_wire))\n",
    "        return\n",
    "\n",
    "    code = gray_code(gray_code_rank)\n",
    "    num_selections = len(code)\n",
    "\n",
    "    control_indices = [\n",
    "        int(np.log2(int(code[i], 2) ^ int(code[(i + 1) % num_selections], 2)))\n",
    "        for i in range(num_selections)\n",
    "    ]\n",
    "\n",
    "    for i, control_index in enumerate(control_indices):\n",
    "        if theta[i] != 0.0:\n",
    "            circuit.append(gate(theta[i])(target_wire))\n",
    "        circuit.append(cirq.CNOT(control_wires[control_index], target_wire))\n",
    "\n",
    "\n",
    "def _get_alpha_z(omega, n, k):\n",
    "    r\"\"\"Computes the rotation angles required to implement the uniformly-controlled Z rotation\n",
    "    applied to the :math:`k`th qubit.\n",
    "\n",
    "    The :math:`j`th angle is related to the phases omega of the desired amplitudes via:\n",
    "\n",
    "    .. math:: \\alpha^{z,k}_j = \\sum_{l=1}^{2^{k-1}} \\frac{\\omega_{(2j-1) 2^{k-1}+l} - \\omega_{(2j-2) 2^{k-1}+l}}{2^{k-1}}\n",
    "\n",
    "    Args:\n",
    "        omega (tensor_like): phases of the state to prepare\n",
    "        n (int): total number of qubits for the uniformly-controlled rotation\n",
    "        k (int): index of current qubit\n",
    "\n",
    "    Returns:\n",
    "        array representing :math:`\\alpha^{z,k}`\n",
    "    \"\"\"\n",
    "    indices1 = [\n",
    "        [(2 * j - 1) * 2 ** (k - 1) + l - 1 for l in range(1, 2 ** (k - 1) + 1)]\n",
    "        for j in range(1, 2 ** (n - k) + 1)\n",
    "    ]\n",
    "    indices2 = [\n",
    "        [(2 * j - 2) * 2 ** (k - 1) + l - 1 for l in range(1, 2 ** (k - 1) + 1)]\n",
    "        for j in range(1, 2 ** (n - k) + 1)\n",
    "    ]\n",
    "\n",
    "    term1 = np.take(omega, indices=indices1)\n",
    "    term2 = np.take(omega, indices=indices2)\n",
    "    diff = (term1 - term2) / 2 ** (k - 1)\n",
    "\n",
    "    return np.sum(diff, axis=1)\n",
    "\n",
    "\n",
    "def _get_alpha_y(a, n, k):\n",
    "    r\"\"\"Computes the rotation angles required to implement the uniformly controlled Y rotation\n",
    "    applied to the :math:`k`th qubit.\n",
    "\n",
    "    The :math:`j`-th angle is related to the absolute values, a, of the desired amplitudes via:\n",
    "\n",
    "    .. math:: \\alpha^{y,k}_j = 2 \\arcsin \\sqrt{ \\frac{ \\sum_{l=1}^{2^{k-1}} a_{(2j-1)2^{k-1} +l}^2  }{ \\sum_{l=1}^{2^{k}} a_{(j-1)2^{k} +l}^2  } }\n",
    "\n",
    "    Args:\n",
    "        a (tensor_like): absolute values of the state to prepare\n",
    "        n (int): total number of qubits for the uniformly-controlled rotation\n",
    "        k (int): index of current qubit\n",
    "\n",
    "    Returns:\n",
    "        array representing :math:`\\alpha^{y,k}`\n",
    "    \"\"\"\n",
    "    indices_numerator = [\n",
    "        [(2 * (j + 1) - 1) * 2 ** (k - 1) + l for l in range(2 ** (k - 1))]\n",
    "        for j in range(2 ** (n - k))\n",
    "    ]\n",
    "    numerator = np.take(a, indices=indices_numerator)\n",
    "    numerator = np.sum(np.abs(numerator) ** 2, axis=1)\n",
    "\n",
    "    indices_denominator = [[j * 2 ** k + l for l in range(2 ** k)] for j in range(2 ** (n - k))]\n",
    "    denominator = np.take(a, indices=indices_denominator)\n",
    "    denominator = np.sum(np.abs(denominator) ** 2, axis=1)\n",
    "\n",
    "    # Divide only where denominator is zero, else leave initial value of zero.\n",
    "    # The equation guarantees that the numerator is also zero in the corresponding entries.\n",
    "\n",
    "    with np.errstate(divide=\"ignore\", invalid=\"ignore\"):\n",
    "        division = numerator / denominator\n",
    "\n",
    "    division = np.where(denominator != 0.0, division, 0.0)\n",
    "\n",
    "    return 2 * np.arcsin(np.sqrt(division))\n",
    "\n",
    "def mottonenStatePrep(state_vector, qubits, circuit):\n",
    "\n",
    "        a = np.abs(state_vector)\n",
    "        omega = np.angle(state_vector)\n",
    "\n",
    "        # change ordering of wires, since original code\n",
    "        # was written for IBM machines\n",
    "        wires_reverse = qubits[::-1]\n",
    "\n",
    "        # Apply inverse y rotation cascade to prepare correct absolute values of amplitudes\n",
    "        for k in range(len(wires_reverse), 0, -1):\n",
    "            alpha_y_k = _get_alpha_y(a, len(wires_reverse), k)\n",
    "            control = wires_reverse[k:]\n",
    "            target = wires_reverse[k - 1]\n",
    "            _uniform_rotation_dagger(cirq.ry, alpha_y_k, control, target, circuit)\n",
    "\n",
    "        # If necessary, apply inverse z rotation cascade to prepare correct phases of amplitudes\n",
    "        if not np.allclose(omega, 0):\n",
    "            for k in range(len(wires_reverse), 0, -1):\n",
    "                alpha_z_k = _get_alpha_z(omega, len(wires_reverse), k)\n",
    "                control = wires_reverse[k:]\n",
    "                target = wires_reverse[k - 1]\n",
    "                if len(alpha_z_k) > 0:\n",
    "                    _uniform_rotation_dagger(cirq.rz, alpha_z_k, control, target, circuit)\n",
    "\n",
    "         \n",
    "# The below is borrowed from https://pennylane.readthedocs.io/en/stable/_modules/pennylane/templates/embeddings/amplitude.html#AmplitudeEmbedding\n",
    "def _preprocess(features, wires, pad_with, normalize):\n",
    "    \"\"\"Validate and pre-process inputs as follows:\n",
    "\n",
    "    * Check that the features tensor is one-dimensional.\n",
    "    * If pad_with is None, check that the first dimension of the features tensor\n",
    "      has length :math:`2^n` where :math:`n` is the number of qubits. Else check that the\n",
    "      first dimension of the features tensor is not larger than :math:`2^n` and pad features with value if necessary.\n",
    "    * If normalize is false, check that first dimension of features is normalised to one. Else, normalise the\n",
    "      features tensor.\n",
    "    \"\"\"\n",
    "\n",
    "    shape = features.shape\n",
    "\n",
    "    # check shape\n",
    "    if features.ndim != 1:\n",
    "        raise ValueError(f\"Features must be a one-dimensional tensor; got shape {shape}.\")\n",
    "\n",
    "    n_features = shape[0]\n",
    "    if pad_with is None and n_features != 2 ** len(wires):\n",
    "        raise ValueError(\n",
    "            f\"Features must be of length {2 ** len(wires)}; got length {n_features}. \"\n",
    "            f\"Use the 'pad' argument for automated padding.\"\n",
    "        )\n",
    "\n",
    "    if pad_with is not None and n_features > 2 ** len(wires):\n",
    "        raise ValueError(\n",
    "            f\"Features must be of length {2 ** len(wires)} or \"\n",
    "            f\"smaller to be padded; got length {n_features}.\"\n",
    "        )\n",
    "\n",
    "    # pad\n",
    "    if pad_with is not None and n_features < 2 ** len(wires):\n",
    "        padding = [pad_with] * (2 ** len(wires) - n_features)\n",
    "        features = np.concatenate([features, padding], axis=0)\n",
    "\n",
    "    # normalize\n",
    "    norm = np.sum(np.abs(features) ** 2)\n",
    "\n",
    "    if not np.allclose(norm, 1.0, atol=TOLERANCE):\n",
    "        if normalize or pad_with:\n",
    "            features = features / np.sqrt(norm)\n",
    "        else:\n",
    "            raise ValueError(\n",
    "                f\"Features must be a vector of length 1.0; got length {norm}.\"\n",
    "                \"Use 'normalize=True' to automatically normalize.\"\n",
    "            )\n",
    "\n",
    "    features = features.astype(np.complex128)\n",
    "    return features\n",
    "\n",
    "def cirqAppendAmplitudeEmbedding(features, qubits, circuit, pad_with=None, normalize=False):\n",
    "    features = _preprocess(features, qubits, pad_with, normalize)\n",
    "    mottonenStatePrep(features, qubits, circuit)"
   ]
  },
  {
   "cell_type": "code",
   "execution_count": 260,
   "metadata": {
    "colab": {},
    "colab_type": "code",
    "id": "aOu_3-3ZGL61",
    "tags": []
   },
   "outputs": [],
   "source": [
    "def convert_to_circuit(image):\n",
    "    \"\"\"Encode truncated classical image into quantum datapoint.\"\"\"\n",
    "    values = np.ndarray.flatten(image)\n",
    "    qubits = cirq.GridQubit.rect(4, 4)\n",
    "    circuit = cirq.Circuit()\n",
    "    for i, value in enumerate(values):\n",
    "        if value:\n",
    "            circuit.append(cirq.X(qubits[i]))\n",
    "    circuit.append(make_qft(qubits))\n",
    "    return circuit\n",
    "\n",
    "def convert_to_circuit_mottonen(image):\n",
    "    values = np.ndarray.flatten(image)\n",
    "    assert len(values) == 256\n",
    "    qubits = cirq.GridQubit.rect(4, 2)\n",
    "    circuit = cirq.Circuit()\n",
    "    cirqAppendAmplitudeEmbedding(values, qubits, circuit, normalize=True)\n",
    "    return circuit\n",
    "\n",
    "#x_train_circ = [convert_to_circuit(x) for x in x_train_bin]\n",
    "#x_test_circ = [convert_to_circuit(x) for x in x_test_bin]\n",
    "\n",
    "x_train_circ = [convert_to_circuit_mottonen(x) for x in x_train_nocon_256]\n",
    "x_test_circ = [convert_to_circuit_mottonen(x) for x in x_test_small_256]"
   ]
  },
  {
   "cell_type": "markdown",
   "metadata": {
    "colab_type": "text",
    "id": "zSCXqzOzojhd"
   },
   "source": [
    "Here is the circuit created for the first example (circuit diagrams do not show qubits with zero gates):"
   ]
  },
  {
   "cell_type": "code",
   "execution_count": 261,
   "metadata": {
    "colab": {},
    "colab_type": "code",
    "id": "w3POmUEUojhe",
    "tags": []
   },
   "outputs": [
    {
     "data": {
      "image/svg+xml": [
       "<svg xmlns=\"http://www.w3.org/2000/svg\" width=\"41569.110351562245\" height=\"400.0\"><line x1=\"34.7588671875\" x2=\"41539.110351562245\" y1=\"25.0\" y2=\"25.0\" stroke=\"#1967d2\" stroke-width=\"1\" /><line x1=\"34.7588671875\" x2=\"41539.110351562245\" y1=\"75.0\" y2=\"75.0\" stroke=\"#1967d2\" stroke-width=\"1\" /><line x1=\"34.7588671875\" x2=\"41539.110351562245\" y1=\"125.0\" y2=\"125.0\" stroke=\"#1967d2\" stroke-width=\"1\" /><line x1=\"34.7588671875\" x2=\"41539.110351562245\" y1=\"175.0\" y2=\"175.0\" stroke=\"#1967d2\" stroke-width=\"1\" /><line x1=\"34.7588671875\" x2=\"41539.110351562245\" y1=\"225.0\" y2=\"225.0\" stroke=\"#1967d2\" stroke-width=\"1\" /><line x1=\"34.7588671875\" x2=\"41539.110351562245\" y1=\"275.0\" y2=\"275.0\" stroke=\"#1967d2\" stroke-width=\"1\" /><line x1=\"34.7588671875\" x2=\"41539.110351562245\" y1=\"325.0\" y2=\"325.0\" stroke=\"#1967d2\" stroke-width=\"1\" /><line x1=\"34.7588671875\" x2=\"41539.110351562245\" y1=\"375.0\" y2=\"375.0\" stroke=\"#1967d2\" stroke-width=\"1\" /><line x1=\"203.61546875\" x2=\"203.61546875\" y1=\"25.0\" y2=\"75.0\" stroke=\"black\" stroke-width=\"3\" /><line x1=\"367.713203125\" x2=\"367.713203125\" y1=\"25.0\" y2=\"75.0\" stroke=\"black\" stroke-width=\"3\" /><line x1=\"427.713203125\" x2=\"427.713203125\" y1=\"75.0\" y2=\"125.0\" stroke=\"black\" stroke-width=\"3\" /><line x1=\"591.8109375\" x2=\"591.8109375\" y1=\"25.0\" y2=\"125.0\" stroke=\"black\" stroke-width=\"3\" /><line x1=\"755.908671875\" x2=\"755.908671875\" y1=\"75.0\" y2=\"125.0\" stroke=\"black\" stroke-width=\"3\" /><line x1=\"920.0064062499999\" x2=\"920.0064062499999\" y1=\"25.0\" y2=\"125.0\" stroke=\"black\" stroke-width=\"3\" /><line x1=\"980.0064062499999\" x2=\"980.0064062499999\" y1=\"125.0\" y2=\"175.0\" stroke=\"black\" stroke-width=\"3\" /><line x1=\"1140.248671875\" x2=\"1140.248671875\" y1=\"75.0\" y2=\"175.0\" stroke=\"black\" stroke-width=\"3\" /><line x1=\"1309.3981640625\" x2=\"1309.3981640625\" y1=\"125.0\" y2=\"175.0\" stroke=\"black\" stroke-width=\"3\" /><line x1=\"1473.4958984375\" x2=\"1473.4958984375\" y1=\"25.0\" y2=\"175.0\" stroke=\"black\" stroke-width=\"3\" /><line x1=\"1642.6453906250001\" x2=\"1642.6453906250001\" y1=\"125.0\" y2=\"175.0\" stroke=\"black\" stroke-width=\"3\" /><line x1=\"1806.7431250000002\" x2=\"1806.7431250000002\" y1=\"75.0\" y2=\"175.0\" stroke=\"black\" stroke-width=\"3\" /><line x1=\"1975.8926171875003\" x2=\"1975.8926171875003\" y1=\"125.0\" y2=\"175.0\" stroke=\"black\" stroke-width=\"3\" /><line x1=\"2139.9903515625\" x2=\"2139.9903515625\" y1=\"25.0\" y2=\"175.0\" stroke=\"black\" stroke-width=\"3\" /><line x1=\"2199.9903515625\" x2=\"2199.9903515625\" y1=\"175.0\" y2=\"225.0\" stroke=\"black\" stroke-width=\"3\" /><line x1=\"2369.13984375\" x2=\"2369.13984375\" y1=\"125.0\" y2=\"225.0\" stroke=\"black\" stroke-width=\"3\" /><line x1=\"2538.2893359375003\" x2=\"2538.2893359375003\" y1=\"175.0\" y2=\"225.0\" stroke=\"black\" stroke-width=\"3\" /><line x1=\"2707.4388281250003\" x2=\"2707.4388281250003\" y1=\"75.0\" y2=\"225.0\" stroke=\"black\" stroke-width=\"3\" /><line x1=\"2867.6810937500004\" x2=\"2867.6810937500004\" y1=\"175.0\" y2=\"225.0\" stroke=\"black\" stroke-width=\"3\" /><line x1=\"3031.7788281250005\" x2=\"3031.7788281250005\" y1=\"125.0\" y2=\"225.0\" stroke=\"black\" stroke-width=\"3\" /><line x1=\"3192.0210937500005\" x2=\"3192.0210937500005\" y1=\"175.0\" y2=\"225.0\" stroke=\"black\" stroke-width=\"3\" /><line x1=\"3361.1705859375006\" x2=\"3361.1705859375006\" y1=\"25.0\" y2=\"225.0\" stroke=\"black\" stroke-width=\"3\" /><line x1=\"3530.3200781250007\" x2=\"3530.3200781250007\" y1=\"175.0\" y2=\"225.0\" stroke=\"black\" stroke-width=\"3\" /><line x1=\"3699.4695703125008\" x2=\"3699.4695703125008\" y1=\"125.0\" y2=\"225.0\" stroke=\"black\" stroke-width=\"3\" /><line x1=\"3863.567304687501\" x2=\"3863.567304687501\" y1=\"175.0\" y2=\"225.0\" stroke=\"black\" stroke-width=\"3\" /><line x1=\"4027.665039062501\" x2=\"4027.665039062501\" y1=\"75.0\" y2=\"225.0\" stroke=\"black\" stroke-width=\"3\" /><line x1=\"4196.814531250001\" x2=\"4196.814531250001\" y1=\"175.0\" y2=\"225.0\" stroke=\"black\" stroke-width=\"3\" /><line x1=\"4360.912265625001\" x2=\"4360.912265625001\" y1=\"125.0\" y2=\"225.0\" stroke=\"black\" stroke-width=\"3\" /><line x1=\"4530.061757812501\" x2=\"4530.061757812501\" y1=\"175.0\" y2=\"225.0\" stroke=\"black\" stroke-width=\"3\" /><line x1=\"4694.159492187501\" x2=\"4694.159492187501\" y1=\"25.0\" y2=\"225.0\" stroke=\"black\" stroke-width=\"3\" /><line x1=\"4754.159492187501\" x2=\"4754.159492187501\" y1=\"225.0\" y2=\"275.0\" stroke=\"black\" stroke-width=\"3\" /><line x1=\"4918.257226562501\" x2=\"4918.257226562501\" y1=\"175.0\" y2=\"275.0\" stroke=\"black\" stroke-width=\"3\" /><line x1=\"5087.406718750001\" x2=\"5087.406718750001\" y1=\"225.0\" y2=\"275.0\" stroke=\"black\" stroke-width=\"3\" /><line x1=\"5256.556210937501\" x2=\"5256.556210937501\" y1=\"125.0\" y2=\"275.0\" stroke=\"black\" stroke-width=\"3\" /><line x1=\"5420.6539453125015\" x2=\"5420.6539453125015\" y1=\"225.0\" y2=\"275.0\" stroke=\"black\" stroke-width=\"3\" /><line x1=\"5584.751679687502\" x2=\"5584.751679687502\" y1=\"175.0\" y2=\"275.0\" stroke=\"black\" stroke-width=\"3\" /><line x1=\"5739.942187500002\" x2=\"5739.942187500002\" y1=\"225.0\" y2=\"275.0\" stroke=\"black\" stroke-width=\"3\" /><line x1=\"5895.132695312502\" x2=\"5895.132695312502\" y1=\"75.0\" y2=\"275.0\" stroke=\"black\" stroke-width=\"3\" /><line x1=\"6064.282187500002\" x2=\"6064.282187500002\" y1=\"225.0\" y2=\"275.0\" stroke=\"black\" stroke-width=\"3\" /><line x1=\"6224.524453125002\" x2=\"6224.524453125002\" y1=\"175.0\" y2=\"275.0\" stroke=\"black\" stroke-width=\"3\" /><line x1=\"6388.622187500002\" x2=\"6388.622187500002\" y1=\"225.0\" y2=\"275.0\" stroke=\"black\" stroke-width=\"3\" /><line x1=\"6552.719921875002\" x2=\"6552.719921875002\" y1=\"125.0\" y2=\"275.0\" stroke=\"black\" stroke-width=\"3\" /><line x1=\"6721.869414062502\" x2=\"6721.869414062502\" y1=\"225.0\" y2=\"275.0\" stroke=\"black\" stroke-width=\"3\" /><line x1=\"6891.018906250002\" x2=\"6891.018906250002\" y1=\"175.0\" y2=\"275.0\" stroke=\"black\" stroke-width=\"3\" /><line x1=\"7060.168398437502\" x2=\"7060.168398437502\" y1=\"225.0\" y2=\"275.0\" stroke=\"black\" stroke-width=\"3\" /><line x1=\"7229.317890625002\" x2=\"7229.317890625002\" y1=\"25.0\" y2=\"275.0\" stroke=\"black\" stroke-width=\"3\" /><line x1=\"7398.467382812502\" x2=\"7398.467382812502\" y1=\"225.0\" y2=\"275.0\" stroke=\"black\" stroke-width=\"3\" /><line x1=\"7567.616875000002\" x2=\"7567.616875000002\" y1=\"175.0\" y2=\"275.0\" stroke=\"black\" stroke-width=\"3\" /><line x1=\"7731.7146093750025\" x2=\"7731.7146093750025\" y1=\"225.0\" y2=\"275.0\" stroke=\"black\" stroke-width=\"3\" /><line x1=\"7895.812343750003\" x2=\"7895.812343750003\" y1=\"125.0\" y2=\"275.0\" stroke=\"black\" stroke-width=\"3\" /><line x1=\"8064.961835937503\" x2=\"8064.961835937503\" y1=\"225.0\" y2=\"275.0\" stroke=\"black\" stroke-width=\"3\" /><line x1=\"8234.111328125002\" x2=\"8234.111328125002\" y1=\"175.0\" y2=\"275.0\" stroke=\"black\" stroke-width=\"3\" /><line x1=\"8403.260820312502\" x2=\"8403.260820312502\" y1=\"225.0\" y2=\"275.0\" stroke=\"black\" stroke-width=\"3\" /><line x1=\"8572.410312500002\" x2=\"8572.410312500002\" y1=\"75.0\" y2=\"275.0\" stroke=\"black\" stroke-width=\"3\" /><line x1=\"8732.652578125002\" x2=\"8732.652578125002\" y1=\"225.0\" y2=\"275.0\" stroke=\"black\" stroke-width=\"3\" /><line x1=\"8892.894843750002\" x2=\"8892.894843750002\" y1=\"175.0\" y2=\"275.0\" stroke=\"black\" stroke-width=\"3\" /><line x1=\"9056.992578125002\" x2=\"9056.992578125002\" y1=\"225.0\" y2=\"275.0\" stroke=\"black\" stroke-width=\"3\" /><line x1=\"9221.090312500002\" x2=\"9221.090312500002\" y1=\"125.0\" y2=\"275.0\" stroke=\"black\" stroke-width=\"3\" /><line x1=\"9390.239804687502\" x2=\"9390.239804687502\" y1=\"225.0\" y2=\"275.0\" stroke=\"black\" stroke-width=\"3\" /><line x1=\"9559.389296875002\" x2=\"9559.389296875002\" y1=\"175.0\" y2=\"275.0\" stroke=\"black\" stroke-width=\"3\" /><line x1=\"9728.538789062502\" x2=\"9728.538789062502\" y1=\"225.0\" y2=\"275.0\" stroke=\"black\" stroke-width=\"3\" /><line x1=\"9897.688281250003\" x2=\"9897.688281250003\" y1=\"25.0\" y2=\"275.0\" stroke=\"black\" stroke-width=\"3\" /><line x1=\"9957.688281250003\" x2=\"9957.688281250003\" y1=\"275.0\" y2=\"325.0\" stroke=\"black\" stroke-width=\"3\" /><line x1=\"10121.786015625003\" x2=\"10121.786015625003\" y1=\"225.0\" y2=\"325.0\" stroke=\"black\" stroke-width=\"3\" /><line x1=\"10290.935507812503\" x2=\"10290.935507812503\" y1=\"275.0\" y2=\"325.0\" stroke=\"black\" stroke-width=\"3\" /><line x1=\"10455.033242187503\" x2=\"10455.033242187503\" y1=\"175.0\" y2=\"325.0\" stroke=\"black\" stroke-width=\"3\" /><line x1=\"10615.275507812503\" x2=\"10615.275507812503\" y1=\"275.0\" y2=\"325.0\" stroke=\"black\" stroke-width=\"3\" /><line x1=\"10779.373242187503\" x2=\"10779.373242187503\" y1=\"225.0\" y2=\"325.0\" stroke=\"black\" stroke-width=\"3\" /><line x1=\"10934.563750000003\" x2=\"10934.563750000003\" y1=\"275.0\" y2=\"325.0\" stroke=\"black\" stroke-width=\"3\" /><line x1=\"11103.713242187503\" x2=\"11103.713242187503\" y1=\"125.0\" y2=\"325.0\" stroke=\"black\" stroke-width=\"3\" /><line x1=\"11258.903750000003\" x2=\"11258.903750000003\" y1=\"275.0\" y2=\"325.0\" stroke=\"black\" stroke-width=\"3\" /><line x1=\"11428.053242187503\" x2=\"11428.053242187503\" y1=\"225.0\" y2=\"325.0\" stroke=\"black\" stroke-width=\"3\" /><line x1=\"11588.295507812503\" x2=\"11588.295507812503\" y1=\"275.0\" y2=\"325.0\" stroke=\"black\" stroke-width=\"3\" /><line x1=\"11752.393242187503\" x2=\"11752.393242187503\" y1=\"175.0\" y2=\"325.0\" stroke=\"black\" stroke-width=\"3\" /><line x1=\"11916.490976562503\" x2=\"11916.490976562503\" y1=\"275.0\" y2=\"325.0\" stroke=\"black\" stroke-width=\"3\" /><line x1=\"12085.640468750003\" x2=\"12085.640468750003\" y1=\"225.0\" y2=\"325.0\" stroke=\"black\" stroke-width=\"3\" /><line x1=\"12254.789960937504\" x2=\"12254.789960937504\" y1=\"275.0\" y2=\"325.0\" stroke=\"black\" stroke-width=\"3\" /><line x1=\"12418.887695312504\" x2=\"12418.887695312504\" y1=\"75.0\" y2=\"325.0\" stroke=\"black\" stroke-width=\"3\" /><line x1=\"12588.037187500004\" x2=\"12588.037187500004\" y1=\"275.0\" y2=\"325.0\" stroke=\"black\" stroke-width=\"3\" /><line x1=\"12757.186679687504\" x2=\"12757.186679687504\" y1=\"225.0\" y2=\"325.0\" stroke=\"black\" stroke-width=\"3\" /><line x1=\"12921.284414062504\" x2=\"12921.284414062504\" y1=\"275.0\" y2=\"325.0\" stroke=\"black\" stroke-width=\"3\" /><line x1=\"13090.433906250004\" x2=\"13090.433906250004\" y1=\"175.0\" y2=\"325.0\" stroke=\"black\" stroke-width=\"3\" /><line x1=\"13254.531640625004\" x2=\"13254.531640625004\" y1=\"275.0\" y2=\"325.0\" stroke=\"black\" stroke-width=\"3\" /><line x1=\"13418.629375000004\" x2=\"13418.629375000004\" y1=\"225.0\" y2=\"325.0\" stroke=\"black\" stroke-width=\"3\" /><line x1=\"13582.727109375004\" x2=\"13582.727109375004\" y1=\"275.0\" y2=\"325.0\" stroke=\"black\" stroke-width=\"3\" /><line x1=\"13746.824843750004\" x2=\"13746.824843750004\" y1=\"125.0\" y2=\"325.0\" stroke=\"black\" stroke-width=\"3\" /><line x1=\"13915.974335937504\" x2=\"13915.974335937504\" y1=\"275.0\" y2=\"325.0\" stroke=\"black\" stroke-width=\"3\" /><line x1=\"14085.123828125004\" x2=\"14085.123828125004\" y1=\"225.0\" y2=\"325.0\" stroke=\"black\" stroke-width=\"3\" /><line x1=\"14254.273320312504\" x2=\"14254.273320312504\" y1=\"275.0\" y2=\"325.0\" stroke=\"black\" stroke-width=\"3\" /><line x1=\"14423.422812500005\" x2=\"14423.422812500005\" y1=\"175.0\" y2=\"325.0\" stroke=\"black\" stroke-width=\"3\" /><line x1=\"14592.572304687505\" x2=\"14592.572304687505\" y1=\"275.0\" y2=\"325.0\" stroke=\"black\" stroke-width=\"3\" /><line x1=\"14761.721796875005\" x2=\"14761.721796875005\" y1=\"225.0\" y2=\"325.0\" stroke=\"black\" stroke-width=\"3\" /><line x1=\"14930.871289062505\" x2=\"14930.871289062505\" y1=\"275.0\" y2=\"325.0\" stroke=\"black\" stroke-width=\"3\" /><line x1=\"15100.020781250005\" x2=\"15100.020781250005\" y1=\"25.0\" y2=\"325.0\" stroke=\"black\" stroke-width=\"3\" /><line x1=\"15269.170273437505\" x2=\"15269.170273437505\" y1=\"275.0\" y2=\"325.0\" stroke=\"black\" stroke-width=\"3\" /><line x1=\"15438.319765625005\" x2=\"15438.319765625005\" y1=\"225.0\" y2=\"325.0\" stroke=\"black\" stroke-width=\"3\" /><line x1=\"15602.417500000005\" x2=\"15602.417500000005\" y1=\"275.0\" y2=\"325.0\" stroke=\"black\" stroke-width=\"3\" /><line x1=\"15766.515234375005\" x2=\"15766.515234375005\" y1=\"175.0\" y2=\"325.0\" stroke=\"black\" stroke-width=\"3\" /><line x1=\"15930.612968750005\" x2=\"15930.612968750005\" y1=\"275.0\" y2=\"325.0\" stroke=\"black\" stroke-width=\"3\" /><line x1=\"16094.710703125005\" x2=\"16094.710703125005\" y1=\"225.0\" y2=\"325.0\" stroke=\"black\" stroke-width=\"3\" /><line x1=\"16258.808437500005\" x2=\"16258.808437500005\" y1=\"275.0\" y2=\"325.0\" stroke=\"black\" stroke-width=\"3\" /><line x1=\"16422.906171875005\" x2=\"16422.906171875005\" y1=\"125.0\" y2=\"325.0\" stroke=\"black\" stroke-width=\"3\" /><line x1=\"16547.403320312504\" x2=\"16547.403320312504\" y1=\"275.0\" y2=\"325.0\" stroke=\"black\" stroke-width=\"3\" /><line x1=\"16711.501054687502\" x2=\"16711.501054687502\" y1=\"225.0\" y2=\"325.0\" stroke=\"black\" stroke-width=\"3\" /><line x1=\"16880.650546875\" x2=\"16880.650546875\" y1=\"275.0\" y2=\"325.0\" stroke=\"black\" stroke-width=\"3\" /><line x1=\"17049.8000390625\" x2=\"17049.8000390625\" y1=\"175.0\" y2=\"325.0\" stroke=\"black\" stroke-width=\"3\" /><line x1=\"17213.897773437497\" x2=\"17213.897773437497\" y1=\"275.0\" y2=\"325.0\" stroke=\"black\" stroke-width=\"3\" /><line x1=\"17377.995507812495\" x2=\"17377.995507812495\" y1=\"225.0\" y2=\"325.0\" stroke=\"black\" stroke-width=\"3\" /><line x1=\"17542.093242187493\" x2=\"17542.093242187493\" y1=\"275.0\" y2=\"325.0\" stroke=\"black\" stroke-width=\"3\" /><line x1=\"17711.24273437499\" x2=\"17711.24273437499\" y1=\"75.0\" y2=\"325.0\" stroke=\"black\" stroke-width=\"3\" /><line x1=\"17880.39222656249\" x2=\"17880.39222656249\" y1=\"275.0\" y2=\"325.0\" stroke=\"black\" stroke-width=\"3\" /><line x1=\"18044.489960937488\" x2=\"18044.489960937488\" y1=\"225.0\" y2=\"325.0\" stroke=\"black\" stroke-width=\"3\" /><line x1=\"18208.587695312486\" x2=\"18208.587695312486\" y1=\"275.0\" y2=\"325.0\" stroke=\"black\" stroke-width=\"3\" /><line x1=\"18377.737187499984\" x2=\"18377.737187499984\" y1=\"175.0\" y2=\"325.0\" stroke=\"black\" stroke-width=\"3\" /><line x1=\"18541.834921874983\" x2=\"18541.834921874983\" y1=\"275.0\" y2=\"325.0\" stroke=\"black\" stroke-width=\"3\" /><line x1=\"18710.98441406248\" x2=\"18710.98441406248\" y1=\"225.0\" y2=\"325.0\" stroke=\"black\" stroke-width=\"3\" /><line x1=\"18880.13390624998\" x2=\"18880.13390624998\" y1=\"275.0\" y2=\"325.0\" stroke=\"black\" stroke-width=\"3\" /><line x1=\"19044.231640624977\" x2=\"19044.231640624977\" y1=\"125.0\" y2=\"325.0\" stroke=\"black\" stroke-width=\"3\" /><line x1=\"19213.381132812476\" x2=\"19213.381132812476\" y1=\"275.0\" y2=\"325.0\" stroke=\"black\" stroke-width=\"3\" /><line x1=\"19377.478867187474\" x2=\"19377.478867187474\" y1=\"225.0\" y2=\"325.0\" stroke=\"black\" stroke-width=\"3\" /><line x1=\"19541.576601562472\" x2=\"19541.576601562472\" y1=\"275.0\" y2=\"325.0\" stroke=\"black\" stroke-width=\"3\" /><line x1=\"19710.72609374997\" x2=\"19710.72609374997\" y1=\"175.0\" y2=\"325.0\" stroke=\"black\" stroke-width=\"3\" /><line x1=\"19879.87558593747\" x2=\"19879.87558593747\" y1=\"275.0\" y2=\"325.0\" stroke=\"black\" stroke-width=\"3\" /><line x1=\"20049.025078124967\" x2=\"20049.025078124967\" y1=\"225.0\" y2=\"325.0\" stroke=\"black\" stroke-width=\"3\" /><line x1=\"20218.174570312465\" x2=\"20218.174570312465\" y1=\"275.0\" y2=\"325.0\" stroke=\"black\" stroke-width=\"3\" /><line x1=\"20387.324062499963\" x2=\"20387.324062499963\" y1=\"25.0\" y2=\"325.0\" stroke=\"black\" stroke-width=\"3\" /><line x1=\"20447.324062499963\" x2=\"20447.324062499963\" y1=\"325.0\" y2=\"375.0\" stroke=\"black\" stroke-width=\"3\" /><line x1=\"20611.42179687496\" x2=\"20611.42179687496\" y1=\"275.0\" y2=\"375.0\" stroke=\"black\" stroke-width=\"3\" /><line x1=\"20780.57128906246\" x2=\"20780.57128906246\" y1=\"325.0\" y2=\"375.0\" stroke=\"black\" stroke-width=\"3\" /><line x1=\"20944.66902343746\" x2=\"20944.66902343746\" y1=\"225.0\" y2=\"375.0\" stroke=\"black\" stroke-width=\"3\" /><line x1=\"21113.818515624956\" x2=\"21113.818515624956\" y1=\"325.0\" y2=\"375.0\" stroke=\"black\" stroke-width=\"3\" /><line x1=\"21282.968007812455\" x2=\"21282.968007812455\" y1=\"275.0\" y2=\"375.0\" stroke=\"black\" stroke-width=\"3\" /><line x1=\"21452.117499999953\" x2=\"21452.117499999953\" y1=\"325.0\" y2=\"375.0\" stroke=\"black\" stroke-width=\"3\" /><line x1=\"21616.21523437495\" x2=\"21616.21523437495\" y1=\"175.0\" y2=\"375.0\" stroke=\"black\" stroke-width=\"3\" /><line x1=\"21776.45749999995\" x2=\"21776.45749999995\" y1=\"325.0\" y2=\"375.0\" stroke=\"black\" stroke-width=\"3\" /><line x1=\"21945.606992187448\" x2=\"21945.606992187448\" y1=\"275.0\" y2=\"375.0\" stroke=\"black\" stroke-width=\"3\" /><line x1=\"22114.756484374946\" x2=\"22114.756484374946\" y1=\"325.0\" y2=\"375.0\" stroke=\"black\" stroke-width=\"3\" /><line x1=\"22278.854218749944\" x2=\"22278.854218749944\" y1=\"225.0\" y2=\"375.0\" stroke=\"black\" stroke-width=\"3\" /><line x1=\"22434.044726562443\" x2=\"22434.044726562443\" y1=\"325.0\" y2=\"375.0\" stroke=\"black\" stroke-width=\"3\" /><line x1=\"22598.14246093744\" x2=\"22598.14246093744\" y1=\"275.0\" y2=\"375.0\" stroke=\"black\" stroke-width=\"3\" /><line x1=\"22762.24019531244\" x2=\"22762.24019531244\" y1=\"325.0\" y2=\"375.0\" stroke=\"black\" stroke-width=\"3\" /><line x1=\"22931.389687499937\" x2=\"22931.389687499937\" y1=\"125.0\" y2=\"375.0\" stroke=\"black\" stroke-width=\"3\" /><line x1=\"23095.487421874936\" x2=\"23095.487421874936\" y1=\"325.0\" y2=\"375.0\" stroke=\"black\" stroke-width=\"3\" /><line x1=\"23264.636914062434\" x2=\"23264.636914062434\" y1=\"275.0\" y2=\"375.0\" stroke=\"black\" stroke-width=\"3\" /><line x1=\"23428.734648437432\" x2=\"23428.734648437432\" y1=\"325.0\" y2=\"375.0\" stroke=\"black\" stroke-width=\"3\" /><line x1=\"23597.88414062493\" x2=\"23597.88414062493\" y1=\"225.0\" y2=\"375.0\" stroke=\"black\" stroke-width=\"3\" /><line x1=\"23767.03363281243\" x2=\"23767.03363281243\" y1=\"325.0\" y2=\"375.0\" stroke=\"black\" stroke-width=\"3\" /><line x1=\"23931.131367187427\" x2=\"23931.131367187427\" y1=\"275.0\" y2=\"375.0\" stroke=\"black\" stroke-width=\"3\" /><line x1=\"24100.280859374925\" x2=\"24100.280859374925\" y1=\"325.0\" y2=\"375.0\" stroke=\"black\" stroke-width=\"3\" /><line x1=\"24264.378593749923\" x2=\"24264.378593749923\" y1=\"175.0\" y2=\"375.0\" stroke=\"black\" stroke-width=\"3\" /><line x1=\"24428.47632812492\" x2=\"24428.47632812492\" y1=\"325.0\" y2=\"375.0\" stroke=\"black\" stroke-width=\"3\" /><line x1=\"24592.57406249992\" x2=\"24592.57406249992\" y1=\"275.0\" y2=\"375.0\" stroke=\"black\" stroke-width=\"3\" /><line x1=\"24761.723554687418\" x2=\"24761.723554687418\" y1=\"325.0\" y2=\"375.0\" stroke=\"black\" stroke-width=\"3\" /><line x1=\"24930.873046874916\" x2=\"24930.873046874916\" y1=\"225.0\" y2=\"375.0\" stroke=\"black\" stroke-width=\"3\" /><line x1=\"25100.022539062415\" x2=\"25100.022539062415\" y1=\"325.0\" y2=\"375.0\" stroke=\"black\" stroke-width=\"3\" /><line x1=\"25269.172031249913\" x2=\"25269.172031249913\" y1=\"275.0\" y2=\"375.0\" stroke=\"black\" stroke-width=\"3\" /><line x1=\"25433.26976562491\" x2=\"25433.26976562491\" y1=\"325.0\" y2=\"375.0\" stroke=\"black\" stroke-width=\"3\" /><line x1=\"25597.36749999991\" x2=\"25597.36749999991\" y1=\"75.0\" y2=\"375.0\" stroke=\"black\" stroke-width=\"3\" /><line x1=\"25766.516992187408\" x2=\"25766.516992187408\" y1=\"325.0\" y2=\"375.0\" stroke=\"black\" stroke-width=\"3\" /><line x1=\"25930.614726562406\" x2=\"25930.614726562406\" y1=\"275.0\" y2=\"375.0\" stroke=\"black\" stroke-width=\"3\" /><line x1=\"26094.712460937404\" x2=\"26094.712460937404\" y1=\"325.0\" y2=\"375.0\" stroke=\"black\" stroke-width=\"3\" /><line x1=\"26263.861953124902\" x2=\"26263.861953124902\" y1=\"225.0\" y2=\"375.0\" stroke=\"black\" stroke-width=\"3\" /><line x1=\"26427.9596874999\" x2=\"26427.9596874999\" y1=\"325.0\" y2=\"375.0\" stroke=\"black\" stroke-width=\"3\" /><line x1=\"26592.0574218749\" x2=\"26592.0574218749\" y1=\"275.0\" y2=\"375.0\" stroke=\"black\" stroke-width=\"3\" /><line x1=\"26747.247929687397\" x2=\"26747.247929687397\" y1=\"325.0\" y2=\"375.0\" stroke=\"black\" stroke-width=\"3\" /><line x1=\"26916.397421874895\" x2=\"26916.397421874895\" y1=\"175.0\" y2=\"375.0\" stroke=\"black\" stroke-width=\"3\" /><line x1=\"27080.495156249894\" x2=\"27080.495156249894\" y1=\"325.0\" y2=\"375.0\" stroke=\"black\" stroke-width=\"3\" /><line x1=\"27249.644648437392\" x2=\"27249.644648437392\" y1=\"275.0\" y2=\"375.0\" stroke=\"black\" stroke-width=\"3\" /><line x1=\"27418.79414062489\" x2=\"27418.79414062489\" y1=\"325.0\" y2=\"375.0\" stroke=\"black\" stroke-width=\"3\" /><line x1=\"27587.94363281239\" x2=\"27587.94363281239\" y1=\"225.0\" y2=\"375.0\" stroke=\"black\" stroke-width=\"3\" /><line x1=\"27752.041367187387\" x2=\"27752.041367187387\" y1=\"325.0\" y2=\"375.0\" stroke=\"black\" stroke-width=\"3\" /><line x1=\"27921.190859374885\" x2=\"27921.190859374885\" y1=\"275.0\" y2=\"375.0\" stroke=\"black\" stroke-width=\"3\" /><line x1=\"28090.340351562383\" x2=\"28090.340351562383\" y1=\"325.0\" y2=\"375.0\" stroke=\"black\" stroke-width=\"3\" /><line x1=\"28254.43808593738\" x2=\"28254.43808593738\" y1=\"125.0\" y2=\"375.0\" stroke=\"black\" stroke-width=\"3\" /><line x1=\"28423.58757812488\" x2=\"28423.58757812488\" y1=\"325.0\" y2=\"375.0\" stroke=\"black\" stroke-width=\"3\" /><line x1=\"28578.778085937378\" x2=\"28578.778085937378\" y1=\"275.0\" y2=\"375.0\" stroke=\"black\" stroke-width=\"3\" /><line x1=\"28742.875820312376\" x2=\"28742.875820312376\" y1=\"325.0\" y2=\"375.0\" stroke=\"black\" stroke-width=\"3\" /><line x1=\"28912.025312499874\" x2=\"28912.025312499874\" y1=\"225.0\" y2=\"375.0\" stroke=\"black\" stroke-width=\"3\" /><line x1=\"29076.123046874873\" x2=\"29076.123046874873\" y1=\"325.0\" y2=\"375.0\" stroke=\"black\" stroke-width=\"3\" /><line x1=\"29240.22078124987\" x2=\"29240.22078124987\" y1=\"275.0\" y2=\"375.0\" stroke=\"black\" stroke-width=\"3\" /><line x1=\"29404.31851562487\" x2=\"29404.31851562487\" y1=\"325.0\" y2=\"375.0\" stroke=\"black\" stroke-width=\"3\" /><line x1=\"29573.468007812367\" x2=\"29573.468007812367\" y1=\"175.0\" y2=\"375.0\" stroke=\"black\" stroke-width=\"3\" /><line x1=\"29742.617499999866\" x2=\"29742.617499999866\" y1=\"325.0\" y2=\"375.0\" stroke=\"black\" stroke-width=\"3\" /><line x1=\"29911.766992187364\" x2=\"29911.766992187364\" y1=\"275.0\" y2=\"375.0\" stroke=\"black\" stroke-width=\"3\" /><line x1=\"30075.864726562362\" x2=\"30075.864726562362\" y1=\"325.0\" y2=\"375.0\" stroke=\"black\" stroke-width=\"3\" /><line x1=\"30239.96246093736\" x2=\"30239.96246093736\" y1=\"225.0\" y2=\"375.0\" stroke=\"black\" stroke-width=\"3\" /><line x1=\"30409.11195312486\" x2=\"30409.11195312486\" y1=\"325.0\" y2=\"375.0\" stroke=\"black\" stroke-width=\"3\" /><line x1=\"30564.302460937357\" x2=\"30564.302460937357\" y1=\"275.0\" y2=\"375.0\" stroke=\"black\" stroke-width=\"3\" /><line x1=\"30719.492968749855\" x2=\"30719.492968749855\" y1=\"325.0\" y2=\"375.0\" stroke=\"black\" stroke-width=\"3\" /><line x1=\"30888.642460937353\" x2=\"30888.642460937353\" y1=\"25.0\" y2=\"375.0\" stroke=\"black\" stroke-width=\"3\" /><line x1=\"31057.79195312485\" x2=\"31057.79195312485\" y1=\"325.0\" y2=\"375.0\" stroke=\"black\" stroke-width=\"3\" /><line x1=\"31226.94144531235\" x2=\"31226.94144531235\" y1=\"275.0\" y2=\"375.0\" stroke=\"black\" stroke-width=\"3\" /><line x1=\"31396.09093749985\" x2=\"31396.09093749985\" y1=\"325.0\" y2=\"375.0\" stroke=\"black\" stroke-width=\"3\" /><line x1=\"31565.240429687346\" x2=\"31565.240429687346\" y1=\"225.0\" y2=\"375.0\" stroke=\"black\" stroke-width=\"3\" /><line x1=\"31729.338164062345\" x2=\"31729.338164062345\" y1=\"325.0\" y2=\"375.0\" stroke=\"black\" stroke-width=\"3\" /><line x1=\"31893.435898437343\" x2=\"31893.435898437343\" y1=\"275.0\" y2=\"375.0\" stroke=\"black\" stroke-width=\"3\" /><line x1=\"32057.53363281234\" x2=\"32057.53363281234\" y1=\"325.0\" y2=\"375.0\" stroke=\"black\" stroke-width=\"3\" /><line x1=\"32221.63136718734\" x2=\"32221.63136718734\" y1=\"175.0\" y2=\"375.0\" stroke=\"black\" stroke-width=\"3\" /><line x1=\"32376.821874999838\" x2=\"32376.821874999838\" y1=\"325.0\" y2=\"375.0\" stroke=\"black\" stroke-width=\"3\" /><line x1=\"32545.971367187336\" x2=\"32545.971367187336\" y1=\"275.0\" y2=\"375.0\" stroke=\"black\" stroke-width=\"3\" /><line x1=\"32706.213632812334\" x2=\"32706.213632812334\" y1=\"325.0\" y2=\"375.0\" stroke=\"black\" stroke-width=\"3\" /><line x1=\"32870.311367187336\" x2=\"32870.311367187336\" y1=\"225.0\" y2=\"375.0\" stroke=\"black\" stroke-width=\"3\" /><line x1=\"33034.409101562334\" x2=\"33034.409101562334\" y1=\"325.0\" y2=\"375.0\" stroke=\"black\" stroke-width=\"3\" /><line x1=\"33203.55859374983\" x2=\"33203.55859374983\" y1=\"275.0\" y2=\"375.0\" stroke=\"black\" stroke-width=\"3\" /><line x1=\"33372.70808593733\" x2=\"33372.70808593733\" y1=\"325.0\" y2=\"375.0\" stroke=\"black\" stroke-width=\"3\" /><line x1=\"33536.80582031233\" x2=\"33536.80582031233\" y1=\"125.0\" y2=\"375.0\" stroke=\"black\" stroke-width=\"3\" /><line x1=\"33705.95531249983\" x2=\"33705.95531249983\" y1=\"325.0\" y2=\"375.0\" stroke=\"black\" stroke-width=\"3\" /><line x1=\"33870.053046874826\" x2=\"33870.053046874826\" y1=\"275.0\" y2=\"375.0\" stroke=\"black\" stroke-width=\"3\" /><line x1=\"34034.150781249824\" x2=\"34034.150781249824\" y1=\"325.0\" y2=\"375.0\" stroke=\"black\" stroke-width=\"3\" /><line x1=\"34198.24851562482\" x2=\"34198.24851562482\" y1=\"225.0\" y2=\"375.0\" stroke=\"black\" stroke-width=\"3\" /><line x1=\"34367.39800781232\" x2=\"34367.39800781232\" y1=\"325.0\" y2=\"375.0\" stroke=\"black\" stroke-width=\"3\" /><line x1=\"34536.54749999982\" x2=\"34536.54749999982\" y1=\"275.0\" y2=\"375.0\" stroke=\"black\" stroke-width=\"3\" /><line x1=\"34700.64523437482\" x2=\"34700.64523437482\" y1=\"325.0\" y2=\"375.0\" stroke=\"black\" stroke-width=\"3\" /><line x1=\"34869.794726562315\" x2=\"34869.794726562315\" y1=\"175.0\" y2=\"375.0\" stroke=\"black\" stroke-width=\"3\" /><line x1=\"35038.94421874981\" x2=\"35038.94421874981\" y1=\"325.0\" y2=\"375.0\" stroke=\"black\" stroke-width=\"3\" /><line x1=\"35208.09371093731\" x2=\"35208.09371093731\" y1=\"275.0\" y2=\"375.0\" stroke=\"black\" stroke-width=\"3\" /><line x1=\"35372.19144531231\" x2=\"35372.19144531231\" y1=\"325.0\" y2=\"375.0\" stroke=\"black\" stroke-width=\"3\" /><line x1=\"35536.28917968731\" x2=\"35536.28917968731\" y1=\"225.0\" y2=\"375.0\" stroke=\"black\" stroke-width=\"3\" /><line x1=\"35700.38691406231\" x2=\"35700.38691406231\" y1=\"325.0\" y2=\"375.0\" stroke=\"black\" stroke-width=\"3\" /><line x1=\"35864.484648437305\" x2=\"35864.484648437305\" y1=\"275.0\" y2=\"375.0\" stroke=\"black\" stroke-width=\"3\" /><line x1=\"36033.6341406248\" x2=\"36033.6341406248\" y1=\"325.0\" y2=\"375.0\" stroke=\"black\" stroke-width=\"3\" /><line x1=\"36202.7836328123\" x2=\"36202.7836328123\" y1=\"75.0\" y2=\"375.0\" stroke=\"black\" stroke-width=\"3\" /><line x1=\"36371.9331249998\" x2=\"36371.9331249998\" y1=\"325.0\" y2=\"375.0\" stroke=\"black\" stroke-width=\"3\" /><line x1=\"36541.0826171873\" x2=\"36541.0826171873\" y1=\"275.0\" y2=\"375.0\" stroke=\"black\" stroke-width=\"3\" /><line x1=\"36705.180351562296\" x2=\"36705.180351562296\" y1=\"325.0\" y2=\"375.0\" stroke=\"black\" stroke-width=\"3\" /><line x1=\"36869.278085937294\" x2=\"36869.278085937294\" y1=\"225.0\" y2=\"375.0\" stroke=\"black\" stroke-width=\"3\" /><line x1=\"37033.37582031229\" x2=\"37033.37582031229\" y1=\"325.0\" y2=\"375.0\" stroke=\"black\" stroke-width=\"3\" /><line x1=\"37197.47355468729\" x2=\"37197.47355468729\" y1=\"275.0\" y2=\"375.0\" stroke=\"black\" stroke-width=\"3\" /><line x1=\"37366.62304687479\" x2=\"37366.62304687479\" y1=\"325.0\" y2=\"375.0\" stroke=\"black\" stroke-width=\"3\" /><line x1=\"37535.77253906229\" x2=\"37535.77253906229\" y1=\"175.0\" y2=\"375.0\" stroke=\"black\" stroke-width=\"3\" /><line x1=\"37699.870273437286\" x2=\"37699.870273437286\" y1=\"325.0\" y2=\"375.0\" stroke=\"black\" stroke-width=\"3\" /><line x1=\"37863.968007812284\" x2=\"37863.968007812284\" y1=\"275.0\" y2=\"375.0\" stroke=\"black\" stroke-width=\"3\" /><line x1=\"38033.11749999978\" x2=\"38033.11749999978\" y1=\"325.0\" y2=\"375.0\" stroke=\"black\" stroke-width=\"3\" /><line x1=\"38202.26699218728\" x2=\"38202.26699218728\" y1=\"225.0\" y2=\"375.0\" stroke=\"black\" stroke-width=\"3\" /><line x1=\"38371.41648437478\" x2=\"38371.41648437478\" y1=\"325.0\" y2=\"375.0\" stroke=\"black\" stroke-width=\"3\" /><line x1=\"38540.56597656228\" x2=\"38540.56597656228\" y1=\"275.0\" y2=\"375.0\" stroke=\"black\" stroke-width=\"3\" /><line x1=\"38704.663710937275\" x2=\"38704.663710937275\" y1=\"325.0\" y2=\"375.0\" stroke=\"black\" stroke-width=\"3\" /><line x1=\"38868.76144531227\" x2=\"38868.76144531227\" y1=\"125.0\" y2=\"375.0\" stroke=\"black\" stroke-width=\"3\" /><line x1=\"39029.00371093727\" x2=\"39029.00371093727\" y1=\"325.0\" y2=\"375.0\" stroke=\"black\" stroke-width=\"3\" /><line x1=\"39198.15320312477\" x2=\"39198.15320312477\" y1=\"275.0\" y2=\"375.0\" stroke=\"black\" stroke-width=\"3\" /><line x1=\"39362.25093749977\" x2=\"39362.25093749977\" y1=\"325.0\" y2=\"375.0\" stroke=\"black\" stroke-width=\"3\" /><line x1=\"39526.348671874766\" x2=\"39526.348671874766\" y1=\"225.0\" y2=\"375.0\" stroke=\"black\" stroke-width=\"3\" /><line x1=\"39681.539179687265\" x2=\"39681.539179687265\" y1=\"325.0\" y2=\"375.0\" stroke=\"black\" stroke-width=\"3\" /><line x1=\"39845.63691406226\" x2=\"39845.63691406226\" y1=\"275.0\" y2=\"375.0\" stroke=\"black\" stroke-width=\"3\" /><line x1=\"40014.78640624976\" x2=\"40014.78640624976\" y1=\"325.0\" y2=\"375.0\" stroke=\"black\" stroke-width=\"3\" /><line x1=\"40183.93589843726\" x2=\"40183.93589843726\" y1=\"175.0\" y2=\"375.0\" stroke=\"black\" stroke-width=\"3\" /><line x1=\"40353.08539062476\" x2=\"40353.08539062476\" y1=\"325.0\" y2=\"375.0\" stroke=\"black\" stroke-width=\"3\" /><line x1=\"40508.275898437256\" x2=\"40508.275898437256\" y1=\"275.0\" y2=\"375.0\" stroke=\"black\" stroke-width=\"3\" /><line x1=\"40672.373632812254\" x2=\"40672.373632812254\" y1=\"325.0\" y2=\"375.0\" stroke=\"black\" stroke-width=\"3\" /><line x1=\"40841.52312499975\" x2=\"40841.52312499975\" y1=\"225.0\" y2=\"375.0\" stroke=\"black\" stroke-width=\"3\" /><line x1=\"41010.67261718725\" x2=\"41010.67261718725\" y1=\"325.0\" y2=\"375.0\" stroke=\"black\" stroke-width=\"3\" /><line x1=\"41174.77035156225\" x2=\"41174.77035156225\" y1=\"275.0\" y2=\"375.0\" stroke=\"black\" stroke-width=\"3\" /><line x1=\"41338.86808593725\" x2=\"41338.86808593725\" y1=\"325.0\" y2=\"375.0\" stroke=\"black\" stroke-width=\"3\" /><line x1=\"41499.110351562245\" x2=\"41499.110351562245\" y1=\"25.0\" y2=\"375.0\" stroke=\"black\" stroke-width=\"3\" /><rect x=\"10.0\" y=\"5.0\" width=\"49.517734375\" height=\"40\" stroke=\"black\" fill=\"white\" stroke-width=\"0\" /><text x=\"34.7588671875\" y=\"25.0\" dominant-baseline=\"middle\" text-anchor=\"middle\" font-size=\"14px\" font-family=\"Arial\">(0, 0): </text><rect x=\"10.0\" y=\"55.0\" width=\"49.517734375\" height=\"40\" stroke=\"black\" fill=\"white\" stroke-width=\"0\" /><text x=\"34.7588671875\" y=\"75.0\" dominant-baseline=\"middle\" text-anchor=\"middle\" font-size=\"14px\" font-family=\"Arial\">(0, 1): </text><rect x=\"10.0\" y=\"105.0\" width=\"49.517734375\" height=\"40\" stroke=\"black\" fill=\"white\" stroke-width=\"0\" /><text x=\"34.7588671875\" y=\"125.0\" dominant-baseline=\"middle\" text-anchor=\"middle\" font-size=\"14px\" font-family=\"Arial\">(1, 0): </text><rect x=\"10.0\" y=\"155.0\" width=\"49.517734375\" height=\"40\" stroke=\"black\" fill=\"white\" stroke-width=\"0\" /><text x=\"34.7588671875\" y=\"175.0\" dominant-baseline=\"middle\" text-anchor=\"middle\" font-size=\"14px\" font-family=\"Arial\">(1, 1): </text><rect x=\"10.0\" y=\"205.0\" width=\"49.517734375\" height=\"40\" stroke=\"black\" fill=\"white\" stroke-width=\"0\" /><text x=\"34.7588671875\" y=\"225.0\" dominant-baseline=\"middle\" text-anchor=\"middle\" font-size=\"14px\" font-family=\"Arial\">(2, 0): </text><rect x=\"10.0\" y=\"255.0\" width=\"49.517734375\" height=\"40\" stroke=\"black\" fill=\"white\" stroke-width=\"0\" /><text x=\"34.7588671875\" y=\"275.0\" dominant-baseline=\"middle\" text-anchor=\"middle\" font-size=\"14px\" font-family=\"Arial\">(2, 1): </text><rect x=\"10.0\" y=\"305.0\" width=\"49.517734375\" height=\"40\" stroke=\"black\" fill=\"white\" stroke-width=\"0\" /><text x=\"34.7588671875\" y=\"325.0\" dominant-baseline=\"middle\" text-anchor=\"middle\" font-size=\"14px\" font-family=\"Arial\">(3, 0): </text><rect x=\"10.0\" y=\"355.0\" width=\"49.517734375\" height=\"40\" stroke=\"black\" fill=\"white\" stroke-width=\"0\" /><text x=\"34.7588671875\" y=\"375.0\" dominant-baseline=\"middle\" text-anchor=\"middle\" font-size=\"14px\" font-family=\"Arial\">(3, 1): </text><rect x=\"79.517734375\" y=\"5.0\" width=\"84.097734375\" height=\"40\" stroke=\"black\" fill=\"white\" stroke-width=\"1\" /><text x=\"121.56660156250001\" y=\"25.0\" dominant-baseline=\"middle\" text-anchor=\"middle\" font-size=\"14px\" font-family=\"Arial\">Ry(0.511π)</text><rect x=\"79.517734375\" y=\"55.0\" width=\"84.097734375\" height=\"40\" stroke=\"black\" fill=\"white\" stroke-width=\"1\" /><text x=\"121.56660156250001\" y=\"75.0\" dominant-baseline=\"middle\" text-anchor=\"middle\" font-size=\"14px\" font-family=\"Arial\">Ry(0.561π)</text><rect x=\"79.517734375\" y=\"105.0\" width=\"84.097734375\" height=\"40\" stroke=\"black\" fill=\"white\" stroke-width=\"1\" /><text x=\"121.56660156250001\" y=\"125.0\" dominant-baseline=\"middle\" text-anchor=\"middle\" font-size=\"14px\" font-family=\"Arial\">Ry(0.467π)</text><rect x=\"79.517734375\" y=\"155.0\" width=\"84.097734375\" height=\"40\" stroke=\"black\" fill=\"white\" stroke-width=\"1\" /><text x=\"121.56660156250001\" y=\"175.0\" dominant-baseline=\"middle\" text-anchor=\"middle\" font-size=\"14px\" font-family=\"Arial\">Ry(0.408π)</text><rect x=\"79.517734375\" y=\"205.0\" width=\"84.097734375\" height=\"40\" stroke=\"black\" fill=\"white\" stroke-width=\"1\" /><text x=\"121.56660156250001\" y=\"225.0\" dominant-baseline=\"middle\" text-anchor=\"middle\" font-size=\"14px\" font-family=\"Arial\">Ry(0.476π)</text><rect x=\"79.517734375\" y=\"255.0\" width=\"84.097734375\" height=\"40\" stroke=\"black\" fill=\"white\" stroke-width=\"1\" /><text x=\"121.56660156250001\" y=\"275.0\" dominant-baseline=\"middle\" text-anchor=\"middle\" font-size=\"14px\" font-family=\"Arial\">Ry(0.303π)</text><rect x=\"79.517734375\" y=\"305.0\" width=\"84.097734375\" height=\"40\" stroke=\"black\" fill=\"white\" stroke-width=\"1\" /><text x=\"121.56660156250001\" y=\"325.0\" dominant-baseline=\"middle\" text-anchor=\"middle\" font-size=\"14px\" font-family=\"Arial\">Ry(0.243π)</text><rect x=\"79.517734375\" y=\"355.0\" width=\"84.097734375\" height=\"40\" stroke=\"black\" fill=\"white\" stroke-width=\"1\" /><text x=\"121.56660156250001\" y=\"375.0\" dominant-baseline=\"middle\" text-anchor=\"middle\" font-size=\"14px\" font-family=\"Arial\">Ry(0.202π)</text><circle cx=\"203.61546875\" cy=\"25.0\" r=\"10.0\" /><rect x=\"183.61546875\" y=\"55.0\" width=\"40\" height=\"40\" stroke=\"black\" fill=\"white\" stroke-width=\"1\" /><text x=\"203.61546875\" y=\"75.0\" dominant-baseline=\"middle\" text-anchor=\"middle\" font-size=\"18px\" font-family=\"Arial\">X</text><rect x=\"243.61546874999996\" y=\"55.0\" width=\"84.097734375\" height=\"40\" stroke=\"black\" fill=\"white\" stroke-width=\"1\" /><text x=\"285.66433593749997\" y=\"75.0\" dominant-baseline=\"middle\" text-anchor=\"middle\" font-size=\"14px\" font-family=\"Arial\">Ry(0.093π)</text><circle cx=\"367.713203125\" cy=\"25.0\" r=\"10.0\" /><rect x=\"347.713203125\" y=\"55.0\" width=\"40\" height=\"40\" stroke=\"black\" fill=\"white\" stroke-width=\"1\" /><text x=\"367.713203125\" y=\"75.0\" dominant-baseline=\"middle\" text-anchor=\"middle\" font-size=\"18px\" font-family=\"Arial\">X</text><circle cx=\"427.713203125\" cy=\"75.0\" r=\"10.0\" /><rect x=\"407.713203125\" y=\"105.0\" width=\"40\" height=\"40\" stroke=\"black\" fill=\"white\" stroke-width=\"1\" /><text x=\"427.713203125\" y=\"125.0\" dominant-baseline=\"middle\" text-anchor=\"middle\" font-size=\"18px\" font-family=\"Arial\">X</text><rect x=\"467.713203125\" y=\"105.0\" width=\"84.097734375\" height=\"40\" stroke=\"black\" fill=\"white\" stroke-width=\"1\" /><text x=\"509.7620703125\" y=\"125.0\" dominant-baseline=\"middle\" text-anchor=\"middle\" font-size=\"14px\" font-family=\"Arial\">Ry(0.232π)</text><circle cx=\"591.8109375\" cy=\"25.0\" r=\"10.0\" /><rect x=\"571.8109375\" y=\"105.0\" width=\"40\" height=\"40\" stroke=\"black\" fill=\"white\" stroke-width=\"1\" /><text x=\"591.8109375\" y=\"125.0\" dominant-baseline=\"middle\" text-anchor=\"middle\" font-size=\"18px\" font-family=\"Arial\">X</text><rect x=\"631.8109375\" y=\"105.0\" width=\"84.097734375\" height=\"40\" stroke=\"black\" fill=\"white\" stroke-width=\"1\" /><text x=\"673.8598046875001\" y=\"125.0\" dominant-baseline=\"middle\" text-anchor=\"middle\" font-size=\"14px\" font-family=\"Arial\">Ry(0.049π)</text><circle cx=\"755.908671875\" cy=\"75.0\" r=\"10.0\" /><rect x=\"735.908671875\" y=\"105.0\" width=\"40\" height=\"40\" stroke=\"black\" fill=\"white\" stroke-width=\"1\" /><text x=\"755.908671875\" y=\"125.0\" dominant-baseline=\"middle\" text-anchor=\"middle\" font-size=\"18px\" font-family=\"Arial\">X</text><rect x=\"795.908671875\" y=\"105.0\" width=\"84.097734375\" height=\"40\" stroke=\"black\" fill=\"white\" stroke-width=\"1\" /><text x=\"837.9575390625\" y=\"125.0\" dominant-baseline=\"middle\" text-anchor=\"middle\" font-size=\"14px\" font-family=\"Arial\">Ry(0.252π)</text><circle cx=\"920.0064062499999\" cy=\"25.0\" r=\"10.0\" /><rect x=\"900.0064062499999\" y=\"105.0\" width=\"40\" height=\"40\" stroke=\"black\" fill=\"white\" stroke-width=\"1\" /><text x=\"920.0064062499999\" y=\"125.0\" dominant-baseline=\"middle\" text-anchor=\"middle\" font-size=\"18px\" font-family=\"Arial\">X</text><circle cx=\"980.0064062499999\" cy=\"125.0\" r=\"10.0\" /><rect x=\"960.0064062499999\" y=\"155.0\" width=\"40\" height=\"40\" stroke=\"black\" fill=\"white\" stroke-width=\"1\" /><text x=\"980.0064062499999\" y=\"175.0\" dominant-baseline=\"middle\" text-anchor=\"middle\" font-size=\"18px\" font-family=\"Arial\">X</text><rect x=\"1020.0064062499998\" y=\"155.0\" width=\"80.242265625\" height=\"40\" stroke=\"black\" fill=\"white\" stroke-width=\"1\" /><text x=\"1060.1275390624999\" y=\"175.0\" dominant-baseline=\"middle\" text-anchor=\"middle\" font-size=\"14px\" font-family=\"Arial\">Ry(-0.14π)</text><circle cx=\"1140.248671875\" cy=\"75.0\" r=\"10.0\" /><rect x=\"1120.248671875\" y=\"155.0\" width=\"40\" height=\"40\" stroke=\"black\" fill=\"white\" stroke-width=\"1\" /><text x=\"1140.248671875\" y=\"175.0\" dominant-baseline=\"middle\" text-anchor=\"middle\" font-size=\"18px\" font-family=\"Arial\">X</text><rect x=\"1180.248671875\" y=\"155.0\" width=\"89.1494921875\" height=\"40\" stroke=\"black\" fill=\"white\" stroke-width=\"1\" /><text x=\"1224.82341796875\" y=\"175.0\" dominant-baseline=\"middle\" text-anchor=\"middle\" font-size=\"14px\" font-family=\"Arial\">Ry(-0.189π)</text><circle cx=\"1309.3981640625\" cy=\"125.0\" r=\"10.0\" /><rect x=\"1289.3981640625\" y=\"155.0\" width=\"40\" height=\"40\" stroke=\"black\" fill=\"white\" stroke-width=\"1\" /><text x=\"1309.3981640625\" y=\"175.0\" dominant-baseline=\"middle\" text-anchor=\"middle\" font-size=\"18px\" font-family=\"Arial\">X</text><rect x=\"1349.3981640625\" y=\"155.0\" width=\"84.097734375\" height=\"40\" stroke=\"black\" fill=\"white\" stroke-width=\"1\" /><text x=\"1391.44703125\" y=\"175.0\" dominant-baseline=\"middle\" text-anchor=\"middle\" font-size=\"14px\" font-family=\"Arial\">Ry(0.072π)</text><circle cx=\"1473.4958984375\" cy=\"25.0\" r=\"10.0\" /><rect x=\"1453.4958984375\" y=\"155.0\" width=\"40\" height=\"40\" stroke=\"black\" fill=\"white\" stroke-width=\"1\" /><text x=\"1473.4958984375\" y=\"175.0\" dominant-baseline=\"middle\" text-anchor=\"middle\" font-size=\"18px\" font-family=\"Arial\">X</text><rect x=\"1513.4958984375\" y=\"155.0\" width=\"89.1494921875\" height=\"40\" stroke=\"black\" fill=\"white\" stroke-width=\"1\" /><text x=\"1558.07064453125\" y=\"175.0\" dominant-baseline=\"middle\" text-anchor=\"middle\" font-size=\"14px\" font-family=\"Arial\">Ry(-0.046π)</text><circle cx=\"1642.6453906250001\" cy=\"125.0\" r=\"10.0\" /><rect x=\"1622.6453906250001\" y=\"155.0\" width=\"40\" height=\"40\" stroke=\"black\" fill=\"white\" stroke-width=\"1\" /><text x=\"1642.6453906250001\" y=\"175.0\" dominant-baseline=\"middle\" text-anchor=\"middle\" font-size=\"18px\" font-family=\"Arial\">X</text><rect x=\"1682.6453906250001\" y=\"155.0\" width=\"84.097734375\" height=\"40\" stroke=\"black\" fill=\"white\" stroke-width=\"1\" /><text x=\"1724.6942578125002\" y=\"175.0\" dominant-baseline=\"middle\" text-anchor=\"middle\" font-size=\"14px\" font-family=\"Arial\">Ry(0.002π)</text><circle cx=\"1806.7431250000002\" cy=\"75.0\" r=\"10.0\" /><rect x=\"1786.7431250000002\" y=\"155.0\" width=\"40\" height=\"40\" stroke=\"black\" fill=\"white\" stroke-width=\"1\" /><text x=\"1806.7431250000002\" y=\"175.0\" dominant-baseline=\"middle\" text-anchor=\"middle\" font-size=\"18px\" font-family=\"Arial\">X</text><rect x=\"1846.7431250000002\" y=\"155.0\" width=\"89.1494921875\" height=\"40\" stroke=\"black\" fill=\"white\" stroke-width=\"1\" /><text x=\"1891.3178710937502\" y=\"175.0\" dominant-baseline=\"middle\" text-anchor=\"middle\" font-size=\"14px\" font-family=\"Arial\">Ry(-0.173π)</text><circle cx=\"1975.8926171875003\" cy=\"125.0\" r=\"10.0\" /><rect x=\"1955.8926171875003\" y=\"155.0\" width=\"40\" height=\"40\" stroke=\"black\" fill=\"white\" stroke-width=\"1\" /><text x=\"1975.8926171875003\" y=\"175.0\" dominant-baseline=\"middle\" text-anchor=\"middle\" font-size=\"18px\" font-family=\"Arial\">X</text><rect x=\"2015.8926171875\" y=\"155.0\" width=\"84.097734375\" height=\"40\" stroke=\"black\" fill=\"white\" stroke-width=\"1\" /><text x=\"2057.941484375\" y=\"175.0\" dominant-baseline=\"middle\" text-anchor=\"middle\" font-size=\"14px\" font-family=\"Arial\">Ry(0.066π)</text><circle cx=\"2139.9903515625\" cy=\"25.0\" r=\"10.0\" /><rect x=\"2119.9903515625\" y=\"155.0\" width=\"40\" height=\"40\" stroke=\"black\" fill=\"white\" stroke-width=\"1\" /><text x=\"2139.9903515625\" y=\"175.0\" dominant-baseline=\"middle\" text-anchor=\"middle\" font-size=\"18px\" font-family=\"Arial\">X</text><circle cx=\"2199.9903515625\" cy=\"175.0\" r=\"10.0\" /><rect x=\"2179.9903515625\" y=\"205.0\" width=\"40\" height=\"40\" stroke=\"black\" fill=\"white\" stroke-width=\"1\" /><text x=\"2199.9903515625\" y=\"225.0\" dominant-baseline=\"middle\" text-anchor=\"middle\" font-size=\"18px\" font-family=\"Arial\">X</text><rect x=\"2239.9903515625\" y=\"205.0\" width=\"89.1494921875\" height=\"40\" stroke=\"black\" fill=\"white\" stroke-width=\"1\" /><text x=\"2284.56509765625\" y=\"225.0\" dominant-baseline=\"middle\" text-anchor=\"middle\" font-size=\"14px\" font-family=\"Arial\">Ry(-0.042π)</text><circle cx=\"2369.13984375\" cy=\"125.0\" r=\"10.0\" /><rect x=\"2349.13984375\" y=\"205.0\" width=\"40\" height=\"40\" stroke=\"black\" fill=\"white\" stroke-width=\"1\" /><text x=\"2369.13984375\" y=\"225.0\" dominant-baseline=\"middle\" text-anchor=\"middle\" font-size=\"18px\" font-family=\"Arial\">X</text><rect x=\"2409.13984375\" y=\"205.0\" width=\"89.1494921875\" height=\"40\" stroke=\"black\" fill=\"white\" stroke-width=\"1\" /><text x=\"2453.71458984375\" y=\"225.0\" dominant-baseline=\"middle\" text-anchor=\"middle\" font-size=\"14px\" font-family=\"Arial\">Ry(-0.013π)</text><circle cx=\"2538.2893359375003\" cy=\"175.0\" r=\"10.0\" /><rect x=\"2518.2893359375003\" y=\"205.0\" width=\"40\" height=\"40\" stroke=\"black\" fill=\"white\" stroke-width=\"1\" /><text x=\"2538.2893359375003\" y=\"225.0\" dominant-baseline=\"middle\" text-anchor=\"middle\" font-size=\"18px\" font-family=\"Arial\">X</text><rect x=\"2578.2893359375003\" y=\"205.0\" width=\"89.1494921875\" height=\"40\" stroke=\"black\" fill=\"white\" stroke-width=\"1\" /><text x=\"2622.8640820312503\" y=\"225.0\" dominant-baseline=\"middle\" text-anchor=\"middle\" font-size=\"14px\" font-family=\"Arial\">Ry(-0.052π)</text><circle cx=\"2707.4388281250003\" cy=\"75.0\" r=\"10.0\" /><rect x=\"2687.4388281250003\" y=\"205.0\" width=\"40\" height=\"40\" stroke=\"black\" fill=\"white\" stroke-width=\"1\" /><text x=\"2707.4388281250003\" y=\"225.0\" dominant-baseline=\"middle\" text-anchor=\"middle\" font-size=\"18px\" font-family=\"Arial\">X</text><rect x=\"2747.4388281250003\" y=\"205.0\" width=\"80.242265625\" height=\"40\" stroke=\"black\" fill=\"white\" stroke-width=\"1\" /><text x=\"2787.5599609375004\" y=\"225.0\" dominant-baseline=\"middle\" text-anchor=\"middle\" font-size=\"14px\" font-family=\"Arial\">Ry(-0.09π)</text><circle cx=\"2867.6810937500004\" cy=\"175.0\" r=\"10.0\" /><rect x=\"2847.6810937500004\" y=\"205.0\" width=\"40\" height=\"40\" stroke=\"black\" fill=\"white\" stroke-width=\"1\" /><text x=\"2867.6810937500004\" y=\"225.0\" dominant-baseline=\"middle\" text-anchor=\"middle\" font-size=\"18px\" font-family=\"Arial\">X</text><rect x=\"2907.6810937500004\" y=\"205.0\" width=\"84.097734375\" height=\"40\" stroke=\"black\" fill=\"white\" stroke-width=\"1\" /><text x=\"2949.7299609375004\" y=\"225.0\" dominant-baseline=\"middle\" text-anchor=\"middle\" font-size=\"14px\" font-family=\"Arial\">Ry(0.029π)</text><circle cx=\"3031.7788281250005\" cy=\"125.0\" r=\"10.0\" /><rect x=\"3011.7788281250005\" y=\"205.0\" width=\"40\" height=\"40\" stroke=\"black\" fill=\"white\" stroke-width=\"1\" /><text x=\"3031.7788281250005\" y=\"225.0\" dominant-baseline=\"middle\" text-anchor=\"middle\" font-size=\"18px\" font-family=\"Arial\">X</text><rect x=\"3071.7788281250005\" y=\"205.0\" width=\"80.242265625\" height=\"40\" stroke=\"black\" fill=\"white\" stroke-width=\"1\" /><text x=\"3111.8999609375005\" y=\"225.0\" dominant-baseline=\"middle\" text-anchor=\"middle\" font-size=\"14px\" font-family=\"Arial\">Ry(-0.06π)</text><circle cx=\"3192.0210937500005\" cy=\"175.0\" r=\"10.0\" /><rect x=\"3172.0210937500005\" y=\"205.0\" width=\"40\" height=\"40\" stroke=\"black\" fill=\"white\" stroke-width=\"1\" /><text x=\"3192.0210937500005\" y=\"225.0\" dominant-baseline=\"middle\" text-anchor=\"middle\" font-size=\"18px\" font-family=\"Arial\">X</text><rect x=\"3232.0210937500005\" y=\"205.0\" width=\"89.1494921875\" height=\"40\" stroke=\"black\" fill=\"white\" stroke-width=\"1\" /><text x=\"3276.5958398437506\" y=\"225.0\" dominant-baseline=\"middle\" text-anchor=\"middle\" font-size=\"14px\" font-family=\"Arial\">Ry(-0.001π)</text><circle cx=\"3361.1705859375006\" cy=\"25.0\" r=\"10.0\" /><rect x=\"3341.1705859375006\" y=\"205.0\" width=\"40\" height=\"40\" stroke=\"black\" fill=\"white\" stroke-width=\"1\" /><text x=\"3361.1705859375006\" y=\"225.0\" dominant-baseline=\"middle\" text-anchor=\"middle\" font-size=\"18px\" font-family=\"Arial\">X</text><rect x=\"3401.1705859375006\" y=\"205.0\" width=\"89.1494921875\" height=\"40\" stroke=\"black\" fill=\"white\" stroke-width=\"1\" /><text x=\"3445.7453320312507\" y=\"225.0\" dominant-baseline=\"middle\" text-anchor=\"middle\" font-size=\"14px\" font-family=\"Arial\">Ry(-0.321π)</text><circle cx=\"3530.3200781250007\" cy=\"175.0\" r=\"10.0\" /><rect x=\"3510.3200781250007\" y=\"205.0\" width=\"40\" height=\"40\" stroke=\"black\" fill=\"white\" stroke-width=\"1\" /><text x=\"3530.3200781250007\" y=\"225.0\" dominant-baseline=\"middle\" text-anchor=\"middle\" font-size=\"18px\" font-family=\"Arial\">X</text><rect x=\"3570.3200781250007\" y=\"205.0\" width=\"89.1494921875\" height=\"40\" stroke=\"black\" fill=\"white\" stroke-width=\"1\" /><text x=\"3614.8948242187507\" y=\"225.0\" dominant-baseline=\"middle\" text-anchor=\"middle\" font-size=\"14px\" font-family=\"Arial\">Ry(-0.015π)</text><circle cx=\"3699.4695703125008\" cy=\"125.0\" r=\"10.0\" /><rect x=\"3679.4695703125008\" y=\"205.0\" width=\"40\" height=\"40\" stroke=\"black\" fill=\"white\" stroke-width=\"1\" /><text x=\"3699.4695703125008\" y=\"225.0\" dominant-baseline=\"middle\" text-anchor=\"middle\" font-size=\"18px\" font-family=\"Arial\">X</text><rect x=\"3739.4695703125008\" y=\"205.0\" width=\"84.097734375\" height=\"40\" stroke=\"black\" fill=\"white\" stroke-width=\"1\" /><text x=\"3781.518437500001\" y=\"225.0\" dominant-baseline=\"middle\" text-anchor=\"middle\" font-size=\"14px\" font-family=\"Arial\">Ry(0.136π)</text><circle cx=\"3863.567304687501\" cy=\"175.0\" r=\"10.0\" /><rect x=\"3843.567304687501\" y=\"205.0\" width=\"40\" height=\"40\" stroke=\"black\" fill=\"white\" stroke-width=\"1\" /><text x=\"3863.567304687501\" y=\"225.0\" dominant-baseline=\"middle\" text-anchor=\"middle\" font-size=\"18px\" font-family=\"Arial\">X</text><rect x=\"3903.567304687501\" y=\"205.0\" width=\"84.097734375\" height=\"40\" stroke=\"black\" fill=\"white\" stroke-width=\"1\" /><text x=\"3945.616171875001\" y=\"225.0\" dominant-baseline=\"middle\" text-anchor=\"middle\" font-size=\"14px\" font-family=\"Arial\">Ry(0.027π)</text><circle cx=\"4027.665039062501\" cy=\"75.0\" r=\"10.0\" /><rect x=\"4007.665039062501\" y=\"205.0\" width=\"40\" height=\"40\" stroke=\"black\" fill=\"white\" stroke-width=\"1\" /><text x=\"4027.665039062501\" y=\"225.0\" dominant-baseline=\"middle\" text-anchor=\"middle\" font-size=\"18px\" font-family=\"Arial\">X</text><rect x=\"4067.665039062501\" y=\"205.0\" width=\"89.1494921875\" height=\"40\" stroke=\"black\" fill=\"white\" stroke-width=\"1\" /><text x=\"4112.239785156251\" y=\"225.0\" dominant-baseline=\"middle\" text-anchor=\"middle\" font-size=\"14px\" font-family=\"Arial\">Ry(-0.065π)</text><circle cx=\"4196.814531250001\" cy=\"175.0\" r=\"10.0\" /><rect x=\"4176.814531250001\" y=\"205.0\" width=\"40\" height=\"40\" stroke=\"black\" fill=\"white\" stroke-width=\"1\" /><text x=\"4196.814531250001\" y=\"225.0\" dominant-baseline=\"middle\" text-anchor=\"middle\" font-size=\"18px\" font-family=\"Arial\">X</text><rect x=\"4236.814531250001\" y=\"205.0\" width=\"84.097734375\" height=\"40\" stroke=\"black\" fill=\"white\" stroke-width=\"1\" /><text x=\"4278.863398437501\" y=\"225.0\" dominant-baseline=\"middle\" text-anchor=\"middle\" font-size=\"14px\" font-family=\"Arial\">Ry(0.028π)</text><circle cx=\"4360.912265625001\" cy=\"125.0\" r=\"10.0\" /><rect x=\"4340.912265625001\" y=\"205.0\" width=\"40\" height=\"40\" stroke=\"black\" fill=\"white\" stroke-width=\"1\" /><text x=\"4360.912265625001\" y=\"225.0\" dominant-baseline=\"middle\" text-anchor=\"middle\" font-size=\"18px\" font-family=\"Arial\">X</text><rect x=\"4400.912265625001\" y=\"205.0\" width=\"89.1494921875\" height=\"40\" stroke=\"black\" fill=\"white\" stroke-width=\"1\" /><text x=\"4445.487011718751\" y=\"225.0\" dominant-baseline=\"middle\" text-anchor=\"middle\" font-size=\"14px\" font-family=\"Arial\">Ry(-0.063π)</text><circle cx=\"4530.061757812501\" cy=\"175.0\" r=\"10.0\" /><rect x=\"4510.061757812501\" y=\"205.0\" width=\"40\" height=\"40\" stroke=\"black\" fill=\"white\" stroke-width=\"1\" /><text x=\"4530.061757812501\" y=\"225.0\" dominant-baseline=\"middle\" text-anchor=\"middle\" font-size=\"18px\" font-family=\"Arial\">X</text><rect x=\"4570.061757812501\" y=\"205.0\" width=\"84.097734375\" height=\"40\" stroke=\"black\" fill=\"white\" stroke-width=\"1\" /><text x=\"4612.110625000001\" y=\"225.0\" dominant-baseline=\"middle\" text-anchor=\"middle\" font-size=\"14px\" font-family=\"Arial\">Ry(0.026π)</text><circle cx=\"4694.159492187501\" cy=\"25.0\" r=\"10.0\" /><rect x=\"4674.159492187501\" y=\"205.0\" width=\"40\" height=\"40\" stroke=\"black\" fill=\"white\" stroke-width=\"1\" /><text x=\"4694.159492187501\" y=\"225.0\" dominant-baseline=\"middle\" text-anchor=\"middle\" font-size=\"18px\" font-family=\"Arial\">X</text><circle cx=\"4754.159492187501\" cy=\"225.0\" r=\"10.0\" /><rect x=\"4734.159492187501\" y=\"255.0\" width=\"40\" height=\"40\" stroke=\"black\" fill=\"white\" stroke-width=\"1\" /><text x=\"4754.159492187501\" y=\"275.0\" dominant-baseline=\"middle\" text-anchor=\"middle\" font-size=\"18px\" font-family=\"Arial\">X</text><rect x=\"4794.159492187501\" y=\"255.0\" width=\"84.097734375\" height=\"40\" stroke=\"black\" fill=\"white\" stroke-width=\"1\" /><text x=\"4836.208359375001\" y=\"275.0\" dominant-baseline=\"middle\" text-anchor=\"middle\" font-size=\"14px\" font-family=\"Arial\">Ry(0.267π)</text><circle cx=\"4918.257226562501\" cy=\"175.0\" r=\"10.0\" /><rect x=\"4898.257226562501\" y=\"255.0\" width=\"40\" height=\"40\" stroke=\"black\" fill=\"white\" stroke-width=\"1\" /><text x=\"4918.257226562501\" y=\"275.0\" dominant-baseline=\"middle\" text-anchor=\"middle\" font-size=\"18px\" font-family=\"Arial\">X</text><rect x=\"4958.257226562501\" y=\"255.0\" width=\"89.1494921875\" height=\"40\" stroke=\"black\" fill=\"white\" stroke-width=\"1\" /><text x=\"5002.831972656251\" y=\"275.0\" dominant-baseline=\"middle\" text-anchor=\"middle\" font-size=\"14px\" font-family=\"Arial\">Ry(-0.056π)</text><circle cx=\"5087.406718750001\" cy=\"225.0\" r=\"10.0\" /><rect x=\"5067.406718750001\" y=\"255.0\" width=\"40\" height=\"40\" stroke=\"black\" fill=\"white\" stroke-width=\"1\" /><text x=\"5087.406718750001\" y=\"275.0\" dominant-baseline=\"middle\" text-anchor=\"middle\" font-size=\"18px\" font-family=\"Arial\">X</text><rect x=\"5127.406718750001\" y=\"255.0\" width=\"89.1494921875\" height=\"40\" stroke=\"black\" fill=\"white\" stroke-width=\"1\" /><text x=\"5171.981464843751\" y=\"275.0\" dominant-baseline=\"middle\" text-anchor=\"middle\" font-size=\"14px\" font-family=\"Arial\">Ry(-0.058π)</text><circle cx=\"5256.556210937501\" cy=\"125.0\" r=\"10.0\" /><rect x=\"5236.556210937501\" y=\"255.0\" width=\"40\" height=\"40\" stroke=\"black\" fill=\"white\" stroke-width=\"1\" /><text x=\"5256.556210937501\" y=\"275.0\" dominant-baseline=\"middle\" text-anchor=\"middle\" font-size=\"18px\" font-family=\"Arial\">X</text><rect x=\"5296.556210937501\" y=\"255.0\" width=\"84.097734375\" height=\"40\" stroke=\"black\" fill=\"white\" stroke-width=\"1\" /><text x=\"5338.6050781250015\" y=\"275.0\" dominant-baseline=\"middle\" text-anchor=\"middle\" font-size=\"14px\" font-family=\"Arial\">Ry(0.047π)</text><circle cx=\"5420.6539453125015\" cy=\"225.0\" r=\"10.0\" /><rect x=\"5400.6539453125015\" y=\"255.0\" width=\"40\" height=\"40\" stroke=\"black\" fill=\"white\" stroke-width=\"1\" /><text x=\"5420.6539453125015\" y=\"275.0\" dominant-baseline=\"middle\" text-anchor=\"middle\" font-size=\"18px\" font-family=\"Arial\">X</text><rect x=\"5460.6539453125015\" y=\"255.0\" width=\"84.097734375\" height=\"40\" stroke=\"black\" fill=\"white\" stroke-width=\"1\" /><text x=\"5502.7028125000015\" y=\"275.0\" dominant-baseline=\"middle\" text-anchor=\"middle\" font-size=\"14px\" font-family=\"Arial\">Ry(0.042π)</text><circle cx=\"5584.751679687502\" cy=\"175.0\" r=\"10.0\" /><rect x=\"5564.751679687502\" y=\"255.0\" width=\"40\" height=\"40\" stroke=\"black\" fill=\"white\" stroke-width=\"1\" /><text x=\"5584.751679687502\" y=\"275.0\" dominant-baseline=\"middle\" text-anchor=\"middle\" font-size=\"18px\" font-family=\"Arial\">X</text><rect x=\"5624.751679687502\" y=\"255.0\" width=\"75.1905078125\" height=\"40\" stroke=\"black\" fill=\"white\" stroke-width=\"1\" /><text x=\"5662.346933593752\" y=\"275.0\" dominant-baseline=\"middle\" text-anchor=\"middle\" font-size=\"14px\" font-family=\"Arial\">Ry(0.05π)</text><circle cx=\"5739.942187500002\" cy=\"225.0\" r=\"10.0\" /><rect x=\"5719.942187500002\" y=\"255.0\" width=\"40\" height=\"40\" stroke=\"black\" fill=\"white\" stroke-width=\"1\" /><text x=\"5739.942187500002\" y=\"275.0\" dominant-baseline=\"middle\" text-anchor=\"middle\" font-size=\"18px\" font-family=\"Arial\">X</text><rect x=\"5779.942187500002\" y=\"255.0\" width=\"75.1905078125\" height=\"40\" stroke=\"black\" fill=\"white\" stroke-width=\"1\" /><text x=\"5817.537441406252\" y=\"275.0\" dominant-baseline=\"middle\" text-anchor=\"middle\" font-size=\"14px\" font-family=\"Arial\">Ry(0.07π)</text><circle cx=\"5895.132695312502\" cy=\"75.0\" r=\"10.0\" /><rect x=\"5875.132695312502\" y=\"255.0\" width=\"40\" height=\"40\" stroke=\"black\" fill=\"white\" stroke-width=\"1\" /><text x=\"5895.132695312502\" y=\"275.0\" dominant-baseline=\"middle\" text-anchor=\"middle\" font-size=\"18px\" font-family=\"Arial\">X</text><rect x=\"5935.132695312502\" y=\"255.0\" width=\"89.1494921875\" height=\"40\" stroke=\"black\" fill=\"white\" stroke-width=\"1\" /><text x=\"5979.707441406252\" y=\"275.0\" dominant-baseline=\"middle\" text-anchor=\"middle\" font-size=\"14px\" font-family=\"Arial\">Ry(-0.051π)</text><circle cx=\"6064.282187500002\" cy=\"225.0\" r=\"10.0\" /><rect x=\"6044.282187500002\" y=\"255.0\" width=\"40\" height=\"40\" stroke=\"black\" fill=\"white\" stroke-width=\"1\" /><text x=\"6064.282187500002\" y=\"275.0\" dominant-baseline=\"middle\" text-anchor=\"middle\" font-size=\"18px\" font-family=\"Arial\">X</text><rect x=\"6104.282187500002\" y=\"255.0\" width=\"80.242265625\" height=\"40\" stroke=\"black\" fill=\"white\" stroke-width=\"1\" /><text x=\"6144.403320312502\" y=\"275.0\" dominant-baseline=\"middle\" text-anchor=\"middle\" font-size=\"14px\" font-family=\"Arial\">Ry(-0.02π)</text><circle cx=\"6224.524453125002\" cy=\"175.0\" r=\"10.0\" /><rect x=\"6204.524453125002\" y=\"255.0\" width=\"40\" height=\"40\" stroke=\"black\" fill=\"white\" stroke-width=\"1\" /><text x=\"6224.524453125002\" y=\"275.0\" dominant-baseline=\"middle\" text-anchor=\"middle\" font-size=\"18px\" font-family=\"Arial\">X</text><rect x=\"6264.524453125002\" y=\"255.0\" width=\"84.097734375\" height=\"40\" stroke=\"black\" fill=\"white\" stroke-width=\"1\" /><text x=\"6306.573320312502\" y=\"275.0\" dominant-baseline=\"middle\" text-anchor=\"middle\" font-size=\"14px\" font-family=\"Arial\">Ry(0.054π)</text><circle cx=\"6388.622187500002\" cy=\"225.0\" r=\"10.0\" /><rect x=\"6368.622187500002\" y=\"255.0\" width=\"40\" height=\"40\" stroke=\"black\" fill=\"white\" stroke-width=\"1\" /><text x=\"6388.622187500002\" y=\"275.0\" dominant-baseline=\"middle\" text-anchor=\"middle\" font-size=\"18px\" font-family=\"Arial\">X</text><rect x=\"6428.622187500002\" y=\"255.0\" width=\"84.097734375\" height=\"40\" stroke=\"black\" fill=\"white\" stroke-width=\"1\" /><text x=\"6470.671054687502\" y=\"275.0\" dominant-baseline=\"middle\" text-anchor=\"middle\" font-size=\"14px\" font-family=\"Arial\">Ry(0.059π)</text><circle cx=\"6552.719921875002\" cy=\"125.0\" r=\"10.0\" /><rect x=\"6532.719921875002\" y=\"255.0\" width=\"40\" height=\"40\" stroke=\"black\" fill=\"white\" stroke-width=\"1\" /><text x=\"6552.719921875002\" y=\"275.0\" dominant-baseline=\"middle\" text-anchor=\"middle\" font-size=\"18px\" font-family=\"Arial\">X</text><rect x=\"6592.719921875002\" y=\"255.0\" width=\"89.1494921875\" height=\"40\" stroke=\"black\" fill=\"white\" stroke-width=\"1\" /><text x=\"6637.294667968752\" y=\"275.0\" dominant-baseline=\"middle\" text-anchor=\"middle\" font-size=\"14px\" font-family=\"Arial\">Ry(-0.048π)</text><circle cx=\"6721.869414062502\" cy=\"225.0\" r=\"10.0\" /><rect x=\"6701.869414062502\" y=\"255.0\" width=\"40\" height=\"40\" stroke=\"black\" fill=\"white\" stroke-width=\"1\" /><text x=\"6721.869414062502\" y=\"275.0\" dominant-baseline=\"middle\" text-anchor=\"middle\" font-size=\"18px\" font-family=\"Arial\">X</text><rect x=\"6761.869414062502\" y=\"255.0\" width=\"89.1494921875\" height=\"40\" stroke=\"black\" fill=\"white\" stroke-width=\"1\" /><text x=\"6806.444160156252\" y=\"275.0\" dominant-baseline=\"middle\" text-anchor=\"middle\" font-size=\"14px\" font-family=\"Arial\">Ry(-0.039π)</text><circle cx=\"6891.018906250002\" cy=\"175.0\" r=\"10.0\" /><rect x=\"6871.018906250002\" y=\"255.0\" width=\"40\" height=\"40\" stroke=\"black\" fill=\"white\" stroke-width=\"1\" /><text x=\"6891.018906250002\" y=\"275.0\" dominant-baseline=\"middle\" text-anchor=\"middle\" font-size=\"18px\" font-family=\"Arial\">X</text><rect x=\"6931.018906250002\" y=\"255.0\" width=\"89.1494921875\" height=\"40\" stroke=\"black\" fill=\"white\" stroke-width=\"1\" /><text x=\"6975.593652343752\" y=\"275.0\" dominant-baseline=\"middle\" text-anchor=\"middle\" font-size=\"14px\" font-family=\"Arial\">Ry(-0.047π)</text><circle cx=\"7060.168398437502\" cy=\"225.0\" r=\"10.0\" /><rect x=\"7040.168398437502\" y=\"255.0\" width=\"40\" height=\"40\" stroke=\"black\" fill=\"white\" stroke-width=\"1\" /><text x=\"7060.168398437502\" y=\"275.0\" dominant-baseline=\"middle\" text-anchor=\"middle\" font-size=\"18px\" font-family=\"Arial\">X</text><rect x=\"7100.168398437502\" y=\"255.0\" width=\"89.1494921875\" height=\"40\" stroke=\"black\" fill=\"white\" stroke-width=\"1\" /><text x=\"7144.743144531252\" y=\"275.0\" dominant-baseline=\"middle\" text-anchor=\"middle\" font-size=\"14px\" font-family=\"Arial\">Ry(-0.072π)</text><circle cx=\"7229.317890625002\" cy=\"25.0\" r=\"10.0\" /><rect x=\"7209.317890625002\" y=\"255.0\" width=\"40\" height=\"40\" stroke=\"black\" fill=\"white\" stroke-width=\"1\" /><text x=\"7229.317890625002\" y=\"275.0\" dominant-baseline=\"middle\" text-anchor=\"middle\" font-size=\"18px\" font-family=\"Arial\">X</text><rect x=\"7269.317890625002\" y=\"255.0\" width=\"89.1494921875\" height=\"40\" stroke=\"black\" fill=\"white\" stroke-width=\"1\" /><text x=\"7313.892636718752\" y=\"275.0\" dominant-baseline=\"middle\" text-anchor=\"middle\" font-size=\"14px\" font-family=\"Arial\">Ry(-0.078π)</text><circle cx=\"7398.467382812502\" cy=\"225.0\" r=\"10.0\" /><rect x=\"7378.467382812502\" y=\"255.0\" width=\"40\" height=\"40\" stroke=\"black\" fill=\"white\" stroke-width=\"1\" /><text x=\"7398.467382812502\" y=\"275.0\" dominant-baseline=\"middle\" text-anchor=\"middle\" font-size=\"18px\" font-family=\"Arial\">X</text><rect x=\"7438.467382812502\" y=\"255.0\" width=\"89.1494921875\" height=\"40\" stroke=\"black\" fill=\"white\" stroke-width=\"1\" /><text x=\"7483.042128906252\" y=\"275.0\" dominant-baseline=\"middle\" text-anchor=\"middle\" font-size=\"14px\" font-family=\"Arial\">Ry(-0.053π)</text><circle cx=\"7567.616875000002\" cy=\"175.0\" r=\"10.0\" /><rect x=\"7547.616875000002\" y=\"255.0\" width=\"40\" height=\"40\" stroke=\"black\" fill=\"white\" stroke-width=\"1\" /><text x=\"7567.616875000002\" y=\"275.0\" dominant-baseline=\"middle\" text-anchor=\"middle\" font-size=\"18px\" font-family=\"Arial\">X</text><rect x=\"7607.616875000002\" y=\"255.0\" width=\"84.097734375\" height=\"40\" stroke=\"black\" fill=\"white\" stroke-width=\"1\" /><text x=\"7649.6657421875025\" y=\"275.0\" dominant-baseline=\"middle\" text-anchor=\"middle\" font-size=\"14px\" font-family=\"Arial\">Ry(0.048π)</text><circle cx=\"7731.7146093750025\" cy=\"225.0\" r=\"10.0\" /><rect x=\"7711.7146093750025\" y=\"255.0\" width=\"40\" height=\"40\" stroke=\"black\" fill=\"white\" stroke-width=\"1\" /><text x=\"7731.7146093750025\" y=\"275.0\" dominant-baseline=\"middle\" text-anchor=\"middle\" font-size=\"18px\" font-family=\"Arial\">X</text><rect x=\"7771.7146093750025\" y=\"255.0\" width=\"84.097734375\" height=\"40\" stroke=\"black\" fill=\"white\" stroke-width=\"1\" /><text x=\"7813.763476562503\" y=\"275.0\" dominant-baseline=\"middle\" text-anchor=\"middle\" font-size=\"14px\" font-family=\"Arial\">Ry(0.039π)</text><circle cx=\"7895.812343750003\" cy=\"125.0\" r=\"10.0\" /><rect x=\"7875.812343750003\" y=\"255.0\" width=\"40\" height=\"40\" stroke=\"black\" fill=\"white\" stroke-width=\"1\" /><text x=\"7895.812343750003\" y=\"275.0\" dominant-baseline=\"middle\" text-anchor=\"middle\" font-size=\"18px\" font-family=\"Arial\">X</text><rect x=\"7935.812343750003\" y=\"255.0\" width=\"89.1494921875\" height=\"40\" stroke=\"black\" fill=\"white\" stroke-width=\"1\" /><text x=\"7980.387089843753\" y=\"275.0\" dominant-baseline=\"middle\" text-anchor=\"middle\" font-size=\"14px\" font-family=\"Arial\">Ry(-0.054π)</text><circle cx=\"8064.961835937503\" cy=\"225.0\" r=\"10.0\" /><rect x=\"8044.961835937503\" y=\"255.0\" width=\"40\" height=\"40\" stroke=\"black\" fill=\"white\" stroke-width=\"1\" /><text x=\"8064.961835937503\" y=\"275.0\" dominant-baseline=\"middle\" text-anchor=\"middle\" font-size=\"18px\" font-family=\"Arial\">X</text><rect x=\"8104.961835937503\" y=\"255.0\" width=\"89.1494921875\" height=\"40\" stroke=\"black\" fill=\"white\" stroke-width=\"1\" /><text x=\"8149.536582031253\" y=\"275.0\" dominant-baseline=\"middle\" text-anchor=\"middle\" font-size=\"14px\" font-family=\"Arial\">Ry(-0.059π)</text><circle cx=\"8234.111328125002\" cy=\"175.0\" r=\"10.0\" /><rect x=\"8214.111328125002\" y=\"255.0\" width=\"40\" height=\"40\" stroke=\"black\" fill=\"white\" stroke-width=\"1\" /><text x=\"8234.111328125002\" y=\"275.0\" dominant-baseline=\"middle\" text-anchor=\"middle\" font-size=\"18px\" font-family=\"Arial\">X</text><rect x=\"8274.111328125002\" y=\"255.0\" width=\"89.1494921875\" height=\"40\" stroke=\"black\" fill=\"white\" stroke-width=\"1\" /><text x=\"8318.686074218751\" y=\"275.0\" dominant-baseline=\"middle\" text-anchor=\"middle\" font-size=\"14px\" font-family=\"Arial\">Ry(-0.074π)</text><circle cx=\"8403.260820312502\" cy=\"225.0\" r=\"10.0\" /><rect x=\"8383.260820312502\" y=\"255.0\" width=\"40\" height=\"40\" stroke=\"black\" fill=\"white\" stroke-width=\"1\" /><text x=\"8403.260820312502\" y=\"275.0\" dominant-baseline=\"middle\" text-anchor=\"middle\" font-size=\"18px\" font-family=\"Arial\">X</text><rect x=\"8443.260820312502\" y=\"255.0\" width=\"89.1494921875\" height=\"40\" stroke=\"black\" fill=\"white\" stroke-width=\"1\" /><text x=\"8487.835566406251\" y=\"275.0\" dominant-baseline=\"middle\" text-anchor=\"middle\" font-size=\"14px\" font-family=\"Arial\">Ry(-0.105π)</text><circle cx=\"8572.410312500002\" cy=\"75.0\" r=\"10.0\" /><rect x=\"8552.410312500002\" y=\"255.0\" width=\"40\" height=\"40\" stroke=\"black\" fill=\"white\" stroke-width=\"1\" /><text x=\"8572.410312500002\" y=\"275.0\" dominant-baseline=\"middle\" text-anchor=\"middle\" font-size=\"18px\" font-family=\"Arial\">X</text><rect x=\"8612.410312500002\" y=\"255.0\" width=\"80.242265625\" height=\"40\" stroke=\"black\" fill=\"white\" stroke-width=\"1\" /><text x=\"8652.531445312501\" y=\"275.0\" dominant-baseline=\"middle\" text-anchor=\"middle\" font-size=\"14px\" font-family=\"Arial\">Ry(-0.05π)</text><circle cx=\"8732.652578125002\" cy=\"225.0\" r=\"10.0\" /><rect x=\"8712.652578125002\" y=\"255.0\" width=\"40\" height=\"40\" stroke=\"black\" fill=\"white\" stroke-width=\"1\" /><text x=\"8732.652578125002\" y=\"275.0\" dominant-baseline=\"middle\" text-anchor=\"middle\" font-size=\"18px\" font-family=\"Arial\">X</text><rect x=\"8772.652578125002\" y=\"255.0\" width=\"80.242265625\" height=\"40\" stroke=\"black\" fill=\"white\" stroke-width=\"1\" /><text x=\"8812.773710937501\" y=\"275.0\" dominant-baseline=\"middle\" text-anchor=\"middle\" font-size=\"14px\" font-family=\"Arial\">Ry(-0.07π)</text><circle cx=\"8892.894843750002\" cy=\"175.0\" r=\"10.0\" /><rect x=\"8872.894843750002\" y=\"255.0\" width=\"40\" height=\"40\" stroke=\"black\" fill=\"white\" stroke-width=\"1\" /><text x=\"8892.894843750002\" y=\"275.0\" dominant-baseline=\"middle\" text-anchor=\"middle\" font-size=\"18px\" font-family=\"Arial\">X</text><rect x=\"8932.894843750002\" y=\"255.0\" width=\"84.097734375\" height=\"40\" stroke=\"black\" fill=\"white\" stroke-width=\"1\" /><text x=\"8974.943710937501\" y=\"275.0\" dominant-baseline=\"middle\" text-anchor=\"middle\" font-size=\"14px\" font-family=\"Arial\">Ry(0.078π)</text><circle cx=\"9056.992578125002\" cy=\"225.0\" r=\"10.0\" /><rect x=\"9036.992578125002\" y=\"255.0\" width=\"40\" height=\"40\" stroke=\"black\" fill=\"white\" stroke-width=\"1\" /><text x=\"9056.992578125002\" y=\"275.0\" dominant-baseline=\"middle\" text-anchor=\"middle\" font-size=\"18px\" font-family=\"Arial\">X</text><rect x=\"9096.992578125002\" y=\"255.0\" width=\"84.097734375\" height=\"40\" stroke=\"black\" fill=\"white\" stroke-width=\"1\" /><text x=\"9139.041445312501\" y=\"275.0\" dominant-baseline=\"middle\" text-anchor=\"middle\" font-size=\"14px\" font-family=\"Arial\">Ry(0.083π)</text><circle cx=\"9221.090312500002\" cy=\"125.0\" r=\"10.0\" /><rect x=\"9201.090312500002\" y=\"255.0\" width=\"40\" height=\"40\" stroke=\"black\" fill=\"white\" stroke-width=\"1\" /><text x=\"9221.090312500002\" y=\"275.0\" dominant-baseline=\"middle\" text-anchor=\"middle\" font-size=\"18px\" font-family=\"Arial\">X</text><rect x=\"9261.090312500002\" y=\"255.0\" width=\"89.1494921875\" height=\"40\" stroke=\"black\" fill=\"white\" stroke-width=\"1\" /><text x=\"9305.665058593751\" y=\"275.0\" dominant-baseline=\"middle\" text-anchor=\"middle\" font-size=\"14px\" font-family=\"Arial\">Ry(-0.069π)</text><circle cx=\"9390.239804687502\" cy=\"225.0\" r=\"10.0\" /><rect x=\"9370.239804687502\" y=\"255.0\" width=\"40\" height=\"40\" stroke=\"black\" fill=\"white\" stroke-width=\"1\" /><text x=\"9390.239804687502\" y=\"275.0\" dominant-baseline=\"middle\" text-anchor=\"middle\" font-size=\"18px\" font-family=\"Arial\">X</text><rect x=\"9430.239804687502\" y=\"255.0\" width=\"89.1494921875\" height=\"40\" stroke=\"black\" fill=\"white\" stroke-width=\"1\" /><text x=\"9474.814550781251\" y=\"275.0\" dominant-baseline=\"middle\" text-anchor=\"middle\" font-size=\"14px\" font-family=\"Arial\">Ry(-0.067π)</text><circle cx=\"9559.389296875002\" cy=\"175.0\" r=\"10.0\" /><rect x=\"9539.389296875002\" y=\"255.0\" width=\"40\" height=\"40\" stroke=\"black\" fill=\"white\" stroke-width=\"1\" /><text x=\"9559.389296875002\" y=\"275.0\" dominant-baseline=\"middle\" text-anchor=\"middle\" font-size=\"18px\" font-family=\"Arial\">X</text><rect x=\"9599.389296875002\" y=\"255.0\" width=\"89.1494921875\" height=\"40\" stroke=\"black\" fill=\"white\" stroke-width=\"1\" /><text x=\"9643.964042968752\" y=\"275.0\" dominant-baseline=\"middle\" text-anchor=\"middle\" font-size=\"14px\" font-family=\"Arial\">Ry(-0.053π)</text><circle cx=\"9728.538789062502\" cy=\"225.0\" r=\"10.0\" /><rect x=\"9708.538789062502\" y=\"255.0\" width=\"40\" height=\"40\" stroke=\"black\" fill=\"white\" stroke-width=\"1\" /><text x=\"9728.538789062502\" y=\"275.0\" dominant-baseline=\"middle\" text-anchor=\"middle\" font-size=\"18px\" font-family=\"Arial\">X</text><rect x=\"9768.538789062502\" y=\"255.0\" width=\"89.1494921875\" height=\"40\" stroke=\"black\" fill=\"white\" stroke-width=\"1\" /><text x=\"9813.113535156252\" y=\"275.0\" dominant-baseline=\"middle\" text-anchor=\"middle\" font-size=\"14px\" font-family=\"Arial\">Ry(-0.017π)</text><circle cx=\"9897.688281250003\" cy=\"25.0\" r=\"10.0\" /><rect x=\"9877.688281250003\" y=\"255.0\" width=\"40\" height=\"40\" stroke=\"black\" fill=\"white\" stroke-width=\"1\" /><text x=\"9897.688281250003\" y=\"275.0\" dominant-baseline=\"middle\" text-anchor=\"middle\" font-size=\"18px\" font-family=\"Arial\">X</text><circle cx=\"9957.688281250003\" cy=\"275.0\" r=\"10.0\" /><rect x=\"9937.688281250003\" y=\"305.0\" width=\"40\" height=\"40\" stroke=\"black\" fill=\"white\" stroke-width=\"1\" /><text x=\"9957.688281250003\" y=\"325.0\" dominant-baseline=\"middle\" text-anchor=\"middle\" font-size=\"18px\" font-family=\"Arial\">X</text><rect x=\"9997.688281250003\" y=\"305.0\" width=\"84.097734375\" height=\"40\" stroke=\"black\" fill=\"white\" stroke-width=\"1\" /><text x=\"10039.737148437502\" y=\"325.0\" dominant-baseline=\"middle\" text-anchor=\"middle\" font-size=\"14px\" font-family=\"Arial\">Ry(0.059π)</text><circle cx=\"10121.786015625003\" cy=\"225.0\" r=\"10.0\" /><rect x=\"10101.786015625003\" y=\"305.0\" width=\"40\" height=\"40\" stroke=\"black\" fill=\"white\" stroke-width=\"1\" /><text x=\"10121.786015625003\" y=\"325.0\" dominant-baseline=\"middle\" text-anchor=\"middle\" font-size=\"18px\" font-family=\"Arial\">X</text><rect x=\"10161.786015625003\" y=\"305.0\" width=\"89.1494921875\" height=\"40\" stroke=\"black\" fill=\"white\" stroke-width=\"1\" /><text x=\"10206.360761718752\" y=\"325.0\" dominant-baseline=\"middle\" text-anchor=\"middle\" font-size=\"14px\" font-family=\"Arial\">Ry(-0.118π)</text><circle cx=\"10290.935507812503\" cy=\"275.0\" r=\"10.0\" /><rect x=\"10270.935507812503\" y=\"305.0\" width=\"40\" height=\"40\" stroke=\"black\" fill=\"white\" stroke-width=\"1\" /><text x=\"10290.935507812503\" y=\"325.0\" dominant-baseline=\"middle\" text-anchor=\"middle\" font-size=\"18px\" font-family=\"Arial\">X</text><rect x=\"10330.935507812503\" y=\"305.0\" width=\"84.097734375\" height=\"40\" stroke=\"black\" fill=\"white\" stroke-width=\"1\" /><text x=\"10372.984375000002\" y=\"325.0\" dominant-baseline=\"middle\" text-anchor=\"middle\" font-size=\"14px\" font-family=\"Arial\">Ry(0.066π)</text><circle cx=\"10455.033242187503\" cy=\"175.0\" r=\"10.0\" /><rect x=\"10435.033242187503\" y=\"305.0\" width=\"40\" height=\"40\" stroke=\"black\" fill=\"white\" stroke-width=\"1\" /><text x=\"10455.033242187503\" y=\"325.0\" dominant-baseline=\"middle\" text-anchor=\"middle\" font-size=\"18px\" font-family=\"Arial\">X</text><rect x=\"10495.033242187503\" y=\"305.0\" width=\"80.242265625\" height=\"40\" stroke=\"black\" fill=\"white\" stroke-width=\"1\" /><text x=\"10535.154375000002\" y=\"325.0\" dominant-baseline=\"middle\" text-anchor=\"middle\" font-size=\"14px\" font-family=\"Arial\">Ry(-0.02π)</text><circle cx=\"10615.275507812503\" cy=\"275.0\" r=\"10.0\" /><rect x=\"10595.275507812503\" y=\"305.0\" width=\"40\" height=\"40\" stroke=\"black\" fill=\"white\" stroke-width=\"1\" /><text x=\"10615.275507812503\" y=\"325.0\" dominant-baseline=\"middle\" text-anchor=\"middle\" font-size=\"18px\" font-family=\"Arial\">X</text><rect x=\"10655.275507812503\" y=\"305.0\" width=\"84.097734375\" height=\"40\" stroke=\"black\" fill=\"white\" stroke-width=\"1\" /><text x=\"10697.324375000002\" y=\"325.0\" dominant-baseline=\"middle\" text-anchor=\"middle\" font-size=\"14px\" font-family=\"Arial\">Ry(0.034π)</text><circle cx=\"10779.373242187503\" cy=\"225.0\" r=\"10.0\" /><rect x=\"10759.373242187503\" y=\"305.0\" width=\"40\" height=\"40\" stroke=\"black\" fill=\"white\" stroke-width=\"1\" /><text x=\"10779.373242187503\" y=\"325.0\" dominant-baseline=\"middle\" text-anchor=\"middle\" font-size=\"18px\" font-family=\"Arial\">X</text><rect x=\"10819.373242187503\" y=\"305.0\" width=\"75.1905078125\" height=\"40\" stroke=\"black\" fill=\"white\" stroke-width=\"1\" /><text x=\"10856.968496093752\" y=\"325.0\" dominant-baseline=\"middle\" text-anchor=\"middle\" font-size=\"14px\" font-family=\"Arial\">Ry(0.02π)</text><circle cx=\"10934.563750000003\" cy=\"275.0\" r=\"10.0\" /><rect x=\"10914.563750000003\" y=\"305.0\" width=\"40\" height=\"40\" stroke=\"black\" fill=\"white\" stroke-width=\"1\" /><text x=\"10934.563750000003\" y=\"325.0\" dominant-baseline=\"middle\" text-anchor=\"middle\" font-size=\"18px\" font-family=\"Arial\">X</text><rect x=\"10974.563750000003\" y=\"305.0\" width=\"89.1494921875\" height=\"40\" stroke=\"black\" fill=\"white\" stroke-width=\"1\" /><text x=\"11019.138496093752\" y=\"325.0\" dominant-baseline=\"middle\" text-anchor=\"middle\" font-size=\"14px\" font-family=\"Arial\">Ry(-0.034π)</text><circle cx=\"11103.713242187503\" cy=\"125.0\" r=\"10.0\" /><rect x=\"11083.713242187503\" y=\"305.0\" width=\"40\" height=\"40\" stroke=\"black\" fill=\"white\" stroke-width=\"1\" /><text x=\"11103.713242187503\" y=\"325.0\" dominant-baseline=\"middle\" text-anchor=\"middle\" font-size=\"18px\" font-family=\"Arial\">X</text><rect x=\"11143.713242187503\" y=\"305.0\" width=\"75.1905078125\" height=\"40\" stroke=\"black\" fill=\"white\" stroke-width=\"1\" /><text x=\"11181.308496093752\" y=\"325.0\" dominant-baseline=\"middle\" text-anchor=\"middle\" font-size=\"14px\" font-family=\"Arial\">Ry(0.01π)</text><circle cx=\"11258.903750000003\" cy=\"275.0\" r=\"10.0\" /><rect x=\"11238.903750000003\" y=\"305.0\" width=\"40\" height=\"40\" stroke=\"black\" fill=\"white\" stroke-width=\"1\" /><text x=\"11258.903750000003\" y=\"325.0\" dominant-baseline=\"middle\" text-anchor=\"middle\" font-size=\"18px\" font-family=\"Arial\">X</text><rect x=\"11298.903750000003\" y=\"305.0\" width=\"89.1494921875\" height=\"40\" stroke=\"black\" fill=\"white\" stroke-width=\"1\" /><text x=\"11343.478496093752\" y=\"325.0\" dominant-baseline=\"middle\" text-anchor=\"middle\" font-size=\"14px\" font-family=\"Arial\">Ry(-0.036π)</text><circle cx=\"11428.053242187503\" cy=\"225.0\" r=\"10.0\" /><rect x=\"11408.053242187503\" y=\"305.0\" width=\"40\" height=\"40\" stroke=\"black\" fill=\"white\" stroke-width=\"1\" /><text x=\"11428.053242187503\" y=\"325.0\" dominant-baseline=\"middle\" text-anchor=\"middle\" font-size=\"18px\" font-family=\"Arial\">X</text><rect x=\"11468.053242187503\" y=\"305.0\" width=\"80.242265625\" height=\"40\" stroke=\"black\" fill=\"white\" stroke-width=\"1\" /><text x=\"11508.174375000002\" y=\"325.0\" dominant-baseline=\"middle\" text-anchor=\"middle\" font-size=\"14px\" font-family=\"Arial\">Ry(-0.01π)</text><circle cx=\"11588.295507812503\" cy=\"275.0\" r=\"10.0\" /><rect x=\"11568.295507812503\" y=\"305.0\" width=\"40\" height=\"40\" stroke=\"black\" fill=\"white\" stroke-width=\"1\" /><text x=\"11588.295507812503\" y=\"325.0\" dominant-baseline=\"middle\" text-anchor=\"middle\" font-size=\"18px\" font-family=\"Arial\">X</text><rect x=\"11628.295507812503\" y=\"305.0\" width=\"84.097734375\" height=\"40\" stroke=\"black\" fill=\"white\" stroke-width=\"1\" /><text x=\"11670.344375000002\" y=\"325.0\" dominant-baseline=\"middle\" text-anchor=\"middle\" font-size=\"14px\" font-family=\"Arial\">Ry(0.036π)</text><circle cx=\"11752.393242187503\" cy=\"175.0\" r=\"10.0\" /><rect x=\"11732.393242187503\" y=\"305.0\" width=\"40\" height=\"40\" stroke=\"black\" fill=\"white\" stroke-width=\"1\" /><text x=\"11752.393242187503\" y=\"325.0\" dominant-baseline=\"middle\" text-anchor=\"middle\" font-size=\"18px\" font-family=\"Arial\">X</text><rect x=\"11792.393242187503\" y=\"305.0\" width=\"84.097734375\" height=\"40\" stroke=\"black\" fill=\"white\" stroke-width=\"1\" /><text x=\"11834.442109375002\" y=\"325.0\" dominant-baseline=\"middle\" text-anchor=\"middle\" font-size=\"14px\" font-family=\"Arial\">Ry(0.032π)</text><circle cx=\"11916.490976562503\" cy=\"275.0\" r=\"10.0\" /><rect x=\"11896.490976562503\" y=\"305.0\" width=\"40\" height=\"40\" stroke=\"black\" fill=\"white\" stroke-width=\"1\" /><text x=\"11916.490976562503\" y=\"325.0\" dominant-baseline=\"middle\" text-anchor=\"middle\" font-size=\"18px\" font-family=\"Arial\">X</text><rect x=\"11956.490976562503\" y=\"305.0\" width=\"89.1494921875\" height=\"40\" stroke=\"black\" fill=\"white\" stroke-width=\"1\" /><text x=\"12001.065722656253\" y=\"325.0\" dominant-baseline=\"middle\" text-anchor=\"middle\" font-size=\"14px\" font-family=\"Arial\">Ry(-0.022π)</text><circle cx=\"12085.640468750003\" cy=\"225.0\" r=\"10.0\" /><rect x=\"12065.640468750003\" y=\"305.0\" width=\"40\" height=\"40\" stroke=\"black\" fill=\"white\" stroke-width=\"1\" /><text x=\"12085.640468750003\" y=\"325.0\" dominant-baseline=\"middle\" text-anchor=\"middle\" font-size=\"18px\" font-family=\"Arial\">X</text><rect x=\"12125.640468750003\" y=\"305.0\" width=\"89.1494921875\" height=\"40\" stroke=\"black\" fill=\"white\" stroke-width=\"1\" /><text x=\"12170.215214843753\" y=\"325.0\" dominant-baseline=\"middle\" text-anchor=\"middle\" font-size=\"14px\" font-family=\"Arial\">Ry(-0.032π)</text><circle cx=\"12254.789960937504\" cy=\"275.0\" r=\"10.0\" /><rect x=\"12234.789960937504\" y=\"305.0\" width=\"40\" height=\"40\" stroke=\"black\" fill=\"white\" stroke-width=\"1\" /><text x=\"12254.789960937504\" y=\"325.0\" dominant-baseline=\"middle\" text-anchor=\"middle\" font-size=\"18px\" font-family=\"Arial\">X</text><rect x=\"12294.789960937504\" y=\"305.0\" width=\"84.097734375\" height=\"40\" stroke=\"black\" fill=\"white\" stroke-width=\"1\" /><text x=\"12336.838828125003\" y=\"325.0\" dominant-baseline=\"middle\" text-anchor=\"middle\" font-size=\"14px\" font-family=\"Arial\">Ry(0.022π)</text><circle cx=\"12418.887695312504\" cy=\"75.0\" r=\"10.0\" /><rect x=\"12398.887695312504\" y=\"305.0\" width=\"40\" height=\"40\" stroke=\"black\" fill=\"white\" stroke-width=\"1\" /><text x=\"12418.887695312504\" y=\"325.0\" dominant-baseline=\"middle\" text-anchor=\"middle\" font-size=\"18px\" font-family=\"Arial\">X</text><rect x=\"12458.887695312504\" y=\"305.0\" width=\"89.1494921875\" height=\"40\" stroke=\"black\" fill=\"white\" stroke-width=\"1\" /><text x=\"12503.462441406253\" y=\"325.0\" dominant-baseline=\"middle\" text-anchor=\"middle\" font-size=\"14px\" font-family=\"Arial\">Ry(-0.064π)</text><circle cx=\"12588.037187500004\" cy=\"275.0\" r=\"10.0\" /><rect x=\"12568.037187500004\" y=\"305.0\" width=\"40\" height=\"40\" stroke=\"black\" fill=\"white\" stroke-width=\"1\" /><text x=\"12588.037187500004\" y=\"325.0\" dominant-baseline=\"middle\" text-anchor=\"middle\" font-size=\"18px\" font-family=\"Arial\">X</text><rect x=\"12628.037187500004\" y=\"305.0\" width=\"89.1494921875\" height=\"40\" stroke=\"black\" fill=\"white\" stroke-width=\"1\" /><text x=\"12672.611933593753\" y=\"325.0\" dominant-baseline=\"middle\" text-anchor=\"middle\" font-size=\"14px\" font-family=\"Arial\">Ry(-0.033π)</text><circle cx=\"12757.186679687504\" cy=\"225.0\" r=\"10.0\" /><rect x=\"12737.186679687504\" y=\"305.0\" width=\"40\" height=\"40\" stroke=\"black\" fill=\"white\" stroke-width=\"1\" /><text x=\"12757.186679687504\" y=\"325.0\" dominant-baseline=\"middle\" text-anchor=\"middle\" font-size=\"18px\" font-family=\"Arial\">X</text><rect x=\"12797.186679687504\" y=\"305.0\" width=\"84.097734375\" height=\"40\" stroke=\"black\" fill=\"white\" stroke-width=\"1\" /><text x=\"12839.235546875003\" y=\"325.0\" dominant-baseline=\"middle\" text-anchor=\"middle\" font-size=\"14px\" font-family=\"Arial\">Ry(0.002π)</text><circle cx=\"12921.284414062504\" cy=\"275.0\" r=\"10.0\" /><rect x=\"12901.284414062504\" y=\"305.0\" width=\"40\" height=\"40\" stroke=\"black\" fill=\"white\" stroke-width=\"1\" /><text x=\"12921.284414062504\" y=\"325.0\" dominant-baseline=\"middle\" text-anchor=\"middle\" font-size=\"18px\" font-family=\"Arial\">X</text><rect x=\"12961.284414062504\" y=\"305.0\" width=\"89.1494921875\" height=\"40\" stroke=\"black\" fill=\"white\" stroke-width=\"1\" /><text x=\"13005.859160156253\" y=\"325.0\" dominant-baseline=\"middle\" text-anchor=\"middle\" font-size=\"14px\" font-family=\"Arial\">Ry(-0.029π)</text><circle cx=\"13090.433906250004\" cy=\"175.0\" r=\"10.0\" /><rect x=\"13070.433906250004\" y=\"305.0\" width=\"40\" height=\"40\" stroke=\"black\" fill=\"white\" stroke-width=\"1\" /><text x=\"13090.433906250004\" y=\"325.0\" dominant-baseline=\"middle\" text-anchor=\"middle\" font-size=\"18px\" font-family=\"Arial\">X</text><rect x=\"13130.433906250004\" y=\"305.0\" width=\"84.097734375\" height=\"40\" stroke=\"black\" fill=\"white\" stroke-width=\"1\" /><text x=\"13172.482773437503\" y=\"325.0\" dominant-baseline=\"middle\" text-anchor=\"middle\" font-size=\"14px\" font-family=\"Arial\">Ry(0.028π)</text><circle cx=\"13254.531640625004\" cy=\"275.0\" r=\"10.0\" /><rect x=\"13234.531640625004\" y=\"305.0\" width=\"40\" height=\"40\" stroke=\"black\" fill=\"white\" stroke-width=\"1\" /><text x=\"13254.531640625004\" y=\"325.0\" dominant-baseline=\"middle\" text-anchor=\"middle\" font-size=\"18px\" font-family=\"Arial\">X</text><rect x=\"13294.531640625004\" y=\"305.0\" width=\"84.097734375\" height=\"40\" stroke=\"black\" fill=\"white\" stroke-width=\"1\" /><text x=\"13336.580507812503\" y=\"325.0\" dominant-baseline=\"middle\" text-anchor=\"middle\" font-size=\"14px\" font-family=\"Arial\">Ry(0.016π)</text><circle cx=\"13418.629375000004\" cy=\"225.0\" r=\"10.0\" /><rect x=\"13398.629375000004\" y=\"305.0\" width=\"40\" height=\"40\" stroke=\"black\" fill=\"white\" stroke-width=\"1\" /><text x=\"13418.629375000004\" y=\"325.0\" dominant-baseline=\"middle\" text-anchor=\"middle\" font-size=\"18px\" font-family=\"Arial\">X</text><rect x=\"13458.629375000004\" y=\"305.0\" width=\"84.097734375\" height=\"40\" stroke=\"black\" fill=\"white\" stroke-width=\"1\" /><text x=\"13500.678242187503\" y=\"325.0\" dominant-baseline=\"middle\" text-anchor=\"middle\" font-size=\"14px\" font-family=\"Arial\">Ry(0.035π)</text><circle cx=\"13582.727109375004\" cy=\"275.0\" r=\"10.0\" /><rect x=\"13562.727109375004\" y=\"305.0\" width=\"40\" height=\"40\" stroke=\"black\" fill=\"white\" stroke-width=\"1\" /><text x=\"13582.727109375004\" y=\"325.0\" dominant-baseline=\"middle\" text-anchor=\"middle\" font-size=\"18px\" font-family=\"Arial\">X</text><rect x=\"13622.727109375004\" y=\"305.0\" width=\"84.097734375\" height=\"40\" stroke=\"black\" fill=\"white\" stroke-width=\"1\" /><text x=\"13664.775976562503\" y=\"325.0\" dominant-baseline=\"middle\" text-anchor=\"middle\" font-size=\"14px\" font-family=\"Arial\">Ry(0.046π)</text><circle cx=\"13746.824843750004\" cy=\"125.0\" r=\"10.0\" /><rect x=\"13726.824843750004\" y=\"305.0\" width=\"40\" height=\"40\" stroke=\"black\" fill=\"white\" stroke-width=\"1\" /><text x=\"13746.824843750004\" y=\"325.0\" dominant-baseline=\"middle\" text-anchor=\"middle\" font-size=\"18px\" font-family=\"Arial\">X</text><rect x=\"13786.824843750004\" y=\"305.0\" width=\"89.1494921875\" height=\"40\" stroke=\"black\" fill=\"white\" stroke-width=\"1\" /><text x=\"13831.399589843753\" y=\"325.0\" dominant-baseline=\"middle\" text-anchor=\"middle\" font-size=\"14px\" font-family=\"Arial\">Ry(-0.044π)</text><circle cx=\"13915.974335937504\" cy=\"275.0\" r=\"10.0\" /><rect x=\"13895.974335937504\" y=\"305.0\" width=\"40\" height=\"40\" stroke=\"black\" fill=\"white\" stroke-width=\"1\" /><text x=\"13915.974335937504\" y=\"325.0\" dominant-baseline=\"middle\" text-anchor=\"middle\" font-size=\"18px\" font-family=\"Arial\">X</text><rect x=\"13955.974335937504\" y=\"305.0\" width=\"89.1494921875\" height=\"40\" stroke=\"black\" fill=\"white\" stroke-width=\"1\" /><text x=\"14000.549082031253\" y=\"325.0\" dominant-baseline=\"middle\" text-anchor=\"middle\" font-size=\"14px\" font-family=\"Arial\">Ry(-0.038π)</text><circle cx=\"14085.123828125004\" cy=\"225.0\" r=\"10.0\" /><rect x=\"14065.123828125004\" y=\"305.0\" width=\"40\" height=\"40\" stroke=\"black\" fill=\"white\" stroke-width=\"1\" /><text x=\"14085.123828125004\" y=\"325.0\" dominant-baseline=\"middle\" text-anchor=\"middle\" font-size=\"18px\" font-family=\"Arial\">X</text><rect x=\"14125.123828125004\" y=\"305.0\" width=\"89.1494921875\" height=\"40\" stroke=\"black\" fill=\"white\" stroke-width=\"1\" /><text x=\"14169.698574218753\" y=\"325.0\" dominant-baseline=\"middle\" text-anchor=\"middle\" font-size=\"14px\" font-family=\"Arial\">Ry(-0.019π)</text><circle cx=\"14254.273320312504\" cy=\"275.0\" r=\"10.0\" /><rect x=\"14234.273320312504\" y=\"305.0\" width=\"40\" height=\"40\" stroke=\"black\" fill=\"white\" stroke-width=\"1\" /><text x=\"14254.273320312504\" y=\"325.0\" dominant-baseline=\"middle\" text-anchor=\"middle\" font-size=\"18px\" font-family=\"Arial\">X</text><rect x=\"14294.273320312504\" y=\"305.0\" width=\"89.1494921875\" height=\"40\" stroke=\"black\" fill=\"white\" stroke-width=\"1\" /><text x=\"14338.848066406254\" y=\"325.0\" dominant-baseline=\"middle\" text-anchor=\"middle\" font-size=\"14px\" font-family=\"Arial\">Ry(-0.025π)</text><circle cx=\"14423.422812500005\" cy=\"175.0\" r=\"10.0\" /><rect x=\"14403.422812500005\" y=\"305.0\" width=\"40\" height=\"40\" stroke=\"black\" fill=\"white\" stroke-width=\"1\" /><text x=\"14423.422812500005\" y=\"325.0\" dominant-baseline=\"middle\" text-anchor=\"middle\" font-size=\"18px\" font-family=\"Arial\">X</text><rect x=\"14463.422812500005\" y=\"305.0\" width=\"89.1494921875\" height=\"40\" stroke=\"black\" fill=\"white\" stroke-width=\"1\" /><text x=\"14507.997558593754\" y=\"325.0\" dominant-baseline=\"middle\" text-anchor=\"middle\" font-size=\"14px\" font-family=\"Arial\">Ry(-0.049π)</text><circle cx=\"14592.572304687505\" cy=\"275.0\" r=\"10.0\" /><rect x=\"14572.572304687505\" y=\"305.0\" width=\"40\" height=\"40\" stroke=\"black\" fill=\"white\" stroke-width=\"1\" /><text x=\"14592.572304687505\" y=\"325.0\" dominant-baseline=\"middle\" text-anchor=\"middle\" font-size=\"18px\" font-family=\"Arial\">X</text><rect x=\"14632.572304687505\" y=\"305.0\" width=\"89.1494921875\" height=\"40\" stroke=\"black\" fill=\"white\" stroke-width=\"1\" /><text x=\"14677.147050781254\" y=\"325.0\" dominant-baseline=\"middle\" text-anchor=\"middle\" font-size=\"14px\" font-family=\"Arial\">Ry(-0.006π)</text><circle cx=\"14761.721796875005\" cy=\"225.0\" r=\"10.0\" /><rect x=\"14741.721796875005\" y=\"305.0\" width=\"40\" height=\"40\" stroke=\"black\" fill=\"white\" stroke-width=\"1\" /><text x=\"14761.721796875005\" y=\"325.0\" dominant-baseline=\"middle\" text-anchor=\"middle\" font-size=\"18px\" font-family=\"Arial\">X</text><rect x=\"14801.721796875005\" y=\"305.0\" width=\"89.1494921875\" height=\"40\" stroke=\"black\" fill=\"white\" stroke-width=\"1\" /><text x=\"14846.296542968754\" y=\"325.0\" dominant-baseline=\"middle\" text-anchor=\"middle\" font-size=\"14px\" font-family=\"Arial\">Ry(-0.013π)</text><circle cx=\"14930.871289062505\" cy=\"275.0\" r=\"10.0\" /><rect x=\"14910.871289062505\" y=\"305.0\" width=\"40\" height=\"40\" stroke=\"black\" fill=\"white\" stroke-width=\"1\" /><text x=\"14930.871289062505\" y=\"325.0\" dominant-baseline=\"middle\" text-anchor=\"middle\" font-size=\"18px\" font-family=\"Arial\">X</text><rect x=\"14970.871289062505\" y=\"305.0\" width=\"89.1494921875\" height=\"40\" stroke=\"black\" fill=\"white\" stroke-width=\"1\" /><text x=\"15015.446035156254\" y=\"325.0\" dominant-baseline=\"middle\" text-anchor=\"middle\" font-size=\"14px\" font-family=\"Arial\">Ry(-0.056π)</text><circle cx=\"15100.020781250005\" cy=\"25.0\" r=\"10.0\" /><rect x=\"15080.020781250005\" y=\"305.0\" width=\"40\" height=\"40\" stroke=\"black\" fill=\"white\" stroke-width=\"1\" /><text x=\"15100.020781250005\" y=\"325.0\" dominant-baseline=\"middle\" text-anchor=\"middle\" font-size=\"18px\" font-family=\"Arial\">X</text><rect x=\"15140.020781250005\" y=\"305.0\" width=\"89.1494921875\" height=\"40\" stroke=\"black\" fill=\"white\" stroke-width=\"1\" /><text x=\"15184.595527343754\" y=\"325.0\" dominant-baseline=\"middle\" text-anchor=\"middle\" font-size=\"14px\" font-family=\"Arial\">Ry(-0.066π)</text><circle cx=\"15269.170273437505\" cy=\"275.0\" r=\"10.0\" /><rect x=\"15249.170273437505\" y=\"305.0\" width=\"40\" height=\"40\" stroke=\"black\" fill=\"white\" stroke-width=\"1\" /><text x=\"15269.170273437505\" y=\"325.0\" dominant-baseline=\"middle\" text-anchor=\"middle\" font-size=\"18px\" font-family=\"Arial\">X</text><rect x=\"15309.170273437505\" y=\"305.0\" width=\"89.1494921875\" height=\"40\" stroke=\"black\" fill=\"white\" stroke-width=\"1\" /><text x=\"15353.745019531254\" y=\"325.0\" dominant-baseline=\"middle\" text-anchor=\"middle\" font-size=\"14px\" font-family=\"Arial\">Ry(-0.012π)</text><circle cx=\"15438.319765625005\" cy=\"225.0\" r=\"10.0\" /><rect x=\"15418.319765625005\" y=\"305.0\" width=\"40\" height=\"40\" stroke=\"black\" fill=\"white\" stroke-width=\"1\" /><text x=\"15438.319765625005\" y=\"325.0\" dominant-baseline=\"middle\" text-anchor=\"middle\" font-size=\"18px\" font-family=\"Arial\">X</text><rect x=\"15478.319765625005\" y=\"305.0\" width=\"84.097734375\" height=\"40\" stroke=\"black\" fill=\"white\" stroke-width=\"1\" /><text x=\"15520.368632812504\" y=\"325.0\" dominant-baseline=\"middle\" text-anchor=\"middle\" font-size=\"14px\" font-family=\"Arial\">Ry(0.128π)</text><circle cx=\"15602.417500000005\" cy=\"275.0\" r=\"10.0\" /><rect x=\"15582.417500000005\" y=\"305.0\" width=\"40\" height=\"40\" stroke=\"black\" fill=\"white\" stroke-width=\"1\" /><text x=\"15602.417500000005\" y=\"325.0\" dominant-baseline=\"middle\" text-anchor=\"middle\" font-size=\"18px\" font-family=\"Arial\">X</text><rect x=\"15642.417500000005\" y=\"305.0\" width=\"84.097734375\" height=\"40\" stroke=\"black\" fill=\"white\" stroke-width=\"1\" /><text x=\"15684.466367187504\" y=\"325.0\" dominant-baseline=\"middle\" text-anchor=\"middle\" font-size=\"14px\" font-family=\"Arial\">Ry(0.074π)</text><circle cx=\"15766.515234375005\" cy=\"175.0\" r=\"10.0\" /><rect x=\"15746.515234375005\" y=\"305.0\" width=\"40\" height=\"40\" stroke=\"black\" fill=\"white\" stroke-width=\"1\" /><text x=\"15766.515234375005\" y=\"325.0\" dominant-baseline=\"middle\" text-anchor=\"middle\" font-size=\"18px\" font-family=\"Arial\">X</text><rect x=\"15806.515234375005\" y=\"305.0\" width=\"84.097734375\" height=\"40\" stroke=\"black\" fill=\"white\" stroke-width=\"1\" /><text x=\"15848.564101562504\" y=\"325.0\" dominant-baseline=\"middle\" text-anchor=\"middle\" font-size=\"14px\" font-family=\"Arial\">Ry(0.043π)</text><circle cx=\"15930.612968750005\" cy=\"275.0\" r=\"10.0\" /><rect x=\"15910.612968750005\" y=\"305.0\" width=\"40\" height=\"40\" stroke=\"black\" fill=\"white\" stroke-width=\"1\" /><text x=\"15930.612968750005\" y=\"325.0\" dominant-baseline=\"middle\" text-anchor=\"middle\" font-size=\"18px\" font-family=\"Arial\">X</text><rect x=\"15970.612968750005\" y=\"305.0\" width=\"84.097734375\" height=\"40\" stroke=\"black\" fill=\"white\" stroke-width=\"1\" /><text x=\"16012.661835937504\" y=\"325.0\" dominant-baseline=\"middle\" text-anchor=\"middle\" font-size=\"14px\" font-family=\"Arial\">Ry(0.029π)</text><circle cx=\"16094.710703125005\" cy=\"225.0\" r=\"10.0\" /><rect x=\"16074.710703125005\" y=\"305.0\" width=\"40\" height=\"40\" stroke=\"black\" fill=\"white\" stroke-width=\"1\" /><text x=\"16094.710703125005\" y=\"325.0\" dominant-baseline=\"middle\" text-anchor=\"middle\" font-size=\"18px\" font-family=\"Arial\">X</text><rect x=\"16134.710703125005\" y=\"305.0\" width=\"84.097734375\" height=\"40\" stroke=\"black\" fill=\"white\" stroke-width=\"1\" /><text x=\"16176.759570312504\" y=\"325.0\" dominant-baseline=\"middle\" text-anchor=\"middle\" font-size=\"14px\" font-family=\"Arial\">Ry(0.019π)</text><circle cx=\"16258.808437500005\" cy=\"275.0\" r=\"10.0\" /><rect x=\"16238.808437500005\" y=\"305.0\" width=\"40\" height=\"40\" stroke=\"black\" fill=\"white\" stroke-width=\"1\" /><text x=\"16258.808437500005\" y=\"325.0\" dominant-baseline=\"middle\" text-anchor=\"middle\" font-size=\"18px\" font-family=\"Arial\">X</text><rect x=\"16298.808437500005\" y=\"305.0\" width=\"84.097734375\" height=\"40\" stroke=\"black\" fill=\"white\" stroke-width=\"1\" /><text x=\"16340.857304687504\" y=\"325.0\" dominant-baseline=\"middle\" text-anchor=\"middle\" font-size=\"14px\" font-family=\"Arial\">Ry(0.034π)</text><circle cx=\"16422.906171875005\" cy=\"125.0\" r=\"10.0\" /><rect x=\"16402.906171875005\" y=\"305.0\" width=\"40\" height=\"40\" stroke=\"black\" fill=\"white\" stroke-width=\"1\" /><text x=\"16422.906171875005\" y=\"325.0\" dominant-baseline=\"middle\" text-anchor=\"middle\" font-size=\"18px\" font-family=\"Arial\">X</text><rect x=\"16462.906171875005\" y=\"305.0\" width=\"44.4971484375\" height=\"40\" stroke=\"black\" fill=\"white\" stroke-width=\"1\" /><text x=\"16485.154746093755\" y=\"325.0\" dominant-baseline=\"middle\" text-anchor=\"middle\" font-size=\"14px\" font-family=\"Arial\">Ry(0)</text><circle cx=\"16547.403320312504\" cy=\"275.0\" r=\"10.0\" /><rect x=\"16527.403320312504\" y=\"305.0\" width=\"40\" height=\"40\" stroke=\"black\" fill=\"white\" stroke-width=\"1\" /><text x=\"16547.403320312504\" y=\"325.0\" dominant-baseline=\"middle\" text-anchor=\"middle\" font-size=\"18px\" font-family=\"Arial\">X</text><rect x=\"16587.403320312504\" y=\"305.0\" width=\"84.097734375\" height=\"40\" stroke=\"black\" fill=\"white\" stroke-width=\"1\" /><text x=\"16629.452187500003\" y=\"325.0\" dominant-baseline=\"middle\" text-anchor=\"middle\" font-size=\"14px\" font-family=\"Arial\">Ry(0.002π)</text><circle cx=\"16711.501054687502\" cy=\"225.0\" r=\"10.0\" /><rect x=\"16691.501054687502\" y=\"305.0\" width=\"40\" height=\"40\" stroke=\"black\" fill=\"white\" stroke-width=\"1\" /><text x=\"16711.501054687502\" y=\"325.0\" dominant-baseline=\"middle\" text-anchor=\"middle\" font-size=\"18px\" font-family=\"Arial\">X</text><rect x=\"16751.501054687502\" y=\"305.0\" width=\"89.1494921875\" height=\"40\" stroke=\"black\" fill=\"white\" stroke-width=\"1\" /><text x=\"16796.07580078125\" y=\"325.0\" dominant-baseline=\"middle\" text-anchor=\"middle\" font-size=\"14px\" font-family=\"Arial\">Ry(-0.062π)</text><circle cx=\"16880.650546875\" cy=\"275.0\" r=\"10.0\" /><rect x=\"16860.650546875\" y=\"305.0\" width=\"40\" height=\"40\" stroke=\"black\" fill=\"white\" stroke-width=\"1\" /><text x=\"16880.650546875\" y=\"325.0\" dominant-baseline=\"middle\" text-anchor=\"middle\" font-size=\"18px\" font-family=\"Arial\">X</text><rect x=\"16920.650546875\" y=\"305.0\" width=\"89.1494921875\" height=\"40\" stroke=\"black\" fill=\"white\" stroke-width=\"1\" /><text x=\"16965.22529296875\" y=\"325.0\" dominant-baseline=\"middle\" text-anchor=\"middle\" font-size=\"14px\" font-family=\"Arial\">Ry(-0.064π)</text><circle cx=\"17049.8000390625\" cy=\"175.0\" r=\"10.0\" /><rect x=\"17029.8000390625\" y=\"305.0\" width=\"40\" height=\"40\" stroke=\"black\" fill=\"white\" stroke-width=\"1\" /><text x=\"17049.8000390625\" y=\"325.0\" dominant-baseline=\"middle\" text-anchor=\"middle\" font-size=\"18px\" font-family=\"Arial\">X</text><rect x=\"17089.8000390625\" y=\"305.0\" width=\"84.097734375\" height=\"40\" stroke=\"black\" fill=\"white\" stroke-width=\"1\" /><text x=\"17131.848906249998\" y=\"325.0\" dominant-baseline=\"middle\" text-anchor=\"middle\" font-size=\"14px\" font-family=\"Arial\">Ry(0.004π)</text><circle cx=\"17213.897773437497\" cy=\"275.0\" r=\"10.0\" /><rect x=\"17193.897773437497\" y=\"305.0\" width=\"40\" height=\"40\" stroke=\"black\" fill=\"white\" stroke-width=\"1\" /><text x=\"17213.897773437497\" y=\"325.0\" dominant-baseline=\"middle\" text-anchor=\"middle\" font-size=\"18px\" font-family=\"Arial\">X</text><rect x=\"17253.897773437497\" y=\"305.0\" width=\"84.097734375\" height=\"40\" stroke=\"black\" fill=\"white\" stroke-width=\"1\" /><text x=\"17295.946640624996\" y=\"325.0\" dominant-baseline=\"middle\" text-anchor=\"middle\" font-size=\"14px\" font-family=\"Arial\">Ry(0.071π)</text><circle cx=\"17377.995507812495\" cy=\"225.0\" r=\"10.0\" /><rect x=\"17357.995507812495\" y=\"305.0\" width=\"40\" height=\"40\" stroke=\"black\" fill=\"white\" stroke-width=\"1\" /><text x=\"17377.995507812495\" y=\"325.0\" dominant-baseline=\"middle\" text-anchor=\"middle\" font-size=\"18px\" font-family=\"Arial\">X</text><rect x=\"17417.995507812495\" y=\"305.0\" width=\"84.097734375\" height=\"40\" stroke=\"black\" fill=\"white\" stroke-width=\"1\" /><text x=\"17460.044374999994\" y=\"325.0\" dominant-baseline=\"middle\" text-anchor=\"middle\" font-size=\"14px\" font-family=\"Arial\">Ry(0.059π)</text><circle cx=\"17542.093242187493\" cy=\"275.0\" r=\"10.0\" /><rect x=\"17522.093242187493\" y=\"305.0\" width=\"40\" height=\"40\" stroke=\"black\" fill=\"white\" stroke-width=\"1\" /><text x=\"17542.093242187493\" y=\"325.0\" dominant-baseline=\"middle\" text-anchor=\"middle\" font-size=\"18px\" font-family=\"Arial\">X</text><rect x=\"17582.093242187493\" y=\"305.0\" width=\"89.1494921875\" height=\"40\" stroke=\"black\" fill=\"white\" stroke-width=\"1\" /><text x=\"17626.667988281242\" y=\"325.0\" dominant-baseline=\"middle\" text-anchor=\"middle\" font-size=\"14px\" font-family=\"Arial\">Ry(-0.009π)</text><circle cx=\"17711.24273437499\" cy=\"75.0\" r=\"10.0\" /><rect x=\"17691.24273437499\" y=\"305.0\" width=\"40\" height=\"40\" stroke=\"black\" fill=\"white\" stroke-width=\"1\" /><text x=\"17711.24273437499\" y=\"325.0\" dominant-baseline=\"middle\" text-anchor=\"middle\" font-size=\"18px\" font-family=\"Arial\">X</text><rect x=\"17751.24273437499\" y=\"305.0\" width=\"89.1494921875\" height=\"40\" stroke=\"black\" fill=\"white\" stroke-width=\"1\" /><text x=\"17795.81748046874\" y=\"325.0\" dominant-baseline=\"middle\" text-anchor=\"middle\" font-size=\"14px\" font-family=\"Arial\">Ry(-0.036π)</text><circle cx=\"17880.39222656249\" cy=\"275.0\" r=\"10.0\" /><rect x=\"17860.39222656249\" y=\"305.0\" width=\"40\" height=\"40\" stroke=\"black\" fill=\"white\" stroke-width=\"1\" /><text x=\"17880.39222656249\" y=\"325.0\" dominant-baseline=\"middle\" text-anchor=\"middle\" font-size=\"18px\" font-family=\"Arial\">X</text><rect x=\"17920.39222656249\" y=\"305.0\" width=\"84.097734375\" height=\"40\" stroke=\"black\" fill=\"white\" stroke-width=\"1\" /><text x=\"17962.44109374999\" y=\"325.0\" dominant-baseline=\"middle\" text-anchor=\"middle\" font-size=\"14px\" font-family=\"Arial\">Ry(0.033π)</text><circle cx=\"18044.489960937488\" cy=\"225.0\" r=\"10.0\" /><rect x=\"18024.489960937488\" y=\"305.0\" width=\"40\" height=\"40\" stroke=\"black\" fill=\"white\" stroke-width=\"1\" /><text x=\"18044.489960937488\" y=\"325.0\" dominant-baseline=\"middle\" text-anchor=\"middle\" font-size=\"18px\" font-family=\"Arial\">X</text><rect x=\"18084.489960937488\" y=\"305.0\" width=\"84.097734375\" height=\"40\" stroke=\"black\" fill=\"white\" stroke-width=\"1\" /><text x=\"18126.538828124987\" y=\"325.0\" dominant-baseline=\"middle\" text-anchor=\"middle\" font-size=\"14px\" font-family=\"Arial\">Ry(0.036π)</text><circle cx=\"18208.587695312486\" cy=\"275.0\" r=\"10.0\" /><rect x=\"18188.587695312486\" y=\"305.0\" width=\"40\" height=\"40\" stroke=\"black\" fill=\"white\" stroke-width=\"1\" /><text x=\"18208.587695312486\" y=\"325.0\" dominant-baseline=\"middle\" text-anchor=\"middle\" font-size=\"18px\" font-family=\"Arial\">X</text><rect x=\"18248.587695312486\" y=\"305.0\" width=\"89.1494921875\" height=\"40\" stroke=\"black\" fill=\"white\" stroke-width=\"1\" /><text x=\"18293.162441406235\" y=\"325.0\" dominant-baseline=\"middle\" text-anchor=\"middle\" font-size=\"14px\" font-family=\"Arial\">Ry(-0.033π)</text><circle cx=\"18377.737187499984\" cy=\"175.0\" r=\"10.0\" /><rect x=\"18357.737187499984\" y=\"305.0\" width=\"40\" height=\"40\" stroke=\"black\" fill=\"white\" stroke-width=\"1\" /><text x=\"18377.737187499984\" y=\"325.0\" dominant-baseline=\"middle\" text-anchor=\"middle\" font-size=\"18px\" font-family=\"Arial\">X</text><rect x=\"18417.737187499984\" y=\"305.0\" width=\"84.097734375\" height=\"40\" stroke=\"black\" fill=\"white\" stroke-width=\"1\" /><text x=\"18459.786054687484\" y=\"325.0\" dominant-baseline=\"middle\" text-anchor=\"middle\" font-size=\"14px\" font-family=\"Arial\">Ry(0.027π)</text><circle cx=\"18541.834921874983\" cy=\"275.0\" r=\"10.0\" /><rect x=\"18521.834921874983\" y=\"305.0\" width=\"40\" height=\"40\" stroke=\"black\" fill=\"white\" stroke-width=\"1\" /><text x=\"18541.834921874983\" y=\"325.0\" dominant-baseline=\"middle\" text-anchor=\"middle\" font-size=\"18px\" font-family=\"Arial\">X</text><rect x=\"18581.834921874983\" y=\"305.0\" width=\"89.1494921875\" height=\"40\" stroke=\"black\" fill=\"white\" stroke-width=\"1\" /><text x=\"18626.40966796873\" y=\"325.0\" dominant-baseline=\"middle\" text-anchor=\"middle\" font-size=\"14px\" font-family=\"Arial\">Ry(-0.031π)</text><circle cx=\"18710.98441406248\" cy=\"225.0\" r=\"10.0\" /><rect x=\"18690.98441406248\" y=\"305.0\" width=\"40\" height=\"40\" stroke=\"black\" fill=\"white\" stroke-width=\"1\" /><text x=\"18710.98441406248\" y=\"325.0\" dominant-baseline=\"middle\" text-anchor=\"middle\" font-size=\"18px\" font-family=\"Arial\">X</text><rect x=\"18750.98441406248\" y=\"305.0\" width=\"89.1494921875\" height=\"40\" stroke=\"black\" fill=\"white\" stroke-width=\"1\" /><text x=\"18795.55916015623\" y=\"325.0\" dominant-baseline=\"middle\" text-anchor=\"middle\" font-size=\"14px\" font-family=\"Arial\">Ry(-0.027π)</text><circle cx=\"18880.13390624998\" cy=\"275.0\" r=\"10.0\" /><rect x=\"18860.13390624998\" y=\"305.0\" width=\"40\" height=\"40\" stroke=\"black\" fill=\"white\" stroke-width=\"1\" /><text x=\"18880.13390624998\" y=\"325.0\" dominant-baseline=\"middle\" text-anchor=\"middle\" font-size=\"18px\" font-family=\"Arial\">X</text><rect x=\"18920.13390624998\" y=\"305.0\" width=\"84.097734375\" height=\"40\" stroke=\"black\" fill=\"white\" stroke-width=\"1\" /><text x=\"18962.18277343748\" y=\"325.0\" dominant-baseline=\"middle\" text-anchor=\"middle\" font-size=\"14px\" font-family=\"Arial\">Ry(0.031π)</text><circle cx=\"19044.231640624977\" cy=\"125.0\" r=\"10.0\" /><rect x=\"19024.231640624977\" y=\"305.0\" width=\"40\" height=\"40\" stroke=\"black\" fill=\"white\" stroke-width=\"1\" /><text x=\"19044.231640624977\" y=\"325.0\" dominant-baseline=\"middle\" text-anchor=\"middle\" font-size=\"18px\" font-family=\"Arial\">X</text><rect x=\"19084.231640624977\" y=\"305.0\" width=\"89.1494921875\" height=\"40\" stroke=\"black\" fill=\"white\" stroke-width=\"1\" /><text x=\"19128.806386718727\" y=\"325.0\" dominant-baseline=\"middle\" text-anchor=\"middle\" font-size=\"14px\" font-family=\"Arial\">Ry(-0.043π)</text><circle cx=\"19213.381132812476\" cy=\"275.0\" r=\"10.0\" /><rect x=\"19193.381132812476\" y=\"305.0\" width=\"40\" height=\"40\" stroke=\"black\" fill=\"white\" stroke-width=\"1\" /><text x=\"19213.381132812476\" y=\"325.0\" dominant-baseline=\"middle\" text-anchor=\"middle\" font-size=\"18px\" font-family=\"Arial\">X</text><rect x=\"19253.381132812476\" y=\"305.0\" width=\"84.097734375\" height=\"40\" stroke=\"black\" fill=\"white\" stroke-width=\"1\" /><text x=\"19295.429999999975\" y=\"325.0\" dominant-baseline=\"middle\" text-anchor=\"middle\" font-size=\"14px\" font-family=\"Arial\">Ry(0.024π)</text><circle cx=\"19377.478867187474\" cy=\"225.0\" r=\"10.0\" /><rect x=\"19357.478867187474\" y=\"305.0\" width=\"40\" height=\"40\" stroke=\"black\" fill=\"white\" stroke-width=\"1\" /><text x=\"19377.478867187474\" y=\"325.0\" dominant-baseline=\"middle\" text-anchor=\"middle\" font-size=\"18px\" font-family=\"Arial\">X</text><rect x=\"19417.478867187474\" y=\"305.0\" width=\"84.097734375\" height=\"40\" stroke=\"black\" fill=\"white\" stroke-width=\"1\" /><text x=\"19459.527734374973\" y=\"325.0\" dominant-baseline=\"middle\" text-anchor=\"middle\" font-size=\"14px\" font-family=\"Arial\">Ry(0.043π)</text><circle cx=\"19541.576601562472\" cy=\"275.0\" r=\"10.0\" /><rect x=\"19521.576601562472\" y=\"305.0\" width=\"40\" height=\"40\" stroke=\"black\" fill=\"white\" stroke-width=\"1\" /><text x=\"19541.576601562472\" y=\"325.0\" dominant-baseline=\"middle\" text-anchor=\"middle\" font-size=\"18px\" font-family=\"Arial\">X</text><rect x=\"19581.576601562472\" y=\"305.0\" width=\"89.1494921875\" height=\"40\" stroke=\"black\" fill=\"white\" stroke-width=\"1\" /><text x=\"19626.15134765622\" y=\"325.0\" dominant-baseline=\"middle\" text-anchor=\"middle\" font-size=\"14px\" font-family=\"Arial\">Ry(-0.024π)</text><circle cx=\"19710.72609374997\" cy=\"175.0\" r=\"10.0\" /><rect x=\"19690.72609374997\" y=\"305.0\" width=\"40\" height=\"40\" stroke=\"black\" fill=\"white\" stroke-width=\"1\" /><text x=\"19710.72609374997\" y=\"325.0\" dominant-baseline=\"middle\" text-anchor=\"middle\" font-size=\"18px\" font-family=\"Arial\">X</text><rect x=\"19750.72609374997\" y=\"305.0\" width=\"89.1494921875\" height=\"40\" stroke=\"black\" fill=\"white\" stroke-width=\"1\" /><text x=\"19795.30083984372\" y=\"325.0\" dominant-baseline=\"middle\" text-anchor=\"middle\" font-size=\"14px\" font-family=\"Arial\">Ry(-0.064π)</text><circle cx=\"19879.87558593747\" cy=\"275.0\" r=\"10.0\" /><rect x=\"19859.87558593747\" y=\"305.0\" width=\"40\" height=\"40\" stroke=\"black\" fill=\"white\" stroke-width=\"1\" /><text x=\"19879.87558593747\" y=\"325.0\" dominant-baseline=\"middle\" text-anchor=\"middle\" font-size=\"18px\" font-family=\"Arial\">X</text><rect x=\"19919.87558593747\" y=\"305.0\" width=\"89.1494921875\" height=\"40\" stroke=\"black\" fill=\"white\" stroke-width=\"1\" /><text x=\"19964.450332031218\" y=\"325.0\" dominant-baseline=\"middle\" text-anchor=\"middle\" font-size=\"14px\" font-family=\"Arial\">Ry(-0.091π)</text><circle cx=\"20049.025078124967\" cy=\"225.0\" r=\"10.0\" /><rect x=\"20029.025078124967\" y=\"305.0\" width=\"40\" height=\"40\" stroke=\"black\" fill=\"white\" stroke-width=\"1\" /><text x=\"20049.025078124967\" y=\"325.0\" dominant-baseline=\"middle\" text-anchor=\"middle\" font-size=\"18px\" font-family=\"Arial\">X</text><rect x=\"20089.025078124967\" y=\"305.0\" width=\"89.1494921875\" height=\"40\" stroke=\"black\" fill=\"white\" stroke-width=\"1\" /><text x=\"20133.599824218716\" y=\"325.0\" dominant-baseline=\"middle\" text-anchor=\"middle\" font-size=\"14px\" font-family=\"Arial\">Ry(-0.061π)</text><circle cx=\"20218.174570312465\" cy=\"275.0\" r=\"10.0\" /><rect x=\"20198.174570312465\" y=\"305.0\" width=\"40\" height=\"40\" stroke=\"black\" fill=\"white\" stroke-width=\"1\" /><text x=\"20218.174570312465\" y=\"325.0\" dominant-baseline=\"middle\" text-anchor=\"middle\" font-size=\"18px\" font-family=\"Arial\">X</text><rect x=\"20258.174570312465\" y=\"305.0\" width=\"89.1494921875\" height=\"40\" stroke=\"black\" fill=\"white\" stroke-width=\"1\" /><text x=\"20302.749316406214\" y=\"325.0\" dominant-baseline=\"middle\" text-anchor=\"middle\" font-size=\"14px\" font-family=\"Arial\">Ry(-0.034π)</text><circle cx=\"20387.324062499963\" cy=\"25.0\" r=\"10.0\" /><rect x=\"20367.324062499963\" y=\"305.0\" width=\"40\" height=\"40\" stroke=\"black\" fill=\"white\" stroke-width=\"1\" /><text x=\"20387.324062499963\" y=\"325.0\" dominant-baseline=\"middle\" text-anchor=\"middle\" font-size=\"18px\" font-family=\"Arial\">X</text><circle cx=\"20447.324062499963\" cy=\"325.0\" r=\"10.0\" /><rect x=\"20427.324062499963\" y=\"355.0\" width=\"40\" height=\"40\" stroke=\"black\" fill=\"white\" stroke-width=\"1\" /><text x=\"20447.324062499963\" y=\"375.0\" dominant-baseline=\"middle\" text-anchor=\"middle\" font-size=\"18px\" font-family=\"Arial\">X</text><rect x=\"20487.324062499963\" y=\"355.0\" width=\"84.097734375\" height=\"40\" stroke=\"black\" fill=\"white\" stroke-width=\"1\" /><text x=\"20529.372929687463\" y=\"375.0\" dominant-baseline=\"middle\" text-anchor=\"middle\" font-size=\"14px\" font-family=\"Arial\">Ry(0.026π)</text><circle cx=\"20611.42179687496\" cy=\"275.0\" r=\"10.0\" /><rect x=\"20591.42179687496\" y=\"355.0\" width=\"40\" height=\"40\" stroke=\"black\" fill=\"white\" stroke-width=\"1\" /><text x=\"20611.42179687496\" y=\"375.0\" dominant-baseline=\"middle\" text-anchor=\"middle\" font-size=\"18px\" font-family=\"Arial\">X</text><rect x=\"20651.42179687496\" y=\"355.0\" width=\"89.1494921875\" height=\"40\" stroke=\"black\" fill=\"white\" stroke-width=\"1\" /><text x=\"20695.99654296871\" y=\"375.0\" dominant-baseline=\"middle\" text-anchor=\"middle\" font-size=\"14px\" font-family=\"Arial\">Ry(-0.019π)</text><circle cx=\"20780.57128906246\" cy=\"325.0\" r=\"10.0\" /><rect x=\"20760.57128906246\" y=\"355.0\" width=\"40\" height=\"40\" stroke=\"black\" fill=\"white\" stroke-width=\"1\" /><text x=\"20780.57128906246\" y=\"375.0\" dominant-baseline=\"middle\" text-anchor=\"middle\" font-size=\"18px\" font-family=\"Arial\">X</text><rect x=\"20820.57128906246\" y=\"355.0\" width=\"84.097734375\" height=\"40\" stroke=\"black\" fill=\"white\" stroke-width=\"1\" /><text x=\"20862.62015624996\" y=\"375.0\" dominant-baseline=\"middle\" text-anchor=\"middle\" font-size=\"14px\" font-family=\"Arial\">Ry(0.011π)</text><circle cx=\"20944.66902343746\" cy=\"225.0\" r=\"10.0\" /><rect x=\"20924.66902343746\" y=\"355.0\" width=\"40\" height=\"40\" stroke=\"black\" fill=\"white\" stroke-width=\"1\" /><text x=\"20944.66902343746\" y=\"375.0\" dominant-baseline=\"middle\" text-anchor=\"middle\" font-size=\"18px\" font-family=\"Arial\">X</text><rect x=\"20984.66902343746\" y=\"355.0\" width=\"89.1494921875\" height=\"40\" stroke=\"black\" fill=\"white\" stroke-width=\"1\" /><text x=\"21029.243769531207\" y=\"375.0\" dominant-baseline=\"middle\" text-anchor=\"middle\" font-size=\"14px\" font-family=\"Arial\">Ry(-0.139π)</text><circle cx=\"21113.818515624956\" cy=\"325.0\" r=\"10.0\" /><rect x=\"21093.818515624956\" y=\"355.0\" width=\"40\" height=\"40\" stroke=\"black\" fill=\"white\" stroke-width=\"1\" /><text x=\"21113.818515624956\" y=\"375.0\" dominant-baseline=\"middle\" text-anchor=\"middle\" font-size=\"18px\" font-family=\"Arial\">X</text><rect x=\"21153.818515624956\" y=\"355.0\" width=\"89.1494921875\" height=\"40\" stroke=\"black\" fill=\"white\" stroke-width=\"1\" /><text x=\"21198.393261718706\" y=\"375.0\" dominant-baseline=\"middle\" text-anchor=\"middle\" font-size=\"14px\" font-family=\"Arial\">Ry(-0.089π)</text><circle cx=\"21282.968007812455\" cy=\"275.0\" r=\"10.0\" /><rect x=\"21262.968007812455\" y=\"355.0\" width=\"40\" height=\"40\" stroke=\"black\" fill=\"white\" stroke-width=\"1\" /><text x=\"21282.968007812455\" y=\"375.0\" dominant-baseline=\"middle\" text-anchor=\"middle\" font-size=\"18px\" font-family=\"Arial\">X</text><rect x=\"21322.968007812455\" y=\"355.0\" width=\"89.1494921875\" height=\"40\" stroke=\"black\" fill=\"white\" stroke-width=\"1\" /><text x=\"21367.542753906204\" y=\"375.0\" dominant-baseline=\"middle\" text-anchor=\"middle\" font-size=\"14px\" font-family=\"Arial\">Ry(-0.044π)</text><circle cx=\"21452.117499999953\" cy=\"325.0\" r=\"10.0\" /><rect x=\"21432.117499999953\" y=\"355.0\" width=\"40\" height=\"40\" stroke=\"black\" fill=\"white\" stroke-width=\"1\" /><text x=\"21452.117499999953\" y=\"375.0\" dominant-baseline=\"middle\" text-anchor=\"middle\" font-size=\"18px\" font-family=\"Arial\">X</text><rect x=\"21492.117499999953\" y=\"355.0\" width=\"84.097734375\" height=\"40\" stroke=\"black\" fill=\"white\" stroke-width=\"1\" /><text x=\"21534.166367187452\" y=\"375.0\" dominant-baseline=\"middle\" text-anchor=\"middle\" font-size=\"14px\" font-family=\"Arial\">Ry(0.051π)</text><circle cx=\"21616.21523437495\" cy=\"175.0\" r=\"10.0\" /><rect x=\"21596.21523437495\" y=\"355.0\" width=\"40\" height=\"40\" stroke=\"black\" fill=\"white\" stroke-width=\"1\" /><text x=\"21616.21523437495\" y=\"375.0\" dominant-baseline=\"middle\" text-anchor=\"middle\" font-size=\"18px\" font-family=\"Arial\">X</text><rect x=\"21656.21523437495\" y=\"355.0\" width=\"80.242265625\" height=\"40\" stroke=\"black\" fill=\"white\" stroke-width=\"1\" /><text x=\"21696.33636718745\" y=\"375.0\" dominant-baseline=\"middle\" text-anchor=\"middle\" font-size=\"14px\" font-family=\"Arial\">Ry(-0.02π)</text><circle cx=\"21776.45749999995\" cy=\"325.0\" r=\"10.0\" /><rect x=\"21756.45749999995\" y=\"355.0\" width=\"40\" height=\"40\" stroke=\"black\" fill=\"white\" stroke-width=\"1\" /><text x=\"21776.45749999995\" y=\"375.0\" dominant-baseline=\"middle\" text-anchor=\"middle\" font-size=\"18px\" font-family=\"Arial\">X</text><rect x=\"21816.45749999995\" y=\"355.0\" width=\"89.1494921875\" height=\"40\" stroke=\"black\" fill=\"white\" stroke-width=\"1\" /><text x=\"21861.0322460937\" y=\"375.0\" dominant-baseline=\"middle\" text-anchor=\"middle\" font-size=\"14px\" font-family=\"Arial\">Ry(-0.001π)</text><circle cx=\"21945.606992187448\" cy=\"275.0\" r=\"10.0\" /><rect x=\"21925.606992187448\" y=\"355.0\" width=\"40\" height=\"40\" stroke=\"black\" fill=\"white\" stroke-width=\"1\" /><text x=\"21945.606992187448\" y=\"375.0\" dominant-baseline=\"middle\" text-anchor=\"middle\" font-size=\"18px\" font-family=\"Arial\">X</text><rect x=\"21985.606992187448\" y=\"355.0\" width=\"89.1494921875\" height=\"40\" stroke=\"black\" fill=\"white\" stroke-width=\"1\" /><text x=\"22030.181738281197\" y=\"375.0\" dominant-baseline=\"middle\" text-anchor=\"middle\" font-size=\"14px\" font-family=\"Arial\">Ry(-0.002π)</text><circle cx=\"22114.756484374946\" cy=\"325.0\" r=\"10.0\" /><rect x=\"22094.756484374946\" y=\"355.0\" width=\"40\" height=\"40\" stroke=\"black\" fill=\"white\" stroke-width=\"1\" /><text x=\"22114.756484374946\" y=\"375.0\" dominant-baseline=\"middle\" text-anchor=\"middle\" font-size=\"18px\" font-family=\"Arial\">X</text><rect x=\"22154.756484374946\" y=\"355.0\" width=\"84.097734375\" height=\"40\" stroke=\"black\" fill=\"white\" stroke-width=\"1\" /><text x=\"22196.805351562445\" y=\"375.0\" dominant-baseline=\"middle\" text-anchor=\"middle\" font-size=\"14px\" font-family=\"Arial\">Ry(0.028π)</text><circle cx=\"22278.854218749944\" cy=\"225.0\" r=\"10.0\" /><rect x=\"22258.854218749944\" y=\"355.0\" width=\"40\" height=\"40\" stroke=\"black\" fill=\"white\" stroke-width=\"1\" /><text x=\"22278.854218749944\" y=\"375.0\" dominant-baseline=\"middle\" text-anchor=\"middle\" font-size=\"18px\" font-family=\"Arial\">X</text><rect x=\"22318.854218749944\" y=\"355.0\" width=\"75.1905078125\" height=\"40\" stroke=\"black\" fill=\"white\" stroke-width=\"1\" /><text x=\"22356.449472656193\" y=\"375.0\" dominant-baseline=\"middle\" text-anchor=\"middle\" font-size=\"14px\" font-family=\"Arial\">Ry(0.02π)</text><circle cx=\"22434.044726562443\" cy=\"325.0\" r=\"10.0\" /><rect x=\"22414.044726562443\" y=\"355.0\" width=\"40\" height=\"40\" stroke=\"black\" fill=\"white\" stroke-width=\"1\" /><text x=\"22434.044726562443\" y=\"375.0\" dominant-baseline=\"middle\" text-anchor=\"middle\" font-size=\"18px\" font-family=\"Arial\">X</text><rect x=\"22474.044726562443\" y=\"355.0\" width=\"84.097734375\" height=\"40\" stroke=\"black\" fill=\"white\" stroke-width=\"1\" /><text x=\"22516.09359374994\" y=\"375.0\" dominant-baseline=\"middle\" text-anchor=\"middle\" font-size=\"14px\" font-family=\"Arial\">Ry(0.001π)</text><circle cx=\"22598.14246093744\" cy=\"275.0\" r=\"10.0\" /><rect x=\"22578.14246093744\" y=\"355.0\" width=\"40\" height=\"40\" stroke=\"black\" fill=\"white\" stroke-width=\"1\" /><text x=\"22598.14246093744\" y=\"375.0\" dominant-baseline=\"middle\" text-anchor=\"middle\" font-size=\"18px\" font-family=\"Arial\">X</text><rect x=\"22638.14246093744\" y=\"355.0\" width=\"84.097734375\" height=\"40\" stroke=\"black\" fill=\"white\" stroke-width=\"1\" /><text x=\"22680.19132812494\" y=\"375.0\" dominant-baseline=\"middle\" text-anchor=\"middle\" font-size=\"14px\" font-family=\"Arial\">Ry(0.002π)</text><circle cx=\"22762.24019531244\" cy=\"325.0\" r=\"10.0\" /><rect x=\"22742.24019531244\" y=\"355.0\" width=\"40\" height=\"40\" stroke=\"black\" fill=\"white\" stroke-width=\"1\" /><text x=\"22762.24019531244\" y=\"375.0\" dominant-baseline=\"middle\" text-anchor=\"middle\" font-size=\"18px\" font-family=\"Arial\">X</text><rect x=\"22802.24019531244\" y=\"355.0\" width=\"89.1494921875\" height=\"40\" stroke=\"black\" fill=\"white\" stroke-width=\"1\" /><text x=\"22846.814941406188\" y=\"375.0\" dominant-baseline=\"middle\" text-anchor=\"middle\" font-size=\"14px\" font-family=\"Arial\">Ry(-0.028π)</text><circle cx=\"22931.389687499937\" cy=\"125.0\" r=\"10.0\" /><rect x=\"22911.389687499937\" y=\"355.0\" width=\"40\" height=\"40\" stroke=\"black\" fill=\"white\" stroke-width=\"1\" /><text x=\"22931.389687499937\" y=\"375.0\" dominant-baseline=\"middle\" text-anchor=\"middle\" font-size=\"18px\" font-family=\"Arial\">X</text><rect x=\"22971.389687499937\" y=\"355.0\" width=\"84.097734375\" height=\"40\" stroke=\"black\" fill=\"white\" stroke-width=\"1\" /><text x=\"23013.438554687436\" y=\"375.0\" dominant-baseline=\"middle\" text-anchor=\"middle\" font-size=\"14px\" font-family=\"Arial\">Ry(0.026π)</text><circle cx=\"23095.487421874936\" cy=\"325.0\" r=\"10.0\" /><rect x=\"23075.487421874936\" y=\"355.0\" width=\"40\" height=\"40\" stroke=\"black\" fill=\"white\" stroke-width=\"1\" /><text x=\"23095.487421874936\" y=\"375.0\" dominant-baseline=\"middle\" text-anchor=\"middle\" font-size=\"18px\" font-family=\"Arial\">X</text><rect x=\"23135.487421874936\" y=\"355.0\" width=\"89.1494921875\" height=\"40\" stroke=\"black\" fill=\"white\" stroke-width=\"1\" /><text x=\"23180.062167968685\" y=\"375.0\" dominant-baseline=\"middle\" text-anchor=\"middle\" font-size=\"14px\" font-family=\"Arial\">Ry(-0.016π)</text><circle cx=\"23264.636914062434\" cy=\"275.0\" r=\"10.0\" /><rect x=\"23244.636914062434\" y=\"355.0\" width=\"40\" height=\"40\" stroke=\"black\" fill=\"white\" stroke-width=\"1\" /><text x=\"23264.636914062434\" y=\"375.0\" dominant-baseline=\"middle\" text-anchor=\"middle\" font-size=\"18px\" font-family=\"Arial\">X</text><rect x=\"23304.636914062434\" y=\"355.0\" width=\"84.097734375\" height=\"40\" stroke=\"black\" fill=\"white\" stroke-width=\"1\" /><text x=\"23346.685781249933\" y=\"375.0\" dominant-baseline=\"middle\" text-anchor=\"middle\" font-size=\"14px\" font-family=\"Arial\">Ry(0.004π)</text><circle cx=\"23428.734648437432\" cy=\"325.0\" r=\"10.0\" /><rect x=\"23408.734648437432\" y=\"355.0\" width=\"40\" height=\"40\" stroke=\"black\" fill=\"white\" stroke-width=\"1\" /><text x=\"23428.734648437432\" y=\"375.0\" dominant-baseline=\"middle\" text-anchor=\"middle\" font-size=\"18px\" font-family=\"Arial\">X</text><rect x=\"23468.734648437432\" y=\"355.0\" width=\"89.1494921875\" height=\"40\" stroke=\"black\" fill=\"white\" stroke-width=\"1\" /><text x=\"23513.30939453118\" y=\"375.0\" dominant-baseline=\"middle\" text-anchor=\"middle\" font-size=\"14px\" font-family=\"Arial\">Ry(-0.033π)</text><circle cx=\"23597.88414062493\" cy=\"225.0\" r=\"10.0\" /><rect x=\"23577.88414062493\" y=\"355.0\" width=\"40\" height=\"40\" stroke=\"black\" fill=\"white\" stroke-width=\"1\" /><text x=\"23597.88414062493\" y=\"375.0\" dominant-baseline=\"middle\" text-anchor=\"middle\" font-size=\"18px\" font-family=\"Arial\">X</text><rect x=\"23637.88414062493\" y=\"355.0\" width=\"89.1494921875\" height=\"40\" stroke=\"black\" fill=\"white\" stroke-width=\"1\" /><text x=\"23682.45888671868\" y=\"375.0\" dominant-baseline=\"middle\" text-anchor=\"middle\" font-size=\"14px\" font-family=\"Arial\">Ry(-0.026π)</text><circle cx=\"23767.03363281243\" cy=\"325.0\" r=\"10.0\" /><rect x=\"23747.03363281243\" y=\"355.0\" width=\"40\" height=\"40\" stroke=\"black\" fill=\"white\" stroke-width=\"1\" /><text x=\"23767.03363281243\" y=\"375.0\" dominant-baseline=\"middle\" text-anchor=\"middle\" font-size=\"18px\" font-family=\"Arial\">X</text><rect x=\"23807.03363281243\" y=\"355.0\" width=\"84.097734375\" height=\"40\" stroke=\"black\" fill=\"white\" stroke-width=\"1\" /><text x=\"23849.082499999928\" y=\"375.0\" dominant-baseline=\"middle\" text-anchor=\"middle\" font-size=\"14px\" font-family=\"Arial\">Ry(0.016π)</text><circle cx=\"23931.131367187427\" cy=\"275.0\" r=\"10.0\" /><rect x=\"23911.131367187427\" y=\"355.0\" width=\"40\" height=\"40\" stroke=\"black\" fill=\"white\" stroke-width=\"1\" /><text x=\"23931.131367187427\" y=\"375.0\" dominant-baseline=\"middle\" text-anchor=\"middle\" font-size=\"18px\" font-family=\"Arial\">X</text><rect x=\"23971.131367187427\" y=\"355.0\" width=\"89.1494921875\" height=\"40\" stroke=\"black\" fill=\"white\" stroke-width=\"1\" /><text x=\"24015.706113281176\" y=\"375.0\" dominant-baseline=\"middle\" text-anchor=\"middle\" font-size=\"14px\" font-family=\"Arial\">Ry(-0.004π)</text><circle cx=\"24100.280859374925\" cy=\"325.0\" r=\"10.0\" /><rect x=\"24080.280859374925\" y=\"355.0\" width=\"40\" height=\"40\" stroke=\"black\" fill=\"white\" stroke-width=\"1\" /><text x=\"24100.280859374925\" y=\"375.0\" dominant-baseline=\"middle\" text-anchor=\"middle\" font-size=\"18px\" font-family=\"Arial\">X</text><rect x=\"24140.280859374925\" y=\"355.0\" width=\"84.097734375\" height=\"40\" stroke=\"black\" fill=\"white\" stroke-width=\"1\" /><text x=\"24182.329726562424\" y=\"375.0\" dominant-baseline=\"middle\" text-anchor=\"middle\" font-size=\"14px\" font-family=\"Arial\">Ry(0.033π)</text><circle cx=\"24264.378593749923\" cy=\"175.0\" r=\"10.0\" /><rect x=\"24244.378593749923\" y=\"355.0\" width=\"40\" height=\"40\" stroke=\"black\" fill=\"white\" stroke-width=\"1\" /><text x=\"24264.378593749923\" y=\"375.0\" dominant-baseline=\"middle\" text-anchor=\"middle\" font-size=\"18px\" font-family=\"Arial\">X</text><rect x=\"24304.378593749923\" y=\"355.0\" width=\"84.097734375\" height=\"40\" stroke=\"black\" fill=\"white\" stroke-width=\"1\" /><text x=\"24346.427460937422\" y=\"375.0\" dominant-baseline=\"middle\" text-anchor=\"middle\" font-size=\"14px\" font-family=\"Arial\">Ry(0.027π)</text><circle cx=\"24428.47632812492\" cy=\"325.0\" r=\"10.0\" /><rect x=\"24408.47632812492\" y=\"355.0\" width=\"40\" height=\"40\" stroke=\"black\" fill=\"white\" stroke-width=\"1\" /><text x=\"24428.47632812492\" y=\"375.0\" dominant-baseline=\"middle\" text-anchor=\"middle\" font-size=\"18px\" font-family=\"Arial\">X</text><rect x=\"24468.47632812492\" y=\"355.0\" width=\"84.097734375\" height=\"40\" stroke=\"black\" fill=\"white\" stroke-width=\"1\" /><text x=\"24510.52519531242\" y=\"375.0\" dominant-baseline=\"middle\" text-anchor=\"middle\" font-size=\"14px\" font-family=\"Arial\">Ry(0.017π)</text><circle cx=\"24592.57406249992\" cy=\"275.0\" r=\"10.0\" /><rect x=\"24572.57406249992\" y=\"355.0\" width=\"40\" height=\"40\" stroke=\"black\" fill=\"white\" stroke-width=\"1\" /><text x=\"24592.57406249992\" y=\"375.0\" dominant-baseline=\"middle\" text-anchor=\"middle\" font-size=\"18px\" font-family=\"Arial\">X</text><rect x=\"24632.57406249992\" y=\"355.0\" width=\"89.1494921875\" height=\"40\" stroke=\"black\" fill=\"white\" stroke-width=\"1\" /><text x=\"24677.14880859367\" y=\"375.0\" dominant-baseline=\"middle\" text-anchor=\"middle\" font-size=\"14px\" font-family=\"Arial\">Ry(-0.012π)</text><circle cx=\"24761.723554687418\" cy=\"325.0\" r=\"10.0\" /><rect x=\"24741.723554687418\" y=\"355.0\" width=\"40\" height=\"40\" stroke=\"black\" fill=\"white\" stroke-width=\"1\" /><text x=\"24761.723554687418\" y=\"375.0\" dominant-baseline=\"middle\" text-anchor=\"middle\" font-size=\"18px\" font-family=\"Arial\">X</text><rect x=\"24801.723554687418\" y=\"355.0\" width=\"89.1494921875\" height=\"40\" stroke=\"black\" fill=\"white\" stroke-width=\"1\" /><text x=\"24846.298300781167\" y=\"375.0\" dominant-baseline=\"middle\" text-anchor=\"middle\" font-size=\"14px\" font-family=\"Arial\">Ry(-0.015π)</text><circle cx=\"24930.873046874916\" cy=\"225.0\" r=\"10.0\" /><rect x=\"24910.873046874916\" y=\"355.0\" width=\"40\" height=\"40\" stroke=\"black\" fill=\"white\" stroke-width=\"1\" /><text x=\"24930.873046874916\" y=\"375.0\" dominant-baseline=\"middle\" text-anchor=\"middle\" font-size=\"18px\" font-family=\"Arial\">X</text><rect x=\"24970.873046874916\" y=\"355.0\" width=\"89.1494921875\" height=\"40\" stroke=\"black\" fill=\"white\" stroke-width=\"1\" /><text x=\"25015.447792968665\" y=\"375.0\" dominant-baseline=\"middle\" text-anchor=\"middle\" font-size=\"14px\" font-family=\"Arial\">Ry(-0.027π)</text><circle cx=\"25100.022539062415\" cy=\"325.0\" r=\"10.0\" /><rect x=\"25080.022539062415\" y=\"355.0\" width=\"40\" height=\"40\" stroke=\"black\" fill=\"white\" stroke-width=\"1\" /><text x=\"25100.022539062415\" y=\"375.0\" dominant-baseline=\"middle\" text-anchor=\"middle\" font-size=\"18px\" font-family=\"Arial\">X</text><rect x=\"25140.022539062415\" y=\"355.0\" width=\"89.1494921875\" height=\"40\" stroke=\"black\" fill=\"white\" stroke-width=\"1\" /><text x=\"25184.597285156164\" y=\"375.0\" dominant-baseline=\"middle\" text-anchor=\"middle\" font-size=\"14px\" font-family=\"Arial\">Ry(-0.017π)</text><circle cx=\"25269.172031249913\" cy=\"275.0\" r=\"10.0\" /><rect x=\"25249.172031249913\" y=\"355.0\" width=\"40\" height=\"40\" stroke=\"black\" fill=\"white\" stroke-width=\"1\" /><text x=\"25269.172031249913\" y=\"375.0\" dominant-baseline=\"middle\" text-anchor=\"middle\" font-size=\"18px\" font-family=\"Arial\">X</text><rect x=\"25309.172031249913\" y=\"355.0\" width=\"84.097734375\" height=\"40\" stroke=\"black\" fill=\"white\" stroke-width=\"1\" /><text x=\"25351.220898437412\" y=\"375.0\" dominant-baseline=\"middle\" text-anchor=\"middle\" font-size=\"14px\" font-family=\"Arial\">Ry(0.012π)</text><circle cx=\"25433.26976562491\" cy=\"325.0\" r=\"10.0\" /><rect x=\"25413.26976562491\" y=\"355.0\" width=\"40\" height=\"40\" stroke=\"black\" fill=\"white\" stroke-width=\"1\" /><text x=\"25433.26976562491\" y=\"375.0\" dominant-baseline=\"middle\" text-anchor=\"middle\" font-size=\"18px\" font-family=\"Arial\">X</text><rect x=\"25473.26976562491\" y=\"355.0\" width=\"84.097734375\" height=\"40\" stroke=\"black\" fill=\"white\" stroke-width=\"1\" /><text x=\"25515.31863281241\" y=\"375.0\" dominant-baseline=\"middle\" text-anchor=\"middle\" font-size=\"14px\" font-family=\"Arial\">Ry(0.015π)</text><circle cx=\"25597.36749999991\" cy=\"75.0\" r=\"10.0\" /><rect x=\"25577.36749999991\" y=\"355.0\" width=\"40\" height=\"40\" stroke=\"black\" fill=\"white\" stroke-width=\"1\" /><text x=\"25597.36749999991\" y=\"375.0\" dominant-baseline=\"middle\" text-anchor=\"middle\" font-size=\"18px\" font-family=\"Arial\">X</text><rect x=\"25637.36749999991\" y=\"355.0\" width=\"89.1494921875\" height=\"40\" stroke=\"black\" fill=\"white\" stroke-width=\"1\" /><text x=\"25681.94224609366\" y=\"375.0\" dominant-baseline=\"middle\" text-anchor=\"middle\" font-size=\"14px\" font-family=\"Arial\">Ry(-0.048π)</text><circle cx=\"25766.516992187408\" cy=\"325.0\" r=\"10.0\" /><rect x=\"25746.516992187408\" y=\"355.0\" width=\"40\" height=\"40\" stroke=\"black\" fill=\"white\" stroke-width=\"1\" /><text x=\"25766.516992187408\" y=\"375.0\" dominant-baseline=\"middle\" text-anchor=\"middle\" font-size=\"18px\" font-family=\"Arial\">X</text><rect x=\"25806.516992187408\" y=\"355.0\" width=\"84.097734375\" height=\"40\" stroke=\"black\" fill=\"white\" stroke-width=\"1\" /><text x=\"25848.565859374907\" y=\"375.0\" dominant-baseline=\"middle\" text-anchor=\"middle\" font-size=\"14px\" font-family=\"Arial\">Ry(0.022π)</text><circle cx=\"25930.614726562406\" cy=\"275.0\" r=\"10.0\" /><rect x=\"25910.614726562406\" y=\"355.0\" width=\"40\" height=\"40\" stroke=\"black\" fill=\"white\" stroke-width=\"1\" /><text x=\"25930.614726562406\" y=\"375.0\" dominant-baseline=\"middle\" text-anchor=\"middle\" font-size=\"18px\" font-family=\"Arial\">X</text><rect x=\"25970.614726562406\" y=\"355.0\" width=\"84.097734375\" height=\"40\" stroke=\"black\" fill=\"white\" stroke-width=\"1\" /><text x=\"26012.663593749905\" y=\"375.0\" dominant-baseline=\"middle\" text-anchor=\"middle\" font-size=\"14px\" font-family=\"Arial\">Ry(0.001π)</text><circle cx=\"26094.712460937404\" cy=\"325.0\" r=\"10.0\" /><rect x=\"26074.712460937404\" y=\"355.0\" width=\"40\" height=\"40\" stroke=\"black\" fill=\"white\" stroke-width=\"1\" /><text x=\"26094.712460937404\" y=\"375.0\" dominant-baseline=\"middle\" text-anchor=\"middle\" font-size=\"18px\" font-family=\"Arial\">X</text><rect x=\"26134.712460937404\" y=\"355.0\" width=\"89.1494921875\" height=\"40\" stroke=\"black\" fill=\"white\" stroke-width=\"1\" /><text x=\"26179.287207031153\" y=\"375.0\" dominant-baseline=\"middle\" text-anchor=\"middle\" font-size=\"14px\" font-family=\"Arial\">Ry(-0.016π)</text><circle cx=\"26263.861953124902\" cy=\"225.0\" r=\"10.0\" /><rect x=\"26243.861953124902\" y=\"355.0\" width=\"40\" height=\"40\" stroke=\"black\" fill=\"white\" stroke-width=\"1\" /><text x=\"26263.861953124902\" y=\"375.0\" dominant-baseline=\"middle\" text-anchor=\"middle\" font-size=\"18px\" font-family=\"Arial\">X</text><rect x=\"26303.861953124902\" y=\"355.0\" width=\"84.097734375\" height=\"40\" stroke=\"black\" fill=\"white\" stroke-width=\"1\" /><text x=\"26345.9108203124\" y=\"375.0\" dominant-baseline=\"middle\" text-anchor=\"middle\" font-size=\"14px\" font-family=\"Arial\">Ry(0.017π)</text><circle cx=\"26427.9596874999\" cy=\"325.0\" r=\"10.0\" /><rect x=\"26407.9596874999\" y=\"355.0\" width=\"40\" height=\"40\" stroke=\"black\" fill=\"white\" stroke-width=\"1\" /><text x=\"26427.9596874999\" y=\"375.0\" dominant-baseline=\"middle\" text-anchor=\"middle\" font-size=\"18px\" font-family=\"Arial\">X</text><rect x=\"26467.9596874999\" y=\"355.0\" width=\"84.097734375\" height=\"40\" stroke=\"black\" fill=\"white\" stroke-width=\"1\" /><text x=\"26510.0085546874\" y=\"375.0\" dominant-baseline=\"middle\" text-anchor=\"middle\" font-size=\"14px\" font-family=\"Arial\">Ry(0.009π)</text><circle cx=\"26592.0574218749\" cy=\"275.0\" r=\"10.0\" /><rect x=\"26572.0574218749\" y=\"355.0\" width=\"40\" height=\"40\" stroke=\"black\" fill=\"white\" stroke-width=\"1\" /><text x=\"26592.0574218749\" y=\"375.0\" dominant-baseline=\"middle\" text-anchor=\"middle\" font-size=\"18px\" font-family=\"Arial\">X</text><rect x=\"26632.0574218749\" y=\"355.0\" width=\"75.1905078125\" height=\"40\" stroke=\"black\" fill=\"white\" stroke-width=\"1\" /><text x=\"26669.652675781148\" y=\"375.0\" dominant-baseline=\"middle\" text-anchor=\"middle\" font-size=\"14px\" font-family=\"Arial\">Ry(0.03π)</text><circle cx=\"26747.247929687397\" cy=\"325.0\" r=\"10.0\" /><rect x=\"26727.247929687397\" y=\"355.0\" width=\"40\" height=\"40\" stroke=\"black\" fill=\"white\" stroke-width=\"1\" /><text x=\"26747.247929687397\" y=\"375.0\" dominant-baseline=\"middle\" text-anchor=\"middle\" font-size=\"18px\" font-family=\"Arial\">X</text><rect x=\"26787.247929687397\" y=\"355.0\" width=\"89.1494921875\" height=\"40\" stroke=\"black\" fill=\"white\" stroke-width=\"1\" /><text x=\"26831.822675781146\" y=\"375.0\" dominant-baseline=\"middle\" text-anchor=\"middle\" font-size=\"14px\" font-family=\"Arial\">Ry(-0.016π)</text><circle cx=\"26916.397421874895\" cy=\"175.0\" r=\"10.0\" /><rect x=\"26896.397421874895\" y=\"355.0\" width=\"40\" height=\"40\" stroke=\"black\" fill=\"white\" stroke-width=\"1\" /><text x=\"26916.397421874895\" y=\"375.0\" dominant-baseline=\"middle\" text-anchor=\"middle\" font-size=\"18px\" font-family=\"Arial\">X</text><rect x=\"26956.397421874895\" y=\"355.0\" width=\"84.097734375\" height=\"40\" stroke=\"black\" fill=\"white\" stroke-width=\"1\" /><text x=\"26998.446289062394\" y=\"375.0\" dominant-baseline=\"middle\" text-anchor=\"middle\" font-size=\"14px\" font-family=\"Arial\">Ry(0.019π)</text><circle cx=\"27080.495156249894\" cy=\"325.0\" r=\"10.0\" /><rect x=\"27060.495156249894\" y=\"355.0\" width=\"40\" height=\"40\" stroke=\"black\" fill=\"white\" stroke-width=\"1\" /><text x=\"27080.495156249894\" y=\"375.0\" dominant-baseline=\"middle\" text-anchor=\"middle\" font-size=\"18px\" font-family=\"Arial\">X</text><rect x=\"27120.495156249894\" y=\"355.0\" width=\"89.1494921875\" height=\"40\" stroke=\"black\" fill=\"white\" stroke-width=\"1\" /><text x=\"27165.069902343643\" y=\"375.0\" dominant-baseline=\"middle\" text-anchor=\"middle\" font-size=\"14px\" font-family=\"Arial\">Ry(-0.014π)</text><circle cx=\"27249.644648437392\" cy=\"275.0\" r=\"10.0\" /><rect x=\"27229.644648437392\" y=\"355.0\" width=\"40\" height=\"40\" stroke=\"black\" fill=\"white\" stroke-width=\"1\" /><text x=\"27249.644648437392\" y=\"375.0\" dominant-baseline=\"middle\" text-anchor=\"middle\" font-size=\"18px\" font-family=\"Arial\">X</text><rect x=\"27289.644648437392\" y=\"355.0\" width=\"89.1494921875\" height=\"40\" stroke=\"black\" fill=\"white\" stroke-width=\"1\" /><text x=\"27334.21939453114\" y=\"375.0\" dominant-baseline=\"middle\" text-anchor=\"middle\" font-size=\"14px\" font-family=\"Arial\">Ry(-0.012π)</text><circle cx=\"27418.79414062489\" cy=\"325.0\" r=\"10.0\" /><rect x=\"27398.79414062489\" y=\"355.0\" width=\"40\" height=\"40\" stroke=\"black\" fill=\"white\" stroke-width=\"1\" /><text x=\"27418.79414062489\" y=\"375.0\" dominant-baseline=\"middle\" text-anchor=\"middle\" font-size=\"18px\" font-family=\"Arial\">X</text><rect x=\"27458.79414062489\" y=\"355.0\" width=\"89.1494921875\" height=\"40\" stroke=\"black\" fill=\"white\" stroke-width=\"1\" /><text x=\"27503.36888671864\" y=\"375.0\" dominant-baseline=\"middle\" text-anchor=\"middle\" font-size=\"14px\" font-family=\"Arial\">Ry(-0.005π)</text><circle cx=\"27587.94363281239\" cy=\"225.0\" r=\"10.0\" /><rect x=\"27567.94363281239\" y=\"355.0\" width=\"40\" height=\"40\" stroke=\"black\" fill=\"white\" stroke-width=\"1\" /><text x=\"27587.94363281239\" y=\"375.0\" dominant-baseline=\"middle\" text-anchor=\"middle\" font-size=\"18px\" font-family=\"Arial\">X</text><rect x=\"27627.94363281239\" y=\"355.0\" width=\"84.097734375\" height=\"40\" stroke=\"black\" fill=\"white\" stroke-width=\"1\" /><text x=\"27669.992499999888\" y=\"375.0\" dominant-baseline=\"middle\" text-anchor=\"middle\" font-size=\"14px\" font-family=\"Arial\">Ry(0.013π)</text><circle cx=\"27752.041367187387\" cy=\"325.0\" r=\"10.0\" /><rect x=\"27732.041367187387\" y=\"355.0\" width=\"40\" height=\"40\" stroke=\"black\" fill=\"white\" stroke-width=\"1\" /><text x=\"27752.041367187387\" y=\"375.0\" dominant-baseline=\"middle\" text-anchor=\"middle\" font-size=\"18px\" font-family=\"Arial\">X</text><rect x=\"27792.041367187387\" y=\"355.0\" width=\"89.1494921875\" height=\"40\" stroke=\"black\" fill=\"white\" stroke-width=\"1\" /><text x=\"27836.616113281136\" y=\"375.0\" dominant-baseline=\"middle\" text-anchor=\"middle\" font-size=\"14px\" font-family=\"Arial\">Ry(-0.017π)</text><circle cx=\"27921.190859374885\" cy=\"275.0\" r=\"10.0\" /><rect x=\"27901.190859374885\" y=\"355.0\" width=\"40\" height=\"40\" stroke=\"black\" fill=\"white\" stroke-width=\"1\" /><text x=\"27921.190859374885\" y=\"375.0\" dominant-baseline=\"middle\" text-anchor=\"middle\" font-size=\"18px\" font-family=\"Arial\">X</text><rect x=\"27961.190859374885\" y=\"355.0\" width=\"89.1494921875\" height=\"40\" stroke=\"black\" fill=\"white\" stroke-width=\"1\" /><text x=\"28005.765605468634\" y=\"375.0\" dominant-baseline=\"middle\" text-anchor=\"middle\" font-size=\"14px\" font-family=\"Arial\">Ry(-0.019π)</text><circle cx=\"28090.340351562383\" cy=\"325.0\" r=\"10.0\" /><rect x=\"28070.340351562383\" y=\"355.0\" width=\"40\" height=\"40\" stroke=\"black\" fill=\"white\" stroke-width=\"1\" /><text x=\"28090.340351562383\" y=\"375.0\" dominant-baseline=\"middle\" text-anchor=\"middle\" font-size=\"18px\" font-family=\"Arial\">X</text><rect x=\"28130.340351562383\" y=\"355.0\" width=\"84.097734375\" height=\"40\" stroke=\"black\" fill=\"white\" stroke-width=\"1\" /><text x=\"28172.389218749882\" y=\"375.0\" dominant-baseline=\"middle\" text-anchor=\"middle\" font-size=\"14px\" font-family=\"Arial\">Ry(0.036π)</text><circle cx=\"28254.43808593738\" cy=\"125.0\" r=\"10.0\" /><rect x=\"28234.43808593738\" y=\"355.0\" width=\"40\" height=\"40\" stroke=\"black\" fill=\"white\" stroke-width=\"1\" /><text x=\"28254.43808593738\" y=\"375.0\" dominant-baseline=\"middle\" text-anchor=\"middle\" font-size=\"18px\" font-family=\"Arial\">X</text><rect x=\"28294.43808593738\" y=\"355.0\" width=\"89.1494921875\" height=\"40\" stroke=\"black\" fill=\"white\" stroke-width=\"1\" /><text x=\"28339.01283203113\" y=\"375.0\" dominant-baseline=\"middle\" text-anchor=\"middle\" font-size=\"14px\" font-family=\"Arial\">Ry(-0.044π)</text><circle cx=\"28423.58757812488\" cy=\"325.0\" r=\"10.0\" /><rect x=\"28403.58757812488\" y=\"355.0\" width=\"40\" height=\"40\" stroke=\"black\" fill=\"white\" stroke-width=\"1\" /><text x=\"28423.58757812488\" y=\"375.0\" dominant-baseline=\"middle\" text-anchor=\"middle\" font-size=\"18px\" font-family=\"Arial\">X</text><rect x=\"28463.58757812488\" y=\"355.0\" width=\"75.1905078125\" height=\"40\" stroke=\"black\" fill=\"white\" stroke-width=\"1\" /><text x=\"28501.18283203113\" y=\"375.0\" dominant-baseline=\"middle\" text-anchor=\"middle\" font-size=\"14px\" font-family=\"Arial\">Ry(0.02π)</text><circle cx=\"28578.778085937378\" cy=\"275.0\" r=\"10.0\" /><rect x=\"28558.778085937378\" y=\"355.0\" width=\"40\" height=\"40\" stroke=\"black\" fill=\"white\" stroke-width=\"1\" /><text x=\"28578.778085937378\" y=\"375.0\" dominant-baseline=\"middle\" text-anchor=\"middle\" font-size=\"18px\" font-family=\"Arial\">X</text><rect x=\"28618.778085937378\" y=\"355.0\" width=\"84.097734375\" height=\"40\" stroke=\"black\" fill=\"white\" stroke-width=\"1\" /><text x=\"28660.826953124877\" y=\"375.0\" dominant-baseline=\"middle\" text-anchor=\"middle\" font-size=\"14px\" font-family=\"Arial\">Ry(0.007π)</text><circle cx=\"28742.875820312376\" cy=\"325.0\" r=\"10.0\" /><rect x=\"28722.875820312376\" y=\"355.0\" width=\"40\" height=\"40\" stroke=\"black\" fill=\"white\" stroke-width=\"1\" /><text x=\"28742.875820312376\" y=\"375.0\" dominant-baseline=\"middle\" text-anchor=\"middle\" font-size=\"18px\" font-family=\"Arial\">X</text><rect x=\"28782.875820312376\" y=\"355.0\" width=\"89.1494921875\" height=\"40\" stroke=\"black\" fill=\"white\" stroke-width=\"1\" /><text x=\"28827.450566406125\" y=\"375.0\" dominant-baseline=\"middle\" text-anchor=\"middle\" font-size=\"14px\" font-family=\"Arial\">Ry(-0.013π)</text><circle cx=\"28912.025312499874\" cy=\"225.0\" r=\"10.0\" /><rect x=\"28892.025312499874\" y=\"355.0\" width=\"40\" height=\"40\" stroke=\"black\" fill=\"white\" stroke-width=\"1\" /><text x=\"28912.025312499874\" y=\"375.0\" dominant-baseline=\"middle\" text-anchor=\"middle\" font-size=\"18px\" font-family=\"Arial\">X</text><rect x=\"28952.025312499874\" y=\"355.0\" width=\"84.097734375\" height=\"40\" stroke=\"black\" fill=\"white\" stroke-width=\"1\" /><text x=\"28994.074179687374\" y=\"375.0\" dominant-baseline=\"middle\" text-anchor=\"middle\" font-size=\"14px\" font-family=\"Arial\">Ry(0.013π)</text><circle cx=\"29076.123046874873\" cy=\"325.0\" r=\"10.0\" /><rect x=\"29056.123046874873\" y=\"355.0\" width=\"40\" height=\"40\" stroke=\"black\" fill=\"white\" stroke-width=\"1\" /><text x=\"29076.123046874873\" y=\"375.0\" dominant-baseline=\"middle\" text-anchor=\"middle\" font-size=\"18px\" font-family=\"Arial\">X</text><rect x=\"29116.123046874873\" y=\"355.0\" width=\"84.097734375\" height=\"40\" stroke=\"black\" fill=\"white\" stroke-width=\"1\" /><text x=\"29158.17191406237\" y=\"375.0\" dominant-baseline=\"middle\" text-anchor=\"middle\" font-size=\"14px\" font-family=\"Arial\">Ry(0.012π)</text><circle cx=\"29240.22078124987\" cy=\"275.0\" r=\"10.0\" /><rect x=\"29220.22078124987\" y=\"355.0\" width=\"40\" height=\"40\" stroke=\"black\" fill=\"white\" stroke-width=\"1\" /><text x=\"29240.22078124987\" y=\"375.0\" dominant-baseline=\"middle\" text-anchor=\"middle\" font-size=\"18px\" font-family=\"Arial\">X</text><rect x=\"29280.22078124987\" y=\"355.0\" width=\"84.097734375\" height=\"40\" stroke=\"black\" fill=\"white\" stroke-width=\"1\" /><text x=\"29322.26964843737\" y=\"375.0\" dominant-baseline=\"middle\" text-anchor=\"middle\" font-size=\"14px\" font-family=\"Arial\">Ry(0.024π)</text><circle cx=\"29404.31851562487\" cy=\"325.0\" r=\"10.0\" /><rect x=\"29384.31851562487\" y=\"355.0\" width=\"40\" height=\"40\" stroke=\"black\" fill=\"white\" stroke-width=\"1\" /><text x=\"29404.31851562487\" y=\"375.0\" dominant-baseline=\"middle\" text-anchor=\"middle\" font-size=\"18px\" font-family=\"Arial\">X</text><rect x=\"29444.31851562487\" y=\"355.0\" width=\"89.1494921875\" height=\"40\" stroke=\"black\" fill=\"white\" stroke-width=\"1\" /><text x=\"29488.89326171862\" y=\"375.0\" dominant-baseline=\"middle\" text-anchor=\"middle\" font-size=\"14px\" font-family=\"Arial\">Ry(-0.018π)</text><circle cx=\"29573.468007812367\" cy=\"175.0\" r=\"10.0\" /><rect x=\"29553.468007812367\" y=\"355.0\" width=\"40\" height=\"40\" stroke=\"black\" fill=\"white\" stroke-width=\"1\" /><text x=\"29573.468007812367\" y=\"375.0\" dominant-baseline=\"middle\" text-anchor=\"middle\" font-size=\"18px\" font-family=\"Arial\">X</text><rect x=\"29613.468007812367\" y=\"355.0\" width=\"89.1494921875\" height=\"40\" stroke=\"black\" fill=\"white\" stroke-width=\"1\" /><text x=\"29658.042753906117\" y=\"375.0\" dominant-baseline=\"middle\" text-anchor=\"middle\" font-size=\"14px\" font-family=\"Arial\">Ry(-0.018π)</text><circle cx=\"29742.617499999866\" cy=\"325.0\" r=\"10.0\" /><rect x=\"29722.617499999866\" y=\"355.0\" width=\"40\" height=\"40\" stroke=\"black\" fill=\"white\" stroke-width=\"1\" /><text x=\"29742.617499999866\" y=\"375.0\" dominant-baseline=\"middle\" text-anchor=\"middle\" font-size=\"18px\" font-family=\"Arial\">X</text><rect x=\"29782.617499999866\" y=\"355.0\" width=\"89.1494921875\" height=\"40\" stroke=\"black\" fill=\"white\" stroke-width=\"1\" /><text x=\"29827.192246093615\" y=\"375.0\" dominant-baseline=\"middle\" text-anchor=\"middle\" font-size=\"14px\" font-family=\"Arial\">Ry(-0.009π)</text><circle cx=\"29911.766992187364\" cy=\"275.0\" r=\"10.0\" /><rect x=\"29891.766992187364\" y=\"355.0\" width=\"40\" height=\"40\" stroke=\"black\" fill=\"white\" stroke-width=\"1\" /><text x=\"29911.766992187364\" y=\"375.0\" dominant-baseline=\"middle\" text-anchor=\"middle\" font-size=\"18px\" font-family=\"Arial\">X</text><rect x=\"29951.766992187364\" y=\"355.0\" width=\"84.097734375\" height=\"40\" stroke=\"black\" fill=\"white\" stroke-width=\"1\" /><text x=\"29993.815859374863\" y=\"375.0\" dominant-baseline=\"middle\" text-anchor=\"middle\" font-size=\"14px\" font-family=\"Arial\">Ry(0.021π)</text><circle cx=\"30075.864726562362\" cy=\"325.0\" r=\"10.0\" /><rect x=\"30055.864726562362\" y=\"355.0\" width=\"40\" height=\"40\" stroke=\"black\" fill=\"white\" stroke-width=\"1\" /><text x=\"30075.864726562362\" y=\"375.0\" dominant-baseline=\"middle\" text-anchor=\"middle\" font-size=\"18px\" font-family=\"Arial\">X</text><rect x=\"30115.864726562362\" y=\"355.0\" width=\"84.097734375\" height=\"40\" stroke=\"black\" fill=\"white\" stroke-width=\"1\" /><text x=\"30157.91359374986\" y=\"375.0\" dominant-baseline=\"middle\" text-anchor=\"middle\" font-size=\"14px\" font-family=\"Arial\">Ry(0.003π)</text><circle cx=\"30239.96246093736\" cy=\"225.0\" r=\"10.0\" /><rect x=\"30219.96246093736\" y=\"355.0\" width=\"40\" height=\"40\" stroke=\"black\" fill=\"white\" stroke-width=\"1\" /><text x=\"30239.96246093736\" y=\"375.0\" dominant-baseline=\"middle\" text-anchor=\"middle\" font-size=\"18px\" font-family=\"Arial\">X</text><rect x=\"30279.96246093736\" y=\"355.0\" width=\"89.1494921875\" height=\"40\" stroke=\"black\" fill=\"white\" stroke-width=\"1\" /><text x=\"30324.53720703111\" y=\"375.0\" dominant-baseline=\"middle\" text-anchor=\"middle\" font-size=\"14px\" font-family=\"Arial\">Ry(-0.014π)</text><circle cx=\"30409.11195312486\" cy=\"325.0\" r=\"10.0\" /><rect x=\"30389.11195312486\" y=\"355.0\" width=\"40\" height=\"40\" stroke=\"black\" fill=\"white\" stroke-width=\"1\" /><text x=\"30409.11195312486\" y=\"375.0\" dominant-baseline=\"middle\" text-anchor=\"middle\" font-size=\"18px\" font-family=\"Arial\">X</text><rect x=\"30449.11195312486\" y=\"355.0\" width=\"75.1905078125\" height=\"40\" stroke=\"black\" fill=\"white\" stroke-width=\"1\" /><text x=\"30486.707207031108\" y=\"375.0\" dominant-baseline=\"middle\" text-anchor=\"middle\" font-size=\"14px\" font-family=\"Arial\">Ry(0.04π)</text><circle cx=\"30564.302460937357\" cy=\"275.0\" r=\"10.0\" /><rect x=\"30544.302460937357\" y=\"355.0\" width=\"40\" height=\"40\" stroke=\"black\" fill=\"white\" stroke-width=\"1\" /><text x=\"30564.302460937357\" y=\"375.0\" dominant-baseline=\"middle\" text-anchor=\"middle\" font-size=\"18px\" font-family=\"Arial\">X</text><rect x=\"30604.302460937357\" y=\"355.0\" width=\"75.1905078125\" height=\"40\" stroke=\"black\" fill=\"white\" stroke-width=\"1\" /><text x=\"30641.897714843606\" y=\"375.0\" dominant-baseline=\"middle\" text-anchor=\"middle\" font-size=\"14px\" font-family=\"Arial\">Ry(0.01π)</text><circle cx=\"30719.492968749855\" cy=\"325.0\" r=\"10.0\" /><rect x=\"30699.492968749855\" y=\"355.0\" width=\"40\" height=\"40\" stroke=\"black\" fill=\"white\" stroke-width=\"1\" /><text x=\"30719.492968749855\" y=\"375.0\" dominant-baseline=\"middle\" text-anchor=\"middle\" font-size=\"18px\" font-family=\"Arial\">X</text><rect x=\"30759.492968749855\" y=\"355.0\" width=\"89.1494921875\" height=\"40\" stroke=\"black\" fill=\"white\" stroke-width=\"1\" /><text x=\"30804.067714843604\" y=\"375.0\" dominant-baseline=\"middle\" text-anchor=\"middle\" font-size=\"14px\" font-family=\"Arial\">Ry(-0.035π)</text><circle cx=\"30888.642460937353\" cy=\"25.0\" r=\"10.0\" /><rect x=\"30868.642460937353\" y=\"355.0\" width=\"40\" height=\"40\" stroke=\"black\" fill=\"white\" stroke-width=\"1\" /><text x=\"30888.642460937353\" y=\"375.0\" dominant-baseline=\"middle\" text-anchor=\"middle\" font-size=\"18px\" font-family=\"Arial\">X</text><rect x=\"30928.642460937353\" y=\"355.0\" width=\"89.1494921875\" height=\"40\" stroke=\"black\" fill=\"white\" stroke-width=\"1\" /><text x=\"30973.217207031103\" y=\"375.0\" dominant-baseline=\"middle\" text-anchor=\"middle\" font-size=\"14px\" font-family=\"Arial\">Ry(-0.068π)</text><circle cx=\"31057.79195312485\" cy=\"325.0\" r=\"10.0\" /><rect x=\"31037.79195312485\" y=\"355.0\" width=\"40\" height=\"40\" stroke=\"black\" fill=\"white\" stroke-width=\"1\" /><text x=\"31057.79195312485\" y=\"375.0\" dominant-baseline=\"middle\" text-anchor=\"middle\" font-size=\"18px\" font-family=\"Arial\">X</text><rect x=\"31097.79195312485\" y=\"355.0\" width=\"89.1494921875\" height=\"40\" stroke=\"black\" fill=\"white\" stroke-width=\"1\" /><text x=\"31142.3666992186\" y=\"375.0\" dominant-baseline=\"middle\" text-anchor=\"middle\" font-size=\"14px\" font-family=\"Arial\">Ry(-0.051π)</text><circle cx=\"31226.94144531235\" cy=\"275.0\" r=\"10.0\" /><rect x=\"31206.94144531235\" y=\"355.0\" width=\"40\" height=\"40\" stroke=\"black\" fill=\"white\" stroke-width=\"1\" /><text x=\"31226.94144531235\" y=\"375.0\" dominant-baseline=\"middle\" text-anchor=\"middle\" font-size=\"18px\" font-family=\"Arial\">X</text><rect x=\"31266.94144531235\" y=\"355.0\" width=\"89.1494921875\" height=\"40\" stroke=\"black\" fill=\"white\" stroke-width=\"1\" /><text x=\"31311.5161914061\" y=\"375.0\" dominant-baseline=\"middle\" text-anchor=\"middle\" font-size=\"14px\" font-family=\"Arial\">Ry(-0.036π)</text><circle cx=\"31396.09093749985\" cy=\"325.0\" r=\"10.0\" /><rect x=\"31376.09093749985\" y=\"355.0\" width=\"40\" height=\"40\" stroke=\"black\" fill=\"white\" stroke-width=\"1\" /><text x=\"31396.09093749985\" y=\"375.0\" dominant-baseline=\"middle\" text-anchor=\"middle\" font-size=\"18px\" font-family=\"Arial\">X</text><rect x=\"31436.09093749985\" y=\"355.0\" width=\"89.1494921875\" height=\"40\" stroke=\"black\" fill=\"white\" stroke-width=\"1\" /><text x=\"31480.665683593597\" y=\"375.0\" dominant-baseline=\"middle\" text-anchor=\"middle\" font-size=\"14px\" font-family=\"Arial\">Ry(-0.008π)</text><circle cx=\"31565.240429687346\" cy=\"225.0\" r=\"10.0\" /><rect x=\"31545.240429687346\" y=\"355.0\" width=\"40\" height=\"40\" stroke=\"black\" fill=\"white\" stroke-width=\"1\" /><text x=\"31565.240429687346\" y=\"375.0\" dominant-baseline=\"middle\" text-anchor=\"middle\" font-size=\"18px\" font-family=\"Arial\">X</text><rect x=\"31605.240429687346\" y=\"355.0\" width=\"84.097734375\" height=\"40\" stroke=\"black\" fill=\"white\" stroke-width=\"1\" /><text x=\"31647.289296874846\" y=\"375.0\" dominant-baseline=\"middle\" text-anchor=\"middle\" font-size=\"14px\" font-family=\"Arial\">Ry(0.099π)</text><circle cx=\"31729.338164062345\" cy=\"325.0\" r=\"10.0\" /><rect x=\"31709.338164062345\" y=\"355.0\" width=\"40\" height=\"40\" stroke=\"black\" fill=\"white\" stroke-width=\"1\" /><text x=\"31729.338164062345\" y=\"375.0\" dominant-baseline=\"middle\" text-anchor=\"middle\" font-size=\"18px\" font-family=\"Arial\">X</text><rect x=\"31769.338164062345\" y=\"355.0\" width=\"84.097734375\" height=\"40\" stroke=\"black\" fill=\"white\" stroke-width=\"1\" /><text x=\"31811.387031249844\" y=\"375.0\" dominant-baseline=\"middle\" text-anchor=\"middle\" font-size=\"14px\" font-family=\"Arial\">Ry(0.019π)</text><circle cx=\"31893.435898437343\" cy=\"275.0\" r=\"10.0\" /><rect x=\"31873.435898437343\" y=\"355.0\" width=\"40\" height=\"40\" stroke=\"black\" fill=\"white\" stroke-width=\"1\" /><text x=\"31893.435898437343\" y=\"375.0\" dominant-baseline=\"middle\" text-anchor=\"middle\" font-size=\"18px\" font-family=\"Arial\">X</text><rect x=\"31933.435898437343\" y=\"355.0\" width=\"84.097734375\" height=\"40\" stroke=\"black\" fill=\"white\" stroke-width=\"1\" /><text x=\"31975.484765624842\" y=\"375.0\" dominant-baseline=\"middle\" text-anchor=\"middle\" font-size=\"14px\" font-family=\"Arial\">Ry(0.005π)</text><circle cx=\"32057.53363281234\" cy=\"325.0\" r=\"10.0\" /><rect x=\"32037.53363281234\" y=\"355.0\" width=\"40\" height=\"40\" stroke=\"black\" fill=\"white\" stroke-width=\"1\" /><text x=\"32057.53363281234\" y=\"375.0\" dominant-baseline=\"middle\" text-anchor=\"middle\" font-size=\"18px\" font-family=\"Arial\">X</text><rect x=\"32097.53363281234\" y=\"355.0\" width=\"84.097734375\" height=\"40\" stroke=\"black\" fill=\"white\" stroke-width=\"1\" /><text x=\"32139.58249999984\" y=\"375.0\" dominant-baseline=\"middle\" text-anchor=\"middle\" font-size=\"14px\" font-family=\"Arial\">Ry(0.039π)</text><circle cx=\"32221.63136718734\" cy=\"175.0\" r=\"10.0\" /><rect x=\"32201.63136718734\" y=\"355.0\" width=\"40\" height=\"40\" stroke=\"black\" fill=\"white\" stroke-width=\"1\" /><text x=\"32221.63136718734\" y=\"375.0\" dominant-baseline=\"middle\" text-anchor=\"middle\" font-size=\"18px\" font-family=\"Arial\">X</text><rect x=\"32261.63136718734\" y=\"355.0\" width=\"75.1905078125\" height=\"40\" stroke=\"black\" fill=\"white\" stroke-width=\"1\" /><text x=\"32299.22662109359\" y=\"375.0\" dominant-baseline=\"middle\" text-anchor=\"middle\" font-size=\"14px\" font-family=\"Arial\">Ry(0.03π)</text><circle cx=\"32376.821874999838\" cy=\"325.0\" r=\"10.0\" /><rect x=\"32356.821874999838\" y=\"355.0\" width=\"40\" height=\"40\" stroke=\"black\" fill=\"white\" stroke-width=\"1\" /><text x=\"32376.821874999838\" y=\"375.0\" dominant-baseline=\"middle\" text-anchor=\"middle\" font-size=\"18px\" font-family=\"Arial\">X</text><rect x=\"32416.821874999838\" y=\"355.0\" width=\"89.1494921875\" height=\"40\" stroke=\"black\" fill=\"white\" stroke-width=\"1\" /><text x=\"32461.396621093587\" y=\"375.0\" dominant-baseline=\"middle\" text-anchor=\"middle\" font-size=\"14px\" font-family=\"Arial\">Ry(-0.022π)</text><circle cx=\"32545.971367187336\" cy=\"275.0\" r=\"10.0\" /><rect x=\"32525.971367187336\" y=\"355.0\" width=\"40\" height=\"40\" stroke=\"black\" fill=\"white\" stroke-width=\"1\" /><text x=\"32545.971367187336\" y=\"375.0\" dominant-baseline=\"middle\" text-anchor=\"middle\" font-size=\"18px\" font-family=\"Arial\">X</text><rect x=\"32585.971367187336\" y=\"355.0\" width=\"80.242265625\" height=\"40\" stroke=\"black\" fill=\"white\" stroke-width=\"1\" /><text x=\"32626.092499999835\" y=\"375.0\" dominant-baseline=\"middle\" text-anchor=\"middle\" font-size=\"14px\" font-family=\"Arial\">Ry(-0.02π)</text><circle cx=\"32706.213632812334\" cy=\"325.0\" r=\"10.0\" /><rect x=\"32686.213632812334\" y=\"355.0\" width=\"40\" height=\"40\" stroke=\"black\" fill=\"white\" stroke-width=\"1\" /><text x=\"32706.213632812334\" y=\"375.0\" dominant-baseline=\"middle\" text-anchor=\"middle\" font-size=\"18px\" font-family=\"Arial\">X</text><rect x=\"32746.213632812338\" y=\"355.0\" width=\"84.097734375\" height=\"40\" stroke=\"black\" fill=\"white\" stroke-width=\"1\" /><text x=\"32788.26249999984\" y=\"375.0\" dominant-baseline=\"middle\" text-anchor=\"middle\" font-size=\"14px\" font-family=\"Arial\">Ry(0.009π)</text><circle cx=\"32870.311367187336\" cy=\"225.0\" r=\"10.0\" /><rect x=\"32850.311367187336\" y=\"355.0\" width=\"40\" height=\"40\" stroke=\"black\" fill=\"white\" stroke-width=\"1\" /><text x=\"32870.311367187336\" y=\"375.0\" dominant-baseline=\"middle\" text-anchor=\"middle\" font-size=\"18px\" font-family=\"Arial\">X</text><rect x=\"32910.311367187336\" y=\"355.0\" width=\"84.097734375\" height=\"40\" stroke=\"black\" fill=\"white\" stroke-width=\"1\" /><text x=\"32952.360234374835\" y=\"375.0\" dominant-baseline=\"middle\" text-anchor=\"middle\" font-size=\"14px\" font-family=\"Arial\">Ry(0.001π)</text><circle cx=\"33034.409101562334\" cy=\"325.0\" r=\"10.0\" /><rect x=\"33014.409101562334\" y=\"355.0\" width=\"40\" height=\"40\" stroke=\"black\" fill=\"white\" stroke-width=\"1\" /><text x=\"33034.409101562334\" y=\"375.0\" dominant-baseline=\"middle\" text-anchor=\"middle\" font-size=\"18px\" font-family=\"Arial\">X</text><rect x=\"33074.409101562334\" y=\"355.0\" width=\"89.1494921875\" height=\"40\" stroke=\"black\" fill=\"white\" stroke-width=\"1\" /><text x=\"33118.98384765608\" y=\"375.0\" dominant-baseline=\"middle\" text-anchor=\"middle\" font-size=\"14px\" font-family=\"Arial\">Ry(-0.009π)</text><circle cx=\"33203.55859374983\" cy=\"275.0\" r=\"10.0\" /><rect x=\"33183.55859374983\" y=\"355.0\" width=\"40\" height=\"40\" stroke=\"black\" fill=\"white\" stroke-width=\"1\" /><text x=\"33203.55859374983\" y=\"375.0\" dominant-baseline=\"middle\" text-anchor=\"middle\" font-size=\"18px\" font-family=\"Arial\">X</text><rect x=\"33243.55859374983\" y=\"355.0\" width=\"89.1494921875\" height=\"40\" stroke=\"black\" fill=\"white\" stroke-width=\"1\" /><text x=\"33288.13333984358\" y=\"375.0\" dominant-baseline=\"middle\" text-anchor=\"middle\" font-size=\"14px\" font-family=\"Arial\">Ry(-0.012π)</text><circle cx=\"33372.70808593733\" cy=\"325.0\" r=\"10.0\" /><rect x=\"33352.70808593733\" y=\"355.0\" width=\"40\" height=\"40\" stroke=\"black\" fill=\"white\" stroke-width=\"1\" /><text x=\"33372.70808593733\" y=\"375.0\" dominant-baseline=\"middle\" text-anchor=\"middle\" font-size=\"18px\" font-family=\"Arial\">X</text><rect x=\"33412.70808593733\" y=\"355.0\" width=\"84.097734375\" height=\"40\" stroke=\"black\" fill=\"white\" stroke-width=\"1\" /><text x=\"33454.75695312483\" y=\"375.0\" dominant-baseline=\"middle\" text-anchor=\"middle\" font-size=\"14px\" font-family=\"Arial\">Ry(0.022π)</text><circle cx=\"33536.80582031233\" cy=\"125.0\" r=\"10.0\" /><rect x=\"33516.80582031233\" y=\"355.0\" width=\"40\" height=\"40\" stroke=\"black\" fill=\"white\" stroke-width=\"1\" /><text x=\"33536.80582031233\" y=\"375.0\" dominant-baseline=\"middle\" text-anchor=\"middle\" font-size=\"18px\" font-family=\"Arial\">X</text><rect x=\"33576.80582031233\" y=\"355.0\" width=\"89.1494921875\" height=\"40\" stroke=\"black\" fill=\"white\" stroke-width=\"1\" /><text x=\"33621.38056640608\" y=\"375.0\" dominant-baseline=\"middle\" text-anchor=\"middle\" font-size=\"14px\" font-family=\"Arial\">Ry(-0.005π)</text><circle cx=\"33705.95531249983\" cy=\"325.0\" r=\"10.0\" /><rect x=\"33685.95531249983\" y=\"355.0\" width=\"40\" height=\"40\" stroke=\"black\" fill=\"white\" stroke-width=\"1\" /><text x=\"33705.95531249983\" y=\"375.0\" dominant-baseline=\"middle\" text-anchor=\"middle\" font-size=\"18px\" font-family=\"Arial\">X</text><rect x=\"33745.95531249983\" y=\"355.0\" width=\"84.097734375\" height=\"40\" stroke=\"black\" fill=\"white\" stroke-width=\"1\" /><text x=\"33788.00417968733\" y=\"375.0\" dominant-baseline=\"middle\" text-anchor=\"middle\" font-size=\"14px\" font-family=\"Arial\">Ry(0.033π)</text><circle cx=\"33870.053046874826\" cy=\"275.0\" r=\"10.0\" /><rect x=\"33850.053046874826\" y=\"355.0\" width=\"40\" height=\"40\" stroke=\"black\" fill=\"white\" stroke-width=\"1\" /><text x=\"33870.053046874826\" y=\"375.0\" dominant-baseline=\"middle\" text-anchor=\"middle\" font-size=\"18px\" font-family=\"Arial\">X</text><rect x=\"33910.053046874826\" y=\"355.0\" width=\"84.097734375\" height=\"40\" stroke=\"black\" fill=\"white\" stroke-width=\"1\" /><text x=\"33952.101914062325\" y=\"375.0\" dominant-baseline=\"middle\" text-anchor=\"middle\" font-size=\"14px\" font-family=\"Arial\">Ry(0.024π)</text><circle cx=\"34034.150781249824\" cy=\"325.0\" r=\"10.0\" /><rect x=\"34014.150781249824\" y=\"355.0\" width=\"40\" height=\"40\" stroke=\"black\" fill=\"white\" stroke-width=\"1\" /><text x=\"34034.150781249824\" y=\"375.0\" dominant-baseline=\"middle\" text-anchor=\"middle\" font-size=\"18px\" font-family=\"Arial\">X</text><rect x=\"34074.150781249824\" y=\"355.0\" width=\"84.097734375\" height=\"40\" stroke=\"black\" fill=\"white\" stroke-width=\"1\" /><text x=\"34116.19964843732\" y=\"375.0\" dominant-baseline=\"middle\" text-anchor=\"middle\" font-size=\"14px\" font-family=\"Arial\">Ry(0.025π)</text><circle cx=\"34198.24851562482\" cy=\"225.0\" r=\"10.0\" /><rect x=\"34178.24851562482\" y=\"355.0\" width=\"40\" height=\"40\" stroke=\"black\" fill=\"white\" stroke-width=\"1\" /><text x=\"34198.24851562482\" y=\"375.0\" dominant-baseline=\"middle\" text-anchor=\"middle\" font-size=\"18px\" font-family=\"Arial\">X</text><rect x=\"34238.24851562482\" y=\"355.0\" width=\"89.1494921875\" height=\"40\" stroke=\"black\" fill=\"white\" stroke-width=\"1\" /><text x=\"34282.82326171857\" y=\"375.0\" dominant-baseline=\"middle\" text-anchor=\"middle\" font-size=\"14px\" font-family=\"Arial\">Ry(-0.026π)</text><circle cx=\"34367.39800781232\" cy=\"325.0\" r=\"10.0\" /><rect x=\"34347.39800781232\" y=\"355.0\" width=\"40\" height=\"40\" stroke=\"black\" fill=\"white\" stroke-width=\"1\" /><text x=\"34367.39800781232\" y=\"375.0\" dominant-baseline=\"middle\" text-anchor=\"middle\" font-size=\"18px\" font-family=\"Arial\">X</text><rect x=\"34407.39800781232\" y=\"355.0\" width=\"89.1494921875\" height=\"40\" stroke=\"black\" fill=\"white\" stroke-width=\"1\" /><text x=\"34451.97275390607\" y=\"375.0\" dominant-baseline=\"middle\" text-anchor=\"middle\" font-size=\"14px\" font-family=\"Arial\">Ry(-0.002π)</text><circle cx=\"34536.54749999982\" cy=\"275.0\" r=\"10.0\" /><rect x=\"34516.54749999982\" y=\"355.0\" width=\"40\" height=\"40\" stroke=\"black\" fill=\"white\" stroke-width=\"1\" /><text x=\"34536.54749999982\" y=\"375.0\" dominant-baseline=\"middle\" text-anchor=\"middle\" font-size=\"18px\" font-family=\"Arial\">X</text><rect x=\"34576.54749999982\" y=\"355.0\" width=\"84.097734375\" height=\"40\" stroke=\"black\" fill=\"white\" stroke-width=\"1\" /><text x=\"34618.59636718732\" y=\"375.0\" dominant-baseline=\"middle\" text-anchor=\"middle\" font-size=\"14px\" font-family=\"Arial\">Ry(0.007π)</text><circle cx=\"34700.64523437482\" cy=\"325.0\" r=\"10.0\" /><rect x=\"34680.64523437482\" y=\"355.0\" width=\"40\" height=\"40\" stroke=\"black\" fill=\"white\" stroke-width=\"1\" /><text x=\"34700.64523437482\" y=\"375.0\" dominant-baseline=\"middle\" text-anchor=\"middle\" font-size=\"18px\" font-family=\"Arial\">X</text><rect x=\"34740.64523437482\" y=\"355.0\" width=\"89.1494921875\" height=\"40\" stroke=\"black\" fill=\"white\" stroke-width=\"1\" /><text x=\"34785.219980468566\" y=\"375.0\" dominant-baseline=\"middle\" text-anchor=\"middle\" font-size=\"14px\" font-family=\"Arial\">Ry(-0.056π)</text><circle cx=\"34869.794726562315\" cy=\"175.0\" r=\"10.0\" /><rect x=\"34849.794726562315\" y=\"355.0\" width=\"40\" height=\"40\" stroke=\"black\" fill=\"white\" stroke-width=\"1\" /><text x=\"34869.794726562315\" y=\"375.0\" dominant-baseline=\"middle\" text-anchor=\"middle\" font-size=\"18px\" font-family=\"Arial\">X</text><rect x=\"34909.794726562315\" y=\"355.0\" width=\"89.1494921875\" height=\"40\" stroke=\"black\" fill=\"white\" stroke-width=\"1\" /><text x=\"34954.369472656064\" y=\"375.0\" dominant-baseline=\"middle\" text-anchor=\"middle\" font-size=\"14px\" font-family=\"Arial\">Ry(-0.008π)</text><circle cx=\"35038.94421874981\" cy=\"325.0\" r=\"10.0\" /><rect x=\"35018.94421874981\" y=\"355.0\" width=\"40\" height=\"40\" stroke=\"black\" fill=\"white\" stroke-width=\"1\" /><text x=\"35038.94421874981\" y=\"375.0\" dominant-baseline=\"middle\" text-anchor=\"middle\" font-size=\"18px\" font-family=\"Arial\">X</text><rect x=\"35078.94421874981\" y=\"355.0\" width=\"89.1494921875\" height=\"40\" stroke=\"black\" fill=\"white\" stroke-width=\"1\" /><text x=\"35123.51896484356\" y=\"375.0\" dominant-baseline=\"middle\" text-anchor=\"middle\" font-size=\"14px\" font-family=\"Arial\">Ry(-0.055π)</text><circle cx=\"35208.09371093731\" cy=\"275.0\" r=\"10.0\" /><rect x=\"35188.09371093731\" y=\"355.0\" width=\"40\" height=\"40\" stroke=\"black\" fill=\"white\" stroke-width=\"1\" /><text x=\"35208.09371093731\" y=\"375.0\" dominant-baseline=\"middle\" text-anchor=\"middle\" font-size=\"18px\" font-family=\"Arial\">X</text><rect x=\"35248.09371093731\" y=\"355.0\" width=\"84.097734375\" height=\"40\" stroke=\"black\" fill=\"white\" stroke-width=\"1\" /><text x=\"35290.14257812481\" y=\"375.0\" dominant-baseline=\"middle\" text-anchor=\"middle\" font-size=\"14px\" font-family=\"Arial\">Ry(0.007π)</text><circle cx=\"35372.19144531231\" cy=\"325.0\" r=\"10.0\" /><rect x=\"35352.19144531231\" y=\"355.0\" width=\"40\" height=\"40\" stroke=\"black\" fill=\"white\" stroke-width=\"1\" /><text x=\"35372.19144531231\" y=\"375.0\" dominant-baseline=\"middle\" text-anchor=\"middle\" font-size=\"18px\" font-family=\"Arial\">X</text><rect x=\"35412.19144531231\" y=\"355.0\" width=\"84.097734375\" height=\"40\" stroke=\"black\" fill=\"white\" stroke-width=\"1\" /><text x=\"35454.24031249981\" y=\"375.0\" dominant-baseline=\"middle\" text-anchor=\"middle\" font-size=\"14px\" font-family=\"Arial\">Ry(0.044π)</text><circle cx=\"35536.28917968731\" cy=\"225.0\" r=\"10.0\" /><rect x=\"35516.28917968731\" y=\"355.0\" width=\"40\" height=\"40\" stroke=\"black\" fill=\"white\" stroke-width=\"1\" /><text x=\"35536.28917968731\" y=\"375.0\" dominant-baseline=\"middle\" text-anchor=\"middle\" font-size=\"18px\" font-family=\"Arial\">X</text><rect x=\"35576.28917968731\" y=\"355.0\" width=\"84.097734375\" height=\"40\" stroke=\"black\" fill=\"white\" stroke-width=\"1\" /><text x=\"35618.33804687481\" y=\"375.0\" dominant-baseline=\"middle\" text-anchor=\"middle\" font-size=\"14px\" font-family=\"Arial\">Ry(0.039π)</text><circle cx=\"35700.38691406231\" cy=\"325.0\" r=\"10.0\" /><rect x=\"35680.38691406231\" y=\"355.0\" width=\"40\" height=\"40\" stroke=\"black\" fill=\"white\" stroke-width=\"1\" /><text x=\"35700.38691406231\" y=\"375.0\" dominant-baseline=\"middle\" text-anchor=\"middle\" font-size=\"18px\" font-family=\"Arial\">X</text><rect x=\"35740.38691406231\" y=\"355.0\" width=\"84.097734375\" height=\"40\" stroke=\"black\" fill=\"white\" stroke-width=\"1\" /><text x=\"35782.435781249806\" y=\"375.0\" dominant-baseline=\"middle\" text-anchor=\"middle\" font-size=\"14px\" font-family=\"Arial\">Ry(0.024π)</text><circle cx=\"35864.484648437305\" cy=\"275.0\" r=\"10.0\" /><rect x=\"35844.484648437305\" y=\"355.0\" width=\"40\" height=\"40\" stroke=\"black\" fill=\"white\" stroke-width=\"1\" /><text x=\"35864.484648437305\" y=\"375.0\" dominant-baseline=\"middle\" text-anchor=\"middle\" font-size=\"18px\" font-family=\"Arial\">X</text><rect x=\"35904.484648437305\" y=\"355.0\" width=\"89.1494921875\" height=\"40\" stroke=\"black\" fill=\"white\" stroke-width=\"1\" /><text x=\"35949.059394531054\" y=\"375.0\" dominant-baseline=\"middle\" text-anchor=\"middle\" font-size=\"14px\" font-family=\"Arial\">Ry(-0.038π)</text><circle cx=\"36033.6341406248\" cy=\"325.0\" r=\"10.0\" /><rect x=\"36013.6341406248\" y=\"355.0\" width=\"40\" height=\"40\" stroke=\"black\" fill=\"white\" stroke-width=\"1\" /><text x=\"36033.6341406248\" y=\"375.0\" dominant-baseline=\"middle\" text-anchor=\"middle\" font-size=\"18px\" font-family=\"Arial\">X</text><rect x=\"36073.6341406248\" y=\"355.0\" width=\"89.1494921875\" height=\"40\" stroke=\"black\" fill=\"white\" stroke-width=\"1\" /><text x=\"36118.20888671855\" y=\"375.0\" dominant-baseline=\"middle\" text-anchor=\"middle\" font-size=\"14px\" font-family=\"Arial\">Ry(-0.013π)</text><circle cx=\"36202.7836328123\" cy=\"75.0\" r=\"10.0\" /><rect x=\"36182.7836328123\" y=\"355.0\" width=\"40\" height=\"40\" stroke=\"black\" fill=\"white\" stroke-width=\"1\" /><text x=\"36202.7836328123\" y=\"375.0\" dominant-baseline=\"middle\" text-anchor=\"middle\" font-size=\"18px\" font-family=\"Arial\">X</text><rect x=\"36242.7836328123\" y=\"355.0\" width=\"89.1494921875\" height=\"40\" stroke=\"black\" fill=\"white\" stroke-width=\"1\" /><text x=\"36287.35837890605\" y=\"375.0\" dominant-baseline=\"middle\" text-anchor=\"middle\" font-size=\"14px\" font-family=\"Arial\">Ry(-0.033π)</text><circle cx=\"36371.9331249998\" cy=\"325.0\" r=\"10.0\" /><rect x=\"36351.9331249998\" y=\"355.0\" width=\"40\" height=\"40\" stroke=\"black\" fill=\"white\" stroke-width=\"1\" /><text x=\"36371.9331249998\" y=\"375.0\" dominant-baseline=\"middle\" text-anchor=\"middle\" font-size=\"18px\" font-family=\"Arial\">X</text><rect x=\"36411.9331249998\" y=\"355.0\" width=\"89.1494921875\" height=\"40\" stroke=\"black\" fill=\"white\" stroke-width=\"1\" /><text x=\"36456.50787109355\" y=\"375.0\" dominant-baseline=\"middle\" text-anchor=\"middle\" font-size=\"14px\" font-family=\"Arial\">Ry(-0.011π)</text><circle cx=\"36541.0826171873\" cy=\"275.0\" r=\"10.0\" /><rect x=\"36521.0826171873\" y=\"355.0\" width=\"40\" height=\"40\" stroke=\"black\" fill=\"white\" stroke-width=\"1\" /><text x=\"36541.0826171873\" y=\"375.0\" dominant-baseline=\"middle\" text-anchor=\"middle\" font-size=\"18px\" font-family=\"Arial\">X</text><rect x=\"36581.0826171873\" y=\"355.0\" width=\"84.097734375\" height=\"40\" stroke=\"black\" fill=\"white\" stroke-width=\"1\" /><text x=\"36623.1314843748\" y=\"375.0\" dominant-baseline=\"middle\" text-anchor=\"middle\" font-size=\"14px\" font-family=\"Arial\">Ry(0.005π)</text><circle cx=\"36705.180351562296\" cy=\"325.0\" r=\"10.0\" /><rect x=\"36685.180351562296\" y=\"355.0\" width=\"40\" height=\"40\" stroke=\"black\" fill=\"white\" stroke-width=\"1\" /><text x=\"36705.180351562296\" y=\"375.0\" dominant-baseline=\"middle\" text-anchor=\"middle\" font-size=\"18px\" font-family=\"Arial\">X</text><rect x=\"36745.180351562296\" y=\"355.0\" width=\"84.097734375\" height=\"40\" stroke=\"black\" fill=\"white\" stroke-width=\"1\" /><text x=\"36787.229218749795\" y=\"375.0\" dominant-baseline=\"middle\" text-anchor=\"middle\" font-size=\"14px\" font-family=\"Arial\">Ry(0.022π)</text><circle cx=\"36869.278085937294\" cy=\"225.0\" r=\"10.0\" /><rect x=\"36849.278085937294\" y=\"355.0\" width=\"40\" height=\"40\" stroke=\"black\" fill=\"white\" stroke-width=\"1\" /><text x=\"36869.278085937294\" y=\"375.0\" dominant-baseline=\"middle\" text-anchor=\"middle\" font-size=\"18px\" font-family=\"Arial\">X</text><rect x=\"36909.278085937294\" y=\"355.0\" width=\"84.097734375\" height=\"40\" stroke=\"black\" fill=\"white\" stroke-width=\"1\" /><text x=\"36951.32695312479\" y=\"375.0\" dominant-baseline=\"middle\" text-anchor=\"middle\" font-size=\"14px\" font-family=\"Arial\">Ry(0.033π)</text><circle cx=\"37033.37582031229\" cy=\"325.0\" r=\"10.0\" /><rect x=\"37013.37582031229\" y=\"355.0\" width=\"40\" height=\"40\" stroke=\"black\" fill=\"white\" stroke-width=\"1\" /><text x=\"37033.37582031229\" y=\"375.0\" dominant-baseline=\"middle\" text-anchor=\"middle\" font-size=\"18px\" font-family=\"Arial\">X</text><rect x=\"37073.37582031229\" y=\"355.0\" width=\"84.097734375\" height=\"40\" stroke=\"black\" fill=\"white\" stroke-width=\"1\" /><text x=\"37115.42468749979\" y=\"375.0\" dominant-baseline=\"middle\" text-anchor=\"middle\" font-size=\"14px\" font-family=\"Arial\">Ry(0.011π)</text><circle cx=\"37197.47355468729\" cy=\"275.0\" r=\"10.0\" /><rect x=\"37177.47355468729\" y=\"355.0\" width=\"40\" height=\"40\" stroke=\"black\" fill=\"white\" stroke-width=\"1\" /><text x=\"37197.47355468729\" y=\"375.0\" dominant-baseline=\"middle\" text-anchor=\"middle\" font-size=\"18px\" font-family=\"Arial\">X</text><rect x=\"37237.47355468729\" y=\"355.0\" width=\"89.1494921875\" height=\"40\" stroke=\"black\" fill=\"white\" stroke-width=\"1\" /><text x=\"37282.04830078104\" y=\"375.0\" dominant-baseline=\"middle\" text-anchor=\"middle\" font-size=\"14px\" font-family=\"Arial\">Ry(-0.005π)</text><circle cx=\"37366.62304687479\" cy=\"325.0\" r=\"10.0\" /><rect x=\"37346.62304687479\" y=\"355.0\" width=\"40\" height=\"40\" stroke=\"black\" fill=\"white\" stroke-width=\"1\" /><text x=\"37366.62304687479\" y=\"375.0\" dominant-baseline=\"middle\" text-anchor=\"middle\" font-size=\"18px\" font-family=\"Arial\">X</text><rect x=\"37406.62304687479\" y=\"355.0\" width=\"89.1494921875\" height=\"40\" stroke=\"black\" fill=\"white\" stroke-width=\"1\" /><text x=\"37451.19779296854\" y=\"375.0\" dominant-baseline=\"middle\" text-anchor=\"middle\" font-size=\"14px\" font-family=\"Arial\">Ry(-0.022π)</text><circle cx=\"37535.77253906229\" cy=\"175.0\" r=\"10.0\" /><rect x=\"37515.77253906229\" y=\"355.0\" width=\"40\" height=\"40\" stroke=\"black\" fill=\"white\" stroke-width=\"1\" /><text x=\"37535.77253906229\" y=\"375.0\" dominant-baseline=\"middle\" text-anchor=\"middle\" font-size=\"18px\" font-family=\"Arial\">X</text><rect x=\"37575.77253906229\" y=\"355.0\" width=\"84.097734375\" height=\"40\" stroke=\"black\" fill=\"white\" stroke-width=\"1\" /><text x=\"37617.82140624979\" y=\"375.0\" dominant-baseline=\"middle\" text-anchor=\"middle\" font-size=\"14px\" font-family=\"Arial\">Ry(0.024π)</text><circle cx=\"37699.870273437286\" cy=\"325.0\" r=\"10.0\" /><rect x=\"37679.870273437286\" y=\"355.0\" width=\"40\" height=\"40\" stroke=\"black\" fill=\"white\" stroke-width=\"1\" /><text x=\"37699.870273437286\" y=\"375.0\" dominant-baseline=\"middle\" text-anchor=\"middle\" font-size=\"18px\" font-family=\"Arial\">X</text><rect x=\"37739.870273437286\" y=\"355.0\" width=\"84.097734375\" height=\"40\" stroke=\"black\" fill=\"white\" stroke-width=\"1\" /><text x=\"37781.919140624785\" y=\"375.0\" dominant-baseline=\"middle\" text-anchor=\"middle\" font-size=\"14px\" font-family=\"Arial\">Ry(0.024π)</text><circle cx=\"37863.968007812284\" cy=\"275.0\" r=\"10.0\" /><rect x=\"37843.968007812284\" y=\"355.0\" width=\"40\" height=\"40\" stroke=\"black\" fill=\"white\" stroke-width=\"1\" /><text x=\"37863.968007812284\" y=\"375.0\" dominant-baseline=\"middle\" text-anchor=\"middle\" font-size=\"18px\" font-family=\"Arial\">X</text><rect x=\"37903.968007812284\" y=\"355.0\" width=\"89.1494921875\" height=\"40\" stroke=\"black\" fill=\"white\" stroke-width=\"1\" /><text x=\"37948.54275390603\" y=\"375.0\" dominant-baseline=\"middle\" text-anchor=\"middle\" font-size=\"14px\" font-family=\"Arial\">Ry(-0.016π)</text><circle cx=\"38033.11749999978\" cy=\"325.0\" r=\"10.0\" /><rect x=\"38013.11749999978\" y=\"355.0\" width=\"40\" height=\"40\" stroke=\"black\" fill=\"white\" stroke-width=\"1\" /><text x=\"38033.11749999978\" y=\"375.0\" dominant-baseline=\"middle\" text-anchor=\"middle\" font-size=\"18px\" font-family=\"Arial\">X</text><rect x=\"38073.11749999978\" y=\"355.0\" width=\"89.1494921875\" height=\"40\" stroke=\"black\" fill=\"white\" stroke-width=\"1\" /><text x=\"38117.69224609353\" y=\"375.0\" dominant-baseline=\"middle\" text-anchor=\"middle\" font-size=\"14px\" font-family=\"Arial\">Ry(-0.023π)</text><circle cx=\"38202.26699218728\" cy=\"225.0\" r=\"10.0\" /><rect x=\"38182.26699218728\" y=\"355.0\" width=\"40\" height=\"40\" stroke=\"black\" fill=\"white\" stroke-width=\"1\" /><text x=\"38202.26699218728\" y=\"375.0\" dominant-baseline=\"middle\" text-anchor=\"middle\" font-size=\"18px\" font-family=\"Arial\">X</text><rect x=\"38242.26699218728\" y=\"355.0\" width=\"89.1494921875\" height=\"40\" stroke=\"black\" fill=\"white\" stroke-width=\"1\" /><text x=\"38286.84173828103\" y=\"375.0\" dominant-baseline=\"middle\" text-anchor=\"middle\" font-size=\"14px\" font-family=\"Arial\">Ry(-0.024π)</text><circle cx=\"38371.41648437478\" cy=\"325.0\" r=\"10.0\" /><rect x=\"38351.41648437478\" y=\"355.0\" width=\"40\" height=\"40\" stroke=\"black\" fill=\"white\" stroke-width=\"1\" /><text x=\"38371.41648437478\" y=\"375.0\" dominant-baseline=\"middle\" text-anchor=\"middle\" font-size=\"18px\" font-family=\"Arial\">X</text><rect x=\"38411.41648437478\" y=\"355.0\" width=\"89.1494921875\" height=\"40\" stroke=\"black\" fill=\"white\" stroke-width=\"1\" /><text x=\"38455.99123046853\" y=\"375.0\" dominant-baseline=\"middle\" text-anchor=\"middle\" font-size=\"14px\" font-family=\"Arial\">Ry(-0.024π)</text><circle cx=\"38540.56597656228\" cy=\"275.0\" r=\"10.0\" /><rect x=\"38520.56597656228\" y=\"355.0\" width=\"40\" height=\"40\" stroke=\"black\" fill=\"white\" stroke-width=\"1\" /><text x=\"38540.56597656228\" y=\"375.0\" dominant-baseline=\"middle\" text-anchor=\"middle\" font-size=\"18px\" font-family=\"Arial\">X</text><rect x=\"38580.56597656228\" y=\"355.0\" width=\"84.097734375\" height=\"40\" stroke=\"black\" fill=\"white\" stroke-width=\"1\" /><text x=\"38622.614843749776\" y=\"375.0\" dominant-baseline=\"middle\" text-anchor=\"middle\" font-size=\"14px\" font-family=\"Arial\">Ry(0.016π)</text><circle cx=\"38704.663710937275\" cy=\"325.0\" r=\"10.0\" /><rect x=\"38684.663710937275\" y=\"355.0\" width=\"40\" height=\"40\" stroke=\"black\" fill=\"white\" stroke-width=\"1\" /><text x=\"38704.663710937275\" y=\"375.0\" dominant-baseline=\"middle\" text-anchor=\"middle\" font-size=\"18px\" font-family=\"Arial\">X</text><rect x=\"38744.663710937275\" y=\"355.0\" width=\"84.097734375\" height=\"40\" stroke=\"black\" fill=\"white\" stroke-width=\"1\" /><text x=\"38786.712578124774\" y=\"375.0\" dominant-baseline=\"middle\" text-anchor=\"middle\" font-size=\"14px\" font-family=\"Arial\">Ry(0.023π)</text><circle cx=\"38868.76144531227\" cy=\"125.0\" r=\"10.0\" /><rect x=\"38848.76144531227\" y=\"355.0\" width=\"40\" height=\"40\" stroke=\"black\" fill=\"white\" stroke-width=\"1\" /><text x=\"38868.76144531227\" y=\"375.0\" dominant-baseline=\"middle\" text-anchor=\"middle\" font-size=\"18px\" font-family=\"Arial\">X</text><rect x=\"38908.76144531227\" y=\"355.0\" width=\"80.242265625\" height=\"40\" stroke=\"black\" fill=\"white\" stroke-width=\"1\" /><text x=\"38948.88257812477\" y=\"375.0\" dominant-baseline=\"middle\" text-anchor=\"middle\" font-size=\"14px\" font-family=\"Arial\">Ry(-0.03π)</text><circle cx=\"39029.00371093727\" cy=\"325.0\" r=\"10.0\" /><rect x=\"39009.00371093727\" y=\"355.0\" width=\"40\" height=\"40\" stroke=\"black\" fill=\"white\" stroke-width=\"1\" /><text x=\"39029.00371093727\" y=\"375.0\" dominant-baseline=\"middle\" text-anchor=\"middle\" font-size=\"18px\" font-family=\"Arial\">X</text><rect x=\"39069.00371093727\" y=\"355.0\" width=\"89.1494921875\" height=\"40\" stroke=\"black\" fill=\"white\" stroke-width=\"1\" /><text x=\"39113.57845703102\" y=\"375.0\" dominant-baseline=\"middle\" text-anchor=\"middle\" font-size=\"14px\" font-family=\"Arial\">Ry(-0.024π)</text><circle cx=\"39198.15320312477\" cy=\"275.0\" r=\"10.0\" /><rect x=\"39178.15320312477\" y=\"355.0\" width=\"40\" height=\"40\" stroke=\"black\" fill=\"white\" stroke-width=\"1\" /><text x=\"39198.15320312477\" y=\"375.0\" dominant-baseline=\"middle\" text-anchor=\"middle\" font-size=\"18px\" font-family=\"Arial\">X</text><rect x=\"39238.15320312477\" y=\"355.0\" width=\"84.097734375\" height=\"40\" stroke=\"black\" fill=\"white\" stroke-width=\"1\" /><text x=\"39280.20207031227\" y=\"375.0\" dominant-baseline=\"middle\" text-anchor=\"middle\" font-size=\"14px\" font-family=\"Arial\">Ry(0.014π)</text><circle cx=\"39362.25093749977\" cy=\"325.0\" r=\"10.0\" /><rect x=\"39342.25093749977\" y=\"355.0\" width=\"40\" height=\"40\" stroke=\"black\" fill=\"white\" stroke-width=\"1\" /><text x=\"39362.25093749977\" y=\"375.0\" dominant-baseline=\"middle\" text-anchor=\"middle\" font-size=\"18px\" font-family=\"Arial\">X</text><rect x=\"39402.25093749977\" y=\"355.0\" width=\"84.097734375\" height=\"40\" stroke=\"black\" fill=\"white\" stroke-width=\"1\" /><text x=\"39444.29980468727\" y=\"375.0\" dominant-baseline=\"middle\" text-anchor=\"middle\" font-size=\"14px\" font-family=\"Arial\">Ry(0.011π)</text><circle cx=\"39526.348671874766\" cy=\"225.0\" r=\"10.0\" /><rect x=\"39506.348671874766\" y=\"355.0\" width=\"40\" height=\"40\" stroke=\"black\" fill=\"white\" stroke-width=\"1\" /><text x=\"39526.348671874766\" y=\"375.0\" dominant-baseline=\"middle\" text-anchor=\"middle\" font-size=\"18px\" font-family=\"Arial\">X</text><rect x=\"39566.348671874766\" y=\"355.0\" width=\"75.1905078125\" height=\"40\" stroke=\"black\" fill=\"white\" stroke-width=\"1\" /><text x=\"39603.943925781015\" y=\"375.0\" dominant-baseline=\"middle\" text-anchor=\"middle\" font-size=\"14px\" font-family=\"Arial\">Ry(0.03π)</text><circle cx=\"39681.539179687265\" cy=\"325.0\" r=\"10.0\" /><rect x=\"39661.539179687265\" y=\"355.0\" width=\"40\" height=\"40\" stroke=\"black\" fill=\"white\" stroke-width=\"1\" /><text x=\"39681.539179687265\" y=\"375.0\" dominant-baseline=\"middle\" text-anchor=\"middle\" font-size=\"18px\" font-family=\"Arial\">X</text><rect x=\"39721.539179687265\" y=\"355.0\" width=\"84.097734375\" height=\"40\" stroke=\"black\" fill=\"white\" stroke-width=\"1\" /><text x=\"39763.588046874764\" y=\"375.0\" dominant-baseline=\"middle\" text-anchor=\"middle\" font-size=\"14px\" font-family=\"Arial\">Ry(0.024π)</text><circle cx=\"39845.63691406226\" cy=\"275.0\" r=\"10.0\" /><rect x=\"39825.63691406226\" y=\"355.0\" width=\"40\" height=\"40\" stroke=\"black\" fill=\"white\" stroke-width=\"1\" /><text x=\"39845.63691406226\" y=\"375.0\" dominant-baseline=\"middle\" text-anchor=\"middle\" font-size=\"18px\" font-family=\"Arial\">X</text><rect x=\"39885.63691406226\" y=\"355.0\" width=\"89.1494921875\" height=\"40\" stroke=\"black\" fill=\"white\" stroke-width=\"1\" /><text x=\"39930.21166015601\" y=\"375.0\" dominant-baseline=\"middle\" text-anchor=\"middle\" font-size=\"14px\" font-family=\"Arial\">Ry(-0.014π)</text><circle cx=\"40014.78640624976\" cy=\"325.0\" r=\"10.0\" /><rect x=\"39994.78640624976\" y=\"355.0\" width=\"40\" height=\"40\" stroke=\"black\" fill=\"white\" stroke-width=\"1\" /><text x=\"40014.78640624976\" y=\"375.0\" dominant-baseline=\"middle\" text-anchor=\"middle\" font-size=\"18px\" font-family=\"Arial\">X</text><rect x=\"40054.78640624976\" y=\"355.0\" width=\"89.1494921875\" height=\"40\" stroke=\"black\" fill=\"white\" stroke-width=\"1\" /><text x=\"40099.36115234351\" y=\"375.0\" dominant-baseline=\"middle\" text-anchor=\"middle\" font-size=\"14px\" font-family=\"Arial\">Ry(-0.011π)</text><circle cx=\"40183.93589843726\" cy=\"175.0\" r=\"10.0\" /><rect x=\"40163.93589843726\" y=\"355.0\" width=\"40\" height=\"40\" stroke=\"black\" fill=\"white\" stroke-width=\"1\" /><text x=\"40183.93589843726\" y=\"375.0\" dominant-baseline=\"middle\" text-anchor=\"middle\" font-size=\"18px\" font-family=\"Arial\">X</text><rect x=\"40223.93589843726\" y=\"355.0\" width=\"89.1494921875\" height=\"40\" stroke=\"black\" fill=\"white\" stroke-width=\"1\" /><text x=\"40268.51064453101\" y=\"375.0\" dominant-baseline=\"middle\" text-anchor=\"middle\" font-size=\"14px\" font-family=\"Arial\">Ry(-0.054π)</text><circle cx=\"40353.08539062476\" cy=\"325.0\" r=\"10.0\" /><rect x=\"40333.08539062476\" y=\"355.0\" width=\"40\" height=\"40\" stroke=\"black\" fill=\"white\" stroke-width=\"1\" /><text x=\"40353.08539062476\" y=\"375.0\" dominant-baseline=\"middle\" text-anchor=\"middle\" font-size=\"18px\" font-family=\"Arial\">X</text><rect x=\"40393.08539062476\" y=\"355.0\" width=\"75.1905078125\" height=\"40\" stroke=\"black\" fill=\"white\" stroke-width=\"1\" /><text x=\"40430.68064453101\" y=\"375.0\" dominant-baseline=\"middle\" text-anchor=\"middle\" font-size=\"14px\" font-family=\"Arial\">Ry(0.06π)</text><circle cx=\"40508.275898437256\" cy=\"275.0\" r=\"10.0\" /><rect x=\"40488.275898437256\" y=\"355.0\" width=\"40\" height=\"40\" stroke=\"black\" fill=\"white\" stroke-width=\"1\" /><text x=\"40508.275898437256\" y=\"375.0\" dominant-baseline=\"middle\" text-anchor=\"middle\" font-size=\"18px\" font-family=\"Arial\">X</text><rect x=\"40548.275898437256\" y=\"355.0\" width=\"84.097734375\" height=\"40\" stroke=\"black\" fill=\"white\" stroke-width=\"1\" /><text x=\"40590.324765624755\" y=\"375.0\" dominant-baseline=\"middle\" text-anchor=\"middle\" font-size=\"14px\" font-family=\"Arial\">Ry(0.034π)</text><circle cx=\"40672.373632812254\" cy=\"325.0\" r=\"10.0\" /><rect x=\"40652.373632812254\" y=\"355.0\" width=\"40\" height=\"40\" stroke=\"black\" fill=\"white\" stroke-width=\"1\" /><text x=\"40672.373632812254\" y=\"375.0\" dominant-baseline=\"middle\" text-anchor=\"middle\" font-size=\"18px\" font-family=\"Arial\">X</text><rect x=\"40712.373632812254\" y=\"355.0\" width=\"89.1494921875\" height=\"40\" stroke=\"black\" fill=\"white\" stroke-width=\"1\" /><text x=\"40756.948378906\" y=\"375.0\" dominant-baseline=\"middle\" text-anchor=\"middle\" font-size=\"14px\" font-family=\"Arial\">Ry(-0.043π)</text><circle cx=\"40841.52312499975\" cy=\"225.0\" r=\"10.0\" /><rect x=\"40821.52312499975\" y=\"355.0\" width=\"40\" height=\"40\" stroke=\"black\" fill=\"white\" stroke-width=\"1\" /><text x=\"40841.52312499975\" y=\"375.0\" dominant-baseline=\"middle\" text-anchor=\"middle\" font-size=\"18px\" font-family=\"Arial\">X</text><rect x=\"40881.52312499975\" y=\"355.0\" width=\"89.1494921875\" height=\"40\" stroke=\"black\" fill=\"white\" stroke-width=\"1\" /><text x=\"40926.0978710935\" y=\"375.0\" dominant-baseline=\"middle\" text-anchor=\"middle\" font-size=\"14px\" font-family=\"Arial\">Ry(-0.009π)</text><circle cx=\"41010.67261718725\" cy=\"325.0\" r=\"10.0\" /><rect x=\"40990.67261718725\" y=\"355.0\" width=\"40\" height=\"40\" stroke=\"black\" fill=\"white\" stroke-width=\"1\" /><text x=\"41010.67261718725\" y=\"375.0\" dominant-baseline=\"middle\" text-anchor=\"middle\" font-size=\"18px\" font-family=\"Arial\">X</text><rect x=\"41050.67261718725\" y=\"355.0\" width=\"84.097734375\" height=\"40\" stroke=\"black\" fill=\"white\" stroke-width=\"1\" /><text x=\"41092.72148437475\" y=\"375.0\" dominant-baseline=\"middle\" text-anchor=\"middle\" font-size=\"14px\" font-family=\"Arial\">Ry(0.002π)</text><circle cx=\"41174.77035156225\" cy=\"275.0\" r=\"10.0\" /><rect x=\"41154.77035156225\" y=\"355.0\" width=\"40\" height=\"40\" stroke=\"black\" fill=\"white\" stroke-width=\"1\" /><text x=\"41174.77035156225\" y=\"375.0\" dominant-baseline=\"middle\" text-anchor=\"middle\" font-size=\"18px\" font-family=\"Arial\">X</text><rect x=\"41214.77035156225\" y=\"355.0\" width=\"84.097734375\" height=\"40\" stroke=\"black\" fill=\"white\" stroke-width=\"1\" /><text x=\"41256.81921874975\" y=\"375.0\" dominant-baseline=\"middle\" text-anchor=\"middle\" font-size=\"14px\" font-family=\"Arial\">Ry(0.028π)</text><circle cx=\"41338.86808593725\" cy=\"325.0\" r=\"10.0\" /><rect x=\"41318.86808593725\" y=\"355.0\" width=\"40\" height=\"40\" stroke=\"black\" fill=\"white\" stroke-width=\"1\" /><text x=\"41338.86808593725\" y=\"375.0\" dominant-baseline=\"middle\" text-anchor=\"middle\" font-size=\"18px\" font-family=\"Arial\">X</text><rect x=\"41378.86808593725\" y=\"355.0\" width=\"80.242265625\" height=\"40\" stroke=\"black\" fill=\"white\" stroke-width=\"1\" /><text x=\"41418.989218749746\" y=\"375.0\" dominant-baseline=\"middle\" text-anchor=\"middle\" font-size=\"14px\" font-family=\"Arial\">Ry(-0.02π)</text><circle cx=\"41499.110351562245\" cy=\"25.0\" r=\"10.0\" /><rect x=\"41479.110351562245\" y=\"355.0\" width=\"40\" height=\"40\" stroke=\"black\" fill=\"white\" stroke-width=\"1\" /><text x=\"41499.110351562245\" y=\"375.0\" dominant-baseline=\"middle\" text-anchor=\"middle\" font-size=\"18px\" font-family=\"Arial\">X</text></svg>"
      ],
      "text/plain": [
       "<cirq.contrib.svg.svg.SVGCircuit at 0x7fbaa3c98430>"
      ]
     },
     "execution_count": 261,
     "metadata": {},
     "output_type": "execute_result"
    }
   ],
   "source": [
    "SVGCircuit(x_train_circ[0])"
   ]
  },
  {
   "cell_type": "markdown",
   "metadata": {
    "colab_type": "text",
    "id": "AEQMxCcBojhg"
   },
   "source": [
    "Compare this circuit to the indices where the image value exceeds the threshold:"
   ]
  },
  {
   "cell_type": "code",
   "execution_count": 262,
   "metadata": {
    "colab": {},
    "colab_type": "code",
    "id": "TBIsiXdtojhh",
    "tags": []
   },
   "outputs": [
    {
     "data": {
      "text/plain": [
       "array([[2, 2],\n",
       "       [3, 1]])"
      ]
     },
     "execution_count": 262,
     "metadata": {},
     "output_type": "execute_result"
    }
   ],
   "source": [
    "bin_img = x_train_bin[0,:,:,0]\n",
    "indices = np.array(np.where(bin_img)).T\n",
    "indices"
   ]
  },
  {
   "cell_type": "markdown",
   "metadata": {
    "colab_type": "text",
    "id": "mWZ24w1Oojhk"
   },
   "source": [
    "Convert these `Cirq` circuits to tensors for `tfq`:"
   ]
  },
  {
   "cell_type": "code",
   "execution_count": 263,
   "metadata": {
    "colab": {},
    "colab_type": "code",
    "id": "IZStEMk4ojhk",
    "tags": []
   },
   "outputs": [],
   "source": [
    "x_train_tfcirc = tfq.convert_to_tensor(x_train_circ)\n",
    "x_test_tfcirc = tfq.convert_to_tensor(x_test_circ)"
   ]
  },
  {
   "cell_type": "markdown",
   "metadata": {
    "colab_type": "text",
    "id": "4USiqeOqGL67"
   },
   "source": [
    "## 2. Quantum neural network\n",
    "\n",
    "There is little guidance for a quantum circuit structure that classifies images. Since the classification is based on the expectation of the readout qubit, <a href=\"https://arxiv.org/pdf/1802.06002.pdf\" class=\"external\">Farhi et al.</a> propose using two qubit gates, with the readout qubit always acted upon. This is similar in some ways to running small a <a href=\"https://arxiv.org/abs/1511.06464\" class=\"external\">Unitary RNN</a> across the pixels."
   ]
  },
  {
   "cell_type": "markdown",
   "metadata": {},
   "source": [
    "Helper functions for Tensorboard.\n",
    "\n",
    "\n",
    "- The integer values of samples, so that you can create histograms of the distribution.\n",
    "- The linear XEB fidelity estimate of a set of samples, to give some indication of how \"truly quantum random\" the samples are.\n"
   ]
  },
  {
   "cell_type": "code",
   "execution_count": 268,
   "metadata": {},
   "outputs": [],
   "source": [
    "@tf.function\n",
    "def bits_to_ints(bits):\n",
    "    \"\"\"Convert tensor of bitstrings to tensor of ints.\"\"\"\n",
    "    sigs = tf.constant([1 << i for i in range(N_QUBITS)], dtype=tf.int32)\n",
    "    rounded_bits = tf.clip_by_value(tf.math.round(\n",
    "        tf.cast(bits, dtype=tf.dtypes.float32)), clip_value_min=0, clip_value_max=1)\n",
    "    return tf.einsum('jk,k->j', tf.cast(rounded_bits, dtype=tf.dtypes.int32), sigs)\n",
    "\n",
    "@tf.function\n",
    "def xeb_fid(bits):\n",
    "    \"\"\"Compute linear XEB fidelity of bitstrings.\"\"\"\n",
    "    final_probs = tf.squeeze(\n",
    "        tf.abs(tfq.layers.State()(REFERENCE_CIRCUIT).to_tensor()) ** 2)\n",
    "    nums = bits_to_ints(bits)\n",
    "    return (2 ** N_QUBITS) * tf.reduce_mean(tf.gather(final_probs, nums)) - 1.0\n"
   ]
  },
  {
   "cell_type": "markdown",
   "metadata": {
    "colab_type": "text",
    "id": "knIzawEeojho"
   },
   "source": [
    "### 2.1 Build the model circuit\n",
    "\n",
    "This following example shows this layered approach. Each layer uses *n* instances of the same gate, with each of the data qubits acting on the readout qubit.\n",
    "\n",
    "Start with a simple class that will add a layer of these gates to a circuit:"
   ]
  },
  {
   "cell_type": "code",
   "execution_count": 269,
   "metadata": {
    "colab": {},
    "colab_type": "code",
    "id": "-hjxxgU5ojho",
    "tags": []
   },
   "outputs": [
    {
     "name": "stdout",
     "output_type": "stream",
     "text": [
      "dict_keys([cirq.X, cirq.XX, cirq.Y, cirq.YY, cirq.Z, cirq.ZZ, cirq.H, cirq.CZ, cirq.CNOT, cirq.SWAP, cirq.ISWAP, cirq.PhasedXPowGate(phase_exponent=0.123), cirq.PhasedISwapPowGate(phase_exponent=0.123), cirq.FSimGate(theta=0.123, phi=0.456), cirq.I])\n",
      "dict_keys([cirq.depolarize(p=0.01), cirq.asymmetric_depolarize(error_probabilities={'I': 0.94, 'X': 0.01, 'Y': 0.02, 'Z': 0.03}), cirq.generalized_amplitude_damp(p=0.01,gamma=0.02), cirq.amplitude_damp(gamma=0.01), cirq.ResetChannel(), cirq.phase_damp(gamma=0.01), cirq.phase_flip(p=0.01), cirq.bit_flip(p=0.01)])\n"
     ]
    }
   ],
   "source": [
    "print(tfq.util.get_supported_gates().keys())\n",
    "print(tfq.util.get_supported_channels().keys())\n",
    "\n",
    "class CircuitLayerBuilder():\n",
    "    def __init__(self, circuit, data_qubits, readout, repeat_dropout=0, overlap_dropout=False):\n",
    "        \n",
    "        self.data_qubits = data_qubits\n",
    "        self.readout = readout\n",
    "        self.curr_layer_id = 0\n",
    "        self.circuit = circuit\n",
    "        \n",
    "        self.dropped_out_qubit_ids = []\n",
    "        self.dropout_blacklist = []\n",
    "        \n",
    "        self.overlap_dropout = overlap_dropout\n",
    "        \n",
    "        if repeat_dropout < 1:\n",
    "            repeat_dropout = 1\n",
    "        if overlap_dropout:\n",
    "            for _ in range(repeat_dropout - 1):\n",
    "                # We will be dequeing from this on each rebuild;\n",
    "                # so, each qubit will be in the list for repeat_dropout rebuilds.\n",
    "                self.dropped_out_qubit_ids.append(len(self.data_qubits))\n",
    "            self.delay_next_dropout = 1\n",
    "        else:\n",
    "            # if not overlapping, delay for as long as we're repeating\n",
    "            self.delay_next_dropout = repeat_dropout\n",
    "            \n",
    "        self.delay_next_dropout_i = 0 # try to dropout immediately\n",
    "        \n",
    "        # maps str(symbol) to (is_dropped_out, weight)\n",
    "        self.symbol_map = {}\n",
    "        \n",
    "        self.drop_out_applied = False\n",
    "        \n",
    "    def rebuild(self, circuit, data_qubits, readout, computed_weights, preserve_dropout=False):\n",
    "        # prev_weights is the result of get_weights from the prior epoch.\n",
    "        \n",
    "        self.data_qubits = data_qubits\n",
    "        self.readout = readout\n",
    "        self.curr_layer_id = 0\n",
    "        self.circuit = circuit\n",
    "        \n",
    "        if preserve_dropout:\n",
    "            if self.overlap_dropout and len(self.dropped_out_qubit_ids) > 0 and self.drop_out_applied:\n",
    "                # Dropping first element. This is either padding, or an actual id that we want to stop dropping out from here on.\n",
    "                dropped_id = self.dropped_out_qubit_ids.pop(0)\n",
    "                self.dropout_blacklist.append(dropped_id)\n",
    "        else:\n",
    "            self.dropout_blacklist = []\n",
    "            self.dropped_out_qubit_ids = []\n",
    "        \n",
    "        if self.delay_next_dropout_i > 0:\n",
    "            self.delay_next_dropout_i -= 1\n",
    "        \n",
    "        if self.delay_next_dropout_i == 0 and not self.overlap_dropout:\n",
    "            # Dropout finished for this qubit!\n",
    "            assert len(self.dropped_out_qubit_ids) <= 1\n",
    "            if len(self.dropped_out_qubit_ids) == 1:\n",
    "                self.dropout_blacklist.append(self.dropped_out_qubit_ids[0])\n",
    "            self.dropped_out_qubit_ids = []\n",
    "        \n",
    "        self.drop_out_applied = False\n",
    "        \n",
    "        print('self.dropped_out_qubit_ids = ')\n",
    "        print(self.dropped_out_qubit_ids)\n",
    "        \n",
    "        j = 0\n",
    "        \n",
    "        #print('Rebuilding; prev self.symbol_map:')\n",
    "        #print(self.symbol_map)\n",
    "        \n",
    "        for k in sorted(self.symbol_map.keys()):\n",
    "            prev_is_dropped_out, _ = self.symbol_map[k]\n",
    "            if not prev_is_dropped_out:\n",
    "                # Re-use the prev weight. This isn't directly used as TFQ inputs, but we later use it to generate\n",
    "                # sane inputs for set_weights().\n",
    "                # Also, is-dropped-out is True by default to handle the case when a rebuilt circuit might not add a layer for some reason\n",
    "                self.symbol_map[k] = (True, computed_weights[j])\n",
    "\n",
    "                # prev_weights is a list that only has entries for non-dropped-out elems\n",
    "                j += 1\n",
    "                \n",
    "        #print('Rebuilding done; updated self.symbol_map:')\n",
    "        #print(self.symbol_map)\n",
    "    \n",
    "    def add_layer(self, gate, apply_dropout=False):\n",
    "        # at most one dropped qubit added per layer\n",
    "        if apply_dropout and self.delay_next_dropout_i == 0:# and self.curr_layer_id > 0:\n",
    "            while True:\n",
    "                rand_id = np.random.randint(0, (len(self.data_qubits) * 2) + 1)\n",
    "                if rand_id >= len(self.data_qubits):\n",
    "                    rand_id = len(self.data_qubits)\n",
    "                # Kinda hacky, blacklist qubits that we dropped out already\n",
    "                if rand_id not in self.dropout_blacklist or rand_id == len(self.data_qubits):\n",
    "                    break\n",
    "            print('self.dropout_blacklist =')\n",
    "            print(self.dropout_blacklist)\n",
    "            #print(rand_id)\n",
    "            if rand_id not in self.dropped_out_qubit_ids and rand_id != len(self.data_qubits):\n",
    "                self.dropped_out_qubit_ids.append(rand_id)\n",
    "            if rand_id != len(self.data_qubits):\n",
    "                self.delay_next_dropout_i = self.delay_next_dropout # reset delay if we're actually going to drop out!\n",
    "        \n",
    "        for i in range(len(self.data_qubits)):\n",
    "            qubit = self.data_qubits[i]\n",
    "            symbol = sympy.Symbol('sym_l' + str(self.curr_layer_id) + '_q' + str(i))\n",
    "            \n",
    "            if str(symbol) in self.symbol_map:\n",
    "                _, weight = self.symbol_map[str(symbol)]\n",
    "            else:\n",
    "                # default value for weight is 0\n",
    "                weight = 0\n",
    "\n",
    "            if i in self.dropped_out_qubit_ids:# and self.curr_layer_id > 0:\n",
    "                print(\"Dropped out qubit id \" + str(i))\n",
    "                self.symbol_map[str(symbol)] = (True, weight)\n",
    "                self.drop_out_applied = True\n",
    "            else:\n",
    "                self.symbol_map[str(symbol)] = (False, weight)\n",
    "                self.circuit.append(gate(qubit, self.readout)**symbol)\n",
    "        self.curr_layer_id += 1\n",
    "    \n",
    "    def get_builder_weights(self):\n",
    "        # returns symbol names in sorted order, which should match the order used for PQC (kinda hacky and can potentially break later)\n",
    "        # used as the next input for set_weights()\n",
    "        #\n",
    "        # Order of calls:\n",
    "        # tf.fit();\n",
    "        # builder.rebuild(tf.get_weights());\n",
    "        # add_layer()...;\n",
    "        # tf.set_weights(builder.get_builder_weights());\n",
    "        # tf.fit()\n",
    "        weights_list = []\n",
    "        \n",
    "        for k in sorted(self.symbol_map.keys()):\n",
    "            curr_is_dropout, curr_weight = self.symbol_map[k]\n",
    "            if not curr_is_dropout:\n",
    "                weights_list.append(curr_weight)\n",
    "        \n",
    "        return weights_list"
   ]
  },
  {
   "cell_type": "markdown",
   "metadata": {
    "colab_type": "text",
    "id": "Sjo5hANFojhr"
   },
   "source": [
    "Build an example circuit layer to see how it looks:"
   ]
  },
  {
   "cell_type": "code",
   "execution_count": 270,
   "metadata": {},
   "outputs": [
    {
     "name": "stdout",
     "output_type": "stream",
     "text": [
      "self.dropout_blacklist =\n",
      "[]\n",
      "Dropped out qubit id 3\n",
      "Dropped out qubit id 3\n",
      "Dropped out qubit id 3\n"
     ]
    },
    {
     "data": {
      "image/svg+xml": [
       "<svg xmlns=\"http://www.w3.org/2000/svg\" width=\"1848.6556250000003\" height=\"250.0\"><line x1=\"39.810625\" x2=\"1818.6556250000003\" y1=\"25.0\" y2=\"25.0\" stroke=\"#1967d2\" stroke-width=\"1\" /><line x1=\"39.810625\" x2=\"1818.6556250000003\" y1=\"75.0\" y2=\"75.0\" stroke=\"#1967d2\" stroke-width=\"1\" /><line x1=\"39.810625\" x2=\"1818.6556250000003\" y1=\"125.0\" y2=\"125.0\" stroke=\"#1967d2\" stroke-width=\"1\" /><line x1=\"39.810625\" x2=\"1818.6556250000003\" y1=\"175.0\" y2=\"175.0\" stroke=\"#1967d2\" stroke-width=\"1\" /><line x1=\"39.810625\" x2=\"1818.6556250000003\" y1=\"225.0\" y2=\"225.0\" stroke=\"#1967d2\" stroke-width=\"1\" /><line x1=\"146.3075\" x2=\"146.3075\" y1=\"25.0\" y2=\"75.0\" stroke=\"black\" stroke-width=\"3\" /><line x1=\"279.4984375\" x2=\"279.4984375\" y1=\"25.0\" y2=\"125.0\" stroke=\"black\" stroke-width=\"3\" /><line x1=\"412.4531250000001\" x2=\"412.4531250000001\" y1=\"25.0\" y2=\"175.0\" stroke=\"black\" stroke-width=\"3\" /><line x1=\"545.4931250000001\" x2=\"545.4931250000001\" y1=\"25.0\" y2=\"225.0\" stroke=\"black\" stroke-width=\"3\" /><line x1=\"678.6632812500002\" x2=\"678.6632812500002\" y1=\"25.0\" y2=\"75.0\" stroke=\"black\" stroke-width=\"3\" /><line x1=\"811.6420312500002\" x2=\"811.6420312500002\" y1=\"25.0\" y2=\"125.0\" stroke=\"black\" stroke-width=\"3\" /><line x1=\"944.3845312500001\" x2=\"944.3845312500001\" y1=\"25.0\" y2=\"175.0\" stroke=\"black\" stroke-width=\"3\" /><line x1=\"1077.4146875000001\" x2=\"1077.4146875000001\" y1=\"25.0\" y2=\"75.0\" stroke=\"black\" stroke-width=\"3\" /><line x1=\"1210.6056250000001\" x2=\"1210.6056250000001\" y1=\"25.0\" y2=\"125.0\" stroke=\"black\" stroke-width=\"3\" /><line x1=\"1343.5603125000002\" x2=\"1343.5603125000002\" y1=\"25.0\" y2=\"175.0\" stroke=\"black\" stroke-width=\"3\" /><line x1=\"1476.5904687500004\" x2=\"1476.5904687500004\" y1=\"25.0\" y2=\"75.0\" stroke=\"black\" stroke-width=\"3\" /><line x1=\"1609.5692187500001\" x2=\"1609.5692187500001\" y1=\"25.0\" y2=\"125.0\" stroke=\"black\" stroke-width=\"3\" /><line x1=\"1742.3117187500002\" x2=\"1742.3117187500002\" y1=\"25.0\" y2=\"175.0\" stroke=\"black\" stroke-width=\"3\" /><rect x=\"10.0\" y=\"5.0\" width=\"59.62125\" height=\"40\" stroke=\"black\" fill=\"white\" stroke-width=\"0\" /><text x=\"39.810625\" y=\"25.0\" dominant-baseline=\"middle\" text-anchor=\"middle\" font-size=\"14px\" font-family=\"Arial\">(-1, -1): </text><rect x=\"10.0\" y=\"55.0\" width=\"59.62125\" height=\"40\" stroke=\"black\" fill=\"white\" stroke-width=\"0\" /><text x=\"39.810625\" y=\"75.0\" dominant-baseline=\"middle\" text-anchor=\"middle\" font-size=\"14px\" font-family=\"Arial\">(0, 0): </text><rect x=\"10.0\" y=\"105.0\" width=\"59.62125\" height=\"40\" stroke=\"black\" fill=\"white\" stroke-width=\"0\" /><text x=\"39.810625\" y=\"125.0\" dominant-baseline=\"middle\" text-anchor=\"middle\" font-size=\"14px\" font-family=\"Arial\">(1, 0): </text><rect x=\"10.0\" y=\"155.0\" width=\"59.62125\" height=\"40\" stroke=\"black\" fill=\"white\" stroke-width=\"0\" /><text x=\"39.810625\" y=\"175.0\" dominant-baseline=\"middle\" text-anchor=\"middle\" font-size=\"14px\" font-family=\"Arial\">(2, 0): </text><rect x=\"10.0\" y=\"205.0\" width=\"59.62125\" height=\"40\" stroke=\"black\" fill=\"white\" stroke-width=\"0\" /><text x=\"39.810625\" y=\"225.0\" dominant-baseline=\"middle\" text-anchor=\"middle\" font-size=\"14px\" font-family=\"Arial\">(3, 0): </text><rect x=\"89.62125\" y=\"55.0\" width=\"113.3725\" height=\"40\" stroke=\"black\" fill=\"white\" stroke-width=\"1\" /><text x=\"146.3075\" y=\"75.0\" dominant-baseline=\"middle\" text-anchor=\"middle\" font-size=\"14px\" font-family=\"Arial\">XX^sym_l0_q0</text><rect x=\"89.62125\" y=\"5.0\" width=\"113.3725\" height=\"40\" stroke=\"black\" fill=\"white\" stroke-width=\"1\" /><text x=\"146.3075\" y=\"25.0\" dominant-baseline=\"middle\" text-anchor=\"middle\" font-size=\"14px\" font-family=\"Arial\">XX</text><rect x=\"222.99375\" y=\"105.0\" width=\"113.00937500000003\" height=\"40\" stroke=\"black\" fill=\"white\" stroke-width=\"1\" /><text x=\"279.4984375\" y=\"125.0\" dominant-baseline=\"middle\" text-anchor=\"middle\" font-size=\"14px\" font-family=\"Arial\">XX^sym_l0_q1</text><rect x=\"222.99375\" y=\"5.0\" width=\"113.00937500000003\" height=\"40\" stroke=\"black\" fill=\"white\" stroke-width=\"1\" /><text x=\"279.4984375\" y=\"25.0\" dominant-baseline=\"middle\" text-anchor=\"middle\" font-size=\"14px\" font-family=\"Arial\">XX</text><rect x=\"356.00312500000007\" y=\"155.0\" width=\"112.90000000000003\" height=\"40\" stroke=\"black\" fill=\"white\" stroke-width=\"1\" /><text x=\"412.4531250000001\" y=\"175.0\" dominant-baseline=\"middle\" text-anchor=\"middle\" font-size=\"14px\" font-family=\"Arial\">XX^sym_l0_q2</text><rect x=\"356.00312500000007\" y=\"5.0\" width=\"112.90000000000003\" height=\"40\" stroke=\"black\" fill=\"white\" stroke-width=\"1\" /><text x=\"412.4531250000001\" y=\"25.0\" dominant-baseline=\"middle\" text-anchor=\"middle\" font-size=\"14px\" font-family=\"Arial\">XX</text><rect x=\"488.90312500000005\" y=\"205.0\" width=\"113.18\" height=\"40\" stroke=\"black\" fill=\"white\" stroke-width=\"1\" /><text x=\"545.4931250000001\" y=\"225.0\" dominant-baseline=\"middle\" text-anchor=\"middle\" font-size=\"14px\" font-family=\"Arial\">XX^sym_l0_q3</text><rect x=\"488.90312500000005\" y=\"5.0\" width=\"113.18\" height=\"40\" stroke=\"black\" fill=\"white\" stroke-width=\"1\" /><text x=\"545.4931250000001\" y=\"25.0\" dominant-baseline=\"middle\" text-anchor=\"middle\" font-size=\"14px\" font-family=\"Arial\">XX</text><rect x=\"622.0831250000001\" y=\"55.0\" width=\"113.16031250000003\" height=\"40\" stroke=\"black\" fill=\"white\" stroke-width=\"1\" /><text x=\"678.6632812500002\" y=\"75.0\" dominant-baseline=\"middle\" text-anchor=\"middle\" font-size=\"14px\" font-family=\"Arial\">ZZ^sym_l1_q0</text><rect x=\"622.0831250000001\" y=\"5.0\" width=\"113.16031250000003\" height=\"40\" stroke=\"black\" fill=\"white\" stroke-width=\"1\" /><text x=\"678.6632812500002\" y=\"25.0\" dominant-baseline=\"middle\" text-anchor=\"middle\" font-size=\"14px\" font-family=\"Arial\">ZZ</text><rect x=\"755.2434375000001\" y=\"105.0\" width=\"112.7971875\" height=\"40\" stroke=\"black\" fill=\"white\" stroke-width=\"1\" /><text x=\"811.6420312500002\" y=\"125.0\" dominant-baseline=\"middle\" text-anchor=\"middle\" font-size=\"14px\" font-family=\"Arial\">ZZ^sym_l1_q1</text><rect x=\"755.2434375000001\" y=\"5.0\" width=\"112.7971875\" height=\"40\" stroke=\"black\" fill=\"white\" stroke-width=\"1\" /><text x=\"811.6420312500002\" y=\"25.0\" dominant-baseline=\"middle\" text-anchor=\"middle\" font-size=\"14px\" font-family=\"Arial\">ZZ</text><rect x=\"888.0406250000001\" y=\"155.0\" width=\"112.6878125\" height=\"40\" stroke=\"black\" fill=\"white\" stroke-width=\"1\" /><text x=\"944.3845312500001\" y=\"175.0\" dominant-baseline=\"middle\" text-anchor=\"middle\" font-size=\"14px\" font-family=\"Arial\">ZZ^sym_l1_q2</text><rect x=\"888.0406250000001\" y=\"5.0\" width=\"112.6878125\" height=\"40\" stroke=\"black\" fill=\"white\" stroke-width=\"1\" /><text x=\"944.3845312500001\" y=\"25.0\" dominant-baseline=\"middle\" text-anchor=\"middle\" font-size=\"14px\" font-family=\"Arial\">ZZ</text><rect x=\"1020.7284375000002\" y=\"55.0\" width=\"113.3725\" height=\"40\" stroke=\"black\" fill=\"white\" stroke-width=\"1\" /><text x=\"1077.4146875000001\" y=\"75.0\" dominant-baseline=\"middle\" text-anchor=\"middle\" font-size=\"14px\" font-family=\"Arial\">XX^sym_l2_q0</text><rect x=\"1020.7284375000002\" y=\"5.0\" width=\"113.3725\" height=\"40\" stroke=\"black\" fill=\"white\" stroke-width=\"1\" /><text x=\"1077.4146875000001\" y=\"25.0\" dominant-baseline=\"middle\" text-anchor=\"middle\" font-size=\"14px\" font-family=\"Arial\">XX</text><rect x=\"1154.1009375\" y=\"105.0\" width=\"113.00937500000003\" height=\"40\" stroke=\"black\" fill=\"white\" stroke-width=\"1\" /><text x=\"1210.6056250000001\" y=\"125.0\" dominant-baseline=\"middle\" text-anchor=\"middle\" font-size=\"14px\" font-family=\"Arial\">XX^sym_l2_q1</text><rect x=\"1154.1009375\" y=\"5.0\" width=\"113.00937500000003\" height=\"40\" stroke=\"black\" fill=\"white\" stroke-width=\"1\" /><text x=\"1210.6056250000001\" y=\"25.0\" dominant-baseline=\"middle\" text-anchor=\"middle\" font-size=\"14px\" font-family=\"Arial\">XX</text><rect x=\"1287.1103125000002\" y=\"155.0\" width=\"112.90000000000003\" height=\"40\" stroke=\"black\" fill=\"white\" stroke-width=\"1\" /><text x=\"1343.5603125000002\" y=\"175.0\" dominant-baseline=\"middle\" text-anchor=\"middle\" font-size=\"14px\" font-family=\"Arial\">XX^sym_l2_q2</text><rect x=\"1287.1103125000002\" y=\"5.0\" width=\"112.90000000000003\" height=\"40\" stroke=\"black\" fill=\"white\" stroke-width=\"1\" /><text x=\"1343.5603125000002\" y=\"25.0\" dominant-baseline=\"middle\" text-anchor=\"middle\" font-size=\"14px\" font-family=\"Arial\">XX</text><rect x=\"1420.0103125000003\" y=\"55.0\" width=\"113.16031250000003\" height=\"40\" stroke=\"black\" fill=\"white\" stroke-width=\"1\" /><text x=\"1476.5904687500004\" y=\"75.0\" dominant-baseline=\"middle\" text-anchor=\"middle\" font-size=\"14px\" font-family=\"Arial\">ZZ^sym_l3_q0</text><rect x=\"1420.0103125000003\" y=\"5.0\" width=\"113.16031250000003\" height=\"40\" stroke=\"black\" fill=\"white\" stroke-width=\"1\" /><text x=\"1476.5904687500004\" y=\"25.0\" dominant-baseline=\"middle\" text-anchor=\"middle\" font-size=\"14px\" font-family=\"Arial\">ZZ</text><rect x=\"1553.1706250000002\" y=\"105.0\" width=\"112.7971875\" height=\"40\" stroke=\"black\" fill=\"white\" stroke-width=\"1\" /><text x=\"1609.5692187500001\" y=\"125.0\" dominant-baseline=\"middle\" text-anchor=\"middle\" font-size=\"14px\" font-family=\"Arial\">ZZ^sym_l3_q1</text><rect x=\"1553.1706250000002\" y=\"5.0\" width=\"112.7971875\" height=\"40\" stroke=\"black\" fill=\"white\" stroke-width=\"1\" /><text x=\"1609.5692187500001\" y=\"25.0\" dominant-baseline=\"middle\" text-anchor=\"middle\" font-size=\"14px\" font-family=\"Arial\">ZZ</text><rect x=\"1685.9678125000003\" y=\"155.0\" width=\"112.6878125\" height=\"40\" stroke=\"black\" fill=\"white\" stroke-width=\"1\" /><text x=\"1742.3117187500002\" y=\"175.0\" dominant-baseline=\"middle\" text-anchor=\"middle\" font-size=\"14px\" font-family=\"Arial\">ZZ^sym_l3_q2</text><rect x=\"1685.9678125000003\" y=\"5.0\" width=\"112.6878125\" height=\"40\" stroke=\"black\" fill=\"white\" stroke-width=\"1\" /><text x=\"1742.3117187500002\" y=\"25.0\" dominant-baseline=\"middle\" text-anchor=\"middle\" font-size=\"14px\" font-family=\"Arial\">ZZ</text></svg>"
      ],
      "text/plain": [
       "<cirq.contrib.svg.svg.SVGCircuit at 0x7fba0da655b0>"
      ]
     },
     "execution_count": 270,
     "metadata": {},
     "output_type": "execute_result"
    }
   ],
   "source": [
    "# TEST CELL to make sure CircuitLayerBuilder works properly\n",
    "circuit = cirq.Circuit()\n",
    "demo_builder = CircuitLayerBuilder(circuit=circuit,\n",
    "                                   data_qubits = cirq.GridQubit.rect(4,1),\n",
    "                                   readout=cirq.GridQubit(-1,-1))\n",
    "\n",
    "demo_builder.add_layer(gate=cirq.XX)\n",
    "demo_builder.add_layer(gate=cirq.ZZ, apply_dropout=True)\n",
    "demo_builder.add_layer(gate=cirq.XX, apply_dropout=False)\n",
    "demo_builder.add_layer(gate=cirq.ZZ, apply_dropout=False)\n",
    "\n",
    "SVGCircuit(circuit)"
   ]
  },
  {
   "cell_type": "markdown",
   "metadata": {
    "colab_type": "text",
    "id": "T-QhPE1pojhu"
   },
   "source": [
    "Now build a two-layered model, matching the data-circuit size, and include the preparation and readout operations."
   ]
  },
  {
   "cell_type": "code",
   "execution_count": 271,
   "metadata": {
    "colab": {},
    "colab_type": "code",
    "id": "JiALbpwRGL69",
    "tags": []
   },
   "outputs": [],
   "source": [
    "def create_quantum_model(apply_dropout=False, n_dropout=5, builder=None, computed_weights_arr=None):\n",
    "    \"\"\"Create a QNN model circuit and readout operation to go along with it.\"\"\"\n",
    "    data_qubits = cirq.GridQubit.rect(4, 2)  # a 4x2 grid.\n",
    "    readout = cirq.GridQubit(-1, -1)         # a single qubit at [-1,-1]\n",
    "    circuit = cirq.Circuit()\n",
    "    \n",
    "    # Prepare the readout qubit.\n",
    "    circuit.append(cirq.X(readout))\n",
    "    circuit.append(cirq.H(readout))\n",
    "    \n",
    "    if builder is None or computed_weights_arr is None:\n",
    "        builder = CircuitLayerBuilder(\n",
    "            circuit=circuit,\n",
    "            data_qubits=data_qubits,\n",
    "            readout=readout,\n",
    "            repeat_dropout=n_dropout)\n",
    "    else:\n",
    "        builder.rebuild(circuit, data_qubits, readout, computed_weights_arr, preserve_dropout=apply_dropout)\n",
    "\n",
    "    # Then add layers (TODO: experiment by adding more).\n",
    "    builder.add_layer(cirq.XX, apply_dropout) # only drop out one qubit as per Schuld\n",
    "    builder.add_layer(cirq.ZZ, False)\n",
    "    builder.add_layer(cirq.XX, False)\n",
    "    builder.add_layer(cirq.ZZ, False)\n",
    "\n",
    "    # Finally, prepare the readout qubit.\n",
    "    circuit.append(cirq.H(readout))\n",
    "\n",
    "    return builder, circuit, cirq.Z(readout)"
   ]
  },
  {
   "cell_type": "code",
   "execution_count": 272,
   "metadata": {
    "colab": {},
    "colab_type": "code",
    "id": "2QZvVh7vojhx",
    "tags": []
   },
   "outputs": [
    {
     "name": "stdout",
     "output_type": "stream",
     "text": [
      "self.dropout_blacklist =\n",
      "[]\n"
     ]
    },
    {
     "data": {
      "image/svg+xml": [
       "<svg xmlns=\"http://www.w3.org/2000/svg\" width=\"4558.563750000001\" height=\"450.0\"><line x1=\"39.810625\" x2=\"4528.563750000001\" y1=\"25.0\" y2=\"25.0\" stroke=\"#1967d2\" stroke-width=\"1\" /><line x1=\"39.810625\" x2=\"4528.563750000001\" y1=\"75.0\" y2=\"75.0\" stroke=\"#1967d2\" stroke-width=\"1\" /><line x1=\"39.810625\" x2=\"4528.563750000001\" y1=\"125.0\" y2=\"125.0\" stroke=\"#1967d2\" stroke-width=\"1\" /><line x1=\"39.810625\" x2=\"4528.563750000001\" y1=\"175.0\" y2=\"175.0\" stroke=\"#1967d2\" stroke-width=\"1\" /><line x1=\"39.810625\" x2=\"4528.563750000001\" y1=\"225.0\" y2=\"225.0\" stroke=\"#1967d2\" stroke-width=\"1\" /><line x1=\"39.810625\" x2=\"4528.563750000001\" y1=\"275.0\" y2=\"275.0\" stroke=\"#1967d2\" stroke-width=\"1\" /><line x1=\"39.810625\" x2=\"4528.563750000001\" y1=\"325.0\" y2=\"325.0\" stroke=\"#1967d2\" stroke-width=\"1\" /><line x1=\"39.810625\" x2=\"4528.563750000001\" y1=\"375.0\" y2=\"375.0\" stroke=\"#1967d2\" stroke-width=\"1\" /><line x1=\"39.810625\" x2=\"4528.563750000001\" y1=\"425.0\" y2=\"425.0\" stroke=\"#1967d2\" stroke-width=\"1\" /><line x1=\"266.3075\" x2=\"266.3075\" y1=\"25.0\" y2=\"75.0\" stroke=\"black\" stroke-width=\"3\" /><line x1=\"399.4984375\" x2=\"399.4984375\" y1=\"25.0\" y2=\"125.0\" stroke=\"black\" stroke-width=\"3\" /><line x1=\"532.453125\" x2=\"532.453125\" y1=\"25.0\" y2=\"175.0\" stroke=\"black\" stroke-width=\"3\" /><line x1=\"665.4931250000001\" x2=\"665.4931250000001\" y1=\"25.0\" y2=\"225.0\" stroke=\"black\" stroke-width=\"3\" /><line x1=\"798.8415625000001\" x2=\"798.8415625000001\" y1=\"25.0\" y2=\"275.0\" stroke=\"black\" stroke-width=\"3\" /><line x1=\"932.1396875000002\" x2=\"932.1396875000002\" y1=\"25.0\" y2=\"325.0\" stroke=\"black\" stroke-width=\"3\" /><line x1=\"1065.3896875000003\" x2=\"1065.3896875000003\" y1=\"25.0\" y2=\"375.0\" stroke=\"black\" stroke-width=\"3\" /><line x1=\"1198.6528125000002\" x2=\"1198.6528125000002\" y1=\"25.0\" y2=\"425.0\" stroke=\"black\" stroke-width=\"3\" /><line x1=\"1331.7857812500001\" x2=\"1331.7857812500001\" y1=\"25.0\" y2=\"75.0\" stroke=\"black\" stroke-width=\"3\" /><line x1=\"1464.7645312500001\" x2=\"1464.7645312500001\" y1=\"25.0\" y2=\"125.0\" stroke=\"black\" stroke-width=\"3\" /><line x1=\"1597.5070312500002\" x2=\"1597.5070312500002\" y1=\"25.0\" y2=\"175.0\" stroke=\"black\" stroke-width=\"3\" /><line x1=\"1730.3348437500003\" x2=\"1730.3348437500003\" y1=\"25.0\" y2=\"225.0\" stroke=\"black\" stroke-width=\"3\" /><line x1=\"1863.4710937500004\" x2=\"1863.4710937500004\" y1=\"25.0\" y2=\"275.0\" stroke=\"black\" stroke-width=\"3\" /><line x1=\"1996.5570312500004\" x2=\"1996.5570312500004\" y1=\"25.0\" y2=\"325.0\" stroke=\"black\" stroke-width=\"3\" /><line x1=\"2129.5948437500006\" x2=\"2129.5948437500006\" y1=\"25.0\" y2=\"375.0\" stroke=\"black\" stroke-width=\"3\" /><line x1=\"2262.6457812500003\" x2=\"2262.6457812500003\" y1=\"25.0\" y2=\"425.0\" stroke=\"black\" stroke-width=\"3\" /><line x1=\"2395.7787500000004\" x2=\"2395.7787500000004\" y1=\"25.0\" y2=\"75.0\" stroke=\"black\" stroke-width=\"3\" /><line x1=\"2528.9696875\" x2=\"2528.9696875\" y1=\"25.0\" y2=\"125.0\" stroke=\"black\" stroke-width=\"3\" /><line x1=\"2661.924375\" x2=\"2661.924375\" y1=\"25.0\" y2=\"175.0\" stroke=\"black\" stroke-width=\"3\" /><line x1=\"2794.9643750000005\" x2=\"2794.9643750000005\" y1=\"25.0\" y2=\"225.0\" stroke=\"black\" stroke-width=\"3\" /><line x1=\"2928.3128125000003\" x2=\"2928.3128125000003\" y1=\"25.0\" y2=\"275.0\" stroke=\"black\" stroke-width=\"3\" /><line x1=\"3061.6109375\" x2=\"3061.6109375\" y1=\"25.0\" y2=\"325.0\" stroke=\"black\" stroke-width=\"3\" /><line x1=\"3194.8609375\" x2=\"3194.8609375\" y1=\"25.0\" y2=\"375.0\" stroke=\"black\" stroke-width=\"3\" /><line x1=\"3328.1240625000005\" x2=\"3328.1240625000005\" y1=\"25.0\" y2=\"425.0\" stroke=\"black\" stroke-width=\"3\" /><line x1=\"3461.2570312500006\" x2=\"3461.2570312500006\" y1=\"25.0\" y2=\"75.0\" stroke=\"black\" stroke-width=\"3\" /><line x1=\"3594.235781250001\" x2=\"3594.235781250001\" y1=\"25.0\" y2=\"125.0\" stroke=\"black\" stroke-width=\"3\" /><line x1=\"3726.9782812500007\" x2=\"3726.9782812500007\" y1=\"25.0\" y2=\"175.0\" stroke=\"black\" stroke-width=\"3\" /><line x1=\"3859.8060937500004\" x2=\"3859.8060937500004\" y1=\"25.0\" y2=\"225.0\" stroke=\"black\" stroke-width=\"3\" /><line x1=\"3992.9423437500004\" x2=\"3992.9423437500004\" y1=\"25.0\" y2=\"275.0\" stroke=\"black\" stroke-width=\"3\" /><line x1=\"4126.028281250001\" x2=\"4126.028281250001\" y1=\"25.0\" y2=\"325.0\" stroke=\"black\" stroke-width=\"3\" /><line x1=\"4259.066093750001\" x2=\"4259.066093750001\" y1=\"25.0\" y2=\"375.0\" stroke=\"black\" stroke-width=\"3\" /><line x1=\"4392.117031250002\" x2=\"4392.117031250002\" y1=\"25.0\" y2=\"425.0\" stroke=\"black\" stroke-width=\"3\" /><rect x=\"10.0\" y=\"5.0\" width=\"59.62125\" height=\"40\" stroke=\"black\" fill=\"white\" stroke-width=\"0\" /><text x=\"39.810625\" y=\"25.0\" dominant-baseline=\"middle\" text-anchor=\"middle\" font-size=\"14px\" font-family=\"Arial\">(-1, -1): </text><rect x=\"10.0\" y=\"55.0\" width=\"59.62125\" height=\"40\" stroke=\"black\" fill=\"white\" stroke-width=\"0\" /><text x=\"39.810625\" y=\"75.0\" dominant-baseline=\"middle\" text-anchor=\"middle\" font-size=\"14px\" font-family=\"Arial\">(0, 0): </text><rect x=\"10.0\" y=\"105.0\" width=\"59.62125\" height=\"40\" stroke=\"black\" fill=\"white\" stroke-width=\"0\" /><text x=\"39.810625\" y=\"125.0\" dominant-baseline=\"middle\" text-anchor=\"middle\" font-size=\"14px\" font-family=\"Arial\">(0, 1): </text><rect x=\"10.0\" y=\"155.0\" width=\"59.62125\" height=\"40\" stroke=\"black\" fill=\"white\" stroke-width=\"0\" /><text x=\"39.810625\" y=\"175.0\" dominant-baseline=\"middle\" text-anchor=\"middle\" font-size=\"14px\" font-family=\"Arial\">(1, 0): </text><rect x=\"10.0\" y=\"205.0\" width=\"59.62125\" height=\"40\" stroke=\"black\" fill=\"white\" stroke-width=\"0\" /><text x=\"39.810625\" y=\"225.0\" dominant-baseline=\"middle\" text-anchor=\"middle\" font-size=\"14px\" font-family=\"Arial\">(1, 1): </text><rect x=\"10.0\" y=\"255.0\" width=\"59.62125\" height=\"40\" stroke=\"black\" fill=\"white\" stroke-width=\"0\" /><text x=\"39.810625\" y=\"275.0\" dominant-baseline=\"middle\" text-anchor=\"middle\" font-size=\"14px\" font-family=\"Arial\">(2, 0): </text><rect x=\"10.0\" y=\"305.0\" width=\"59.62125\" height=\"40\" stroke=\"black\" fill=\"white\" stroke-width=\"0\" /><text x=\"39.810625\" y=\"325.0\" dominant-baseline=\"middle\" text-anchor=\"middle\" font-size=\"14px\" font-family=\"Arial\">(2, 1): </text><rect x=\"10.0\" y=\"355.0\" width=\"59.62125\" height=\"40\" stroke=\"black\" fill=\"white\" stroke-width=\"0\" /><text x=\"39.810625\" y=\"375.0\" dominant-baseline=\"middle\" text-anchor=\"middle\" font-size=\"14px\" font-family=\"Arial\">(3, 0): </text><rect x=\"10.0\" y=\"405.0\" width=\"59.62125\" height=\"40\" stroke=\"black\" fill=\"white\" stroke-width=\"0\" /><text x=\"39.810625\" y=\"425.0\" dominant-baseline=\"middle\" text-anchor=\"middle\" font-size=\"14px\" font-family=\"Arial\">(3, 1): </text><rect x=\"89.62125\" y=\"5.0\" width=\"40\" height=\"40\" stroke=\"black\" fill=\"white\" stroke-width=\"1\" /><text x=\"109.62125\" y=\"25.0\" dominant-baseline=\"middle\" text-anchor=\"middle\" font-size=\"18px\" font-family=\"Arial\">X</text><rect x=\"149.62125\" y=\"5.0\" width=\"40\" height=\"40\" stroke=\"black\" fill=\"white\" stroke-width=\"1\" /><text x=\"169.62125\" y=\"25.0\" dominant-baseline=\"middle\" text-anchor=\"middle\" font-size=\"18px\" font-family=\"Arial\">H</text><rect x=\"209.62125\" y=\"55.0\" width=\"113.3725\" height=\"40\" stroke=\"black\" fill=\"white\" stroke-width=\"1\" /><text x=\"266.3075\" y=\"75.0\" dominant-baseline=\"middle\" text-anchor=\"middle\" font-size=\"14px\" font-family=\"Arial\">XX^sym_l0_q0</text><rect x=\"209.62125\" y=\"5.0\" width=\"113.3725\" height=\"40\" stroke=\"black\" fill=\"white\" stroke-width=\"1\" /><text x=\"266.3075\" y=\"25.0\" dominant-baseline=\"middle\" text-anchor=\"middle\" font-size=\"14px\" font-family=\"Arial\">XX</text><rect x=\"342.99375\" y=\"105.0\" width=\"113.00937500000003\" height=\"40\" stroke=\"black\" fill=\"white\" stroke-width=\"1\" /><text x=\"399.4984375\" y=\"125.0\" dominant-baseline=\"middle\" text-anchor=\"middle\" font-size=\"14px\" font-family=\"Arial\">XX^sym_l0_q1</text><rect x=\"342.99375\" y=\"5.0\" width=\"113.00937500000003\" height=\"40\" stroke=\"black\" fill=\"white\" stroke-width=\"1\" /><text x=\"399.4984375\" y=\"25.0\" dominant-baseline=\"middle\" text-anchor=\"middle\" font-size=\"14px\" font-family=\"Arial\">XX</text><rect x=\"476.00312499999995\" y=\"155.0\" width=\"112.90000000000003\" height=\"40\" stroke=\"black\" fill=\"white\" stroke-width=\"1\" /><text x=\"532.453125\" y=\"175.0\" dominant-baseline=\"middle\" text-anchor=\"middle\" font-size=\"14px\" font-family=\"Arial\">XX^sym_l0_q2</text><rect x=\"476.00312499999995\" y=\"5.0\" width=\"112.90000000000003\" height=\"40\" stroke=\"black\" fill=\"white\" stroke-width=\"1\" /><text x=\"532.453125\" y=\"25.0\" dominant-baseline=\"middle\" text-anchor=\"middle\" font-size=\"14px\" font-family=\"Arial\">XX</text><rect x=\"608.903125\" y=\"205.0\" width=\"113.18\" height=\"40\" stroke=\"black\" fill=\"white\" stroke-width=\"1\" /><text x=\"665.4931250000001\" y=\"225.0\" dominant-baseline=\"middle\" text-anchor=\"middle\" font-size=\"14px\" font-family=\"Arial\">XX^sym_l0_q3</text><rect x=\"608.903125\" y=\"5.0\" width=\"113.18\" height=\"40\" stroke=\"black\" fill=\"white\" stroke-width=\"1\" /><text x=\"665.4931250000001\" y=\"25.0\" dominant-baseline=\"middle\" text-anchor=\"middle\" font-size=\"14px\" font-family=\"Arial\">XX</text><rect x=\"742.0831250000001\" y=\"255.0\" width=\"113.51687500000003\" height=\"40\" stroke=\"black\" fill=\"white\" stroke-width=\"1\" /><text x=\"798.8415625000001\" y=\"275.0\" dominant-baseline=\"middle\" text-anchor=\"middle\" font-size=\"14px\" font-family=\"Arial\">XX^sym_l0_q4</text><rect x=\"742.0831250000001\" y=\"5.0\" width=\"113.51687500000003\" height=\"40\" stroke=\"black\" fill=\"white\" stroke-width=\"1\" /><text x=\"798.8415625000001\" y=\"25.0\" dominant-baseline=\"middle\" text-anchor=\"middle\" font-size=\"14px\" font-family=\"Arial\">XX</text><rect x=\"875.6000000000001\" y=\"305.0\" width=\"113.07937500000003\" height=\"40\" stroke=\"black\" fill=\"white\" stroke-width=\"1\" /><text x=\"932.1396875000002\" y=\"325.0\" dominant-baseline=\"middle\" text-anchor=\"middle\" font-size=\"14px\" font-family=\"Arial\">XX^sym_l0_q5</text><rect x=\"875.6000000000001\" y=\"5.0\" width=\"113.07937500000003\" height=\"40\" stroke=\"black\" fill=\"white\" stroke-width=\"1\" /><text x=\"932.1396875000002\" y=\"25.0\" dominant-baseline=\"middle\" text-anchor=\"middle\" font-size=\"14px\" font-family=\"Arial\">XX</text><rect x=\"1008.6793750000003\" y=\"355.0\" width=\"113.42062500000003\" height=\"40\" stroke=\"black\" fill=\"white\" stroke-width=\"1\" /><text x=\"1065.3896875000003\" y=\"375.0\" dominant-baseline=\"middle\" text-anchor=\"middle\" font-size=\"14px\" font-family=\"Arial\">XX^sym_l0_q6</text><rect x=\"1008.6793750000003\" y=\"5.0\" width=\"113.42062500000003\" height=\"40\" stroke=\"black\" fill=\"white\" stroke-width=\"1\" /><text x=\"1065.3896875000003\" y=\"25.0\" dominant-baseline=\"middle\" text-anchor=\"middle\" font-size=\"14px\" font-family=\"Arial\">XX</text><rect x=\"1142.1000000000001\" y=\"405.0\" width=\"113.10562500000003\" height=\"40\" stroke=\"black\" fill=\"white\" stroke-width=\"1\" /><text x=\"1198.6528125000002\" y=\"425.0\" dominant-baseline=\"middle\" text-anchor=\"middle\" font-size=\"14px\" font-family=\"Arial\">XX^sym_l0_q7</text><rect x=\"1142.1000000000001\" y=\"5.0\" width=\"113.10562500000003\" height=\"40\" stroke=\"black\" fill=\"white\" stroke-width=\"1\" /><text x=\"1198.6528125000002\" y=\"25.0\" dominant-baseline=\"middle\" text-anchor=\"middle\" font-size=\"14px\" font-family=\"Arial\">XX</text><rect x=\"1275.205625\" y=\"55.0\" width=\"113.16031250000003\" height=\"40\" stroke=\"black\" fill=\"white\" stroke-width=\"1\" /><text x=\"1331.7857812500001\" y=\"75.0\" dominant-baseline=\"middle\" text-anchor=\"middle\" font-size=\"14px\" font-family=\"Arial\">ZZ^sym_l1_q0</text><rect x=\"1275.205625\" y=\"5.0\" width=\"113.16031250000003\" height=\"40\" stroke=\"black\" fill=\"white\" stroke-width=\"1\" /><text x=\"1331.7857812500001\" y=\"25.0\" dominant-baseline=\"middle\" text-anchor=\"middle\" font-size=\"14px\" font-family=\"Arial\">ZZ</text><rect x=\"1408.3659375000002\" y=\"105.0\" width=\"112.7971875\" height=\"40\" stroke=\"black\" fill=\"white\" stroke-width=\"1\" /><text x=\"1464.7645312500001\" y=\"125.0\" dominant-baseline=\"middle\" text-anchor=\"middle\" font-size=\"14px\" font-family=\"Arial\">ZZ^sym_l1_q1</text><rect x=\"1408.3659375000002\" y=\"5.0\" width=\"112.7971875\" height=\"40\" stroke=\"black\" fill=\"white\" stroke-width=\"1\" /><text x=\"1464.7645312500001\" y=\"25.0\" dominant-baseline=\"middle\" text-anchor=\"middle\" font-size=\"14px\" font-family=\"Arial\">ZZ</text><rect x=\"1541.1631250000003\" y=\"155.0\" width=\"112.6878125\" height=\"40\" stroke=\"black\" fill=\"white\" stroke-width=\"1\" /><text x=\"1597.5070312500002\" y=\"175.0\" dominant-baseline=\"middle\" text-anchor=\"middle\" font-size=\"14px\" font-family=\"Arial\">ZZ^sym_l1_q2</text><rect x=\"1541.1631250000003\" y=\"5.0\" width=\"112.6878125\" height=\"40\" stroke=\"black\" fill=\"white\" stroke-width=\"1\" /><text x=\"1597.5070312500002\" y=\"25.0\" dominant-baseline=\"middle\" text-anchor=\"middle\" font-size=\"14px\" font-family=\"Arial\">ZZ</text><rect x=\"1673.8509375000003\" y=\"205.0\" width=\"112.96781250000001\" height=\"40\" stroke=\"black\" fill=\"white\" stroke-width=\"1\" /><text x=\"1730.3348437500003\" y=\"225.0\" dominant-baseline=\"middle\" text-anchor=\"middle\" font-size=\"14px\" font-family=\"Arial\">ZZ^sym_l1_q3</text><rect x=\"1673.8509375000003\" y=\"5.0\" width=\"112.96781250000001\" height=\"40\" stroke=\"black\" fill=\"white\" stroke-width=\"1\" /><text x=\"1730.3348437500003\" y=\"25.0\" dominant-baseline=\"middle\" text-anchor=\"middle\" font-size=\"14px\" font-family=\"Arial\">ZZ</text><rect x=\"1806.8187500000004\" y=\"255.0\" width=\"113.3046875\" height=\"40\" stroke=\"black\" fill=\"white\" stroke-width=\"1\" /><text x=\"1863.4710937500004\" y=\"275.0\" dominant-baseline=\"middle\" text-anchor=\"middle\" font-size=\"14px\" font-family=\"Arial\">ZZ^sym_l1_q4</text><rect x=\"1806.8187500000004\" y=\"5.0\" width=\"113.3046875\" height=\"40\" stroke=\"black\" fill=\"white\" stroke-width=\"1\" /><text x=\"1863.4710937500004\" y=\"25.0\" dominant-baseline=\"middle\" text-anchor=\"middle\" font-size=\"14px\" font-family=\"Arial\">ZZ</text><rect x=\"1940.1234375000004\" y=\"305.0\" width=\"112.8671875\" height=\"40\" stroke=\"black\" fill=\"white\" stroke-width=\"1\" /><text x=\"1996.5570312500004\" y=\"325.0\" dominant-baseline=\"middle\" text-anchor=\"middle\" font-size=\"14px\" font-family=\"Arial\">ZZ^sym_l1_q5</text><rect x=\"1940.1234375000004\" y=\"5.0\" width=\"112.8671875\" height=\"40\" stroke=\"black\" fill=\"white\" stroke-width=\"1\" /><text x=\"1996.5570312500004\" y=\"25.0\" dominant-baseline=\"middle\" text-anchor=\"middle\" font-size=\"14px\" font-family=\"Arial\">ZZ</text><rect x=\"2072.9906250000004\" y=\"355.0\" width=\"113.2084375\" height=\"40\" stroke=\"black\" fill=\"white\" stroke-width=\"1\" /><text x=\"2129.5948437500006\" y=\"375.0\" dominant-baseline=\"middle\" text-anchor=\"middle\" font-size=\"14px\" font-family=\"Arial\">ZZ^sym_l1_q6</text><rect x=\"2072.9906250000004\" y=\"5.0\" width=\"113.2084375\" height=\"40\" stroke=\"black\" fill=\"white\" stroke-width=\"1\" /><text x=\"2129.5948437500006\" y=\"25.0\" dominant-baseline=\"middle\" text-anchor=\"middle\" font-size=\"14px\" font-family=\"Arial\">ZZ</text><rect x=\"2206.1990625000003\" y=\"405.0\" width=\"112.8934375\" height=\"40\" stroke=\"black\" fill=\"white\" stroke-width=\"1\" /><text x=\"2262.6457812500003\" y=\"425.0\" dominant-baseline=\"middle\" text-anchor=\"middle\" font-size=\"14px\" font-family=\"Arial\">ZZ^sym_l1_q7</text><rect x=\"2206.1990625000003\" y=\"5.0\" width=\"112.8934375\" height=\"40\" stroke=\"black\" fill=\"white\" stroke-width=\"1\" /><text x=\"2262.6457812500003\" y=\"25.0\" dominant-baseline=\"middle\" text-anchor=\"middle\" font-size=\"14px\" font-family=\"Arial\">ZZ</text><rect x=\"2339.0925\" y=\"55.0\" width=\"113.3725\" height=\"40\" stroke=\"black\" fill=\"white\" stroke-width=\"1\" /><text x=\"2395.7787500000004\" y=\"75.0\" dominant-baseline=\"middle\" text-anchor=\"middle\" font-size=\"14px\" font-family=\"Arial\">XX^sym_l2_q0</text><rect x=\"2339.0925\" y=\"5.0\" width=\"113.3725\" height=\"40\" stroke=\"black\" fill=\"white\" stroke-width=\"1\" /><text x=\"2395.7787500000004\" y=\"25.0\" dominant-baseline=\"middle\" text-anchor=\"middle\" font-size=\"14px\" font-family=\"Arial\">XX</text><rect x=\"2472.465\" y=\"105.0\" width=\"113.00937500000003\" height=\"40\" stroke=\"black\" fill=\"white\" stroke-width=\"1\" /><text x=\"2528.9696875\" y=\"125.0\" dominant-baseline=\"middle\" text-anchor=\"middle\" font-size=\"14px\" font-family=\"Arial\">XX^sym_l2_q1</text><rect x=\"2472.465\" y=\"5.0\" width=\"113.00937500000003\" height=\"40\" stroke=\"black\" fill=\"white\" stroke-width=\"1\" /><text x=\"2528.9696875\" y=\"25.0\" dominant-baseline=\"middle\" text-anchor=\"middle\" font-size=\"14px\" font-family=\"Arial\">XX</text><rect x=\"2605.4743750000002\" y=\"155.0\" width=\"112.90000000000003\" height=\"40\" stroke=\"black\" fill=\"white\" stroke-width=\"1\" /><text x=\"2661.924375\" y=\"175.0\" dominant-baseline=\"middle\" text-anchor=\"middle\" font-size=\"14px\" font-family=\"Arial\">XX^sym_l2_q2</text><rect x=\"2605.4743750000002\" y=\"5.0\" width=\"112.90000000000003\" height=\"40\" stroke=\"black\" fill=\"white\" stroke-width=\"1\" /><text x=\"2661.924375\" y=\"25.0\" dominant-baseline=\"middle\" text-anchor=\"middle\" font-size=\"14px\" font-family=\"Arial\">XX</text><rect x=\"2738.3743750000003\" y=\"205.0\" width=\"113.18\" height=\"40\" stroke=\"black\" fill=\"white\" stroke-width=\"1\" /><text x=\"2794.9643750000005\" y=\"225.0\" dominant-baseline=\"middle\" text-anchor=\"middle\" font-size=\"14px\" font-family=\"Arial\">XX^sym_l2_q3</text><rect x=\"2738.3743750000003\" y=\"5.0\" width=\"113.18\" height=\"40\" stroke=\"black\" fill=\"white\" stroke-width=\"1\" /><text x=\"2794.9643750000005\" y=\"25.0\" dominant-baseline=\"middle\" text-anchor=\"middle\" font-size=\"14px\" font-family=\"Arial\">XX</text><rect x=\"2871.554375\" y=\"255.0\" width=\"113.51687500000003\" height=\"40\" stroke=\"black\" fill=\"white\" stroke-width=\"1\" /><text x=\"2928.3128125000003\" y=\"275.0\" dominant-baseline=\"middle\" text-anchor=\"middle\" font-size=\"14px\" font-family=\"Arial\">XX^sym_l2_q4</text><rect x=\"2871.554375\" y=\"5.0\" width=\"113.51687500000003\" height=\"40\" stroke=\"black\" fill=\"white\" stroke-width=\"1\" /><text x=\"2928.3128125000003\" y=\"25.0\" dominant-baseline=\"middle\" text-anchor=\"middle\" font-size=\"14px\" font-family=\"Arial\">XX</text><rect x=\"3005.07125\" y=\"305.0\" width=\"113.07937500000003\" height=\"40\" stroke=\"black\" fill=\"white\" stroke-width=\"1\" /><text x=\"3061.6109375\" y=\"325.0\" dominant-baseline=\"middle\" text-anchor=\"middle\" font-size=\"14px\" font-family=\"Arial\">XX^sym_l2_q5</text><rect x=\"3005.07125\" y=\"5.0\" width=\"113.07937500000003\" height=\"40\" stroke=\"black\" fill=\"white\" stroke-width=\"1\" /><text x=\"3061.6109375\" y=\"25.0\" dominant-baseline=\"middle\" text-anchor=\"middle\" font-size=\"14px\" font-family=\"Arial\">XX</text><rect x=\"3138.150625\" y=\"355.0\" width=\"113.42062500000003\" height=\"40\" stroke=\"black\" fill=\"white\" stroke-width=\"1\" /><text x=\"3194.8609375\" y=\"375.0\" dominant-baseline=\"middle\" text-anchor=\"middle\" font-size=\"14px\" font-family=\"Arial\">XX^sym_l2_q6</text><rect x=\"3138.150625\" y=\"5.0\" width=\"113.42062500000003\" height=\"40\" stroke=\"black\" fill=\"white\" stroke-width=\"1\" /><text x=\"3194.8609375\" y=\"25.0\" dominant-baseline=\"middle\" text-anchor=\"middle\" font-size=\"14px\" font-family=\"Arial\">XX</text><rect x=\"3271.5712500000004\" y=\"405.0\" width=\"113.10562500000003\" height=\"40\" stroke=\"black\" fill=\"white\" stroke-width=\"1\" /><text x=\"3328.1240625000005\" y=\"425.0\" dominant-baseline=\"middle\" text-anchor=\"middle\" font-size=\"14px\" font-family=\"Arial\">XX^sym_l2_q7</text><rect x=\"3271.5712500000004\" y=\"5.0\" width=\"113.10562500000003\" height=\"40\" stroke=\"black\" fill=\"white\" stroke-width=\"1\" /><text x=\"3328.1240625000005\" y=\"25.0\" dominant-baseline=\"middle\" text-anchor=\"middle\" font-size=\"14px\" font-family=\"Arial\">XX</text><rect x=\"3404.6768750000006\" y=\"55.0\" width=\"113.16031250000003\" height=\"40\" stroke=\"black\" fill=\"white\" stroke-width=\"1\" /><text x=\"3461.2570312500006\" y=\"75.0\" dominant-baseline=\"middle\" text-anchor=\"middle\" font-size=\"14px\" font-family=\"Arial\">ZZ^sym_l3_q0</text><rect x=\"3404.6768750000006\" y=\"5.0\" width=\"113.16031250000003\" height=\"40\" stroke=\"black\" fill=\"white\" stroke-width=\"1\" /><text x=\"3461.2570312500006\" y=\"25.0\" dominant-baseline=\"middle\" text-anchor=\"middle\" font-size=\"14px\" font-family=\"Arial\">ZZ</text><rect x=\"3537.8371875000007\" y=\"105.0\" width=\"112.7971875\" height=\"40\" stroke=\"black\" fill=\"white\" stroke-width=\"1\" /><text x=\"3594.235781250001\" y=\"125.0\" dominant-baseline=\"middle\" text-anchor=\"middle\" font-size=\"14px\" font-family=\"Arial\">ZZ^sym_l3_q1</text><rect x=\"3537.8371875000007\" y=\"5.0\" width=\"112.7971875\" height=\"40\" stroke=\"black\" fill=\"white\" stroke-width=\"1\" /><text x=\"3594.235781250001\" y=\"25.0\" dominant-baseline=\"middle\" text-anchor=\"middle\" font-size=\"14px\" font-family=\"Arial\">ZZ</text><rect x=\"3670.6343750000005\" y=\"155.0\" width=\"112.6878125\" height=\"40\" stroke=\"black\" fill=\"white\" stroke-width=\"1\" /><text x=\"3726.9782812500007\" y=\"175.0\" dominant-baseline=\"middle\" text-anchor=\"middle\" font-size=\"14px\" font-family=\"Arial\">ZZ^sym_l3_q2</text><rect x=\"3670.6343750000005\" y=\"5.0\" width=\"112.6878125\" height=\"40\" stroke=\"black\" fill=\"white\" stroke-width=\"1\" /><text x=\"3726.9782812500007\" y=\"25.0\" dominant-baseline=\"middle\" text-anchor=\"middle\" font-size=\"14px\" font-family=\"Arial\">ZZ</text><rect x=\"3803.3221875000004\" y=\"205.0\" width=\"112.96781250000001\" height=\"40\" stroke=\"black\" fill=\"white\" stroke-width=\"1\" /><text x=\"3859.8060937500004\" y=\"225.0\" dominant-baseline=\"middle\" text-anchor=\"middle\" font-size=\"14px\" font-family=\"Arial\">ZZ^sym_l3_q3</text><rect x=\"3803.3221875000004\" y=\"5.0\" width=\"112.96781250000001\" height=\"40\" stroke=\"black\" fill=\"white\" stroke-width=\"1\" /><text x=\"3859.8060937500004\" y=\"25.0\" dominant-baseline=\"middle\" text-anchor=\"middle\" font-size=\"14px\" font-family=\"Arial\">ZZ</text><rect x=\"3936.2900000000004\" y=\"255.0\" width=\"113.3046875\" height=\"40\" stroke=\"black\" fill=\"white\" stroke-width=\"1\" /><text x=\"3992.9423437500004\" y=\"275.0\" dominant-baseline=\"middle\" text-anchor=\"middle\" font-size=\"14px\" font-family=\"Arial\">ZZ^sym_l3_q4</text><rect x=\"3936.2900000000004\" y=\"5.0\" width=\"113.3046875\" height=\"40\" stroke=\"black\" fill=\"white\" stroke-width=\"1\" /><text x=\"3992.9423437500004\" y=\"25.0\" dominant-baseline=\"middle\" text-anchor=\"middle\" font-size=\"14px\" font-family=\"Arial\">ZZ</text><rect x=\"4069.594687500001\" y=\"305.0\" width=\"112.8671875\" height=\"40\" stroke=\"black\" fill=\"white\" stroke-width=\"1\" /><text x=\"4126.028281250001\" y=\"325.0\" dominant-baseline=\"middle\" text-anchor=\"middle\" font-size=\"14px\" font-family=\"Arial\">ZZ^sym_l3_q5</text><rect x=\"4069.594687500001\" y=\"5.0\" width=\"112.8671875\" height=\"40\" stroke=\"black\" fill=\"white\" stroke-width=\"1\" /><text x=\"4126.028281250001\" y=\"25.0\" dominant-baseline=\"middle\" text-anchor=\"middle\" font-size=\"14px\" font-family=\"Arial\">ZZ</text><rect x=\"4202.461875000001\" y=\"355.0\" width=\"113.2084375\" height=\"40\" stroke=\"black\" fill=\"white\" stroke-width=\"1\" /><text x=\"4259.066093750001\" y=\"375.0\" dominant-baseline=\"middle\" text-anchor=\"middle\" font-size=\"14px\" font-family=\"Arial\">ZZ^sym_l3_q6</text><rect x=\"4202.461875000001\" y=\"5.0\" width=\"113.2084375\" height=\"40\" stroke=\"black\" fill=\"white\" stroke-width=\"1\" /><text x=\"4259.066093750001\" y=\"25.0\" dominant-baseline=\"middle\" text-anchor=\"middle\" font-size=\"14px\" font-family=\"Arial\">ZZ</text><rect x=\"4335.670312500001\" y=\"405.0\" width=\"112.8934375\" height=\"40\" stroke=\"black\" fill=\"white\" stroke-width=\"1\" /><text x=\"4392.117031250002\" y=\"425.0\" dominant-baseline=\"middle\" text-anchor=\"middle\" font-size=\"14px\" font-family=\"Arial\">ZZ^sym_l3_q7</text><rect x=\"4335.670312500001\" y=\"5.0\" width=\"112.8934375\" height=\"40\" stroke=\"black\" fill=\"white\" stroke-width=\"1\" /><text x=\"4392.117031250002\" y=\"25.0\" dominant-baseline=\"middle\" text-anchor=\"middle\" font-size=\"14px\" font-family=\"Arial\">ZZ</text><rect x=\"4468.563750000001\" y=\"5.0\" width=\"40\" height=\"40\" stroke=\"black\" fill=\"white\" stroke-width=\"1\" /><text x=\"4488.563750000001\" y=\"25.0\" dominant-baseline=\"middle\" text-anchor=\"middle\" font-size=\"18px\" font-family=\"Arial\">H</text></svg>"
      ],
      "text/plain": [
       "<cirq.contrib.svg.svg.SVGCircuit at 0x7fba0da721f0>"
      ]
     },
     "execution_count": 272,
     "metadata": {},
     "output_type": "execute_result"
    }
   ],
   "source": [
    "_, model_circuit, model_readout = create_quantum_model(apply_dropout=True)\n",
    "SVGCircuit(model_circuit)"
   ]
  },
  {
   "cell_type": "markdown",
   "metadata": {
    "colab_type": "text",
    "id": "LY7vbY6yfABE"
   },
   "source": [
    "### 2.2 Wrap the model-circuit in a tfq-keras model\n",
    "\n",
    "Build the Keras model with the quantum components. This model is fed the \"quantum data\", from `x_train_circ`, that encodes the classical data. It uses a *Parametrized Quantum Circuit* layer, `tfq.layers.PQC`, to train the model circuit, on the quantum data.\n",
    "\n",
    "To classify these images, <a href=\"https://arxiv.org/pdf/1802.06002.pdf\" class=\"external\">Farhi et al.</a> proposed taking the expectation of a readout qubit in a parameterized circuit. The expectation returns a value between 1 and -1."
   ]
  },
  {
   "cell_type": "code",
   "execution_count": 273,
   "metadata": {
    "colab": {},
    "colab_type": "code",
    "id": "ZYdf_KOxojh0",
    "tags": []
   },
   "outputs": [
    {
     "name": "stdout",
     "output_type": "stream",
     "text": [
      "32\n"
     ]
    }
   ],
   "source": [
    "# Build the Keras model.\n",
    "qlayer = tfq.layers.PQC(model_circuit, model_readout)\n",
    "print(len(qlayer.get_weights()[0]))\n",
    "\n",
    "model = tf.keras.Sequential([\n",
    "    # The input is the data-circuit, encoded as a tf.string\n",
    "    tf.keras.layers.Input(shape=(), dtype=tf.string),\n",
    "    # The PQC layer returns the expected value of the readout gate, range [-1,1].\n",
    "    qlayer,\n",
    "])"
   ]
  },
  {
   "cell_type": "markdown",
   "metadata": {
    "colab_type": "text",
    "id": "jz-FbVc9ojh3"
   },
   "source": [
    "Next, describe the training procedure to the model, using the `compile` method.\n",
    "\n",
    "Since the the expected readout is in the range `[-1,1]`, optimizing the hinge loss is a somewhat natural fit. \n",
    "\n",
    "Note: Another valid approach would be to shift the output range to `[0,1]`, and treat it as the probability the model assigns to class `3`. This could be used with a standard a `tf.losses.BinaryCrossentropy` loss.\n",
    "\n",
    "To use the hinge loss here you need to make two small adjustments. First convert the labels, `y_train_nocon`, from boolean to `[-1,1]`, as expected by the hinge loss."
   ]
  },
  {
   "cell_type": "code",
   "execution_count": 274,
   "metadata": {
    "colab": {},
    "colab_type": "code",
    "id": "CgMNkC1Fojh5",
    "tags": []
   },
   "outputs": [],
   "source": [
    "y_train_hinge = 2.0*y_train_nocon-1.0\n",
    "y_test_hinge = 2.0*y_test-1.0"
   ]
  },
  {
   "cell_type": "markdown",
   "metadata": {
    "colab_type": "text",
    "id": "5nwnveDiojh7"
   },
   "source": [
    "Second, use a custiom `hinge_accuracy` metric that correctly handles `[-1, 1]` as the `y_true` labels argument. \n",
    "`tf.losses.BinaryAccuracy(threshold=0.0)` expects `y_true` to be a boolean, and so can't be used with hinge loss)."
   ]
  },
  {
   "cell_type": "code",
   "execution_count": 275,
   "metadata": {
    "colab": {},
    "colab_type": "code",
    "id": "3XKtZ_TEojh8",
    "tags": []
   },
   "outputs": [],
   "source": [
    "def hinge_accuracy(y_true, y_pred):\n",
    "    y_true = tf.squeeze(y_true) > 0.0\n",
    "    y_pred = tf.squeeze(y_pred) > 0.0\n",
    "    result = tf.cast(y_true == y_pred, tf.float32)\n",
    "\n",
    "    return tf.reduce_mean(result)"
   ]
  },
  {
   "cell_type": "code",
   "execution_count": 276,
   "metadata": {
    "colab": {},
    "colab_type": "code",
    "id": "FlpETlLRojiA",
    "tags": []
   },
   "outputs": [],
   "source": [
    "model.compile(\n",
    "    loss=tf.keras.losses.Hinge(),\n",
    "    optimizer=tf.keras.optimizers.Adam(),\n",
    "    metrics=[hinge_accuracy])"
   ]
  },
  {
   "cell_type": "code",
   "execution_count": 277,
   "metadata": {
    "colab": {},
    "colab_type": "code",
    "id": "jkHq2RstojiC",
    "tags": []
   },
   "outputs": [
    {
     "name": "stdout",
     "output_type": "stream",
     "text": [
      "Model: \"sequential_114\"\n",
      "_________________________________________________________________\n",
      "Layer (type)                 Output Shape              Param #   \n",
      "=================================================================\n",
      "pqc_114 (PQC)                (None, 1)                 32        \n",
      "=================================================================\n",
      "Total params: 32\n",
      "Trainable params: 32\n",
      "Non-trainable params: 0\n",
      "_________________________________________________________________\n",
      "None\n"
     ]
    }
   ],
   "source": [
    "print(model.summary())"
   ]
  },
  {
   "cell_type": "markdown",
   "metadata": {},
   "source": [
    "## 3. TensorBoard"
   ]
  },
  {
   "cell_type": "code",
   "execution_count": 278,
   "metadata": {},
   "outputs": [],
   "source": [
    "logdir = \"tb_logs/\" + datetime.datetime.now().strftime(\"%Y%m%d-%H%M%S\")\n",
    "file_writer = tf.summary.create_file_writer(logdir + \"/metrics\")\n",
    "file_writer.set_as_default()\n",
    "tensorboard_callback = tf.keras.callbacks.TensorBoard(log_dir=logdir, histogram_freq=1)\n"
   ]
  },
  {
   "cell_type": "markdown",
   "metadata": {
    "colab_type": "text",
    "id": "lsuOzDYblA9s"
   },
   "source": [
    "### Train the quantum model\n",
    "\n",
    "Now train the model—this takes about 45 min. If you don't want to wait that long, use a small subset of the data (set `NUM_EXAMPLES=500`, below). This doesn't really affect the model's progress during training (it only has 32 parameters, and doesn't need much data to constrain these). Using fewer examples just ends training earlier (5min), but runs long enough to show that it is making progress in the validation logs."
   ]
  },
  {
   "cell_type": "code",
   "execution_count": 279,
   "metadata": {
    "colab": {},
    "colab_type": "code",
    "id": "n8vuQpSLlBV2",
    "tags": []
   },
   "outputs": [],
   "source": [
    "EPOCHS = 20\n",
    "DROPOUT_EPOCHS = 2 # keep qubits dropped out for this num of epochs\n",
    "BATCH_SIZE = 32\n",
    "#NUM_EXAMPLES=None"
   ]
  },
  {
   "cell_type": "code",
   "execution_count": 280,
   "metadata": {
    "colab": {},
    "colab_type": "code",
    "id": "qJnNG-3JojiI",
    "tags": []
   },
   "outputs": [],
   "source": [
    "x_train_tfcirc_sub = x_train_tfcirc[:NUM_EXAMPLES]\n",
    "y_train_hinge_sub = y_train_hinge[:NUM_EXAMPLES]"
   ]
  },
  {
   "cell_type": "markdown",
   "metadata": {
    "colab_type": "text",
    "id": "QMSdgGC1GL7D"
   },
   "source": [
    "Training this model to convergence should achieve >85% accuracy on the test set."
   ]
  },
  {
   "cell_type": "code",
   "execution_count": 281,
   "metadata": {},
   "outputs": [],
   "source": [
    "def train_model(apply_dropout=False):\n",
    "    dropout_backup_flag = False\n",
    "    \n",
    "    for i in range(EPOCHS):        \n",
    "        # HACK - build new quantum circuit for each epoch and copy over the weights from the old one\n",
    "        \n",
    "        # Toggle apply_dropout off on first epoch\n",
    "        if dropout_backup_flag:\n",
    "            apply_dropout = True\n",
    "        elif i == 0 and apply_dropout:\n",
    "            apply_dropout = False\n",
    "            dropout_backup_flag = True\n",
    "        \n",
    "        if i == EPOCHS-2:\n",
    "            # Never use dropout on the last epoch; we can't get sane results otherwise\n",
    "            # grab the epoch before last too for better results\n",
    "            dropout_backup_flag = False\n",
    "            apply_dropout = False\n",
    "        \n",
    "        if i == 0:\n",
    "            model_builder, model_circuit, model_readout = create_quantum_model(apply_dropout, DROPOUT_EPOCHS)\n",
    "            qlayer = tfq.layers.PQC(model_circuit, model_readout)\n",
    "        else:\n",
    "            model_builder, model_circuit, model_readout = create_quantum_model(apply_dropout, -1, model_builder, qlayer.get_weights()[0])\n",
    "            qlayer_new = tfq.layers.PQC(model_circuit, model_readout,\n",
    "                                        initializer=tf.keras.initializers.Zeros)\n",
    "            curr_l = model_builder.get_builder_weights()\n",
    "            qlayer_new.set_weights([np.array(curr_l, dtype=np.float32)])\n",
    "            qlayer = qlayer_new\n",
    "\n",
    "        model = tf.keras.Sequential([\n",
    "            tf.keras.layers.Input(shape=(), dtype=tf.string),\n",
    "            qlayer,\n",
    "        ])\n",
    "        model.compile(\n",
    "            loss=tf.keras.losses.Hinge(),\n",
    "            optimizer=tf.keras.optimizers.Adam(),\n",
    "            metrics=[hinge_accuracy])\n",
    "\n",
    "        # Now fit the model for this epoch\n",
    "        model.fit(\n",
    "              x_train_tfcirc_sub, y_train_hinge_sub,\n",
    "              batch_size=32,\n",
    "              epochs=1,\n",
    "              verbose=1,\n",
    "              validation_data=(x_test_tfcirc, y_test_hinge),\n",
    "              callbacks=[tensorboard_callback])\n",
    "    \n",
    "    return model"
   ]
  },
  {
   "cell_type": "code",
   "execution_count": 282,
   "metadata": {},
   "outputs": [
    {
     "name": "stdout",
     "output_type": "stream",
     "text": [
      "WARNING:tensorflow:Model failed to serialize as JSON. Ignoring... Layer PQC has arguments in `__init__` and therefore must override `get_config`.\n",
      "16/16 [==============================] - 20s 1s/step - loss: 1.0004 - hinge_accuracy: 0.5039 - val_loss: 0.9881 - val_hinge_accuracy: 0.5015\n",
      "self.dropped_out_qubit_ids = \n",
      "[]\n",
      "WARNING:tensorflow:Model failed to serialize as JSON. Ignoring... Layer PQC has arguments in `__init__` and therefore must override `get_config`.\n",
      "16/16 [==============================] - 21s 1s/step - loss: 0.9997 - hinge_accuracy: 0.4948 - val_loss: 0.9891 - val_hinge_accuracy: 0.4970\n",
      "self.dropped_out_qubit_ids = \n",
      "[]\n",
      "WARNING:tensorflow:Model failed to serialize as JSON. Ignoring... Layer PQC has arguments in `__init__` and therefore must override `get_config`.\n",
      "16/16 [==============================] - 19s 1s/step - loss: 0.9989 - hinge_accuracy: 0.4997 - val_loss: 0.9903 - val_hinge_accuracy: 0.4909\n",
      "self.dropped_out_qubit_ids = \n",
      "[]\n",
      "WARNING:tensorflow:Model failed to serialize as JSON. Ignoring... Layer PQC has arguments in `__init__` and therefore must override `get_config`.\n",
      "16/16 [==============================] - 19s 1s/step - loss: 0.9981 - hinge_accuracy: 0.5128 - val_loss: 0.9916 - val_hinge_accuracy: 0.4894\n",
      "self.dropped_out_qubit_ids = \n",
      "[]\n",
      "WARNING:tensorflow:Model failed to serialize as JSON. Ignoring... Layer PQC has arguments in `__init__` and therefore must override `get_config`.\n",
      "16/16 [==============================] - 19s 1s/step - loss: 0.9973 - hinge_accuracy: 0.5185 - val_loss: 0.9931 - val_hinge_accuracy: 0.4889\n",
      "self.dropped_out_qubit_ids = \n",
      "[]\n",
      "WARNING:tensorflow:Model failed to serialize as JSON. Ignoring... Layer PQC has arguments in `__init__` and therefore must override `get_config`.\n",
      "16/16 [==============================] - 19s 1s/step - loss: 0.9965 - hinge_accuracy: 0.5171 - val_loss: 0.9947 - val_hinge_accuracy: 0.4884\n",
      "self.dropped_out_qubit_ids = \n",
      "[]\n",
      "WARNING:tensorflow:Model failed to serialize as JSON. Ignoring... Layer PQC has arguments in `__init__` and therefore must override `get_config`.\n",
      "16/16 [==============================] - 19s 1s/step - loss: 0.9957 - hinge_accuracy: 0.5171 - val_loss: 0.9965 - val_hinge_accuracy: 0.4884\n",
      "self.dropped_out_qubit_ids = \n",
      "[]\n",
      "WARNING:tensorflow:Model failed to serialize as JSON. Ignoring... Layer PQC has arguments in `__init__` and therefore must override `get_config`.\n",
      "16/16 [==============================] - 19s 1s/step - loss: 0.9949 - hinge_accuracy: 0.5171 - val_loss: 0.9984 - val_hinge_accuracy: 0.4884\n",
      "self.dropped_out_qubit_ids = \n",
      "[]\n",
      "WARNING:tensorflow:Model failed to serialize as JSON. Ignoring... Layer PQC has arguments in `__init__` and therefore must override `get_config`.\n",
      "16/16 [==============================] - 19s 1s/step - loss: 0.9941 - hinge_accuracy: 0.5171 - val_loss: 1.0003 - val_hinge_accuracy: 0.4879\n",
      "self.dropped_out_qubit_ids = \n",
      "[]\n",
      "WARNING:tensorflow:Model failed to serialize as JSON. Ignoring... Layer PQC has arguments in `__init__` and therefore must override `get_config`.\n",
      "16/16 [==============================] - 19s 1s/step - loss: 0.9933 - hinge_accuracy: 0.5171 - val_loss: 1.0022 - val_hinge_accuracy: 0.4879\n",
      "self.dropped_out_qubit_ids = \n",
      "[]\n",
      "WARNING:tensorflow:Model failed to serialize as JSON. Ignoring... Layer PQC has arguments in `__init__` and therefore must override `get_config`.\n",
      "16/16 [==============================] - 19s 1s/step - loss: 0.9926 - hinge_accuracy: 0.5171 - val_loss: 1.0041 - val_hinge_accuracy: 0.4879\n",
      "self.dropped_out_qubit_ids = \n",
      "[]\n",
      "WARNING:tensorflow:Model failed to serialize as JSON. Ignoring... Layer PQC has arguments in `__init__` and therefore must override `get_config`.\n",
      "16/16 [==============================] - 19s 1s/step - loss: 0.9919 - hinge_accuracy: 0.5171 - val_loss: 1.0059 - val_hinge_accuracy: 0.4874\n",
      "self.dropped_out_qubit_ids = \n",
      "[]\n",
      "WARNING:tensorflow:Model failed to serialize as JSON. Ignoring... Layer PQC has arguments in `__init__` and therefore must override `get_config`.\n",
      "16/16 [==============================] - ETA: 0s - loss: 0.9917 - hinge_accuracy: 0.5157"
     ]
    },
    {
     "ename": "KeyboardInterrupt",
     "evalue": "",
     "output_type": "error",
     "traceback": [
      "\u001b[0;31m---------------------------------------------------------------------------\u001b[0m",
      "\u001b[0;31mKeyboardInterrupt\u001b[0m                         Traceback (most recent call last)",
      "\u001b[0;32m<ipython-input-282-ddb72d14d730>\u001b[0m in \u001b[0;36m<module>\u001b[0;34m\u001b[0m\n\u001b[0;32m----> 1\u001b[0;31m \u001b[0mmodel\u001b[0m \u001b[0;34m=\u001b[0m \u001b[0mtrain_model\u001b[0m\u001b[0;34m(\u001b[0m\u001b[0mapply_dropout\u001b[0m\u001b[0;34m=\u001b[0m\u001b[0;32mFalse\u001b[0m\u001b[0;34m)\u001b[0m\u001b[0;34m\u001b[0m\u001b[0;34m\u001b[0m\u001b[0m\n\u001b[0m",
      "\u001b[0;32m<ipython-input-281-37cca4d0fa8b>\u001b[0m in \u001b[0;36mtrain_model\u001b[0;34m(apply_dropout)\u001b[0m\n\u001b[1;32m     39\u001b[0m \u001b[0;34m\u001b[0m\u001b[0m\n\u001b[1;32m     40\u001b[0m         \u001b[0;31m# Now fit the model for this epoch\u001b[0m\u001b[0;34m\u001b[0m\u001b[0;34m\u001b[0m\u001b[0;34m\u001b[0m\u001b[0m\n\u001b[0;32m---> 41\u001b[0;31m         model.fit(\n\u001b[0m\u001b[1;32m     42\u001b[0m               \u001b[0mx_train_tfcirc_sub\u001b[0m\u001b[0;34m,\u001b[0m \u001b[0my_train_hinge_sub\u001b[0m\u001b[0;34m,\u001b[0m\u001b[0;34m\u001b[0m\u001b[0;34m\u001b[0m\u001b[0m\n\u001b[1;32m     43\u001b[0m               \u001b[0mbatch_size\u001b[0m\u001b[0;34m=\u001b[0m\u001b[0;36m32\u001b[0m\u001b[0;34m,\u001b[0m\u001b[0;34m\u001b[0m\u001b[0;34m\u001b[0m\u001b[0m\n",
      "\u001b[0;32m/mnt/c/Users/mmints/Documents/Stanford/CS230/project/CS230_quantum_dropout/qenv_project/lib/python3.8/site-packages/tensorflow/python/keras/engine/training.py\u001b[0m in \u001b[0;36mfit\u001b[0;34m(self, x, y, batch_size, epochs, verbose, callbacks, validation_split, validation_data, shuffle, class_weight, sample_weight, initial_epoch, steps_per_epoch, validation_steps, validation_batch_size, validation_freq, max_queue_size, workers, use_multiprocessing)\u001b[0m\n\u001b[1;32m   1129\u001b[0m                 \u001b[0mmodel\u001b[0m\u001b[0;34m=\u001b[0m\u001b[0mself\u001b[0m\u001b[0;34m,\u001b[0m\u001b[0;34m\u001b[0m\u001b[0;34m\u001b[0m\u001b[0m\n\u001b[1;32m   1130\u001b[0m                 steps_per_execution=self._steps_per_execution)\n\u001b[0;32m-> 1131\u001b[0;31m           val_logs = self.evaluate(\n\u001b[0m\u001b[1;32m   1132\u001b[0m               \u001b[0mx\u001b[0m\u001b[0;34m=\u001b[0m\u001b[0mval_x\u001b[0m\u001b[0;34m,\u001b[0m\u001b[0;34m\u001b[0m\u001b[0;34m\u001b[0m\u001b[0m\n\u001b[1;32m   1133\u001b[0m               \u001b[0my\u001b[0m\u001b[0;34m=\u001b[0m\u001b[0mval_y\u001b[0m\u001b[0;34m,\u001b[0m\u001b[0;34m\u001b[0m\u001b[0;34m\u001b[0m\u001b[0m\n",
      "\u001b[0;32m/mnt/c/Users/mmints/Documents/Stanford/CS230/project/CS230_quantum_dropout/qenv_project/lib/python3.8/site-packages/tensorflow/python/keras/engine/training.py\u001b[0m in \u001b[0;36mevaluate\u001b[0;34m(self, x, y, batch_size, verbose, sample_weight, steps, callbacks, max_queue_size, workers, use_multiprocessing, return_dict)\u001b[0m\n\u001b[1;32m   1387\u001b[0m             \u001b[0;32mwith\u001b[0m \u001b[0mtrace\u001b[0m\u001b[0;34m.\u001b[0m\u001b[0mTrace\u001b[0m\u001b[0;34m(\u001b[0m\u001b[0;34m'test'\u001b[0m\u001b[0;34m,\u001b[0m \u001b[0mstep_num\u001b[0m\u001b[0;34m=\u001b[0m\u001b[0mstep\u001b[0m\u001b[0;34m,\u001b[0m \u001b[0m_r\u001b[0m\u001b[0;34m=\u001b[0m\u001b[0;36m1\u001b[0m\u001b[0;34m)\u001b[0m\u001b[0;34m:\u001b[0m\u001b[0;34m\u001b[0m\u001b[0;34m\u001b[0m\u001b[0m\n\u001b[1;32m   1388\u001b[0m               \u001b[0mcallbacks\u001b[0m\u001b[0;34m.\u001b[0m\u001b[0mon_test_batch_begin\u001b[0m\u001b[0;34m(\u001b[0m\u001b[0mstep\u001b[0m\u001b[0;34m)\u001b[0m\u001b[0;34m\u001b[0m\u001b[0;34m\u001b[0m\u001b[0m\n\u001b[0;32m-> 1389\u001b[0;31m               \u001b[0mtmp_logs\u001b[0m \u001b[0;34m=\u001b[0m \u001b[0mself\u001b[0m\u001b[0;34m.\u001b[0m\u001b[0mtest_function\u001b[0m\u001b[0;34m(\u001b[0m\u001b[0miterator\u001b[0m\u001b[0;34m)\u001b[0m\u001b[0;34m\u001b[0m\u001b[0;34m\u001b[0m\u001b[0m\n\u001b[0m\u001b[1;32m   1390\u001b[0m               \u001b[0;32mif\u001b[0m \u001b[0mdata_handler\u001b[0m\u001b[0;34m.\u001b[0m\u001b[0mshould_sync\u001b[0m\u001b[0;34m:\u001b[0m\u001b[0;34m\u001b[0m\u001b[0;34m\u001b[0m\u001b[0m\n\u001b[1;32m   1391\u001b[0m                 \u001b[0mcontext\u001b[0m\u001b[0;34m.\u001b[0m\u001b[0masync_wait\u001b[0m\u001b[0;34m(\u001b[0m\u001b[0;34m)\u001b[0m\u001b[0;34m\u001b[0m\u001b[0;34m\u001b[0m\u001b[0m\n",
      "\u001b[0;32m/mnt/c/Users/mmints/Documents/Stanford/CS230/project/CS230_quantum_dropout/qenv_project/lib/python3.8/site-packages/tensorflow/python/eager/def_function.py\u001b[0m in \u001b[0;36m__call__\u001b[0;34m(self, *args, **kwds)\u001b[0m\n\u001b[1;32m    826\u001b[0m     \u001b[0mtracing_count\u001b[0m \u001b[0;34m=\u001b[0m \u001b[0mself\u001b[0m\u001b[0;34m.\u001b[0m\u001b[0mexperimental_get_tracing_count\u001b[0m\u001b[0;34m(\u001b[0m\u001b[0;34m)\u001b[0m\u001b[0;34m\u001b[0m\u001b[0;34m\u001b[0m\u001b[0m\n\u001b[1;32m    827\u001b[0m     \u001b[0;32mwith\u001b[0m \u001b[0mtrace\u001b[0m\u001b[0;34m.\u001b[0m\u001b[0mTrace\u001b[0m\u001b[0;34m(\u001b[0m\u001b[0mself\u001b[0m\u001b[0;34m.\u001b[0m\u001b[0m_name\u001b[0m\u001b[0;34m)\u001b[0m \u001b[0;32mas\u001b[0m \u001b[0mtm\u001b[0m\u001b[0;34m:\u001b[0m\u001b[0;34m\u001b[0m\u001b[0;34m\u001b[0m\u001b[0m\n\u001b[0;32m--> 828\u001b[0;31m       \u001b[0mresult\u001b[0m \u001b[0;34m=\u001b[0m \u001b[0mself\u001b[0m\u001b[0;34m.\u001b[0m\u001b[0m_call\u001b[0m\u001b[0;34m(\u001b[0m\u001b[0;34m*\u001b[0m\u001b[0margs\u001b[0m\u001b[0;34m,\u001b[0m \u001b[0;34m**\u001b[0m\u001b[0mkwds\u001b[0m\u001b[0;34m)\u001b[0m\u001b[0;34m\u001b[0m\u001b[0;34m\u001b[0m\u001b[0m\n\u001b[0m\u001b[1;32m    829\u001b[0m       \u001b[0mcompiler\u001b[0m \u001b[0;34m=\u001b[0m \u001b[0;34m\"xla\"\u001b[0m \u001b[0;32mif\u001b[0m \u001b[0mself\u001b[0m\u001b[0;34m.\u001b[0m\u001b[0m_experimental_compile\u001b[0m \u001b[0;32melse\u001b[0m \u001b[0;34m\"nonXla\"\u001b[0m\u001b[0;34m\u001b[0m\u001b[0;34m\u001b[0m\u001b[0m\n\u001b[1;32m    830\u001b[0m       \u001b[0mnew_tracing_count\u001b[0m \u001b[0;34m=\u001b[0m \u001b[0mself\u001b[0m\u001b[0;34m.\u001b[0m\u001b[0mexperimental_get_tracing_count\u001b[0m\u001b[0;34m(\u001b[0m\u001b[0;34m)\u001b[0m\u001b[0;34m\u001b[0m\u001b[0;34m\u001b[0m\u001b[0m\n",
      "\u001b[0;32m/mnt/c/Users/mmints/Documents/Stanford/CS230/project/CS230_quantum_dropout/qenv_project/lib/python3.8/site-packages/tensorflow/python/eager/def_function.py\u001b[0m in \u001b[0;36m_call\u001b[0;34m(self, *args, **kwds)\u001b[0m\n\u001b[1;32m    860\u001b[0m       \u001b[0;31m# In this case we have not created variables on the first call. So we can\u001b[0m\u001b[0;34m\u001b[0m\u001b[0;34m\u001b[0m\u001b[0;34m\u001b[0m\u001b[0m\n\u001b[1;32m    861\u001b[0m       \u001b[0;31m# run the first trace but we should fail if variables are created.\u001b[0m\u001b[0;34m\u001b[0m\u001b[0;34m\u001b[0m\u001b[0;34m\u001b[0m\u001b[0m\n\u001b[0;32m--> 862\u001b[0;31m       \u001b[0mresults\u001b[0m \u001b[0;34m=\u001b[0m \u001b[0mself\u001b[0m\u001b[0;34m.\u001b[0m\u001b[0m_stateful_fn\u001b[0m\u001b[0;34m(\u001b[0m\u001b[0;34m*\u001b[0m\u001b[0margs\u001b[0m\u001b[0;34m,\u001b[0m \u001b[0;34m**\u001b[0m\u001b[0mkwds\u001b[0m\u001b[0;34m)\u001b[0m\u001b[0;34m\u001b[0m\u001b[0;34m\u001b[0m\u001b[0m\n\u001b[0m\u001b[1;32m    863\u001b[0m       \u001b[0;32mif\u001b[0m \u001b[0mself\u001b[0m\u001b[0;34m.\u001b[0m\u001b[0m_created_variables\u001b[0m\u001b[0;34m:\u001b[0m\u001b[0;34m\u001b[0m\u001b[0;34m\u001b[0m\u001b[0m\n\u001b[1;32m    864\u001b[0m         raise ValueError(\"Creating variables on a non-first call to a function\"\n",
      "\u001b[0;32m/mnt/c/Users/mmints/Documents/Stanford/CS230/project/CS230_quantum_dropout/qenv_project/lib/python3.8/site-packages/tensorflow/python/eager/function.py\u001b[0m in \u001b[0;36m__call__\u001b[0;34m(self, *args, **kwargs)\u001b[0m\n\u001b[1;32m   2940\u001b[0m       (graph_function,\n\u001b[1;32m   2941\u001b[0m        filtered_flat_args) = self._maybe_define_function(args, kwargs)\n\u001b[0;32m-> 2942\u001b[0;31m     return graph_function._call_flat(\n\u001b[0m\u001b[1;32m   2943\u001b[0m         filtered_flat_args, captured_inputs=graph_function.captured_inputs)  # pylint: disable=protected-access\n\u001b[1;32m   2944\u001b[0m \u001b[0;34m\u001b[0m\u001b[0m\n",
      "\u001b[0;32m/mnt/c/Users/mmints/Documents/Stanford/CS230/project/CS230_quantum_dropout/qenv_project/lib/python3.8/site-packages/tensorflow/python/eager/function.py\u001b[0m in \u001b[0;36m_call_flat\u001b[0;34m(self, args, captured_inputs, cancellation_manager)\u001b[0m\n\u001b[1;32m   1916\u001b[0m         and executing_eagerly):\n\u001b[1;32m   1917\u001b[0m       \u001b[0;31m# No tape is watching; skip to running the function.\u001b[0m\u001b[0;34m\u001b[0m\u001b[0;34m\u001b[0m\u001b[0;34m\u001b[0m\u001b[0m\n\u001b[0;32m-> 1918\u001b[0;31m       return self._build_call_outputs(self._inference_function.call(\n\u001b[0m\u001b[1;32m   1919\u001b[0m           ctx, args, cancellation_manager=cancellation_manager))\n\u001b[1;32m   1920\u001b[0m     forward_backward = self._select_forward_and_backward_functions(\n",
      "\u001b[0;32m/mnt/c/Users/mmints/Documents/Stanford/CS230/project/CS230_quantum_dropout/qenv_project/lib/python3.8/site-packages/tensorflow/python/eager/function.py\u001b[0m in \u001b[0;36mcall\u001b[0;34m(self, ctx, args, cancellation_manager)\u001b[0m\n\u001b[1;32m    553\u001b[0m       \u001b[0;32mwith\u001b[0m \u001b[0m_InterpolateFunctionError\u001b[0m\u001b[0;34m(\u001b[0m\u001b[0mself\u001b[0m\u001b[0;34m)\u001b[0m\u001b[0;34m:\u001b[0m\u001b[0;34m\u001b[0m\u001b[0;34m\u001b[0m\u001b[0m\n\u001b[1;32m    554\u001b[0m         \u001b[0;32mif\u001b[0m \u001b[0mcancellation_manager\u001b[0m \u001b[0;32mis\u001b[0m \u001b[0;32mNone\u001b[0m\u001b[0;34m:\u001b[0m\u001b[0;34m\u001b[0m\u001b[0;34m\u001b[0m\u001b[0m\n\u001b[0;32m--> 555\u001b[0;31m           outputs = execute.execute(\n\u001b[0m\u001b[1;32m    556\u001b[0m               \u001b[0mstr\u001b[0m\u001b[0;34m(\u001b[0m\u001b[0mself\u001b[0m\u001b[0;34m.\u001b[0m\u001b[0msignature\u001b[0m\u001b[0;34m.\u001b[0m\u001b[0mname\u001b[0m\u001b[0;34m)\u001b[0m\u001b[0;34m,\u001b[0m\u001b[0;34m\u001b[0m\u001b[0;34m\u001b[0m\u001b[0m\n\u001b[1;32m    557\u001b[0m               \u001b[0mnum_outputs\u001b[0m\u001b[0;34m=\u001b[0m\u001b[0mself\u001b[0m\u001b[0;34m.\u001b[0m\u001b[0m_num_outputs\u001b[0m\u001b[0;34m,\u001b[0m\u001b[0;34m\u001b[0m\u001b[0;34m\u001b[0m\u001b[0m\n",
      "\u001b[0;32m/mnt/c/Users/mmints/Documents/Stanford/CS230/project/CS230_quantum_dropout/qenv_project/lib/python3.8/site-packages/tensorflow/python/eager/execute.py\u001b[0m in \u001b[0;36mquick_execute\u001b[0;34m(op_name, num_outputs, inputs, attrs, ctx, name)\u001b[0m\n\u001b[1;32m     57\u001b[0m   \u001b[0;32mtry\u001b[0m\u001b[0;34m:\u001b[0m\u001b[0;34m\u001b[0m\u001b[0;34m\u001b[0m\u001b[0m\n\u001b[1;32m     58\u001b[0m     \u001b[0mctx\u001b[0m\u001b[0;34m.\u001b[0m\u001b[0mensure_initialized\u001b[0m\u001b[0;34m(\u001b[0m\u001b[0;34m)\u001b[0m\u001b[0;34m\u001b[0m\u001b[0;34m\u001b[0m\u001b[0m\n\u001b[0;32m---> 59\u001b[0;31m     tensors = pywrap_tfe.TFE_Py_Execute(ctx._handle, device_name, op_name,\n\u001b[0m\u001b[1;32m     60\u001b[0m                                         inputs, attrs, num_outputs)\n\u001b[1;32m     61\u001b[0m   \u001b[0;32mexcept\u001b[0m \u001b[0mcore\u001b[0m\u001b[0;34m.\u001b[0m\u001b[0m_NotOkStatusException\u001b[0m \u001b[0;32mas\u001b[0m \u001b[0me\u001b[0m\u001b[0;34m:\u001b[0m\u001b[0;34m\u001b[0m\u001b[0;34m\u001b[0m\u001b[0m\n",
      "\u001b[0;31mKeyboardInterrupt\u001b[0m: "
     ]
    }
   ],
   "source": [
    "model = train_model(apply_dropout=False)"
   ]
  },
  {
   "cell_type": "code",
   "execution_count": null,
   "metadata": {},
   "outputs": [],
   "source": [
    "print(\"Non-dropout training set perf:\")\n",
    "model.evaluate(x_train_tfcirc_sub, y_train_hinge_sub)\n",
    "print(\"Non-dropout test set perf:\")\n",
    "qnn_results = model.evaluate(x_test_tfcirc, y_test)"
   ]
  },
  {
   "cell_type": "code",
   "execution_count": null,
   "metadata": {
    "colab": {},
    "colab_type": "code",
    "id": "Ya9qP3KkojiM",
    "tags": []
   },
   "outputs": [],
   "source": [
    "dropout_model = train_model(apply_dropout=True)"
   ]
  },
  {
   "cell_type": "code",
   "execution_count": null,
   "metadata": {},
   "outputs": [],
   "source": [
    "print(\"Dropout training set perf:\")\n",
    "dropout_model.evaluate(x_train_tfcirc_sub, y_train_hinge_sub)\n",
    "print(\"Dropout test set perf:\")\n",
    "qnn_results = dropout_model.evaluate(x_test_tfcirc, y_test)"
   ]
  },
  {
   "cell_type": "markdown",
   "metadata": {
    "colab_type": "text",
    "id": "3ER7B7aaojiP"
   },
   "source": [
    "Note: The training accuracy reports the average over the epoch. The validation accuracy is evaluated at the end of each epoch."
   ]
  },
  {
   "cell_type": "markdown",
   "metadata": {
    "colab_type": "text",
    "id": "8952YvuWGL7J"
   },
   "source": [
    "## 4. Classical neural network\n",
    "\n",
    "While the quantum neural network works for this simplified MNIST problem, a basic classical neural network can easily outperform a QNN on this task. After a single epoch, a classical neural network can achieve >98% accuracy on the holdout set.\n",
    "\n",
    "In the following example, a classical neural network is used for for the 3-6 classification problem using the entire 28x28 image instead of subsampling the image. This easily converges to nearly 100% accuracy of the test set."
   ]
  },
  {
   "cell_type": "code",
   "execution_count": 158,
   "metadata": {
    "colab": {},
    "colab_type": "code",
    "id": "pZofEHhLGL7L",
    "tags": []
   },
   "outputs": [
    {
     "name": "stdout",
     "output_type": "stream",
     "text": [
      "Model: \"sequential_16\"\n",
      "_________________________________________________________________\n",
      "Layer (type)                 Output Shape              Param #   \n",
      "=================================================================\n",
      "conv2d_2 (Conv2D)            (None, 26, 26, 32)        320       \n",
      "_________________________________________________________________\n",
      "conv2d_3 (Conv2D)            (None, 24, 24, 64)        18496     \n",
      "_________________________________________________________________\n",
      "max_pooling2d_1 (MaxPooling2 (None, 12, 12, 64)        0         \n",
      "_________________________________________________________________\n",
      "dropout_2 (Dropout)          (None, 12, 12, 64)        0         \n",
      "_________________________________________________________________\n",
      "flatten_2 (Flatten)          (None, 9216)              0         \n",
      "_________________________________________________________________\n",
      "dense_4 (Dense)              (None, 128)               1179776   \n",
      "_________________________________________________________________\n",
      "dropout_3 (Dropout)          (None, 128)               0         \n",
      "_________________________________________________________________\n",
      "dense_5 (Dense)              (None, 1)                 129       \n",
      "=================================================================\n",
      "Total params: 1,198,721\n",
      "Trainable params: 1,198,721\n",
      "Non-trainable params: 0\n",
      "_________________________________________________________________\n"
     ]
    }
   ],
   "source": [
    "def create_classical_model():\n",
    "    # A simple model based off LeNet from https://keras.io/examples/mnist_cnn/\n",
    "    model = tf.keras.Sequential()\n",
    "    model.add(tf.keras.layers.Conv2D(32, [3, 3], activation='relu', input_shape=(28,28,1)))\n",
    "    model.add(tf.keras.layers.Conv2D(64, [3, 3], activation='relu'))\n",
    "    model.add(tf.keras.layers.MaxPooling2D(pool_size=(2, 2)))\n",
    "    model.add(tf.keras.layers.Dropout(0.25))\n",
    "    model.add(tf.keras.layers.Flatten())\n",
    "    model.add(tf.keras.layers.Dense(128, activation='relu'))\n",
    "    model.add(tf.keras.layers.Dropout(0.5))\n",
    "    model.add(tf.keras.layers.Dense(1))\n",
    "    return model\n",
    "\n",
    "\n",
    "model = create_classical_model()\n",
    "model.compile(loss=tf.keras.losses.BinaryCrossentropy(from_logits=True),\n",
    "              optimizer=tf.keras.optimizers.Adam(),\n",
    "              metrics=['accuracy'])\n",
    "\n",
    "model.summary()"
   ]
  },
  {
   "cell_type": "code",
   "execution_count": 159,
   "metadata": {
    "colab": {},
    "colab_type": "code",
    "id": "CiAJl7sZojiU",
    "tags": []
   },
   "outputs": [
    {
     "name": "stdout",
     "output_type": "stream",
     "text": [
      "95/95 [==============================] - 19s 188ms/step - loss: 0.1138 - accuracy: 0.9467 - val_loss: 0.0057 - val_accuracy: 0.9990\n",
      "62/62 [==============================] - 1s 13ms/step - loss: 0.0057 - accuracy: 0.9990\n"
     ]
    }
   ],
   "source": [
    "model.fit(x_train,\n",
    "          y_train,\n",
    "          batch_size=128,\n",
    "          epochs=1,\n",
    "          verbose=1,\n",
    "          validation_data=(x_test, y_test))\n",
    "\n",
    "cnn_results = model.evaluate(x_test, y_test)"
   ]
  },
  {
   "cell_type": "markdown",
   "metadata": {
    "colab_type": "text",
    "id": "X5-5BVJaojiZ"
   },
   "source": [
    "The above model has nearly 1.2M parameters. For a more fair comparison, try a 37-parameter model, on the subsampled images:"
   ]
  },
  {
   "cell_type": "code",
   "execution_count": 160,
   "metadata": {
    "colab": {},
    "colab_type": "code",
    "id": "70TOM6r-ojiZ",
    "tags": []
   },
   "outputs": [
    {
     "name": "stdout",
     "output_type": "stream",
     "text": [
      "Model: \"sequential_17\"\n",
      "_________________________________________________________________\n",
      "Layer (type)                 Output Shape              Param #   \n",
      "=================================================================\n",
      "flatten_3 (Flatten)          (None, 16)                0         \n",
      "_________________________________________________________________\n",
      "dense_6 (Dense)              (None, 2)                 34        \n",
      "_________________________________________________________________\n",
      "dense_7 (Dense)              (None, 1)                 3         \n",
      "=================================================================\n",
      "Total params: 37\n",
      "Trainable params: 37\n",
      "Non-trainable params: 0\n",
      "_________________________________________________________________\n"
     ]
    }
   ],
   "source": [
    "def create_fair_classical_model():\n",
    "    # A simple model based off LeNet from https://keras.io/examples/mnist_cnn/\n",
    "    model = tf.keras.Sequential()\n",
    "    model.add(tf.keras.layers.Flatten(input_shape=(4,4,1)))\n",
    "    model.add(tf.keras.layers.Dense(2, activation='relu'))\n",
    "    model.add(tf.keras.layers.Dense(1))\n",
    "    return model\n",
    "\n",
    "\n",
    "model = create_fair_classical_model()\n",
    "model.compile(loss=tf.keras.losses.BinaryCrossentropy(from_logits=True),\n",
    "              optimizer=tf.keras.optimizers.Adam(),\n",
    "              metrics=['accuracy'])\n",
    "\n",
    "model.summary()"
   ]
  },
  {
   "cell_type": "code",
   "execution_count": 161,
   "metadata": {
    "colab": {},
    "colab_type": "code",
    "id": "lA_Fx-8gojid",
    "tags": []
   },
   "outputs": [
    {
     "name": "stdout",
     "output_type": "stream",
     "text": [
      "Epoch 1/20\n",
      "81/81 - 1s - loss: 0.6579 - accuracy: 0.5250 - val_loss: 0.6457 - val_accuracy: 0.4878\n",
      "Epoch 2/20\n",
      "81/81 - 0s - loss: 0.6325 - accuracy: 0.5525 - val_loss: 0.6172 - val_accuracy: 0.5701\n",
      "Epoch 3/20\n",
      "81/81 - 0s - loss: 0.5962 - accuracy: 0.6614 - val_loss: 0.5704 - val_accuracy: 0.7642\n",
      "Epoch 4/20\n",
      "81/81 - 0s - loss: 0.5455 - accuracy: 0.8182 - val_loss: 0.5161 - val_accuracy: 0.8237\n",
      "Epoch 5/20\n",
      "81/81 - 0s - loss: 0.4965 - accuracy: 0.8508 - val_loss: 0.4702 - val_accuracy: 0.8318\n",
      "Epoch 6/20\n",
      "81/81 - 0s - loss: 0.4564 - accuracy: 0.8564 - val_loss: 0.4347 - val_accuracy: 0.8308\n",
      "Epoch 7/20\n",
      "81/81 - 0s - loss: 0.4255 - accuracy: 0.8578 - val_loss: 0.4075 - val_accuracy: 0.8308\n",
      "Epoch 8/20\n",
      "81/81 - 0s - loss: 0.4008 - accuracy: 0.8582 - val_loss: 0.3854 - val_accuracy: 0.8323\n",
      "Epoch 9/20\n",
      "81/81 - 0s - loss: 0.3807 - accuracy: 0.8667 - val_loss: 0.3675 - val_accuracy: 0.8709\n",
      "Epoch 10/20\n",
      "81/81 - 0s - loss: 0.3637 - accuracy: 0.8803 - val_loss: 0.3522 - val_accuracy: 0.8709\n",
      "Epoch 11/20\n",
      "81/81 - 0s - loss: 0.3493 - accuracy: 0.8822 - val_loss: 0.3394 - val_accuracy: 0.8709\n",
      "Epoch 12/20\n",
      "81/81 - 0s - loss: 0.3369 - accuracy: 0.8829 - val_loss: 0.3284 - val_accuracy: 0.8709\n",
      "Epoch 13/20\n",
      "81/81 - 0s - loss: 0.3261 - accuracy: 0.8829 - val_loss: 0.3188 - val_accuracy: 0.8709\n",
      "Epoch 14/20\n",
      "81/81 - 0s - loss: 0.3167 - accuracy: 0.8829 - val_loss: 0.3102 - val_accuracy: 0.8709\n",
      "Epoch 15/20\n",
      "81/81 - 0s - loss: 0.3083 - accuracy: 0.8829 - val_loss: 0.3027 - val_accuracy: 0.8709\n",
      "Epoch 16/20\n",
      "81/81 - 0s - loss: 0.3009 - accuracy: 0.8831 - val_loss: 0.2960 - val_accuracy: 0.8714\n",
      "Epoch 17/20\n",
      "81/81 - 0s - loss: 0.2943 - accuracy: 0.8833 - val_loss: 0.2901 - val_accuracy: 0.8714\n",
      "Epoch 18/20\n",
      "81/81 - 0s - loss: 0.2884 - accuracy: 0.8834 - val_loss: 0.2847 - val_accuracy: 0.8720\n",
      "Epoch 19/20\n",
      "81/81 - 0s - loss: 0.2830 - accuracy: 0.8835 - val_loss: 0.2798 - val_accuracy: 0.8720\n",
      "Epoch 20/20\n",
      "81/81 - 0s - loss: 0.2782 - accuracy: 0.8835 - val_loss: 0.2754 - val_accuracy: 0.8720\n",
      "62/62 [==============================] - 0s 721us/step - loss: 0.2754 - accuracy: 0.8720\n"
     ]
    }
   ],
   "source": [
    "model.fit(x_train_bin,\n",
    "          y_train_nocon,\n",
    "          batch_size=128,\n",
    "          epochs=20,\n",
    "          verbose=2,\n",
    "          validation_data=(x_test_bin, y_test))\n",
    "\n",
    "fair_nn_results = model.evaluate(x_test_bin, y_test)"
   ]
  },
  {
   "cell_type": "markdown",
   "metadata": {
    "colab_type": "text",
    "id": "RH3mam7EGL7N"
   },
   "source": [
    "## 5. Comparison\n",
    "\n",
    "Higher resolution input and a more powerful model make this problem easy for the CNN. While a classical model of similar power (~32 parameters) trains to a similar accuracy in a fraction of the time. One way or the other, the classical neural network easily outperforms the quantum neural network. For classical data, it is difficult to beat a classical neural network."
   ]
  },
  {
   "cell_type": "code",
   "execution_count": 162,
   "metadata": {
    "colab": {},
    "colab_type": "code",
    "id": "NOMeN7pMGL7P",
    "tags": []
   },
   "outputs": [
    {
     "name": "stderr",
     "output_type": "stream",
     "text": [
      "/Users/rickyyoung/opt/anaconda3/lib/python3.8/site-packages/seaborn/_decorators.py:36: FutureWarning: Pass the following variables as keyword args: x, y. From version 0.12, the only valid positional argument will be `data`, and passing other arguments without an explicit keyword will result in an error or misinterpretation.\n",
      "  warnings.warn(\n"
     ]
    },
    {
     "data": {
      "text/plain": [
       "<AxesSubplot:>"
      ]
     },
     "execution_count": 162,
     "metadata": {},
     "output_type": "execute_result"
    },
    {
     "data": {
      "image/png": "[encoded data removed]",
      "text/plain": [
       "<Figure size 432x288 with 1 Axes>"
      ]
     },
     "metadata": {
      "needs_background": "light"
     },
     "output_type": "display_data"
    }
   ],
   "source": [
    "qnn_accuracy = qnn_results[1]\n",
    "cnn_accuracy = cnn_results[1]\n",
    "fair_nn_accuracy = fair_nn_results[1]\n",
    "\n",
    "sns.barplot([\"Quantum\", \"Classical, full\", \"Classical, fair\"],\n",
    "            [qnn_accuracy, cnn_accuracy, fair_nn_accuracy])"
   ]
  },
  {
   "cell_type": "code",
   "execution_count": null,
   "metadata": {},
   "outputs": [],
   "source": []
  }
 ],
 "metadata": {
  "colab": {
   "collapsed_sections": [],
   "name": "mnist.ipynb",
   "private_outputs": true,
   "provenance": [],
   "toc_visible": true
  },
  "kernelspec": {
   "display_name": "Python 3",
   "language": "python",
   "name": "python3"
  },
  "language_info": {
   "codemirror_mode": {
    "name": "ipython",
    "version": 3
   },
   "file_extension": ".py",
   "mimetype": "text/x-python",
   "name": "python",
   "nbconvert_exporter": "python",
   "pygments_lexer": "ipython3",
   "version": "3.8.0"
  }
 },
 "nbformat": 4,
 "nbformat_minor": 4
}
