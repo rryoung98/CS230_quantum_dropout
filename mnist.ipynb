{
 "cells": [
  {
   "cell_type": "markdown",
   "metadata": {
    "colab_type": "text",
    "id": "xLOXFOT5Q40E"
   },
   "source": [
    "##### Copyright 2020 The TensorFlow Authors."
   ]
  },
  {
   "cell_type": "code",
   "execution_count": 586,
   "metadata": {
    "cellView": "form",
    "colab": {},
    "colab_type": "code",
    "id": "iiQkM5ZgQ8r2",
    "tags": []
   },
   "outputs": [],
   "source": [
    "#@title Licensed under the Apache License, Version 2.0 (the \"License\");\n",
    "# you may not use this file except in compliance with the License.\n",
    "# You may obtain a copy of the License at\n",
    "#\n",
    "# https://www.apache.org/licenses/LICENSE-2.0\n",
    "#\n",
    "# Unless required by applicable law or agreed to in writing, software\n",
    "# distributed under the License is distributed on an \"AS IS\" BASIS,\n",
    "# WITHOUT WARRANTIES OR CONDITIONS OF ANY KIND, either express or implied.\n",
    "# See the License for the specific language governing permissions and\n",
    "# limitations under the License."
   ]
  },
  {
   "cell_type": "markdown",
   "metadata": {
    "colab_type": "text",
    "id": "j6331ZSsQGY3"
   },
   "source": [
    "# MNIST classification"
   ]
  },
  {
   "cell_type": "markdown",
   "metadata": {
    "colab_type": "text",
    "id": "i9Jcnb8bQQyd"
   },
   "source": [
    "Based on https://www.tensorflow.org/quantum/tutorials/mnist"
   ]
  },
  {
   "cell_type": "markdown",
   "metadata": {
    "colab_type": "text",
    "id": "udLObUVeGfTs"
   },
   "source": [
    "We build a quantum neural network (QNN) to classify a simplified version of MNIST, similar to the approach used in <a href=\"https://arxiv.org/pdf/1802.06002.pdf\" class=\"external\">Farhi et al</a>. The performance of the quantum neural network on this classical data problem is compared with a classical neural network."
   ]
  },
  {
   "cell_type": "markdown",
   "metadata": {
    "colab_type": "text",
    "id": "X35qHdh5Gzqg"
   },
   "source": [
    "## Setup"
   ]
  },
  {
   "cell_type": "code",
   "execution_count": 587,
   "metadata": {
    "colab": {},
    "colab_type": "code",
    "id": "TorxE5tnkvb2",
    "tags": []
   },
   "outputs": [
    {
     "name": "stdout",
     "output_type": "stream",
     "text": [
      "\u001b[31mERROR: pip's dependency resolver does not currently take into account all the packages that are installed. This behaviour is the source of the following dependency conflicts.\n",
      "tfq-nightly 0.5.0.dev20210516 requires grpcio==1.30.0, but you have grpcio 1.32.0 which is incompatible.\u001b[0m\n",
      "\u001b[33mWARNING: You are using pip version 21.1.1; however, version 21.1.2 is available.\n",
      "You should consider upgrading via the '/mnt/c/Users/mmints/Documents/Stanford/CS230/project/CS230_quantum_dropout/qenv_project/bin/python3.8 -m pip install --upgrade pip' command.\u001b[0m\n",
      "Requirement already satisfied: tensorboard_plugin_profile==2.3.0 in ./qenv_project/lib/python3.8/site-packages (2.3.0)\n",
      "Requirement already satisfied: setuptools>=41.0.0 in ./qenv_project/lib/python3.8/site-packages (from tensorboard_plugin_profile==2.3.0) (56.2.0)\n",
      "Requirement already satisfied: gviz-api>=1.9.0 in ./qenv_project/lib/python3.8/site-packages (from tensorboard_plugin_profile==2.3.0) (1.9.0)\n",
      "Requirement already satisfied: protobuf>=3.6.0 in ./qenv_project/lib/python3.8/site-packages (from tensorboard_plugin_profile==2.3.0) (3.13.0)\n",
      "Requirement already satisfied: werkzeug>=0.11.15 in ./qenv_project/lib/python3.8/site-packages (from tensorboard_plugin_profile==2.3.0) (2.0.0)\n",
      "Requirement already satisfied: six>=1.10.0 in ./qenv_project/lib/python3.8/site-packages (from tensorboard_plugin_profile==2.3.0) (1.15.0)\n",
      "\u001b[33mWARNING: You are using pip version 21.1.1; however, version 21.1.2 is available.\n",
      "You should consider upgrading via the '/mnt/c/Users/mmints/Documents/Stanford/CS230/project/CS230_quantum_dropout/qenv_project/bin/python3.8 -m pip install --upgrade pip' command.\u001b[0m\n",
      "The tensorboard extension is already loaded. To reload it, use:\n",
      "  %reload_ext tensorboard\n"
     ]
    }
   ],
   "source": [
    "#!pip3 install -q tensorflow==2.3.1\n",
    "!python3.8 -m pip install -q tensorflow==2.4.1\n",
    "!python3.8 -m pip install tensorboard_plugin_profile==2.3.0\n",
    "%load_ext tensorboard"
   ]
  },
  {
   "cell_type": "markdown",
   "metadata": {
    "colab_type": "text",
    "id": "FxkQA6oblNqI"
   },
   "source": [
    "Install TensorFlow Quantum:"
   ]
  },
  {
   "cell_type": "code",
   "execution_count": 588,
   "metadata": {
    "colab": {},
    "colab_type": "code",
    "id": "saFHsRDpkvkH",
    "tags": []
   },
   "outputs": [
    {
     "name": "stdout",
     "output_type": "stream",
     "text": [
      "Requirement already satisfied: tfq-nightly in ./qenv_project/lib/python3.8/site-packages (0.5.0.dev20210516)\n",
      "Requirement already satisfied: google-auth==1.18.0 in ./qenv_project/lib/python3.8/site-packages (from tfq-nightly) (1.18.0)\n",
      "Requirement already satisfied: googleapis-common-protos==1.52.0 in ./qenv_project/lib/python3.8/site-packages (from tfq-nightly) (1.52.0)\n",
      "Requirement already satisfied: cirq==0.11.0 in ./qenv_project/lib/python3.8/site-packages (from tfq-nightly) (0.11.0)\n",
      "Collecting grpcio==1.30.0\n",
      "  Using cached grpcio-1.30.0-cp38-cp38-manylinux2010_x86_64.whl (3.0 MB)\n",
      "Requirement already satisfied: protobuf==3.13.0 in ./qenv_project/lib/python3.8/site-packages (from tfq-nightly) (3.13.0)\n",
      "Requirement already satisfied: sympy==1.5 in ./qenv_project/lib/python3.8/site-packages (from tfq-nightly) (1.5)\n",
      "Requirement already satisfied: google-api-core==1.21.0 in ./qenv_project/lib/python3.8/site-packages (from tfq-nightly) (1.21.0)\n",
      "Requirement already satisfied: cirq-google==0.11.0 in ./qenv_project/lib/python3.8/site-packages (from cirq==0.11.0->tfq-nightly) (0.11.0)\n",
      "Requirement already satisfied: cirq-core==0.11.0 in ./qenv_project/lib/python3.8/site-packages (from cirq==0.11.0->tfq-nightly) (0.11.0)\n",
      "Requirement already satisfied: networkx~=2.4 in ./qenv_project/lib/python3.8/site-packages (from cirq-core==0.11.0->cirq==0.11.0->tfq-nightly) (2.5.1)\n",
      "Requirement already satisfied: sortedcontainers~=2.0 in ./qenv_project/lib/python3.8/site-packages (from cirq-core==0.11.0->cirq==0.11.0->tfq-nightly) (2.4.0)\n",
      "Requirement already satisfied: requests~=2.18 in ./qenv_project/lib/python3.8/site-packages (from cirq-core==0.11.0->cirq==0.11.0->tfq-nightly) (2.25.1)\n",
      "Requirement already satisfied: pandas in ./qenv_project/lib/python3.8/site-packages (from cirq-core==0.11.0->cirq==0.11.0->tfq-nightly) (1.2.4)\n",
      "Requirement already satisfied: tqdm in ./qenv_project/lib/python3.8/site-packages (from cirq-core==0.11.0->cirq==0.11.0->tfq-nightly) (4.60.0)\n",
      "Requirement already satisfied: scipy in ./qenv_project/lib/python3.8/site-packages (from cirq-core==0.11.0->cirq==0.11.0->tfq-nightly) (1.6.3)\n",
      "Requirement already satisfied: typing-extensions in ./qenv_project/lib/python3.8/site-packages (from cirq-core==0.11.0->cirq==0.11.0->tfq-nightly) (3.7.4.3)\n",
      "Requirement already satisfied: numpy~=1.16 in ./qenv_project/lib/python3.8/site-packages (from cirq-core==0.11.0->cirq==0.11.0->tfq-nightly) (1.19.5)\n",
      "Requirement already satisfied: matplotlib~=3.0 in ./qenv_project/lib/python3.8/site-packages (from cirq-core==0.11.0->cirq==0.11.0->tfq-nightly) (3.4.2)\n",
      "Requirement already satisfied: pytz in ./qenv_project/lib/python3.8/site-packages (from google-api-core==1.21.0->tfq-nightly) (2021.1)\n",
      "Requirement already satisfied: six>=1.10.0 in ./qenv_project/lib/python3.8/site-packages (from google-api-core==1.21.0->tfq-nightly) (1.15.0)\n",
      "Requirement already satisfied: setuptools>=34.0.0 in ./qenv_project/lib/python3.8/site-packages (from google-api-core==1.21.0->tfq-nightly) (56.2.0)\n",
      "Requirement already satisfied: cachetools<5.0,>=2.0.0 in ./qenv_project/lib/python3.8/site-packages (from google-auth==1.18.0->tfq-nightly) (4.2.2)\n",
      "Requirement already satisfied: rsa<5,>=3.1.4 in ./qenv_project/lib/python3.8/site-packages (from google-auth==1.18.0->tfq-nightly) (4.7.2)\n",
      "Requirement already satisfied: pyasn1-modules>=0.2.1 in ./qenv_project/lib/python3.8/site-packages (from google-auth==1.18.0->tfq-nightly) (0.2.8)\n",
      "Requirement already satisfied: mpmath>=0.19 in ./qenv_project/lib/python3.8/site-packages (from sympy==1.5->tfq-nightly) (1.2.1)\n",
      "Requirement already satisfied: python-dateutil>=2.7 in ./qenv_project/lib/python3.8/site-packages (from matplotlib~=3.0->cirq-core==0.11.0->cirq==0.11.0->tfq-nightly) (2.8.1)\n",
      "Requirement already satisfied: cycler>=0.10 in ./qenv_project/lib/python3.8/site-packages (from matplotlib~=3.0->cirq-core==0.11.0->cirq==0.11.0->tfq-nightly) (0.10.0)\n",
      "Requirement already satisfied: pillow>=6.2.0 in ./qenv_project/lib/python3.8/site-packages (from matplotlib~=3.0->cirq-core==0.11.0->cirq==0.11.0->tfq-nightly) (8.2.0)\n",
      "Requirement already satisfied: pyparsing>=2.2.1 in ./qenv_project/lib/python3.8/site-packages (from matplotlib~=3.0->cirq-core==0.11.0->cirq==0.11.0->tfq-nightly) (2.4.7)\n",
      "Requirement already satisfied: kiwisolver>=1.0.1 in ./qenv_project/lib/python3.8/site-packages (from matplotlib~=3.0->cirq-core==0.11.0->cirq==0.11.0->tfq-nightly) (1.3.1)\n",
      "Requirement already satisfied: decorator<5,>=4.3 in ./qenv_project/lib/python3.8/site-packages (from networkx~=2.4->cirq-core==0.11.0->cirq==0.11.0->tfq-nightly) (4.4.2)\n",
      "Requirement already satisfied: pyasn1<0.5.0,>=0.4.6 in ./qenv_project/lib/python3.8/site-packages (from pyasn1-modules>=0.2.1->google-auth==1.18.0->tfq-nightly) (0.4.8)\n",
      "Requirement already satisfied: chardet<5,>=3.0.2 in ./qenv_project/lib/python3.8/site-packages (from requests~=2.18->cirq-core==0.11.0->cirq==0.11.0->tfq-nightly) (4.0.0)\n",
      "Requirement already satisfied: urllib3<1.27,>=1.21.1 in ./qenv_project/lib/python3.8/site-packages (from requests~=2.18->cirq-core==0.11.0->cirq==0.11.0->tfq-nightly) (1.26.4)\n",
      "Requirement already satisfied: idna<3,>=2.5 in ./qenv_project/lib/python3.8/site-packages (from requests~=2.18->cirq-core==0.11.0->cirq==0.11.0->tfq-nightly) (2.10)\n",
      "Requirement already satisfied: certifi>=2017.4.17 in ./qenv_project/lib/python3.8/site-packages (from requests~=2.18->cirq-core==0.11.0->cirq==0.11.0->tfq-nightly) (2020.12.5)\n",
      "Installing collected packages: grpcio\n",
      "  Attempting uninstall: grpcio\n",
      "    Found existing installation: grpcio 1.32.0\n",
      "    Uninstalling grpcio-1.32.0:\n",
      "      Successfully uninstalled grpcio-1.32.0\n",
      "\u001b[31mERROR: pip's dependency resolver does not currently take into account all the packages that are installed. This behaviour is the source of the following dependency conflicts.\n",
      "tensorflow 2.4.1 requires grpcio~=1.32.0, but you have grpcio 1.30.0 which is incompatible.\u001b[0m\n",
      "Successfully installed grpcio-1.30.0\n",
      "\u001b[33mWARNING: You are using pip version 21.1.1; however, version 21.1.2 is available.\n",
      "You should consider upgrading via the '/mnt/c/Users/mmints/Documents/Stanford/CS230/project/CS230_quantum_dropout/qenv_project/bin/python3.8 -m pip install --upgrade pip' command.\u001b[0m\n"
     ]
    }
   ],
   "source": [
    "#!pip3 install -q tensorflow-quantum\n",
    "!python3.8 -m pip install tfq-nightly"
   ]
  },
  {
   "cell_type": "markdown",
   "metadata": {
    "colab_type": "text",
    "id": "hdgMMZEBGqyl"
   },
   "source": [
    "Now import TensorFlow and the module dependencies:"
   ]
  },
  {
   "cell_type": "code",
   "execution_count": 602,
   "metadata": {
    "colab": {},
    "colab_type": "code",
    "id": "enZ300Bflq80",
    "tags": []
   },
   "outputs": [],
   "source": [
    "import tensorflow as tf\n",
    "import tensorflow_quantum as tfq\n",
    "\n",
    "import cirq\n",
    "import sympy\n",
    "import numpy as np\n",
    "import seaborn as sns\n",
    "import collections\n",
    "import datetime\n",
    "# visualization tools\n",
    "%matplotlib inline\n",
    "import matplotlib.pyplot as plt\n",
    "from cirq.contrib.svg import SVGCircuit\n",
    "\n",
    "# set the random seed\n",
    "tf.random.set_seed(137)\n",
    "np.random.seed(137)\n",
    "\n",
    "\n",
    "\n",
    "NUM_EXAMPLES = 500"
   ]
  },
  {
   "cell_type": "markdown",
   "metadata": {
    "colab_type": "text",
    "id": "b08Mmbs8lr81"
   },
   "source": [
    "## 1. Load the data\n",
    "\n",
    "In this tutorial you will build a binary classifier to distinguish between the digits 3 and 6, following <a href=\"https://arxiv.org/pdf/1802.06002.pdf\" class=\"external\">Farhi et al.</a> This section covers the data handling that:\n",
    "\n",
    "- Loads the raw data from Keras.\n",
    "- Filters the dataset to only 3s and 6s.\n",
    "- Downscales the images so they fit can fit in a quantum computer.\n",
    "- Removes any contradictory examples.\n",
    "- Converts the binary images to Cirq circuits.\n",
    "- Converts the Cirq circuits to TensorFlow Quantum circuits. "
   ]
  },
  {
   "cell_type": "markdown",
   "metadata": {
    "colab_type": "text",
    "id": "pDUdGxn-ojgy"
   },
   "source": [
    "### 1.1 Load the raw data"
   ]
  },
  {
   "cell_type": "markdown",
   "metadata": {
    "colab_type": "text",
    "id": "xZyGXlaKojgz"
   },
   "source": [
    "Load the MNIST dataset distributed with Keras. "
   ]
  },
  {
   "cell_type": "code",
   "execution_count": 603,
   "metadata": {
    "colab": {},
    "colab_type": "code",
    "id": "d9OSExvCojg0",
    "tags": []
   },
   "outputs": [
    {
     "name": "stdout",
     "output_type": "stream",
     "text": [
      "Number of original training examples: 60000\n",
      "Number of original test examples: 10000\n"
     ]
    }
   ],
   "source": [
    "(x_train, y_train), (x_test, y_test) = tf.keras.datasets.mnist.load_data()\n",
    "\n",
    "# Rescale the images from [0,255] to the [0.0,1.0] range.\n",
    "x_train, x_test = x_train[..., np.newaxis]/255.0, x_test[..., np.newaxis]/255.0\n",
    "\n",
    "print(\"Number of original training examples:\", len(x_train))\n",
    "print(\"Number of original test examples:\", len(x_test))"
   ]
  },
  {
   "cell_type": "markdown",
   "metadata": {
    "colab_type": "text",
    "id": "fZpbygdGojg3"
   },
   "source": [
    "Filter the dataset to keep just the 3s and 6s,  remove the other classes. At the same time convert the label, `y`, to boolean: `True` for `3` and `False` for `6`. "
   ]
  },
  {
   "cell_type": "code",
   "execution_count": 604,
   "metadata": {
    "colab": {},
    "colab_type": "code",
    "id": "hOw68cCZojg4",
    "tags": []
   },
   "outputs": [],
   "source": [
    "def filter_365(x, y):\n",
    "    keep = (y == 3) | (y == 6) | (y == 5)\n",
    "    x, y = x[keep], y[keep]\n",
    "    y_res = y == 3\n",
    "    return x,y_res,y\n",
    "\n",
    "def filter_36(x, y):\n",
    "    keep = (y == 3) | (y == 6)\n",
    "    x, y = x[keep], y[keep]\n",
    "    y = y == 3\n",
    "    return x,y"
   ]
  },
  {
   "cell_type": "code",
   "execution_count": 605,
   "metadata": {
    "colab": {},
    "colab_type": "code",
    "id": "p-XEU8egGL6q",
    "tags": []
   },
   "outputs": [
    {
     "name": "stdout",
     "output_type": "stream",
     "text": [
      "Number of filtered training examples: 17470\n",
      "Number of filtered test examples: 1968\n",
      "After restricting - number of filtered training examples: 500\n",
      "After restricting - number of filtered test examples: 1968\n",
      "Number of 3 values:  169\n",
      "Number of 6 values:  174\n",
      "Number of 5 values:  157\n"
     ]
    }
   ],
   "source": [
    "x_train, y_train, y_train_origval = filter_365(x_train, y_train) # add some 9-s to the training set so we can overfit\n",
    "x_test, y_test = filter_36(x_test, y_test)\n",
    "\n",
    "print(\"Number of filtered training examples:\", len(x_train))\n",
    "print(\"Number of filtered test examples:\", len(x_test))\n",
    "\n",
    "# We do a lot of computation so we want to limit the number of examples ASAP\n",
    "x_train = x_train[:NUM_EXAMPLES]\n",
    "y_train = y_train[:NUM_EXAMPLES]\n",
    "y_train_origval = y_train_origval[:NUM_EXAMPLES]\n",
    "\n",
    "print(\"After restricting - number of filtered training examples:\", len(x_train))\n",
    "print(\"After restricting - number of filtered test examples:\", len(x_test))\n",
    "\n",
    "print(\"Number of 3 values: \", np.count_nonzero(y_train_origval == 3))\n",
    "print(\"Number of 6 values: \", np.count_nonzero(y_train_origval == 6))\n",
    "print(\"Number of 5 values: \", np.count_nonzero(y_train_origval == 5))"
   ]
  },
  {
   "cell_type": "code",
   "execution_count": 606,
   "metadata": {},
   "outputs": [
    {
     "name": "stdout",
     "output_type": "stream",
     "text": [
      "shape of x_train is (500, 28, 28, 1)\n",
      "type of x_train is <class 'numpy.ndarray'>\n",
      "shape of x_test is (1968, 28, 28, 1)\n",
      "type of x_test is <class 'numpy.ndarray'>\n",
      "shape of x_train_deskew is (500, 28, 28, 1)\n",
      "type of x_train_deskew is <class 'numpy.ndarray'>\n",
      "shape of x_test_deskew is (1968, 28, 28, 1)\n",
      "type of x_test_deskew is <class 'numpy.ndarray'>\n"
     ]
    },
    {
     "data": {
      "text/plain": [
       "<matplotlib.image.AxesImage at 0x7fb9de9d4ee0>"
      ]
     },
     "execution_count": 606,
     "metadata": {},
     "output_type": "execute_result"
    },
    {
     "data": {
      "image/png": "[encoded data removed]",
      "text/plain": [
       "<Figure size 432x288 with 2 Axes>"
      ]
     },
     "metadata": {
      "needs_background": "light"
     },
     "output_type": "display_data"
    }
   ],
   "source": [
    "# The following moment and deskew functions were taken from the works of :\n",
    "\n",
    "# https://stackoverflow.com/questions/43577665/deskew-mnist-images\n",
    "# https://fsix.github.io/mnist/Deskewing.html\n",
    "\n",
    "from scipy.ndimage import interpolation\n",
    "\n",
    "def moments(image):\n",
    "    c0,c1 = np.mgrid[:image.shape[0],:image.shape[1]] # A trick in numPy to create a mesh grid\n",
    "    totalImage = np.sum(image) #sum of pixels\n",
    "    m0 = np.sum(c0*image)/totalImage #mu_x\n",
    "    m1 = np.sum(c1*image)/totalImage #mu_y\n",
    "    m00 = np.sum((c0-m0)**2*image)/totalImage #var(x)\n",
    "    m11 = np.sum((c1-m1)**2*image)/totalImage #var(y)\n",
    "    m01 = np.sum((c0-m0)*(c1-m1)*image)/totalImage #covariance(x,y)\n",
    "    mu_vector = np.array([m0,m1]) # Notice that these are \\mu_x, \\mu_y respectively\n",
    "    covariance_matrix = np.array([[m00,m01],[m01,m11]]) # Do you see a similarity between the covariance matrix\n",
    "    return mu_vector, covariance_matrix\n",
    "#Deskew the training samples \n",
    "def deskew(image):\n",
    "    c,v = moments(image)\n",
    "    alpha = v[0,1]/v[0,0]\n",
    "    affine = np.array([[1,0],[alpha,1]])\n",
    "    ocenter = np.array(image.shape)/2.0\n",
    "    offset = c-np.dot(affine,ocenter)\n",
    "    img = interpolation.affine_transform(image,affine,offset=offset)\n",
    "    return (img - img.min()) / (img.max() - img.min())\n",
    "#examples = (4181, 0), (3,1), (56282, 2), (25829,3), (9741,4) , (26901,5), (50027,6), (17935,7) , (41495, 8), (14662, 9)\n",
    "#\n",
    "#from mpl_toolkits.axes_grid1 import AxesGrid\n",
    "#grid = AxesGrid(plt.figure(figsize=(8,15)), 141,  # similar to subplot(141)\n",
    "#                    nrows_ncols=(10, 2),\n",
    "#                    axes_pad=0.05,\n",
    "#                    label_mode=\"1\",\n",
    "#                    )\n",
    "#\n",
    "#for examplenum,num in examples:\n",
    "#    im = grid[2*num].imshow(x_train[examplenum].reshape(28,28))\n",
    "#    im2 = grid[2*num+1].imshow(deskew(x_train[examplenum].reshape(28,28)))\n",
    "#plt.subplot(1, 2, 1)\n",
    "#plt.imshow(x_train[3].reshape(28,28))\n",
    "#\n",
    "#newim = deskew(x_train[3].reshape(28,28))\n",
    "#plt.subplot(1, 2, 2)\n",
    "#plt.imshow(newim)\n",
    "\n",
    "print(\"shape of x_train is \" + str(x_train.shape))\n",
    "print(\"type of x_train is \" + str(type(x_train)))\n",
    "print(\"shape of x_test is \" + str(x_test.shape))\n",
    "print(\"type of x_test is \" + str(type(x_test)))\n",
    "\n",
    "\n",
    "#store the deskwed x_train into a list x_test_deskew\n",
    "#store the deskwed x_test into a list x_test_deskew\n",
    "\n",
    "#training set \n",
    "x_train_deskew = [] \n",
    "for i in range(x_train.shape[0]): \n",
    "    x_train_deskew.append(deskew(x_train[i].reshape(28,28)))\n",
    "x_train_deskew = np.array(x_train_deskew)\n",
    "x_train_deskew = x_train_deskew[..., np.newaxis]\n",
    "print(\"shape of x_train_deskew is \" + str(np.shape(x_train_deskew)))\n",
    "print(\"type of x_train_deskew is \" + str(type(x_train_deskew)))\n",
    "\n",
    "#test set \n",
    "x_test_deskew = [] \n",
    "for j in range(x_test.shape[0]): \n",
    "    x_test_deskew.append(deskew(x_test[j].reshape(28,28)))\n",
    "x_test_deskew = np.array(x_test_deskew)\n",
    "x_test_deskew = x_test_deskew[..., np.newaxis]\n",
    "print(\"shape of x_test_deskew is \" + str(np.shape(x_test_deskew)))\n",
    "print(\"type of x_test_deskew is \" + str(type(x_test_deskew)))\n",
    "\n",
    "\n",
    "#We should have the deskewed image stored within x_train\n",
    "#original \n",
    "plt.subplot(1, 2, 1)\n",
    "plt.imshow(x_train[3].reshape(28,28))\n",
    "\n",
    "#deskewed \n",
    "plt.subplot(1, 2, 2)\n",
    "plt.imshow(x_train_deskew[3])\n",
    "\n",
    "\n",
    "#We should have the deskewed image stored within x_test \n",
    "#original\n",
    "plt.subplot(1, 2, 1)\n",
    "plt.imshow(x_test[3].reshape(28,28))\n",
    "\n",
    "#deskewed\n",
    "plt.subplot(1, 2, 2)\n",
    "plt.imshow(x_test_deskew[3])"
   ]
  },
  {
   "cell_type": "markdown",
   "metadata": {
    "colab_type": "text",
    "id": "3wyiaP0Xojg_"
   },
   "source": [
    "Show the first example:"
   ]
  },
  {
   "cell_type": "code",
   "execution_count": 607,
   "metadata": {
    "colab": {},
    "colab_type": "code",
    "id": "j5STP7MbojhA",
    "tags": []
   },
   "outputs": [
    {
     "name": "stdout",
     "output_type": "stream",
     "text": [
      "False\n"
     ]
    },
    {
     "data": {
      "text/plain": [
       "<matplotlib.colorbar.Colorbar at 0x7fba5b38b400>"
      ]
     },
     "execution_count": 607,
     "metadata": {},
     "output_type": "execute_result"
    },
    {
     "data": {
      "image/png": "[encoded data removed]",
      "text/plain": [
       "<Figure size 432x288 with 2 Axes>"
      ]
     },
     "metadata": {
      "needs_background": "light"
     },
     "output_type": "display_data"
    }
   ],
   "source": [
    "print(y_train[0])\n",
    "\n",
    "plt.imshow(x_train[0, :, :, 0])\n",
    "plt.colorbar()"
   ]
  },
  {
   "cell_type": "markdown",
   "metadata": {
    "colab_type": "text",
    "id": "wNS9sVPQojhC"
   },
   "source": [
    "### 1.2 Downscale the images"
   ]
  },
  {
   "cell_type": "markdown",
   "metadata": {
    "colab_type": "text",
    "id": "fmmtplIFGL6t"
   },
   "source": [
    "An image size of 28x28 is much too large for current quantum computers. Resize the image down to 4x4:"
   ]
  },
  {
   "cell_type": "code",
   "execution_count": 608,
   "metadata": {
    "colab": {},
    "colab_type": "code",
    "id": "lbhUdBFWojhE",
    "tags": []
   },
   "outputs": [],
   "source": [
    "x_train_small = tf.image.resize(x_train, (4,4)).numpy()\n",
    "x_test_small = tf.image.resize(x_test, (4,4)).numpy()\n",
    "\n",
    "# 16x16 for amplitude embedding!\n",
    "x_train_small_256 = tf.image.resize(x_train, (16,16)).numpy()\n",
    "x_test_small_256 = tf.image.resize(x_test, (16,16)).numpy()"
   ]
  },
  {
   "cell_type": "markdown",
   "metadata": {
    "colab_type": "text",
    "id": "pOMd7zIjGL6x"
   },
   "source": [
    "Again, display the first training example—after resize: "
   ]
  },
  {
   "cell_type": "code",
   "execution_count": 609,
   "metadata": {
    "colab": {},
    "colab_type": "code",
    "id": "YIYOtCRIGL6y",
    "scrolled": true,
    "tags": []
   },
   "outputs": [
    {
     "name": "stdout",
     "output_type": "stream",
     "text": [
      "False\n"
     ]
    },
    {
     "data": {
      "text/plain": [
       "<matplotlib.colorbar.Colorbar at 0x7fbaa06cea90>"
      ]
     },
     "execution_count": 609,
     "metadata": {},
     "output_type": "execute_result"
    },
    {
     "data": {
      "image/png": "[encoded data removed]",
      "text/plain": [
       "<Figure size 432x288 with 2 Axes>"
      ]
     },
     "metadata": {
      "needs_background": "light"
     },
     "output_type": "display_data"
    }
   ],
   "source": [
    "print(y_train[0])\n",
    "\n",
    "plt.imshow(x_train_small[0,:,:,0], vmin=0, vmax=1)\n",
    "plt.colorbar()"
   ]
  },
  {
   "cell_type": "code",
   "execution_count": 610,
   "metadata": {},
   "outputs": [
    {
     "name": "stdout",
     "output_type": "stream",
     "text": [
      "False\n"
     ]
    },
    {
     "data": {
      "text/plain": [
       "<matplotlib.colorbar.Colorbar at 0x7fbac5601d90>"
      ]
     },
     "execution_count": 610,
     "metadata": {},
     "output_type": "execute_result"
    },
    {
     "data": {
      "image/png": "[encoded data removed]",
      "text/plain": [
       "<Figure size 432x288 with 2 Axes>"
      ]
     },
     "metadata": {
      "needs_background": "light"
     },
     "output_type": "display_data"
    }
   ],
   "source": [
    "print(y_train[0])\n",
    "\n",
    "plt.imshow(x_train_small_256[0,:,:,0], vmin=0, vmax=1)\n",
    "plt.colorbar()"
   ]
  },
  {
   "cell_type": "markdown",
   "metadata": {
    "colab_type": "text",
    "id": "gGeF1_qtojhK"
   },
   "source": [
    "### 1.3 Remove contradictory examples"
   ]
  },
  {
   "cell_type": "markdown",
   "metadata": {
    "colab_type": "text",
    "id": "7ZLkq2yeojhL"
   },
   "source": [
    "From section *3.3 Learning to Distinguish Digits* of <a href=\"https://arxiv.org/pdf/1802.06002.pdf\" class=\"external\">Farhi et al.</a>, filter the dataset to remove images that are labeled as belonging to both classes.\n",
    "\n",
    "This is not a standard machine-learning procedure, but is included in the interest of following the paper."
   ]
  },
  {
   "cell_type": "code",
   "execution_count": 611,
   "metadata": {
    "colab": {},
    "colab_type": "code",
    "id": "LqOPW0C7ojhL",
    "tags": []
   },
   "outputs": [],
   "source": [
    "def remove_contradicting(xs, ys):\n",
    "    mapping = collections.defaultdict(set)\n",
    "    orig_x = {}\n",
    "    # Determine the set of labels for each unique image:\n",
    "    for x,y in zip(xs,ys):\n",
    "       orig_x[tuple(x.flatten())] = x\n",
    "       mapping[tuple(x.flatten())].add(y)\n",
    "    \n",
    "    new_x = []\n",
    "    new_y = []\n",
    "    for flatten_x in mapping:\n",
    "      x = orig_x[flatten_x]\n",
    "      labels = mapping[flatten_x]\n",
    "      if len(labels) == 1:\n",
    "          new_x.append(x)\n",
    "          new_y.append(next(iter(labels)))\n",
    "      else:\n",
    "          # Throw out images that match more than one label.\n",
    "          pass\n",
    "    \n",
    "    num_uniq_3 = sum(1 for value in mapping.values() if len(value) == 1 and True in value)\n",
    "    num_uniq_6 = sum(1 for value in mapping.values() if len(value) == 1 and False in value)\n",
    "    num_uniq_both = sum(1 for value in mapping.values() if len(value) == 2)\n",
    "\n",
    "    print(\"Number of unique images:\", len(mapping.values()))\n",
    "    print(\"Number of unique 3s: \", num_uniq_3)\n",
    "    print(\"Number of unique 6s: \", num_uniq_6)\n",
    "    print(\"Number of unique contradicting labels (both 3 and 6): \", num_uniq_both)\n",
    "    print()\n",
    "    print(\"Initial number of images: \", len(xs))\n",
    "    print(\"Remaining non-contradicting unique images: \", len(new_x))\n",
    "    \n",
    "    return np.array(new_x), np.array(new_y)"
   ]
  },
  {
   "cell_type": "markdown",
   "metadata": {
    "colab_type": "text",
    "id": "VMOiJfz_ojhP"
   },
   "source": [
    "The resulting counts do not closely match the reported values, but the exact procedure is not specified.\n",
    "\n",
    "It is also worth noting here that applying filtering contradictory examples at this point does not totally prevent the model from receiving contradictory training examples: the next step binarizes the data which will cause more collisions. "
   ]
  },
  {
   "cell_type": "code",
   "execution_count": 612,
   "metadata": {},
   "outputs": [
    {
     "name": "stdout",
     "output_type": "stream",
     "text": [
      "Number of unique images: 475\n",
      "Number of unique 3s:  152\n",
      "Number of unique 6s:  321\n",
      "Number of unique contradicting labels (both 3 and 6):  2\n",
      "\n",
      "Initial number of images:  500\n",
      "Remaining non-contradicting unique images:  473\n"
     ]
    }
   ],
   "source": [
    "x_train_nocon, y_train_nocon = remove_contradicting(x_train_small, y_train)"
   ]
  },
  {
   "cell_type": "code",
   "execution_count": 613,
   "metadata": {
    "colab": {},
    "colab_type": "code",
    "id": "zpnsAssWojhP",
    "scrolled": true,
    "tags": []
   },
   "outputs": [],
   "source": [
    "#x_train_nocon_256, y_train_nocon_256 = remove_contradicting(x_train_small_256, y_train)\n",
    "\n",
    "# removing contradictory images is not an issue for 16x16 images!"
   ]
  },
  {
   "cell_type": "code",
   "execution_count": 614,
   "metadata": {},
   "outputs": [
    {
     "name": "stdout",
     "output_type": "stream",
     "text": [
      "(673, 4, 4, 1)\n",
      "(673,)\n"
     ]
    }
   ],
   "source": [
    "# Duplicate some entries to illustrate the effects of dropout! Run this cell only if testing dropout\n",
    "NUM_DUPLICATE = 200\n",
    "\n",
    "for i in range(NUM_DUPLICATE):\n",
    "    x_train_nocon = np.insert(x_train_nocon, 0, x_train_nocon[0], axis=0)\n",
    "    y_train_nocon = np.insert(y_train_nocon, 0, y_train_nocon[0], axis=0)\n",
    "print(x_train_nocon.shape)\n",
    "print(y_train_nocon.shape)"
   ]
  },
  {
   "cell_type": "markdown",
   "metadata": {
    "colab_type": "text",
    "id": "SlJ5NVaPojhT"
   },
   "source": [
    "### 1.4 Encode the data as quantum circuits\n",
    "\n",
    "To process images using a quantum computer, <a href=\"https://arxiv.org/pdf/1802.06002.pdf\" class=\"external\">Farhi et al.</a> proposed representing each pixel with a qubit, with the state depending on the value of the pixel. The first step is to convert to a binary encoding."
   ]
  },
  {
   "cell_type": "code",
   "execution_count": 615,
   "metadata": {
    "colab": {},
    "colab_type": "code",
    "id": "1z8J7OyDojhV",
    "tags": []
   },
   "outputs": [],
   "source": [
    "THRESHOLD = 0.5\n",
    "\n",
    "x_train_bin = np.array(x_train_nocon > THRESHOLD, dtype=np.float32)\n",
    "x_test_bin = np.array(x_test_small > THRESHOLD, dtype=np.float32)"
   ]
  },
  {
   "cell_type": "markdown",
   "metadata": {
    "colab_type": "text",
    "id": "SlJ5NVaPojhU"
   },
   "source": [
    "If you were to remove contradictory images at this point you would be left with only 193, likely not enough for effective training."
   ]
  },
  {
   "cell_type": "code",
   "execution_count": 616,
   "metadata": {
    "colab": {},
    "colab_type": "code",
    "id": "1z8J7OyDojhW",
    "tags": []
   },
   "outputs": [
    {
     "name": "stdout",
     "output_type": "stream",
     "text": [
      "Number of unique images: 68\n",
      "Number of unique 3s:  15\n",
      "Number of unique 6s:  36\n",
      "Number of unique contradicting labels (both 3 and 6):  17\n",
      "\n",
      "Initial number of images:  673\n",
      "Remaining non-contradicting unique images:  51\n"
     ]
    }
   ],
   "source": [
    "_ = remove_contradicting(x_train_bin, y_train_nocon)"
   ]
  },
  {
   "cell_type": "markdown",
   "metadata": {
    "colab_type": "text",
    "id": "oLyxS9KlojhZ"
   },
   "source": [
    "The qubits at pixel indices with values that exceed a threshold, are rotated through an $X$ gate."
   ]
  },
  {
   "cell_type": "code",
   "execution_count": 617,
   "metadata": {},
   "outputs": [],
   "source": [
    "# tolerance for normalization\n",
    "TOLERANCE = 1e-10\n",
    "\n",
    "# Use Mottonen state preparation to get an amplitude embedding of the states\n",
    "# Adapted from https://pennylane.readthedocs.io/en/stable/_modules/pennylane/templates/state_preparations/mottonen.html#MottonenStatePreparation\n",
    "\n",
    "def gray_code(rank):\n",
    "    \"\"\"Generates the Gray code of given rank.\n",
    "\n",
    "    Args:\n",
    "        rank (int): rank of the Gray code (i.e. number of bits)\n",
    "    \"\"\"\n",
    "\n",
    "    def gray_code_recurse(g, rank):\n",
    "        k = len(g)\n",
    "        if rank <= 0:\n",
    "            return\n",
    "\n",
    "        for i in range(k - 1, -1, -1):\n",
    "            char = \"1\" + g[i]\n",
    "            g.append(char)\n",
    "        for i in range(k - 1, -1, -1):\n",
    "            g[i] = \"0\" + g[i]\n",
    "\n",
    "        gray_code_recurse(g, rank - 1)\n",
    "\n",
    "    g = [\"0\", \"1\"]\n",
    "    gray_code_recurse(g, rank - 1)\n",
    "\n",
    "    return g\n",
    "\n",
    "\n",
    "def _matrix_M_entry(row, col):\n",
    "    \"\"\"Returns one entry for the matrix that maps alpha to theta.\n",
    "\n",
    "    See Eq. (3) in `Möttönen et al. (2004) <https://arxiv.org/pdf/quant-ph/0407010.pdf>`_.\n",
    "\n",
    "    Args:\n",
    "        row (int): one-based row number\n",
    "        col (int): one-based column number\n",
    "\n",
    "    Returns:\n",
    "        (float): transformation matrix entry at given row and column\n",
    "    \"\"\"\n",
    "    # (col >> 1) ^ col is the Gray code of col\n",
    "    b_and_g = row & ((col >> 1) ^ col)\n",
    "    sum_of_ones = 0\n",
    "    while b_and_g > 0:\n",
    "        if b_and_g & 0b1:\n",
    "            sum_of_ones += 1\n",
    "\n",
    "        b_and_g = b_and_g >> 1\n",
    "\n",
    "    return (-1) ** sum_of_ones\n",
    "\n",
    "\n",
    "def _compute_theta(alpha):\n",
    "    \"\"\"Maps the angles alpha of the multi-controlled rotations decomposition of a uniformly controlled rotation\n",
    "     to the rotation angles used in the Gray code implementation.\n",
    "\n",
    "    Args:\n",
    "        alpha (tensor_like): alpha parameters\n",
    "\n",
    "    Returns:\n",
    "        (tensor_like): rotation angles theta\n",
    "    \"\"\"\n",
    "    ln = alpha.shape[0]\n",
    "    k = np.log2(alpha.shape[0])\n",
    "\n",
    "    M_trans = np.zeros(shape=(ln, ln))\n",
    "    for i in range(len(M_trans)):\n",
    "        for j in range(len(M_trans[0])):\n",
    "            M_trans[i, j] = _matrix_M_entry(j, i)\n",
    "\n",
    "    theta = np.dot(M_trans, alpha)\n",
    "\n",
    "    return theta / 2 ** k\n",
    "\n",
    "\n",
    "def _uniform_rotation_dagger(gate, alpha, control_wires, target_wire, circuit):\n",
    "    r\"\"\"Applies a uniformly-controlled rotation to the target qubit.\n",
    "\n",
    "    A uniformly-controlled rotation is a sequence of multi-controlled\n",
    "    rotations, each of which is conditioned on the control qubits being in a different state.\n",
    "    For example, a uniformly-controlled rotation with two control qubits describes a sequence of\n",
    "    four multi-controlled rotations, each applying the rotation only if the control qubits\n",
    "    are in states :math:`|00\\rangle`, :math:`|01\\rangle`, :math:`|10\\rangle`, and :math:`|11\\rangle`, respectively.\n",
    "\n",
    "    To implement a uniformly-controlled rotation using single qubit rotations and CNOT gates,\n",
    "    a decomposition based on Gray codes is used. For this purpose, the multi-controlled rotation\n",
    "    angles alpha have to be converted into a set of non-controlled rotation angles theta.\n",
    "\n",
    "    For more details, see `Möttönen and Vartiainen (2005), Fig 7a<https://arxiv.org/pdf/quant-ph/0504100.pdf>`_.\n",
    "\n",
    "    Args:\n",
    "        gate (.Operation): gate to be applied, needs to have exactly one parameter\n",
    "        alpha (tensor_like): angles to decompose the uniformly-controlled rotation into multi-controlled rotations\n",
    "        control_wires (array[int]): wires that act as control\n",
    "        target_wire (int): wire that acts as target\n",
    "    \"\"\"\n",
    "\n",
    "    theta = _compute_theta(alpha)\n",
    "\n",
    "    gray_code_rank = len(control_wires)\n",
    "\n",
    "    if gray_code_rank == 0:\n",
    "        if theta[0] != 0.0:\n",
    "            circuit.append(gate(theta[0])(target_wire))\n",
    "        return\n",
    "\n",
    "    code = gray_code(gray_code_rank)\n",
    "    num_selections = len(code)\n",
    "\n",
    "    control_indices = [\n",
    "        int(np.log2(int(code[i], 2) ^ int(code[(i + 1) % num_selections], 2)))\n",
    "        for i in range(num_selections)\n",
    "    ]\n",
    "\n",
    "    for i, control_index in enumerate(control_indices):\n",
    "        if theta[i] != 0.0:\n",
    "            circuit.append(gate(theta[i])(target_wire))\n",
    "        circuit.append(cirq.CNOT(control_wires[control_index], target_wire))\n",
    "\n",
    "\n",
    "def _get_alpha_z(omega, n, k):\n",
    "    r\"\"\"Computes the rotation angles required to implement the uniformly-controlled Z rotation\n",
    "    applied to the :math:`k`th qubit.\n",
    "\n",
    "    The :math:`j`th angle is related to the phases omega of the desired amplitudes via:\n",
    "\n",
    "    .. math:: \\alpha^{z,k}_j = \\sum_{l=1}^{2^{k-1}} \\frac{\\omega_{(2j-1) 2^{k-1}+l} - \\omega_{(2j-2) 2^{k-1}+l}}{2^{k-1}}\n",
    "\n",
    "    Args:\n",
    "        omega (tensor_like): phases of the state to prepare\n",
    "        n (int): total number of qubits for the uniformly-controlled rotation\n",
    "        k (int): index of current qubit\n",
    "\n",
    "    Returns:\n",
    "        array representing :math:`\\alpha^{z,k}`\n",
    "    \"\"\"\n",
    "    indices1 = [\n",
    "        [(2 * j - 1) * 2 ** (k - 1) + l - 1 for l in range(1, 2 ** (k - 1) + 1)]\n",
    "        for j in range(1, 2 ** (n - k) + 1)\n",
    "    ]\n",
    "    indices2 = [\n",
    "        [(2 * j - 2) * 2 ** (k - 1) + l - 1 for l in range(1, 2 ** (k - 1) + 1)]\n",
    "        for j in range(1, 2 ** (n - k) + 1)\n",
    "    ]\n",
    "\n",
    "    term1 = np.take(omega, indices=indices1)\n",
    "    term2 = np.take(omega, indices=indices2)\n",
    "    diff = (term1 - term2) / 2 ** (k - 1)\n",
    "\n",
    "    return np.sum(diff, axis=1)\n",
    "\n",
    "\n",
    "def _get_alpha_y(a, n, k):\n",
    "    r\"\"\"Computes the rotation angles required to implement the uniformly controlled Y rotation\n",
    "    applied to the :math:`k`th qubit.\n",
    "\n",
    "    The :math:`j`-th angle is related to the absolute values, a, of the desired amplitudes via:\n",
    "\n",
    "    .. math:: \\alpha^{y,k}_j = 2 \\arcsin \\sqrt{ \\frac{ \\sum_{l=1}^{2^{k-1}} a_{(2j-1)2^{k-1} +l}^2  }{ \\sum_{l=1}^{2^{k}} a_{(j-1)2^{k} +l}^2  } }\n",
    "\n",
    "    Args:\n",
    "        a (tensor_like): absolute values of the state to prepare\n",
    "        n (int): total number of qubits for the uniformly-controlled rotation\n",
    "        k (int): index of current qubit\n",
    "\n",
    "    Returns:\n",
    "        array representing :math:`\\alpha^{y,k}`\n",
    "    \"\"\"\n",
    "    indices_numerator = [\n",
    "        [(2 * (j + 1) - 1) * 2 ** (k - 1) + l for l in range(2 ** (k - 1))]\n",
    "        for j in range(2 ** (n - k))\n",
    "    ]\n",
    "    numerator = np.take(a, indices=indices_numerator)\n",
    "    numerator = np.sum(np.abs(numerator) ** 2, axis=1)\n",
    "\n",
    "    indices_denominator = [[j * 2 ** k + l for l in range(2 ** k)] for j in range(2 ** (n - k))]\n",
    "    denominator = np.take(a, indices=indices_denominator)\n",
    "    denominator = np.sum(np.abs(denominator) ** 2, axis=1)\n",
    "\n",
    "    # Divide only where denominator is zero, else leave initial value of zero.\n",
    "    # The equation guarantees that the numerator is also zero in the corresponding entries.\n",
    "\n",
    "    with np.errstate(divide=\"ignore\", invalid=\"ignore\"):\n",
    "        division = numerator / denominator\n",
    "\n",
    "    division = np.where(denominator != 0.0, division, 0.0)\n",
    "\n",
    "    return 2 * np.arcsin(np.sqrt(division))\n",
    "\n",
    "def mottonenStatePrep(state_vector, qubits, circuit):\n",
    "\n",
    "        a = np.abs(state_vector)\n",
    "        omega = np.angle(state_vector)\n",
    "\n",
    "        # change ordering of wires, since original code\n",
    "        # was written for IBM machines\n",
    "        wires_reverse = qubits[::-1]\n",
    "\n",
    "        # Apply inverse y rotation cascade to prepare correct absolute values of amplitudes\n",
    "        for k in range(len(wires_reverse), 0, -1):\n",
    "            alpha_y_k = _get_alpha_y(a, len(wires_reverse), k)\n",
    "            control = wires_reverse[k:]\n",
    "            target = wires_reverse[k - 1]\n",
    "            _uniform_rotation_dagger(cirq.ry, alpha_y_k, control, target, circuit)\n",
    "\n",
    "        # If necessary, apply inverse z rotation cascade to prepare correct phases of amplitudes\n",
    "        if not np.allclose(omega, 0):\n",
    "            for k in range(len(wires_reverse), 0, -1):\n",
    "                alpha_z_k = _get_alpha_z(omega, len(wires_reverse), k)\n",
    "                control = wires_reverse[k:]\n",
    "                target = wires_reverse[k - 1]\n",
    "                if len(alpha_z_k) > 0:\n",
    "                    _uniform_rotation_dagger(cirq.rz, alpha_z_k, control, target, circuit)\n",
    "\n",
    "         \n",
    "# The below is borrowed from https://pennylane.readthedocs.io/en/stable/_modules/pennylane/templates/embeddings/amplitude.html#AmplitudeEmbedding\n",
    "def _preprocess(features, wires, pad_with, normalize):\n",
    "    \"\"\"Validate and pre-process inputs as follows:\n",
    "\n",
    "    * Check that the features tensor is one-dimensional.\n",
    "    * If pad_with is None, check that the first dimension of the features tensor\n",
    "      has length :math:`2^n` where :math:`n` is the number of qubits. Else check that the\n",
    "      first dimension of the features tensor is not larger than :math:`2^n` and pad features with value if necessary.\n",
    "    * If normalize is false, check that first dimension of features is normalised to one. Else, normalise the\n",
    "      features tensor.\n",
    "    \"\"\"\n",
    "\n",
    "    shape = features.shape\n",
    "\n",
    "    # check shape\n",
    "    if features.ndim != 1:\n",
    "        raise ValueError(f\"Features must be a one-dimensional tensor; got shape {shape}.\")\n",
    "\n",
    "    n_features = shape[0]\n",
    "    if pad_with is None and n_features != 2 ** len(wires):\n",
    "        raise ValueError(\n",
    "            f\"Features must be of length {2 ** len(wires)}; got length {n_features}. \"\n",
    "            f\"Use the 'pad' argument for automated padding.\"\n",
    "        )\n",
    "\n",
    "    if pad_with is not None and n_features > 2 ** len(wires):\n",
    "        raise ValueError(\n",
    "            f\"Features must be of length {2 ** len(wires)} or \"\n",
    "            f\"smaller to be padded; got length {n_features}.\"\n",
    "        )\n",
    "\n",
    "    # pad\n",
    "    if pad_with is not None and n_features < 2 ** len(wires):\n",
    "        padding = [pad_with] * (2 ** len(wires) - n_features)\n",
    "        features = np.concatenate([features, padding], axis=0)\n",
    "\n",
    "    # normalize\n",
    "    norm = np.sum(np.abs(features) ** 2)\n",
    "\n",
    "    if not np.allclose(norm, 1.0, atol=TOLERANCE):\n",
    "        if normalize or pad_with:\n",
    "            features = features / np.sqrt(norm)\n",
    "        else:\n",
    "            raise ValueError(\n",
    "                f\"Features must be a vector of length 1.0; got length {norm}.\"\n",
    "                \"Use 'normalize=True' to automatically normalize.\"\n",
    "            )\n",
    "\n",
    "    features = features.astype(np.complex128)\n",
    "    return features\n",
    "\n",
    "def cirqAppendAmplitudeEmbedding(features, qubits, circuit, pad_with=None, normalize=False):\n",
    "    features = _preprocess(features, qubits, pad_with, normalize)\n",
    "    mottonenStatePrep(features, qubits, circuit)"
   ]
  },
  {
   "cell_type": "code",
   "execution_count": 618,
   "metadata": {
    "colab": {},
    "colab_type": "code",
    "id": "aOu_3-3ZGL61",
    "tags": []
   },
   "outputs": [],
   "source": [
    "def convert_to_circuit(image):\n",
    "    \"\"\"Encode truncated classical image into quantum datapoint.\"\"\"\n",
    "    values = np.ndarray.flatten(image)\n",
    "    qubits = cirq.GridQubit.rect(4, 4)\n",
    "    circuit = cirq.Circuit()\n",
    "    for i, value in enumerate(values):\n",
    "        if value:\n",
    "            circuit.append(cirq.X(qubits[i]))\n",
    "    circuit.append(make_qft(qubits))\n",
    "    return circuit\n",
    "\n",
    "def convert_to_circuit_mottonen(image):\n",
    "    values = np.ndarray.flatten(image)\n",
    "    assert len(values) == 256\n",
    "    qubits = cirq.GridQubit.rect(4, 2)\n",
    "    circuit = cirq.Circuit()\n",
    "    cirqAppendAmplitudeEmbedding(values, qubits, circuit, normalize=True)\n",
    "    return circuit\n",
    "\n",
    "#x_train_circ = [convert_to_circuit(x) for x in x_train_bin]\n",
    "#x_test_circ = [convert_to_circuit(x) for x in x_test_bin]\n",
    "\n",
    "x_train_circ = [convert_to_circuit_mottonen(x) for x in x_train_nocon_256]\n",
    "x_test_circ = [convert_to_circuit_mottonen(x) for x in x_test_small_256]"
   ]
  },
  {
   "cell_type": "markdown",
   "metadata": {
    "colab_type": "text",
    "id": "zSCXqzOzojhd"
   },
   "source": [
    "Here is the circuit created for the first example (circuit diagrams do not show qubits with zero gates):"
   ]
  },
  {
   "cell_type": "code",
   "execution_count": 619,
   "metadata": {
    "colab": {},
    "colab_type": "code",
    "id": "w3POmUEUojhe",
    "tags": []
   },
   "outputs": [
    {
     "data": {
      "image/svg+xml": [
       "<svg xmlns=\"http://www.w3.org/2000/svg\" width=\"41164.347656249745\" height=\"400.0\"><line x1=\"34.7588671875\" x2=\"41134.347656249745\" y1=\"25.0\" y2=\"25.0\" stroke=\"#1967d2\" stroke-width=\"1\" /><line x1=\"34.7588671875\" x2=\"41134.347656249745\" y1=\"75.0\" y2=\"75.0\" stroke=\"#1967d2\" stroke-width=\"1\" /><line x1=\"34.7588671875\" x2=\"41134.347656249745\" y1=\"125.0\" y2=\"125.0\" stroke=\"#1967d2\" stroke-width=\"1\" /><line x1=\"34.7588671875\" x2=\"41134.347656249745\" y1=\"175.0\" y2=\"175.0\" stroke=\"#1967d2\" stroke-width=\"1\" /><line x1=\"34.7588671875\" x2=\"41134.347656249745\" y1=\"225.0\" y2=\"225.0\" stroke=\"#1967d2\" stroke-width=\"1\" /><line x1=\"34.7588671875\" x2=\"41134.347656249745\" y1=\"275.0\" y2=\"275.0\" stroke=\"#1967d2\" stroke-width=\"1\" /><line x1=\"34.7588671875\" x2=\"41134.347656249745\" y1=\"325.0\" y2=\"325.0\" stroke=\"#1967d2\" stroke-width=\"1\" /><line x1=\"34.7588671875\" x2=\"41134.347656249745\" y1=\"375.0\" y2=\"375.0\" stroke=\"#1967d2\" stroke-width=\"1\" /><line x1=\"203.61546875\" x2=\"203.61546875\" y1=\"25.0\" y2=\"75.0\" stroke=\"black\" stroke-width=\"3\" /><line x1=\"367.713203125\" x2=\"367.713203125\" y1=\"25.0\" y2=\"75.0\" stroke=\"black\" stroke-width=\"3\" /><line x1=\"427.713203125\" x2=\"427.713203125\" y1=\"75.0\" y2=\"125.0\" stroke=\"black\" stroke-width=\"3\" /><line x1=\"591.8109375\" x2=\"591.8109375\" y1=\"25.0\" y2=\"125.0\" stroke=\"black\" stroke-width=\"3\" /><line x1=\"747.0014453125\" x2=\"747.0014453125\" y1=\"75.0\" y2=\"125.0\" stroke=\"black\" stroke-width=\"3\" /><line x1=\"911.0991796874999\" x2=\"911.0991796874999\" y1=\"25.0\" y2=\"125.0\" stroke=\"black\" stroke-width=\"3\" /><line x1=\"971.0991796874999\" x2=\"971.0991796874999\" y1=\"125.0\" y2=\"175.0\" stroke=\"black\" stroke-width=\"3\" /><line x1=\"1140.248671875\" x2=\"1140.248671875\" y1=\"75.0\" y2=\"175.0\" stroke=\"black\" stroke-width=\"3\" /><line x1=\"1309.3981640625\" x2=\"1309.3981640625\" y1=\"125.0\" y2=\"175.0\" stroke=\"black\" stroke-width=\"3\" /><line x1=\"1473.4958984375\" x2=\"1473.4958984375\" y1=\"25.0\" y2=\"175.0\" stroke=\"black\" stroke-width=\"3\" /><line x1=\"1637.5936328125001\" x2=\"1637.5936328125001\" y1=\"125.0\" y2=\"175.0\" stroke=\"black\" stroke-width=\"3\" /><line x1=\"1801.6913671875002\" x2=\"1801.6913671875002\" y1=\"75.0\" y2=\"175.0\" stroke=\"black\" stroke-width=\"3\" /><line x1=\"1970.8408593750003\" x2=\"1970.8408593750003\" y1=\"125.0\" y2=\"175.0\" stroke=\"black\" stroke-width=\"3\" /><line x1=\"2134.93859375\" x2=\"2134.93859375\" y1=\"25.0\" y2=\"175.0\" stroke=\"black\" stroke-width=\"3\" /><line x1=\"2194.93859375\" x2=\"2194.93859375\" y1=\"175.0\" y2=\"225.0\" stroke=\"black\" stroke-width=\"3\" /><line x1=\"2364.0880859375\" x2=\"2364.0880859375\" y1=\"125.0\" y2=\"225.0\" stroke=\"black\" stroke-width=\"3\" /><line x1=\"2533.2375781250003\" x2=\"2533.2375781250003\" y1=\"175.0\" y2=\"225.0\" stroke=\"black\" stroke-width=\"3\" /><line x1=\"2702.3870703125003\" x2=\"2702.3870703125003\" y1=\"75.0\" y2=\"225.0\" stroke=\"black\" stroke-width=\"3\" /><line x1=\"2871.5365625000004\" x2=\"2871.5365625000004\" y1=\"175.0\" y2=\"225.0\" stroke=\"black\" stroke-width=\"3\" /><line x1=\"3040.6860546875005\" x2=\"3040.6860546875005\" y1=\"125.0\" y2=\"225.0\" stroke=\"black\" stroke-width=\"3\" /><line x1=\"3204.7837890625005\" x2=\"3204.7837890625005\" y1=\"175.0\" y2=\"225.0\" stroke=\"black\" stroke-width=\"3\" /><line x1=\"3368.8815234375006\" x2=\"3368.8815234375006\" y1=\"25.0\" y2=\"225.0\" stroke=\"black\" stroke-width=\"3\" /><line x1=\"3538.0310156250007\" x2=\"3538.0310156250007\" y1=\"175.0\" y2=\"225.0\" stroke=\"black\" stroke-width=\"3\" /><line x1=\"3702.1287500000008\" x2=\"3702.1287500000008\" y1=\"125.0\" y2=\"225.0\" stroke=\"black\" stroke-width=\"3\" /><line x1=\"3866.226484375001\" x2=\"3866.226484375001\" y1=\"175.0\" y2=\"225.0\" stroke=\"black\" stroke-width=\"3\" /><line x1=\"4030.324218750001\" x2=\"4030.324218750001\" y1=\"75.0\" y2=\"225.0\" stroke=\"black\" stroke-width=\"3\" /><line x1=\"4194.421953125001\" x2=\"4194.421953125001\" y1=\"175.0\" y2=\"225.0\" stroke=\"black\" stroke-width=\"3\" /><line x1=\"4363.571445312501\" x2=\"4363.571445312501\" y1=\"125.0\" y2=\"225.0\" stroke=\"black\" stroke-width=\"3\" /><line x1=\"4488.068593750001\" x2=\"4488.068593750001\" y1=\"175.0\" y2=\"225.0\" stroke=\"black\" stroke-width=\"3\" /><line x1=\"4643.259101562501\" x2=\"4643.259101562501\" y1=\"25.0\" y2=\"225.0\" stroke=\"black\" stroke-width=\"3\" /><line x1=\"4703.259101562501\" x2=\"4703.259101562501\" y1=\"225.0\" y2=\"275.0\" stroke=\"black\" stroke-width=\"3\" /><line x1=\"4867.356835937501\" x2=\"4867.356835937501\" y1=\"175.0\" y2=\"275.0\" stroke=\"black\" stroke-width=\"3\" /><line x1=\"5036.506328125001\" x2=\"5036.506328125001\" y1=\"225.0\" y2=\"275.0\" stroke=\"black\" stroke-width=\"3\" /><line x1=\"5205.655820312501\" x2=\"5205.655820312501\" y1=\"125.0\" y2=\"275.0\" stroke=\"black\" stroke-width=\"3\" /><line x1=\"5369.7535546875015\" x2=\"5369.7535546875015\" y1=\"225.0\" y2=\"275.0\" stroke=\"black\" stroke-width=\"3\" /><line x1=\"5533.851289062502\" x2=\"5533.851289062502\" y1=\"175.0\" y2=\"275.0\" stroke=\"black\" stroke-width=\"3\" /><line x1=\"5697.949023437502\" x2=\"5697.949023437502\" y1=\"225.0\" y2=\"275.0\" stroke=\"black\" stroke-width=\"3\" /><line x1=\"5862.046757812502\" x2=\"5862.046757812502\" y1=\"75.0\" y2=\"275.0\" stroke=\"black\" stroke-width=\"3\" /><line x1=\"6017.237265625002\" x2=\"6017.237265625002\" y1=\"225.0\" y2=\"275.0\" stroke=\"black\" stroke-width=\"3\" /><line x1=\"6186.386757812502\" x2=\"6186.386757812502\" y1=\"175.0\" y2=\"275.0\" stroke=\"black\" stroke-width=\"3\" /><line x1=\"6350.484492187502\" x2=\"6350.484492187502\" y1=\"225.0\" y2=\"275.0\" stroke=\"black\" stroke-width=\"3\" /><line x1=\"6514.582226562502\" x2=\"6514.582226562502\" y1=\"125.0\" y2=\"275.0\" stroke=\"black\" stroke-width=\"3\" /><line x1=\"6683.731718750002\" x2=\"6683.731718750002\" y1=\"225.0\" y2=\"275.0\" stroke=\"black\" stroke-width=\"3\" /><line x1=\"6843.973984375002\" x2=\"6843.973984375002\" y1=\"175.0\" y2=\"275.0\" stroke=\"black\" stroke-width=\"3\" /><line x1=\"7013.123476562502\" x2=\"7013.123476562502\" y1=\"225.0\" y2=\"275.0\" stroke=\"black\" stroke-width=\"3\" /><line x1=\"7182.272968750002\" x2=\"7182.272968750002\" y1=\"25.0\" y2=\"275.0\" stroke=\"black\" stroke-width=\"3\" /><line x1=\"7346.370703125002\" x2=\"7346.370703125002\" y1=\"225.0\" y2=\"275.0\" stroke=\"black\" stroke-width=\"3\" /><line x1=\"7515.520195312502\" x2=\"7515.520195312502\" y1=\"175.0\" y2=\"275.0\" stroke=\"black\" stroke-width=\"3\" /><line x1=\"7675.7624609375025\" x2=\"7675.7624609375025\" y1=\"225.0\" y2=\"275.0\" stroke=\"black\" stroke-width=\"3\" /><line x1=\"7839.860195312503\" x2=\"7839.860195312503\" y1=\"125.0\" y2=\"275.0\" stroke=\"black\" stroke-width=\"3\" /><line x1=\"8009.009687500003\" x2=\"8009.009687500003\" y1=\"225.0\" y2=\"275.0\" stroke=\"black\" stroke-width=\"3\" /><line x1=\"8178.159179687503\" x2=\"8178.159179687503\" y1=\"175.0\" y2=\"275.0\" stroke=\"black\" stroke-width=\"3\" /><line x1=\"8342.256914062504\" x2=\"8342.256914062504\" y1=\"225.0\" y2=\"275.0\" stroke=\"black\" stroke-width=\"3\" /><line x1=\"8511.406406250004\" x2=\"8511.406406250004\" y1=\"75.0\" y2=\"275.0\" stroke=\"black\" stroke-width=\"3\" /><line x1=\"8680.555898437504\" x2=\"8680.555898437504\" y1=\"225.0\" y2=\"275.0\" stroke=\"black\" stroke-width=\"3\" /><line x1=\"8849.705390625004\" x2=\"8849.705390625004\" y1=\"175.0\" y2=\"275.0\" stroke=\"black\" stroke-width=\"3\" /><line x1=\"9013.803125000004\" x2=\"9013.803125000004\" y1=\"225.0\" y2=\"275.0\" stroke=\"black\" stroke-width=\"3\" /><line x1=\"9177.900859375004\" x2=\"9177.900859375004\" y1=\"125.0\" y2=\"275.0\" stroke=\"black\" stroke-width=\"3\" /><line x1=\"9347.050351562504\" x2=\"9347.050351562504\" y1=\"225.0\" y2=\"275.0\" stroke=\"black\" stroke-width=\"3\" /><line x1=\"9516.199843750004\" x2=\"9516.199843750004\" y1=\"175.0\" y2=\"275.0\" stroke=\"black\" stroke-width=\"3\" /><line x1=\"9676.442109375004\" x2=\"9676.442109375004\" y1=\"225.0\" y2=\"275.0\" stroke=\"black\" stroke-width=\"3\" /><line x1=\"9845.591601562504\" x2=\"9845.591601562504\" y1=\"25.0\" y2=\"275.0\" stroke=\"black\" stroke-width=\"3\" /><line x1=\"9905.591601562504\" x2=\"9905.591601562504\" y1=\"275.0\" y2=\"325.0\" stroke=\"black\" stroke-width=\"3\" /><line x1=\"10074.741093750004\" x2=\"10074.741093750004\" y1=\"225.0\" y2=\"325.0\" stroke=\"black\" stroke-width=\"3\" /><line x1=\"10199.238242187505\" x2=\"10199.238242187505\" y1=\"275.0\" y2=\"325.0\" stroke=\"black\" stroke-width=\"3\" /><line x1=\"10363.335976562505\" x2=\"10363.335976562505\" y1=\"175.0\" y2=\"325.0\" stroke=\"black\" stroke-width=\"3\" /><line x1=\"10532.485468750005\" x2=\"10532.485468750005\" y1=\"275.0\" y2=\"325.0\" stroke=\"black\" stroke-width=\"3\" /><line x1=\"10701.634960937505\" x2=\"10701.634960937505\" y1=\"225.0\" y2=\"325.0\" stroke=\"black\" stroke-width=\"3\" /><line x1=\"10865.732695312505\" x2=\"10865.732695312505\" y1=\"275.0\" y2=\"325.0\" stroke=\"black\" stroke-width=\"3\" /><line x1=\"11029.830429687505\" x2=\"11029.830429687505\" y1=\"125.0\" y2=\"325.0\" stroke=\"black\" stroke-width=\"3\" /><line x1=\"11198.979921875005\" x2=\"11198.979921875005\" y1=\"275.0\" y2=\"325.0\" stroke=\"black\" stroke-width=\"3\" /><line x1=\"11368.129414062505\" x2=\"11368.129414062505\" y1=\"225.0\" y2=\"325.0\" stroke=\"black\" stroke-width=\"3\" /><line x1=\"11532.227148437505\" x2=\"11532.227148437505\" y1=\"275.0\" y2=\"325.0\" stroke=\"black\" stroke-width=\"3\" /><line x1=\"11696.324882812505\" x2=\"11696.324882812505\" y1=\"175.0\" y2=\"325.0\" stroke=\"black\" stroke-width=\"3\" /><line x1=\"11860.422617187505\" x2=\"11860.422617187505\" y1=\"275.0\" y2=\"325.0\" stroke=\"black\" stroke-width=\"3\" /><line x1=\"12024.520351562505\" x2=\"12024.520351562505\" y1=\"225.0\" y2=\"325.0\" stroke=\"black\" stroke-width=\"3\" /><line x1=\"12193.669843750005\" x2=\"12193.669843750005\" y1=\"275.0\" y2=\"325.0\" stroke=\"black\" stroke-width=\"3\" /><line x1=\"12362.819335937505\" x2=\"12362.819335937505\" y1=\"75.0\" y2=\"325.0\" stroke=\"black\" stroke-width=\"3\" /><line x1=\"12526.917070312506\" x2=\"12526.917070312506\" y1=\"275.0\" y2=\"325.0\" stroke=\"black\" stroke-width=\"3\" /><line x1=\"12687.159335937506\" x2=\"12687.159335937506\" y1=\"225.0\" y2=\"325.0\" stroke=\"black\" stroke-width=\"3\" /><line x1=\"12856.308828125006\" x2=\"12856.308828125006\" y1=\"275.0\" y2=\"325.0\" stroke=\"black\" stroke-width=\"3\" /><line x1=\"13020.406562500006\" x2=\"13020.406562500006\" y1=\"175.0\" y2=\"325.0\" stroke=\"black\" stroke-width=\"3\" /><line x1=\"13184.504296875006\" x2=\"13184.504296875006\" y1=\"275.0\" y2=\"325.0\" stroke=\"black\" stroke-width=\"3\" /><line x1=\"13348.602031250006\" x2=\"13348.602031250006\" y1=\"225.0\" y2=\"325.0\" stroke=\"black\" stroke-width=\"3\" /><line x1=\"13517.751523437506\" x2=\"13517.751523437506\" y1=\"275.0\" y2=\"325.0\" stroke=\"black\" stroke-width=\"3\" /><line x1=\"13686.901015625006\" x2=\"13686.901015625006\" y1=\"125.0\" y2=\"325.0\" stroke=\"black\" stroke-width=\"3\" /><line x1=\"13856.050507812506\" x2=\"13856.050507812506\" y1=\"275.0\" y2=\"325.0\" stroke=\"black\" stroke-width=\"3\" /><line x1=\"14025.200000000006\" x2=\"14025.200000000006\" y1=\"225.0\" y2=\"325.0\" stroke=\"black\" stroke-width=\"3\" /><line x1=\"14194.349492187506\" x2=\"14194.349492187506\" y1=\"275.0\" y2=\"325.0\" stroke=\"black\" stroke-width=\"3\" /><line x1=\"14363.498984375006\" x2=\"14363.498984375006\" y1=\"175.0\" y2=\"325.0\" stroke=\"black\" stroke-width=\"3\" /><line x1=\"14532.648476562506\" x2=\"14532.648476562506\" y1=\"275.0\" y2=\"325.0\" stroke=\"black\" stroke-width=\"3\" /><line x1=\"14701.797968750006\" x2=\"14701.797968750006\" y1=\"225.0\" y2=\"325.0\" stroke=\"black\" stroke-width=\"3\" /><line x1=\"14865.895703125007\" x2=\"14865.895703125007\" y1=\"275.0\" y2=\"325.0\" stroke=\"black\" stroke-width=\"3\" /><line x1=\"15021.086210937507\" x2=\"15021.086210937507\" y1=\"25.0\" y2=\"325.0\" stroke=\"black\" stroke-width=\"3\" /><line x1=\"15190.235703125007\" x2=\"15190.235703125007\" y1=\"275.0\" y2=\"325.0\" stroke=\"black\" stroke-width=\"3\" /><line x1=\"15350.477968750007\" x2=\"15350.477968750007\" y1=\"225.0\" y2=\"325.0\" stroke=\"black\" stroke-width=\"3\" /><line x1=\"15514.575703125007\" x2=\"15514.575703125007\" y1=\"275.0\" y2=\"325.0\" stroke=\"black\" stroke-width=\"3\" /><line x1=\"15678.673437500007\" x2=\"15678.673437500007\" y1=\"175.0\" y2=\"325.0\" stroke=\"black\" stroke-width=\"3\" /><line x1=\"15847.822929687507\" x2=\"15847.822929687507\" y1=\"275.0\" y2=\"325.0\" stroke=\"black\" stroke-width=\"3\" /><line x1=\"16016.972421875007\" x2=\"16016.972421875007\" y1=\"225.0\" y2=\"325.0\" stroke=\"black\" stroke-width=\"3\" /><line x1=\"16181.070156250007\" x2=\"16181.070156250007\" y1=\"275.0\" y2=\"325.0\" stroke=\"black\" stroke-width=\"3\" /><line x1=\"16345.167890625007\" x2=\"16345.167890625007\" y1=\"125.0\" y2=\"325.0\" stroke=\"black\" stroke-width=\"3\" /><line x1=\"16509.265625000007\" x2=\"16509.265625000007\" y1=\"275.0\" y2=\"325.0\" stroke=\"black\" stroke-width=\"3\" /><line x1=\"16673.363359375006\" x2=\"16673.363359375006\" y1=\"225.0\" y2=\"325.0\" stroke=\"black\" stroke-width=\"3\" /><line x1=\"16842.512851562504\" x2=\"16842.512851562504\" y1=\"275.0\" y2=\"325.0\" stroke=\"black\" stroke-width=\"3\" /><line x1=\"17002.755117187502\" x2=\"17002.755117187502\" y1=\"175.0\" y2=\"325.0\" stroke=\"black\" stroke-width=\"3\" /><line x1=\"17171.904609375\" x2=\"17171.904609375\" y1=\"275.0\" y2=\"325.0\" stroke=\"black\" stroke-width=\"3\" /><line x1=\"17341.0541015625\" x2=\"17341.0541015625\" y1=\"225.0\" y2=\"325.0\" stroke=\"black\" stroke-width=\"3\" /><line x1=\"17505.151835937497\" x2=\"17505.151835937497\" y1=\"275.0\" y2=\"325.0\" stroke=\"black\" stroke-width=\"3\" /><line x1=\"17674.301328124995\" x2=\"17674.301328124995\" y1=\"75.0\" y2=\"325.0\" stroke=\"black\" stroke-width=\"3\" /><line x1=\"17838.399062499993\" x2=\"17838.399062499993\" y1=\"275.0\" y2=\"325.0\" stroke=\"black\" stroke-width=\"3\" /><line x1=\"18002.49679687499\" x2=\"18002.49679687499\" y1=\"225.0\" y2=\"325.0\" stroke=\"black\" stroke-width=\"3\" /><line x1=\"18126.99394531249\" x2=\"18126.99394531249\" y1=\"275.0\" y2=\"325.0\" stroke=\"black\" stroke-width=\"3\" /><line x1=\"18296.143437499988\" x2=\"18296.143437499988\" y1=\"175.0\" y2=\"325.0\" stroke=\"black\" stroke-width=\"3\" /><line x1=\"18460.241171874986\" x2=\"18460.241171874986\" y1=\"275.0\" y2=\"325.0\" stroke=\"black\" stroke-width=\"3\" /><line x1=\"18629.390664062485\" x2=\"18629.390664062485\" y1=\"225.0\" y2=\"325.0\" stroke=\"black\" stroke-width=\"3\" /><line x1=\"18798.540156249983\" x2=\"18798.540156249983\" y1=\"275.0\" y2=\"325.0\" stroke=\"black\" stroke-width=\"3\" /><line x1=\"18962.63789062498\" x2=\"18962.63789062498\" y1=\"125.0\" y2=\"325.0\" stroke=\"black\" stroke-width=\"3\" /><line x1=\"19131.78738281248\" x2=\"19131.78738281248\" y1=\"275.0\" y2=\"325.0\" stroke=\"black\" stroke-width=\"3\" /><line x1=\"19295.885117187478\" x2=\"19295.885117187478\" y1=\"225.0\" y2=\"325.0\" stroke=\"black\" stroke-width=\"3\" /><line x1=\"19459.982851562476\" x2=\"19459.982851562476\" y1=\"275.0\" y2=\"325.0\" stroke=\"black\" stroke-width=\"3\" /><line x1=\"19629.132343749974\" x2=\"19629.132343749974\" y1=\"175.0\" y2=\"325.0\" stroke=\"black\" stroke-width=\"3\" /><line x1=\"19793.230078124972\" x2=\"19793.230078124972\" y1=\"275.0\" y2=\"325.0\" stroke=\"black\" stroke-width=\"3\" /><line x1=\"19957.32781249997\" x2=\"19957.32781249997\" y1=\"225.0\" y2=\"325.0\" stroke=\"black\" stroke-width=\"3\" /><line x1=\"20081.82496093747\" x2=\"20081.82496093747\" y1=\"275.0\" y2=\"325.0\" stroke=\"black\" stroke-width=\"3\" /><line x1=\"20250.974453124967\" x2=\"20250.974453124967\" y1=\"25.0\" y2=\"325.0\" stroke=\"black\" stroke-width=\"3\" /><line x1=\"20310.974453124967\" x2=\"20310.974453124967\" y1=\"325.0\" y2=\"375.0\" stroke=\"black\" stroke-width=\"3\" /><line x1=\"20475.072187499965\" x2=\"20475.072187499965\" y1=\"275.0\" y2=\"375.0\" stroke=\"black\" stroke-width=\"3\" /><line x1=\"20639.169921874964\" x2=\"20639.169921874964\" y1=\"325.0\" y2=\"375.0\" stroke=\"black\" stroke-width=\"3\" /><line x1=\"20799.412187499962\" x2=\"20799.412187499962\" y1=\"225.0\" y2=\"375.0\" stroke=\"black\" stroke-width=\"3\" /><line x1=\"20963.50992187496\" x2=\"20963.50992187496\" y1=\"325.0\" y2=\"375.0\" stroke=\"black\" stroke-width=\"3\" /><line x1=\"21132.65941406246\" x2=\"21132.65941406246\" y1=\"275.0\" y2=\"375.0\" stroke=\"black\" stroke-width=\"3\" /><line x1=\"21301.808906249957\" x2=\"21301.808906249957\" y1=\"325.0\" y2=\"375.0\" stroke=\"black\" stroke-width=\"3\" /><line x1=\"21465.906640624955\" x2=\"21465.906640624955\" y1=\"175.0\" y2=\"375.0\" stroke=\"black\" stroke-width=\"3\" /><line x1=\"21635.056132812453\" x2=\"21635.056132812453\" y1=\"325.0\" y2=\"375.0\" stroke=\"black\" stroke-width=\"3\" /><line x1=\"21804.20562499995\" x2=\"21804.20562499995\" y1=\"275.0\" y2=\"375.0\" stroke=\"black\" stroke-width=\"3\" /><line x1=\"21968.30335937495\" x2=\"21968.30335937495\" y1=\"325.0\" y2=\"375.0\" stroke=\"black\" stroke-width=\"3\" /><line x1=\"22132.401093749948\" x2=\"22132.401093749948\" y1=\"225.0\" y2=\"375.0\" stroke=\"black\" stroke-width=\"3\" /><line x1=\"22296.498828124946\" x2=\"22296.498828124946\" y1=\"325.0\" y2=\"375.0\" stroke=\"black\" stroke-width=\"3\" /><line x1=\"22465.648320312444\" x2=\"22465.648320312444\" y1=\"275.0\" y2=\"375.0\" stroke=\"black\" stroke-width=\"3\" /><line x1=\"22634.797812499943\" x2=\"22634.797812499943\" y1=\"325.0\" y2=\"375.0\" stroke=\"black\" stroke-width=\"3\" /><line x1=\"22803.94730468744\" x2=\"22803.94730468744\" y1=\"125.0\" y2=\"375.0\" stroke=\"black\" stroke-width=\"3\" /><line x1=\"22928.44445312494\" x2=\"22928.44445312494\" y1=\"325.0\" y2=\"375.0\" stroke=\"black\" stroke-width=\"3\" /><line x1=\"23097.593945312437\" x2=\"23097.593945312437\" y1=\"275.0\" y2=\"375.0\" stroke=\"black\" stroke-width=\"3\" /><line x1=\"23266.743437499936\" x2=\"23266.743437499936\" y1=\"325.0\" y2=\"375.0\" stroke=\"black\" stroke-width=\"3\" /><line x1=\"23435.892929687434\" x2=\"23435.892929687434\" y1=\"225.0\" y2=\"375.0\" stroke=\"black\" stroke-width=\"3\" /><line x1=\"23599.990664062432\" x2=\"23599.990664062432\" y1=\"325.0\" y2=\"375.0\" stroke=\"black\" stroke-width=\"3\" /><line x1=\"23769.14015624993\" x2=\"23769.14015624993\" y1=\"275.0\" y2=\"375.0\" stroke=\"black\" stroke-width=\"3\" /><line x1=\"23938.28964843743\" x2=\"23938.28964843743\" y1=\"325.0\" y2=\"375.0\" stroke=\"black\" stroke-width=\"3\" /><line x1=\"24102.387382812427\" x2=\"24102.387382812427\" y1=\"175.0\" y2=\"375.0\" stroke=\"black\" stroke-width=\"3\" /><line x1=\"24266.485117187425\" x2=\"24266.485117187425\" y1=\"325.0\" y2=\"375.0\" stroke=\"black\" stroke-width=\"3\" /><line x1=\"24390.982265624923\" x2=\"24390.982265624923\" y1=\"275.0\" y2=\"375.0\" stroke=\"black\" stroke-width=\"3\" /><line x1=\"24560.13175781242\" x2=\"24560.13175781242\" y1=\"325.0\" y2=\"375.0\" stroke=\"black\" stroke-width=\"3\" /><line x1=\"24724.22949218742\" x2=\"24724.22949218742\" y1=\"225.0\" y2=\"375.0\" stroke=\"black\" stroke-width=\"3\" /><line x1=\"24884.47175781242\" x2=\"24884.47175781242\" y1=\"325.0\" y2=\"375.0\" stroke=\"black\" stroke-width=\"3\" /><line x1=\"25053.621249999916\" x2=\"25053.621249999916\" y1=\"275.0\" y2=\"375.0\" stroke=\"black\" stroke-width=\"3\" /><line x1=\"25217.718984374915\" x2=\"25217.718984374915\" y1=\"325.0\" y2=\"375.0\" stroke=\"black\" stroke-width=\"3\" /><line x1=\"25342.216132812413\" x2=\"25342.216132812413\" y1=\"75.0\" y2=\"375.0\" stroke=\"black\" stroke-width=\"3\" /><line x1=\"25511.36562499991\" x2=\"25511.36562499991\" y1=\"325.0\" y2=\"375.0\" stroke=\"black\" stroke-width=\"3\" /><line x1=\"25635.86277343741\" x2=\"25635.86277343741\" y1=\"275.0\" y2=\"375.0\" stroke=\"black\" stroke-width=\"3\" /><line x1=\"25805.012265624908\" x2=\"25805.012265624908\" y1=\"325.0\" y2=\"375.0\" stroke=\"black\" stroke-width=\"3\" /><line x1=\"25974.161757812406\" x2=\"25974.161757812406\" y1=\"225.0\" y2=\"375.0\" stroke=\"black\" stroke-width=\"3\" /><line x1=\"26143.311249999904\" x2=\"26143.311249999904\" y1=\"325.0\" y2=\"375.0\" stroke=\"black\" stroke-width=\"3\" /><line x1=\"26307.408984374903\" x2=\"26307.408984374903\" y1=\"275.0\" y2=\"375.0\" stroke=\"black\" stroke-width=\"3\" /><line x1=\"26471.5067187499\" x2=\"26471.5067187499\" y1=\"325.0\" y2=\"375.0\" stroke=\"black\" stroke-width=\"3\" /><line x1=\"26596.0038671874\" x2=\"26596.0038671874\" y1=\"175.0\" y2=\"375.0\" stroke=\"black\" stroke-width=\"3\" /><line x1=\"26760.101601562397\" x2=\"26760.101601562397\" y1=\"325.0\" y2=\"375.0\" stroke=\"black\" stroke-width=\"3\" /><line x1=\"26884.598749999896\" x2=\"26884.598749999896\" y1=\"275.0\" y2=\"375.0\" stroke=\"black\" stroke-width=\"3\" /><line x1=\"27053.748242187394\" x2=\"27053.748242187394\" y1=\"325.0\" y2=\"375.0\" stroke=\"black\" stroke-width=\"3\" /><line x1=\"27222.897734374892\" x2=\"27222.897734374892\" y1=\"225.0\" y2=\"375.0\" stroke=\"black\" stroke-width=\"3\" /><line x1=\"27392.04722656239\" x2=\"27392.04722656239\" y1=\"325.0\" y2=\"375.0\" stroke=\"black\" stroke-width=\"3\" /><line x1=\"27556.14496093739\" x2=\"27556.14496093739\" y1=\"275.0\" y2=\"375.0\" stroke=\"black\" stroke-width=\"3\" /><line x1=\"27711.335468749887\" x2=\"27711.335468749887\" y1=\"325.0\" y2=\"375.0\" stroke=\"black\" stroke-width=\"3\" /><line x1=\"27875.433203124885\" x2=\"27875.433203124885\" y1=\"125.0\" y2=\"375.0\" stroke=\"black\" stroke-width=\"3\" /><line x1=\"28039.530937499883\" x2=\"28039.530937499883\" y1=\"325.0\" y2=\"375.0\" stroke=\"black\" stroke-width=\"3\" /><line x1=\"28203.62867187488\" x2=\"28203.62867187488\" y1=\"275.0\" y2=\"375.0\" stroke=\"black\" stroke-width=\"3\" /><line x1=\"28372.77816406238\" x2=\"28372.77816406238\" y1=\"325.0\" y2=\"375.0\" stroke=\"black\" stroke-width=\"3\" /><line x1=\"28541.927656249878\" x2=\"28541.927656249878\" y1=\"225.0\" y2=\"375.0\" stroke=\"black\" stroke-width=\"3\" /><line x1=\"28711.077148437376\" x2=\"28711.077148437376\" y1=\"325.0\" y2=\"375.0\" stroke=\"black\" stroke-width=\"3\" /><line x1=\"28875.174882812375\" x2=\"28875.174882812375\" y1=\"275.0\" y2=\"375.0\" stroke=\"black\" stroke-width=\"3\" /><line x1=\"29039.272617187373\" x2=\"29039.272617187373\" y1=\"325.0\" y2=\"375.0\" stroke=\"black\" stroke-width=\"3\" /><line x1=\"29203.37035156237\" x2=\"29203.37035156237\" y1=\"175.0\" y2=\"375.0\" stroke=\"black\" stroke-width=\"3\" /><line x1=\"29372.51984374987\" x2=\"29372.51984374987\" y1=\"325.0\" y2=\"375.0\" stroke=\"black\" stroke-width=\"3\" /><line x1=\"29536.617578124868\" x2=\"29536.617578124868\" y1=\"275.0\" y2=\"375.0\" stroke=\"black\" stroke-width=\"3\" /><line x1=\"29700.715312499866\" x2=\"29700.715312499866\" y1=\"325.0\" y2=\"375.0\" stroke=\"black\" stroke-width=\"3\" /><line x1=\"29869.864804687364\" x2=\"29869.864804687364\" y1=\"225.0\" y2=\"375.0\" stroke=\"black\" stroke-width=\"3\" /><line x1=\"30033.962539062362\" x2=\"30033.962539062362\" y1=\"325.0\" y2=\"375.0\" stroke=\"black\" stroke-width=\"3\" /><line x1=\"30203.11203124986\" x2=\"30203.11203124986\" y1=\"275.0\" y2=\"375.0\" stroke=\"black\" stroke-width=\"3\" /><line x1=\"30372.26152343736\" x2=\"30372.26152343736\" y1=\"325.0\" y2=\"375.0\" stroke=\"black\" stroke-width=\"3\" /><line x1=\"30496.758671874857\" x2=\"30496.758671874857\" y1=\"25.0\" y2=\"375.0\" stroke=\"black\" stroke-width=\"3\" /><line x1=\"30665.908164062355\" x2=\"30665.908164062355\" y1=\"325.0\" y2=\"375.0\" stroke=\"black\" stroke-width=\"3\" /><line x1=\"30835.057656249854\" x2=\"30835.057656249854\" y1=\"275.0\" y2=\"375.0\" stroke=\"black\" stroke-width=\"3\" /><line x1=\"31004.207148437352\" x2=\"31004.207148437352\" y1=\"325.0\" y2=\"375.0\" stroke=\"black\" stroke-width=\"3\" /><line x1=\"31173.35664062485\" x2=\"31173.35664062485\" y1=\"225.0\" y2=\"375.0\" stroke=\"black\" stroke-width=\"3\" /><line x1=\"31337.45437499985\" x2=\"31337.45437499985\" y1=\"325.0\" y2=\"375.0\" stroke=\"black\" stroke-width=\"3\" /><line x1=\"31501.552109374847\" x2=\"31501.552109374847\" y1=\"275.0\" y2=\"375.0\" stroke=\"black\" stroke-width=\"3\" /><line x1=\"31665.649843749845\" x2=\"31665.649843749845\" y1=\"325.0\" y2=\"375.0\" stroke=\"black\" stroke-width=\"3\" /><line x1=\"31834.799335937343\" x2=\"31834.799335937343\" y1=\"175.0\" y2=\"375.0\" stroke=\"black\" stroke-width=\"3\" /><line x1=\"32003.94882812484\" x2=\"32003.94882812484\" y1=\"325.0\" y2=\"375.0\" stroke=\"black\" stroke-width=\"3\" /><line x1=\"32168.04656249984\" x2=\"32168.04656249984\" y1=\"275.0\" y2=\"375.0\" stroke=\"black\" stroke-width=\"3\" /><line x1=\"32332.144296874838\" x2=\"32332.144296874838\" y1=\"325.0\" y2=\"375.0\" stroke=\"black\" stroke-width=\"3\" /><line x1=\"32501.293789062336\" x2=\"32501.293789062336\" y1=\"225.0\" y2=\"375.0\" stroke=\"black\" stroke-width=\"3\" /><line x1=\"32665.391523437334\" x2=\"32665.391523437334\" y1=\"325.0\" y2=\"375.0\" stroke=\"black\" stroke-width=\"3\" /><line x1=\"32829.48925781233\" x2=\"32829.48925781233\" y1=\"275.0\" y2=\"375.0\" stroke=\"black\" stroke-width=\"3\" /><line x1=\"32993.58699218733\" x2=\"32993.58699218733\" y1=\"325.0\" y2=\"375.0\" stroke=\"black\" stroke-width=\"3\" /><line x1=\"33157.68472656233\" x2=\"33157.68472656233\" y1=\"125.0\" y2=\"375.0\" stroke=\"black\" stroke-width=\"3\" /><line x1=\"33326.83421874983\" x2=\"33326.83421874983\" y1=\"325.0\" y2=\"375.0\" stroke=\"black\" stroke-width=\"3\" /><line x1=\"33482.024726562326\" x2=\"33482.024726562326\" y1=\"275.0\" y2=\"375.0\" stroke=\"black\" stroke-width=\"3\" /><line x1=\"33646.122460937324\" x2=\"33646.122460937324\" y1=\"325.0\" y2=\"375.0\" stroke=\"black\" stroke-width=\"3\" /><line x1=\"33810.22019531232\" x2=\"33810.22019531232\" y1=\"225.0\" y2=\"375.0\" stroke=\"black\" stroke-width=\"3\" /><line x1=\"33974.31792968732\" x2=\"33974.31792968732\" y1=\"325.0\" y2=\"375.0\" stroke=\"black\" stroke-width=\"3\" /><line x1=\"34143.46742187482\" x2=\"34143.46742187482\" y1=\"275.0\" y2=\"375.0\" stroke=\"black\" stroke-width=\"3\" /><line x1=\"34312.61691406232\" x2=\"34312.61691406232\" y1=\"325.0\" y2=\"375.0\" stroke=\"black\" stroke-width=\"3\" /><line x1=\"34481.766406249815\" x2=\"34481.766406249815\" y1=\"175.0\" y2=\"375.0\" stroke=\"black\" stroke-width=\"3\" /><line x1=\"34650.91589843731\" x2=\"34650.91589843731\" y1=\"325.0\" y2=\"375.0\" stroke=\"black\" stroke-width=\"3\" /><line x1=\"34815.01363281231\" x2=\"34815.01363281231\" y1=\"275.0\" y2=\"375.0\" stroke=\"black\" stroke-width=\"3\" /><line x1=\"34979.11136718731\" x2=\"34979.11136718731\" y1=\"325.0\" y2=\"375.0\" stroke=\"black\" stroke-width=\"3\" /><line x1=\"35148.26085937481\" x2=\"35148.26085937481\" y1=\"225.0\" y2=\"375.0\" stroke=\"black\" stroke-width=\"3\" /><line x1=\"35312.35859374981\" x2=\"35312.35859374981\" y1=\"325.0\" y2=\"375.0\" stroke=\"black\" stroke-width=\"3\" /><line x1=\"35476.456328124805\" x2=\"35476.456328124805\" y1=\"275.0\" y2=\"375.0\" stroke=\"black\" stroke-width=\"3\" /><line x1=\"35645.6058203123\" x2=\"35645.6058203123\" y1=\"325.0\" y2=\"375.0\" stroke=\"black\" stroke-width=\"3\" /><line x1=\"35770.1029687498\" x2=\"35770.1029687498\" y1=\"75.0\" y2=\"375.0\" stroke=\"black\" stroke-width=\"3\" /><line x1=\"35934.2007031248\" x2=\"35934.2007031248\" y1=\"325.0\" y2=\"375.0\" stroke=\"black\" stroke-width=\"3\" /><line x1=\"36103.3501953123\" x2=\"36103.3501953123\" y1=\"275.0\" y2=\"375.0\" stroke=\"black\" stroke-width=\"3\" /><line x1=\"36272.499687499796\" x2=\"36272.499687499796\" y1=\"325.0\" y2=\"375.0\" stroke=\"black\" stroke-width=\"3\" /><line x1=\"36436.597421874794\" x2=\"36436.597421874794\" y1=\"225.0\" y2=\"375.0\" stroke=\"black\" stroke-width=\"3\" /><line x1=\"36605.74691406229\" x2=\"36605.74691406229\" y1=\"325.0\" y2=\"375.0\" stroke=\"black\" stroke-width=\"3\" /><line x1=\"36769.84464843729\" x2=\"36769.84464843729\" y1=\"275.0\" y2=\"375.0\" stroke=\"black\" stroke-width=\"3\" /><line x1=\"36938.99414062479\" x2=\"36938.99414062479\" y1=\"325.0\" y2=\"375.0\" stroke=\"black\" stroke-width=\"3\" /><line x1=\"37099.23640624979\" x2=\"37099.23640624979\" y1=\"175.0\" y2=\"375.0\" stroke=\"black\" stroke-width=\"3\" /><line x1=\"37263.334140624786\" x2=\"37263.334140624786\" y1=\"325.0\" y2=\"375.0\" stroke=\"black\" stroke-width=\"3\" /><line x1=\"37427.431874999784\" x2=\"37427.431874999784\" y1=\"275.0\" y2=\"375.0\" stroke=\"black\" stroke-width=\"3\" /><line x1=\"37591.52960937478\" x2=\"37591.52960937478\" y1=\"325.0\" y2=\"375.0\" stroke=\"black\" stroke-width=\"3\" /><line x1=\"37755.62734374978\" x2=\"37755.62734374978\" y1=\"225.0\" y2=\"375.0\" stroke=\"black\" stroke-width=\"3\" /><line x1=\"37924.77683593728\" x2=\"37924.77683593728\" y1=\"325.0\" y2=\"375.0\" stroke=\"black\" stroke-width=\"3\" /><line x1=\"38093.92632812478\" x2=\"38093.92632812478\" y1=\"275.0\" y2=\"375.0\" stroke=\"black\" stroke-width=\"3\" /><line x1=\"38263.075820312275\" x2=\"38263.075820312275\" y1=\"325.0\" y2=\"375.0\" stroke=\"black\" stroke-width=\"3\" /><line x1=\"38432.22531249977\" x2=\"38432.22531249977\" y1=\"125.0\" y2=\"375.0\" stroke=\"black\" stroke-width=\"3\" /><line x1=\"38596.32304687477\" x2=\"38596.32304687477\" y1=\"325.0\" y2=\"375.0\" stroke=\"black\" stroke-width=\"3\" /><line x1=\"38765.47253906227\" x2=\"38765.47253906227\" y1=\"275.0\" y2=\"375.0\" stroke=\"black\" stroke-width=\"3\" /><line x1=\"38929.57027343727\" x2=\"38929.57027343727\" y1=\"325.0\" y2=\"375.0\" stroke=\"black\" stroke-width=\"3\" /><line x1=\"39093.668007812266\" x2=\"39093.668007812266\" y1=\"225.0\" y2=\"375.0\" stroke=\"black\" stroke-width=\"3\" /><line x1=\"39262.817499999765\" x2=\"39262.817499999765\" y1=\"325.0\" y2=\"375.0\" stroke=\"black\" stroke-width=\"3\" /><line x1=\"39431.96699218726\" x2=\"39431.96699218726\" y1=\"275.0\" y2=\"375.0\" stroke=\"black\" stroke-width=\"3\" /><line x1=\"39601.11648437476\" x2=\"39601.11648437476\" y1=\"325.0\" y2=\"375.0\" stroke=\"black\" stroke-width=\"3\" /><line x1=\"39761.35874999976\" x2=\"39761.35874999976\" y1=\"175.0\" y2=\"375.0\" stroke=\"black\" stroke-width=\"3\" /><line x1=\"39930.50824218726\" x2=\"39930.50824218726\" y1=\"325.0\" y2=\"375.0\" stroke=\"black\" stroke-width=\"3\" /><line x1=\"40099.657734374756\" x2=\"40099.657734374756\" y1=\"275.0\" y2=\"375.0\" stroke=\"black\" stroke-width=\"3\" /><line x1=\"40268.807226562254\" x2=\"40268.807226562254\" y1=\"325.0\" y2=\"375.0\" stroke=\"black\" stroke-width=\"3\" /><line x1=\"40432.90496093725\" x2=\"40432.90496093725\" y1=\"225.0\" y2=\"375.0\" stroke=\"black\" stroke-width=\"3\" /><line x1=\"40597.00269531225\" x2=\"40597.00269531225\" y1=\"325.0\" y2=\"375.0\" stroke=\"black\" stroke-width=\"3\" /><line x1=\"40761.10042968725\" x2=\"40761.10042968725\" y1=\"275.0\" y2=\"375.0\" stroke=\"black\" stroke-width=\"3\" /><line x1=\"40930.24992187475\" x2=\"40930.24992187475\" y1=\"325.0\" y2=\"375.0\" stroke=\"black\" stroke-width=\"3\" /><line x1=\"41094.347656249745\" x2=\"41094.347656249745\" y1=\"25.0\" y2=\"375.0\" stroke=\"black\" stroke-width=\"3\" /><rect x=\"10.0\" y=\"5.0\" width=\"49.517734375\" height=\"40\" stroke=\"black\" fill=\"white\" stroke-width=\"0\" /><text x=\"34.7588671875\" y=\"25.0\" dominant-baseline=\"middle\" text-anchor=\"middle\" font-size=\"14px\" font-family=\"Arial\">(0, 0): </text><rect x=\"10.0\" y=\"55.0\" width=\"49.517734375\" height=\"40\" stroke=\"black\" fill=\"white\" stroke-width=\"0\" /><text x=\"34.7588671875\" y=\"75.0\" dominant-baseline=\"middle\" text-anchor=\"middle\" font-size=\"14px\" font-family=\"Arial\">(0, 1): </text><rect x=\"10.0\" y=\"105.0\" width=\"49.517734375\" height=\"40\" stroke=\"black\" fill=\"white\" stroke-width=\"0\" /><text x=\"34.7588671875\" y=\"125.0\" dominant-baseline=\"middle\" text-anchor=\"middle\" font-size=\"14px\" font-family=\"Arial\">(1, 0): </text><rect x=\"10.0\" y=\"155.0\" width=\"49.517734375\" height=\"40\" stroke=\"black\" fill=\"white\" stroke-width=\"0\" /><text x=\"34.7588671875\" y=\"175.0\" dominant-baseline=\"middle\" text-anchor=\"middle\" font-size=\"14px\" font-family=\"Arial\">(1, 1): </text><rect x=\"10.0\" y=\"205.0\" width=\"49.517734375\" height=\"40\" stroke=\"black\" fill=\"white\" stroke-width=\"0\" /><text x=\"34.7588671875\" y=\"225.0\" dominant-baseline=\"middle\" text-anchor=\"middle\" font-size=\"14px\" font-family=\"Arial\">(2, 0): </text><rect x=\"10.0\" y=\"255.0\" width=\"49.517734375\" height=\"40\" stroke=\"black\" fill=\"white\" stroke-width=\"0\" /><text x=\"34.7588671875\" y=\"275.0\" dominant-baseline=\"middle\" text-anchor=\"middle\" font-size=\"14px\" font-family=\"Arial\">(2, 1): </text><rect x=\"10.0\" y=\"305.0\" width=\"49.517734375\" height=\"40\" stroke=\"black\" fill=\"white\" stroke-width=\"0\" /><text x=\"34.7588671875\" y=\"325.0\" dominant-baseline=\"middle\" text-anchor=\"middle\" font-size=\"14px\" font-family=\"Arial\">(3, 0): </text><rect x=\"10.0\" y=\"355.0\" width=\"49.517734375\" height=\"40\" stroke=\"black\" fill=\"white\" stroke-width=\"0\" /><text x=\"34.7588671875\" y=\"375.0\" dominant-baseline=\"middle\" text-anchor=\"middle\" font-size=\"14px\" font-family=\"Arial\">(3, 1): </text><rect x=\"79.517734375\" y=\"5.0\" width=\"84.097734375\" height=\"40\" stroke=\"black\" fill=\"white\" stroke-width=\"1\" /><text x=\"121.56660156250001\" y=\"25.0\" dominant-baseline=\"middle\" text-anchor=\"middle\" font-size=\"14px\" font-family=\"Arial\">Ry(0.512π)</text><rect x=\"79.517734375\" y=\"55.0\" width=\"84.097734375\" height=\"40\" stroke=\"black\" fill=\"white\" stroke-width=\"1\" /><text x=\"121.56660156250001\" y=\"75.0\" dominant-baseline=\"middle\" text-anchor=\"middle\" font-size=\"14px\" font-family=\"Arial\">Ry(0.565π)</text><rect x=\"79.517734375\" y=\"105.0\" width=\"84.097734375\" height=\"40\" stroke=\"black\" fill=\"white\" stroke-width=\"1\" /><text x=\"121.56660156250001\" y=\"125.0\" dominant-baseline=\"middle\" text-anchor=\"middle\" font-size=\"14px\" font-family=\"Arial\">Ry(0.452π)</text><rect x=\"79.517734375\" y=\"155.0\" width=\"84.097734375\" height=\"40\" stroke=\"black\" fill=\"white\" stroke-width=\"1\" /><text x=\"121.56660156250001\" y=\"175.0\" dominant-baseline=\"middle\" text-anchor=\"middle\" font-size=\"14px\" font-family=\"Arial\">Ry(0.513π)</text><rect x=\"79.517734375\" y=\"205.0\" width=\"84.097734375\" height=\"40\" stroke=\"black\" fill=\"white\" stroke-width=\"1\" /><text x=\"121.56660156250001\" y=\"225.0\" dominant-baseline=\"middle\" text-anchor=\"middle\" font-size=\"14px\" font-family=\"Arial\">Ry(0.595π)</text><rect x=\"79.517734375\" y=\"255.0\" width=\"84.097734375\" height=\"40\" stroke=\"black\" fill=\"white\" stroke-width=\"1\" /><text x=\"121.56660156250001\" y=\"275.0\" dominant-baseline=\"middle\" text-anchor=\"middle\" font-size=\"14px\" font-family=\"Arial\">Ry(0.462π)</text><rect x=\"79.517734375\" y=\"305.0\" width=\"84.097734375\" height=\"40\" stroke=\"black\" fill=\"white\" stroke-width=\"1\" /><text x=\"121.56660156250001\" y=\"325.0\" dominant-baseline=\"middle\" text-anchor=\"middle\" font-size=\"14px\" font-family=\"Arial\">Ry(0.508π)</text><rect x=\"79.517734375\" y=\"355.0\" width=\"84.097734375\" height=\"40\" stroke=\"black\" fill=\"white\" stroke-width=\"1\" /><text x=\"121.56660156250001\" y=\"375.0\" dominant-baseline=\"middle\" text-anchor=\"middle\" font-size=\"14px\" font-family=\"Arial\">Ry(0.5π)</text><circle cx=\"203.61546875\" cy=\"25.0\" r=\"10.0\" /><rect x=\"183.61546875\" y=\"55.0\" width=\"40\" height=\"40\" stroke=\"black\" fill=\"white\" stroke-width=\"1\" /><text x=\"203.61546875\" y=\"75.0\" dominant-baseline=\"middle\" text-anchor=\"middle\" font-size=\"18px\" font-family=\"Arial\">X</text><rect x=\"243.61546874999996\" y=\"55.0\" width=\"84.097734375\" height=\"40\" stroke=\"black\" fill=\"white\" stroke-width=\"1\" /><text x=\"285.66433593749997\" y=\"75.0\" dominant-baseline=\"middle\" text-anchor=\"middle\" font-size=\"14px\" font-family=\"Arial\">Ry(0.089π)</text><circle cx=\"367.713203125\" cy=\"25.0\" r=\"10.0\" /><rect x=\"347.713203125\" y=\"55.0\" width=\"40\" height=\"40\" stroke=\"black\" fill=\"white\" stroke-width=\"1\" /><text x=\"367.713203125\" y=\"75.0\" dominant-baseline=\"middle\" text-anchor=\"middle\" font-size=\"18px\" font-family=\"Arial\">X</text><circle cx=\"427.713203125\" cy=\"75.0\" r=\"10.0\" /><rect x=\"407.713203125\" y=\"105.0\" width=\"40\" height=\"40\" stroke=\"black\" fill=\"white\" stroke-width=\"1\" /><text x=\"427.713203125\" y=\"125.0\" dominant-baseline=\"middle\" text-anchor=\"middle\" font-size=\"18px\" font-family=\"Arial\">X</text><rect x=\"467.713203125\" y=\"105.0\" width=\"84.097734375\" height=\"40\" stroke=\"black\" fill=\"white\" stroke-width=\"1\" /><text x=\"509.7620703125\" y=\"125.0\" dominant-baseline=\"middle\" text-anchor=\"middle\" font-size=\"14px\" font-family=\"Arial\">Ry(0.184π)</text><circle cx=\"591.8109375\" cy=\"25.0\" r=\"10.0\" /><rect x=\"571.8109375\" y=\"105.0\" width=\"40\" height=\"40\" stroke=\"black\" fill=\"white\" stroke-width=\"1\" /><text x=\"591.8109375\" y=\"125.0\" dominant-baseline=\"middle\" text-anchor=\"middle\" font-size=\"18px\" font-family=\"Arial\">X</text><rect x=\"631.8109375\" y=\"105.0\" width=\"75.1905078125\" height=\"40\" stroke=\"black\" fill=\"white\" stroke-width=\"1\" /><text x=\"669.4061914062501\" y=\"125.0\" dominant-baseline=\"middle\" text-anchor=\"middle\" font-size=\"14px\" font-family=\"Arial\">Ry(0.04π)</text><circle cx=\"747.0014453125\" cy=\"75.0\" r=\"10.0\" /><rect x=\"727.0014453125\" y=\"105.0\" width=\"40\" height=\"40\" stroke=\"black\" fill=\"white\" stroke-width=\"1\" /><text x=\"747.0014453125\" y=\"125.0\" dominant-baseline=\"middle\" text-anchor=\"middle\" font-size=\"18px\" font-family=\"Arial\">X</text><rect x=\"787.0014453125\" y=\"105.0\" width=\"84.097734375\" height=\"40\" stroke=\"black\" fill=\"white\" stroke-width=\"1\" /><text x=\"829.0503125\" y=\"125.0\" dominant-baseline=\"middle\" text-anchor=\"middle\" font-size=\"14px\" font-family=\"Arial\">Ry(0.203π)</text><circle cx=\"911.0991796874999\" cy=\"25.0\" r=\"10.0\" /><rect x=\"891.0991796874999\" y=\"105.0\" width=\"40\" height=\"40\" stroke=\"black\" fill=\"white\" stroke-width=\"1\" /><text x=\"911.0991796874999\" y=\"125.0\" dominant-baseline=\"middle\" text-anchor=\"middle\" font-size=\"18px\" font-family=\"Arial\">X</text><circle cx=\"971.0991796874999\" cy=\"125.0\" r=\"10.0\" /><rect x=\"951.0991796874999\" y=\"155.0\" width=\"40\" height=\"40\" stroke=\"black\" fill=\"white\" stroke-width=\"1\" /><text x=\"971.0991796874999\" y=\"175.0\" dominant-baseline=\"middle\" text-anchor=\"middle\" font-size=\"18px\" font-family=\"Arial\">X</text><rect x=\"1011.0991796874998\" y=\"155.0\" width=\"89.1494921875\" height=\"40\" stroke=\"black\" fill=\"white\" stroke-width=\"1\" /><text x=\"1055.6739257812499\" y=\"175.0\" dominant-baseline=\"middle\" text-anchor=\"middle\" font-size=\"14px\" font-family=\"Arial\">Ry(-0.111π)</text><circle cx=\"1140.248671875\" cy=\"75.0\" r=\"10.0\" /><rect x=\"1120.248671875\" y=\"155.0\" width=\"40\" height=\"40\" stroke=\"black\" fill=\"white\" stroke-width=\"1\" /><text x=\"1140.248671875\" y=\"175.0\" dominant-baseline=\"middle\" text-anchor=\"middle\" font-size=\"18px\" font-family=\"Arial\">X</text><rect x=\"1180.248671875\" y=\"155.0\" width=\"89.1494921875\" height=\"40\" stroke=\"black\" fill=\"white\" stroke-width=\"1\" /><text x=\"1224.82341796875\" y=\"175.0\" dominant-baseline=\"middle\" text-anchor=\"middle\" font-size=\"14px\" font-family=\"Arial\">Ry(-0.061π)</text><circle cx=\"1309.3981640625\" cy=\"125.0\" r=\"10.0\" /><rect x=\"1289.3981640625\" y=\"155.0\" width=\"40\" height=\"40\" stroke=\"black\" fill=\"white\" stroke-width=\"1\" /><text x=\"1309.3981640625\" y=\"175.0\" dominant-baseline=\"middle\" text-anchor=\"middle\" font-size=\"18px\" font-family=\"Arial\">X</text><rect x=\"1349.3981640625\" y=\"155.0\" width=\"84.097734375\" height=\"40\" stroke=\"black\" fill=\"white\" stroke-width=\"1\" /><text x=\"1391.44703125\" y=\"175.0\" dominant-baseline=\"middle\" text-anchor=\"middle\" font-size=\"14px\" font-family=\"Arial\">Ry(0.072π)</text><circle cx=\"1473.4958984375\" cy=\"25.0\" r=\"10.0\" /><rect x=\"1453.4958984375\" y=\"155.0\" width=\"40\" height=\"40\" stroke=\"black\" fill=\"white\" stroke-width=\"1\" /><text x=\"1473.4958984375\" y=\"175.0\" dominant-baseline=\"middle\" text-anchor=\"middle\" font-size=\"18px\" font-family=\"Arial\">X</text><rect x=\"1513.4958984375\" y=\"155.0\" width=\"84.097734375\" height=\"40\" stroke=\"black\" fill=\"white\" stroke-width=\"1\" /><text x=\"1555.544765625\" y=\"175.0\" dominant-baseline=\"middle\" text-anchor=\"middle\" font-size=\"14px\" font-family=\"Arial\">Ry(0.055π)</text><circle cx=\"1637.5936328125001\" cy=\"125.0\" r=\"10.0\" /><rect x=\"1617.5936328125001\" y=\"155.0\" width=\"40\" height=\"40\" stroke=\"black\" fill=\"white\" stroke-width=\"1\" /><text x=\"1637.5936328125001\" y=\"175.0\" dominant-baseline=\"middle\" text-anchor=\"middle\" font-size=\"18px\" font-family=\"Arial\">X</text><rect x=\"1677.5936328125001\" y=\"155.0\" width=\"84.097734375\" height=\"40\" stroke=\"black\" fill=\"white\" stroke-width=\"1\" /><text x=\"1719.6425000000002\" y=\"175.0\" dominant-baseline=\"middle\" text-anchor=\"middle\" font-size=\"14px\" font-family=\"Arial\">Ry(0.019π)</text><circle cx=\"1801.6913671875002\" cy=\"75.0\" r=\"10.0\" /><rect x=\"1781.6913671875002\" y=\"155.0\" width=\"40\" height=\"40\" stroke=\"black\" fill=\"white\" stroke-width=\"1\" /><text x=\"1801.6913671875002\" y=\"175.0\" dominant-baseline=\"middle\" text-anchor=\"middle\" font-size=\"18px\" font-family=\"Arial\">X</text><rect x=\"1841.6913671875002\" y=\"155.0\" width=\"89.1494921875\" height=\"40\" stroke=\"black\" fill=\"white\" stroke-width=\"1\" /><text x=\"1886.2661132812502\" y=\"175.0\" dominant-baseline=\"middle\" text-anchor=\"middle\" font-size=\"14px\" font-family=\"Arial\">Ry(-0.056π)</text><circle cx=\"1970.8408593750003\" cy=\"125.0\" r=\"10.0\" /><rect x=\"1950.8408593750003\" y=\"155.0\" width=\"40\" height=\"40\" stroke=\"black\" fill=\"white\" stroke-width=\"1\" /><text x=\"1970.8408593750003\" y=\"175.0\" dominant-baseline=\"middle\" text-anchor=\"middle\" font-size=\"18px\" font-family=\"Arial\">X</text><rect x=\"2010.840859375\" y=\"155.0\" width=\"84.097734375\" height=\"40\" stroke=\"black\" fill=\"white\" stroke-width=\"1\" /><text x=\"2052.8897265625\" y=\"175.0\" dominant-baseline=\"middle\" text-anchor=\"middle\" font-size=\"14px\" font-family=\"Arial\">Ry(0.069π)</text><circle cx=\"2134.93859375\" cy=\"25.0\" r=\"10.0\" /><rect x=\"2114.93859375\" y=\"155.0\" width=\"40\" height=\"40\" stroke=\"black\" fill=\"white\" stroke-width=\"1\" /><text x=\"2134.93859375\" y=\"175.0\" dominant-baseline=\"middle\" text-anchor=\"middle\" font-size=\"18px\" font-family=\"Arial\">X</text><circle cx=\"2194.93859375\" cy=\"175.0\" r=\"10.0\" /><rect x=\"2174.93859375\" y=\"205.0\" width=\"40\" height=\"40\" stroke=\"black\" fill=\"white\" stroke-width=\"1\" /><text x=\"2194.93859375\" y=\"225.0\" dominant-baseline=\"middle\" text-anchor=\"middle\" font-size=\"18px\" font-family=\"Arial\">X</text><rect x=\"2234.93859375\" y=\"205.0\" width=\"89.1494921875\" height=\"40\" stroke=\"black\" fill=\"white\" stroke-width=\"1\" /><text x=\"2279.51333984375\" y=\"225.0\" dominant-baseline=\"middle\" text-anchor=\"middle\" font-size=\"14px\" font-family=\"Arial\">Ry(-0.016π)</text><circle cx=\"2364.0880859375\" cy=\"125.0\" r=\"10.0\" /><rect x=\"2344.0880859375\" y=\"205.0\" width=\"40\" height=\"40\" stroke=\"black\" fill=\"white\" stroke-width=\"1\" /><text x=\"2364.0880859375\" y=\"225.0\" dominant-baseline=\"middle\" text-anchor=\"middle\" font-size=\"18px\" font-family=\"Arial\">X</text><rect x=\"2404.0880859375\" y=\"205.0\" width=\"89.1494921875\" height=\"40\" stroke=\"black\" fill=\"white\" stroke-width=\"1\" /><text x=\"2448.66283203125\" y=\"225.0\" dominant-baseline=\"middle\" text-anchor=\"middle\" font-size=\"14px\" font-family=\"Arial\">Ry(-0.052π)</text><circle cx=\"2533.2375781250003\" cy=\"175.0\" r=\"10.0\" /><rect x=\"2513.2375781250003\" y=\"205.0\" width=\"40\" height=\"40\" stroke=\"black\" fill=\"white\" stroke-width=\"1\" /><text x=\"2533.2375781250003\" y=\"225.0\" dominant-baseline=\"middle\" text-anchor=\"middle\" font-size=\"18px\" font-family=\"Arial\">X</text><rect x=\"2573.2375781250003\" y=\"205.0\" width=\"89.1494921875\" height=\"40\" stroke=\"black\" fill=\"white\" stroke-width=\"1\" /><text x=\"2617.8123242187503\" y=\"225.0\" dominant-baseline=\"middle\" text-anchor=\"middle\" font-size=\"14px\" font-family=\"Arial\">Ry(-0.037π)</text><circle cx=\"2702.3870703125003\" cy=\"75.0\" r=\"10.0\" /><rect x=\"2682.3870703125003\" y=\"205.0\" width=\"40\" height=\"40\" stroke=\"black\" fill=\"white\" stroke-width=\"1\" /><text x=\"2702.3870703125003\" y=\"225.0\" dominant-baseline=\"middle\" text-anchor=\"middle\" font-size=\"18px\" font-family=\"Arial\">X</text><rect x=\"2742.3870703125003\" y=\"205.0\" width=\"89.1494921875\" height=\"40\" stroke=\"black\" fill=\"white\" stroke-width=\"1\" /><text x=\"2786.9618164062504\" y=\"225.0\" dominant-baseline=\"middle\" text-anchor=\"middle\" font-size=\"14px\" font-family=\"Arial\">Ry(-0.006π)</text><circle cx=\"2871.5365625000004\" cy=\"175.0\" r=\"10.0\" /><rect x=\"2851.5365625000004\" y=\"205.0\" width=\"40\" height=\"40\" stroke=\"black\" fill=\"white\" stroke-width=\"1\" /><text x=\"2871.5365625000004\" y=\"225.0\" dominant-baseline=\"middle\" text-anchor=\"middle\" font-size=\"18px\" font-family=\"Arial\">X</text><rect x=\"2911.5365625000004\" y=\"205.0\" width=\"89.1494921875\" height=\"40\" stroke=\"black\" fill=\"white\" stroke-width=\"1\" /><text x=\"2956.1113085937504\" y=\"225.0\" dominant-baseline=\"middle\" text-anchor=\"middle\" font-size=\"14px\" font-family=\"Arial\">Ry(-0.007π)</text><circle cx=\"3040.6860546875005\" cy=\"125.0\" r=\"10.0\" /><rect x=\"3020.6860546875005\" y=\"205.0\" width=\"40\" height=\"40\" stroke=\"black\" fill=\"white\" stroke-width=\"1\" /><text x=\"3040.6860546875005\" y=\"225.0\" dominant-baseline=\"middle\" text-anchor=\"middle\" font-size=\"18px\" font-family=\"Arial\">X</text><rect x=\"3080.6860546875005\" y=\"205.0\" width=\"84.097734375\" height=\"40\" stroke=\"black\" fill=\"white\" stroke-width=\"1\" /><text x=\"3122.7349218750005\" y=\"225.0\" dominant-baseline=\"middle\" text-anchor=\"middle\" font-size=\"14px\" font-family=\"Arial\">Ry(0.006π)</text><circle cx=\"3204.7837890625005\" cy=\"175.0\" r=\"10.0\" /><rect x=\"3184.7837890625005\" y=\"205.0\" width=\"40\" height=\"40\" stroke=\"black\" fill=\"white\" stroke-width=\"1\" /><text x=\"3204.7837890625005\" y=\"225.0\" dominant-baseline=\"middle\" text-anchor=\"middle\" font-size=\"18px\" font-family=\"Arial\">X</text><rect x=\"3244.7837890625005\" y=\"205.0\" width=\"84.097734375\" height=\"40\" stroke=\"black\" fill=\"white\" stroke-width=\"1\" /><text x=\"3286.8326562500006\" y=\"225.0\" dominant-baseline=\"middle\" text-anchor=\"middle\" font-size=\"14px\" font-family=\"Arial\">Ry(0.006π)</text><circle cx=\"3368.8815234375006\" cy=\"25.0\" r=\"10.0\" /><rect x=\"3348.8815234375006\" y=\"205.0\" width=\"40\" height=\"40\" stroke=\"black\" fill=\"white\" stroke-width=\"1\" /><text x=\"3368.8815234375006\" y=\"225.0\" dominant-baseline=\"middle\" text-anchor=\"middle\" font-size=\"18px\" font-family=\"Arial\">X</text><rect x=\"3408.8815234375006\" y=\"205.0\" width=\"89.1494921875\" height=\"40\" stroke=\"black\" fill=\"white\" stroke-width=\"1\" /><text x=\"3453.4562695312507\" y=\"225.0\" dominant-baseline=\"middle\" text-anchor=\"middle\" font-size=\"14px\" font-family=\"Arial\">Ry(-0.127π)</text><circle cx=\"3538.0310156250007\" cy=\"175.0\" r=\"10.0\" /><rect x=\"3518.0310156250007\" y=\"205.0\" width=\"40\" height=\"40\" stroke=\"black\" fill=\"white\" stroke-width=\"1\" /><text x=\"3538.0310156250007\" y=\"225.0\" dominant-baseline=\"middle\" text-anchor=\"middle\" font-size=\"18px\" font-family=\"Arial\">X</text><rect x=\"3578.0310156250007\" y=\"205.0\" width=\"84.097734375\" height=\"40\" stroke=\"black\" fill=\"white\" stroke-width=\"1\" /><text x=\"3620.0798828125007\" y=\"225.0\" dominant-baseline=\"middle\" text-anchor=\"middle\" font-size=\"14px\" font-family=\"Arial\">Ry(0.019π)</text><circle cx=\"3702.1287500000008\" cy=\"125.0\" r=\"10.0\" /><rect x=\"3682.1287500000008\" y=\"205.0\" width=\"40\" height=\"40\" stroke=\"black\" fill=\"white\" stroke-width=\"1\" /><text x=\"3702.1287500000008\" y=\"225.0\" dominant-baseline=\"middle\" text-anchor=\"middle\" font-size=\"18px\" font-family=\"Arial\">X</text><rect x=\"3742.1287500000008\" y=\"205.0\" width=\"84.097734375\" height=\"40\" stroke=\"black\" fill=\"white\" stroke-width=\"1\" /><text x=\"3784.177617187501\" y=\"225.0\" dominant-baseline=\"middle\" text-anchor=\"middle\" font-size=\"14px\" font-family=\"Arial\">Ry(0.076π)</text><circle cx=\"3866.226484375001\" cy=\"175.0\" r=\"10.0\" /><rect x=\"3846.226484375001\" y=\"205.0\" width=\"40\" height=\"40\" stroke=\"black\" fill=\"white\" stroke-width=\"1\" /><text x=\"3866.226484375001\" y=\"225.0\" dominant-baseline=\"middle\" text-anchor=\"middle\" font-size=\"18px\" font-family=\"Arial\">X</text><rect x=\"3906.226484375001\" y=\"205.0\" width=\"84.097734375\" height=\"40\" stroke=\"black\" fill=\"white\" stroke-width=\"1\" /><text x=\"3948.275351562501\" y=\"225.0\" dominant-baseline=\"middle\" text-anchor=\"middle\" font-size=\"14px\" font-family=\"Arial\">Ry(0.041π)</text><circle cx=\"4030.324218750001\" cy=\"75.0\" r=\"10.0\" /><rect x=\"4010.324218750001\" y=\"205.0\" width=\"40\" height=\"40\" stroke=\"black\" fill=\"white\" stroke-width=\"1\" /><text x=\"4030.324218750001\" y=\"225.0\" dominant-baseline=\"middle\" text-anchor=\"middle\" font-size=\"18px\" font-family=\"Arial\">X</text><rect x=\"4070.324218750001\" y=\"205.0\" width=\"84.097734375\" height=\"40\" stroke=\"black\" fill=\"white\" stroke-width=\"1\" /><text x=\"4112.373085937501\" y=\"225.0\" dominant-baseline=\"middle\" text-anchor=\"middle\" font-size=\"14px\" font-family=\"Arial\">Ry(0.009π)</text><circle cx=\"4194.421953125001\" cy=\"175.0\" r=\"10.0\" /><rect x=\"4174.421953125001\" y=\"205.0\" width=\"40\" height=\"40\" stroke=\"black\" fill=\"white\" stroke-width=\"1\" /><text x=\"4194.421953125001\" y=\"225.0\" dominant-baseline=\"middle\" text-anchor=\"middle\" font-size=\"18px\" font-family=\"Arial\">X</text><rect x=\"4234.421953125001\" y=\"205.0\" width=\"89.1494921875\" height=\"40\" stroke=\"black\" fill=\"white\" stroke-width=\"1\" /><text x=\"4278.996699218751\" y=\"225.0\" dominant-baseline=\"middle\" text-anchor=\"middle\" font-size=\"14px\" font-family=\"Arial\">Ry(-0.026π)</text><circle cx=\"4363.571445312501\" cy=\"125.0\" r=\"10.0\" /><rect x=\"4343.571445312501\" y=\"205.0\" width=\"40\" height=\"40\" stroke=\"black\" fill=\"white\" stroke-width=\"1\" /><text x=\"4363.571445312501\" y=\"225.0\" dominant-baseline=\"middle\" text-anchor=\"middle\" font-size=\"18px\" font-family=\"Arial\">X</text><rect x=\"4403.571445312501\" y=\"205.0\" width=\"44.4971484375\" height=\"40\" stroke=\"black\" fill=\"white\" stroke-width=\"1\" /><text x=\"4425.820019531251\" y=\"225.0\" dominant-baseline=\"middle\" text-anchor=\"middle\" font-size=\"14px\" font-family=\"Arial\">Ry(0)</text><circle cx=\"4488.068593750001\" cy=\"175.0\" r=\"10.0\" /><rect x=\"4468.068593750001\" y=\"205.0\" width=\"40\" height=\"40\" stroke=\"black\" fill=\"white\" stroke-width=\"1\" /><text x=\"4488.068593750001\" y=\"225.0\" dominant-baseline=\"middle\" text-anchor=\"middle\" font-size=\"18px\" font-family=\"Arial\">X</text><rect x=\"4528.068593750001\" y=\"205.0\" width=\"75.1905078125\" height=\"40\" stroke=\"black\" fill=\"white\" stroke-width=\"1\" /><text x=\"4565.663847656251\" y=\"225.0\" dominant-baseline=\"middle\" text-anchor=\"middle\" font-size=\"14px\" font-family=\"Arial\">Ry(0.02π)</text><circle cx=\"4643.259101562501\" cy=\"25.0\" r=\"10.0\" /><rect x=\"4623.259101562501\" y=\"205.0\" width=\"40\" height=\"40\" stroke=\"black\" fill=\"white\" stroke-width=\"1\" /><text x=\"4643.259101562501\" y=\"225.0\" dominant-baseline=\"middle\" text-anchor=\"middle\" font-size=\"18px\" font-family=\"Arial\">X</text><circle cx=\"4703.259101562501\" cy=\"225.0\" r=\"10.0\" /><rect x=\"4683.259101562501\" y=\"255.0\" width=\"40\" height=\"40\" stroke=\"black\" fill=\"white\" stroke-width=\"1\" /><text x=\"4703.259101562501\" y=\"275.0\" dominant-baseline=\"middle\" text-anchor=\"middle\" font-size=\"18px\" font-family=\"Arial\">X</text><rect x=\"4743.259101562501\" y=\"255.0\" width=\"84.097734375\" height=\"40\" stroke=\"black\" fill=\"white\" stroke-width=\"1\" /><text x=\"4785.307968750001\" y=\"275.0\" dominant-baseline=\"middle\" text-anchor=\"middle\" font-size=\"14px\" font-family=\"Arial\">Ry(0.258π)</text><circle cx=\"4867.356835937501\" cy=\"175.0\" r=\"10.0\" /><rect x=\"4847.356835937501\" y=\"255.0\" width=\"40\" height=\"40\" stroke=\"black\" fill=\"white\" stroke-width=\"1\" /><text x=\"4867.356835937501\" y=\"275.0\" dominant-baseline=\"middle\" text-anchor=\"middle\" font-size=\"18px\" font-family=\"Arial\">X</text><rect x=\"4907.356835937501\" y=\"255.0\" width=\"89.1494921875\" height=\"40\" stroke=\"black\" fill=\"white\" stroke-width=\"1\" /><text x=\"4951.931582031251\" y=\"275.0\" dominant-baseline=\"middle\" text-anchor=\"middle\" font-size=\"14px\" font-family=\"Arial\">Ry(-0.032π)</text><circle cx=\"5036.506328125001\" cy=\"225.0\" r=\"10.0\" /><rect x=\"5016.506328125001\" y=\"255.0\" width=\"40\" height=\"40\" stroke=\"black\" fill=\"white\" stroke-width=\"1\" /><text x=\"5036.506328125001\" y=\"275.0\" dominant-baseline=\"middle\" text-anchor=\"middle\" font-size=\"18px\" font-family=\"Arial\">X</text><rect x=\"5076.506328125001\" y=\"255.0\" width=\"89.1494921875\" height=\"40\" stroke=\"black\" fill=\"white\" stroke-width=\"1\" /><text x=\"5121.081074218751\" y=\"275.0\" dominant-baseline=\"middle\" text-anchor=\"middle\" font-size=\"14px\" font-family=\"Arial\">Ry(-0.008π)</text><circle cx=\"5205.655820312501\" cy=\"125.0\" r=\"10.0\" /><rect x=\"5185.655820312501\" y=\"255.0\" width=\"40\" height=\"40\" stroke=\"black\" fill=\"white\" stroke-width=\"1\" /><text x=\"5205.655820312501\" y=\"275.0\" dominant-baseline=\"middle\" text-anchor=\"middle\" font-size=\"18px\" font-family=\"Arial\">X</text><rect x=\"5245.655820312501\" y=\"255.0\" width=\"84.097734375\" height=\"40\" stroke=\"black\" fill=\"white\" stroke-width=\"1\" /><text x=\"5287.7046875000015\" y=\"275.0\" dominant-baseline=\"middle\" text-anchor=\"middle\" font-size=\"14px\" font-family=\"Arial\">Ry(0.027π)</text><circle cx=\"5369.7535546875015\" cy=\"225.0\" r=\"10.0\" /><rect x=\"5349.7535546875015\" y=\"255.0\" width=\"40\" height=\"40\" stroke=\"black\" fill=\"white\" stroke-width=\"1\" /><text x=\"5369.7535546875015\" y=\"275.0\" dominant-baseline=\"middle\" text-anchor=\"middle\" font-size=\"18px\" font-family=\"Arial\">X</text><rect x=\"5409.7535546875015\" y=\"255.0\" width=\"84.097734375\" height=\"40\" stroke=\"black\" fill=\"white\" stroke-width=\"1\" /><text x=\"5451.8024218750015\" y=\"275.0\" dominant-baseline=\"middle\" text-anchor=\"middle\" font-size=\"14px\" font-family=\"Arial\">Ry(0.059π)</text><circle cx=\"5533.851289062502\" cy=\"175.0\" r=\"10.0\" /><rect x=\"5513.851289062502\" y=\"255.0\" width=\"40\" height=\"40\" stroke=\"black\" fill=\"white\" stroke-width=\"1\" /><text x=\"5533.851289062502\" y=\"275.0\" dominant-baseline=\"middle\" text-anchor=\"middle\" font-size=\"18px\" font-family=\"Arial\">X</text><rect x=\"5573.851289062502\" y=\"255.0\" width=\"84.097734375\" height=\"40\" stroke=\"black\" fill=\"white\" stroke-width=\"1\" /><text x=\"5615.900156250002\" y=\"275.0\" dominant-baseline=\"middle\" text-anchor=\"middle\" font-size=\"14px\" font-family=\"Arial\">Ry(0.043π)</text><circle cx=\"5697.949023437502\" cy=\"225.0\" r=\"10.0\" /><rect x=\"5677.949023437502\" y=\"255.0\" width=\"40\" height=\"40\" stroke=\"black\" fill=\"white\" stroke-width=\"1\" /><text x=\"5697.949023437502\" y=\"275.0\" dominant-baseline=\"middle\" text-anchor=\"middle\" font-size=\"18px\" font-family=\"Arial\">X</text><rect x=\"5737.949023437502\" y=\"255.0\" width=\"84.097734375\" height=\"40\" stroke=\"black\" fill=\"white\" stroke-width=\"1\" /><text x=\"5779.997890625002\" y=\"275.0\" dominant-baseline=\"middle\" text-anchor=\"middle\" font-size=\"14px\" font-family=\"Arial\">Ry(0.015π)</text><circle cx=\"5862.046757812502\" cy=\"75.0\" r=\"10.0\" /><rect x=\"5842.046757812502\" y=\"255.0\" width=\"40\" height=\"40\" stroke=\"black\" fill=\"white\" stroke-width=\"1\" /><text x=\"5862.046757812502\" y=\"275.0\" dominant-baseline=\"middle\" text-anchor=\"middle\" font-size=\"18px\" font-family=\"Arial\">X</text><rect x=\"5902.046757812502\" y=\"255.0\" width=\"75.1905078125\" height=\"40\" stroke=\"black\" fill=\"white\" stroke-width=\"1\" /><text x=\"5939.642011718752\" y=\"275.0\" dominant-baseline=\"middle\" text-anchor=\"middle\" font-size=\"14px\" font-family=\"Arial\">Ry(0.01π)</text><circle cx=\"6017.237265625002\" cy=\"225.0\" r=\"10.0\" /><rect x=\"5997.237265625002\" y=\"255.0\" width=\"40\" height=\"40\" stroke=\"black\" fill=\"white\" stroke-width=\"1\" /><text x=\"6017.237265625002\" y=\"275.0\" dominant-baseline=\"middle\" text-anchor=\"middle\" font-size=\"18px\" font-family=\"Arial\">X</text><rect x=\"6057.237265625002\" y=\"255.0\" width=\"89.1494921875\" height=\"40\" stroke=\"black\" fill=\"white\" stroke-width=\"1\" /><text x=\"6101.812011718752\" y=\"275.0\" dominant-baseline=\"middle\" text-anchor=\"middle\" font-size=\"14px\" font-family=\"Arial\">Ry(-0.063π)</text><circle cx=\"6186.386757812502\" cy=\"175.0\" r=\"10.0\" /><rect x=\"6166.386757812502\" y=\"255.0\" width=\"40\" height=\"40\" stroke=\"black\" fill=\"white\" stroke-width=\"1\" /><text x=\"6186.386757812502\" y=\"275.0\" dominant-baseline=\"middle\" text-anchor=\"middle\" font-size=\"18px\" font-family=\"Arial\">X</text><rect x=\"6226.386757812502\" y=\"255.0\" width=\"84.097734375\" height=\"40\" stroke=\"black\" fill=\"white\" stroke-width=\"1\" /><text x=\"6268.435625000002\" y=\"275.0\" dominant-baseline=\"middle\" text-anchor=\"middle\" font-size=\"14px\" font-family=\"Arial\">Ry(0.033π)</text><circle cx=\"6350.484492187502\" cy=\"225.0\" r=\"10.0\" /><rect x=\"6330.484492187502\" y=\"255.0\" width=\"40\" height=\"40\" stroke=\"black\" fill=\"white\" stroke-width=\"1\" /><text x=\"6350.484492187502\" y=\"275.0\" dominant-baseline=\"middle\" text-anchor=\"middle\" font-size=\"18px\" font-family=\"Arial\">X</text><rect x=\"6390.484492187502\" y=\"255.0\" width=\"84.097734375\" height=\"40\" stroke=\"black\" fill=\"white\" stroke-width=\"1\" /><text x=\"6432.533359375002\" y=\"275.0\" dominant-baseline=\"middle\" text-anchor=\"middle\" font-size=\"14px\" font-family=\"Arial\">Ry(0.002π)</text><circle cx=\"6514.582226562502\" cy=\"125.0\" r=\"10.0\" /><rect x=\"6494.582226562502\" y=\"255.0\" width=\"40\" height=\"40\" stroke=\"black\" fill=\"white\" stroke-width=\"1\" /><text x=\"6514.582226562502\" y=\"275.0\" dominant-baseline=\"middle\" text-anchor=\"middle\" font-size=\"18px\" font-family=\"Arial\">X</text><rect x=\"6554.582226562502\" y=\"255.0\" width=\"89.1494921875\" height=\"40\" stroke=\"black\" fill=\"white\" stroke-width=\"1\" /><text x=\"6599.156972656252\" y=\"275.0\" dominant-baseline=\"middle\" text-anchor=\"middle\" font-size=\"14px\" font-family=\"Arial\">Ry(-0.007π)</text><circle cx=\"6683.731718750002\" cy=\"225.0\" r=\"10.0\" /><rect x=\"6663.731718750002\" y=\"255.0\" width=\"40\" height=\"40\" stroke=\"black\" fill=\"white\" stroke-width=\"1\" /><text x=\"6683.731718750002\" y=\"275.0\" dominant-baseline=\"middle\" text-anchor=\"middle\" font-size=\"18px\" font-family=\"Arial\">X</text><rect x=\"6723.731718750002\" y=\"255.0\" width=\"80.242265625\" height=\"40\" stroke=\"black\" fill=\"white\" stroke-width=\"1\" /><text x=\"6763.852851562502\" y=\"275.0\" dominant-baseline=\"middle\" text-anchor=\"middle\" font-size=\"14px\" font-family=\"Arial\">Ry(-0.04π)</text><circle cx=\"6843.973984375002\" cy=\"175.0\" r=\"10.0\" /><rect x=\"6823.973984375002\" y=\"255.0\" width=\"40\" height=\"40\" stroke=\"black\" fill=\"white\" stroke-width=\"1\" /><text x=\"6843.973984375002\" y=\"275.0\" dominant-baseline=\"middle\" text-anchor=\"middle\" font-size=\"18px\" font-family=\"Arial\">X</text><rect x=\"6883.973984375002\" y=\"255.0\" width=\"89.1494921875\" height=\"40\" stroke=\"black\" fill=\"white\" stroke-width=\"1\" /><text x=\"6928.548730468752\" y=\"275.0\" dominant-baseline=\"middle\" text-anchor=\"middle\" font-size=\"14px\" font-family=\"Arial\">Ry(-0.036π)</text><circle cx=\"7013.123476562502\" cy=\"225.0\" r=\"10.0\" /><rect x=\"6993.123476562502\" y=\"255.0\" width=\"40\" height=\"40\" stroke=\"black\" fill=\"white\" stroke-width=\"1\" /><text x=\"7013.123476562502\" y=\"275.0\" dominant-baseline=\"middle\" text-anchor=\"middle\" font-size=\"18px\" font-family=\"Arial\">X</text><rect x=\"7053.123476562502\" y=\"255.0\" width=\"89.1494921875\" height=\"40\" stroke=\"black\" fill=\"white\" stroke-width=\"1\" /><text x=\"7097.698222656252\" y=\"275.0\" dominant-baseline=\"middle\" text-anchor=\"middle\" font-size=\"14px\" font-family=\"Arial\">Ry(-0.001π)</text><circle cx=\"7182.272968750002\" cy=\"25.0\" r=\"10.0\" /><rect x=\"7162.272968750002\" y=\"255.0\" width=\"40\" height=\"40\" stroke=\"black\" fill=\"white\" stroke-width=\"1\" /><text x=\"7182.272968750002\" y=\"275.0\" dominant-baseline=\"middle\" text-anchor=\"middle\" font-size=\"18px\" font-family=\"Arial\">X</text><rect x=\"7222.272968750002\" y=\"255.0\" width=\"84.097734375\" height=\"40\" stroke=\"black\" fill=\"white\" stroke-width=\"1\" /><text x=\"7264.321835937502\" y=\"275.0\" dominant-baseline=\"middle\" text-anchor=\"middle\" font-size=\"14px\" font-family=\"Arial\">Ry(0.049π)</text><circle cx=\"7346.370703125002\" cy=\"225.0\" r=\"10.0\" /><rect x=\"7326.370703125002\" y=\"255.0\" width=\"40\" height=\"40\" stroke=\"black\" fill=\"white\" stroke-width=\"1\" /><text x=\"7346.370703125002\" y=\"275.0\" dominant-baseline=\"middle\" text-anchor=\"middle\" font-size=\"18px\" font-family=\"Arial\">X</text><rect x=\"7386.370703125002\" y=\"255.0\" width=\"89.1494921875\" height=\"40\" stroke=\"black\" fill=\"white\" stroke-width=\"1\" /><text x=\"7430.945449218752\" y=\"275.0\" dominant-baseline=\"middle\" text-anchor=\"middle\" font-size=\"14px\" font-family=\"Arial\">Ry(-0.086π)</text><circle cx=\"7515.520195312502\" cy=\"175.0\" r=\"10.0\" /><rect x=\"7495.520195312502\" y=\"255.0\" width=\"40\" height=\"40\" stroke=\"black\" fill=\"white\" stroke-width=\"1\" /><text x=\"7515.520195312502\" y=\"275.0\" dominant-baseline=\"middle\" text-anchor=\"middle\" font-size=\"18px\" font-family=\"Arial\">X</text><rect x=\"7555.520195312502\" y=\"255.0\" width=\"80.242265625\" height=\"40\" stroke=\"black\" fill=\"white\" stroke-width=\"1\" /><text x=\"7595.6413281250025\" y=\"275.0\" dominant-baseline=\"middle\" text-anchor=\"middle\" font-size=\"14px\" font-family=\"Arial\">Ry(-0.01π)</text><circle cx=\"7675.7624609375025\" cy=\"225.0\" r=\"10.0\" /><rect x=\"7655.7624609375025\" y=\"255.0\" width=\"40\" height=\"40\" stroke=\"black\" fill=\"white\" stroke-width=\"1\" /><text x=\"7675.7624609375025\" y=\"275.0\" dominant-baseline=\"middle\" text-anchor=\"middle\" font-size=\"18px\" font-family=\"Arial\">X</text><rect x=\"7715.7624609375025\" y=\"255.0\" width=\"84.097734375\" height=\"40\" stroke=\"black\" fill=\"white\" stroke-width=\"1\" /><text x=\"7757.811328125003\" y=\"275.0\" dominant-baseline=\"middle\" text-anchor=\"middle\" font-size=\"14px\" font-family=\"Arial\">Ry(0.016π)</text><circle cx=\"7839.860195312503\" cy=\"125.0\" r=\"10.0\" /><rect x=\"7819.860195312503\" y=\"255.0\" width=\"40\" height=\"40\" stroke=\"black\" fill=\"white\" stroke-width=\"1\" /><text x=\"7839.860195312503\" y=\"275.0\" dominant-baseline=\"middle\" text-anchor=\"middle\" font-size=\"18px\" font-family=\"Arial\">X</text><rect x=\"7879.860195312503\" y=\"255.0\" width=\"89.1494921875\" height=\"40\" stroke=\"black\" fill=\"white\" stroke-width=\"1\" /><text x=\"7924.434941406253\" y=\"275.0\" dominant-baseline=\"middle\" text-anchor=\"middle\" font-size=\"14px\" font-family=\"Arial\">Ry(-0.039π)</text><circle cx=\"8009.009687500003\" cy=\"225.0\" r=\"10.0\" /><rect x=\"7989.009687500003\" y=\"255.0\" width=\"40\" height=\"40\" stroke=\"black\" fill=\"white\" stroke-width=\"1\" /><text x=\"8009.009687500003\" y=\"275.0\" dominant-baseline=\"middle\" text-anchor=\"middle\" font-size=\"18px\" font-family=\"Arial\">X</text><rect x=\"8049.009687500003\" y=\"255.0\" width=\"89.1494921875\" height=\"40\" stroke=\"black\" fill=\"white\" stroke-width=\"1\" /><text x=\"8093.584433593753\" y=\"275.0\" dominant-baseline=\"middle\" text-anchor=\"middle\" font-size=\"14px\" font-family=\"Arial\">Ry(-0.013π)</text><circle cx=\"8178.159179687503\" cy=\"175.0\" r=\"10.0\" /><rect x=\"8158.159179687503\" y=\"255.0\" width=\"40\" height=\"40\" stroke=\"black\" fill=\"white\" stroke-width=\"1\" /><text x=\"8178.159179687503\" y=\"275.0\" dominant-baseline=\"middle\" text-anchor=\"middle\" font-size=\"18px\" font-family=\"Arial\">X</text><rect x=\"8218.159179687504\" y=\"255.0\" width=\"84.097734375\" height=\"40\" stroke=\"black\" fill=\"white\" stroke-width=\"1\" /><text x=\"8260.208046875003\" y=\"275.0\" dominant-baseline=\"middle\" text-anchor=\"middle\" font-size=\"14px\" font-family=\"Arial\">Ry(0.002π)</text><circle cx=\"8342.256914062504\" cy=\"225.0\" r=\"10.0\" /><rect x=\"8322.256914062504\" y=\"255.0\" width=\"40\" height=\"40\" stroke=\"black\" fill=\"white\" stroke-width=\"1\" /><text x=\"8342.256914062504\" y=\"275.0\" dominant-baseline=\"middle\" text-anchor=\"middle\" font-size=\"18px\" font-family=\"Arial\">X</text><rect x=\"8382.256914062504\" y=\"255.0\" width=\"89.1494921875\" height=\"40\" stroke=\"black\" fill=\"white\" stroke-width=\"1\" /><text x=\"8426.831660156253\" y=\"275.0\" dominant-baseline=\"middle\" text-anchor=\"middle\" font-size=\"14px\" font-family=\"Arial\">Ry(-0.022π)</text><circle cx=\"8511.406406250004\" cy=\"75.0\" r=\"10.0\" /><rect x=\"8491.406406250004\" y=\"255.0\" width=\"40\" height=\"40\" stroke=\"black\" fill=\"white\" stroke-width=\"1\" /><text x=\"8511.406406250004\" y=\"275.0\" dominant-baseline=\"middle\" text-anchor=\"middle\" font-size=\"18px\" font-family=\"Arial\">X</text><rect x=\"8551.406406250004\" y=\"255.0\" width=\"89.1494921875\" height=\"40\" stroke=\"black\" fill=\"white\" stroke-width=\"1\" /><text x=\"8595.981152343753\" y=\"275.0\" dominant-baseline=\"middle\" text-anchor=\"middle\" font-size=\"14px\" font-family=\"Arial\">Ry(-0.001π)</text><circle cx=\"8680.555898437504\" cy=\"225.0\" r=\"10.0\" /><rect x=\"8660.555898437504\" y=\"255.0\" width=\"40\" height=\"40\" stroke=\"black\" fill=\"white\" stroke-width=\"1\" /><text x=\"8680.555898437504\" y=\"275.0\" dominant-baseline=\"middle\" text-anchor=\"middle\" font-size=\"18px\" font-family=\"Arial\">X</text><rect x=\"8720.555898437504\" y=\"255.0\" width=\"89.1494921875\" height=\"40\" stroke=\"black\" fill=\"white\" stroke-width=\"1\" /><text x=\"8765.130644531253\" y=\"275.0\" dominant-baseline=\"middle\" text-anchor=\"middle\" font-size=\"14px\" font-family=\"Arial\">Ry(-0.078π)</text><circle cx=\"8849.705390625004\" cy=\"175.0\" r=\"10.0\" /><rect x=\"8829.705390625004\" y=\"255.0\" width=\"40\" height=\"40\" stroke=\"black\" fill=\"white\" stroke-width=\"1\" /><text x=\"8849.705390625004\" y=\"275.0\" dominant-baseline=\"middle\" text-anchor=\"middle\" font-size=\"18px\" font-family=\"Arial\">X</text><rect x=\"8889.705390625004\" y=\"255.0\" width=\"84.097734375\" height=\"40\" stroke=\"black\" fill=\"white\" stroke-width=\"1\" /><text x=\"8931.754257812503\" y=\"275.0\" dominant-baseline=\"middle\" text-anchor=\"middle\" font-size=\"14px\" font-family=\"Arial\">Ry(0.042π)</text><circle cx=\"9013.803125000004\" cy=\"225.0\" r=\"10.0\" /><rect x=\"8993.803125000004\" y=\"255.0\" width=\"40\" height=\"40\" stroke=\"black\" fill=\"white\" stroke-width=\"1\" /><text x=\"9013.803125000004\" y=\"275.0\" dominant-baseline=\"middle\" text-anchor=\"middle\" font-size=\"18px\" font-family=\"Arial\">X</text><rect x=\"9053.803125000004\" y=\"255.0\" width=\"84.097734375\" height=\"40\" stroke=\"black\" fill=\"white\" stroke-width=\"1\" /><text x=\"9095.851992187503\" y=\"275.0\" dominant-baseline=\"middle\" text-anchor=\"middle\" font-size=\"14px\" font-family=\"Arial\">Ry(0.011π)</text><circle cx=\"9177.900859375004\" cy=\"125.0\" r=\"10.0\" /><rect x=\"9157.900859375004\" y=\"255.0\" width=\"40\" height=\"40\" stroke=\"black\" fill=\"white\" stroke-width=\"1\" /><text x=\"9177.900859375004\" y=\"275.0\" dominant-baseline=\"middle\" text-anchor=\"middle\" font-size=\"18px\" font-family=\"Arial\">X</text><rect x=\"9217.900859375004\" y=\"255.0\" width=\"89.1494921875\" height=\"40\" stroke=\"black\" fill=\"white\" stroke-width=\"1\" /><text x=\"9262.475605468753\" y=\"275.0\" dominant-baseline=\"middle\" text-anchor=\"middle\" font-size=\"14px\" font-family=\"Arial\">Ry(-0.003π)</text><circle cx=\"9347.050351562504\" cy=\"225.0\" r=\"10.0\" /><rect x=\"9327.050351562504\" y=\"255.0\" width=\"40\" height=\"40\" stroke=\"black\" fill=\"white\" stroke-width=\"1\" /><text x=\"9347.050351562504\" y=\"275.0\" dominant-baseline=\"middle\" text-anchor=\"middle\" font-size=\"18px\" font-family=\"Arial\">X</text><rect x=\"9387.050351562504\" y=\"255.0\" width=\"89.1494921875\" height=\"40\" stroke=\"black\" fill=\"white\" stroke-width=\"1\" /><text x=\"9431.625097656253\" y=\"275.0\" dominant-baseline=\"middle\" text-anchor=\"middle\" font-size=\"14px\" font-family=\"Arial\">Ry(-0.038π)</text><circle cx=\"9516.199843750004\" cy=\"175.0\" r=\"10.0\" /><rect x=\"9496.199843750004\" y=\"255.0\" width=\"40\" height=\"40\" stroke=\"black\" fill=\"white\" stroke-width=\"1\" /><text x=\"9516.199843750004\" y=\"275.0\" dominant-baseline=\"middle\" text-anchor=\"middle\" font-size=\"18px\" font-family=\"Arial\">X</text><rect x=\"9556.199843750004\" y=\"255.0\" width=\"80.242265625\" height=\"40\" stroke=\"black\" fill=\"white\" stroke-width=\"1\" /><text x=\"9596.320976562503\" y=\"275.0\" dominant-baseline=\"middle\" text-anchor=\"middle\" font-size=\"14px\" font-family=\"Arial\">Ry(-0.04π)</text><circle cx=\"9676.442109375004\" cy=\"225.0\" r=\"10.0\" /><rect x=\"9656.442109375004\" y=\"255.0\" width=\"40\" height=\"40\" stroke=\"black\" fill=\"white\" stroke-width=\"1\" /><text x=\"9676.442109375004\" y=\"275.0\" dominant-baseline=\"middle\" text-anchor=\"middle\" font-size=\"18px\" font-family=\"Arial\">X</text><rect x=\"9716.442109375004\" y=\"255.0\" width=\"89.1494921875\" height=\"40\" stroke=\"black\" fill=\"white\" stroke-width=\"1\" /><text x=\"9761.016855468753\" y=\"275.0\" dominant-baseline=\"middle\" text-anchor=\"middle\" font-size=\"14px\" font-family=\"Arial\">Ry(-0.012π)</text><circle cx=\"9845.591601562504\" cy=\"25.0\" r=\"10.0\" /><rect x=\"9825.591601562504\" y=\"255.0\" width=\"40\" height=\"40\" stroke=\"black\" fill=\"white\" stroke-width=\"1\" /><text x=\"9845.591601562504\" y=\"275.0\" dominant-baseline=\"middle\" text-anchor=\"middle\" font-size=\"18px\" font-family=\"Arial\">X</text><circle cx=\"9905.591601562504\" cy=\"275.0\" r=\"10.0\" /><rect x=\"9885.591601562504\" y=\"305.0\" width=\"40\" height=\"40\" stroke=\"black\" fill=\"white\" stroke-width=\"1\" /><text x=\"9905.591601562504\" y=\"325.0\" dominant-baseline=\"middle\" text-anchor=\"middle\" font-size=\"18px\" font-family=\"Arial\">X</text><rect x=\"9945.591601562504\" y=\"305.0\" width=\"89.1494921875\" height=\"40\" stroke=\"black\" fill=\"white\" stroke-width=\"1\" /><text x=\"9990.166347656253\" y=\"325.0\" dominant-baseline=\"middle\" text-anchor=\"middle\" font-size=\"14px\" font-family=\"Arial\">Ry(-0.002π)</text><circle cx=\"10074.741093750004\" cy=\"225.0\" r=\"10.0\" /><rect x=\"10054.741093750004\" y=\"305.0\" width=\"40\" height=\"40\" stroke=\"black\" fill=\"white\" stroke-width=\"1\" /><text x=\"10074.741093750004\" y=\"325.0\" dominant-baseline=\"middle\" text-anchor=\"middle\" font-size=\"18px\" font-family=\"Arial\">X</text><rect x=\"10114.741093750004\" y=\"305.0\" width=\"44.4971484375\" height=\"40\" stroke=\"black\" fill=\"white\" stroke-width=\"1\" /><text x=\"10136.989667968754\" y=\"325.0\" dominant-baseline=\"middle\" text-anchor=\"middle\" font-size=\"14px\" font-family=\"Arial\">Ry(0)</text><circle cx=\"10199.238242187505\" cy=\"275.0\" r=\"10.0\" /><rect x=\"10179.238242187505\" y=\"305.0\" width=\"40\" height=\"40\" stroke=\"black\" fill=\"white\" stroke-width=\"1\" /><text x=\"10199.238242187505\" y=\"325.0\" dominant-baseline=\"middle\" text-anchor=\"middle\" font-size=\"18px\" font-family=\"Arial\">X</text><rect x=\"10239.238242187505\" y=\"305.0\" width=\"84.097734375\" height=\"40\" stroke=\"black\" fill=\"white\" stroke-width=\"1\" /><text x=\"10281.287109375004\" y=\"325.0\" dominant-baseline=\"middle\" text-anchor=\"middle\" font-size=\"14px\" font-family=\"Arial\">Ry(0.014π)</text><circle cx=\"10363.335976562505\" cy=\"175.0\" r=\"10.0\" /><rect x=\"10343.335976562505\" y=\"305.0\" width=\"40\" height=\"40\" stroke=\"black\" fill=\"white\" stroke-width=\"1\" /><text x=\"10363.335976562505\" y=\"325.0\" dominant-baseline=\"middle\" text-anchor=\"middle\" font-size=\"18px\" font-family=\"Arial\">X</text><rect x=\"10403.335976562505\" y=\"305.0\" width=\"89.1494921875\" height=\"40\" stroke=\"black\" fill=\"white\" stroke-width=\"1\" /><text x=\"10447.910722656254\" y=\"325.0\" dominant-baseline=\"middle\" text-anchor=\"middle\" font-size=\"14px\" font-family=\"Arial\">Ry(-0.009π)</text><circle cx=\"10532.485468750005\" cy=\"275.0\" r=\"10.0\" /><rect x=\"10512.485468750005\" y=\"305.0\" width=\"40\" height=\"40\" stroke=\"black\" fill=\"white\" stroke-width=\"1\" /><text x=\"10532.485468750005\" y=\"325.0\" dominant-baseline=\"middle\" text-anchor=\"middle\" font-size=\"18px\" font-family=\"Arial\">X</text><rect x=\"10572.485468750005\" y=\"305.0\" width=\"89.1494921875\" height=\"40\" stroke=\"black\" fill=\"white\" stroke-width=\"1\" /><text x=\"10617.060214843754\" y=\"325.0\" dominant-baseline=\"middle\" text-anchor=\"middle\" font-size=\"14px\" font-family=\"Arial\">Ry(-0.002π)</text><circle cx=\"10701.634960937505\" cy=\"225.0\" r=\"10.0\" /><rect x=\"10681.634960937505\" y=\"305.0\" width=\"40\" height=\"40\" stroke=\"black\" fill=\"white\" stroke-width=\"1\" /><text x=\"10701.634960937505\" y=\"325.0\" dominant-baseline=\"middle\" text-anchor=\"middle\" font-size=\"18px\" font-family=\"Arial\">X</text><rect x=\"10741.634960937505\" y=\"305.0\" width=\"84.097734375\" height=\"40\" stroke=\"black\" fill=\"white\" stroke-width=\"1\" /><text x=\"10783.683828125004\" y=\"325.0\" dominant-baseline=\"middle\" text-anchor=\"middle\" font-size=\"14px\" font-family=\"Arial\">Ry(0.011π)</text><circle cx=\"10865.732695312505\" cy=\"275.0\" r=\"10.0\" /><rect x=\"10845.732695312505\" y=\"305.0\" width=\"40\" height=\"40\" stroke=\"black\" fill=\"white\" stroke-width=\"1\" /><text x=\"10865.732695312505\" y=\"325.0\" dominant-baseline=\"middle\" text-anchor=\"middle\" font-size=\"18px\" font-family=\"Arial\">X</text><rect x=\"10905.732695312505\" y=\"305.0\" width=\"84.097734375\" height=\"40\" stroke=\"black\" fill=\"white\" stroke-width=\"1\" /><text x=\"10947.781562500004\" y=\"325.0\" dominant-baseline=\"middle\" text-anchor=\"middle\" font-size=\"14px\" font-family=\"Arial\">Ry(0.007π)</text><circle cx=\"11029.830429687505\" cy=\"125.0\" r=\"10.0\" /><rect x=\"11009.830429687505\" y=\"305.0\" width=\"40\" height=\"40\" stroke=\"black\" fill=\"white\" stroke-width=\"1\" /><text x=\"11029.830429687505\" y=\"325.0\" dominant-baseline=\"middle\" text-anchor=\"middle\" font-size=\"18px\" font-family=\"Arial\">X</text><rect x=\"11069.830429687505\" y=\"305.0\" width=\"89.1494921875\" height=\"40\" stroke=\"black\" fill=\"white\" stroke-width=\"1\" /><text x=\"11114.405175781254\" y=\"325.0\" dominant-baseline=\"middle\" text-anchor=\"middle\" font-size=\"14px\" font-family=\"Arial\">Ry(-0.015π)</text><circle cx=\"11198.979921875005\" cy=\"275.0\" r=\"10.0\" /><rect x=\"11178.979921875005\" y=\"305.0\" width=\"40\" height=\"40\" stroke=\"black\" fill=\"white\" stroke-width=\"1\" /><text x=\"11198.979921875005\" y=\"325.0\" dominant-baseline=\"middle\" text-anchor=\"middle\" font-size=\"18px\" font-family=\"Arial\">X</text><rect x=\"11238.979921875005\" y=\"305.0\" width=\"89.1494921875\" height=\"40\" stroke=\"black\" fill=\"white\" stroke-width=\"1\" /><text x=\"11283.554667968754\" y=\"325.0\" dominant-baseline=\"middle\" text-anchor=\"middle\" font-size=\"14px\" font-family=\"Arial\">Ry(-0.003π)</text><circle cx=\"11368.129414062505\" cy=\"225.0\" r=\"10.0\" /><rect x=\"11348.129414062505\" y=\"305.0\" width=\"40\" height=\"40\" stroke=\"black\" fill=\"white\" stroke-width=\"1\" /><text x=\"11368.129414062505\" y=\"325.0\" dominant-baseline=\"middle\" text-anchor=\"middle\" font-size=\"18px\" font-family=\"Arial\">X</text><rect x=\"11408.129414062505\" y=\"305.0\" width=\"84.097734375\" height=\"40\" stroke=\"black\" fill=\"white\" stroke-width=\"1\" /><text x=\"11450.178281250004\" y=\"325.0\" dominant-baseline=\"middle\" text-anchor=\"middle\" font-size=\"14px\" font-family=\"Arial\">Ry(0.023π)</text><circle cx=\"11532.227148437505\" cy=\"275.0\" r=\"10.0\" /><rect x=\"11512.227148437505\" y=\"305.0\" width=\"40\" height=\"40\" stroke=\"black\" fill=\"white\" stroke-width=\"1\" /><text x=\"11532.227148437505\" y=\"325.0\" dominant-baseline=\"middle\" text-anchor=\"middle\" font-size=\"18px\" font-family=\"Arial\">X</text><rect x=\"11572.227148437505\" y=\"305.0\" width=\"84.097734375\" height=\"40\" stroke=\"black\" fill=\"white\" stroke-width=\"1\" /><text x=\"11614.276015625004\" y=\"325.0\" dominant-baseline=\"middle\" text-anchor=\"middle\" font-size=\"14px\" font-family=\"Arial\">Ry(0.016π)</text><circle cx=\"11696.324882812505\" cy=\"175.0\" r=\"10.0\" /><rect x=\"11676.324882812505\" y=\"305.0\" width=\"40\" height=\"40\" stroke=\"black\" fill=\"white\" stroke-width=\"1\" /><text x=\"11696.324882812505\" y=\"325.0\" dominant-baseline=\"middle\" text-anchor=\"middle\" font-size=\"18px\" font-family=\"Arial\">X</text><rect x=\"11736.324882812505\" y=\"305.0\" width=\"84.097734375\" height=\"40\" stroke=\"black\" fill=\"white\" stroke-width=\"1\" /><text x=\"11778.373750000004\" y=\"325.0\" dominant-baseline=\"middle\" text-anchor=\"middle\" font-size=\"14px\" font-family=\"Arial\">Ry(0.013π)</text><circle cx=\"11860.422617187505\" cy=\"275.0\" r=\"10.0\" /><rect x=\"11840.422617187505\" y=\"305.0\" width=\"40\" height=\"40\" stroke=\"black\" fill=\"white\" stroke-width=\"1\" /><text x=\"11860.422617187505\" y=\"325.0\" dominant-baseline=\"middle\" text-anchor=\"middle\" font-size=\"18px\" font-family=\"Arial\">X</text><rect x=\"11900.422617187505\" y=\"305.0\" width=\"84.097734375\" height=\"40\" stroke=\"black\" fill=\"white\" stroke-width=\"1\" /><text x=\"11942.471484375004\" y=\"325.0\" dominant-baseline=\"middle\" text-anchor=\"middle\" font-size=\"14px\" font-family=\"Arial\">Ry(0.013π)</text><circle cx=\"12024.520351562505\" cy=\"225.0\" r=\"10.0\" /><rect x=\"12004.520351562505\" y=\"305.0\" width=\"40\" height=\"40\" stroke=\"black\" fill=\"white\" stroke-width=\"1\" /><text x=\"12024.520351562505\" y=\"325.0\" dominant-baseline=\"middle\" text-anchor=\"middle\" font-size=\"18px\" font-family=\"Arial\">X</text><rect x=\"12064.520351562505\" y=\"305.0\" width=\"89.1494921875\" height=\"40\" stroke=\"black\" fill=\"white\" stroke-width=\"1\" /><text x=\"12109.095097656254\" y=\"325.0\" dominant-baseline=\"middle\" text-anchor=\"middle\" font-size=\"14px\" font-family=\"Arial\">Ry(-0.014π)</text><circle cx=\"12193.669843750005\" cy=\"275.0\" r=\"10.0\" /><rect x=\"12173.669843750005\" y=\"305.0\" width=\"40\" height=\"40\" stroke=\"black\" fill=\"white\" stroke-width=\"1\" /><text x=\"12193.669843750005\" y=\"325.0\" dominant-baseline=\"middle\" text-anchor=\"middle\" font-size=\"18px\" font-family=\"Arial\">X</text><rect x=\"12233.669843750005\" y=\"305.0\" width=\"89.1494921875\" height=\"40\" stroke=\"black\" fill=\"white\" stroke-width=\"1\" /><text x=\"12278.244589843755\" y=\"325.0\" dominant-baseline=\"middle\" text-anchor=\"middle\" font-size=\"14px\" font-family=\"Arial\">Ry(-0.008π)</text><circle cx=\"12362.819335937505\" cy=\"75.0\" r=\"10.0\" /><rect x=\"12342.819335937505\" y=\"305.0\" width=\"40\" height=\"40\" stroke=\"black\" fill=\"white\" stroke-width=\"1\" /><text x=\"12362.819335937505\" y=\"325.0\" dominant-baseline=\"middle\" text-anchor=\"middle\" font-size=\"18px\" font-family=\"Arial\">X</text><rect x=\"12402.819335937505\" y=\"305.0\" width=\"84.097734375\" height=\"40\" stroke=\"black\" fill=\"white\" stroke-width=\"1\" /><text x=\"12444.868203125005\" y=\"325.0\" dominant-baseline=\"middle\" text-anchor=\"middle\" font-size=\"14px\" font-family=\"Arial\">Ry(0.014π)</text><circle cx=\"12526.917070312506\" cy=\"275.0\" r=\"10.0\" /><rect x=\"12506.917070312506\" y=\"305.0\" width=\"40\" height=\"40\" stroke=\"black\" fill=\"white\" stroke-width=\"1\" /><text x=\"12526.917070312506\" y=\"325.0\" dominant-baseline=\"middle\" text-anchor=\"middle\" font-size=\"18px\" font-family=\"Arial\">X</text><rect x=\"12566.917070312506\" y=\"305.0\" width=\"80.242265625\" height=\"40\" stroke=\"black\" fill=\"white\" stroke-width=\"1\" /><text x=\"12607.038203125005\" y=\"325.0\" dominant-baseline=\"middle\" text-anchor=\"middle\" font-size=\"14px\" font-family=\"Arial\">Ry(-0.03π)</text><circle cx=\"12687.159335937506\" cy=\"225.0\" r=\"10.0\" /><rect x=\"12667.159335937506\" y=\"305.0\" width=\"40\" height=\"40\" stroke=\"black\" fill=\"white\" stroke-width=\"1\" /><text x=\"12687.159335937506\" y=\"325.0\" dominant-baseline=\"middle\" text-anchor=\"middle\" font-size=\"18px\" font-family=\"Arial\">X</text><rect x=\"12727.159335937506\" y=\"305.0\" width=\"89.1494921875\" height=\"40\" stroke=\"black\" fill=\"white\" stroke-width=\"1\" /><text x=\"12771.734082031255\" y=\"325.0\" dominant-baseline=\"middle\" text-anchor=\"middle\" font-size=\"14px\" font-family=\"Arial\">Ry(-0.022π)</text><circle cx=\"12856.308828125006\" cy=\"275.0\" r=\"10.0\" /><rect x=\"12836.308828125006\" y=\"305.0\" width=\"40\" height=\"40\" stroke=\"black\" fill=\"white\" stroke-width=\"1\" /><text x=\"12856.308828125006\" y=\"325.0\" dominant-baseline=\"middle\" text-anchor=\"middle\" font-size=\"18px\" font-family=\"Arial\">X</text><rect x=\"12896.308828125006\" y=\"305.0\" width=\"84.097734375\" height=\"40\" stroke=\"black\" fill=\"white\" stroke-width=\"1\" /><text x=\"12938.357695312505\" y=\"325.0\" dominant-baseline=\"middle\" text-anchor=\"middle\" font-size=\"14px\" font-family=\"Arial\">Ry(0.018π)</text><circle cx=\"13020.406562500006\" cy=\"175.0\" r=\"10.0\" /><rect x=\"13000.406562500006\" y=\"305.0\" width=\"40\" height=\"40\" stroke=\"black\" fill=\"white\" stroke-width=\"1\" /><text x=\"13020.406562500006\" y=\"325.0\" dominant-baseline=\"middle\" text-anchor=\"middle\" font-size=\"18px\" font-family=\"Arial\">X</text><rect x=\"13060.406562500006\" y=\"305.0\" width=\"84.097734375\" height=\"40\" stroke=\"black\" fill=\"white\" stroke-width=\"1\" /><text x=\"13102.455429687505\" y=\"325.0\" dominant-baseline=\"middle\" text-anchor=\"middle\" font-size=\"14px\" font-family=\"Arial\">Ry(0.014π)</text><circle cx=\"13184.504296875006\" cy=\"275.0\" r=\"10.0\" /><rect x=\"13164.504296875006\" y=\"305.0\" width=\"40\" height=\"40\" stroke=\"black\" fill=\"white\" stroke-width=\"1\" /><text x=\"13184.504296875006\" y=\"325.0\" dominant-baseline=\"middle\" text-anchor=\"middle\" font-size=\"18px\" font-family=\"Arial\">X</text><rect x=\"13224.504296875006\" y=\"305.0\" width=\"84.097734375\" height=\"40\" stroke=\"black\" fill=\"white\" stroke-width=\"1\" /><text x=\"13266.553164062505\" y=\"325.0\" dominant-baseline=\"middle\" text-anchor=\"middle\" font-size=\"14px\" font-family=\"Arial\">Ry(0.016π)</text><circle cx=\"13348.602031250006\" cy=\"225.0\" r=\"10.0\" /><rect x=\"13328.602031250006\" y=\"305.0\" width=\"40\" height=\"40\" stroke=\"black\" fill=\"white\" stroke-width=\"1\" /><text x=\"13348.602031250006\" y=\"325.0\" dominant-baseline=\"middle\" text-anchor=\"middle\" font-size=\"18px\" font-family=\"Arial\">X</text><rect x=\"13388.602031250006\" y=\"305.0\" width=\"89.1494921875\" height=\"40\" stroke=\"black\" fill=\"white\" stroke-width=\"1\" /><text x=\"13433.176777343755\" y=\"325.0\" dominant-baseline=\"middle\" text-anchor=\"middle\" font-size=\"14px\" font-family=\"Arial\">Ry(-0.014π)</text><circle cx=\"13517.751523437506\" cy=\"275.0\" r=\"10.0\" /><rect x=\"13497.751523437506\" y=\"305.0\" width=\"40\" height=\"40\" stroke=\"black\" fill=\"white\" stroke-width=\"1\" /><text x=\"13517.751523437506\" y=\"325.0\" dominant-baseline=\"middle\" text-anchor=\"middle\" font-size=\"18px\" font-family=\"Arial\">X</text><rect x=\"13557.751523437506\" y=\"305.0\" width=\"89.1494921875\" height=\"40\" stroke=\"black\" fill=\"white\" stroke-width=\"1\" /><text x=\"13602.326269531255\" y=\"325.0\" dominant-baseline=\"middle\" text-anchor=\"middle\" font-size=\"14px\" font-family=\"Arial\">Ry(-0.022π)</text><circle cx=\"13686.901015625006\" cy=\"125.0\" r=\"10.0\" /><rect x=\"13666.901015625006\" y=\"305.0\" width=\"40\" height=\"40\" stroke=\"black\" fill=\"white\" stroke-width=\"1\" /><text x=\"13686.901015625006\" y=\"325.0\" dominant-baseline=\"middle\" text-anchor=\"middle\" font-size=\"18px\" font-family=\"Arial\">X</text><rect x=\"13726.901015625006\" y=\"305.0\" width=\"89.1494921875\" height=\"40\" stroke=\"black\" fill=\"white\" stroke-width=\"1\" /><text x=\"13771.475761718755\" y=\"325.0\" dominant-baseline=\"middle\" text-anchor=\"middle\" font-size=\"14px\" font-family=\"Arial\">Ry(-0.004π)</text><circle cx=\"13856.050507812506\" cy=\"275.0\" r=\"10.0\" /><rect x=\"13836.050507812506\" y=\"305.0\" width=\"40\" height=\"40\" stroke=\"black\" fill=\"white\" stroke-width=\"1\" /><text x=\"13856.050507812506\" y=\"325.0\" dominant-baseline=\"middle\" text-anchor=\"middle\" font-size=\"18px\" font-family=\"Arial\">X</text><rect x=\"13896.050507812506\" y=\"305.0\" width=\"89.1494921875\" height=\"40\" stroke=\"black\" fill=\"white\" stroke-width=\"1\" /><text x=\"13940.625253906255\" y=\"325.0\" dominant-baseline=\"middle\" text-anchor=\"middle\" font-size=\"14px\" font-family=\"Arial\">Ry(-0.011π)</text><circle cx=\"14025.200000000006\" cy=\"225.0\" r=\"10.0\" /><rect x=\"14005.200000000006\" y=\"305.0\" width=\"40\" height=\"40\" stroke=\"black\" fill=\"white\" stroke-width=\"1\" /><text x=\"14025.200000000006\" y=\"325.0\" dominant-baseline=\"middle\" text-anchor=\"middle\" font-size=\"18px\" font-family=\"Arial\">X</text><rect x=\"14065.200000000006\" y=\"305.0\" width=\"89.1494921875\" height=\"40\" stroke=\"black\" fill=\"white\" stroke-width=\"1\" /><text x=\"14109.774746093755\" y=\"325.0\" dominant-baseline=\"middle\" text-anchor=\"middle\" font-size=\"14px\" font-family=\"Arial\">Ry(-0.003π)</text><circle cx=\"14194.349492187506\" cy=\"275.0\" r=\"10.0\" /><rect x=\"14174.349492187506\" y=\"305.0\" width=\"40\" height=\"40\" stroke=\"black\" fill=\"white\" stroke-width=\"1\" /><text x=\"14194.349492187506\" y=\"325.0\" dominant-baseline=\"middle\" text-anchor=\"middle\" font-size=\"18px\" font-family=\"Arial\">X</text><rect x=\"14234.349492187506\" y=\"305.0\" width=\"89.1494921875\" height=\"40\" stroke=\"black\" fill=\"white\" stroke-width=\"1\" /><text x=\"14278.924238281255\" y=\"325.0\" dominant-baseline=\"middle\" text-anchor=\"middle\" font-size=\"14px\" font-family=\"Arial\">Ry(-0.003π)</text><circle cx=\"14363.498984375006\" cy=\"175.0\" r=\"10.0\" /><rect x=\"14343.498984375006\" y=\"305.0\" width=\"40\" height=\"40\" stroke=\"black\" fill=\"white\" stroke-width=\"1\" /><text x=\"14363.498984375006\" y=\"325.0\" dominant-baseline=\"middle\" text-anchor=\"middle\" font-size=\"18px\" font-family=\"Arial\">X</text><rect x=\"14403.498984375006\" y=\"305.0\" width=\"89.1494921875\" height=\"40\" stroke=\"black\" fill=\"white\" stroke-width=\"1\" /><text x=\"14448.073730468755\" y=\"325.0\" dominant-baseline=\"middle\" text-anchor=\"middle\" font-size=\"14px\" font-family=\"Arial\">Ry(-0.023π)</text><circle cx=\"14532.648476562506\" cy=\"275.0\" r=\"10.0\" /><rect x=\"14512.648476562506\" y=\"305.0\" width=\"40\" height=\"40\" stroke=\"black\" fill=\"white\" stroke-width=\"1\" /><text x=\"14532.648476562506\" y=\"325.0\" dominant-baseline=\"middle\" text-anchor=\"middle\" font-size=\"18px\" font-family=\"Arial\">X</text><rect x=\"14572.648476562506\" y=\"305.0\" width=\"89.1494921875\" height=\"40\" stroke=\"black\" fill=\"white\" stroke-width=\"1\" /><text x=\"14617.223222656256\" y=\"325.0\" dominant-baseline=\"middle\" text-anchor=\"middle\" font-size=\"14px\" font-family=\"Arial\">Ry(-0.014π)</text><circle cx=\"14701.797968750006\" cy=\"225.0\" r=\"10.0\" /><rect x=\"14681.797968750006\" y=\"305.0\" width=\"40\" height=\"40\" stroke=\"black\" fill=\"white\" stroke-width=\"1\" /><text x=\"14701.797968750006\" y=\"325.0\" dominant-baseline=\"middle\" text-anchor=\"middle\" font-size=\"18px\" font-family=\"Arial\">X</text><rect x=\"14741.797968750006\" y=\"305.0\" width=\"84.097734375\" height=\"40\" stroke=\"black\" fill=\"white\" stroke-width=\"1\" /><text x=\"14783.846835937506\" y=\"325.0\" dominant-baseline=\"middle\" text-anchor=\"middle\" font-size=\"14px\" font-family=\"Arial\">Ry(0.023π)</text><circle cx=\"14865.895703125007\" cy=\"275.0\" r=\"10.0\" /><rect x=\"14845.895703125007\" y=\"305.0\" width=\"40\" height=\"40\" stroke=\"black\" fill=\"white\" stroke-width=\"1\" /><text x=\"14865.895703125007\" y=\"325.0\" dominant-baseline=\"middle\" text-anchor=\"middle\" font-size=\"18px\" font-family=\"Arial\">X</text><rect x=\"14905.895703125007\" y=\"305.0\" width=\"75.1905078125\" height=\"40\" stroke=\"black\" fill=\"white\" stroke-width=\"1\" /><text x=\"14943.490957031256\" y=\"325.0\" dominant-baseline=\"middle\" text-anchor=\"middle\" font-size=\"14px\" font-family=\"Arial\">Ry(0.01π)</text><circle cx=\"15021.086210937507\" cy=\"25.0\" r=\"10.0\" /><rect x=\"15001.086210937507\" y=\"305.0\" width=\"40\" height=\"40\" stroke=\"black\" fill=\"white\" stroke-width=\"1\" /><text x=\"15021.086210937507\" y=\"325.0\" dominant-baseline=\"middle\" text-anchor=\"middle\" font-size=\"18px\" font-family=\"Arial\">X</text><rect x=\"15061.086210937507\" y=\"305.0\" width=\"89.1494921875\" height=\"40\" stroke=\"black\" fill=\"white\" stroke-width=\"1\" /><text x=\"15105.660957031256\" y=\"325.0\" dominant-baseline=\"middle\" text-anchor=\"middle\" font-size=\"14px\" font-family=\"Arial\">Ry(-0.017π)</text><circle cx=\"15190.235703125007\" cy=\"275.0\" r=\"10.0\" /><rect x=\"15170.235703125007\" y=\"305.0\" width=\"40\" height=\"40\" stroke=\"black\" fill=\"white\" stroke-width=\"1\" /><text x=\"15190.235703125007\" y=\"325.0\" dominant-baseline=\"middle\" text-anchor=\"middle\" font-size=\"18px\" font-family=\"Arial\">X</text><rect x=\"15230.235703125007\" y=\"305.0\" width=\"80.242265625\" height=\"40\" stroke=\"black\" fill=\"white\" stroke-width=\"1\" /><text x=\"15270.356835937506\" y=\"325.0\" dominant-baseline=\"middle\" text-anchor=\"middle\" font-size=\"14px\" font-family=\"Arial\">Ry(-0.03π)</text><circle cx=\"15350.477968750007\" cy=\"225.0\" r=\"10.0\" /><rect x=\"15330.477968750007\" y=\"305.0\" width=\"40\" height=\"40\" stroke=\"black\" fill=\"white\" stroke-width=\"1\" /><text x=\"15350.477968750007\" y=\"325.0\" dominant-baseline=\"middle\" text-anchor=\"middle\" font-size=\"18px\" font-family=\"Arial\">X</text><rect x=\"15390.477968750007\" y=\"305.0\" width=\"84.097734375\" height=\"40\" stroke=\"black\" fill=\"white\" stroke-width=\"1\" /><text x=\"15432.526835937506\" y=\"325.0\" dominant-baseline=\"middle\" text-anchor=\"middle\" font-size=\"14px\" font-family=\"Arial\">Ry(0.012π)</text><circle cx=\"15514.575703125007\" cy=\"275.0\" r=\"10.0\" /><rect x=\"15494.575703125007\" y=\"305.0\" width=\"40\" height=\"40\" stroke=\"black\" fill=\"white\" stroke-width=\"1\" /><text x=\"15514.575703125007\" y=\"325.0\" dominant-baseline=\"middle\" text-anchor=\"middle\" font-size=\"18px\" font-family=\"Arial\">X</text><rect x=\"15554.575703125007\" y=\"305.0\" width=\"84.097734375\" height=\"40\" stroke=\"black\" fill=\"white\" stroke-width=\"1\" /><text x=\"15596.624570312506\" y=\"325.0\" dominant-baseline=\"middle\" text-anchor=\"middle\" font-size=\"14px\" font-family=\"Arial\">Ry(0.022π)</text><circle cx=\"15678.673437500007\" cy=\"175.0\" r=\"10.0\" /><rect x=\"15658.673437500007\" y=\"305.0\" width=\"40\" height=\"40\" stroke=\"black\" fill=\"white\" stroke-width=\"1\" /><text x=\"15678.673437500007\" y=\"325.0\" dominant-baseline=\"middle\" text-anchor=\"middle\" font-size=\"18px\" font-family=\"Arial\">X</text><rect x=\"15718.673437500007\" y=\"305.0\" width=\"89.1494921875\" height=\"40\" stroke=\"black\" fill=\"white\" stroke-width=\"1\" /><text x=\"15763.248183593756\" y=\"325.0\" dominant-baseline=\"middle\" text-anchor=\"middle\" font-size=\"14px\" font-family=\"Arial\">Ry(-0.021π)</text><circle cx=\"15847.822929687507\" cy=\"275.0\" r=\"10.0\" /><rect x=\"15827.822929687507\" y=\"305.0\" width=\"40\" height=\"40\" stroke=\"black\" fill=\"white\" stroke-width=\"1\" /><text x=\"15847.822929687507\" y=\"325.0\" dominant-baseline=\"middle\" text-anchor=\"middle\" font-size=\"18px\" font-family=\"Arial\">X</text><rect x=\"15887.822929687507\" y=\"305.0\" width=\"89.1494921875\" height=\"40\" stroke=\"black\" fill=\"white\" stroke-width=\"1\" /><text x=\"15932.397675781256\" y=\"325.0\" dominant-baseline=\"middle\" text-anchor=\"middle\" font-size=\"14px\" font-family=\"Arial\">Ry(-0.011π)</text><circle cx=\"16016.972421875007\" cy=\"225.0\" r=\"10.0\" /><rect x=\"15996.972421875007\" y=\"305.0\" width=\"40\" height=\"40\" stroke=\"black\" fill=\"white\" stroke-width=\"1\" /><text x=\"16016.972421875007\" y=\"325.0\" dominant-baseline=\"middle\" text-anchor=\"middle\" font-size=\"18px\" font-family=\"Arial\">X</text><rect x=\"16056.972421875007\" y=\"305.0\" width=\"84.097734375\" height=\"40\" stroke=\"black\" fill=\"white\" stroke-width=\"1\" /><text x=\"16099.021289062506\" y=\"325.0\" dominant-baseline=\"middle\" text-anchor=\"middle\" font-size=\"14px\" font-family=\"Arial\">Ry(0.014π)</text><circle cx=\"16181.070156250007\" cy=\"275.0\" r=\"10.0\" /><rect x=\"16161.070156250007\" y=\"305.0\" width=\"40\" height=\"40\" stroke=\"black\" fill=\"white\" stroke-width=\"1\" /><text x=\"16181.070156250007\" y=\"325.0\" dominant-baseline=\"middle\" text-anchor=\"middle\" font-size=\"18px\" font-family=\"Arial\">X</text><rect x=\"16221.070156250007\" y=\"305.0\" width=\"84.097734375\" height=\"40\" stroke=\"black\" fill=\"white\" stroke-width=\"1\" /><text x=\"16263.119023437506\" y=\"325.0\" dominant-baseline=\"middle\" text-anchor=\"middle\" font-size=\"14px\" font-family=\"Arial\">Ry(0.001π)</text><circle cx=\"16345.167890625007\" cy=\"125.0\" r=\"10.0\" /><rect x=\"16325.167890625007\" y=\"305.0\" width=\"40\" height=\"40\" stroke=\"black\" fill=\"white\" stroke-width=\"1\" /><text x=\"16345.167890625007\" y=\"325.0\" dominant-baseline=\"middle\" text-anchor=\"middle\" font-size=\"18px\" font-family=\"Arial\">X</text><rect x=\"16385.16789062501\" y=\"305.0\" width=\"84.097734375\" height=\"40\" stroke=\"black\" fill=\"white\" stroke-width=\"1\" /><text x=\"16427.216757812508\" y=\"325.0\" dominant-baseline=\"middle\" text-anchor=\"middle\" font-size=\"14px\" font-family=\"Arial\">Ry(0.011π)</text><circle cx=\"16509.265625000007\" cy=\"275.0\" r=\"10.0\" /><rect x=\"16489.265625000007\" y=\"305.0\" width=\"40\" height=\"40\" stroke=\"black\" fill=\"white\" stroke-width=\"1\" /><text x=\"16509.265625000007\" y=\"325.0\" dominant-baseline=\"middle\" text-anchor=\"middle\" font-size=\"18px\" font-family=\"Arial\">X</text><rect x=\"16549.265625000007\" y=\"305.0\" width=\"84.097734375\" height=\"40\" stroke=\"black\" fill=\"white\" stroke-width=\"1\" /><text x=\"16591.314492187506\" y=\"325.0\" dominant-baseline=\"middle\" text-anchor=\"middle\" font-size=\"14px\" font-family=\"Arial\">Ry(0.012π)</text><circle cx=\"16673.363359375006\" cy=\"225.0\" r=\"10.0\" /><rect x=\"16653.363359375006\" y=\"305.0\" width=\"40\" height=\"40\" stroke=\"black\" fill=\"white\" stroke-width=\"1\" /><text x=\"16673.363359375006\" y=\"325.0\" dominant-baseline=\"middle\" text-anchor=\"middle\" font-size=\"18px\" font-family=\"Arial\">X</text><rect x=\"16713.363359375006\" y=\"305.0\" width=\"89.1494921875\" height=\"40\" stroke=\"black\" fill=\"white\" stroke-width=\"1\" /><text x=\"16757.938105468755\" y=\"325.0\" dominant-baseline=\"middle\" text-anchor=\"middle\" font-size=\"14px\" font-family=\"Arial\">Ry(-0.014π)</text><circle cx=\"16842.512851562504\" cy=\"275.0\" r=\"10.0\" /><rect x=\"16822.512851562504\" y=\"305.0\" width=\"40\" height=\"40\" stroke=\"black\" fill=\"white\" stroke-width=\"1\" /><text x=\"16842.512851562504\" y=\"325.0\" dominant-baseline=\"middle\" text-anchor=\"middle\" font-size=\"18px\" font-family=\"Arial\">X</text><rect x=\"16882.512851562504\" y=\"305.0\" width=\"80.242265625\" height=\"40\" stroke=\"black\" fill=\"white\" stroke-width=\"1\" /><text x=\"16922.633984375003\" y=\"325.0\" dominant-baseline=\"middle\" text-anchor=\"middle\" font-size=\"14px\" font-family=\"Arial\">Ry(-0.02π)</text><circle cx=\"17002.755117187502\" cy=\"175.0\" r=\"10.0\" /><rect x=\"16982.755117187502\" y=\"305.0\" width=\"40\" height=\"40\" stroke=\"black\" fill=\"white\" stroke-width=\"1\" /><text x=\"17002.755117187502\" y=\"325.0\" dominant-baseline=\"middle\" text-anchor=\"middle\" font-size=\"18px\" font-family=\"Arial\">X</text><rect x=\"17042.755117187502\" y=\"305.0\" width=\"89.1494921875\" height=\"40\" stroke=\"black\" fill=\"white\" stroke-width=\"1\" /><text x=\"17087.32986328125\" y=\"325.0\" dominant-baseline=\"middle\" text-anchor=\"middle\" font-size=\"14px\" font-family=\"Arial\">Ry(-0.017π)</text><circle cx=\"17171.904609375\" cy=\"275.0\" r=\"10.0\" /><rect x=\"17151.904609375\" y=\"305.0\" width=\"40\" height=\"40\" stroke=\"black\" fill=\"white\" stroke-width=\"1\" /><text x=\"17171.904609375\" y=\"325.0\" dominant-baseline=\"middle\" text-anchor=\"middle\" font-size=\"18px\" font-family=\"Arial\">X</text><rect x=\"17211.904609375\" y=\"305.0\" width=\"89.1494921875\" height=\"40\" stroke=\"black\" fill=\"white\" stroke-width=\"1\" /><text x=\"17256.47935546875\" y=\"325.0\" dominant-baseline=\"middle\" text-anchor=\"middle\" font-size=\"14px\" font-family=\"Arial\">Ry(-0.004π)</text><circle cx=\"17341.0541015625\" cy=\"225.0\" r=\"10.0\" /><rect x=\"17321.0541015625\" y=\"305.0\" width=\"40\" height=\"40\" stroke=\"black\" fill=\"white\" stroke-width=\"1\" /><text x=\"17341.0541015625\" y=\"325.0\" dominant-baseline=\"middle\" text-anchor=\"middle\" font-size=\"18px\" font-family=\"Arial\">X</text><rect x=\"17381.0541015625\" y=\"305.0\" width=\"84.097734375\" height=\"40\" stroke=\"black\" fill=\"white\" stroke-width=\"1\" /><text x=\"17423.102968749998\" y=\"325.0\" dominant-baseline=\"middle\" text-anchor=\"middle\" font-size=\"14px\" font-family=\"Arial\">Ry(0.011π)</text><circle cx=\"17505.151835937497\" cy=\"275.0\" r=\"10.0\" /><rect x=\"17485.151835937497\" y=\"305.0\" width=\"40\" height=\"40\" stroke=\"black\" fill=\"white\" stroke-width=\"1\" /><text x=\"17505.151835937497\" y=\"325.0\" dominant-baseline=\"middle\" text-anchor=\"middle\" font-size=\"18px\" font-family=\"Arial\">X</text><rect x=\"17545.151835937497\" y=\"305.0\" width=\"89.1494921875\" height=\"40\" stroke=\"black\" fill=\"white\" stroke-width=\"1\" /><text x=\"17589.726582031246\" y=\"325.0\" dominant-baseline=\"middle\" text-anchor=\"middle\" font-size=\"14px\" font-family=\"Arial\">Ry(-0.009π)</text><circle cx=\"17674.301328124995\" cy=\"75.0\" r=\"10.0\" /><rect x=\"17654.301328124995\" y=\"305.0\" width=\"40\" height=\"40\" stroke=\"black\" fill=\"white\" stroke-width=\"1\" /><text x=\"17674.301328124995\" y=\"325.0\" dominant-baseline=\"middle\" text-anchor=\"middle\" font-size=\"18px\" font-family=\"Arial\">X</text><rect x=\"17714.301328124995\" y=\"305.0\" width=\"84.097734375\" height=\"40\" stroke=\"black\" fill=\"white\" stroke-width=\"1\" /><text x=\"17756.350195312494\" y=\"325.0\" dominant-baseline=\"middle\" text-anchor=\"middle\" font-size=\"14px\" font-family=\"Arial\">Ry(0.005π)</text><circle cx=\"17838.399062499993\" cy=\"275.0\" r=\"10.0\" /><rect x=\"17818.399062499993\" y=\"305.0\" width=\"40\" height=\"40\" stroke=\"black\" fill=\"white\" stroke-width=\"1\" /><text x=\"17838.399062499993\" y=\"325.0\" dominant-baseline=\"middle\" text-anchor=\"middle\" font-size=\"18px\" font-family=\"Arial\">X</text><rect x=\"17878.399062499993\" y=\"305.0\" width=\"84.097734375\" height=\"40\" stroke=\"black\" fill=\"white\" stroke-width=\"1\" /><text x=\"17920.447929687492\" y=\"325.0\" dominant-baseline=\"middle\" text-anchor=\"middle\" font-size=\"14px\" font-family=\"Arial\">Ry(0.042π)</text><circle cx=\"18002.49679687499\" cy=\"225.0\" r=\"10.0\" /><rect x=\"17982.49679687499\" y=\"305.0\" width=\"40\" height=\"40\" stroke=\"black\" fill=\"white\" stroke-width=\"1\" /><text x=\"18002.49679687499\" y=\"325.0\" dominant-baseline=\"middle\" text-anchor=\"middle\" font-size=\"18px\" font-family=\"Arial\">X</text><rect x=\"18042.49679687499\" y=\"305.0\" width=\"44.4971484375\" height=\"40\" stroke=\"black\" fill=\"white\" stroke-width=\"1\" /><text x=\"18064.74537109374\" y=\"325.0\" dominant-baseline=\"middle\" text-anchor=\"middle\" font-size=\"14px\" font-family=\"Arial\">Ry(0)</text><circle cx=\"18126.99394531249\" cy=\"275.0\" r=\"10.0\" /><rect x=\"18106.99394531249\" y=\"305.0\" width=\"40\" height=\"40\" stroke=\"black\" fill=\"white\" stroke-width=\"1\" /><text x=\"18126.99394531249\" y=\"325.0\" dominant-baseline=\"middle\" text-anchor=\"middle\" font-size=\"18px\" font-family=\"Arial\">X</text><rect x=\"18166.99394531249\" y=\"305.0\" width=\"89.1494921875\" height=\"40\" stroke=\"black\" fill=\"white\" stroke-width=\"1\" /><text x=\"18211.56869140624\" y=\"325.0\" dominant-baseline=\"middle\" text-anchor=\"middle\" font-size=\"14px\" font-family=\"Arial\">Ry(-0.034π)</text><circle cx=\"18296.143437499988\" cy=\"175.0\" r=\"10.0\" /><rect x=\"18276.143437499988\" y=\"305.0\" width=\"40\" height=\"40\" stroke=\"black\" fill=\"white\" stroke-width=\"1\" /><text x=\"18296.143437499988\" y=\"325.0\" dominant-baseline=\"middle\" text-anchor=\"middle\" font-size=\"18px\" font-family=\"Arial\">X</text><rect x=\"18336.143437499988\" y=\"305.0\" width=\"84.097734375\" height=\"40\" stroke=\"black\" fill=\"white\" stroke-width=\"1\" /><text x=\"18378.192304687487\" y=\"325.0\" dominant-baseline=\"middle\" text-anchor=\"middle\" font-size=\"14px\" font-family=\"Arial\">Ry(0.039π)</text><circle cx=\"18460.241171874986\" cy=\"275.0\" r=\"10.0\" /><rect x=\"18440.241171874986\" y=\"305.0\" width=\"40\" height=\"40\" stroke=\"black\" fill=\"white\" stroke-width=\"1\" /><text x=\"18460.241171874986\" y=\"325.0\" dominant-baseline=\"middle\" text-anchor=\"middle\" font-size=\"18px\" font-family=\"Arial\">X</text><rect x=\"18500.241171874986\" y=\"305.0\" width=\"89.1494921875\" height=\"40\" stroke=\"black\" fill=\"white\" stroke-width=\"1\" /><text x=\"18544.815917968735\" y=\"325.0\" dominant-baseline=\"middle\" text-anchor=\"middle\" font-size=\"14px\" font-family=\"Arial\">Ry(-0.013π)</text><circle cx=\"18629.390664062485\" cy=\"225.0\" r=\"10.0\" /><rect x=\"18609.390664062485\" y=\"305.0\" width=\"40\" height=\"40\" stroke=\"black\" fill=\"white\" stroke-width=\"1\" /><text x=\"18629.390664062485\" y=\"325.0\" dominant-baseline=\"middle\" text-anchor=\"middle\" font-size=\"18px\" font-family=\"Arial\">X</text><rect x=\"18669.390664062485\" y=\"305.0\" width=\"89.1494921875\" height=\"40\" stroke=\"black\" fill=\"white\" stroke-width=\"1\" /><text x=\"18713.965410156234\" y=\"325.0\" dominant-baseline=\"middle\" text-anchor=\"middle\" font-size=\"14px\" font-family=\"Arial\">Ry(-0.033π)</text><circle cx=\"18798.540156249983\" cy=\"275.0\" r=\"10.0\" /><rect x=\"18778.540156249983\" y=\"305.0\" width=\"40\" height=\"40\" stroke=\"black\" fill=\"white\" stroke-width=\"1\" /><text x=\"18798.540156249983\" y=\"325.0\" dominant-baseline=\"middle\" text-anchor=\"middle\" font-size=\"18px\" font-family=\"Arial\">X</text><rect x=\"18838.540156249983\" y=\"305.0\" width=\"84.097734375\" height=\"40\" stroke=\"black\" fill=\"white\" stroke-width=\"1\" /><text x=\"18880.589023437482\" y=\"325.0\" dominant-baseline=\"middle\" text-anchor=\"middle\" font-size=\"14px\" font-family=\"Arial\">Ry(0.025π)</text><circle cx=\"18962.63789062498\" cy=\"125.0\" r=\"10.0\" /><rect x=\"18942.63789062498\" y=\"305.0\" width=\"40\" height=\"40\" stroke=\"black\" fill=\"white\" stroke-width=\"1\" /><text x=\"18962.63789062498\" y=\"325.0\" dominant-baseline=\"middle\" text-anchor=\"middle\" font-size=\"18px\" font-family=\"Arial\">X</text><rect x=\"19002.63789062498\" y=\"305.0\" width=\"89.1494921875\" height=\"40\" stroke=\"black\" fill=\"white\" stroke-width=\"1\" /><text x=\"19047.21263671873\" y=\"325.0\" dominant-baseline=\"middle\" text-anchor=\"middle\" font-size=\"14px\" font-family=\"Arial\">Ry(-0.002π)</text><circle cx=\"19131.78738281248\" cy=\"275.0\" r=\"10.0\" /><rect x=\"19111.78738281248\" y=\"305.0\" width=\"40\" height=\"40\" stroke=\"black\" fill=\"white\" stroke-width=\"1\" /><text x=\"19131.78738281248\" y=\"325.0\" dominant-baseline=\"middle\" text-anchor=\"middle\" font-size=\"18px\" font-family=\"Arial\">X</text><rect x=\"19171.78738281248\" y=\"305.0\" width=\"84.097734375\" height=\"40\" stroke=\"black\" fill=\"white\" stroke-width=\"1\" /><text x=\"19213.83624999998\" y=\"325.0\" dominant-baseline=\"middle\" text-anchor=\"middle\" font-size=\"14px\" font-family=\"Arial\">Ry(0.023π)</text><circle cx=\"19295.885117187478\" cy=\"225.0\" r=\"10.0\" /><rect x=\"19275.885117187478\" y=\"305.0\" width=\"40\" height=\"40\" stroke=\"black\" fill=\"white\" stroke-width=\"1\" /><text x=\"19295.885117187478\" y=\"325.0\" dominant-baseline=\"middle\" text-anchor=\"middle\" font-size=\"18px\" font-family=\"Arial\">X</text><rect x=\"19335.885117187478\" y=\"305.0\" width=\"84.097734375\" height=\"40\" stroke=\"black\" fill=\"white\" stroke-width=\"1\" /><text x=\"19377.933984374977\" y=\"325.0\" dominant-baseline=\"middle\" text-anchor=\"middle\" font-size=\"14px\" font-family=\"Arial\">Ry(0.005π)</text><circle cx=\"19459.982851562476\" cy=\"275.0\" r=\"10.0\" /><rect x=\"19439.982851562476\" y=\"305.0\" width=\"40\" height=\"40\" stroke=\"black\" fill=\"white\" stroke-width=\"1\" /><text x=\"19459.982851562476\" y=\"325.0\" dominant-baseline=\"middle\" text-anchor=\"middle\" font-size=\"18px\" font-family=\"Arial\">X</text><rect x=\"19499.982851562476\" y=\"305.0\" width=\"89.1494921875\" height=\"40\" stroke=\"black\" fill=\"white\" stroke-width=\"1\" /><text x=\"19544.557597656225\" y=\"325.0\" dominant-baseline=\"middle\" text-anchor=\"middle\" font-size=\"14px\" font-family=\"Arial\">Ry(-0.014π)</text><circle cx=\"19629.132343749974\" cy=\"175.0\" r=\"10.0\" /><rect x=\"19609.132343749974\" y=\"305.0\" width=\"40\" height=\"40\" stroke=\"black\" fill=\"white\" stroke-width=\"1\" /><text x=\"19629.132343749974\" y=\"325.0\" dominant-baseline=\"middle\" text-anchor=\"middle\" font-size=\"18px\" font-family=\"Arial\">X</text><rect x=\"19669.132343749974\" y=\"305.0\" width=\"84.097734375\" height=\"40\" stroke=\"black\" fill=\"white\" stroke-width=\"1\" /><text x=\"19711.181210937473\" y=\"325.0\" dominant-baseline=\"middle\" text-anchor=\"middle\" font-size=\"14px\" font-family=\"Arial\">Ry(0.007π)</text><circle cx=\"19793.230078124972\" cy=\"275.0\" r=\"10.0\" /><rect x=\"19773.230078124972\" y=\"305.0\" width=\"40\" height=\"40\" stroke=\"black\" fill=\"white\" stroke-width=\"1\" /><text x=\"19793.230078124972\" y=\"325.0\" dominant-baseline=\"middle\" text-anchor=\"middle\" font-size=\"18px\" font-family=\"Arial\">X</text><rect x=\"19833.230078124972\" y=\"305.0\" width=\"84.097734375\" height=\"40\" stroke=\"black\" fill=\"white\" stroke-width=\"1\" /><text x=\"19875.27894531247\" y=\"325.0\" dominant-baseline=\"middle\" text-anchor=\"middle\" font-size=\"14px\" font-family=\"Arial\">Ry(0.015π)</text><circle cx=\"19957.32781249997\" cy=\"225.0\" r=\"10.0\" /><rect x=\"19937.32781249997\" y=\"305.0\" width=\"40\" height=\"40\" stroke=\"black\" fill=\"white\" stroke-width=\"1\" /><text x=\"19957.32781249997\" y=\"325.0\" dominant-baseline=\"middle\" text-anchor=\"middle\" font-size=\"18px\" font-family=\"Arial\">X</text><rect x=\"19997.32781249997\" y=\"305.0\" width=\"44.4971484375\" height=\"40\" stroke=\"black\" fill=\"white\" stroke-width=\"1\" /><text x=\"20019.57638671872\" y=\"325.0\" dominant-baseline=\"middle\" text-anchor=\"middle\" font-size=\"14px\" font-family=\"Arial\">Ry(0)</text><circle cx=\"20081.82496093747\" cy=\"275.0\" r=\"10.0\" /><rect x=\"20061.82496093747\" y=\"305.0\" width=\"40\" height=\"40\" stroke=\"black\" fill=\"white\" stroke-width=\"1\" /><text x=\"20081.82496093747\" y=\"325.0\" dominant-baseline=\"middle\" text-anchor=\"middle\" font-size=\"18px\" font-family=\"Arial\">X</text><rect x=\"20121.82496093747\" y=\"305.0\" width=\"89.1494921875\" height=\"40\" stroke=\"black\" fill=\"white\" stroke-width=\"1\" /><text x=\"20166.399707031218\" y=\"325.0\" dominant-baseline=\"middle\" text-anchor=\"middle\" font-size=\"14px\" font-family=\"Arial\">Ry(-0.004π)</text><circle cx=\"20250.974453124967\" cy=\"25.0\" r=\"10.0\" /><rect x=\"20230.974453124967\" y=\"305.0\" width=\"40\" height=\"40\" stroke=\"black\" fill=\"white\" stroke-width=\"1\" /><text x=\"20250.974453124967\" y=\"325.0\" dominant-baseline=\"middle\" text-anchor=\"middle\" font-size=\"18px\" font-family=\"Arial\">X</text><circle cx=\"20310.974453124967\" cy=\"325.0\" r=\"10.0\" /><rect x=\"20290.974453124967\" y=\"355.0\" width=\"40\" height=\"40\" stroke=\"black\" fill=\"white\" stroke-width=\"1\" /><text x=\"20310.974453124967\" y=\"375.0\" dominant-baseline=\"middle\" text-anchor=\"middle\" font-size=\"18px\" font-family=\"Arial\">X</text><rect x=\"20350.974453124967\" y=\"355.0\" width=\"84.097734375\" height=\"40\" stroke=\"black\" fill=\"white\" stroke-width=\"1\" /><text x=\"20393.023320312466\" y=\"375.0\" dominant-baseline=\"middle\" text-anchor=\"middle\" font-size=\"14px\" font-family=\"Arial\">Ry(0.045π)</text><circle cx=\"20475.072187499965\" cy=\"275.0\" r=\"10.0\" /><rect x=\"20455.072187499965\" y=\"355.0\" width=\"40\" height=\"40\" stroke=\"black\" fill=\"white\" stroke-width=\"1\" /><text x=\"20475.072187499965\" y=\"375.0\" dominant-baseline=\"middle\" text-anchor=\"middle\" font-size=\"18px\" font-family=\"Arial\">X</text><rect x=\"20515.072187499965\" y=\"355.0\" width=\"84.097734375\" height=\"40\" stroke=\"black\" fill=\"white\" stroke-width=\"1\" /><text x=\"20557.121054687464\" y=\"375.0\" dominant-baseline=\"middle\" text-anchor=\"middle\" font-size=\"14px\" font-family=\"Arial\">Ry(0.018π)</text><circle cx=\"20639.169921874964\" cy=\"325.0\" r=\"10.0\" /><rect x=\"20619.169921874964\" y=\"355.0\" width=\"40\" height=\"40\" stroke=\"black\" fill=\"white\" stroke-width=\"1\" /><text x=\"20639.169921874964\" y=\"375.0\" dominant-baseline=\"middle\" text-anchor=\"middle\" font-size=\"18px\" font-family=\"Arial\">X</text><rect x=\"20679.169921874964\" y=\"355.0\" width=\"80.242265625\" height=\"40\" stroke=\"black\" fill=\"white\" stroke-width=\"1\" /><text x=\"20719.291054687463\" y=\"375.0\" dominant-baseline=\"middle\" text-anchor=\"middle\" font-size=\"14px\" font-family=\"Arial\">Ry(-0.02π)</text><circle cx=\"20799.412187499962\" cy=\"225.0\" r=\"10.0\" /><rect x=\"20779.412187499962\" y=\"355.0\" width=\"40\" height=\"40\" stroke=\"black\" fill=\"white\" stroke-width=\"1\" /><text x=\"20799.412187499962\" y=\"375.0\" dominant-baseline=\"middle\" text-anchor=\"middle\" font-size=\"18px\" font-family=\"Arial\">X</text><rect x=\"20839.412187499962\" y=\"355.0\" width=\"84.097734375\" height=\"40\" stroke=\"black\" fill=\"white\" stroke-width=\"1\" /><text x=\"20881.46105468746\" y=\"375.0\" dominant-baseline=\"middle\" text-anchor=\"middle\" font-size=\"14px\" font-family=\"Arial\">Ry(0.005π)</text><circle cx=\"20963.50992187496\" cy=\"325.0\" r=\"10.0\" /><rect x=\"20943.50992187496\" y=\"355.0\" width=\"40\" height=\"40\" stroke=\"black\" fill=\"white\" stroke-width=\"1\" /><text x=\"20963.50992187496\" y=\"375.0\" dominant-baseline=\"middle\" text-anchor=\"middle\" font-size=\"18px\" font-family=\"Arial\">X</text><rect x=\"21003.50992187496\" y=\"355.0\" width=\"89.1494921875\" height=\"40\" stroke=\"black\" fill=\"white\" stroke-width=\"1\" /><text x=\"21048.08466796871\" y=\"375.0\" dominant-baseline=\"middle\" text-anchor=\"middle\" font-size=\"14px\" font-family=\"Arial\">Ry(-0.053π)</text><circle cx=\"21132.65941406246\" cy=\"275.0\" r=\"10.0\" /><rect x=\"21112.65941406246\" y=\"355.0\" width=\"40\" height=\"40\" stroke=\"black\" fill=\"white\" stroke-width=\"1\" /><text x=\"21132.65941406246\" y=\"375.0\" dominant-baseline=\"middle\" text-anchor=\"middle\" font-size=\"18px\" font-family=\"Arial\">X</text><rect x=\"21172.65941406246\" y=\"355.0\" width=\"89.1494921875\" height=\"40\" stroke=\"black\" fill=\"white\" stroke-width=\"1\" /><text x=\"21217.234160156208\" y=\"375.0\" dominant-baseline=\"middle\" text-anchor=\"middle\" font-size=\"14px\" font-family=\"Arial\">Ry(-0.023π)</text><circle cx=\"21301.808906249957\" cy=\"325.0\" r=\"10.0\" /><rect x=\"21281.808906249957\" y=\"355.0\" width=\"40\" height=\"40\" stroke=\"black\" fill=\"white\" stroke-width=\"1\" /><text x=\"21301.808906249957\" y=\"375.0\" dominant-baseline=\"middle\" text-anchor=\"middle\" font-size=\"18px\" font-family=\"Arial\">X</text><rect x=\"21341.808906249957\" y=\"355.0\" width=\"84.097734375\" height=\"40\" stroke=\"black\" fill=\"white\" stroke-width=\"1\" /><text x=\"21383.857773437456\" y=\"375.0\" dominant-baseline=\"middle\" text-anchor=\"middle\" font-size=\"14px\" font-family=\"Arial\">Ry(0.028π)</text><circle cx=\"21465.906640624955\" cy=\"175.0\" r=\"10.0\" /><rect x=\"21445.906640624955\" y=\"355.0\" width=\"40\" height=\"40\" stroke=\"black\" fill=\"white\" stroke-width=\"1\" /><text x=\"21465.906640624955\" y=\"375.0\" dominant-baseline=\"middle\" text-anchor=\"middle\" font-size=\"18px\" font-family=\"Arial\">X</text><rect x=\"21505.906640624955\" y=\"355.0\" width=\"89.1494921875\" height=\"40\" stroke=\"black\" fill=\"white\" stroke-width=\"1\" /><text x=\"21550.481386718704\" y=\"375.0\" dominant-baseline=\"middle\" text-anchor=\"middle\" font-size=\"14px\" font-family=\"Arial\">Ry(-0.002π)</text><circle cx=\"21635.056132812453\" cy=\"325.0\" r=\"10.0\" /><rect x=\"21615.056132812453\" y=\"355.0\" width=\"40\" height=\"40\" stroke=\"black\" fill=\"white\" stroke-width=\"1\" /><text x=\"21635.056132812453\" y=\"375.0\" dominant-baseline=\"middle\" text-anchor=\"middle\" font-size=\"18px\" font-family=\"Arial\">X</text><rect x=\"21675.056132812453\" y=\"355.0\" width=\"89.1494921875\" height=\"40\" stroke=\"black\" fill=\"white\" stroke-width=\"1\" /><text x=\"21719.630878906202\" y=\"375.0\" dominant-baseline=\"middle\" text-anchor=\"middle\" font-size=\"14px\" font-family=\"Arial\">Ry(-0.001π)</text><circle cx=\"21804.20562499995\" cy=\"275.0\" r=\"10.0\" /><rect x=\"21784.20562499995\" y=\"355.0\" width=\"40\" height=\"40\" stroke=\"black\" fill=\"white\" stroke-width=\"1\" /><text x=\"21804.20562499995\" y=\"375.0\" dominant-baseline=\"middle\" text-anchor=\"middle\" font-size=\"18px\" font-family=\"Arial\">X</text><rect x=\"21844.20562499995\" y=\"355.0\" width=\"84.097734375\" height=\"40\" stroke=\"black\" fill=\"white\" stroke-width=\"1\" /><text x=\"21886.25449218745\" y=\"375.0\" dominant-baseline=\"middle\" text-anchor=\"middle\" font-size=\"14px\" font-family=\"Arial\">Ry(0.011π)</text><circle cx=\"21968.30335937495\" cy=\"325.0\" r=\"10.0\" /><rect x=\"21948.30335937495\" y=\"355.0\" width=\"40\" height=\"40\" stroke=\"black\" fill=\"white\" stroke-width=\"1\" /><text x=\"21968.30335937495\" y=\"375.0\" dominant-baseline=\"middle\" text-anchor=\"middle\" font-size=\"18px\" font-family=\"Arial\">X</text><rect x=\"22008.30335937495\" y=\"355.0\" width=\"84.097734375\" height=\"40\" stroke=\"black\" fill=\"white\" stroke-width=\"1\" /><text x=\"22050.35222656245\" y=\"375.0\" dominant-baseline=\"middle\" text-anchor=\"middle\" font-size=\"14px\" font-family=\"Arial\">Ry(0.008π)</text><circle cx=\"22132.401093749948\" cy=\"225.0\" r=\"10.0\" /><rect x=\"22112.401093749948\" y=\"355.0\" width=\"40\" height=\"40\" stroke=\"black\" fill=\"white\" stroke-width=\"1\" /><text x=\"22132.401093749948\" y=\"375.0\" dominant-baseline=\"middle\" text-anchor=\"middle\" font-size=\"18px\" font-family=\"Arial\">X</text><rect x=\"22172.401093749948\" y=\"355.0\" width=\"84.097734375\" height=\"40\" stroke=\"black\" fill=\"white\" stroke-width=\"1\" /><text x=\"22214.449960937447\" y=\"375.0\" dominant-baseline=\"middle\" text-anchor=\"middle\" font-size=\"14px\" font-family=\"Arial\">Ry(0.002π)</text><circle cx=\"22296.498828124946\" cy=\"325.0\" r=\"10.0\" /><rect x=\"22276.498828124946\" y=\"355.0\" width=\"40\" height=\"40\" stroke=\"black\" fill=\"white\" stroke-width=\"1\" /><text x=\"22296.498828124946\" y=\"375.0\" dominant-baseline=\"middle\" text-anchor=\"middle\" font-size=\"18px\" font-family=\"Arial\">X</text><rect x=\"22336.498828124946\" y=\"355.0\" width=\"89.1494921875\" height=\"40\" stroke=\"black\" fill=\"white\" stroke-width=\"1\" /><text x=\"22381.073574218695\" y=\"375.0\" dominant-baseline=\"middle\" text-anchor=\"middle\" font-size=\"14px\" font-family=\"Arial\">Ry(-0.001π)</text><circle cx=\"22465.648320312444\" cy=\"275.0\" r=\"10.0\" /><rect x=\"22445.648320312444\" y=\"355.0\" width=\"40\" height=\"40\" stroke=\"black\" fill=\"white\" stroke-width=\"1\" /><text x=\"22465.648320312444\" y=\"375.0\" dominant-baseline=\"middle\" text-anchor=\"middle\" font-size=\"18px\" font-family=\"Arial\">X</text><rect x=\"22505.648320312444\" y=\"355.0\" width=\"89.1494921875\" height=\"40\" stroke=\"black\" fill=\"white\" stroke-width=\"1\" /><text x=\"22550.223066406194\" y=\"375.0\" dominant-baseline=\"middle\" text-anchor=\"middle\" font-size=\"14px\" font-family=\"Arial\">Ry(-0.011π)</text><circle cx=\"22634.797812499943\" cy=\"325.0\" r=\"10.0\" /><rect x=\"22614.797812499943\" y=\"355.0\" width=\"40\" height=\"40\" stroke=\"black\" fill=\"white\" stroke-width=\"1\" /><text x=\"22634.797812499943\" y=\"375.0\" dominant-baseline=\"middle\" text-anchor=\"middle\" font-size=\"18px\" font-family=\"Arial\">X</text><rect x=\"22674.797812499943\" y=\"355.0\" width=\"89.1494921875\" height=\"40\" stroke=\"black\" fill=\"white\" stroke-width=\"1\" /><text x=\"22719.37255859369\" y=\"375.0\" dominant-baseline=\"middle\" text-anchor=\"middle\" font-size=\"14px\" font-family=\"Arial\">Ry(-0.006π)</text><circle cx=\"22803.94730468744\" cy=\"125.0\" r=\"10.0\" /><rect x=\"22783.94730468744\" y=\"355.0\" width=\"40\" height=\"40\" stroke=\"black\" fill=\"white\" stroke-width=\"1\" /><text x=\"22803.94730468744\" y=\"375.0\" dominant-baseline=\"middle\" text-anchor=\"middle\" font-size=\"18px\" font-family=\"Arial\">X</text><rect x=\"22843.94730468744\" y=\"355.0\" width=\"44.4971484375\" height=\"40\" stroke=\"black\" fill=\"white\" stroke-width=\"1\" /><text x=\"22866.19587890619\" y=\"375.0\" dominant-baseline=\"middle\" text-anchor=\"middle\" font-size=\"14px\" font-family=\"Arial\">Ry(0)</text><circle cx=\"22928.44445312494\" cy=\"325.0\" r=\"10.0\" /><rect x=\"22908.44445312494\" y=\"355.0\" width=\"40\" height=\"40\" stroke=\"black\" fill=\"white\" stroke-width=\"1\" /><text x=\"22928.44445312494\" y=\"375.0\" dominant-baseline=\"middle\" text-anchor=\"middle\" font-size=\"18px\" font-family=\"Arial\">X</text><rect x=\"22968.44445312494\" y=\"355.0\" width=\"89.1494921875\" height=\"40\" stroke=\"black\" fill=\"white\" stroke-width=\"1\" /><text x=\"23013.01919921869\" y=\"375.0\" dominant-baseline=\"middle\" text-anchor=\"middle\" font-size=\"14px\" font-family=\"Arial\">Ry(-0.005π)</text><circle cx=\"23097.593945312437\" cy=\"275.0\" r=\"10.0\" /><rect x=\"23077.593945312437\" y=\"355.0\" width=\"40\" height=\"40\" stroke=\"black\" fill=\"white\" stroke-width=\"1\" /><text x=\"23097.593945312437\" y=\"375.0\" dominant-baseline=\"middle\" text-anchor=\"middle\" font-size=\"18px\" font-family=\"Arial\">X</text><rect x=\"23137.593945312437\" y=\"355.0\" width=\"89.1494921875\" height=\"40\" stroke=\"black\" fill=\"white\" stroke-width=\"1\" /><text x=\"23182.168691406187\" y=\"375.0\" dominant-baseline=\"middle\" text-anchor=\"middle\" font-size=\"14px\" font-family=\"Arial\">Ry(-0.002π)</text><circle cx=\"23266.743437499936\" cy=\"325.0\" r=\"10.0\" /><rect x=\"23246.743437499936\" y=\"355.0\" width=\"40\" height=\"40\" stroke=\"black\" fill=\"white\" stroke-width=\"1\" /><text x=\"23266.743437499936\" y=\"375.0\" dominant-baseline=\"middle\" text-anchor=\"middle\" font-size=\"18px\" font-family=\"Arial\">X</text><rect x=\"23306.743437499936\" y=\"355.0\" width=\"89.1494921875\" height=\"40\" stroke=\"black\" fill=\"white\" stroke-width=\"1\" /><text x=\"23351.318183593685\" y=\"375.0\" dominant-baseline=\"middle\" text-anchor=\"middle\" font-size=\"14px\" font-family=\"Arial\">Ry(-0.005π)</text><circle cx=\"23435.892929687434\" cy=\"225.0\" r=\"10.0\" /><rect x=\"23415.892929687434\" y=\"355.0\" width=\"40\" height=\"40\" stroke=\"black\" fill=\"white\" stroke-width=\"1\" /><text x=\"23435.892929687434\" y=\"375.0\" dominant-baseline=\"middle\" text-anchor=\"middle\" font-size=\"18px\" font-family=\"Arial\">X</text><rect x=\"23475.892929687434\" y=\"355.0\" width=\"84.097734375\" height=\"40\" stroke=\"black\" fill=\"white\" stroke-width=\"1\" /><text x=\"23517.941796874933\" y=\"375.0\" dominant-baseline=\"middle\" text-anchor=\"middle\" font-size=\"14px\" font-family=\"Arial\">Ry(0.004π)</text><circle cx=\"23599.990664062432\" cy=\"325.0\" r=\"10.0\" /><rect x=\"23579.990664062432\" y=\"355.0\" width=\"40\" height=\"40\" stroke=\"black\" fill=\"white\" stroke-width=\"1\" /><text x=\"23599.990664062432\" y=\"375.0\" dominant-baseline=\"middle\" text-anchor=\"middle\" font-size=\"18px\" font-family=\"Arial\">X</text><rect x=\"23639.990664062432\" y=\"355.0\" width=\"89.1494921875\" height=\"40\" stroke=\"black\" fill=\"white\" stroke-width=\"1\" /><text x=\"23684.56541015618\" y=\"375.0\" dominant-baseline=\"middle\" text-anchor=\"middle\" font-size=\"14px\" font-family=\"Arial\">Ry(-0.004π)</text><circle cx=\"23769.14015624993\" cy=\"275.0\" r=\"10.0\" /><rect x=\"23749.14015624993\" y=\"355.0\" width=\"40\" height=\"40\" stroke=\"black\" fill=\"white\" stroke-width=\"1\" /><text x=\"23769.14015624993\" y=\"375.0\" dominant-baseline=\"middle\" text-anchor=\"middle\" font-size=\"18px\" font-family=\"Arial\">X</text><rect x=\"23809.14015624993\" y=\"355.0\" width=\"89.1494921875\" height=\"40\" stroke=\"black\" fill=\"white\" stroke-width=\"1\" /><text x=\"23853.71490234368\" y=\"375.0\" dominant-baseline=\"middle\" text-anchor=\"middle\" font-size=\"14px\" font-family=\"Arial\">Ry(-0.003π)</text><circle cx=\"23938.28964843743\" cy=\"325.0\" r=\"10.0\" /><rect x=\"23918.28964843743\" y=\"355.0\" width=\"40\" height=\"40\" stroke=\"black\" fill=\"white\" stroke-width=\"1\" /><text x=\"23938.28964843743\" y=\"375.0\" dominant-baseline=\"middle\" text-anchor=\"middle\" font-size=\"18px\" font-family=\"Arial\">X</text><rect x=\"23978.28964843743\" y=\"355.0\" width=\"84.097734375\" height=\"40\" stroke=\"black\" fill=\"white\" stroke-width=\"1\" /><text x=\"24020.338515624928\" y=\"375.0\" dominant-baseline=\"middle\" text-anchor=\"middle\" font-size=\"14px\" font-family=\"Arial\">Ry(0.014π)</text><circle cx=\"24102.387382812427\" cy=\"175.0\" r=\"10.0\" /><rect x=\"24082.387382812427\" y=\"355.0\" width=\"40\" height=\"40\" stroke=\"black\" fill=\"white\" stroke-width=\"1\" /><text x=\"24102.387382812427\" y=\"375.0\" dominant-baseline=\"middle\" text-anchor=\"middle\" font-size=\"18px\" font-family=\"Arial\">X</text><rect x=\"24142.387382812427\" y=\"355.0\" width=\"84.097734375\" height=\"40\" stroke=\"black\" fill=\"white\" stroke-width=\"1\" /><text x=\"24184.436249999926\" y=\"375.0\" dominant-baseline=\"middle\" text-anchor=\"middle\" font-size=\"14px\" font-family=\"Arial\">Ry(0.008π)</text><circle cx=\"24266.485117187425\" cy=\"325.0\" r=\"10.0\" /><rect x=\"24246.485117187425\" y=\"355.0\" width=\"40\" height=\"40\" stroke=\"black\" fill=\"white\" stroke-width=\"1\" /><text x=\"24266.485117187425\" y=\"375.0\" dominant-baseline=\"middle\" text-anchor=\"middle\" font-size=\"18px\" font-family=\"Arial\">X</text><rect x=\"24306.485117187425\" y=\"355.0\" width=\"44.4971484375\" height=\"40\" stroke=\"black\" fill=\"white\" stroke-width=\"1\" /><text x=\"24328.733691406174\" y=\"375.0\" dominant-baseline=\"middle\" text-anchor=\"middle\" font-size=\"14px\" font-family=\"Arial\">Ry(0)</text><circle cx=\"24390.982265624923\" cy=\"275.0\" r=\"10.0\" /><rect x=\"24370.982265624923\" y=\"355.0\" width=\"40\" height=\"40\" stroke=\"black\" fill=\"white\" stroke-width=\"1\" /><text x=\"24390.982265624923\" y=\"375.0\" dominant-baseline=\"middle\" text-anchor=\"middle\" font-size=\"18px\" font-family=\"Arial\">X</text><rect x=\"24430.982265624923\" y=\"355.0\" width=\"89.1494921875\" height=\"40\" stroke=\"black\" fill=\"white\" stroke-width=\"1\" /><text x=\"24475.557011718673\" y=\"375.0\" dominant-baseline=\"middle\" text-anchor=\"middle\" font-size=\"14px\" font-family=\"Arial\">Ry(-0.009π)</text><circle cx=\"24560.13175781242\" cy=\"325.0\" r=\"10.0\" /><rect x=\"24540.13175781242\" y=\"355.0\" width=\"40\" height=\"40\" stroke=\"black\" fill=\"white\" stroke-width=\"1\" /><text x=\"24560.13175781242\" y=\"375.0\" dominant-baseline=\"middle\" text-anchor=\"middle\" font-size=\"18px\" font-family=\"Arial\">X</text><rect x=\"24600.13175781242\" y=\"355.0\" width=\"84.097734375\" height=\"40\" stroke=\"black\" fill=\"white\" stroke-width=\"1\" /><text x=\"24642.18062499992\" y=\"375.0\" dominant-baseline=\"middle\" text-anchor=\"middle\" font-size=\"14px\" font-family=\"Arial\">Ry(0.003π)</text><circle cx=\"24724.22949218742\" cy=\"225.0\" r=\"10.0\" /><rect x=\"24704.22949218742\" y=\"355.0\" width=\"40\" height=\"40\" stroke=\"black\" fill=\"white\" stroke-width=\"1\" /><text x=\"24724.22949218742\" y=\"375.0\" dominant-baseline=\"middle\" text-anchor=\"middle\" font-size=\"18px\" font-family=\"Arial\">X</text><rect x=\"24764.22949218742\" y=\"355.0\" width=\"80.242265625\" height=\"40\" stroke=\"black\" fill=\"white\" stroke-width=\"1\" /><text x=\"24804.35062499992\" y=\"375.0\" dominant-baseline=\"middle\" text-anchor=\"middle\" font-size=\"14px\" font-family=\"Arial\">Ry(-0.01π)</text><circle cx=\"24884.47175781242\" cy=\"325.0\" r=\"10.0\" /><rect x=\"24864.47175781242\" y=\"355.0\" width=\"40\" height=\"40\" stroke=\"black\" fill=\"white\" stroke-width=\"1\" /><text x=\"24884.47175781242\" y=\"375.0\" dominant-baseline=\"middle\" text-anchor=\"middle\" font-size=\"18px\" font-family=\"Arial\">X</text><rect x=\"24924.47175781242\" y=\"355.0\" width=\"89.1494921875\" height=\"40\" stroke=\"black\" fill=\"white\" stroke-width=\"1\" /><text x=\"24969.046503906167\" y=\"375.0\" dominant-baseline=\"middle\" text-anchor=\"middle\" font-size=\"14px\" font-family=\"Arial\">Ry(-0.003π)</text><circle cx=\"25053.621249999916\" cy=\"275.0\" r=\"10.0\" /><rect x=\"25033.621249999916\" y=\"355.0\" width=\"40\" height=\"40\" stroke=\"black\" fill=\"white\" stroke-width=\"1\" /><text x=\"25053.621249999916\" y=\"375.0\" dominant-baseline=\"middle\" text-anchor=\"middle\" font-size=\"18px\" font-family=\"Arial\">X</text><rect x=\"25093.621249999916\" y=\"355.0\" width=\"84.097734375\" height=\"40\" stroke=\"black\" fill=\"white\" stroke-width=\"1\" /><text x=\"25135.670117187416\" y=\"375.0\" dominant-baseline=\"middle\" text-anchor=\"middle\" font-size=\"14px\" font-family=\"Arial\">Ry(0.012π)</text><circle cx=\"25217.718984374915\" cy=\"325.0\" r=\"10.0\" /><rect x=\"25197.718984374915\" y=\"355.0\" width=\"40\" height=\"40\" stroke=\"black\" fill=\"white\" stroke-width=\"1\" /><text x=\"25217.718984374915\" y=\"375.0\" dominant-baseline=\"middle\" text-anchor=\"middle\" font-size=\"18px\" font-family=\"Arial\">X</text><rect x=\"25257.718984374915\" y=\"355.0\" width=\"44.4971484375\" height=\"40\" stroke=\"black\" fill=\"white\" stroke-width=\"1\" /><text x=\"25279.967558593664\" y=\"375.0\" dominant-baseline=\"middle\" text-anchor=\"middle\" font-size=\"14px\" font-family=\"Arial\">Ry(0)</text><circle cx=\"25342.216132812413\" cy=\"75.0\" r=\"10.0\" /><rect x=\"25322.216132812413\" y=\"355.0\" width=\"40\" height=\"40\" stroke=\"black\" fill=\"white\" stroke-width=\"1\" /><text x=\"25342.216132812413\" y=\"375.0\" dominant-baseline=\"middle\" text-anchor=\"middle\" font-size=\"18px\" font-family=\"Arial\">X</text><rect x=\"25382.216132812413\" y=\"355.0\" width=\"89.1494921875\" height=\"40\" stroke=\"black\" fill=\"white\" stroke-width=\"1\" /><text x=\"25426.790878906162\" y=\"375.0\" dominant-baseline=\"middle\" text-anchor=\"middle\" font-size=\"14px\" font-family=\"Arial\">Ry(-0.002π)</text><circle cx=\"25511.36562499991\" cy=\"325.0\" r=\"10.0\" /><rect x=\"25491.36562499991\" y=\"355.0\" width=\"40\" height=\"40\" stroke=\"black\" fill=\"white\" stroke-width=\"1\" /><text x=\"25511.36562499991\" y=\"375.0\" dominant-baseline=\"middle\" text-anchor=\"middle\" font-size=\"18px\" font-family=\"Arial\">X</text><rect x=\"25551.36562499991\" y=\"355.0\" width=\"44.4971484375\" height=\"40\" stroke=\"black\" fill=\"white\" stroke-width=\"1\" /><text x=\"25573.61419921866\" y=\"375.0\" dominant-baseline=\"middle\" text-anchor=\"middle\" font-size=\"14px\" font-family=\"Arial\">Ry(0)</text><circle cx=\"25635.86277343741\" cy=\"275.0\" r=\"10.0\" /><rect x=\"25615.86277343741\" y=\"355.0\" width=\"40\" height=\"40\" stroke=\"black\" fill=\"white\" stroke-width=\"1\" /><text x=\"25635.86277343741\" y=\"375.0\" dominant-baseline=\"middle\" text-anchor=\"middle\" font-size=\"18px\" font-family=\"Arial\">X</text><rect x=\"25675.86277343741\" y=\"355.0\" width=\"89.1494921875\" height=\"40\" stroke=\"black\" fill=\"white\" stroke-width=\"1\" /><text x=\"25720.43751953116\" y=\"375.0\" dominant-baseline=\"middle\" text-anchor=\"middle\" font-size=\"14px\" font-family=\"Arial\">Ry(-0.008π)</text><circle cx=\"25805.012265624908\" cy=\"325.0\" r=\"10.0\" /><rect x=\"25785.012265624908\" y=\"355.0\" width=\"40\" height=\"40\" stroke=\"black\" fill=\"white\" stroke-width=\"1\" /><text x=\"25805.012265624908\" y=\"375.0\" dominant-baseline=\"middle\" text-anchor=\"middle\" font-size=\"18px\" font-family=\"Arial\">X</text><rect x=\"25845.012265624908\" y=\"355.0\" width=\"89.1494921875\" height=\"40\" stroke=\"black\" fill=\"white\" stroke-width=\"1\" /><text x=\"25889.587011718657\" y=\"375.0\" dominant-baseline=\"middle\" text-anchor=\"middle\" font-size=\"14px\" font-family=\"Arial\">Ry(-0.008π)</text><circle cx=\"25974.161757812406\" cy=\"225.0\" r=\"10.0\" /><rect x=\"25954.161757812406\" y=\"355.0\" width=\"40\" height=\"40\" stroke=\"black\" fill=\"white\" stroke-width=\"1\" /><text x=\"25974.161757812406\" y=\"375.0\" dominant-baseline=\"middle\" text-anchor=\"middle\" font-size=\"18px\" font-family=\"Arial\">X</text><rect x=\"26014.161757812406\" y=\"355.0\" width=\"89.1494921875\" height=\"40\" stroke=\"black\" fill=\"white\" stroke-width=\"1\" /><text x=\"26058.736503906155\" y=\"375.0\" dominant-baseline=\"middle\" text-anchor=\"middle\" font-size=\"14px\" font-family=\"Arial\">Ry(-0.003π)</text><circle cx=\"26143.311249999904\" cy=\"325.0\" r=\"10.0\" /><rect x=\"26123.311249999904\" y=\"355.0\" width=\"40\" height=\"40\" stroke=\"black\" fill=\"white\" stroke-width=\"1\" /><text x=\"26143.311249999904\" y=\"375.0\" dominant-baseline=\"middle\" text-anchor=\"middle\" font-size=\"18px\" font-family=\"Arial\">X</text><rect x=\"26183.311249999904\" y=\"355.0\" width=\"84.097734375\" height=\"40\" stroke=\"black\" fill=\"white\" stroke-width=\"1\" /><text x=\"26225.360117187403\" y=\"375.0\" dominant-baseline=\"middle\" text-anchor=\"middle\" font-size=\"14px\" font-family=\"Arial\">Ry(0.008π)</text><circle cx=\"26307.408984374903\" cy=\"275.0\" r=\"10.0\" /><rect x=\"26287.408984374903\" y=\"355.0\" width=\"40\" height=\"40\" stroke=\"black\" fill=\"white\" stroke-width=\"1\" /><text x=\"26307.408984374903\" y=\"375.0\" dominant-baseline=\"middle\" text-anchor=\"middle\" font-size=\"18px\" font-family=\"Arial\">X</text><rect x=\"26347.408984374903\" y=\"355.0\" width=\"84.097734375\" height=\"40\" stroke=\"black\" fill=\"white\" stroke-width=\"1\" /><text x=\"26389.4578515624\" y=\"375.0\" dominant-baseline=\"middle\" text-anchor=\"middle\" font-size=\"14px\" font-family=\"Arial\">Ry(0.013π)</text><circle cx=\"26471.5067187499\" cy=\"325.0\" r=\"10.0\" /><rect x=\"26451.5067187499\" y=\"355.0\" width=\"40\" height=\"40\" stroke=\"black\" fill=\"white\" stroke-width=\"1\" /><text x=\"26471.5067187499\" y=\"375.0\" dominant-baseline=\"middle\" text-anchor=\"middle\" font-size=\"18px\" font-family=\"Arial\">X</text><rect x=\"26511.5067187499\" y=\"355.0\" width=\"44.4971484375\" height=\"40\" stroke=\"black\" fill=\"white\" stroke-width=\"1\" /><text x=\"26533.75529296865\" y=\"375.0\" dominant-baseline=\"middle\" text-anchor=\"middle\" font-size=\"14px\" font-family=\"Arial\">Ry(0)</text><circle cx=\"26596.0038671874\" cy=\"175.0\" r=\"10.0\" /><rect x=\"26576.0038671874\" y=\"355.0\" width=\"40\" height=\"40\" stroke=\"black\" fill=\"white\" stroke-width=\"1\" /><text x=\"26596.0038671874\" y=\"375.0\" dominant-baseline=\"middle\" text-anchor=\"middle\" font-size=\"18px\" font-family=\"Arial\">X</text><rect x=\"26636.0038671874\" y=\"355.0\" width=\"84.097734375\" height=\"40\" stroke=\"black\" fill=\"white\" stroke-width=\"1\" /><text x=\"26678.052734374898\" y=\"375.0\" dominant-baseline=\"middle\" text-anchor=\"middle\" font-size=\"14px\" font-family=\"Arial\">Ry(0.003π)</text><circle cx=\"26760.101601562397\" cy=\"325.0\" r=\"10.0\" /><rect x=\"26740.101601562397\" y=\"355.0\" width=\"40\" height=\"40\" stroke=\"black\" fill=\"white\" stroke-width=\"1\" /><text x=\"26760.101601562397\" y=\"375.0\" dominant-baseline=\"middle\" text-anchor=\"middle\" font-size=\"18px\" font-family=\"Arial\">X</text><rect x=\"26800.101601562397\" y=\"355.0\" width=\"44.4971484375\" height=\"40\" stroke=\"black\" fill=\"white\" stroke-width=\"1\" /><text x=\"26822.350175781146\" y=\"375.0\" dominant-baseline=\"middle\" text-anchor=\"middle\" font-size=\"14px\" font-family=\"Arial\">Ry(0)</text><circle cx=\"26884.598749999896\" cy=\"275.0\" r=\"10.0\" /><rect x=\"26864.598749999896\" y=\"355.0\" width=\"40\" height=\"40\" stroke=\"black\" fill=\"white\" stroke-width=\"1\" /><text x=\"26884.598749999896\" y=\"375.0\" dominant-baseline=\"middle\" text-anchor=\"middle\" font-size=\"18px\" font-family=\"Arial\">X</text><rect x=\"26924.598749999896\" y=\"355.0\" width=\"89.1494921875\" height=\"40\" stroke=\"black\" fill=\"white\" stroke-width=\"1\" /><text x=\"26969.173496093645\" y=\"375.0\" dominant-baseline=\"middle\" text-anchor=\"middle\" font-size=\"14px\" font-family=\"Arial\">Ry(-0.011π)</text><circle cx=\"27053.748242187394\" cy=\"325.0\" r=\"10.0\" /><rect x=\"27033.748242187394\" y=\"355.0\" width=\"40\" height=\"40\" stroke=\"black\" fill=\"white\" stroke-width=\"1\" /><text x=\"27053.748242187394\" y=\"375.0\" dominant-baseline=\"middle\" text-anchor=\"middle\" font-size=\"18px\" font-family=\"Arial\">X</text><rect x=\"27093.748242187394\" y=\"355.0\" width=\"89.1494921875\" height=\"40\" stroke=\"black\" fill=\"white\" stroke-width=\"1\" /><text x=\"27138.322988281143\" y=\"375.0\" dominant-baseline=\"middle\" text-anchor=\"middle\" font-size=\"14px\" font-family=\"Arial\">Ry(-0.005π)</text><circle cx=\"27222.897734374892\" cy=\"225.0\" r=\"10.0\" /><rect x=\"27202.897734374892\" y=\"355.0\" width=\"40\" height=\"40\" stroke=\"black\" fill=\"white\" stroke-width=\"1\" /><text x=\"27222.897734374892\" y=\"375.0\" dominant-baseline=\"middle\" text-anchor=\"middle\" font-size=\"18px\" font-family=\"Arial\">X</text><rect x=\"27262.897734374892\" y=\"355.0\" width=\"89.1494921875\" height=\"40\" stroke=\"black\" fill=\"white\" stroke-width=\"1\" /><text x=\"27307.47248046864\" y=\"375.0\" dominant-baseline=\"middle\" text-anchor=\"middle\" font-size=\"14px\" font-family=\"Arial\">Ry(-0.001π)</text><circle cx=\"27392.04722656239\" cy=\"325.0\" r=\"10.0\" /><rect x=\"27372.04722656239\" y=\"355.0\" width=\"40\" height=\"40\" stroke=\"black\" fill=\"white\" stroke-width=\"1\" /><text x=\"27392.04722656239\" y=\"375.0\" dominant-baseline=\"middle\" text-anchor=\"middle\" font-size=\"18px\" font-family=\"Arial\">X</text><rect x=\"27432.04722656239\" y=\"355.0\" width=\"84.097734375\" height=\"40\" stroke=\"black\" fill=\"white\" stroke-width=\"1\" /><text x=\"27474.09609374989\" y=\"375.0\" dominant-baseline=\"middle\" text-anchor=\"middle\" font-size=\"14px\" font-family=\"Arial\">Ry(0.003π)</text><circle cx=\"27556.14496093739\" cy=\"275.0\" r=\"10.0\" /><rect x=\"27536.14496093739\" y=\"355.0\" width=\"40\" height=\"40\" stroke=\"black\" fill=\"white\" stroke-width=\"1\" /><text x=\"27556.14496093739\" y=\"375.0\" dominant-baseline=\"middle\" text-anchor=\"middle\" font-size=\"18px\" font-family=\"Arial\">X</text><rect x=\"27596.14496093739\" y=\"355.0\" width=\"75.1905078125\" height=\"40\" stroke=\"black\" fill=\"white\" stroke-width=\"1\" /><text x=\"27633.740214843638\" y=\"375.0\" dominant-baseline=\"middle\" text-anchor=\"middle\" font-size=\"14px\" font-family=\"Arial\">Ry(0.01π)</text><circle cx=\"27711.335468749887\" cy=\"325.0\" r=\"10.0\" /><rect x=\"27691.335468749887\" y=\"355.0\" width=\"40\" height=\"40\" stroke=\"black\" fill=\"white\" stroke-width=\"1\" /><text x=\"27711.335468749887\" y=\"375.0\" dominant-baseline=\"middle\" text-anchor=\"middle\" font-size=\"18px\" font-family=\"Arial\">X</text><rect x=\"27751.335468749887\" y=\"355.0\" width=\"84.097734375\" height=\"40\" stroke=\"black\" fill=\"white\" stroke-width=\"1\" /><text x=\"27793.384335937386\" y=\"375.0\" dominant-baseline=\"middle\" text-anchor=\"middle\" font-size=\"14px\" font-family=\"Arial\">Ry(0.002π)</text><circle cx=\"27875.433203124885\" cy=\"125.0\" r=\"10.0\" /><rect x=\"27855.433203124885\" y=\"355.0\" width=\"40\" height=\"40\" stroke=\"black\" fill=\"white\" stroke-width=\"1\" /><text x=\"27875.433203124885\" y=\"375.0\" dominant-baseline=\"middle\" text-anchor=\"middle\" font-size=\"18px\" font-family=\"Arial\">X</text><rect x=\"27915.433203124885\" y=\"355.0\" width=\"84.097734375\" height=\"40\" stroke=\"black\" fill=\"white\" stroke-width=\"1\" /><text x=\"27957.482070312384\" y=\"375.0\" dominant-baseline=\"middle\" text-anchor=\"middle\" font-size=\"14px\" font-family=\"Arial\">Ry(0.003π)</text><circle cx=\"28039.530937499883\" cy=\"325.0\" r=\"10.0\" /><rect x=\"28019.530937499883\" y=\"355.0\" width=\"40\" height=\"40\" stroke=\"black\" fill=\"white\" stroke-width=\"1\" /><text x=\"28039.530937499883\" y=\"375.0\" dominant-baseline=\"middle\" text-anchor=\"middle\" font-size=\"18px\" font-family=\"Arial\">X</text><rect x=\"28079.530937499883\" y=\"355.0\" width=\"84.097734375\" height=\"40\" stroke=\"black\" fill=\"white\" stroke-width=\"1\" /><text x=\"28121.579804687382\" y=\"375.0\" dominant-baseline=\"middle\" text-anchor=\"middle\" font-size=\"14px\" font-family=\"Arial\">Ry(0.003π)</text><circle cx=\"28203.62867187488\" cy=\"275.0\" r=\"10.0\" /><rect x=\"28183.62867187488\" y=\"355.0\" width=\"40\" height=\"40\" stroke=\"black\" fill=\"white\" stroke-width=\"1\" /><text x=\"28203.62867187488\" y=\"375.0\" dominant-baseline=\"middle\" text-anchor=\"middle\" font-size=\"18px\" font-family=\"Arial\">X</text><rect x=\"28243.62867187488\" y=\"355.0\" width=\"89.1494921875\" height=\"40\" stroke=\"black\" fill=\"white\" stroke-width=\"1\" /><text x=\"28288.20341796863\" y=\"375.0\" dominant-baseline=\"middle\" text-anchor=\"middle\" font-size=\"14px\" font-family=\"Arial\">Ry(-0.005π)</text><circle cx=\"28372.77816406238\" cy=\"325.0\" r=\"10.0\" /><rect x=\"28352.77816406238\" y=\"355.0\" width=\"40\" height=\"40\" stroke=\"black\" fill=\"white\" stroke-width=\"1\" /><text x=\"28372.77816406238\" y=\"375.0\" dominant-baseline=\"middle\" text-anchor=\"middle\" font-size=\"18px\" font-family=\"Arial\">X</text><rect x=\"28412.77816406238\" y=\"355.0\" width=\"89.1494921875\" height=\"40\" stroke=\"black\" fill=\"white\" stroke-width=\"1\" /><text x=\"28457.35291015613\" y=\"375.0\" dominant-baseline=\"middle\" text-anchor=\"middle\" font-size=\"14px\" font-family=\"Arial\">Ry(-0.013π)</text><circle cx=\"28541.927656249878\" cy=\"225.0\" r=\"10.0\" /><rect x=\"28521.927656249878\" y=\"355.0\" width=\"40\" height=\"40\" stroke=\"black\" fill=\"white\" stroke-width=\"1\" /><text x=\"28541.927656249878\" y=\"375.0\" dominant-baseline=\"middle\" text-anchor=\"middle\" font-size=\"18px\" font-family=\"Arial\">X</text><rect x=\"28581.927656249878\" y=\"355.0\" width=\"89.1494921875\" height=\"40\" stroke=\"black\" fill=\"white\" stroke-width=\"1\" /><text x=\"28626.502402343627\" y=\"375.0\" dominant-baseline=\"middle\" text-anchor=\"middle\" font-size=\"14px\" font-family=\"Arial\">Ry(-0.008π)</text><circle cx=\"28711.077148437376\" cy=\"325.0\" r=\"10.0\" /><rect x=\"28691.077148437376\" y=\"355.0\" width=\"40\" height=\"40\" stroke=\"black\" fill=\"white\" stroke-width=\"1\" /><text x=\"28711.077148437376\" y=\"375.0\" dominant-baseline=\"middle\" text-anchor=\"middle\" font-size=\"18px\" font-family=\"Arial\">X</text><rect x=\"28751.077148437376\" y=\"355.0\" width=\"84.097734375\" height=\"40\" stroke=\"black\" fill=\"white\" stroke-width=\"1\" /><text x=\"28793.126015624875\" y=\"375.0\" dominant-baseline=\"middle\" text-anchor=\"middle\" font-size=\"14px\" font-family=\"Arial\">Ry(0.006π)</text><circle cx=\"28875.174882812375\" cy=\"275.0\" r=\"10.0\" /><rect x=\"28855.174882812375\" y=\"355.0\" width=\"40\" height=\"40\" stroke=\"black\" fill=\"white\" stroke-width=\"1\" /><text x=\"28875.174882812375\" y=\"375.0\" dominant-baseline=\"middle\" text-anchor=\"middle\" font-size=\"18px\" font-family=\"Arial\">X</text><rect x=\"28915.174882812375\" y=\"355.0\" width=\"84.097734375\" height=\"40\" stroke=\"black\" fill=\"white\" stroke-width=\"1\" /><text x=\"28957.223749999874\" y=\"375.0\" dominant-baseline=\"middle\" text-anchor=\"middle\" font-size=\"14px\" font-family=\"Arial\">Ry(0.009π)</text><circle cx=\"29039.272617187373\" cy=\"325.0\" r=\"10.0\" /><rect x=\"29019.272617187373\" y=\"355.0\" width=\"40\" height=\"40\" stroke=\"black\" fill=\"white\" stroke-width=\"1\" /><text x=\"29039.272617187373\" y=\"375.0\" dominant-baseline=\"middle\" text-anchor=\"middle\" font-size=\"18px\" font-family=\"Arial\">X</text><rect x=\"29079.272617187373\" y=\"355.0\" width=\"84.097734375\" height=\"40\" stroke=\"black\" fill=\"white\" stroke-width=\"1\" /><text x=\"29121.321484374872\" y=\"375.0\" dominant-baseline=\"middle\" text-anchor=\"middle\" font-size=\"14px\" font-family=\"Arial\">Ry(0.004π)</text><circle cx=\"29203.37035156237\" cy=\"175.0\" r=\"10.0\" /><rect x=\"29183.37035156237\" y=\"355.0\" width=\"40\" height=\"40\" stroke=\"black\" fill=\"white\" stroke-width=\"1\" /><text x=\"29203.37035156237\" y=\"375.0\" dominant-baseline=\"middle\" text-anchor=\"middle\" font-size=\"18px\" font-family=\"Arial\">X</text><rect x=\"29243.37035156237\" y=\"355.0\" width=\"89.1494921875\" height=\"40\" stroke=\"black\" fill=\"white\" stroke-width=\"1\" /><text x=\"29287.94509765612\" y=\"375.0\" dominant-baseline=\"middle\" text-anchor=\"middle\" font-size=\"14px\" font-family=\"Arial\">Ry(-0.005π)</text><circle cx=\"29372.51984374987\" cy=\"325.0\" r=\"10.0\" /><rect x=\"29352.51984374987\" y=\"355.0\" width=\"40\" height=\"40\" stroke=\"black\" fill=\"white\" stroke-width=\"1\" /><text x=\"29372.51984374987\" y=\"375.0\" dominant-baseline=\"middle\" text-anchor=\"middle\" font-size=\"18px\" font-family=\"Arial\">X</text><rect x=\"29412.51984374987\" y=\"355.0\" width=\"84.097734375\" height=\"40\" stroke=\"black\" fill=\"white\" stroke-width=\"1\" /><text x=\"29454.56871093737\" y=\"375.0\" dominant-baseline=\"middle\" text-anchor=\"middle\" font-size=\"14px\" font-family=\"Arial\">Ry(0.003π)</text><circle cx=\"29536.617578124868\" cy=\"275.0\" r=\"10.0\" /><rect x=\"29516.617578124868\" y=\"355.0\" width=\"40\" height=\"40\" stroke=\"black\" fill=\"white\" stroke-width=\"1\" /><text x=\"29536.617578124868\" y=\"375.0\" dominant-baseline=\"middle\" text-anchor=\"middle\" font-size=\"18px\" font-family=\"Arial\">X</text><rect x=\"29576.617578124868\" y=\"355.0\" width=\"84.097734375\" height=\"40\" stroke=\"black\" fill=\"white\" stroke-width=\"1\" /><text x=\"29618.666445312367\" y=\"375.0\" dominant-baseline=\"middle\" text-anchor=\"middle\" font-size=\"14px\" font-family=\"Arial\">Ry(0.003π)</text><circle cx=\"29700.715312499866\" cy=\"325.0\" r=\"10.0\" /><rect x=\"29680.715312499866\" y=\"355.0\" width=\"40\" height=\"40\" stroke=\"black\" fill=\"white\" stroke-width=\"1\" /><text x=\"29700.715312499866\" y=\"375.0\" dominant-baseline=\"middle\" text-anchor=\"middle\" font-size=\"18px\" font-family=\"Arial\">X</text><rect x=\"29740.715312499866\" y=\"355.0\" width=\"89.1494921875\" height=\"40\" stroke=\"black\" fill=\"white\" stroke-width=\"1\" /><text x=\"29785.290058593615\" y=\"375.0\" dominant-baseline=\"middle\" text-anchor=\"middle\" font-size=\"14px\" font-family=\"Arial\">Ry(-0.002π)</text><circle cx=\"29869.864804687364\" cy=\"225.0\" r=\"10.0\" /><rect x=\"29849.864804687364\" y=\"355.0\" width=\"40\" height=\"40\" stroke=\"black\" fill=\"white\" stroke-width=\"1\" /><text x=\"29869.864804687364\" y=\"375.0\" dominant-baseline=\"middle\" text-anchor=\"middle\" font-size=\"18px\" font-family=\"Arial\">X</text><rect x=\"29909.864804687364\" y=\"355.0\" width=\"84.097734375\" height=\"40\" stroke=\"black\" fill=\"white\" stroke-width=\"1\" /><text x=\"29951.913671874863\" y=\"375.0\" dominant-baseline=\"middle\" text-anchor=\"middle\" font-size=\"14px\" font-family=\"Arial\">Ry(0.006π)</text><circle cx=\"30033.962539062362\" cy=\"325.0\" r=\"10.0\" /><rect x=\"30013.962539062362\" y=\"355.0\" width=\"40\" height=\"40\" stroke=\"black\" fill=\"white\" stroke-width=\"1\" /><text x=\"30033.962539062362\" y=\"375.0\" dominant-baseline=\"middle\" text-anchor=\"middle\" font-size=\"18px\" font-family=\"Arial\">X</text><rect x=\"30073.962539062362\" y=\"355.0\" width=\"89.1494921875\" height=\"40\" stroke=\"black\" fill=\"white\" stroke-width=\"1\" /><text x=\"30118.53728515611\" y=\"375.0\" dominant-baseline=\"middle\" text-anchor=\"middle\" font-size=\"14px\" font-family=\"Arial\">Ry(-0.001π)</text><circle cx=\"30203.11203124986\" cy=\"275.0\" r=\"10.0\" /><rect x=\"30183.11203124986\" y=\"355.0\" width=\"40\" height=\"40\" stroke=\"black\" fill=\"white\" stroke-width=\"1\" /><text x=\"30203.11203124986\" y=\"375.0\" dominant-baseline=\"middle\" text-anchor=\"middle\" font-size=\"18px\" font-family=\"Arial\">X</text><rect x=\"30243.11203124986\" y=\"355.0\" width=\"89.1494921875\" height=\"40\" stroke=\"black\" fill=\"white\" stroke-width=\"1\" /><text x=\"30287.68677734361\" y=\"375.0\" dominant-baseline=\"middle\" text-anchor=\"middle\" font-size=\"14px\" font-family=\"Arial\">Ry(-0.004π)</text><circle cx=\"30372.26152343736\" cy=\"325.0\" r=\"10.0\" /><rect x=\"30352.26152343736\" y=\"355.0\" width=\"40\" height=\"40\" stroke=\"black\" fill=\"white\" stroke-width=\"1\" /><text x=\"30372.26152343736\" y=\"375.0\" dominant-baseline=\"middle\" text-anchor=\"middle\" font-size=\"18px\" font-family=\"Arial\">X</text><rect x=\"30412.26152343736\" y=\"355.0\" width=\"44.4971484375\" height=\"40\" stroke=\"black\" fill=\"white\" stroke-width=\"1\" /><text x=\"30434.510097656108\" y=\"375.0\" dominant-baseline=\"middle\" text-anchor=\"middle\" font-size=\"14px\" font-family=\"Arial\">Ry(0)</text><circle cx=\"30496.758671874857\" cy=\"25.0\" r=\"10.0\" /><rect x=\"30476.758671874857\" y=\"355.0\" width=\"40\" height=\"40\" stroke=\"black\" fill=\"white\" stroke-width=\"1\" /><text x=\"30496.758671874857\" y=\"375.0\" dominant-baseline=\"middle\" text-anchor=\"middle\" font-size=\"18px\" font-family=\"Arial\">X</text><rect x=\"30536.758671874857\" y=\"355.0\" width=\"89.1494921875\" height=\"40\" stroke=\"black\" fill=\"white\" stroke-width=\"1\" /><text x=\"30581.333417968606\" y=\"375.0\" dominant-baseline=\"middle\" text-anchor=\"middle\" font-size=\"14px\" font-family=\"Arial\">Ry(-0.007π)</text><circle cx=\"30665.908164062355\" cy=\"325.0\" r=\"10.0\" /><rect x=\"30645.908164062355\" y=\"355.0\" width=\"40\" height=\"40\" stroke=\"black\" fill=\"white\" stroke-width=\"1\" /><text x=\"30665.908164062355\" y=\"375.0\" dominant-baseline=\"middle\" text-anchor=\"middle\" font-size=\"18px\" font-family=\"Arial\">X</text><rect x=\"30705.908164062355\" y=\"355.0\" width=\"89.1494921875\" height=\"40\" stroke=\"black\" fill=\"white\" stroke-width=\"1\" /><text x=\"30750.482910156104\" y=\"375.0\" dominant-baseline=\"middle\" text-anchor=\"middle\" font-size=\"14px\" font-family=\"Arial\">Ry(-0.026π)</text><circle cx=\"30835.057656249854\" cy=\"275.0\" r=\"10.0\" /><rect x=\"30815.057656249854\" y=\"355.0\" width=\"40\" height=\"40\" stroke=\"black\" fill=\"white\" stroke-width=\"1\" /><text x=\"30835.057656249854\" y=\"375.0\" dominant-baseline=\"middle\" text-anchor=\"middle\" font-size=\"18px\" font-family=\"Arial\">X</text><rect x=\"30875.057656249854\" y=\"355.0\" width=\"89.1494921875\" height=\"40\" stroke=\"black\" fill=\"white\" stroke-width=\"1\" /><text x=\"30919.632402343603\" y=\"375.0\" dominant-baseline=\"middle\" text-anchor=\"middle\" font-size=\"14px\" font-family=\"Arial\">Ry(-0.015π)</text><circle cx=\"31004.207148437352\" cy=\"325.0\" r=\"10.0\" /><rect x=\"30984.207148437352\" y=\"355.0\" width=\"40\" height=\"40\" stroke=\"black\" fill=\"white\" stroke-width=\"1\" /><text x=\"31004.207148437352\" y=\"375.0\" dominant-baseline=\"middle\" text-anchor=\"middle\" font-size=\"18px\" font-family=\"Arial\">X</text><rect x=\"31044.207148437352\" y=\"355.0\" width=\"89.1494921875\" height=\"40\" stroke=\"black\" fill=\"white\" stroke-width=\"1\" /><text x=\"31088.7818945311\" y=\"375.0\" dominant-baseline=\"middle\" text-anchor=\"middle\" font-size=\"14px\" font-family=\"Arial\">Ry(-0.002π)</text><circle cx=\"31173.35664062485\" cy=\"225.0\" r=\"10.0\" /><rect x=\"31153.35664062485\" y=\"355.0\" width=\"40\" height=\"40\" stroke=\"black\" fill=\"white\" stroke-width=\"1\" /><text x=\"31173.35664062485\" y=\"375.0\" dominant-baseline=\"middle\" text-anchor=\"middle\" font-size=\"18px\" font-family=\"Arial\">X</text><rect x=\"31213.35664062485\" y=\"355.0\" width=\"84.097734375\" height=\"40\" stroke=\"black\" fill=\"white\" stroke-width=\"1\" /><text x=\"31255.40550781235\" y=\"375.0\" dominant-baseline=\"middle\" text-anchor=\"middle\" font-size=\"14px\" font-family=\"Arial\">Ry(0.005π)</text><circle cx=\"31337.45437499985\" cy=\"325.0\" r=\"10.0\" /><rect x=\"31317.45437499985\" y=\"355.0\" width=\"40\" height=\"40\" stroke=\"black\" fill=\"white\" stroke-width=\"1\" /><text x=\"31337.45437499985\" y=\"375.0\" dominant-baseline=\"middle\" text-anchor=\"middle\" font-size=\"18px\" font-family=\"Arial\">X</text><rect x=\"31377.45437499985\" y=\"355.0\" width=\"84.097734375\" height=\"40\" stroke=\"black\" fill=\"white\" stroke-width=\"1\" /><text x=\"31419.503242187347\" y=\"375.0\" dominant-baseline=\"middle\" text-anchor=\"middle\" font-size=\"14px\" font-family=\"Arial\">Ry(0.031π)</text><circle cx=\"31501.552109374847\" cy=\"275.0\" r=\"10.0\" /><rect x=\"31481.552109374847\" y=\"355.0\" width=\"40\" height=\"40\" stroke=\"black\" fill=\"white\" stroke-width=\"1\" /><text x=\"31501.552109374847\" y=\"375.0\" dominant-baseline=\"middle\" text-anchor=\"middle\" font-size=\"18px\" font-family=\"Arial\">X</text><rect x=\"31541.552109374847\" y=\"355.0\" width=\"84.097734375\" height=\"40\" stroke=\"black\" fill=\"white\" stroke-width=\"1\" /><text x=\"31583.600976562346\" y=\"375.0\" dominant-baseline=\"middle\" text-anchor=\"middle\" font-size=\"14px\" font-family=\"Arial\">Ry(0.017π)</text><circle cx=\"31665.649843749845\" cy=\"325.0\" r=\"10.0\" /><rect x=\"31645.649843749845\" y=\"355.0\" width=\"40\" height=\"40\" stroke=\"black\" fill=\"white\" stroke-width=\"1\" /><text x=\"31665.649843749845\" y=\"375.0\" dominant-baseline=\"middle\" text-anchor=\"middle\" font-size=\"18px\" font-family=\"Arial\">X</text><rect x=\"31705.649843749845\" y=\"355.0\" width=\"89.1494921875\" height=\"40\" stroke=\"black\" fill=\"white\" stroke-width=\"1\" /><text x=\"31750.224589843594\" y=\"375.0\" dominant-baseline=\"middle\" text-anchor=\"middle\" font-size=\"14px\" font-family=\"Arial\">Ry(-0.003π)</text><circle cx=\"31834.799335937343\" cy=\"175.0\" r=\"10.0\" /><rect x=\"31814.799335937343\" y=\"355.0\" width=\"40\" height=\"40\" stroke=\"black\" fill=\"white\" stroke-width=\"1\" /><text x=\"31834.799335937343\" y=\"375.0\" dominant-baseline=\"middle\" text-anchor=\"middle\" font-size=\"18px\" font-family=\"Arial\">X</text><rect x=\"31874.799335937343\" y=\"355.0\" width=\"89.1494921875\" height=\"40\" stroke=\"black\" fill=\"white\" stroke-width=\"1\" /><text x=\"31919.374082031092\" y=\"375.0\" dominant-baseline=\"middle\" text-anchor=\"middle\" font-size=\"14px\" font-family=\"Arial\">Ry(-0.013π)</text><circle cx=\"32003.94882812484\" cy=\"325.0\" r=\"10.0\" /><rect x=\"31983.94882812484\" y=\"355.0\" width=\"40\" height=\"40\" stroke=\"black\" fill=\"white\" stroke-width=\"1\" /><text x=\"32003.94882812484\" y=\"375.0\" dominant-baseline=\"middle\" text-anchor=\"middle\" font-size=\"18px\" font-family=\"Arial\">X</text><rect x=\"32043.94882812484\" y=\"355.0\" width=\"84.097734375\" height=\"40\" stroke=\"black\" fill=\"white\" stroke-width=\"1\" /><text x=\"32085.99769531234\" y=\"375.0\" dominant-baseline=\"middle\" text-anchor=\"middle\" font-size=\"14px\" font-family=\"Arial\">Ry(0.003π)</text><circle cx=\"32168.04656249984\" cy=\"275.0\" r=\"10.0\" /><rect x=\"32148.04656249984\" y=\"355.0\" width=\"40\" height=\"40\" stroke=\"black\" fill=\"white\" stroke-width=\"1\" /><text x=\"32168.04656249984\" y=\"375.0\" dominant-baseline=\"middle\" text-anchor=\"middle\" font-size=\"18px\" font-family=\"Arial\">X</text><rect x=\"32208.04656249984\" y=\"355.0\" width=\"84.097734375\" height=\"40\" stroke=\"black\" fill=\"white\" stroke-width=\"1\" /><text x=\"32250.09542968734\" y=\"375.0\" dominant-baseline=\"middle\" text-anchor=\"middle\" font-size=\"14px\" font-family=\"Arial\">Ry(0.002π)</text><circle cx=\"32332.144296874838\" cy=\"325.0\" r=\"10.0\" /><rect x=\"32312.144296874838\" y=\"355.0\" width=\"40\" height=\"40\" stroke=\"black\" fill=\"white\" stroke-width=\"1\" /><text x=\"32332.144296874838\" y=\"375.0\" dominant-baseline=\"middle\" text-anchor=\"middle\" font-size=\"18px\" font-family=\"Arial\">X</text><rect x=\"32372.144296874838\" y=\"355.0\" width=\"89.1494921875\" height=\"40\" stroke=\"black\" fill=\"white\" stroke-width=\"1\" /><text x=\"32416.719042968587\" y=\"375.0\" dominant-baseline=\"middle\" text-anchor=\"middle\" font-size=\"14px\" font-family=\"Arial\">Ry(-0.011π)</text><circle cx=\"32501.293789062336\" cy=\"225.0\" r=\"10.0\" /><rect x=\"32481.293789062336\" y=\"355.0\" width=\"40\" height=\"40\" stroke=\"black\" fill=\"white\" stroke-width=\"1\" /><text x=\"32501.293789062336\" y=\"375.0\" dominant-baseline=\"middle\" text-anchor=\"middle\" font-size=\"18px\" font-family=\"Arial\">X</text><rect x=\"32541.293789062336\" y=\"355.0\" width=\"84.097734375\" height=\"40\" stroke=\"black\" fill=\"white\" stroke-width=\"1\" /><text x=\"32583.342656249835\" y=\"375.0\" dominant-baseline=\"middle\" text-anchor=\"middle\" font-size=\"14px\" font-family=\"Arial\">Ry(0.009π)</text><circle cx=\"32665.391523437334\" cy=\"325.0\" r=\"10.0\" /><rect x=\"32645.391523437334\" y=\"355.0\" width=\"40\" height=\"40\" stroke=\"black\" fill=\"white\" stroke-width=\"1\" /><text x=\"32665.391523437334\" y=\"375.0\" dominant-baseline=\"middle\" text-anchor=\"middle\" font-size=\"18px\" font-family=\"Arial\">X</text><rect x=\"32705.391523437334\" y=\"355.0\" width=\"84.097734375\" height=\"40\" stroke=\"black\" fill=\"white\" stroke-width=\"1\" /><text x=\"32747.440390624834\" y=\"375.0\" dominant-baseline=\"middle\" text-anchor=\"middle\" font-size=\"14px\" font-family=\"Arial\">Ry(0.003π)</text><circle cx=\"32829.48925781233\" cy=\"275.0\" r=\"10.0\" /><rect x=\"32809.48925781233\" y=\"355.0\" width=\"40\" height=\"40\" stroke=\"black\" fill=\"white\" stroke-width=\"1\" /><text x=\"32829.48925781233\" y=\"375.0\" dominant-baseline=\"middle\" text-anchor=\"middle\" font-size=\"18px\" font-family=\"Arial\">X</text><rect x=\"32869.48925781233\" y=\"355.0\" width=\"84.097734375\" height=\"40\" stroke=\"black\" fill=\"white\" stroke-width=\"1\" /><text x=\"32911.53812499983\" y=\"375.0\" dominant-baseline=\"middle\" text-anchor=\"middle\" font-size=\"14px\" font-family=\"Arial\">Ry(0.002π)</text><circle cx=\"32993.58699218733\" cy=\"325.0\" r=\"10.0\" /><rect x=\"32973.58699218733\" y=\"355.0\" width=\"40\" height=\"40\" stroke=\"black\" fill=\"white\" stroke-width=\"1\" /><text x=\"32993.58699218733\" y=\"375.0\" dominant-baseline=\"middle\" text-anchor=\"middle\" font-size=\"18px\" font-family=\"Arial\">X</text><rect x=\"33033.58699218733\" y=\"355.0\" width=\"84.097734375\" height=\"40\" stroke=\"black\" fill=\"white\" stroke-width=\"1\" /><text x=\"33075.63585937483\" y=\"375.0\" dominant-baseline=\"middle\" text-anchor=\"middle\" font-size=\"14px\" font-family=\"Arial\">Ry(0.005π)</text><circle cx=\"33157.68472656233\" cy=\"125.0\" r=\"10.0\" /><rect x=\"33137.68472656233\" y=\"355.0\" width=\"40\" height=\"40\" stroke=\"black\" fill=\"white\" stroke-width=\"1\" /><text x=\"33157.68472656233\" y=\"375.0\" dominant-baseline=\"middle\" text-anchor=\"middle\" font-size=\"18px\" font-family=\"Arial\">X</text><rect x=\"33197.68472656233\" y=\"355.0\" width=\"89.1494921875\" height=\"40\" stroke=\"black\" fill=\"white\" stroke-width=\"1\" /><text x=\"33242.25947265608\" y=\"375.0\" dominant-baseline=\"middle\" text-anchor=\"middle\" font-size=\"14px\" font-family=\"Arial\">Ry(-0.003π)</text><circle cx=\"33326.83421874983\" cy=\"325.0\" r=\"10.0\" /><rect x=\"33306.83421874983\" y=\"355.0\" width=\"40\" height=\"40\" stroke=\"black\" fill=\"white\" stroke-width=\"1\" /><text x=\"33326.83421874983\" y=\"375.0\" dominant-baseline=\"middle\" text-anchor=\"middle\" font-size=\"18px\" font-family=\"Arial\">X</text><rect x=\"33366.83421874983\" y=\"355.0\" width=\"75.1905078125\" height=\"40\" stroke=\"black\" fill=\"white\" stroke-width=\"1\" /><text x=\"33404.42947265608\" y=\"375.0\" dominant-baseline=\"middle\" text-anchor=\"middle\" font-size=\"14px\" font-family=\"Arial\">Ry(0.01π)</text><circle cx=\"33482.024726562326\" cy=\"275.0\" r=\"10.0\" /><rect x=\"33462.024726562326\" y=\"355.0\" width=\"40\" height=\"40\" stroke=\"black\" fill=\"white\" stroke-width=\"1\" /><text x=\"33482.024726562326\" y=\"375.0\" dominant-baseline=\"middle\" text-anchor=\"middle\" font-size=\"18px\" font-family=\"Arial\">X</text><rect x=\"33522.024726562326\" y=\"355.0\" width=\"84.097734375\" height=\"40\" stroke=\"black\" fill=\"white\" stroke-width=\"1\" /><text x=\"33564.073593749825\" y=\"375.0\" dominant-baseline=\"middle\" text-anchor=\"middle\" font-size=\"14px\" font-family=\"Arial\">Ry(0.013π)</text><circle cx=\"33646.122460937324\" cy=\"325.0\" r=\"10.0\" /><rect x=\"33626.122460937324\" y=\"355.0\" width=\"40\" height=\"40\" stroke=\"black\" fill=\"white\" stroke-width=\"1\" /><text x=\"33646.122460937324\" y=\"375.0\" dominant-baseline=\"middle\" text-anchor=\"middle\" font-size=\"18px\" font-family=\"Arial\">X</text><rect x=\"33686.122460937324\" y=\"355.0\" width=\"84.097734375\" height=\"40\" stroke=\"black\" fill=\"white\" stroke-width=\"1\" /><text x=\"33728.17132812482\" y=\"375.0\" dominant-baseline=\"middle\" text-anchor=\"middle\" font-size=\"14px\" font-family=\"Arial\">Ry(0.009π)</text><circle cx=\"33810.22019531232\" cy=\"225.0\" r=\"10.0\" /><rect x=\"33790.22019531232\" y=\"355.0\" width=\"40\" height=\"40\" stroke=\"black\" fill=\"white\" stroke-width=\"1\" /><text x=\"33810.22019531232\" y=\"375.0\" dominant-baseline=\"middle\" text-anchor=\"middle\" font-size=\"18px\" font-family=\"Arial\">X</text><rect x=\"33850.22019531232\" y=\"355.0\" width=\"84.097734375\" height=\"40\" stroke=\"black\" fill=\"white\" stroke-width=\"1\" /><text x=\"33892.26906249982\" y=\"375.0\" dominant-baseline=\"middle\" text-anchor=\"middle\" font-size=\"14px\" font-family=\"Arial\">Ry(0.002π)</text><circle cx=\"33974.31792968732\" cy=\"325.0\" r=\"10.0\" /><rect x=\"33954.31792968732\" y=\"355.0\" width=\"40\" height=\"40\" stroke=\"black\" fill=\"white\" stroke-width=\"1\" /><text x=\"33974.31792968732\" y=\"375.0\" dominant-baseline=\"middle\" text-anchor=\"middle\" font-size=\"18px\" font-family=\"Arial\">X</text><rect x=\"34014.31792968732\" y=\"355.0\" width=\"89.1494921875\" height=\"40\" stroke=\"black\" fill=\"white\" stroke-width=\"1\" /><text x=\"34058.89267578107\" y=\"375.0\" dominant-baseline=\"middle\" text-anchor=\"middle\" font-size=\"14px\" font-family=\"Arial\">Ry(-0.005π)</text><circle cx=\"34143.46742187482\" cy=\"275.0\" r=\"10.0\" /><rect x=\"34123.46742187482\" y=\"355.0\" width=\"40\" height=\"40\" stroke=\"black\" fill=\"white\" stroke-width=\"1\" /><text x=\"34143.46742187482\" y=\"375.0\" dominant-baseline=\"middle\" text-anchor=\"middle\" font-size=\"18px\" font-family=\"Arial\">X</text><rect x=\"34183.46742187482\" y=\"355.0\" width=\"89.1494921875\" height=\"40\" stroke=\"black\" fill=\"white\" stroke-width=\"1\" /><text x=\"34228.04216796857\" y=\"375.0\" dominant-baseline=\"middle\" text-anchor=\"middle\" font-size=\"14px\" font-family=\"Arial\">Ry(-0.011π)</text><circle cx=\"34312.61691406232\" cy=\"325.0\" r=\"10.0\" /><rect x=\"34292.61691406232\" y=\"355.0\" width=\"40\" height=\"40\" stroke=\"black\" fill=\"white\" stroke-width=\"1\" /><text x=\"34312.61691406232\" y=\"375.0\" dominant-baseline=\"middle\" text-anchor=\"middle\" font-size=\"18px\" font-family=\"Arial\">X</text><rect x=\"34352.61691406232\" y=\"355.0\" width=\"89.1494921875\" height=\"40\" stroke=\"black\" fill=\"white\" stroke-width=\"1\" /><text x=\"34397.191660156066\" y=\"375.0\" dominant-baseline=\"middle\" text-anchor=\"middle\" font-size=\"14px\" font-family=\"Arial\">Ry(-0.014π)</text><circle cx=\"34481.766406249815\" cy=\"175.0\" r=\"10.0\" /><rect x=\"34461.766406249815\" y=\"355.0\" width=\"40\" height=\"40\" stroke=\"black\" fill=\"white\" stroke-width=\"1\" /><text x=\"34481.766406249815\" y=\"375.0\" dominant-baseline=\"middle\" text-anchor=\"middle\" font-size=\"18px\" font-family=\"Arial\">X</text><rect x=\"34521.766406249815\" y=\"355.0\" width=\"89.1494921875\" height=\"40\" stroke=\"black\" fill=\"white\" stroke-width=\"1\" /><text x=\"34566.341152343564\" y=\"375.0\" dominant-baseline=\"middle\" text-anchor=\"middle\" font-size=\"14px\" font-family=\"Arial\">Ry(-0.007π)</text><circle cx=\"34650.91589843731\" cy=\"325.0\" r=\"10.0\" /><rect x=\"34630.91589843731\" y=\"355.0\" width=\"40\" height=\"40\" stroke=\"black\" fill=\"white\" stroke-width=\"1\" /><text x=\"34650.91589843731\" y=\"375.0\" dominant-baseline=\"middle\" text-anchor=\"middle\" font-size=\"18px\" font-family=\"Arial\">X</text><rect x=\"34690.91589843731\" y=\"355.0\" width=\"84.097734375\" height=\"40\" stroke=\"black\" fill=\"white\" stroke-width=\"1\" /><text x=\"34732.96476562481\" y=\"375.0\" dominant-baseline=\"middle\" text-anchor=\"middle\" font-size=\"14px\" font-family=\"Arial\">Ry(0.002π)</text><circle cx=\"34815.01363281231\" cy=\"275.0\" r=\"10.0\" /><rect x=\"34795.01363281231\" y=\"355.0\" width=\"40\" height=\"40\" stroke=\"black\" fill=\"white\" stroke-width=\"1\" /><text x=\"34815.01363281231\" y=\"375.0\" dominant-baseline=\"middle\" text-anchor=\"middle\" font-size=\"18px\" font-family=\"Arial\">X</text><rect x=\"34855.01363281231\" y=\"355.0\" width=\"84.097734375\" height=\"40\" stroke=\"black\" fill=\"white\" stroke-width=\"1\" /><text x=\"34897.06249999981\" y=\"375.0\" dominant-baseline=\"middle\" text-anchor=\"middle\" font-size=\"14px\" font-family=\"Arial\">Ry(0.005π)</text><circle cx=\"34979.11136718731\" cy=\"325.0\" r=\"10.0\" /><rect x=\"34959.11136718731\" y=\"355.0\" width=\"40\" height=\"40\" stroke=\"black\" fill=\"white\" stroke-width=\"1\" /><text x=\"34979.11136718731\" y=\"375.0\" dominant-baseline=\"middle\" text-anchor=\"middle\" font-size=\"18px\" font-family=\"Arial\">X</text><rect x=\"35019.11136718731\" y=\"355.0\" width=\"89.1494921875\" height=\"40\" stroke=\"black\" fill=\"white\" stroke-width=\"1\" /><text x=\"35063.68611328106\" y=\"375.0\" dominant-baseline=\"middle\" text-anchor=\"middle\" font-size=\"14px\" font-family=\"Arial\">Ry(-0.009π)</text><circle cx=\"35148.26085937481\" cy=\"225.0\" r=\"10.0\" /><rect x=\"35128.26085937481\" y=\"355.0\" width=\"40\" height=\"40\" stroke=\"black\" fill=\"white\" stroke-width=\"1\" /><text x=\"35148.26085937481\" y=\"375.0\" dominant-baseline=\"middle\" text-anchor=\"middle\" font-size=\"18px\" font-family=\"Arial\">X</text><rect x=\"35188.26085937481\" y=\"355.0\" width=\"84.097734375\" height=\"40\" stroke=\"black\" fill=\"white\" stroke-width=\"1\" /><text x=\"35230.30972656231\" y=\"375.0\" dominant-baseline=\"middle\" text-anchor=\"middle\" font-size=\"14px\" font-family=\"Arial\">Ry(0.003π)</text><circle cx=\"35312.35859374981\" cy=\"325.0\" r=\"10.0\" /><rect x=\"35292.35859374981\" y=\"355.0\" width=\"40\" height=\"40\" stroke=\"black\" fill=\"white\" stroke-width=\"1\" /><text x=\"35312.35859374981\" y=\"375.0\" dominant-baseline=\"middle\" text-anchor=\"middle\" font-size=\"18px\" font-family=\"Arial\">X</text><rect x=\"35352.35859374981\" y=\"355.0\" width=\"84.097734375\" height=\"40\" stroke=\"black\" fill=\"white\" stroke-width=\"1\" /><text x=\"35394.407460937306\" y=\"375.0\" dominant-baseline=\"middle\" text-anchor=\"middle\" font-size=\"14px\" font-family=\"Arial\">Ry(0.007π)</text><circle cx=\"35476.456328124805\" cy=\"275.0\" r=\"10.0\" /><rect x=\"35456.456328124805\" y=\"355.0\" width=\"40\" height=\"40\" stroke=\"black\" fill=\"white\" stroke-width=\"1\" /><text x=\"35476.456328124805\" y=\"375.0\" dominant-baseline=\"middle\" text-anchor=\"middle\" font-size=\"18px\" font-family=\"Arial\">X</text><rect x=\"35516.456328124805\" y=\"355.0\" width=\"89.1494921875\" height=\"40\" stroke=\"black\" fill=\"white\" stroke-width=\"1\" /><text x=\"35561.031074218554\" y=\"375.0\" dominant-baseline=\"middle\" text-anchor=\"middle\" font-size=\"14px\" font-family=\"Arial\">Ry(-0.002π)</text><circle cx=\"35645.6058203123\" cy=\"325.0\" r=\"10.0\" /><rect x=\"35625.6058203123\" y=\"355.0\" width=\"40\" height=\"40\" stroke=\"black\" fill=\"white\" stroke-width=\"1\" /><text x=\"35645.6058203123\" y=\"375.0\" dominant-baseline=\"middle\" text-anchor=\"middle\" font-size=\"18px\" font-family=\"Arial\">X</text><rect x=\"35685.6058203123\" y=\"355.0\" width=\"44.4971484375\" height=\"40\" stroke=\"black\" fill=\"white\" stroke-width=\"1\" /><text x=\"35707.85439453105\" y=\"375.0\" dominant-baseline=\"middle\" text-anchor=\"middle\" font-size=\"14px\" font-family=\"Arial\">Ry(0)</text><circle cx=\"35770.1029687498\" cy=\"75.0\" r=\"10.0\" /><rect x=\"35750.1029687498\" y=\"355.0\" width=\"40\" height=\"40\" stroke=\"black\" fill=\"white\" stroke-width=\"1\" /><text x=\"35770.1029687498\" y=\"375.0\" dominant-baseline=\"middle\" text-anchor=\"middle\" font-size=\"18px\" font-family=\"Arial\">X</text><rect x=\"35810.1029687498\" y=\"355.0\" width=\"84.097734375\" height=\"40\" stroke=\"black\" fill=\"white\" stroke-width=\"1\" /><text x=\"35852.1518359373\" y=\"375.0\" dominant-baseline=\"middle\" text-anchor=\"middle\" font-size=\"14px\" font-family=\"Arial\">Ry(0.005π)</text><circle cx=\"35934.2007031248\" cy=\"325.0\" r=\"10.0\" /><rect x=\"35914.2007031248\" y=\"355.0\" width=\"40\" height=\"40\" stroke=\"black\" fill=\"white\" stroke-width=\"1\" /><text x=\"35934.2007031248\" y=\"375.0\" dominant-baseline=\"middle\" text-anchor=\"middle\" font-size=\"18px\" font-family=\"Arial\">X</text><rect x=\"35974.2007031248\" y=\"355.0\" width=\"89.1494921875\" height=\"40\" stroke=\"black\" fill=\"white\" stroke-width=\"1\" /><text x=\"36018.77544921855\" y=\"375.0\" dominant-baseline=\"middle\" text-anchor=\"middle\" font-size=\"14px\" font-family=\"Arial\">Ry(-0.022π)</text><circle cx=\"36103.3501953123\" cy=\"275.0\" r=\"10.0\" /><rect x=\"36083.3501953123\" y=\"355.0\" width=\"40\" height=\"40\" stroke=\"black\" fill=\"white\" stroke-width=\"1\" /><text x=\"36103.3501953123\" y=\"375.0\" dominant-baseline=\"middle\" text-anchor=\"middle\" font-size=\"18px\" font-family=\"Arial\">X</text><rect x=\"36143.3501953123\" y=\"355.0\" width=\"89.1494921875\" height=\"40\" stroke=\"black\" fill=\"white\" stroke-width=\"1\" /><text x=\"36187.92494140605\" y=\"375.0\" dominant-baseline=\"middle\" text-anchor=\"middle\" font-size=\"14px\" font-family=\"Arial\">Ry(-0.001π)</text><circle cx=\"36272.499687499796\" cy=\"325.0\" r=\"10.0\" /><rect x=\"36252.499687499796\" y=\"355.0\" width=\"40\" height=\"40\" stroke=\"black\" fill=\"white\" stroke-width=\"1\" /><text x=\"36272.499687499796\" y=\"375.0\" dominant-baseline=\"middle\" text-anchor=\"middle\" font-size=\"18px\" font-family=\"Arial\">X</text><rect x=\"36312.499687499796\" y=\"355.0\" width=\"84.097734375\" height=\"40\" stroke=\"black\" fill=\"white\" stroke-width=\"1\" /><text x=\"36354.548554687295\" y=\"375.0\" dominant-baseline=\"middle\" text-anchor=\"middle\" font-size=\"14px\" font-family=\"Arial\">Ry(0.025π)</text><circle cx=\"36436.597421874794\" cy=\"225.0\" r=\"10.0\" /><rect x=\"36416.597421874794\" y=\"355.0\" width=\"40\" height=\"40\" stroke=\"black\" fill=\"white\" stroke-width=\"1\" /><text x=\"36436.597421874794\" y=\"375.0\" dominant-baseline=\"middle\" text-anchor=\"middle\" font-size=\"18px\" font-family=\"Arial\">X</text><rect x=\"36476.597421874794\" y=\"355.0\" width=\"89.1494921875\" height=\"40\" stroke=\"black\" fill=\"white\" stroke-width=\"1\" /><text x=\"36521.17216796854\" y=\"375.0\" dominant-baseline=\"middle\" text-anchor=\"middle\" font-size=\"14px\" font-family=\"Arial\">Ry(-0.003π)</text><circle cx=\"36605.74691406229\" cy=\"325.0\" r=\"10.0\" /><rect x=\"36585.74691406229\" y=\"355.0\" width=\"40\" height=\"40\" stroke=\"black\" fill=\"white\" stroke-width=\"1\" /><text x=\"36605.74691406229\" y=\"375.0\" dominant-baseline=\"middle\" text-anchor=\"middle\" font-size=\"18px\" font-family=\"Arial\">X</text><rect x=\"36645.74691406229\" y=\"355.0\" width=\"84.097734375\" height=\"40\" stroke=\"black\" fill=\"white\" stroke-width=\"1\" /><text x=\"36687.79578124979\" y=\"375.0\" dominant-baseline=\"middle\" text-anchor=\"middle\" font-size=\"14px\" font-family=\"Arial\">Ry(0.017π)</text><circle cx=\"36769.84464843729\" cy=\"275.0\" r=\"10.0\" /><rect x=\"36749.84464843729\" y=\"355.0\" width=\"40\" height=\"40\" stroke=\"black\" fill=\"white\" stroke-width=\"1\" /><text x=\"36769.84464843729\" y=\"375.0\" dominant-baseline=\"middle\" text-anchor=\"middle\" font-size=\"18px\" font-family=\"Arial\">X</text><rect x=\"36809.84464843729\" y=\"355.0\" width=\"89.1494921875\" height=\"40\" stroke=\"black\" fill=\"white\" stroke-width=\"1\" /><text x=\"36854.41939453104\" y=\"375.0\" dominant-baseline=\"middle\" text-anchor=\"middle\" font-size=\"14px\" font-family=\"Arial\">Ry(-0.001π)</text><circle cx=\"36938.99414062479\" cy=\"325.0\" r=\"10.0\" /><rect x=\"36918.99414062479\" y=\"355.0\" width=\"40\" height=\"40\" stroke=\"black\" fill=\"white\" stroke-width=\"1\" /><text x=\"36938.99414062479\" y=\"375.0\" dominant-baseline=\"middle\" text-anchor=\"middle\" font-size=\"18px\" font-family=\"Arial\">X</text><rect x=\"36978.99414062479\" y=\"355.0\" width=\"80.242265625\" height=\"40\" stroke=\"black\" fill=\"white\" stroke-width=\"1\" /><text x=\"37019.11527343729\" y=\"375.0\" dominant-baseline=\"middle\" text-anchor=\"middle\" font-size=\"14px\" font-family=\"Arial\">Ry(-0.02π)</text><circle cx=\"37099.23640624979\" cy=\"175.0\" r=\"10.0\" /><rect x=\"37079.23640624979\" y=\"355.0\" width=\"40\" height=\"40\" stroke=\"black\" fill=\"white\" stroke-width=\"1\" /><text x=\"37099.23640624979\" y=\"375.0\" dominant-baseline=\"middle\" text-anchor=\"middle\" font-size=\"18px\" font-family=\"Arial\">X</text><rect x=\"37139.23640624979\" y=\"355.0\" width=\"84.097734375\" height=\"40\" stroke=\"black\" fill=\"white\" stroke-width=\"1\" /><text x=\"37181.28527343729\" y=\"375.0\" dominant-baseline=\"middle\" text-anchor=\"middle\" font-size=\"14px\" font-family=\"Arial\">Ry(0.018π)</text><circle cx=\"37263.334140624786\" cy=\"325.0\" r=\"10.0\" /><rect x=\"37243.334140624786\" y=\"355.0\" width=\"40\" height=\"40\" stroke=\"black\" fill=\"white\" stroke-width=\"1\" /><text x=\"37263.334140624786\" y=\"375.0\" dominant-baseline=\"middle\" text-anchor=\"middle\" font-size=\"18px\" font-family=\"Arial\">X</text><rect x=\"37303.334140624786\" y=\"355.0\" width=\"84.097734375\" height=\"40\" stroke=\"black\" fill=\"white\" stroke-width=\"1\" /><text x=\"37345.383007812285\" y=\"375.0\" dominant-baseline=\"middle\" text-anchor=\"middle\" font-size=\"14px\" font-family=\"Arial\">Ry(0.005π)</text><circle cx=\"37427.431874999784\" cy=\"275.0\" r=\"10.0\" /><rect x=\"37407.431874999784\" y=\"355.0\" width=\"40\" height=\"40\" stroke=\"black\" fill=\"white\" stroke-width=\"1\" /><text x=\"37427.431874999784\" y=\"375.0\" dominant-baseline=\"middle\" text-anchor=\"middle\" font-size=\"18px\" font-family=\"Arial\">X</text><rect x=\"37467.431874999784\" y=\"355.0\" width=\"84.097734375\" height=\"40\" stroke=\"black\" fill=\"white\" stroke-width=\"1\" /><text x=\"37509.48074218728\" y=\"375.0\" dominant-baseline=\"middle\" text-anchor=\"middle\" font-size=\"14px\" font-family=\"Arial\">Ry(0.001π)</text><circle cx=\"37591.52960937478\" cy=\"325.0\" r=\"10.0\" /><rect x=\"37571.52960937478\" y=\"355.0\" width=\"40\" height=\"40\" stroke=\"black\" fill=\"white\" stroke-width=\"1\" /><text x=\"37591.52960937478\" y=\"375.0\" dominant-baseline=\"middle\" text-anchor=\"middle\" font-size=\"18px\" font-family=\"Arial\">X</text><rect x=\"37631.52960937478\" y=\"355.0\" width=\"84.097734375\" height=\"40\" stroke=\"black\" fill=\"white\" stroke-width=\"1\" /><text x=\"37673.57847656228\" y=\"375.0\" dominant-baseline=\"middle\" text-anchor=\"middle\" font-size=\"14px\" font-family=\"Arial\">Ry(0.012π)</text><circle cx=\"37755.62734374978\" cy=\"225.0\" r=\"10.0\" /><rect x=\"37735.62734374978\" y=\"355.0\" width=\"40\" height=\"40\" stroke=\"black\" fill=\"white\" stroke-width=\"1\" /><text x=\"37755.62734374978\" y=\"375.0\" dominant-baseline=\"middle\" text-anchor=\"middle\" font-size=\"18px\" font-family=\"Arial\">X</text><rect x=\"37795.62734374978\" y=\"355.0\" width=\"89.1494921875\" height=\"40\" stroke=\"black\" fill=\"white\" stroke-width=\"1\" /><text x=\"37840.20208984353\" y=\"375.0\" dominant-baseline=\"middle\" text-anchor=\"middle\" font-size=\"14px\" font-family=\"Arial\">Ry(-0.015π)</text><circle cx=\"37924.77683593728\" cy=\"325.0\" r=\"10.0\" /><rect x=\"37904.77683593728\" y=\"355.0\" width=\"40\" height=\"40\" stroke=\"black\" fill=\"white\" stroke-width=\"1\" /><text x=\"37924.77683593728\" y=\"375.0\" dominant-baseline=\"middle\" text-anchor=\"middle\" font-size=\"18px\" font-family=\"Arial\">X</text><rect x=\"37964.77683593728\" y=\"355.0\" width=\"89.1494921875\" height=\"40\" stroke=\"black\" fill=\"white\" stroke-width=\"1\" /><text x=\"38009.35158203103\" y=\"375.0\" dominant-baseline=\"middle\" text-anchor=\"middle\" font-size=\"14px\" font-family=\"Arial\">Ry(-0.013π)</text><circle cx=\"38093.92632812478\" cy=\"275.0\" r=\"10.0\" /><rect x=\"38073.92632812478\" y=\"355.0\" width=\"40\" height=\"40\" stroke=\"black\" fill=\"white\" stroke-width=\"1\" /><text x=\"38093.92632812478\" y=\"375.0\" dominant-baseline=\"middle\" text-anchor=\"middle\" font-size=\"18px\" font-family=\"Arial\">X</text><rect x=\"38133.92632812478\" y=\"355.0\" width=\"89.1494921875\" height=\"40\" stroke=\"black\" fill=\"white\" stroke-width=\"1\" /><text x=\"38178.501074218526\" y=\"375.0\" dominant-baseline=\"middle\" text-anchor=\"middle\" font-size=\"14px\" font-family=\"Arial\">Ry(-0.004π)</text><circle cx=\"38263.075820312275\" cy=\"325.0\" r=\"10.0\" /><rect x=\"38243.075820312275\" y=\"355.0\" width=\"40\" height=\"40\" stroke=\"black\" fill=\"white\" stroke-width=\"1\" /><text x=\"38263.075820312275\" y=\"375.0\" dominant-baseline=\"middle\" text-anchor=\"middle\" font-size=\"18px\" font-family=\"Arial\">X</text><rect x=\"38303.075820312275\" y=\"355.0\" width=\"89.1494921875\" height=\"40\" stroke=\"black\" fill=\"white\" stroke-width=\"1\" /><text x=\"38347.650566406024\" y=\"375.0\" dominant-baseline=\"middle\" text-anchor=\"middle\" font-size=\"14px\" font-family=\"Arial\">Ry(-0.004π)</text><circle cx=\"38432.22531249977\" cy=\"125.0\" r=\"10.0\" /><rect x=\"38412.22531249977\" y=\"355.0\" width=\"40\" height=\"40\" stroke=\"black\" fill=\"white\" stroke-width=\"1\" /><text x=\"38432.22531249977\" y=\"375.0\" dominant-baseline=\"middle\" text-anchor=\"middle\" font-size=\"18px\" font-family=\"Arial\">X</text><rect x=\"38472.22531249977\" y=\"355.0\" width=\"84.097734375\" height=\"40\" stroke=\"black\" fill=\"white\" stroke-width=\"1\" /><text x=\"38514.27417968727\" y=\"375.0\" dominant-baseline=\"middle\" text-anchor=\"middle\" font-size=\"14px\" font-family=\"Arial\">Ry(0.003π)</text><circle cx=\"38596.32304687477\" cy=\"325.0\" r=\"10.0\" /><rect x=\"38576.32304687477\" y=\"355.0\" width=\"40\" height=\"40\" stroke=\"black\" fill=\"white\" stroke-width=\"1\" /><text x=\"38596.32304687477\" y=\"375.0\" dominant-baseline=\"middle\" text-anchor=\"middle\" font-size=\"18px\" font-family=\"Arial\">X</text><rect x=\"38636.32304687477\" y=\"355.0\" width=\"89.1494921875\" height=\"40\" stroke=\"black\" fill=\"white\" stroke-width=\"1\" /><text x=\"38680.89779296852\" y=\"375.0\" dominant-baseline=\"middle\" text-anchor=\"middle\" font-size=\"14px\" font-family=\"Arial\">Ry(-0.004π)</text><circle cx=\"38765.47253906227\" cy=\"275.0\" r=\"10.0\" /><rect x=\"38745.47253906227\" y=\"355.0\" width=\"40\" height=\"40\" stroke=\"black\" fill=\"white\" stroke-width=\"1\" /><text x=\"38765.47253906227\" y=\"375.0\" dominant-baseline=\"middle\" text-anchor=\"middle\" font-size=\"18px\" font-family=\"Arial\">X</text><rect x=\"38805.47253906227\" y=\"355.0\" width=\"84.097734375\" height=\"40\" stroke=\"black\" fill=\"white\" stroke-width=\"1\" /><text x=\"38847.52140624977\" y=\"375.0\" dominant-baseline=\"middle\" text-anchor=\"middle\" font-size=\"14px\" font-family=\"Arial\">Ry(0.001π)</text><circle cx=\"38929.57027343727\" cy=\"325.0\" r=\"10.0\" /><rect x=\"38909.57027343727\" y=\"355.0\" width=\"40\" height=\"40\" stroke=\"black\" fill=\"white\" stroke-width=\"1\" /><text x=\"38929.57027343727\" y=\"375.0\" dominant-baseline=\"middle\" text-anchor=\"middle\" font-size=\"18px\" font-family=\"Arial\">X</text><rect x=\"38969.57027343727\" y=\"355.0\" width=\"84.097734375\" height=\"40\" stroke=\"black\" fill=\"white\" stroke-width=\"1\" /><text x=\"39011.61914062477\" y=\"375.0\" dominant-baseline=\"middle\" text-anchor=\"middle\" font-size=\"14px\" font-family=\"Arial\">Ry(0.015π)</text><circle cx=\"39093.668007812266\" cy=\"225.0\" r=\"10.0\" /><rect x=\"39073.668007812266\" y=\"355.0\" width=\"40\" height=\"40\" stroke=\"black\" fill=\"white\" stroke-width=\"1\" /><text x=\"39093.668007812266\" y=\"375.0\" dominant-baseline=\"middle\" text-anchor=\"middle\" font-size=\"18px\" font-family=\"Arial\">X</text><rect x=\"39133.668007812266\" y=\"355.0\" width=\"89.1494921875\" height=\"40\" stroke=\"black\" fill=\"white\" stroke-width=\"1\" /><text x=\"39178.242753906015\" y=\"375.0\" dominant-baseline=\"middle\" text-anchor=\"middle\" font-size=\"14px\" font-family=\"Arial\">Ry(-0.002π)</text><circle cx=\"39262.817499999765\" cy=\"325.0\" r=\"10.0\" /><rect x=\"39242.817499999765\" y=\"355.0\" width=\"40\" height=\"40\" stroke=\"black\" fill=\"white\" stroke-width=\"1\" /><text x=\"39262.817499999765\" y=\"375.0\" dominant-baseline=\"middle\" text-anchor=\"middle\" font-size=\"18px\" font-family=\"Arial\">X</text><rect x=\"39302.817499999765\" y=\"355.0\" width=\"89.1494921875\" height=\"40\" stroke=\"black\" fill=\"white\" stroke-width=\"1\" /><text x=\"39347.392246093514\" y=\"375.0\" dominant-baseline=\"middle\" text-anchor=\"middle\" font-size=\"14px\" font-family=\"Arial\">Ry(-0.001π)</text><circle cx=\"39431.96699218726\" cy=\"275.0\" r=\"10.0\" /><rect x=\"39411.96699218726\" y=\"355.0\" width=\"40\" height=\"40\" stroke=\"black\" fill=\"white\" stroke-width=\"1\" /><text x=\"39431.96699218726\" y=\"375.0\" dominant-baseline=\"middle\" text-anchor=\"middle\" font-size=\"18px\" font-family=\"Arial\">X</text><rect x=\"39471.96699218726\" y=\"355.0\" width=\"89.1494921875\" height=\"40\" stroke=\"black\" fill=\"white\" stroke-width=\"1\" /><text x=\"39516.54173828101\" y=\"375.0\" dominant-baseline=\"middle\" text-anchor=\"middle\" font-size=\"14px\" font-family=\"Arial\">Ry(-0.001π)</text><circle cx=\"39601.11648437476\" cy=\"325.0\" r=\"10.0\" /><rect x=\"39581.11648437476\" y=\"355.0\" width=\"40\" height=\"40\" stroke=\"black\" fill=\"white\" stroke-width=\"1\" /><text x=\"39601.11648437476\" y=\"375.0\" dominant-baseline=\"middle\" text-anchor=\"middle\" font-size=\"18px\" font-family=\"Arial\">X</text><rect x=\"39641.11648437476\" y=\"355.0\" width=\"80.242265625\" height=\"40\" stroke=\"black\" fill=\"white\" stroke-width=\"1\" /><text x=\"39681.23761718726\" y=\"375.0\" dominant-baseline=\"middle\" text-anchor=\"middle\" font-size=\"14px\" font-family=\"Arial\">Ry(-0.01π)</text><circle cx=\"39761.35874999976\" cy=\"175.0\" r=\"10.0\" /><rect x=\"39741.35874999976\" y=\"355.0\" width=\"40\" height=\"40\" stroke=\"black\" fill=\"white\" stroke-width=\"1\" /><text x=\"39761.35874999976\" y=\"375.0\" dominant-baseline=\"middle\" text-anchor=\"middle\" font-size=\"18px\" font-family=\"Arial\">X</text><rect x=\"39801.35874999976\" y=\"355.0\" width=\"89.1494921875\" height=\"40\" stroke=\"black\" fill=\"white\" stroke-width=\"1\" /><text x=\"39845.93349609351\" y=\"375.0\" dominant-baseline=\"middle\" text-anchor=\"middle\" font-size=\"14px\" font-family=\"Arial\">Ry(-0.002π)</text><circle cx=\"39930.50824218726\" cy=\"325.0\" r=\"10.0\" /><rect x=\"39910.50824218726\" y=\"355.0\" width=\"40\" height=\"40\" stroke=\"black\" fill=\"white\" stroke-width=\"1\" /><text x=\"39930.50824218726\" y=\"375.0\" dominant-baseline=\"middle\" text-anchor=\"middle\" font-size=\"18px\" font-family=\"Arial\">X</text><rect x=\"39970.50824218726\" y=\"355.0\" width=\"89.1494921875\" height=\"40\" stroke=\"black\" fill=\"white\" stroke-width=\"1\" /><text x=\"40015.08298828101\" y=\"375.0\" dominant-baseline=\"middle\" text-anchor=\"middle\" font-size=\"14px\" font-family=\"Arial\">Ry(-0.011π)</text><circle cx=\"40099.657734374756\" cy=\"275.0\" r=\"10.0\" /><rect x=\"40079.657734374756\" y=\"355.0\" width=\"40\" height=\"40\" stroke=\"black\" fill=\"white\" stroke-width=\"1\" /><text x=\"40099.657734374756\" y=\"375.0\" dominant-baseline=\"middle\" text-anchor=\"middle\" font-size=\"18px\" font-family=\"Arial\">X</text><rect x=\"40139.657734374756\" y=\"355.0\" width=\"89.1494921875\" height=\"40\" stroke=\"black\" fill=\"white\" stroke-width=\"1\" /><text x=\"40184.232480468505\" y=\"375.0\" dominant-baseline=\"middle\" text-anchor=\"middle\" font-size=\"14px\" font-family=\"Arial\">Ry(-0.001π)</text><circle cx=\"40268.807226562254\" cy=\"325.0\" r=\"10.0\" /><rect x=\"40248.807226562254\" y=\"355.0\" width=\"40\" height=\"40\" stroke=\"black\" fill=\"white\" stroke-width=\"1\" /><text x=\"40268.807226562254\" y=\"375.0\" dominant-baseline=\"middle\" text-anchor=\"middle\" font-size=\"18px\" font-family=\"Arial\">X</text><rect x=\"40308.807226562254\" y=\"355.0\" width=\"84.097734375\" height=\"40\" stroke=\"black\" fill=\"white\" stroke-width=\"1\" /><text x=\"40350.85609374975\" y=\"375.0\" dominant-baseline=\"middle\" text-anchor=\"middle\" font-size=\"14px\" font-family=\"Arial\">Ry(0.005π)</text><circle cx=\"40432.90496093725\" cy=\"225.0\" r=\"10.0\" /><rect x=\"40412.90496093725\" y=\"355.0\" width=\"40\" height=\"40\" stroke=\"black\" fill=\"white\" stroke-width=\"1\" /><text x=\"40432.90496093725\" y=\"375.0\" dominant-baseline=\"middle\" text-anchor=\"middle\" font-size=\"18px\" font-family=\"Arial\">X</text><rect x=\"40472.90496093725\" y=\"355.0\" width=\"84.097734375\" height=\"40\" stroke=\"black\" fill=\"white\" stroke-width=\"1\" /><text x=\"40514.95382812475\" y=\"375.0\" dominant-baseline=\"middle\" text-anchor=\"middle\" font-size=\"14px\" font-family=\"Arial\">Ry(0.006π)</text><circle cx=\"40597.00269531225\" cy=\"325.0\" r=\"10.0\" /><rect x=\"40577.00269531225\" y=\"355.0\" width=\"40\" height=\"40\" stroke=\"black\" fill=\"white\" stroke-width=\"1\" /><text x=\"40597.00269531225\" y=\"375.0\" dominant-baseline=\"middle\" text-anchor=\"middle\" font-size=\"18px\" font-family=\"Arial\">X</text><rect x=\"40637.00269531225\" y=\"355.0\" width=\"84.097734375\" height=\"40\" stroke=\"black\" fill=\"white\" stroke-width=\"1\" /><text x=\"40679.05156249975\" y=\"375.0\" dominant-baseline=\"middle\" text-anchor=\"middle\" font-size=\"14px\" font-family=\"Arial\">Ry(0.004π)</text><circle cx=\"40761.10042968725\" cy=\"275.0\" r=\"10.0\" /><rect x=\"40741.10042968725\" y=\"355.0\" width=\"40\" height=\"40\" stroke=\"black\" fill=\"white\" stroke-width=\"1\" /><text x=\"40761.10042968725\" y=\"375.0\" dominant-baseline=\"middle\" text-anchor=\"middle\" font-size=\"18px\" font-family=\"Arial\">X</text><rect x=\"40801.10042968725\" y=\"355.0\" width=\"89.1494921875\" height=\"40\" stroke=\"black\" fill=\"white\" stroke-width=\"1\" /><text x=\"40845.675175781\" y=\"375.0\" dominant-baseline=\"middle\" text-anchor=\"middle\" font-size=\"14px\" font-family=\"Arial\">Ry(-0.004π)</text><circle cx=\"40930.24992187475\" cy=\"325.0\" r=\"10.0\" /><rect x=\"40910.24992187475\" y=\"355.0\" width=\"40\" height=\"40\" stroke=\"black\" fill=\"white\" stroke-width=\"1\" /><text x=\"40930.24992187475\" y=\"375.0\" dominant-baseline=\"middle\" text-anchor=\"middle\" font-size=\"18px\" font-family=\"Arial\">X</text><rect x=\"40970.24992187475\" y=\"355.0\" width=\"84.097734375\" height=\"40\" stroke=\"black\" fill=\"white\" stroke-width=\"1\" /><text x=\"41012.298789062246\" y=\"375.0\" dominant-baseline=\"middle\" text-anchor=\"middle\" font-size=\"14px\" font-family=\"Arial\">Ry(0.003π)</text><circle cx=\"41094.347656249745\" cy=\"25.0\" r=\"10.0\" /><rect x=\"41074.347656249745\" y=\"355.0\" width=\"40\" height=\"40\" stroke=\"black\" fill=\"white\" stroke-width=\"1\" /><text x=\"41094.347656249745\" y=\"375.0\" dominant-baseline=\"middle\" text-anchor=\"middle\" font-size=\"18px\" font-family=\"Arial\">X</text></svg>"
      ],
      "text/plain": [
       "<cirq.contrib.svg.svg.SVGCircuit at 0x7fb9eb079b20>"
      ]
     },
     "execution_count": 619,
     "metadata": {},
     "output_type": "execute_result"
    }
   ],
   "source": [
    "SVGCircuit(x_train_circ[0])"
   ]
  },
  {
   "cell_type": "markdown",
   "metadata": {
    "colab_type": "text",
    "id": "AEQMxCcBojhg"
   },
   "source": [
    "Compare this circuit to the indices where the image value exceeds the threshold:"
   ]
  },
  {
   "cell_type": "code",
   "execution_count": 620,
   "metadata": {
    "colab": {},
    "colab_type": "code",
    "id": "TBIsiXdtojhh",
    "tags": []
   },
   "outputs": [
    {
     "data": {
      "text/plain": [
       "array([[2, 2],\n",
       "       [3, 1]])"
      ]
     },
     "execution_count": 620,
     "metadata": {},
     "output_type": "execute_result"
    }
   ],
   "source": [
    "bin_img = x_train_bin[0,:,:,0]\n",
    "indices = np.array(np.where(bin_img)).T\n",
    "indices"
   ]
  },
  {
   "cell_type": "markdown",
   "metadata": {
    "colab_type": "text",
    "id": "mWZ24w1Oojhk"
   },
   "source": [
    "Convert these `Cirq` circuits to tensors for `tfq`:"
   ]
  },
  {
   "cell_type": "code",
   "execution_count": 621,
   "metadata": {
    "colab": {},
    "colab_type": "code",
    "id": "IZStEMk4ojhk",
    "tags": []
   },
   "outputs": [],
   "source": [
    "x_train_tfcirc = tfq.convert_to_tensor(x_train_circ)\n",
    "x_test_tfcirc = tfq.convert_to_tensor(x_test_circ)"
   ]
  },
  {
   "cell_type": "markdown",
   "metadata": {
    "colab_type": "text",
    "id": "4USiqeOqGL67"
   },
   "source": [
    "## 2. Quantum neural network\n",
    "\n",
    "There is little guidance for a quantum circuit structure that classifies images. Since the classification is based on the expectation of the readout qubit, <a href=\"https://arxiv.org/pdf/1802.06002.pdf\" class=\"external\">Farhi et al.</a> propose using two qubit gates, with the readout qubit always acted upon. This is similar in some ways to running small a <a href=\"https://arxiv.org/abs/1511.06464\" class=\"external\">Unitary RNN</a> across the pixels."
   ]
  },
  {
   "cell_type": "markdown",
   "metadata": {},
   "source": [
    "Helper functions for Tensorboard.\n",
    "\n",
    "\n",
    "- The integer values of samples, so that you can create histograms of the distribution.\n",
    "- The linear XEB fidelity estimate of a set of samples, to give some indication of how \"truly quantum random\" the samples are.\n"
   ]
  },
  {
   "cell_type": "code",
   "execution_count": 622,
   "metadata": {},
   "outputs": [],
   "source": [
    "@tf.function\n",
    "def bits_to_ints(bits):\n",
    "    \"\"\"Convert tensor of bitstrings to tensor of ints.\"\"\"\n",
    "    sigs = tf.constant([1 << i for i in range(N_QUBITS)], dtype=tf.int32)\n",
    "    rounded_bits = tf.clip_by_value(tf.math.round(\n",
    "        tf.cast(bits, dtype=tf.dtypes.float32)), clip_value_min=0, clip_value_max=1)\n",
    "    return tf.einsum('jk,k->j', tf.cast(rounded_bits, dtype=tf.dtypes.int32), sigs)\n",
    "\n",
    "@tf.function\n",
    "def xeb_fid(bits):\n",
    "    \"\"\"Compute linear XEB fidelity of bitstrings.\"\"\"\n",
    "    final_probs = tf.squeeze(\n",
    "        tf.abs(tfq.layers.State()(REFERENCE_CIRCUIT).to_tensor()) ** 2)\n",
    "    nums = bits_to_ints(bits)\n",
    "    return (2 ** N_QUBITS) * tf.reduce_mean(tf.gather(final_probs, nums)) - 1.0\n"
   ]
  },
  {
   "cell_type": "markdown",
   "metadata": {
    "colab_type": "text",
    "id": "knIzawEeojho"
   },
   "source": [
    "### 2.1 Build the model circuit\n",
    "\n",
    "This following example shows this layered approach. Each layer uses *n* instances of the same gate, with each of the data qubits acting on the readout qubit.\n",
    "\n",
    "Start with a simple class that will add a layer of these gates to a circuit:"
   ]
  },
  {
   "cell_type": "code",
   "execution_count": 736,
   "metadata": {
    "colab": {},
    "colab_type": "code",
    "id": "-hjxxgU5ojho",
    "tags": []
   },
   "outputs": [
    {
     "name": "stdout",
     "output_type": "stream",
     "text": [
      "dict_keys([cirq.X, cirq.XX, cirq.Y, cirq.YY, cirq.Z, cirq.ZZ, cirq.H, cirq.CZ, cirq.CNOT, cirq.SWAP, cirq.ISWAP, cirq.PhasedXPowGate(phase_exponent=0.123), cirq.PhasedISwapPowGate(phase_exponent=0.123), cirq.FSimGate(theta=0.123, phi=0.456), cirq.I])\n",
      "dict_keys([cirq.depolarize(p=0.01), cirq.asymmetric_depolarize(error_probabilities={'I': 0.94, 'X': 0.01, 'Y': 0.02, 'Z': 0.03}), cirq.generalized_amplitude_damp(p=0.01,gamma=0.02), cirq.amplitude_damp(gamma=0.01), cirq.ResetChannel(), cirq.phase_damp(gamma=0.01), cirq.phase_flip(p=0.01), cirq.bit_flip(p=0.01)])\n"
     ]
    }
   ],
   "source": [
    "print(tfq.util.get_supported_gates().keys())\n",
    "print(tfq.util.get_supported_channels().keys())\n",
    "\n",
    "class CircuitLayerBuilder():\n",
    "    def __init__(self, circuit, data_qubits, repeat_dropout=0, overlap_dropout=False):\n",
    "        \n",
    "        self.data_qubits = data_qubits\n",
    "        self.curr_layer_id = 0\n",
    "        self.circuit = circuit\n",
    "        \n",
    "        self.dropped_out_qubit_ids = []\n",
    "        self.dropout_blacklist = []\n",
    "        \n",
    "        self.overlap_dropout = overlap_dropout\n",
    "        \n",
    "        if repeat_dropout < 1:\n",
    "            repeat_dropout = 1\n",
    "        if overlap_dropout:\n",
    "            for _ in range(repeat_dropout - 1):\n",
    "                # We will be dequeing from this on each rebuild;\n",
    "                # so, each qubit will be in the list for repeat_dropout rebuilds.\n",
    "                self.dropped_out_qubit_ids.append(len(self.data_qubits))\n",
    "            self.delay_next_dropout = 1\n",
    "        else:\n",
    "            # if not overlapping, delay for as long as we're repeating\n",
    "            self.delay_next_dropout = repeat_dropout\n",
    "            \n",
    "        self.delay_next_dropout_i = 0 # try to dropout immediately\n",
    "        \n",
    "        # maps str(symbol) to (is_dropped_out, weight)\n",
    "        self.symbol_map = {}\n",
    "        \n",
    "        self.drop_out_applied = False\n",
    "        \n",
    "    def rebuild(self, circuit, data_qubits, computed_weights, preserve_dropout=False):\n",
    "        # prev_weights is the result of get_weights from the prior epoch.\n",
    "        \n",
    "        self.data_qubits = data_qubits\n",
    "        self.curr_layer_id = 0\n",
    "        self.circuit = circuit\n",
    "        \n",
    "        if preserve_dropout:\n",
    "            if self.overlap_dropout and len(self.dropped_out_qubit_ids) > 0 and self.drop_out_applied:\n",
    "                # Dropping first element. This is either padding, or an actual id that we want to stop dropping out from here on.\n",
    "                dropped_id = self.dropped_out_qubit_ids.pop(0)\n",
    "                self.dropout_blacklist.append(dropped_id)\n",
    "        else:\n",
    "            self.dropout_blacklist = []\n",
    "            self.dropped_out_qubit_ids = []\n",
    "        \n",
    "        if self.delay_next_dropout_i > 0:\n",
    "            self.delay_next_dropout_i -= 1\n",
    "        \n",
    "        if self.delay_next_dropout_i == 0 and not self.overlap_dropout:\n",
    "            # Dropout finished for this qubit!\n",
    "            assert len(self.dropped_out_qubit_ids) <= 1\n",
    "            if len(self.dropped_out_qubit_ids) == 1:\n",
    "                self.dropout_blacklist.append(self.dropped_out_qubit_ids[0])\n",
    "            self.dropped_out_qubit_ids = []\n",
    "        \n",
    "        self.drop_out_applied = False\n",
    "        \n",
    "        #print('self.dropped_out_qubit_ids = ')\n",
    "        #print(self.dropped_out_qubit_ids)\n",
    "        \n",
    "        j = 0\n",
    "        \n",
    "        #print('Rebuilding; prev self.symbol_map:')\n",
    "        #print(self.symbol_map)\n",
    "        \n",
    "        for k in sorted(self.symbol_map.keys()):\n",
    "            prev_is_dropped_out, _ = self.symbol_map[k]\n",
    "            if not prev_is_dropped_out:\n",
    "                # Re-use the prev weight. This isn't directly used as TFQ inputs, but we later use it to generate\n",
    "                # sane inputs for set_weights().\n",
    "                # Also, is-dropped-out is True by default to handle the case when a rebuilt circuit might not add a layer for some reason\n",
    "                self.symbol_map[k] = (True, computed_weights[j])\n",
    "\n",
    "                # prev_weights is a list that only has entries for non-dropped-out elems\n",
    "                j += 1\n",
    "                \n",
    "        #print('Rebuilding done; updated self.symbol_map:')\n",
    "        #print(self.symbol_map)\n",
    "    \n",
    "    def add_param_gate(self, gate, symbol, i, qubit):\n",
    "        if str(symbol) in self.symbol_map:\n",
    "            _, weight = self.symbol_map[str(symbol)]\n",
    "        else:\n",
    "            # default value for weight is 0\n",
    "            weight = 0\n",
    "\n",
    "        if i in self.dropped_out_qubit_ids:\n",
    "            #print(\"Dropped out qubit id \" + str(i))\n",
    "            self.symbol_map[str(symbol)] = (True, weight)\n",
    "            self.drop_out_applied = True\n",
    "        else:\n",
    "            self.symbol_map[str(symbol)] = (False, weight)\n",
    "            self.circuit.append(gate(symbol)(qubit))\n",
    "    \n",
    "    def add_controlled_param_pow_gate(self, gate, symbol, i, j, qubit1, qubit2):\n",
    "        if str(symbol) in self.symbol_map:\n",
    "            _, weight = self.symbol_map[str(symbol)]\n",
    "        else:\n",
    "            # default value for weight is 0\n",
    "            weight = 0\n",
    "\n",
    "        if i in self.dropped_out_qubit_ids or (j is not None and j in self.dropped_out_qubit_ids):\n",
    "            #print(\"Dropped out qubit id \" + str(i))\n",
    "            self.symbol_map[str(symbol)] = (True, weight)\n",
    "            self.drop_out_applied = True\n",
    "        else:\n",
    "            self.symbol_map[str(symbol)] = (False, weight)\n",
    "            self.circuit.append(gate(qubit1, qubit2)**(symbol))\n",
    "    \n",
    "    def add_layer(self, block=1, apply_dropout=False):\n",
    "        # at most one dropped qubit added per layer\n",
    "        if apply_dropout and self.delay_next_dropout_i == 0:# and self.curr_layer_id > 0:\n",
    "            while True:\n",
    "                rand_id = np.random.randint(1, (len(self.data_qubits) * 2) + 1) # NEVER select qubit 0 since it's readout!\n",
    "                if rand_id >= len(self.data_qubits):\n",
    "                    rand_id = len(self.data_qubits)\n",
    "                # Kinda hacky, blacklist qubits that we dropped out already\n",
    "                if rand_id not in self.dropout_blacklist or rand_id == len(self.data_qubits):\n",
    "                    break\n",
    "            print('self.dropout_blacklist =')\n",
    "            print(self.dropout_blacklist)\n",
    "            #print(rand_id)\n",
    "            if rand_id not in self.dropped_out_qubit_ids and rand_id != len(self.data_qubits):\n",
    "                self.dropped_out_qubit_ids.append(rand_id)\n",
    "            if rand_id != len(self.data_qubits):\n",
    "                self.delay_next_dropout_i = self.delay_next_dropout # reset delay if we're actually going to drop out!\n",
    "\n",
    "        for i in range(len(self.data_qubits)):\n",
    "            self.add_param_gate(cirq.rz, sympy.Symbol('s_l'+str(self.curr_layer_id)+'_q'+str(i)+'rz0'), i, self.data_qubits[i])\n",
    "        for i in range(len(self.data_qubits)):\n",
    "            self.add_param_gate(cirq.ry, sympy.Symbol('s_l'+str(self.curr_layer_id)+'_q'+str(i)+'ry'), i, self.data_qubits[i])\n",
    "        for i in range(len(self.data_qubits)):\n",
    "            self.add_param_gate(cirq.rz, sympy.Symbol('s_l'+str(self.curr_layer_id)+'_q'+str(i)+'rz'), i, self.data_qubits[i])\n",
    "\n",
    "        target = None\n",
    "        control = None\n",
    "        for i in range(len(self.data_qubits)):\n",
    "            if block > 0 :\n",
    "                symbol = sympy.Symbol('s_l'+str(self.curr_layer_id)+'_q'+str(i)+'block'+str(block)+'cz')\n",
    "                if str(symbol) in self.symbol_map:\n",
    "                    _, weight = self.symbol_map[str(symbol)]\n",
    "                else:\n",
    "                    # default value for weight is 0\n",
    "                    weight = 0\n",
    "                if control is None:\n",
    "                    control_idx = i\n",
    "                    control = self.data_qubits[i]\n",
    "                # determine control\n",
    "                target_idx = (control_idx+len(self.data_qubits)-block)%len(self.data_qubits)\n",
    "                target = self.data_qubits[target_idx]\n",
    "                # add gate (as per Schuld, \"B. Optimizing the architecture\")\n",
    "                self.add_controlled_param_pow_gate(cirq.CZ, symbol, control_idx, target_idx, control, target)\n",
    "                self.add_param_gate(cirq.rx, sympy.Symbol('s_l'+str(self.curr_layer_id)+'_q'+str(i)+'rx2'), target_idx, target)\n",
    "                control = target\n",
    "                control_idx = target_idx\n",
    "            else:\n",
    "                break # a trimmed circuit doesn't include entanglements\n",
    "\n",
    "        self.curr_layer_id += 1\n",
    "    \n",
    "    def add_final_out(self):\n",
    "        # Add final learnable operation on qubit 0\n",
    "        i = 0\n",
    "        self.add_param_gate(cirq.rz, sympy.Symbol('s_l'+str(self.curr_layer_id)+'_q'+str(i)+'rz0'), i, self.data_qubits[i])\n",
    "        self.add_param_gate(cirq.ry, sympy.Symbol('s_l'+str(self.curr_layer_id)+'_q'+str(i)+'ry'), i, self.data_qubits[i])\n",
    "        self.add_param_gate(cirq.rz, sympy.Symbol('s_l'+str(self.curr_layer_id)+'_q'+str(i)+'rz'), i, self.data_qubits[i])\n",
    "        self.curr_layer_id += 1\n",
    "    \n",
    "    def get_builder_weights(self):\n",
    "        # returns symbol names in sorted order, which should match the order used for PQC (kinda hacky and can potentially break later)\n",
    "        # used as the next input for set_weights()\n",
    "        #\n",
    "        # Order of calls:\n",
    "        # tf.fit();\n",
    "        # builder.rebuild(tf.get_weights());\n",
    "        # add_layer()...;\n",
    "        # tf.set_weights(builder.get_builder_weights());\n",
    "        # tf.fit()\n",
    "        weights_list = []\n",
    "        \n",
    "        for k in sorted(self.symbol_map.keys()):\n",
    "            curr_is_dropout, curr_weight = self.symbol_map[k]\n",
    "            if not curr_is_dropout:\n",
    "                weights_list.append(curr_weight)\n",
    "        \n",
    "        return weights_list"
   ]
  },
  {
   "cell_type": "markdown",
   "metadata": {
    "colab_type": "text",
    "id": "Sjo5hANFojhr"
   },
   "source": [
    "Build an example circuit layer to see how it looks:"
   ]
  },
  {
   "cell_type": "code",
   "execution_count": 624,
   "metadata": {},
   "outputs": [
    {
     "data": {
      "image/svg+xml": [
       "<svg xmlns=\"http://www.w3.org/2000/svg\" width=\"3607.3805859375007\" height=\"200.0\"><line x1=\"34.7588671875\" x2=\"3577.3805859375007\" y1=\"25.0\" y2=\"25.0\" stroke=\"#1967d2\" stroke-width=\"1\" /><line x1=\"34.7588671875\" x2=\"3577.3805859375007\" y1=\"75.0\" y2=\"75.0\" stroke=\"#1967d2\" stroke-width=\"1\" /><line x1=\"34.7588671875\" x2=\"3577.3805859375007\" y1=\"125.0\" y2=\"125.0\" stroke=\"#1967d2\" stroke-width=\"1\" /><line x1=\"34.7588671875\" x2=\"3577.3805859375007\" y1=\"175.0\" y2=\"175.0\" stroke=\"#1967d2\" stroke-width=\"1\" /><line x1=\"524.36064453125\" x2=\"524.36064453125\" y1=\"25.0\" y2=\"175.0\" stroke=\"black\" stroke-width=\"3\" /><line x1=\"822.3754101562499\" x2=\"822.3754101562499\" y1=\"125.0\" y2=\"175.0\" stroke=\"black\" stroke-width=\"3\" /><line x1=\"1120.39017578125\" x2=\"1120.39017578125\" y1=\"75.0\" y2=\"125.0\" stroke=\"black\" stroke-width=\"3\" /><line x1=\"1418.40494140625\" x2=\"1418.40494140625\" y1=\"25.0\" y2=\"75.0\" stroke=\"black\" stroke-width=\"3\" /><line x1=\"2087.6679492187504\" x2=\"2087.6679492187504\" y1=\"25.0\" y2=\"75.0\" stroke=\"black\" stroke-width=\"3\" /><line x1=\"2385.68271484375\" x2=\"2385.68271484375\" y1=\"75.0\" y2=\"125.0\" stroke=\"black\" stroke-width=\"3\" /><line x1=\"2683.69748046875\" x2=\"2683.69748046875\" y1=\"125.0\" y2=\"175.0\" stroke=\"black\" stroke-width=\"3\" /><line x1=\"2981.7122460937503\" x2=\"2981.7122460937503\" y1=\"25.0\" y2=\"175.0\" stroke=\"black\" stroke-width=\"3\" /><rect x=\"10.0\" y=\"5.0\" width=\"49.517734375\" height=\"40\" stroke=\"black\" fill=\"white\" stroke-width=\"0\" /><text x=\"34.7588671875\" y=\"25.0\" dominant-baseline=\"middle\" text-anchor=\"middle\" font-size=\"14px\" font-family=\"Arial\">(0, 0): </text><rect x=\"10.0\" y=\"55.0\" width=\"49.517734375\" height=\"40\" stroke=\"black\" fill=\"white\" stroke-width=\"0\" /><text x=\"34.7588671875\" y=\"75.0\" dominant-baseline=\"middle\" text-anchor=\"middle\" font-size=\"14px\" font-family=\"Arial\">(1, 0): </text><rect x=\"10.0\" y=\"105.0\" width=\"49.517734375\" height=\"40\" stroke=\"black\" fill=\"white\" stroke-width=\"0\" /><text x=\"34.7588671875\" y=\"125.0\" dominant-baseline=\"middle\" text-anchor=\"middle\" font-size=\"14px\" font-family=\"Arial\">(2, 0): </text><rect x=\"10.0\" y=\"155.0\" width=\"49.517734375\" height=\"40\" stroke=\"black\" fill=\"white\" stroke-width=\"0\" /><text x=\"34.7588671875\" y=\"175.0\" dominant-baseline=\"middle\" text-anchor=\"middle\" font-size=\"14px\" font-family=\"Arial\">(3, 0): </text><rect x=\"79.517734375\" y=\"5.0\" width=\"109.3198828125\" height=\"40\" stroke=\"black\" fill=\"white\" stroke-width=\"1\" /><text x=\"134.17767578125\" y=\"25.0\" dominant-baseline=\"middle\" text-anchor=\"middle\" font-size=\"14px\" font-family=\"Arial\">Rz(s_l0_q0rz0)</text><rect x=\"79.517734375\" y=\"55.0\" width=\"109.3198828125\" height=\"40\" stroke=\"black\" fill=\"white\" stroke-width=\"1\" /><text x=\"134.17767578125\" y=\"75.0\" dominant-baseline=\"middle\" text-anchor=\"middle\" font-size=\"14px\" font-family=\"Arial\">Rz(s_l0_q1rz0)</text><rect x=\"79.517734375\" y=\"105.0\" width=\"109.3198828125\" height=\"40\" stroke=\"black\" fill=\"white\" stroke-width=\"1\" /><text x=\"134.17767578125\" y=\"125.0\" dominant-baseline=\"middle\" text-anchor=\"middle\" font-size=\"14px\" font-family=\"Arial\">Rz(s_l0_q2rz0)</text><rect x=\"79.517734375\" y=\"155.0\" width=\"109.3198828125\" height=\"40\" stroke=\"black\" fill=\"white\" stroke-width=\"1\" /><text x=\"134.17767578125\" y=\"175.0\" dominant-baseline=\"middle\" text-anchor=\"middle\" font-size=\"14px\" font-family=\"Arial\">Rz(s_l0_q3rz0)</text><rect x=\"208.8376171875\" y=\"5.0\" width=\"101.515703125\" height=\"40\" stroke=\"black\" fill=\"white\" stroke-width=\"1\" /><text x=\"259.59546875\" y=\"25.0\" dominant-baseline=\"middle\" text-anchor=\"middle\" font-size=\"14px\" font-family=\"Arial\">Ry(s_l0_q0ry)</text><rect x=\"208.8376171875\" y=\"55.0\" width=\"101.515703125\" height=\"40\" stroke=\"black\" fill=\"white\" stroke-width=\"1\" /><text x=\"259.59546875\" y=\"75.0\" dominant-baseline=\"middle\" text-anchor=\"middle\" font-size=\"14px\" font-family=\"Arial\">Ry(s_l0_q1ry)</text><rect x=\"208.8376171875\" y=\"105.0\" width=\"101.515703125\" height=\"40\" stroke=\"black\" fill=\"white\" stroke-width=\"1\" /><text x=\"259.59546875\" y=\"125.0\" dominant-baseline=\"middle\" text-anchor=\"middle\" font-size=\"14px\" font-family=\"Arial\">Ry(s_l0_q2ry)</text><rect x=\"208.8376171875\" y=\"155.0\" width=\"101.515703125\" height=\"40\" stroke=\"black\" fill=\"white\" stroke-width=\"1\" /><text x=\"259.59546875\" y=\"175.0\" dominant-baseline=\"middle\" text-anchor=\"middle\" font-size=\"14px\" font-family=\"Arial\">Ry(s_l0_q3ry)</text><rect x=\"330.3533203125\" y=\"5.0\" width=\"100.41265625000001\" height=\"40\" stroke=\"black\" fill=\"white\" stroke-width=\"1\" /><text x=\"380.5596484375\" y=\"25.0\" dominant-baseline=\"middle\" text-anchor=\"middle\" font-size=\"14px\" font-family=\"Arial\">Rz(s_l0_q0rz)</text><rect x=\"330.3533203125\" y=\"55.0\" width=\"100.41265625000001\" height=\"40\" stroke=\"black\" fill=\"white\" stroke-width=\"1\" /><text x=\"380.5596484375\" y=\"75.0\" dominant-baseline=\"middle\" text-anchor=\"middle\" font-size=\"14px\" font-family=\"Arial\">Rz(s_l0_q1rz)</text><rect x=\"330.3533203125\" y=\"105.0\" width=\"100.41265625000001\" height=\"40\" stroke=\"black\" fill=\"white\" stroke-width=\"1\" /><text x=\"380.5596484375\" y=\"125.0\" dominant-baseline=\"middle\" text-anchor=\"middle\" font-size=\"14px\" font-family=\"Arial\">Rz(s_l0_q2rz)</text><rect x=\"330.3533203125\" y=\"155.0\" width=\"100.41265625000001\" height=\"40\" stroke=\"black\" fill=\"white\" stroke-width=\"1\" /><text x=\"380.5596484375\" y=\"175.0\" dominant-baseline=\"middle\" text-anchor=\"middle\" font-size=\"14px\" font-family=\"Arial\">Rz(s_l0_q3rz)</text><circle cx=\"524.36064453125\" cy=\"25.0\" r=\"10.0\" /><rect x=\"450.76597656250004\" y=\"155.0\" width=\"147.1893359375\" height=\"40\" stroke=\"black\" fill=\"white\" stroke-width=\"1\" /><text x=\"524.36064453125\" y=\"175.0\" dominant-baseline=\"middle\" text-anchor=\"middle\" font-size=\"14px\" font-family=\"Arial\">@^s_l0_q0block1cz</text><rect x=\"617.9553125\" y=\"155.0\" width=\"110.82542968749999\" height=\"40\" stroke=\"black\" fill=\"white\" stroke-width=\"1\" /><text x=\"673.36802734375\" y=\"175.0\" dominant-baseline=\"middle\" text-anchor=\"middle\" font-size=\"14px\" font-family=\"Arial\">Rx(s_l0_q0rx2)</text><rect x=\"748.7807421875\" y=\"155.0\" width=\"147.1893359375\" height=\"40\" stroke=\"black\" fill=\"white\" stroke-width=\"1\" /><text x=\"822.3754101562499\" y=\"175.0\" dominant-baseline=\"middle\" text-anchor=\"middle\" font-size=\"14px\" font-family=\"Arial\">@^s_l0_q1block1cz</text><circle cx=\"822.3754101562499\" cy=\"125.0\" r=\"10.0\" /><rect x=\"915.970078125\" y=\"105.0\" width=\"110.82542968749999\" height=\"40\" stroke=\"black\" fill=\"white\" stroke-width=\"1\" /><text x=\"971.38279296875\" y=\"125.0\" dominant-baseline=\"middle\" text-anchor=\"middle\" font-size=\"14px\" font-family=\"Arial\">Rx(s_l0_q1rx2)</text><rect x=\"915.970078125\" y=\"155.0\" width=\"110.82542968749999\" height=\"40\" stroke=\"black\" fill=\"white\" stroke-width=\"1\" /><text x=\"971.38279296875\" y=\"175.0\" dominant-baseline=\"middle\" text-anchor=\"middle\" font-size=\"14px\" font-family=\"Arial\">Rz(s_l1_q3rz0)</text><rect x=\"1046.7955078125\" y=\"105.0\" width=\"147.1893359375\" height=\"40\" stroke=\"black\" fill=\"white\" stroke-width=\"1\" /><text x=\"1120.39017578125\" y=\"125.0\" dominant-baseline=\"middle\" text-anchor=\"middle\" font-size=\"14px\" font-family=\"Arial\">@^s_l0_q2block1cz</text><circle cx=\"1120.39017578125\" cy=\"75.0\" r=\"10.0\" /><rect x=\"1046.7955078125\" y=\"155.0\" width=\"147.1893359375\" height=\"40\" stroke=\"black\" fill=\"white\" stroke-width=\"1\" /><text x=\"1120.39017578125\" y=\"175.0\" dominant-baseline=\"middle\" text-anchor=\"middle\" font-size=\"14px\" font-family=\"Arial\">Ry(s_l1_q3ry)</text><rect x=\"1213.98484375\" y=\"55.0\" width=\"110.82542968749999\" height=\"40\" stroke=\"black\" fill=\"white\" stroke-width=\"1\" /><text x=\"1269.39755859375\" y=\"75.0\" dominant-baseline=\"middle\" text-anchor=\"middle\" font-size=\"14px\" font-family=\"Arial\">Rx(s_l0_q2rx2)</text><rect x=\"1213.98484375\" y=\"105.0\" width=\"110.82542968749999\" height=\"40\" stroke=\"black\" fill=\"white\" stroke-width=\"1\" /><text x=\"1269.39755859375\" y=\"125.0\" dominant-baseline=\"middle\" text-anchor=\"middle\" font-size=\"14px\" font-family=\"Arial\">Rz(s_l1_q2rz0)</text><rect x=\"1213.98484375\" y=\"155.0\" width=\"110.82542968749999\" height=\"40\" stroke=\"black\" fill=\"white\" stroke-width=\"1\" /><text x=\"1269.39755859375\" y=\"175.0\" dominant-baseline=\"middle\" text-anchor=\"middle\" font-size=\"14px\" font-family=\"Arial\">Rz(s_l1_q3rz)</text><rect x=\"1344.8102734375\" y=\"55.0\" width=\"147.1893359375\" height=\"40\" stroke=\"black\" fill=\"white\" stroke-width=\"1\" /><text x=\"1418.40494140625\" y=\"75.0\" dominant-baseline=\"middle\" text-anchor=\"middle\" font-size=\"14px\" font-family=\"Arial\">@^s_l0_q3block1cz</text><circle cx=\"1418.40494140625\" cy=\"25.0\" r=\"10.0\" /><rect x=\"1344.8102734375\" y=\"105.0\" width=\"147.1893359375\" height=\"40\" stroke=\"black\" fill=\"white\" stroke-width=\"1\" /><text x=\"1418.40494140625\" y=\"125.0\" dominant-baseline=\"middle\" text-anchor=\"middle\" font-size=\"14px\" font-family=\"Arial\">Ry(s_l1_q2ry)</text><rect x=\"1511.999609375\" y=\"5.0\" width=\"110.82542968749999\" height=\"40\" stroke=\"black\" fill=\"white\" stroke-width=\"1\" /><text x=\"1567.4123242187502\" y=\"25.0\" dominant-baseline=\"middle\" text-anchor=\"middle\" font-size=\"14px\" font-family=\"Arial\">Rx(s_l0_q3rx2)</text><rect x=\"1511.999609375\" y=\"55.0\" width=\"110.82542968749999\" height=\"40\" stroke=\"black\" fill=\"white\" stroke-width=\"1\" /><text x=\"1567.4123242187502\" y=\"75.0\" dominant-baseline=\"middle\" text-anchor=\"middle\" font-size=\"14px\" font-family=\"Arial\">Rz(s_l1_q1rz0)</text><rect x=\"1511.999609375\" y=\"105.0\" width=\"110.82542968749999\" height=\"40\" stroke=\"black\" fill=\"white\" stroke-width=\"1\" /><text x=\"1567.4123242187502\" y=\"125.0\" dominant-baseline=\"middle\" text-anchor=\"middle\" font-size=\"14px\" font-family=\"Arial\">Rz(s_l1_q2rz)</text><rect x=\"1642.8250390625\" y=\"5.0\" width=\"109.3198828125\" height=\"40\" stroke=\"black\" fill=\"white\" stroke-width=\"1\" /><text x=\"1697.48498046875\" y=\"25.0\" dominant-baseline=\"middle\" text-anchor=\"middle\" font-size=\"14px\" font-family=\"Arial\">Rz(s_l1_q0rz0)</text><rect x=\"1642.8250390625\" y=\"55.0\" width=\"109.3198828125\" height=\"40\" stroke=\"black\" fill=\"white\" stroke-width=\"1\" /><text x=\"1697.48498046875\" y=\"75.0\" dominant-baseline=\"middle\" text-anchor=\"middle\" font-size=\"14px\" font-family=\"Arial\">Ry(s_l1_q1ry)</text><rect x=\"1772.1449218750001\" y=\"5.0\" width=\"101.515703125\" height=\"40\" stroke=\"black\" fill=\"white\" stroke-width=\"1\" /><text x=\"1822.9027734375002\" y=\"25.0\" dominant-baseline=\"middle\" text-anchor=\"middle\" font-size=\"14px\" font-family=\"Arial\">Ry(s_l1_q0ry)</text><rect x=\"1772.1449218750001\" y=\"55.0\" width=\"101.515703125\" height=\"40\" stroke=\"black\" fill=\"white\" stroke-width=\"1\" /><text x=\"1822.9027734375002\" y=\"75.0\" dominant-baseline=\"middle\" text-anchor=\"middle\" font-size=\"14px\" font-family=\"Arial\">Rz(s_l1_q1rz)</text><rect x=\"1893.6606250000002\" y=\"5.0\" width=\"100.41265625000001\" height=\"40\" stroke=\"black\" fill=\"white\" stroke-width=\"1\" /><text x=\"1943.8669531250002\" y=\"25.0\" dominant-baseline=\"middle\" text-anchor=\"middle\" font-size=\"14px\" font-family=\"Arial\">Rz(s_l1_q0rz)</text><circle cx=\"2087.6679492187504\" cy=\"25.0\" r=\"10.0\" /><rect x=\"2014.0732812500005\" y=\"55.0\" width=\"147.1893359375\" height=\"40\" stroke=\"black\" fill=\"white\" stroke-width=\"1\" /><text x=\"2087.6679492187504\" y=\"75.0\" dominant-baseline=\"middle\" text-anchor=\"middle\" font-size=\"14px\" font-family=\"Arial\">@^s_l1_q0block3cz</text><rect x=\"2181.2626171875004\" y=\"55.0\" width=\"110.82542968749999\" height=\"40\" stroke=\"black\" fill=\"white\" stroke-width=\"1\" /><text x=\"2236.6753320312505\" y=\"75.0\" dominant-baseline=\"middle\" text-anchor=\"middle\" font-size=\"14px\" font-family=\"Arial\">Rx(s_l1_q0rx2)</text><circle cx=\"2385.68271484375\" cy=\"75.0\" r=\"10.0\" /><rect x=\"2312.088046875\" y=\"105.0\" width=\"147.1893359375\" height=\"40\" stroke=\"black\" fill=\"white\" stroke-width=\"1\" /><text x=\"2385.68271484375\" y=\"125.0\" dominant-baseline=\"middle\" text-anchor=\"middle\" font-size=\"14px\" font-family=\"Arial\">@^s_l1_q1block3cz</text><rect x=\"2479.2773828125\" y=\"105.0\" width=\"110.82542968749999\" height=\"40\" stroke=\"black\" fill=\"white\" stroke-width=\"1\" /><text x=\"2534.69009765625\" y=\"125.0\" dominant-baseline=\"middle\" text-anchor=\"middle\" font-size=\"14px\" font-family=\"Arial\">Rx(s_l1_q1rx2)</text><circle cx=\"2683.69748046875\" cy=\"125.0\" r=\"10.0\" /><rect x=\"2610.1028125000003\" y=\"155.0\" width=\"147.1893359375\" height=\"40\" stroke=\"black\" fill=\"white\" stroke-width=\"1\" /><text x=\"2683.69748046875\" y=\"175.0\" dominant-baseline=\"middle\" text-anchor=\"middle\" font-size=\"14px\" font-family=\"Arial\">@^s_l1_q2block3cz</text><rect x=\"2777.2921484375\" y=\"155.0\" width=\"110.82542968749999\" height=\"40\" stroke=\"black\" fill=\"white\" stroke-width=\"1\" /><text x=\"2832.7048632812503\" y=\"175.0\" dominant-baseline=\"middle\" text-anchor=\"middle\" font-size=\"14px\" font-family=\"Arial\">Rx(s_l1_q2rx2)</text><rect x=\"2908.1175781250004\" y=\"155.0\" width=\"147.1893359375\" height=\"40\" stroke=\"black\" fill=\"white\" stroke-width=\"1\" /><text x=\"2981.7122460937503\" y=\"175.0\" dominant-baseline=\"middle\" text-anchor=\"middle\" font-size=\"14px\" font-family=\"Arial\">@^s_l1_q3block3cz</text><circle cx=\"2981.7122460937503\" cy=\"25.0\" r=\"10.0\" /><rect x=\"3075.3069140625003\" y=\"5.0\" width=\"110.82542968749999\" height=\"40\" stroke=\"black\" fill=\"white\" stroke-width=\"1\" /><text x=\"3130.7196289062504\" y=\"25.0\" dominant-baseline=\"middle\" text-anchor=\"middle\" font-size=\"14px\" font-family=\"Arial\">Rx(s_l1_q3rx2)</text><rect x=\"3206.1323437500005\" y=\"5.0\" width=\"109.3198828125\" height=\"40\" stroke=\"black\" fill=\"white\" stroke-width=\"1\" /><text x=\"3260.7922851562503\" y=\"25.0\" dominant-baseline=\"middle\" text-anchor=\"middle\" font-size=\"14px\" font-family=\"Arial\">Rz(s_l2_q0rz0)</text><rect x=\"3335.4522265625005\" y=\"5.0\" width=\"101.515703125\" height=\"40\" stroke=\"black\" fill=\"white\" stroke-width=\"1\" /><text x=\"3386.2100781250006\" y=\"25.0\" dominant-baseline=\"middle\" text-anchor=\"middle\" font-size=\"14px\" font-family=\"Arial\">Ry(s_l2_q0ry)</text><rect x=\"3456.9679296875006\" y=\"5.0\" width=\"100.41265625000001\" height=\"40\" stroke=\"black\" fill=\"white\" stroke-width=\"1\" /><text x=\"3507.1742578125004\" y=\"25.0\" dominant-baseline=\"middle\" text-anchor=\"middle\" font-size=\"14px\" font-family=\"Arial\">Rz(s_l2_q0rz)</text></svg>"
      ],
      "text/plain": [
       "<cirq.contrib.svg.svg.SVGCircuit at 0x7fbab85398e0>"
      ]
     },
     "execution_count": 624,
     "metadata": {},
     "output_type": "execute_result"
    }
   ],
   "source": [
    "# TEST CELL to make sure CircuitLayerBuilder works properly\n",
    "circuit = cirq.Circuit()\n",
    "demo_builder = CircuitLayerBuilder(circuit=circuit,\n",
    "                                   data_qubits = cirq.GridQubit.rect(4,1),)\n",
    "\n",
    "#demo_builder.add_layer(block=1, apply_dropout=True)\n",
    "demo_builder.add_layer(block=1, apply_dropout=False)\n",
    "demo_builder.add_layer(block=3, apply_dropout=False) # Only apply dropout once\n",
    "demo_builder.add_final_out()\n",
    "\n",
    "SVGCircuit(circuit)"
   ]
  },
  {
   "cell_type": "markdown",
   "metadata": {
    "colab_type": "text",
    "id": "T-QhPE1pojhu"
   },
   "source": [
    "Now build a two-layered model, matching the data-circuit size, and include the preparation and readout operations."
   ]
  },
  {
   "cell_type": "code",
   "execution_count": 764,
   "metadata": {
    "colab": {},
    "colab_type": "code",
    "id": "JiALbpwRGL69",
    "tags": []
   },
   "outputs": [],
   "source": [
    "def create_quantum_model(apply_dropout=False, n_dropout=5, builder=None, computed_weights_arr=None):\n",
    "    \"\"\"Create a QNN model circuit and readout operation to go along with it.\"\"\"\n",
    "    data_qubits = cirq.GridQubit.rect(4, 2)  # a 4x2 grid.\n",
    "    circuit = cirq.Circuit()\n",
    "    \n",
    "    if builder is None or computed_weights_arr is None:\n",
    "        builder = CircuitLayerBuilder(\n",
    "            circuit=circuit,\n",
    "            data_qubits=data_qubits,\n",
    "            repeat_dropout=n_dropout)\n",
    "        if apply_dropout:\n",
    "            builder.TEST_STATE_N_DROPOUT = n_dropout\n",
    "            builder.TEST_STATE_DROPOUT_ID = np.random.randint(1, len(data_qubits) + 1)\n",
    "        else:\n",
    "            builder.TEST_STATE_N_DROPOUT = None\n",
    "    else:\n",
    "        builder.rebuild(circuit, data_qubits, computed_weights_arr, preserve_dropout=apply_dropout)\n",
    "        \n",
    "        if builder.TEST_STATE_N_DROPOUT is not None and builder.TEST_STATE_N_DROPOUT == 0:\n",
    "            builder.TEST_STATE_N_DROPOUT = n_dropout\n",
    "            builder.TEST_STATE_DROPOUT_ID = np.random.randint(1, len(data_qubits))\n",
    "            if builder.TEST_STATE_DROPOUT_ID > len(data_qubits):\n",
    "                builder.TEST_STATE_N_DROPOUT = 0 # retry on next!\n",
    "\n",
    "    # Then add layers\n",
    "    # only drop out one qubit as per Schuld\n",
    "    builder.add_layer(block=1, apply_dropout=False)\n",
    "    builder.add_layer(block=3, apply_dropout=False)\n",
    "    builder.add_final_out()\n",
    "\n",
    "    # Finally, prepare the readout qubit.\n",
    "\n",
    "    #print('builder.TEST_STATE_N_DROPOUT = ', builder.TEST_STATE_N_DROPOUT)\n",
    "    #print('builder.TEST_STATE_DROPOUT_ID = ', builder.TEST_STATE_DROPOUT_ID)\n",
    "    if apply_dropout and builder.TEST_STATE_N_DROPOUT is not None and builder.TEST_STATE_DROPOUT_ID < len(data_qubits):\n",
    "        print('Built model, going to drop out qubit id ', builder.TEST_STATE_DROPOUT_ID)\n",
    "        readouts = [cirq.Z(data_qubits[0]), cirq.Z(data_qubits[builder.TEST_STATE_DROPOUT_ID])]\n",
    "        builder.TEST_STATE_N_DROPOUT -= 1\n",
    "    else:\n",
    "        readouts = [cirq.Z(data_qubits[0]), cirq.Z(data_qubits[0])]\n",
    "    \n",
    "    return builder, circuit, readouts"
   ]
  },
  {
   "cell_type": "code",
   "execution_count": 753,
   "metadata": {
    "colab": {},
    "colab_type": "code",
    "id": "2QZvVh7vojhx",
    "tags": []
   },
   "outputs": [
    {
     "data": {
      "image/svg+xml": [
       "<svg xmlns=\"http://www.w3.org/2000/svg\" width=\"5991.498710937501\" height=\"400.0\"><line x1=\"34.7588671875\" x2=\"5961.498710937501\" y1=\"25.0\" y2=\"25.0\" stroke=\"#1967d2\" stroke-width=\"1\" /><line x1=\"34.7588671875\" x2=\"5961.498710937501\" y1=\"75.0\" y2=\"75.0\" stroke=\"#1967d2\" stroke-width=\"1\" /><line x1=\"34.7588671875\" x2=\"5961.498710937501\" y1=\"125.0\" y2=\"125.0\" stroke=\"#1967d2\" stroke-width=\"1\" /><line x1=\"34.7588671875\" x2=\"5961.498710937501\" y1=\"175.0\" y2=\"175.0\" stroke=\"#1967d2\" stroke-width=\"1\" /><line x1=\"34.7588671875\" x2=\"5961.498710937501\" y1=\"225.0\" y2=\"225.0\" stroke=\"#1967d2\" stroke-width=\"1\" /><line x1=\"34.7588671875\" x2=\"5961.498710937501\" y1=\"275.0\" y2=\"275.0\" stroke=\"#1967d2\" stroke-width=\"1\" /><line x1=\"34.7588671875\" x2=\"5961.498710937501\" y1=\"325.0\" y2=\"325.0\" stroke=\"#1967d2\" stroke-width=\"1\" /><line x1=\"34.7588671875\" x2=\"5961.498710937501\" y1=\"375.0\" y2=\"375.0\" stroke=\"#1967d2\" stroke-width=\"1\" /><line x1=\"524.36064453125\" x2=\"524.36064453125\" y1=\"25.0\" y2=\"375.0\" stroke=\"black\" stroke-width=\"3\" /><line x1=\"822.3754101562499\" x2=\"822.3754101562499\" y1=\"325.0\" y2=\"375.0\" stroke=\"black\" stroke-width=\"3\" /><line x1=\"1120.39017578125\" x2=\"1120.39017578125\" y1=\"275.0\" y2=\"325.0\" stroke=\"black\" stroke-width=\"3\" /><line x1=\"1418.40494140625\" x2=\"1418.40494140625\" y1=\"225.0\" y2=\"275.0\" stroke=\"black\" stroke-width=\"3\" /><line x1=\"1716.41970703125\" x2=\"1716.41970703125\" y1=\"175.0\" y2=\"225.0\" stroke=\"black\" stroke-width=\"3\" /><line x1=\"2014.4344726562501\" x2=\"2014.4344726562501\" y1=\"125.0\" y2=\"175.0\" stroke=\"black\" stroke-width=\"3\" /><line x1=\"2312.44923828125\" x2=\"2312.44923828125\" y1=\"75.0\" y2=\"125.0\" stroke=\"black\" stroke-width=\"3\" /><line x1=\"2610.46400390625\" x2=\"2610.46400390625\" y1=\"25.0\" y2=\"75.0\" stroke=\"black\" stroke-width=\"3\" /><line x1=\"3279.7270117187504\" x2=\"3279.7270117187504\" y1=\"25.0\" y2=\"275.0\" stroke=\"black\" stroke-width=\"3\" /><line x1=\"3577.7417773437505\" x2=\"3577.7417773437505\" y1=\"125.0\" y2=\"275.0\" stroke=\"black\" stroke-width=\"3\" /><line x1=\"3875.7565429687506\" x2=\"3875.7565429687506\" y1=\"125.0\" y2=\"375.0\" stroke=\"black\" stroke-width=\"3\" /><line x1=\"4173.771308593751\" x2=\"4173.771308593751\" y1=\"225.0\" y2=\"375.0\" stroke=\"black\" stroke-width=\"3\" /><line x1=\"4471.786074218751\" x2=\"4471.786074218751\" y1=\"75.0\" y2=\"225.0\" stroke=\"black\" stroke-width=\"3\" /><line x1=\"4769.800839843751\" x2=\"4769.800839843751\" y1=\"75.0\" y2=\"325.0\" stroke=\"black\" stroke-width=\"3\" /><line x1=\"5067.8156054687515\" x2=\"5067.8156054687515\" y1=\"175.0\" y2=\"325.0\" stroke=\"black\" stroke-width=\"3\" /><line x1=\"5365.830371093752\" x2=\"5365.830371093752\" y1=\"25.0\" y2=\"175.0\" stroke=\"black\" stroke-width=\"3\" /><rect x=\"10.0\" y=\"5.0\" width=\"49.517734375\" height=\"40\" stroke=\"black\" fill=\"white\" stroke-width=\"0\" /><text x=\"34.7588671875\" y=\"25.0\" dominant-baseline=\"middle\" text-anchor=\"middle\" font-size=\"14px\" font-family=\"Arial\">(0, 0): </text><rect x=\"10.0\" y=\"55.0\" width=\"49.517734375\" height=\"40\" stroke=\"black\" fill=\"white\" stroke-width=\"0\" /><text x=\"34.7588671875\" y=\"75.0\" dominant-baseline=\"middle\" text-anchor=\"middle\" font-size=\"14px\" font-family=\"Arial\">(0, 1): </text><rect x=\"10.0\" y=\"105.0\" width=\"49.517734375\" height=\"40\" stroke=\"black\" fill=\"white\" stroke-width=\"0\" /><text x=\"34.7588671875\" y=\"125.0\" dominant-baseline=\"middle\" text-anchor=\"middle\" font-size=\"14px\" font-family=\"Arial\">(1, 0): </text><rect x=\"10.0\" y=\"155.0\" width=\"49.517734375\" height=\"40\" stroke=\"black\" fill=\"white\" stroke-width=\"0\" /><text x=\"34.7588671875\" y=\"175.0\" dominant-baseline=\"middle\" text-anchor=\"middle\" font-size=\"14px\" font-family=\"Arial\">(1, 1): </text><rect x=\"10.0\" y=\"205.0\" width=\"49.517734375\" height=\"40\" stroke=\"black\" fill=\"white\" stroke-width=\"0\" /><text x=\"34.7588671875\" y=\"225.0\" dominant-baseline=\"middle\" text-anchor=\"middle\" font-size=\"14px\" font-family=\"Arial\">(2, 0): </text><rect x=\"10.0\" y=\"255.0\" width=\"49.517734375\" height=\"40\" stroke=\"black\" fill=\"white\" stroke-width=\"0\" /><text x=\"34.7588671875\" y=\"275.0\" dominant-baseline=\"middle\" text-anchor=\"middle\" font-size=\"14px\" font-family=\"Arial\">(2, 1): </text><rect x=\"10.0\" y=\"305.0\" width=\"49.517734375\" height=\"40\" stroke=\"black\" fill=\"white\" stroke-width=\"0\" /><text x=\"34.7588671875\" y=\"325.0\" dominant-baseline=\"middle\" text-anchor=\"middle\" font-size=\"14px\" font-family=\"Arial\">(3, 0): </text><rect x=\"10.0\" y=\"355.0\" width=\"49.517734375\" height=\"40\" stroke=\"black\" fill=\"white\" stroke-width=\"0\" /><text x=\"34.7588671875\" y=\"375.0\" dominant-baseline=\"middle\" text-anchor=\"middle\" font-size=\"14px\" font-family=\"Arial\">(3, 1): </text><rect x=\"79.517734375\" y=\"5.0\" width=\"109.3198828125\" height=\"40\" stroke=\"black\" fill=\"white\" stroke-width=\"1\" /><text x=\"134.17767578125\" y=\"25.0\" dominant-baseline=\"middle\" text-anchor=\"middle\" font-size=\"14px\" font-family=\"Arial\">Rz(s_l0_q0rz0)</text><rect x=\"79.517734375\" y=\"55.0\" width=\"109.3198828125\" height=\"40\" stroke=\"black\" fill=\"white\" stroke-width=\"1\" /><text x=\"134.17767578125\" y=\"75.0\" dominant-baseline=\"middle\" text-anchor=\"middle\" font-size=\"14px\" font-family=\"Arial\">Rz(s_l0_q1rz0)</text><rect x=\"79.517734375\" y=\"105.0\" width=\"109.3198828125\" height=\"40\" stroke=\"black\" fill=\"white\" stroke-width=\"1\" /><text x=\"134.17767578125\" y=\"125.0\" dominant-baseline=\"middle\" text-anchor=\"middle\" font-size=\"14px\" font-family=\"Arial\">Rz(s_l0_q2rz0)</text><rect x=\"79.517734375\" y=\"155.0\" width=\"109.3198828125\" height=\"40\" stroke=\"black\" fill=\"white\" stroke-width=\"1\" /><text x=\"134.17767578125\" y=\"175.0\" dominant-baseline=\"middle\" text-anchor=\"middle\" font-size=\"14px\" font-family=\"Arial\">Rz(s_l0_q3rz0)</text><rect x=\"79.517734375\" y=\"205.0\" width=\"109.3198828125\" height=\"40\" stroke=\"black\" fill=\"white\" stroke-width=\"1\" /><text x=\"134.17767578125\" y=\"225.0\" dominant-baseline=\"middle\" text-anchor=\"middle\" font-size=\"14px\" font-family=\"Arial\">Rz(s_l0_q4rz0)</text><rect x=\"79.517734375\" y=\"255.0\" width=\"109.3198828125\" height=\"40\" stroke=\"black\" fill=\"white\" stroke-width=\"1\" /><text x=\"134.17767578125\" y=\"275.0\" dominant-baseline=\"middle\" text-anchor=\"middle\" font-size=\"14px\" font-family=\"Arial\">Rz(s_l0_q5rz0)</text><rect x=\"79.517734375\" y=\"305.0\" width=\"109.3198828125\" height=\"40\" stroke=\"black\" fill=\"white\" stroke-width=\"1\" /><text x=\"134.17767578125\" y=\"325.0\" dominant-baseline=\"middle\" text-anchor=\"middle\" font-size=\"14px\" font-family=\"Arial\">Rz(s_l0_q6rz0)</text><rect x=\"79.517734375\" y=\"355.0\" width=\"109.3198828125\" height=\"40\" stroke=\"black\" fill=\"white\" stroke-width=\"1\" /><text x=\"134.17767578125\" y=\"375.0\" dominant-baseline=\"middle\" text-anchor=\"middle\" font-size=\"14px\" font-family=\"Arial\">Rz(s_l0_q7rz0)</text><rect x=\"208.8376171875\" y=\"5.0\" width=\"101.515703125\" height=\"40\" stroke=\"black\" fill=\"white\" stroke-width=\"1\" /><text x=\"259.59546875\" y=\"25.0\" dominant-baseline=\"middle\" text-anchor=\"middle\" font-size=\"14px\" font-family=\"Arial\">Ry(s_l0_q0ry)</text><rect x=\"208.8376171875\" y=\"55.0\" width=\"101.515703125\" height=\"40\" stroke=\"black\" fill=\"white\" stroke-width=\"1\" /><text x=\"259.59546875\" y=\"75.0\" dominant-baseline=\"middle\" text-anchor=\"middle\" font-size=\"14px\" font-family=\"Arial\">Ry(s_l0_q1ry)</text><rect x=\"208.8376171875\" y=\"105.0\" width=\"101.515703125\" height=\"40\" stroke=\"black\" fill=\"white\" stroke-width=\"1\" /><text x=\"259.59546875\" y=\"125.0\" dominant-baseline=\"middle\" text-anchor=\"middle\" font-size=\"14px\" font-family=\"Arial\">Ry(s_l0_q2ry)</text><rect x=\"208.8376171875\" y=\"155.0\" width=\"101.515703125\" height=\"40\" stroke=\"black\" fill=\"white\" stroke-width=\"1\" /><text x=\"259.59546875\" y=\"175.0\" dominant-baseline=\"middle\" text-anchor=\"middle\" font-size=\"14px\" font-family=\"Arial\">Ry(s_l0_q3ry)</text><rect x=\"208.8376171875\" y=\"205.0\" width=\"101.515703125\" height=\"40\" stroke=\"black\" fill=\"white\" stroke-width=\"1\" /><text x=\"259.59546875\" y=\"225.0\" dominant-baseline=\"middle\" text-anchor=\"middle\" font-size=\"14px\" font-family=\"Arial\">Ry(s_l0_q4ry)</text><rect x=\"208.8376171875\" y=\"255.0\" width=\"101.515703125\" height=\"40\" stroke=\"black\" fill=\"white\" stroke-width=\"1\" /><text x=\"259.59546875\" y=\"275.0\" dominant-baseline=\"middle\" text-anchor=\"middle\" font-size=\"14px\" font-family=\"Arial\">Ry(s_l0_q5ry)</text><rect x=\"208.8376171875\" y=\"305.0\" width=\"101.515703125\" height=\"40\" stroke=\"black\" fill=\"white\" stroke-width=\"1\" /><text x=\"259.59546875\" y=\"325.0\" dominant-baseline=\"middle\" text-anchor=\"middle\" font-size=\"14px\" font-family=\"Arial\">Ry(s_l0_q6ry)</text><rect x=\"208.8376171875\" y=\"355.0\" width=\"101.515703125\" height=\"40\" stroke=\"black\" fill=\"white\" stroke-width=\"1\" /><text x=\"259.59546875\" y=\"375.0\" dominant-baseline=\"middle\" text-anchor=\"middle\" font-size=\"14px\" font-family=\"Arial\">Ry(s_l0_q7ry)</text><rect x=\"330.3533203125\" y=\"5.0\" width=\"100.41265625000001\" height=\"40\" stroke=\"black\" fill=\"white\" stroke-width=\"1\" /><text x=\"380.5596484375\" y=\"25.0\" dominant-baseline=\"middle\" text-anchor=\"middle\" font-size=\"14px\" font-family=\"Arial\">Rz(s_l0_q0rz)</text><rect x=\"330.3533203125\" y=\"55.0\" width=\"100.41265625000001\" height=\"40\" stroke=\"black\" fill=\"white\" stroke-width=\"1\" /><text x=\"380.5596484375\" y=\"75.0\" dominant-baseline=\"middle\" text-anchor=\"middle\" font-size=\"14px\" font-family=\"Arial\">Rz(s_l0_q1rz)</text><rect x=\"330.3533203125\" y=\"105.0\" width=\"100.41265625000001\" height=\"40\" stroke=\"black\" fill=\"white\" stroke-width=\"1\" /><text x=\"380.5596484375\" y=\"125.0\" dominant-baseline=\"middle\" text-anchor=\"middle\" font-size=\"14px\" font-family=\"Arial\">Rz(s_l0_q2rz)</text><rect x=\"330.3533203125\" y=\"155.0\" width=\"100.41265625000001\" height=\"40\" stroke=\"black\" fill=\"white\" stroke-width=\"1\" /><text x=\"380.5596484375\" y=\"175.0\" dominant-baseline=\"middle\" text-anchor=\"middle\" font-size=\"14px\" font-family=\"Arial\">Rz(s_l0_q3rz)</text><rect x=\"330.3533203125\" y=\"205.0\" width=\"100.41265625000001\" height=\"40\" stroke=\"black\" fill=\"white\" stroke-width=\"1\" /><text x=\"380.5596484375\" y=\"225.0\" dominant-baseline=\"middle\" text-anchor=\"middle\" font-size=\"14px\" font-family=\"Arial\">Rz(s_l0_q4rz)</text><rect x=\"330.3533203125\" y=\"255.0\" width=\"100.41265625000001\" height=\"40\" stroke=\"black\" fill=\"white\" stroke-width=\"1\" /><text x=\"380.5596484375\" y=\"275.0\" dominant-baseline=\"middle\" text-anchor=\"middle\" font-size=\"14px\" font-family=\"Arial\">Rz(s_l0_q5rz)</text><rect x=\"330.3533203125\" y=\"305.0\" width=\"100.41265625000001\" height=\"40\" stroke=\"black\" fill=\"white\" stroke-width=\"1\" /><text x=\"380.5596484375\" y=\"325.0\" dominant-baseline=\"middle\" text-anchor=\"middle\" font-size=\"14px\" font-family=\"Arial\">Rz(s_l0_q6rz)</text><rect x=\"330.3533203125\" y=\"355.0\" width=\"100.41265625000001\" height=\"40\" stroke=\"black\" fill=\"white\" stroke-width=\"1\" /><text x=\"380.5596484375\" y=\"375.0\" dominant-baseline=\"middle\" text-anchor=\"middle\" font-size=\"14px\" font-family=\"Arial\">Rz(s_l0_q7rz)</text><circle cx=\"524.36064453125\" cy=\"25.0\" r=\"10.0\" /><rect x=\"450.76597656250004\" y=\"355.0\" width=\"147.1893359375\" height=\"40\" stroke=\"black\" fill=\"white\" stroke-width=\"1\" /><text x=\"524.36064453125\" y=\"375.0\" dominant-baseline=\"middle\" text-anchor=\"middle\" font-size=\"14px\" font-family=\"Arial\">@^s_l0_q0block1cz</text><rect x=\"617.9553125\" y=\"355.0\" width=\"110.82542968749999\" height=\"40\" stroke=\"black\" fill=\"white\" stroke-width=\"1\" /><text x=\"673.36802734375\" y=\"375.0\" dominant-baseline=\"middle\" text-anchor=\"middle\" font-size=\"14px\" font-family=\"Arial\">Rx(s_l0_q0rx2)</text><rect x=\"748.7807421875\" y=\"355.0\" width=\"147.1893359375\" height=\"40\" stroke=\"black\" fill=\"white\" stroke-width=\"1\" /><text x=\"822.3754101562499\" y=\"375.0\" dominant-baseline=\"middle\" text-anchor=\"middle\" font-size=\"14px\" font-family=\"Arial\">@^s_l0_q1block1cz</text><circle cx=\"822.3754101562499\" cy=\"325.0\" r=\"10.0\" /><rect x=\"915.970078125\" y=\"305.0\" width=\"110.82542968749999\" height=\"40\" stroke=\"black\" fill=\"white\" stroke-width=\"1\" /><text x=\"971.38279296875\" y=\"325.0\" dominant-baseline=\"middle\" text-anchor=\"middle\" font-size=\"14px\" font-family=\"Arial\">Rx(s_l0_q1rx2)</text><rect x=\"915.970078125\" y=\"355.0\" width=\"110.82542968749999\" height=\"40\" stroke=\"black\" fill=\"white\" stroke-width=\"1\" /><text x=\"971.38279296875\" y=\"375.0\" dominant-baseline=\"middle\" text-anchor=\"middle\" font-size=\"14px\" font-family=\"Arial\">Rz(s_l1_q7rz0)</text><rect x=\"1046.7955078125\" y=\"305.0\" width=\"147.1893359375\" height=\"40\" stroke=\"black\" fill=\"white\" stroke-width=\"1\" /><text x=\"1120.39017578125\" y=\"325.0\" dominant-baseline=\"middle\" text-anchor=\"middle\" font-size=\"14px\" font-family=\"Arial\">@^s_l0_q2block1cz</text><circle cx=\"1120.39017578125\" cy=\"275.0\" r=\"10.0\" /><rect x=\"1046.7955078125\" y=\"355.0\" width=\"147.1893359375\" height=\"40\" stroke=\"black\" fill=\"white\" stroke-width=\"1\" /><text x=\"1120.39017578125\" y=\"375.0\" dominant-baseline=\"middle\" text-anchor=\"middle\" font-size=\"14px\" font-family=\"Arial\">Ry(s_l1_q7ry)</text><rect x=\"1213.98484375\" y=\"255.0\" width=\"110.82542968749999\" height=\"40\" stroke=\"black\" fill=\"white\" stroke-width=\"1\" /><text x=\"1269.39755859375\" y=\"275.0\" dominant-baseline=\"middle\" text-anchor=\"middle\" font-size=\"14px\" font-family=\"Arial\">Rx(s_l0_q2rx2)</text><rect x=\"1213.98484375\" y=\"305.0\" width=\"110.82542968749999\" height=\"40\" stroke=\"black\" fill=\"white\" stroke-width=\"1\" /><text x=\"1269.39755859375\" y=\"325.0\" dominant-baseline=\"middle\" text-anchor=\"middle\" font-size=\"14px\" font-family=\"Arial\">Rz(s_l1_q6rz0)</text><rect x=\"1213.98484375\" y=\"355.0\" width=\"110.82542968749999\" height=\"40\" stroke=\"black\" fill=\"white\" stroke-width=\"1\" /><text x=\"1269.39755859375\" y=\"375.0\" dominant-baseline=\"middle\" text-anchor=\"middle\" font-size=\"14px\" font-family=\"Arial\">Rz(s_l1_q7rz)</text><rect x=\"1344.8102734375\" y=\"255.0\" width=\"147.1893359375\" height=\"40\" stroke=\"black\" fill=\"white\" stroke-width=\"1\" /><text x=\"1418.40494140625\" y=\"275.0\" dominant-baseline=\"middle\" text-anchor=\"middle\" font-size=\"14px\" font-family=\"Arial\">@^s_l0_q3block1cz</text><circle cx=\"1418.40494140625\" cy=\"225.0\" r=\"10.0\" /><rect x=\"1344.8102734375\" y=\"305.0\" width=\"147.1893359375\" height=\"40\" stroke=\"black\" fill=\"white\" stroke-width=\"1\" /><text x=\"1418.40494140625\" y=\"325.0\" dominant-baseline=\"middle\" text-anchor=\"middle\" font-size=\"14px\" font-family=\"Arial\">Ry(s_l1_q6ry)</text><rect x=\"1511.999609375\" y=\"205.0\" width=\"110.82542968749999\" height=\"40\" stroke=\"black\" fill=\"white\" stroke-width=\"1\" /><text x=\"1567.4123242187502\" y=\"225.0\" dominant-baseline=\"middle\" text-anchor=\"middle\" font-size=\"14px\" font-family=\"Arial\">Rx(s_l0_q3rx2)</text><rect x=\"1511.999609375\" y=\"255.0\" width=\"110.82542968749999\" height=\"40\" stroke=\"black\" fill=\"white\" stroke-width=\"1\" /><text x=\"1567.4123242187502\" y=\"275.0\" dominant-baseline=\"middle\" text-anchor=\"middle\" font-size=\"14px\" font-family=\"Arial\">Rz(s_l1_q5rz0)</text><rect x=\"1511.999609375\" y=\"305.0\" width=\"110.82542968749999\" height=\"40\" stroke=\"black\" fill=\"white\" stroke-width=\"1\" /><text x=\"1567.4123242187502\" y=\"325.0\" dominant-baseline=\"middle\" text-anchor=\"middle\" font-size=\"14px\" font-family=\"Arial\">Rz(s_l1_q6rz)</text><rect x=\"1642.8250390625\" y=\"205.0\" width=\"147.1893359375\" height=\"40\" stroke=\"black\" fill=\"white\" stroke-width=\"1\" /><text x=\"1716.41970703125\" y=\"225.0\" dominant-baseline=\"middle\" text-anchor=\"middle\" font-size=\"14px\" font-family=\"Arial\">@^s_l0_q4block1cz</text><circle cx=\"1716.41970703125\" cy=\"175.0\" r=\"10.0\" /><rect x=\"1642.8250390625\" y=\"255.0\" width=\"147.1893359375\" height=\"40\" stroke=\"black\" fill=\"white\" stroke-width=\"1\" /><text x=\"1716.41970703125\" y=\"275.0\" dominant-baseline=\"middle\" text-anchor=\"middle\" font-size=\"14px\" font-family=\"Arial\">Ry(s_l1_q5ry)</text><rect x=\"1810.0143750000002\" y=\"155.0\" width=\"110.82542968749999\" height=\"40\" stroke=\"black\" fill=\"white\" stroke-width=\"1\" /><text x=\"1865.4270898437503\" y=\"175.0\" dominant-baseline=\"middle\" text-anchor=\"middle\" font-size=\"14px\" font-family=\"Arial\">Rx(s_l0_q4rx2)</text><rect x=\"1810.0143750000002\" y=\"205.0\" width=\"110.82542968749999\" height=\"40\" stroke=\"black\" fill=\"white\" stroke-width=\"1\" /><text x=\"1865.4270898437503\" y=\"225.0\" dominant-baseline=\"middle\" text-anchor=\"middle\" font-size=\"14px\" font-family=\"Arial\">Rz(s_l1_q4rz0)</text><rect x=\"1810.0143750000002\" y=\"255.0\" width=\"110.82542968749999\" height=\"40\" stroke=\"black\" fill=\"white\" stroke-width=\"1\" /><text x=\"1865.4270898437503\" y=\"275.0\" dominant-baseline=\"middle\" text-anchor=\"middle\" font-size=\"14px\" font-family=\"Arial\">Rz(s_l1_q5rz)</text><rect x=\"1940.8398046875002\" y=\"155.0\" width=\"147.1893359375\" height=\"40\" stroke=\"black\" fill=\"white\" stroke-width=\"1\" /><text x=\"2014.4344726562501\" y=\"175.0\" dominant-baseline=\"middle\" text-anchor=\"middle\" font-size=\"14px\" font-family=\"Arial\">@^s_l0_q5block1cz</text><circle cx=\"2014.4344726562501\" cy=\"125.0\" r=\"10.0\" /><rect x=\"1940.8398046875002\" y=\"205.0\" width=\"147.1893359375\" height=\"40\" stroke=\"black\" fill=\"white\" stroke-width=\"1\" /><text x=\"2014.4344726562501\" y=\"225.0\" dominant-baseline=\"middle\" text-anchor=\"middle\" font-size=\"14px\" font-family=\"Arial\">Ry(s_l1_q4ry)</text><rect x=\"2108.0291406250003\" y=\"105.0\" width=\"110.82542968749999\" height=\"40\" stroke=\"black\" fill=\"white\" stroke-width=\"1\" /><text x=\"2163.4418554687504\" y=\"125.0\" dominant-baseline=\"middle\" text-anchor=\"middle\" font-size=\"14px\" font-family=\"Arial\">Rx(s_l0_q5rx2)</text><rect x=\"2108.0291406250003\" y=\"155.0\" width=\"110.82542968749999\" height=\"40\" stroke=\"black\" fill=\"white\" stroke-width=\"1\" /><text x=\"2163.4418554687504\" y=\"175.0\" dominant-baseline=\"middle\" text-anchor=\"middle\" font-size=\"14px\" font-family=\"Arial\">Rz(s_l1_q3rz0)</text><rect x=\"2108.0291406250003\" y=\"205.0\" width=\"110.82542968749999\" height=\"40\" stroke=\"black\" fill=\"white\" stroke-width=\"1\" /><text x=\"2163.4418554687504\" y=\"225.0\" dominant-baseline=\"middle\" text-anchor=\"middle\" font-size=\"14px\" font-family=\"Arial\">Rz(s_l1_q4rz)</text><rect x=\"2238.8545703125\" y=\"105.0\" width=\"147.1893359375\" height=\"40\" stroke=\"black\" fill=\"white\" stroke-width=\"1\" /><text x=\"2312.44923828125\" y=\"125.0\" dominant-baseline=\"middle\" text-anchor=\"middle\" font-size=\"14px\" font-family=\"Arial\">@^s_l0_q6block1cz</text><circle cx=\"2312.44923828125\" cy=\"75.0\" r=\"10.0\" /><rect x=\"2238.8545703125\" y=\"155.0\" width=\"147.1893359375\" height=\"40\" stroke=\"black\" fill=\"white\" stroke-width=\"1\" /><text x=\"2312.44923828125\" y=\"175.0\" dominant-baseline=\"middle\" text-anchor=\"middle\" font-size=\"14px\" font-family=\"Arial\">Ry(s_l1_q3ry)</text><rect x=\"2406.04390625\" y=\"55.0\" width=\"110.82542968749999\" height=\"40\" stroke=\"black\" fill=\"white\" stroke-width=\"1\" /><text x=\"2461.45662109375\" y=\"75.0\" dominant-baseline=\"middle\" text-anchor=\"middle\" font-size=\"14px\" font-family=\"Arial\">Rx(s_l0_q6rx2)</text><rect x=\"2406.04390625\" y=\"105.0\" width=\"110.82542968749999\" height=\"40\" stroke=\"black\" fill=\"white\" stroke-width=\"1\" /><text x=\"2461.45662109375\" y=\"125.0\" dominant-baseline=\"middle\" text-anchor=\"middle\" font-size=\"14px\" font-family=\"Arial\">Rz(s_l1_q2rz0)</text><rect x=\"2406.04390625\" y=\"155.0\" width=\"110.82542968749999\" height=\"40\" stroke=\"black\" fill=\"white\" stroke-width=\"1\" /><text x=\"2461.45662109375\" y=\"175.0\" dominant-baseline=\"middle\" text-anchor=\"middle\" font-size=\"14px\" font-family=\"Arial\">Rz(s_l1_q3rz)</text><rect x=\"2536.8693359375\" y=\"55.0\" width=\"147.1893359375\" height=\"40\" stroke=\"black\" fill=\"white\" stroke-width=\"1\" /><text x=\"2610.46400390625\" y=\"75.0\" dominant-baseline=\"middle\" text-anchor=\"middle\" font-size=\"14px\" font-family=\"Arial\">@^s_l0_q7block1cz</text><circle cx=\"2610.46400390625\" cy=\"25.0\" r=\"10.0\" /><rect x=\"2536.8693359375\" y=\"105.0\" width=\"147.1893359375\" height=\"40\" stroke=\"black\" fill=\"white\" stroke-width=\"1\" /><text x=\"2610.46400390625\" y=\"125.0\" dominant-baseline=\"middle\" text-anchor=\"middle\" font-size=\"14px\" font-family=\"Arial\">Ry(s_l1_q2ry)</text><rect x=\"2704.058671875\" y=\"5.0\" width=\"110.82542968749999\" height=\"40\" stroke=\"black\" fill=\"white\" stroke-width=\"1\" /><text x=\"2759.47138671875\" y=\"25.0\" dominant-baseline=\"middle\" text-anchor=\"middle\" font-size=\"14px\" font-family=\"Arial\">Rx(s_l0_q7rx2)</text><rect x=\"2704.058671875\" y=\"55.0\" width=\"110.82542968749999\" height=\"40\" stroke=\"black\" fill=\"white\" stroke-width=\"1\" /><text x=\"2759.47138671875\" y=\"75.0\" dominant-baseline=\"middle\" text-anchor=\"middle\" font-size=\"14px\" font-family=\"Arial\">Rz(s_l1_q1rz0)</text><rect x=\"2704.058671875\" y=\"105.0\" width=\"110.82542968749999\" height=\"40\" stroke=\"black\" fill=\"white\" stroke-width=\"1\" /><text x=\"2759.47138671875\" y=\"125.0\" dominant-baseline=\"middle\" text-anchor=\"middle\" font-size=\"14px\" font-family=\"Arial\">Rz(s_l1_q2rz)</text><rect x=\"2834.8841015625003\" y=\"5.0\" width=\"109.3198828125\" height=\"40\" stroke=\"black\" fill=\"white\" stroke-width=\"1\" /><text x=\"2889.54404296875\" y=\"25.0\" dominant-baseline=\"middle\" text-anchor=\"middle\" font-size=\"14px\" font-family=\"Arial\">Rz(s_l1_q0rz0)</text><rect x=\"2834.8841015625003\" y=\"55.0\" width=\"109.3198828125\" height=\"40\" stroke=\"black\" fill=\"white\" stroke-width=\"1\" /><text x=\"2889.54404296875\" y=\"75.0\" dominant-baseline=\"middle\" text-anchor=\"middle\" font-size=\"14px\" font-family=\"Arial\">Ry(s_l1_q1ry)</text><rect x=\"2964.2039843750003\" y=\"5.0\" width=\"101.515703125\" height=\"40\" stroke=\"black\" fill=\"white\" stroke-width=\"1\" /><text x=\"3014.9618359375004\" y=\"25.0\" dominant-baseline=\"middle\" text-anchor=\"middle\" font-size=\"14px\" font-family=\"Arial\">Ry(s_l1_q0ry)</text><rect x=\"2964.2039843750003\" y=\"55.0\" width=\"101.515703125\" height=\"40\" stroke=\"black\" fill=\"white\" stroke-width=\"1\" /><text x=\"3014.9618359375004\" y=\"75.0\" dominant-baseline=\"middle\" text-anchor=\"middle\" font-size=\"14px\" font-family=\"Arial\">Rz(s_l1_q1rz)</text><rect x=\"3085.7196875000004\" y=\"5.0\" width=\"100.41265625000001\" height=\"40\" stroke=\"black\" fill=\"white\" stroke-width=\"1\" /><text x=\"3135.926015625\" y=\"25.0\" dominant-baseline=\"middle\" text-anchor=\"middle\" font-size=\"14px\" font-family=\"Arial\">Rz(s_l1_q0rz)</text><circle cx=\"3279.7270117187504\" cy=\"25.0\" r=\"10.0\" /><rect x=\"3206.1323437500005\" y=\"255.0\" width=\"147.1893359375\" height=\"40\" stroke=\"black\" fill=\"white\" stroke-width=\"1\" /><text x=\"3279.7270117187504\" y=\"275.0\" dominant-baseline=\"middle\" text-anchor=\"middle\" font-size=\"14px\" font-family=\"Arial\">@^s_l1_q0block3cz</text><rect x=\"3373.3216796875004\" y=\"255.0\" width=\"110.82542968749999\" height=\"40\" stroke=\"black\" fill=\"white\" stroke-width=\"1\" /><text x=\"3428.7343945312505\" y=\"275.0\" dominant-baseline=\"middle\" text-anchor=\"middle\" font-size=\"14px\" font-family=\"Arial\">Rx(s_l1_q0rx2)</text><rect x=\"3504.1471093750006\" y=\"255.0\" width=\"147.1893359375\" height=\"40\" stroke=\"black\" fill=\"white\" stroke-width=\"1\" /><text x=\"3577.7417773437505\" y=\"275.0\" dominant-baseline=\"middle\" text-anchor=\"middle\" font-size=\"14px\" font-family=\"Arial\">@^s_l1_q1block3cz</text><circle cx=\"3577.7417773437505\" cy=\"125.0\" r=\"10.0\" /><rect x=\"3671.3364453125005\" y=\"105.0\" width=\"110.82542968749999\" height=\"40\" stroke=\"black\" fill=\"white\" stroke-width=\"1\" /><text x=\"3726.7491601562506\" y=\"125.0\" dominant-baseline=\"middle\" text-anchor=\"middle\" font-size=\"14px\" font-family=\"Arial\">Rx(s_l1_q1rx2)</text><circle cx=\"3875.7565429687506\" cy=\"125.0\" r=\"10.0\" /><rect x=\"3802.1618750000007\" y=\"355.0\" width=\"147.1893359375\" height=\"40\" stroke=\"black\" fill=\"white\" stroke-width=\"1\" /><text x=\"3875.7565429687506\" y=\"375.0\" dominant-baseline=\"middle\" text-anchor=\"middle\" font-size=\"14px\" font-family=\"Arial\">@^s_l1_q2block3cz</text><rect x=\"3969.3512109375006\" y=\"355.0\" width=\"110.82542968749999\" height=\"40\" stroke=\"black\" fill=\"white\" stroke-width=\"1\" /><text x=\"4024.7639257812507\" y=\"375.0\" dominant-baseline=\"middle\" text-anchor=\"middle\" font-size=\"14px\" font-family=\"Arial\">Rx(s_l1_q2rx2)</text><rect x=\"4100.176640625001\" y=\"355.0\" width=\"147.1893359375\" height=\"40\" stroke=\"black\" fill=\"white\" stroke-width=\"1\" /><text x=\"4173.771308593751\" y=\"375.0\" dominant-baseline=\"middle\" text-anchor=\"middle\" font-size=\"14px\" font-family=\"Arial\">@^s_l1_q3block3cz</text><circle cx=\"4173.771308593751\" cy=\"225.0\" r=\"10.0\" /><rect x=\"4267.365976562501\" y=\"205.0\" width=\"110.82542968749999\" height=\"40\" stroke=\"black\" fill=\"white\" stroke-width=\"1\" /><text x=\"4322.778691406251\" y=\"225.0\" dominant-baseline=\"middle\" text-anchor=\"middle\" font-size=\"14px\" font-family=\"Arial\">Rx(s_l1_q3rx2)</text><rect x=\"4398.191406250001\" y=\"205.0\" width=\"147.1893359375\" height=\"40\" stroke=\"black\" fill=\"white\" stroke-width=\"1\" /><text x=\"4471.786074218751\" y=\"225.0\" dominant-baseline=\"middle\" text-anchor=\"middle\" font-size=\"14px\" font-family=\"Arial\">@^s_l1_q4block3cz</text><circle cx=\"4471.786074218751\" cy=\"75.0\" r=\"10.0\" /><rect x=\"4565.380742187501\" y=\"55.0\" width=\"110.82542968749999\" height=\"40\" stroke=\"black\" fill=\"white\" stroke-width=\"1\" /><text x=\"4620.793457031251\" y=\"75.0\" dominant-baseline=\"middle\" text-anchor=\"middle\" font-size=\"14px\" font-family=\"Arial\">Rx(s_l1_q4rx2)</text><circle cx=\"4769.800839843751\" cy=\"75.0\" r=\"10.0\" /><rect x=\"4696.206171875001\" y=\"305.0\" width=\"147.1893359375\" height=\"40\" stroke=\"black\" fill=\"white\" stroke-width=\"1\" /><text x=\"4769.800839843751\" y=\"325.0\" dominant-baseline=\"middle\" text-anchor=\"middle\" font-size=\"14px\" font-family=\"Arial\">@^s_l1_q5block3cz</text><rect x=\"4863.395507812501\" y=\"305.0\" width=\"110.82542968749999\" height=\"40\" stroke=\"black\" fill=\"white\" stroke-width=\"1\" /><text x=\"4918.808222656251\" y=\"325.0\" dominant-baseline=\"middle\" text-anchor=\"middle\" font-size=\"14px\" font-family=\"Arial\">Rx(s_l1_q5rx2)</text><rect x=\"4994.220937500001\" y=\"305.0\" width=\"147.1893359375\" height=\"40\" stroke=\"black\" fill=\"white\" stroke-width=\"1\" /><text x=\"5067.8156054687515\" y=\"325.0\" dominant-baseline=\"middle\" text-anchor=\"middle\" font-size=\"14px\" font-family=\"Arial\">@^s_l1_q6block3cz</text><circle cx=\"5067.8156054687515\" cy=\"175.0\" r=\"10.0\" /><rect x=\"5161.410273437501\" y=\"155.0\" width=\"110.82542968749999\" height=\"40\" stroke=\"black\" fill=\"white\" stroke-width=\"1\" /><text x=\"5216.822988281251\" y=\"175.0\" dominant-baseline=\"middle\" text-anchor=\"middle\" font-size=\"14px\" font-family=\"Arial\">Rx(s_l1_q6rx2)</text><rect x=\"5292.235703125001\" y=\"155.0\" width=\"147.1893359375\" height=\"40\" stroke=\"black\" fill=\"white\" stroke-width=\"1\" /><text x=\"5365.830371093752\" y=\"175.0\" dominant-baseline=\"middle\" text-anchor=\"middle\" font-size=\"14px\" font-family=\"Arial\">@^s_l1_q7block3cz</text><circle cx=\"5365.830371093752\" cy=\"25.0\" r=\"10.0\" /><rect x=\"5459.425039062501\" y=\"5.0\" width=\"110.82542968749999\" height=\"40\" stroke=\"black\" fill=\"white\" stroke-width=\"1\" /><text x=\"5514.837753906251\" y=\"25.0\" dominant-baseline=\"middle\" text-anchor=\"middle\" font-size=\"14px\" font-family=\"Arial\">Rx(s_l1_q7rx2)</text><rect x=\"5590.250468750001\" y=\"5.0\" width=\"109.3198828125\" height=\"40\" stroke=\"black\" fill=\"white\" stroke-width=\"1\" /><text x=\"5644.910410156252\" y=\"25.0\" dominant-baseline=\"middle\" text-anchor=\"middle\" font-size=\"14px\" font-family=\"Arial\">Rz(s_l2_q0rz0)</text><rect x=\"5719.570351562501\" y=\"5.0\" width=\"101.515703125\" height=\"40\" stroke=\"black\" fill=\"white\" stroke-width=\"1\" /><text x=\"5770.328203125001\" y=\"25.0\" dominant-baseline=\"middle\" text-anchor=\"middle\" font-size=\"14px\" font-family=\"Arial\">Ry(s_l2_q0ry)</text><rect x=\"5841.086054687501\" y=\"5.0\" width=\"100.41265625000001\" height=\"40\" stroke=\"black\" fill=\"white\" stroke-width=\"1\" /><text x=\"5891.292382812501\" y=\"25.0\" dominant-baseline=\"middle\" text-anchor=\"middle\" font-size=\"14px\" font-family=\"Arial\">Rz(s_l2_q0rz)</text></svg>"
      ],
      "text/plain": [
       "<cirq.contrib.svg.svg.SVGCircuit at 0x7fba523f5eb0>"
      ]
     },
     "execution_count": 753,
     "metadata": {},
     "output_type": "execute_result"
    }
   ],
   "source": [
    "_, model_circuit, model_readouts = create_quantum_model(apply_dropout=False)\n",
    "SVGCircuit(model_circuit)"
   ]
  },
  {
   "cell_type": "markdown",
   "metadata": {
    "colab_type": "text",
    "id": "LY7vbY6yfABE"
   },
   "source": [
    "### 2.2 Wrap the model-circuit in a tfq-keras model\n",
    "\n",
    "Build the Keras model with the quantum components. This model is fed the \"quantum data\", from `x_train_circ`, that encodes the classical data. It uses a *Parametrized Quantum Circuit* layer, `tfq.layers.PQC`, to train the model circuit, on the quantum data.\n",
    "\n",
    "To classify these images, <a href=\"https://arxiv.org/pdf/1802.06002.pdf\" class=\"external\">Farhi et al.</a> proposed taking the expectation of a readout qubit in a parameterized circuit. The expectation returns a value between 1 and -1."
   ]
  },
  {
   "cell_type": "code",
   "execution_count": 668,
   "metadata": {
    "colab": {},
    "colab_type": "code",
    "id": "ZYdf_KOxojh0",
    "tags": []
   },
   "outputs": [
    {
     "name": "stdout",
     "output_type": "stream",
     "text": [
      "83\n"
     ]
    }
   ],
   "source": [
    "# Build the Keras model.\n",
    "qlayer = tfq.layers.PQC(model_circuit, model_readout)\n",
    "print(len(qlayer.get_weights()[0]))\n",
    "\n",
    "model = tf.keras.Sequential([\n",
    "    # The input is the data-circuit, encoded as a tf.string\n",
    "    tf.keras.layers.Input(shape=(), dtype=tf.string),\n",
    "    # The PQC layer returns the expected value of the readout gate, range [-1,1].\n",
    "    qlayer,\n",
    "])"
   ]
  },
  {
   "cell_type": "markdown",
   "metadata": {
    "colab_type": "text",
    "id": "jz-FbVc9ojh3"
   },
   "source": [
    "Next, describe the training procedure to the model, using the `compile` method.\n",
    "\n",
    "Since the the expected readout is in the range `[-1,1]`, optimizing the hinge loss is a somewhat natural fit. \n",
    "\n",
    "Note: Another valid approach would be to shift the output range to `[0,1]`, and treat it as the probability the model assigns to class `3`. This could be used with a standard a `tf.losses.BinaryCrossentropy` loss.\n",
    "\n",
    "To use the hinge loss here you need to make two small adjustments. First convert the labels, `y_train_nocon`, from boolean to `[-1,1]`, as expected by the hinge loss."
   ]
  },
  {
   "cell_type": "code",
   "execution_count": 669,
   "metadata": {
    "colab": {},
    "colab_type": "code",
    "id": "CgMNkC1Fojh5",
    "tags": []
   },
   "outputs": [],
   "source": [
    "y_train_hinge = 2.0*y_train_nocon_256-1.0\n",
    "y_test_hinge = 2.0*y_test-1.0"
   ]
  },
  {
   "cell_type": "markdown",
   "metadata": {
    "colab_type": "text",
    "id": "5nwnveDiojh7"
   },
   "source": [
    "Second, use a custiom `hinge_accuracy` metric that correctly handles `[-1, 1]` as the `y_true` labels argument. \n",
    "`tf.losses.BinaryAccuracy(threshold=0.0)` expects `y_true` to be a boolean, and so can't be used with hinge loss)."
   ]
  },
  {
   "cell_type": "code",
   "execution_count": 670,
   "metadata": {
    "colab": {},
    "colab_type": "code",
    "id": "3XKtZ_TEojh8",
    "tags": []
   },
   "outputs": [],
   "source": [
    "def hinge_accuracy(y_true, y_pred):\n",
    "    y_true = tf.squeeze(y_true) > 0.0\n",
    "    y_pred = tf.squeeze(y_pred) > 0.0\n",
    "    result = tf.cast(y_true == y_pred, tf.float32)\n",
    "\n",
    "    return tf.reduce_mean(result)"
   ]
  },
  {
   "cell_type": "code",
   "execution_count": 671,
   "metadata": {
    "colab": {},
    "colab_type": "code",
    "id": "FlpETlLRojiA",
    "tags": []
   },
   "outputs": [],
   "source": [
    "model.compile(\n",
    "    loss=tf.keras.losses.Hinge(),\n",
    "    optimizer=tf.keras.optimizers.Adam(),\n",
    "    metrics=[hinge_accuracy])"
   ]
  },
  {
   "cell_type": "code",
   "execution_count": 672,
   "metadata": {
    "colab": {},
    "colab_type": "code",
    "id": "jkHq2RstojiC",
    "tags": []
   },
   "outputs": [
    {
     "name": "stdout",
     "output_type": "stream",
     "text": [
      "Model: \"sequential_486\"\n",
      "_________________________________________________________________\n",
      "Layer (type)                 Output Shape              Param #   \n",
      "=================================================================\n",
      "pqc_488 (PQC)                (None, 1)                 83        \n",
      "=================================================================\n",
      "Total params: 83\n",
      "Trainable params: 83\n",
      "Non-trainable params: 0\n",
      "_________________________________________________________________\n",
      "None\n"
     ]
    }
   ],
   "source": [
    "print(model.summary())"
   ]
  },
  {
   "cell_type": "markdown",
   "metadata": {},
   "source": [
    "## 3. TensorBoard"
   ]
  },
  {
   "cell_type": "code",
   "execution_count": 673,
   "metadata": {},
   "outputs": [],
   "source": [
    "logdir = \"tb_logs/\" + datetime.datetime.now().strftime(\"%Y%m%d-%H%M%S\")\n",
    "file_writer = tf.summary.create_file_writer(logdir + \"/metrics\")\n",
    "file_writer.set_as_default()\n",
    "tensorboard_callback = tf.keras.callbacks.TensorBoard(log_dir=logdir, histogram_freq=1)\n"
   ]
  },
  {
   "cell_type": "markdown",
   "metadata": {
    "colab_type": "text",
    "id": "lsuOzDYblA9s"
   },
   "source": [
    "### Train the quantum model\n",
    "\n",
    "Now train the model—this takes about 45 min. If you don't want to wait that long, use a small subset of the data (set `NUM_EXAMPLES=500`, below). This doesn't really affect the model's progress during training (it only has 32 parameters, and doesn't need much data to constrain these). Using fewer examples just ends training earlier (5min), but runs long enough to show that it is making progress in the validation logs."
   ]
  },
  {
   "cell_type": "code",
   "execution_count": 762,
   "metadata": {
    "colab": {},
    "colab_type": "code",
    "id": "n8vuQpSLlBV2",
    "tags": []
   },
   "outputs": [],
   "source": [
    "EPOCHS = 10\n",
    "DROPOUT_EPOCHS = 2 # keep qubits dropped out for this num of epochs\n",
    "#BATCH_SIZE = 32\n",
    "BATCH_SIZE = None\n",
    "#NUM_EXAMPLES=None"
   ]
  },
  {
   "cell_type": "code",
   "execution_count": 756,
   "metadata": {
    "colab": {},
    "colab_type": "code",
    "id": "qJnNG-3JojiI",
    "tags": []
   },
   "outputs": [],
   "source": [
    "x_train_tfcirc_sub = x_train_tfcirc[:NUM_EXAMPLES]\n",
    "y_train_hinge_sub = y_train_hinge[:NUM_EXAMPLES]"
   ]
  },
  {
   "cell_type": "markdown",
   "metadata": {
    "colab_type": "text",
    "id": "QMSdgGC1GL7D"
   },
   "source": [
    "Training this model to convergence should achieve >85% accuracy on the test set."
   ]
  },
  {
   "cell_type": "code",
   "execution_count": 757,
   "metadata": {},
   "outputs": [],
   "source": [
    "def train_model(apply_dropout=False):\n",
    "    #dropout_backup_flag = False\n",
    "    \n",
    "    for i in range(EPOCHS):        \n",
    "        # HACK - build new quantum circuit for each epoch and copy over the weights from the old one\n",
    "        \n",
    "        # Toggle apply_dropout off on first epoch\n",
    "        #if dropout_backup_flag:\n",
    "        #    apply_dropout = True\n",
    "        #elif i == 0 and apply_dropout:\n",
    "        #    apply_dropout = False\n",
    "        #    dropout_backup_flag = True\n",
    "        \n",
    "        if i == EPOCHS-1:\n",
    "            # Never use dropout on the last epoch; we can't get sane results otherwise\n",
    "            # grab the epoch before last too for better results\n",
    "            dropout_backup_flag = False\n",
    "            apply_dropout = False\n",
    "        \n",
    "        if i == 0:\n",
    "            model_builder, model_circuit, model_readouts = create_quantum_model(apply_dropout, DROPOUT_EPOCHS)\n",
    "            qlayer = tfq.layers.PQC(model_circuit, model_readouts)\n",
    "        else:\n",
    "            model_builder, model_circuit, model_readouts = create_quantum_model(apply_dropout, DROPOUT_EPOCHS, model_builder, qlayer.get_weights()[0])\n",
    "            qlayer_new = tfq.layers.PQC(model_circuit, model_readouts,\n",
    "                                        initializer=tf.keras.initializers.Zeros)\n",
    "            curr_l = model_builder.get_builder_weights()\n",
    "            qlayer_new.set_weights([np.array(curr_l, dtype=np.float32)])\n",
    "            qlayer = qlayer_new\n",
    "\n",
    "        res_layer = tf.keras.layers.Lambda(lambda x: x[0])\n",
    "        model = tf.keras.Sequential([\n",
    "            tf.keras.layers.Input(shape=(), dtype=tf.string),\n",
    "            qlayer,\n",
    "            res_layer\n",
    "        ])\n",
    "        model.compile(\n",
    "            loss=tf.keras.losses.Hinge(),\n",
    "            optimizer=tf.keras.optimizers.Adam(),\n",
    "            metrics=[hinge_accuracy])\n",
    "\n",
    "        print('Iteration ', i)\n",
    "        # Now fit the model for this epoch\n",
    "        model.fit(\n",
    "              x_train_tfcirc_sub, y_train_hinge_sub,\n",
    "              batch_size=1,\n",
    "              epochs=1,\n",
    "              verbose=1,\n",
    "              callbacks=[tensorboard_callback])\n",
    "        model.evaluate(x_train_tfcirc_sub, y_train_hinge_sub, batch_size=1)\n",
    "    \n",
    "    return model"
   ]
  },
  {
   "cell_type": "code",
   "execution_count": 758,
   "metadata": {},
   "outputs": [
    {
     "name": "stdout",
     "output_type": "stream",
     "text": [
      "Iteration  0\n",
      "WARNING:tensorflow:Model failed to serialize as JSON. Ignoring... Layer PQC has arguments in `__init__` and therefore must override `get_config`.\n",
      "500/500 [==============================] - 12s 23ms/step - loss: 0.9751 - hinge_accuracy: 0.5638\n",
      "500/500 [==============================] - 4s 9ms/step - loss: 0.8533 - hinge_accuracy: 0.8280\n",
      "Iteration  1\n",
      "WARNING:tensorflow:Model failed to serialize as JSON. Ignoring... Layer PQC has arguments in `__init__` and therefore must override `get_config`.\n",
      "500/500 [==============================] - 12s 23ms/step - loss: 0.8172 - hinge_accuracy: 0.8762\n",
      "500/500 [==============================] - 5s 9ms/step - loss: 0.7568 - hinge_accuracy: 0.8960\n",
      "Iteration  2\n",
      "WARNING:tensorflow:Model failed to serialize as JSON. Ignoring... Layer PQC has arguments in `__init__` and therefore must override `get_config`.\n",
      "500/500 [==============================] - 12s 23ms/step - loss: 0.7301 - hinge_accuracy: 0.9314\n",
      "500/500 [==============================] - 4s 9ms/step - loss: 0.7004 - hinge_accuracy: 0.9160\n",
      "Iteration  3\n",
      "WARNING:tensorflow:Model failed to serialize as JSON. Ignoring... Layer PQC has arguments in `__init__` and therefore must override `get_config`.\n",
      "500/500 [==============================] - 12s 23ms/step - loss: 0.6815 - hinge_accuracy: 0.9353\n",
      "500/500 [==============================] - 4s 8ms/step - loss: 0.6783 - hinge_accuracy: 0.9340\n",
      "Iteration  4\n",
      "WARNING:tensorflow:Model failed to serialize as JSON. Ignoring... Layer PQC has arguments in `__init__` and therefore must override `get_config`.\n",
      "500/500 [==============================] - 12s 23ms/step - loss: 0.6638 - hinge_accuracy: 0.9485\n",
      "500/500 [==============================] - 4s 9ms/step - loss: 0.6689 - hinge_accuracy: 0.9520\n",
      "Iteration  5\n",
      "WARNING:tensorflow:Model failed to serialize as JSON. Ignoring... Layer PQC has arguments in `__init__` and therefore must override `get_config`.\n",
      "500/500 [==============================] - 12s 24ms/step - loss: 0.6554 - hinge_accuracy: 0.9666\n",
      "500/500 [==============================] - 4s 8ms/step - loss: 0.6622 - hinge_accuracy: 0.9600\n",
      "Iteration  6\n",
      "WARNING:tensorflow:Model failed to serialize as JSON. Ignoring... Layer PQC has arguments in `__init__` and therefore must override `get_config`.\n",
      "500/500 [==============================] - 12s 24ms/step - loss: 0.6481 - hinge_accuracy: 0.9690\n",
      "500/500 [==============================] - 4s 9ms/step - loss: 0.6533 - hinge_accuracy: 0.9640\n",
      "Iteration  7\n",
      "WARNING:tensorflow:Model failed to serialize as JSON. Ignoring... Layer PQC has arguments in `__init__` and therefore must override `get_config`.\n",
      "500/500 [==============================] - 12s 23ms/step - loss: 0.6383 - hinge_accuracy: 0.9690\n",
      "500/500 [==============================] - 4s 9ms/step - loss: 0.6437 - hinge_accuracy: 0.9640\n",
      "Iteration  8\n",
      "WARNING:tensorflow:Model failed to serialize as JSON. Ignoring... Layer PQC has arguments in `__init__` and therefore must override `get_config`.\n",
      "500/500 [==============================] - 12s 23ms/step - loss: 0.6288 - hinge_accuracy: 0.9705\n",
      "500/500 [==============================] - 4s 9ms/step - loss: 0.6377 - hinge_accuracy: 0.9640\n",
      "Iteration  9\n",
      "WARNING:tensorflow:Model failed to serialize as JSON. Ignoring... Layer PQC has arguments in `__init__` and therefore must override `get_config`.\n",
      "500/500 [==============================] - 12s 24ms/step - loss: 0.6236 - hinge_accuracy: 0.9744\n",
      "500/500 [==============================] - 4s 9ms/step - loss: 0.6349 - hinge_accuracy: 0.9640\n"
     ]
    }
   ],
   "source": [
    "model = train_model(apply_dropout=False)"
   ]
  },
  {
   "cell_type": "code",
   "execution_count": 759,
   "metadata": {},
   "outputs": [
    {
     "name": "stdout",
     "output_type": "stream",
     "text": [
      "Non-dropout training set perf:\n",
      "500/500 [==============================] - 4s 9ms/step - loss: 0.6349 - hinge_accuracy: 0.9640\n",
      "Non-dropout test set perf:\n",
      "1968/1968 [==============================] - 16s 8ms/step - loss: 0.6940 - hinge_accuracy: 0.9151\n"
     ]
    }
   ],
   "source": [
    "#print(y_train_hinge_sub)\n",
    "#print(y_test)\n",
    "\n",
    "#plt.imshow(x_train_nocon_256[3, :, :, 0])\n",
    "#plt.colorbar()\n",
    "\n",
    "print(\"Non-dropout training set perf:\")\n",
    "model.evaluate(x_train_tfcirc_sub, y_train_hinge_sub, batch_size=1)\n",
    "print(\"Non-dropout test set perf:\")\n",
    "qnn_results = model.evaluate(x_test_tfcirc, y_test_hinge, batch_size=1)"
   ]
  },
  {
   "cell_type": "code",
   "execution_count": 765,
   "metadata": {
    "colab": {},
    "colab_type": "code",
    "id": "Ya9qP3KkojiM",
    "tags": []
   },
   "outputs": [
    {
     "name": "stdout",
     "output_type": "stream",
     "text": [
      "Built model, going to drop out qubit id  7\n",
      "Iteration  0\n",
      "WARNING:tensorflow:Model failed to serialize as JSON. Ignoring... Layer PQC has arguments in `__init__` and therefore must override `get_config`.\n",
      "500/500 [==============================] - 12s 24ms/step - loss: 0.9725 - hinge_accuracy: 0.5527\n",
      "500/500 [==============================] - 5s 9ms/step - loss: 0.9170 - hinge_accuracy: 0.7600\n",
      "Built model, going to drop out qubit id  7\n",
      "Iteration  1\n",
      "WARNING:tensorflow:Model failed to serialize as JSON. Ignoring... Layer PQC has arguments in `__init__` and therefore must override `get_config`.\n",
      "500/500 [==============================] - 12s 24ms/step - loss: 0.9093 - hinge_accuracy: 0.7622\n",
      "500/500 [==============================] - 5s 9ms/step - loss: 0.8774 - hinge_accuracy: 0.7910\n",
      "Built model, going to drop out qubit id  6\n",
      "Iteration  2\n",
      "WARNING:tensorflow:Model failed to serialize as JSON. Ignoring... Layer PQC has arguments in `__init__` and therefore must override `get_config`.\n",
      "500/500 [==============================] - 12s 24ms/step - loss: 0.9037 - hinge_accuracy: 0.7239\n",
      "500/500 [==============================] - 5s 9ms/step - loss: 0.8795 - hinge_accuracy: 0.7540\n",
      "Built model, going to drop out qubit id  6\n",
      "Iteration  3\n",
      "WARNING:tensorflow:Model failed to serialize as JSON. Ignoring... Layer PQC has arguments in `__init__` and therefore must override `get_config`.\n",
      "500/500 [==============================] - 12s 24ms/step - loss: 0.8703 - hinge_accuracy: 0.7545\n",
      "500/500 [==============================] - 5s 9ms/step - loss: 0.8465 - hinge_accuracy: 0.7630\n",
      "Built model, going to drop out qubit id  7\n",
      "Iteration  4\n",
      "WARNING:tensorflow:Model failed to serialize as JSON. Ignoring... Layer PQC has arguments in `__init__` and therefore must override `get_config`.\n",
      "500/500 [==============================] - 12s 24ms/step - loss: 0.8463 - hinge_accuracy: 0.7452\n",
      "500/500 [==============================] - 5s 9ms/step - loss: 0.8199 - hinge_accuracy: 0.7480\n",
      "Built model, going to drop out qubit id  7\n",
      "Iteration  5\n",
      "WARNING:tensorflow:Model failed to serialize as JSON. Ignoring... Layer PQC has arguments in `__init__` and therefore must override `get_config`.\n",
      "500/500 [==============================] - 12s 24ms/step - loss: 0.8094 - hinge_accuracy: 0.7521\n",
      "500/500 [==============================] - 5s 9ms/step - loss: 0.7840 - hinge_accuracy: 0.7580\n",
      "Built model, going to drop out qubit id  6\n",
      "Iteration  6\n",
      "WARNING:tensorflow:Model failed to serialize as JSON. Ignoring... Layer PQC has arguments in `__init__` and therefore must override `get_config`.\n",
      "500/500 [==============================] - 12s 24ms/step - loss: 0.8224 - hinge_accuracy: 0.8122\n",
      "500/500 [==============================] - 5s 9ms/step - loss: 0.7883 - hinge_accuracy: 0.8760\n",
      "Built model, going to drop out qubit id  6\n",
      "Iteration  7\n",
      "WARNING:tensorflow:Model failed to serialize as JSON. Ignoring... Layer PQC has arguments in `__init__` and therefore must override `get_config`.\n",
      "500/500 [==============================] - 12s 24ms/step - loss: 0.7764 - hinge_accuracy: 0.8899\n",
      "500/500 [==============================] - 5s 9ms/step - loss: 0.7564 - hinge_accuracy: 0.9210\n",
      "Built model, going to drop out qubit id  5\n",
      "Iteration  8\n",
      "WARNING:tensorflow:Model failed to serialize as JSON. Ignoring... Layer PQC has arguments in `__init__` and therefore must override `get_config`.\n",
      "500/500 [==============================] - 12s 24ms/step - loss: 0.8061 - hinge_accuracy: 0.7624\n",
      "500/500 [==============================] - 5s 9ms/step - loss: 0.7446 - hinge_accuracy: 0.8260\n",
      "Iteration  9\n",
      "WARNING:tensorflow:Model failed to serialize as JSON. Ignoring... Layer PQC has arguments in `__init__` and therefore must override `get_config`.\n",
      "500/500 [==============================] - 12s 24ms/step - loss: 0.6679 - hinge_accuracy: 0.9581\n",
      "500/500 [==============================] - 5s 9ms/step - loss: 0.6522 - hinge_accuracy: 0.9740\n"
     ]
    }
   ],
   "source": [
    "dropout_model = train_model(apply_dropout=True)"
   ]
  },
  {
   "cell_type": "code",
   "execution_count": 766,
   "metadata": {},
   "outputs": [
    {
     "name": "stdout",
     "output_type": "stream",
     "text": [
      "Dropout training set perf:\n",
      "500/500 [==============================] - 5s 9ms/step - loss: 0.6522 - hinge_accuracy: 0.9740\n",
      "Dropout test set perf:\n",
      "1968/1968 [==============================] - 17s 9ms/step - loss: 0.7298 - hinge_accuracy: 0.9527\n"
     ]
    }
   ],
   "source": [
    "print(\"Dropout training set perf:\")\n",
    "dropout_model.evaluate(x_train_tfcirc_sub, y_train_hinge_sub, batch_size=1)\n",
    "print(\"Dropout test set perf:\")\n",
    "qnn_results = dropout_model.evaluate(x_test_tfcirc, y_test_hinge, batch_size=1)"
   ]
  },
  {
   "cell_type": "markdown",
   "metadata": {
    "colab_type": "text",
    "id": "3ER7B7aaojiP"
   },
   "source": [
    "Note: The training accuracy reports the average over the epoch. The validation accuracy is evaluated at the end of each epoch."
   ]
  },
  {
   "cell_type": "markdown",
   "metadata": {
    "colab_type": "text",
    "id": "8952YvuWGL7J"
   },
   "source": [
    "## 4. Classical neural network\n",
    "\n",
    "While the quantum neural network works for this simplified MNIST problem, a basic classical neural network can easily outperform a QNN on this task. After a single epoch, a classical neural network can achieve >98% accuracy on the holdout set.\n",
    "\n",
    "In the following example, a classical neural network is used for for the 3-6 classification problem using the entire 28x28 image instead of subsampling the image. This easily converges to nearly 100% accuracy of the test set."
   ]
  },
  {
   "cell_type": "code",
   "execution_count": 158,
   "metadata": {
    "colab": {},
    "colab_type": "code",
    "id": "pZofEHhLGL7L",
    "tags": []
   },
   "outputs": [
    {
     "name": "stdout",
     "output_type": "stream",
     "text": [
      "Model: \"sequential_16\"\n",
      "_________________________________________________________________\n",
      "Layer (type)                 Output Shape              Param #   \n",
      "=================================================================\n",
      "conv2d_2 (Conv2D)            (None, 26, 26, 32)        320       \n",
      "_________________________________________________________________\n",
      "conv2d_3 (Conv2D)            (None, 24, 24, 64)        18496     \n",
      "_________________________________________________________________\n",
      "max_pooling2d_1 (MaxPooling2 (None, 12, 12, 64)        0         \n",
      "_________________________________________________________________\n",
      "dropout_2 (Dropout)          (None, 12, 12, 64)        0         \n",
      "_________________________________________________________________\n",
      "flatten_2 (Flatten)          (None, 9216)              0         \n",
      "_________________________________________________________________\n",
      "dense_4 (Dense)              (None, 128)               1179776   \n",
      "_________________________________________________________________\n",
      "dropout_3 (Dropout)          (None, 128)               0         \n",
      "_________________________________________________________________\n",
      "dense_5 (Dense)              (None, 1)                 129       \n",
      "=================================================================\n",
      "Total params: 1,198,721\n",
      "Trainable params: 1,198,721\n",
      "Non-trainable params: 0\n",
      "_________________________________________________________________\n"
     ]
    }
   ],
   "source": [
    "def create_classical_model():\n",
    "    # A simple model based off LeNet from https://keras.io/examples/mnist_cnn/\n",
    "    model = tf.keras.Sequential()\n",
    "    model.add(tf.keras.layers.Conv2D(32, [3, 3], activation='relu', input_shape=(28,28,1)))\n",
    "    model.add(tf.keras.layers.Conv2D(64, [3, 3], activation='relu'))\n",
    "    model.add(tf.keras.layers.MaxPooling2D(pool_size=(2, 2)))\n",
    "    model.add(tf.keras.layers.Dropout(0.25))\n",
    "    model.add(tf.keras.layers.Flatten())\n",
    "    model.add(tf.keras.layers.Dense(128, activation='relu'))\n",
    "    model.add(tf.keras.layers.Dropout(0.5))\n",
    "    model.add(tf.keras.layers.Dense(1))\n",
    "    return model\n",
    "\n",
    "\n",
    "model = create_classical_model()\n",
    "model.compile(loss=tf.keras.losses.BinaryCrossentropy(from_logits=True),\n",
    "              optimizer=tf.keras.optimizers.Adam(),\n",
    "              metrics=['accuracy'])\n",
    "\n",
    "model.summary()"
   ]
  },
  {
   "cell_type": "code",
   "execution_count": 159,
   "metadata": {
    "colab": {},
    "colab_type": "code",
    "id": "CiAJl7sZojiU",
    "tags": []
   },
   "outputs": [
    {
     "name": "stdout",
     "output_type": "stream",
     "text": [
      "95/95 [==============================] - 19s 188ms/step - loss: 0.1138 - accuracy: 0.9467 - val_loss: 0.0057 - val_accuracy: 0.9990\n",
      "62/62 [==============================] - 1s 13ms/step - loss: 0.0057 - accuracy: 0.9990\n"
     ]
    }
   ],
   "source": [
    "model.fit(x_train,\n",
    "          y_train,\n",
    "          batch_size=128,\n",
    "          epochs=1,\n",
    "          verbose=1,\n",
    "          validation_data=(x_test, y_test))\n",
    "\n",
    "cnn_results = model.evaluate(x_test, y_test)"
   ]
  },
  {
   "cell_type": "markdown",
   "metadata": {
    "colab_type": "text",
    "id": "X5-5BVJaojiZ"
   },
   "source": [
    "The above model has nearly 1.2M parameters. For a more fair comparison, try a 37-parameter model, on the subsampled images:"
   ]
  },
  {
   "cell_type": "code",
   "execution_count": 160,
   "metadata": {
    "colab": {},
    "colab_type": "code",
    "id": "70TOM6r-ojiZ",
    "tags": []
   },
   "outputs": [
    {
     "name": "stdout",
     "output_type": "stream",
     "text": [
      "Model: \"sequential_17\"\n",
      "_________________________________________________________________\n",
      "Layer (type)                 Output Shape              Param #   \n",
      "=================================================================\n",
      "flatten_3 (Flatten)          (None, 16)                0         \n",
      "_________________________________________________________________\n",
      "dense_6 (Dense)              (None, 2)                 34        \n",
      "_________________________________________________________________\n",
      "dense_7 (Dense)              (None, 1)                 3         \n",
      "=================================================================\n",
      "Total params: 37\n",
      "Trainable params: 37\n",
      "Non-trainable params: 0\n",
      "_________________________________________________________________\n"
     ]
    }
   ],
   "source": [
    "def create_fair_classical_model():\n",
    "    # A simple model based off LeNet from https://keras.io/examples/mnist_cnn/\n",
    "    model = tf.keras.Sequential()\n",
    "    model.add(tf.keras.layers.Flatten(input_shape=(4,4,1)))\n",
    "    model.add(tf.keras.layers.Dense(2, activation='relu'))\n",
    "    model.add(tf.keras.layers.Dense(1))\n",
    "    return model\n",
    "\n",
    "\n",
    "model = create_fair_classical_model()\n",
    "model.compile(loss=tf.keras.losses.BinaryCrossentropy(from_logits=True),\n",
    "              optimizer=tf.keras.optimizers.Adam(),\n",
    "              metrics=['accuracy'])\n",
    "\n",
    "model.summary()"
   ]
  },
  {
   "cell_type": "code",
   "execution_count": 161,
   "metadata": {
    "colab": {},
    "colab_type": "code",
    "id": "lA_Fx-8gojid",
    "tags": []
   },
   "outputs": [
    {
     "name": "stdout",
     "output_type": "stream",
     "text": [
      "Epoch 1/20\n",
      "81/81 - 1s - loss: 0.6579 - accuracy: 0.5250 - val_loss: 0.6457 - val_accuracy: 0.4878\n",
      "Epoch 2/20\n",
      "81/81 - 0s - loss: 0.6325 - accuracy: 0.5525 - val_loss: 0.6172 - val_accuracy: 0.5701\n",
      "Epoch 3/20\n",
      "81/81 - 0s - loss: 0.5962 - accuracy: 0.6614 - val_loss: 0.5704 - val_accuracy: 0.7642\n",
      "Epoch 4/20\n",
      "81/81 - 0s - loss: 0.5455 - accuracy: 0.8182 - val_loss: 0.5161 - val_accuracy: 0.8237\n",
      "Epoch 5/20\n",
      "81/81 - 0s - loss: 0.4965 - accuracy: 0.8508 - val_loss: 0.4702 - val_accuracy: 0.8318\n",
      "Epoch 6/20\n",
      "81/81 - 0s - loss: 0.4564 - accuracy: 0.8564 - val_loss: 0.4347 - val_accuracy: 0.8308\n",
      "Epoch 7/20\n",
      "81/81 - 0s - loss: 0.4255 - accuracy: 0.8578 - val_loss: 0.4075 - val_accuracy: 0.8308\n",
      "Epoch 8/20\n",
      "81/81 - 0s - loss: 0.4008 - accuracy: 0.8582 - val_loss: 0.3854 - val_accuracy: 0.8323\n",
      "Epoch 9/20\n",
      "81/81 - 0s - loss: 0.3807 - accuracy: 0.8667 - val_loss: 0.3675 - val_accuracy: 0.8709\n",
      "Epoch 10/20\n",
      "81/81 - 0s - loss: 0.3637 - accuracy: 0.8803 - val_loss: 0.3522 - val_accuracy: 0.8709\n",
      "Epoch 11/20\n",
      "81/81 - 0s - loss: 0.3493 - accuracy: 0.8822 - val_loss: 0.3394 - val_accuracy: 0.8709\n",
      "Epoch 12/20\n",
      "81/81 - 0s - loss: 0.3369 - accuracy: 0.8829 - val_loss: 0.3284 - val_accuracy: 0.8709\n",
      "Epoch 13/20\n",
      "81/81 - 0s - loss: 0.3261 - accuracy: 0.8829 - val_loss: 0.3188 - val_accuracy: 0.8709\n",
      "Epoch 14/20\n",
      "81/81 - 0s - loss: 0.3167 - accuracy: 0.8829 - val_loss: 0.3102 - val_accuracy: 0.8709\n",
      "Epoch 15/20\n",
      "81/81 - 0s - loss: 0.3083 - accuracy: 0.8829 - val_loss: 0.3027 - val_accuracy: 0.8709\n",
      "Epoch 16/20\n",
      "81/81 - 0s - loss: 0.3009 - accuracy: 0.8831 - val_loss: 0.2960 - val_accuracy: 0.8714\n",
      "Epoch 17/20\n",
      "81/81 - 0s - loss: 0.2943 - accuracy: 0.8833 - val_loss: 0.2901 - val_accuracy: 0.8714\n",
      "Epoch 18/20\n",
      "81/81 - 0s - loss: 0.2884 - accuracy: 0.8834 - val_loss: 0.2847 - val_accuracy: 0.8720\n",
      "Epoch 19/20\n",
      "81/81 - 0s - loss: 0.2830 - accuracy: 0.8835 - val_loss: 0.2798 - val_accuracy: 0.8720\n",
      "Epoch 20/20\n",
      "81/81 - 0s - loss: 0.2782 - accuracy: 0.8835 - val_loss: 0.2754 - val_accuracy: 0.8720\n",
      "62/62 [==============================] - 0s 721us/step - loss: 0.2754 - accuracy: 0.8720\n"
     ]
    }
   ],
   "source": [
    "model.fit(x_train_nocon_256,\n",
    "          y_train_nocon_256,\n",
    "          batch_size=128,\n",
    "          epochs=20,\n",
    "          verbose=2,\n",
    "          validation_data=(x_test_bin, y_test))\n",
    "\n",
    "fair_nn_results = model.evaluate(x_test_bin, y_test)"
   ]
  },
  {
   "cell_type": "markdown",
   "metadata": {
    "colab_type": "text",
    "id": "RH3mam7EGL7N"
   },
   "source": [
    "## 5. Comparison\n",
    "\n",
    "Higher resolution input and a more powerful model make this problem easy for the CNN. While a classical model of similar power (~32 parameters) trains to a similar accuracy in a fraction of the time. One way or the other, the classical neural network easily outperforms the quantum neural network. For classical data, it is difficult to beat a classical neural network."
   ]
  },
  {
   "cell_type": "code",
   "execution_count": 162,
   "metadata": {
    "colab": {},
    "colab_type": "code",
    "id": "NOMeN7pMGL7P",
    "tags": []
   },
   "outputs": [
    {
     "name": "stderr",
     "output_type": "stream",
     "text": [
      "/Users/rickyyoung/opt/anaconda3/lib/python3.8/site-packages/seaborn/_decorators.py:36: FutureWarning: Pass the following variables as keyword args: x, y. From version 0.12, the only valid positional argument will be `data`, and passing other arguments without an explicit keyword will result in an error or misinterpretation.\n",
      "  warnings.warn(\n"
     ]
    },
    {
     "data": {
      "text/plain": [
       "<AxesSubplot:>"
      ]
     },
     "execution_count": 162,
     "metadata": {},
     "output_type": "execute_result"
    },
    {
     "data": {
      "image/png": "[encoded data removed]",
      "text/plain": [
       "<Figure size 432x288 with 1 Axes>"
      ]
     },
     "metadata": {
      "needs_background": "light"
     },
     "output_type": "display_data"
    }
   ],
   "source": [
    "qnn_accuracy = qnn_results[1]\n",
    "cnn_accuracy = cnn_results[1]\n",
    "fair_nn_accuracy = fair_nn_results[1]\n",
    "\n",
    "sns.barplot([\"Quantum\", \"Classical, full\", \"Classical, fair\"],\n",
    "            [qnn_accuracy, cnn_accuracy, fair_nn_accuracy])"
   ]
  },
  {
   "cell_type": "code",
   "execution_count": null,
   "metadata": {},
   "outputs": [],
   "source": []
  }
 ],
 "metadata": {
  "colab": {
   "collapsed_sections": [],
   "name": "mnist.ipynb",
   "private_outputs": true,
   "provenance": [],
   "toc_visible": true
  },
  "kernelspec": {
   "display_name": "Python 3",
   "language": "python",
   "name": "python3"
  },
  "language_info": {
   "codemirror_mode": {
    "name": "ipython",
    "version": 3
   },
   "file_extension": ".py",
   "mimetype": "text/x-python",
   "name": "python",
   "nbconvert_exporter": "python",
   "pygments_lexer": "ipython3",
   "version": "3.8.0"
  }
 },
 "nbformat": 4,
 "nbformat_minor": 4
}
