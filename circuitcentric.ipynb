{
 "cells": [
  {
   "cell_type": "markdown",
   "metadata": {
    "colab_type": "text",
    "id": "xLOXFOT5Q40E"
   },
   "source": [
    "##### Copyright 2020 The TensorFlow Authors."
   ]
  },
  {
   "cell_type": "code",
   "execution_count": 1,
   "metadata": {
    "cellView": "form",
    "colab": {},
    "colab_type": "code",
    "id": "iiQkM5ZgQ8r2",
    "tags": []
   },
   "outputs": [],
   "source": [
    "#@title Licensed under the Apache License, Version 2.0 (the \"License\");\n",
    "# you may not use this file except in compliance with the License.\n",
    "# You may obtain a copy of the License at\n",
    "#\n",
    "# https://www.apache.org/licenses/LICENSE-2.0\n",
    "#\n",
    "# Unless required by applicable law or agreed to in writing, software\n",
    "# distributed under the License is distributed on an \"AS IS\" BASIS,\n",
    "# WITHOUT WARRANTIES OR CONDITIONS OF ANY KIND, either express or implied.\n",
    "# See the License for the specific language governing permissions and\n",
    "# limitations under the License."
   ]
  },
  {
   "cell_type": "markdown",
   "metadata": {
    "colab_type": "text",
    "id": "j6331ZSsQGY3"
   },
   "source": [
    "# MNIST classification"
   ]
  },
  {
   "cell_type": "markdown",
   "metadata": {
    "colab_type": "text",
    "id": "i9Jcnb8bQQyd"
   },
   "source": [
    "Based on https://www.tensorflow.org/quantum/tutorials/mnist"
   ]
  },
  {
   "cell_type": "markdown",
   "metadata": {
    "colab_type": "text",
    "id": "udLObUVeGfTs"
   },
   "source": [
    "We build a quantum neural network (QNN) to classify a simplified version of MNIST, similar to the approach used in <a href=\"https://arxiv.org/pdf/1802.06002.pdf\" class=\"external\">Farhi et al</a>. The performance of the quantum neural network on this classical data problem is compared with a classical neural network."
   ]
  },
  {
   "cell_type": "markdown",
   "metadata": {
    "colab_type": "text",
    "id": "X35qHdh5Gzqg"
   },
   "source": [
    "## Setup"
   ]
  },
  {
   "cell_type": "code",
   "execution_count": 2,
   "metadata": {
    "colab": {},
    "colab_type": "code",
    "id": "TorxE5tnkvb2",
    "tags": []
   },
   "outputs": [
    {
     "name": "stdout",
     "output_type": "stream",
     "text": [
      "Once deleted, variables cannot be recovered. Proceed (y/[n])? y\n",
      "\u001b[31mERROR: pip's dependency resolver does not currently take into account all the packages that are installed. This behaviour is the source of the following dependency conflicts.\n",
      "tfq-nightly 0.5.0.dev20210516 requires grpcio==1.30.0, but you have grpcio 1.32.0 which is incompatible.\u001b[0m\n",
      "\u001b[33mWARNING: You are using pip version 21.1.1; however, version 21.1.2 is available.\n",
      "You should consider upgrading via the '/mnt/c/Users/mmints/Documents/Stanford/CS230/project/CS230_quantum_dropout/qenv_project/bin/python3.8 -m pip install --upgrade pip' command.\u001b[0m\n",
      "Requirement already satisfied: tensorboard_plugin_profile==2.3.0 in ./qenv_project/lib/python3.8/site-packages (2.3.0)\n",
      "Requirement already satisfied: setuptools>=41.0.0 in ./qenv_project/lib/python3.8/site-packages (from tensorboard_plugin_profile==2.3.0) (56.2.0)\n",
      "Requirement already satisfied: gviz-api>=1.9.0 in ./qenv_project/lib/python3.8/site-packages (from tensorboard_plugin_profile==2.3.0) (1.9.0)\n",
      "Requirement already satisfied: protobuf>=3.6.0 in ./qenv_project/lib/python3.8/site-packages (from tensorboard_plugin_profile==2.3.0) (3.13.0)\n",
      "Requirement already satisfied: werkzeug>=0.11.15 in ./qenv_project/lib/python3.8/site-packages (from tensorboard_plugin_profile==2.3.0) (2.0.0)\n",
      "Requirement already satisfied: six>=1.10.0 in ./qenv_project/lib/python3.8/site-packages (from tensorboard_plugin_profile==2.3.0) (1.15.0)\n",
      "\u001b[33mWARNING: You are using pip version 21.1.1; however, version 21.1.2 is available.\n",
      "You should consider upgrading via the '/mnt/c/Users/mmints/Documents/Stanford/CS230/project/CS230_quantum_dropout/qenv_project/bin/python3.8 -m pip install --upgrade pip' command.\u001b[0m\n"
     ]
    }
   ],
   "source": [
    "%reset\n",
    "\n",
    "#!pip3 install -q tensorflow==2.3.1\n",
    "!python3.8 -m pip install -q tensorflow==2.4.1\n",
    "!python3.8 -m pip install tensorboard_plugin_profile==2.3.0\n",
    "%load_ext tensorboard"
   ]
  },
  {
   "cell_type": "markdown",
   "metadata": {
    "colab_type": "text",
    "id": "FxkQA6oblNqI"
   },
   "source": [
    "Install TensorFlow Quantum:"
   ]
  },
  {
   "cell_type": "code",
   "execution_count": 3,
   "metadata": {
    "colab": {},
    "colab_type": "code",
    "id": "saFHsRDpkvkH",
    "tags": []
   },
   "outputs": [
    {
     "name": "stdout",
     "output_type": "stream",
     "text": [
      "Requirement already satisfied: tfq-nightly in ./qenv_project/lib/python3.8/site-packages (0.5.0.dev20210516)\n",
      "Requirement already satisfied: sympy==1.5 in ./qenv_project/lib/python3.8/site-packages (from tfq-nightly) (1.5)\n",
      "Requirement already satisfied: google-api-core==1.21.0 in ./qenv_project/lib/python3.8/site-packages (from tfq-nightly) (1.21.0)\n",
      "Requirement already satisfied: cirq==0.11.0 in ./qenv_project/lib/python3.8/site-packages (from tfq-nightly) (0.11.0)\n",
      "Collecting grpcio==1.30.0\n",
      "  Using cached grpcio-1.30.0-cp38-cp38-manylinux2010_x86_64.whl (3.0 MB)\n",
      "Requirement already satisfied: google-auth==1.18.0 in ./qenv_project/lib/python3.8/site-packages (from tfq-nightly) (1.18.0)\n",
      "Requirement already satisfied: protobuf==3.13.0 in ./qenv_project/lib/python3.8/site-packages (from tfq-nightly) (3.13.0)\n",
      "Requirement already satisfied: googleapis-common-protos==1.52.0 in ./qenv_project/lib/python3.8/site-packages (from tfq-nightly) (1.52.0)\n",
      "Requirement already satisfied: cirq-google==0.11.0 in ./qenv_project/lib/python3.8/site-packages (from cirq==0.11.0->tfq-nightly) (0.11.0)\n",
      "Requirement already satisfied: cirq-core==0.11.0 in ./qenv_project/lib/python3.8/site-packages (from cirq==0.11.0->tfq-nightly) (0.11.0)\n",
      "Requirement already satisfied: requests~=2.18 in ./qenv_project/lib/python3.8/site-packages (from cirq-core==0.11.0->cirq==0.11.0->tfq-nightly) (2.25.1)\n",
      "Requirement already satisfied: pandas in ./qenv_project/lib/python3.8/site-packages (from cirq-core==0.11.0->cirq==0.11.0->tfq-nightly) (1.2.4)\n",
      "Requirement already satisfied: tqdm in ./qenv_project/lib/python3.8/site-packages (from cirq-core==0.11.0->cirq==0.11.0->tfq-nightly) (4.60.0)\n",
      "Requirement already satisfied: numpy~=1.16 in ./qenv_project/lib/python3.8/site-packages (from cirq-core==0.11.0->cirq==0.11.0->tfq-nightly) (1.19.5)\n",
      "Requirement already satisfied: scipy in ./qenv_project/lib/python3.8/site-packages (from cirq-core==0.11.0->cirq==0.11.0->tfq-nightly) (1.6.3)\n",
      "Requirement already satisfied: networkx~=2.4 in ./qenv_project/lib/python3.8/site-packages (from cirq-core==0.11.0->cirq==0.11.0->tfq-nightly) (2.5.1)\n",
      "Requirement already satisfied: matplotlib~=3.0 in ./qenv_project/lib/python3.8/site-packages (from cirq-core==0.11.0->cirq==0.11.0->tfq-nightly) (3.4.2)\n",
      "Requirement already satisfied: typing-extensions in ./qenv_project/lib/python3.8/site-packages (from cirq-core==0.11.0->cirq==0.11.0->tfq-nightly) (3.7.4.3)\n",
      "Requirement already satisfied: sortedcontainers~=2.0 in ./qenv_project/lib/python3.8/site-packages (from cirq-core==0.11.0->cirq==0.11.0->tfq-nightly) (2.4.0)\n",
      "Requirement already satisfied: six>=1.10.0 in ./qenv_project/lib/python3.8/site-packages (from google-api-core==1.21.0->tfq-nightly) (1.15.0)\n",
      "Requirement already satisfied: pytz in ./qenv_project/lib/python3.8/site-packages (from google-api-core==1.21.0->tfq-nightly) (2021.1)\n",
      "Requirement already satisfied: setuptools>=34.0.0 in ./qenv_project/lib/python3.8/site-packages (from google-api-core==1.21.0->tfq-nightly) (56.2.0)\n",
      "Requirement already satisfied: cachetools<5.0,>=2.0.0 in ./qenv_project/lib/python3.8/site-packages (from google-auth==1.18.0->tfq-nightly) (4.2.2)\n",
      "Requirement already satisfied: pyasn1-modules>=0.2.1 in ./qenv_project/lib/python3.8/site-packages (from google-auth==1.18.0->tfq-nightly) (0.2.8)\n",
      "Requirement already satisfied: rsa<5,>=3.1.4 in ./qenv_project/lib/python3.8/site-packages (from google-auth==1.18.0->tfq-nightly) (4.7.2)\n",
      "Requirement already satisfied: mpmath>=0.19 in ./qenv_project/lib/python3.8/site-packages (from sympy==1.5->tfq-nightly) (1.2.1)\n",
      "Requirement already satisfied: cycler>=0.10 in ./qenv_project/lib/python3.8/site-packages (from matplotlib~=3.0->cirq-core==0.11.0->cirq==0.11.0->tfq-nightly) (0.10.0)\n",
      "Requirement already satisfied: pyparsing>=2.2.1 in ./qenv_project/lib/python3.8/site-packages (from matplotlib~=3.0->cirq-core==0.11.0->cirq==0.11.0->tfq-nightly) (2.4.7)\n",
      "Requirement already satisfied: pillow>=6.2.0 in ./qenv_project/lib/python3.8/site-packages (from matplotlib~=3.0->cirq-core==0.11.0->cirq==0.11.0->tfq-nightly) (8.2.0)\n",
      "Requirement already satisfied: kiwisolver>=1.0.1 in ./qenv_project/lib/python3.8/site-packages (from matplotlib~=3.0->cirq-core==0.11.0->cirq==0.11.0->tfq-nightly) (1.3.1)\n",
      "Requirement already satisfied: python-dateutil>=2.7 in ./qenv_project/lib/python3.8/site-packages (from matplotlib~=3.0->cirq-core==0.11.0->cirq==0.11.0->tfq-nightly) (2.8.1)\n",
      "Requirement already satisfied: decorator<5,>=4.3 in ./qenv_project/lib/python3.8/site-packages (from networkx~=2.4->cirq-core==0.11.0->cirq==0.11.0->tfq-nightly) (4.4.2)\n",
      "Requirement already satisfied: pyasn1<0.5.0,>=0.4.6 in ./qenv_project/lib/python3.8/site-packages (from pyasn1-modules>=0.2.1->google-auth==1.18.0->tfq-nightly) (0.4.8)\n",
      "Requirement already satisfied: certifi>=2017.4.17 in ./qenv_project/lib/python3.8/site-packages (from requests~=2.18->cirq-core==0.11.0->cirq==0.11.0->tfq-nightly) (2020.12.5)\n",
      "Requirement already satisfied: idna<3,>=2.5 in ./qenv_project/lib/python3.8/site-packages (from requests~=2.18->cirq-core==0.11.0->cirq==0.11.0->tfq-nightly) (2.10)\n",
      "Requirement already satisfied: urllib3<1.27,>=1.21.1 in ./qenv_project/lib/python3.8/site-packages (from requests~=2.18->cirq-core==0.11.0->cirq==0.11.0->tfq-nightly) (1.26.4)\n",
      "Requirement already satisfied: chardet<5,>=3.0.2 in ./qenv_project/lib/python3.8/site-packages (from requests~=2.18->cirq-core==0.11.0->cirq==0.11.0->tfq-nightly) (4.0.0)\n",
      "Installing collected packages: grpcio\n",
      "  Attempting uninstall: grpcio\n",
      "    Found existing installation: grpcio 1.32.0\n",
      "    Uninstalling grpcio-1.32.0:\n",
      "      Successfully uninstalled grpcio-1.32.0\n",
      "\u001b[31mERROR: pip's dependency resolver does not currently take into account all the packages that are installed. This behaviour is the source of the following dependency conflicts.\n",
      "tensorflow 2.4.1 requires grpcio~=1.32.0, but you have grpcio 1.30.0 which is incompatible.\u001b[0m\n",
      "Successfully installed grpcio-1.30.0\n",
      "\u001b[33mWARNING: You are using pip version 21.1.1; however, version 21.1.2 is available.\n",
      "You should consider upgrading via the '/mnt/c/Users/mmints/Documents/Stanford/CS230/project/CS230_quantum_dropout/qenv_project/bin/python3.8 -m pip install --upgrade pip' command.\u001b[0m\n",
      "Requirement already satisfied: scikit-image in ./qenv_project/lib/python3.8/site-packages (0.18.1)\n",
      "Requirement already satisfied: matplotlib!=3.0.0,>=2.0.0 in ./qenv_project/lib/python3.8/site-packages (from scikit-image) (3.4.2)\n",
      "Requirement already satisfied: scipy>=1.0.1 in ./qenv_project/lib/python3.8/site-packages (from scikit-image) (1.6.3)\n",
      "Requirement already satisfied: pillow!=7.1.0,!=7.1.1,>=4.3.0 in ./qenv_project/lib/python3.8/site-packages (from scikit-image) (8.2.0)\n",
      "Requirement already satisfied: tifffile>=2019.7.26 in ./qenv_project/lib/python3.8/site-packages (from scikit-image) (2021.4.8)\n",
      "Requirement already satisfied: networkx>=2.0 in ./qenv_project/lib/python3.8/site-packages (from scikit-image) (2.5.1)\n",
      "Requirement already satisfied: numpy>=1.16.5 in ./qenv_project/lib/python3.8/site-packages (from scikit-image) (1.19.5)\n",
      "Requirement already satisfied: PyWavelets>=1.1.1 in ./qenv_project/lib/python3.8/site-packages (from scikit-image) (1.1.1)\n",
      "Requirement already satisfied: imageio>=2.3.0 in ./qenv_project/lib/python3.8/site-packages (from scikit-image) (2.9.0)\n",
      "Requirement already satisfied: pyparsing>=2.2.1 in ./qenv_project/lib/python3.8/site-packages (from matplotlib!=3.0.0,>=2.0.0->scikit-image) (2.4.7)\n",
      "Requirement already satisfied: kiwisolver>=1.0.1 in ./qenv_project/lib/python3.8/site-packages (from matplotlib!=3.0.0,>=2.0.0->scikit-image) (1.3.1)\n",
      "Requirement already satisfied: cycler>=0.10 in ./qenv_project/lib/python3.8/site-packages (from matplotlib!=3.0.0,>=2.0.0->scikit-image) (0.10.0)\n",
      "Requirement already satisfied: python-dateutil>=2.7 in ./qenv_project/lib/python3.8/site-packages (from matplotlib!=3.0.0,>=2.0.0->scikit-image) (2.8.1)\n",
      "Requirement already satisfied: six in ./qenv_project/lib/python3.8/site-packages (from cycler>=0.10->matplotlib!=3.0.0,>=2.0.0->scikit-image) (1.15.0)\n",
      "Requirement already satisfied: decorator<5,>=4.3 in ./qenv_project/lib/python3.8/site-packages (from networkx>=2.0->scikit-image) (4.4.2)\n"
     ]
    },
    {
     "name": "stdout",
     "output_type": "stream",
     "text": [
      "\u001b[33mWARNING: You are using pip version 21.1.1; however, version 21.1.2 is available.\n",
      "You should consider upgrading via the '/mnt/c/Users/mmints/Documents/Stanford/CS230/project/CS230_quantum_dropout/qenv_project/bin/python3.8 -m pip install --upgrade pip' command.\u001b[0m\n",
      "Requirement already satisfied: seaborn in ./qenv_project/lib/python3.8/site-packages (0.11.1)\n",
      "Requirement already satisfied: numpy>=1.15 in ./qenv_project/lib/python3.8/site-packages (from seaborn) (1.19.5)\n",
      "Requirement already satisfied: matplotlib>=2.2 in ./qenv_project/lib/python3.8/site-packages (from seaborn) (3.4.2)\n",
      "Requirement already satisfied: scipy>=1.0 in ./qenv_project/lib/python3.8/site-packages (from seaborn) (1.6.3)\n",
      "Requirement already satisfied: pandas>=0.23 in ./qenv_project/lib/python3.8/site-packages (from seaborn) (1.2.4)\n",
      "Requirement already satisfied: python-dateutil>=2.7 in ./qenv_project/lib/python3.8/site-packages (from matplotlib>=2.2->seaborn) (2.8.1)\n",
      "Requirement already satisfied: cycler>=0.10 in ./qenv_project/lib/python3.8/site-packages (from matplotlib>=2.2->seaborn) (0.10.0)\n",
      "Requirement already satisfied: pillow>=6.2.0 in ./qenv_project/lib/python3.8/site-packages (from matplotlib>=2.2->seaborn) (8.2.0)\n",
      "Requirement already satisfied: pyparsing>=2.2.1 in ./qenv_project/lib/python3.8/site-packages (from matplotlib>=2.2->seaborn) (2.4.7)\n",
      "Requirement already satisfied: kiwisolver>=1.0.1 in ./qenv_project/lib/python3.8/site-packages (from matplotlib>=2.2->seaborn) (1.3.1)\n",
      "Requirement already satisfied: six in ./qenv_project/lib/python3.8/site-packages (from cycler>=0.10->matplotlib>=2.2->seaborn) (1.15.0)\n",
      "Requirement already satisfied: pytz>=2017.3 in ./qenv_project/lib/python3.8/site-packages (from pandas>=0.23->seaborn) (2021.1)\n",
      "\u001b[33mWARNING: You are using pip version 21.1.1; however, version 21.1.2 is available.\n",
      "You should consider upgrading via the '/mnt/c/Users/mmints/Documents/Stanford/CS230/project/CS230_quantum_dropout/qenv_project/bin/python3.8 -m pip install --upgrade pip' command.\u001b[0m\n"
     ]
    }
   ],
   "source": [
    "#!pip3 install -q tensorflow-quantum\n",
    "!python3.8 -m pip install tfq-nightly\n",
    "\n",
    "\n",
    "!python3.8 -m pip install scikit-image\n",
    "!python3.8 -m pip install seaborn"
   ]
  },
  {
   "cell_type": "markdown",
   "metadata": {
    "colab_type": "text",
    "id": "hdgMMZEBGqyl"
   },
   "source": [
    "Now import TensorFlow and the module dependencies:"
   ]
  },
  {
   "cell_type": "code",
   "execution_count": 4,
   "metadata": {
    "colab": {},
    "colab_type": "code",
    "id": "enZ300Bflq80",
    "tags": []
   },
   "outputs": [],
   "source": [
    "import tensorflow as tf\n",
    "import tensorflow_quantum as tfq\n",
    "\n",
    "import cirq\n",
    "import sympy\n",
    "import numpy as np\n",
    "import seaborn as sns\n",
    "import collections\n",
    "import datetime\n",
    "# visualization tools\n",
    "%matplotlib inline\n",
    "import matplotlib.pyplot as plt\n",
    "from cirq.contrib.svg import SVGCircuit\n",
    "from skimage.util import random_noise\n",
    "\n",
    "# set the random seed\n",
    "tf.random.set_seed(137)\n",
    "np.random.seed(137)\n",
    "\n",
    "\n",
    "\n",
    "NUM_EXAMPLES = 500"
   ]
  },
  {
   "cell_type": "markdown",
   "metadata": {
    "colab_type": "text",
    "id": "b08Mmbs8lr81"
   },
   "source": [
    "## 1. Load the data\n",
    "\n",
    "In this tutorial you will build a binary classifier to distinguish between the digits 3 and 6, following <a href=\"https://arxiv.org/pdf/1802.06002.pdf\" class=\"external\">Farhi et al.</a> This section covers the data handling that:\n",
    "\n",
    "- Loads the raw data from Keras.\n",
    "- Filters the dataset to only 3s and 6s.\n",
    "- Downscales the images so they fit can fit in a quantum computer.\n",
    "- Removes any contradictory examples.\n",
    "- Converts the binary images to Cirq circuits.\n",
    "- Converts the Cirq circuits to TensorFlow Quantum circuits. "
   ]
  },
  {
   "cell_type": "markdown",
   "metadata": {
    "colab_type": "text",
    "id": "pDUdGxn-ojgy"
   },
   "source": [
    "### 1.1 Load the raw data"
   ]
  },
  {
   "cell_type": "markdown",
   "metadata": {
    "colab_type": "text",
    "id": "xZyGXlaKojgz"
   },
   "source": [
    "Load the MNIST dataset distributed with Keras. "
   ]
  },
  {
   "cell_type": "code",
   "execution_count": 5,
   "metadata": {
    "colab": {},
    "colab_type": "code",
    "id": "d9OSExvCojg0",
    "tags": []
   },
   "outputs": [
    {
     "name": "stdout",
     "output_type": "stream",
     "text": [
      "Number of original training examples: 60000\n",
      "Number of original test examples: 10000\n"
     ]
    }
   ],
   "source": [
    "(x_train, y_train), (x_test, y_test) = tf.keras.datasets.mnist.load_data()\n",
    "\n",
    "# Rescale the images from [0,255] to the [0.0,1.0] range.\n",
    "x_train, x_test = x_train[..., np.newaxis]/255.0, x_test[..., np.newaxis]/255.0\n",
    "\n",
    "print(\"Number of original training examples:\", len(x_train))\n",
    "print(\"Number of original test examples:\", len(x_test))"
   ]
  },
  {
   "cell_type": "markdown",
   "metadata": {
    "colab_type": "text",
    "id": "fZpbygdGojg3"
   },
   "source": [
    "Filter the dataset to keep just the 3s and 6s,  remove the other classes. At the same time convert the label, `y`, to boolean: `True` for `3` and `False` for `6`. "
   ]
  },
  {
   "cell_type": "code",
   "execution_count": 6,
   "metadata": {
    "colab": {},
    "colab_type": "code",
    "id": "hOw68cCZojg4",
    "tags": []
   },
   "outputs": [],
   "source": [
    "#def filter_365(x, y):\n",
    "#    keep = (y == 3) | (y == 6) | (y == 5)\n",
    "#    x, y = x[keep], y[keep]\n",
    "#    y_res = y == 3\n",
    "#    return x,y_res,y\n",
    "\n",
    "def filter_36(x, y):\n",
    "    keep = (y == 3) | (y == 6)\n",
    "    x, y = x[keep], y[keep]\n",
    "    y = y == 3\n",
    "    return x,y"
   ]
  },
  {
   "cell_type": "code",
   "execution_count": 7,
   "metadata": {
    "colab": {},
    "colab_type": "code",
    "id": "p-XEU8egGL6q",
    "tags": []
   },
   "outputs": [
    {
     "name": "stdout",
     "output_type": "stream",
     "text": [
      "Number of filtered training examples: 12049\n",
      "Number of filtered test examples: 1968\n",
      "0.3\n",
      "0.7\n",
      "After restricting - number of filtered training examples: 500\n",
      "After restricting - number of filtered test examples: 500\n"
     ]
    }
   ],
   "source": [
    "x_train, y_train = filter_36(x_train, y_train)\n",
    "x_test, y_test = filter_36(x_test, y_test)\n",
    "\n",
    "print(\"Number of filtered training examples:\", len(x_train))\n",
    "print(\"Number of filtered test examples:\", len(x_test))\n",
    "\n",
    "def build_set(x, y, desired_size, t_rate):\n",
    "    assert len(x) == len(y)\n",
    "    r = list(range(len(x)))\n",
    "    np.random.shuffle(r)\n",
    "    \n",
    "    if desired_size is None or t_rate is None:\n",
    "        return x,y # no change\n",
    "    \n",
    "    n_true_max = int(desired_size * t_rate)\n",
    "    n_false_max = desired_size - n_true_max\n",
    "    \n",
    "    n_true = 0\n",
    "    n_false = 0\n",
    "    \n",
    "    res_x = []\n",
    "    res_y = []\n",
    "    \n",
    "    for i in r:\n",
    "        if y[i] == True and n_true < n_true_max:\n",
    "            res_x.append(x[i])\n",
    "            res_y.append(y[i])\n",
    "            n_true += 1\n",
    "        elif y[i] == False and n_false < n_false_max:\n",
    "            res_x.append(x[i])\n",
    "            res_y.append(y[i])\n",
    "            n_false += 1\n",
    "    \n",
    "    assert len(res_x) == len(res_y) and len(res_x) == desired_size\n",
    "    \n",
    "    return np.array(res_x), np.array(res_y)\n",
    "\n",
    "# We do a lot of computation so we want to limit the number of examples ASAP\n",
    "x_train, y_train = build_set(x_train, y_train, NUM_EXAMPLES, 0.3)\n",
    "x_test, y_test = build_set(x_test, y_test, NUM_EXAMPLES, 0.7)\n",
    "#y_train_origval = y_train_origval[:NUM_EXAMPLES]\n",
    "\n",
    "print(np.count_nonzero(y_train) / NUM_EXAMPLES)\n",
    "print(np.count_nonzero(y_test) / NUM_EXAMPLES)\n",
    "\n",
    "#print(\"Number of 3 values: \", np.count_nonzero(y_train_origval == 3))\n",
    "#print(\"Number of 6 values: \", np.count_nonzero(y_train_origval == 6))\n",
    "#print(\"Number of 5 values: \", np.count_nonzero(y_train_origval == 5))\n",
    "\n",
    "\n",
    "print(\"After restricting - number of filtered training examples:\", len(x_train))\n",
    "print(\"After restricting - number of filtered test examples:\", len(x_test))"
   ]
  },
  {
   "cell_type": "code",
   "execution_count": 8,
   "metadata": {},
   "outputs": [
    {
     "name": "stdout",
     "output_type": "stream",
     "text": [
      "shape of x_train is (500, 28, 28, 1)\n",
      "type of x_train is <class 'numpy.ndarray'>\n",
      "shape of x_test is (500, 28, 28, 1)\n",
      "type of x_test is <class 'numpy.ndarray'>\n",
      "shape of x_train_deskew is (500, 28, 28, 1)\n",
      "type of x_train_deskew is <class 'numpy.ndarray'>\n",
      "shape of x_test_deskew is (500, 28, 28, 1)\n",
      "type of x_test_deskew is <class 'numpy.ndarray'>\n"
     ]
    },
    {
     "data": {
      "text/plain": [
       "<matplotlib.image.AxesImage at 0x7fc4b57f4d00>"
      ]
     },
     "execution_count": 8,
     "metadata": {},
     "output_type": "execute_result"
    },
    {
     "data": {
      "image/png": "[encoded data removed]",
      "text/plain": [
       "<Figure size 432x288 with 2 Axes>"
      ]
     },
     "metadata": {
      "needs_background": "light"
     },
     "output_type": "display_data"
    }
   ],
   "source": [
    "# The following moment and deskew functions were taken from the works of :\n",
    "\n",
    "# https://stackoverflow.com/questions/43577665/deskew-mnist-images\n",
    "# https://fsix.github.io/mnist/Deskewing.html\n",
    "\n",
    "from scipy.ndimage import interpolation\n",
    "\n",
    "def moments(image):\n",
    "    c0,c1 = np.mgrid[:image.shape[0],:image.shape[1]] # A trick in numPy to create a mesh grid\n",
    "    totalImage = np.sum(image) #sum of pixels\n",
    "    m0 = np.sum(c0*image)/totalImage #mu_x\n",
    "    m1 = np.sum(c1*image)/totalImage #mu_y\n",
    "    m00 = np.sum((c0-m0)**2*image)/totalImage #var(x)\n",
    "    m11 = np.sum((c1-m1)**2*image)/totalImage #var(y)\n",
    "    m01 = np.sum((c0-m0)*(c1-m1)*image)/totalImage #covariance(x,y)\n",
    "    mu_vector = np.array([m0,m1]) # Notice that these are \\mu_x, \\mu_y respectively\n",
    "    covariance_matrix = np.array([[m00,m01],[m01,m11]]) # Do you see a similarity between the covariance matrix\n",
    "    return mu_vector, covariance_matrix\n",
    "#Deskew the training samples \n",
    "def deskew(image):\n",
    "    c,v = moments(image)\n",
    "    alpha = v[0,1]/v[0,0]\n",
    "    affine = np.array([[1,0],[alpha,1]])\n",
    "    ocenter = np.array(image.shape)/2.0\n",
    "    offset = c-np.dot(affine,ocenter)\n",
    "    img = interpolation.affine_transform(image,affine,offset=offset)\n",
    "    return (img - img.min()) / (img.max() - img.min())\n",
    "#examples = (4181, 0), (3,1), (56282, 2), (25829,3), (9741,4) , (26901,5), (50027,6), (17935,7) , (41495, 8), (14662, 9)\n",
    "#\n",
    "#from mpl_toolkits.axes_grid1 import AxesGrid\n",
    "#grid = AxesGrid(plt.figure(figsize=(8,15)), 141,  # similar to subplot(141)\n",
    "#                    nrows_ncols=(10, 2),\n",
    "#                    axes_pad=0.05,\n",
    "#                    label_mode=\"1\",\n",
    "#                    )\n",
    "#\n",
    "#for examplenum,num in examples:\n",
    "#    im = grid[2*num].imshow(x_train[examplenum].reshape(28,28))\n",
    "#    im2 = grid[2*num+1].imshow(deskew(x_train[examplenum].reshape(28,28)))\n",
    "#plt.subplot(1, 2, 1)\n",
    "#plt.imshow(x_train[3].reshape(28,28))\n",
    "#\n",
    "#newim = deskew(x_train[3].reshape(28,28))\n",
    "#plt.subplot(1, 2, 2)\n",
    "#plt.imshow(newim)\n",
    "\n",
    "print(\"shape of x_train is \" + str(x_train.shape))\n",
    "print(\"type of x_train is \" + str(type(x_train)))\n",
    "print(\"shape of x_test is \" + str(x_test.shape))\n",
    "print(\"type of x_test is \" + str(type(x_test)))\n",
    "\n",
    "\n",
    "#store the deskwed x_train into a list x_test_deskew\n",
    "#store the deskwed x_test into a list x_test_deskew\n",
    "\n",
    "#training set \n",
    "x_train_deskew = [] \n",
    "for i in range(x_train.shape[0]): \n",
    "    x_train_deskew.append(deskew(x_train[i].reshape(28,28)))\n",
    "x_train_deskew = np.array(x_train_deskew)\n",
    "x_train_deskew = x_train_deskew[..., np.newaxis]\n",
    "print(\"shape of x_train_deskew is \" + str(np.shape(x_train_deskew)))\n",
    "print(\"type of x_train_deskew is \" + str(type(x_train_deskew)))\n",
    "\n",
    "#test set \n",
    "x_test_deskew = [] \n",
    "for j in range(x_test.shape[0]): \n",
    "    x_test_deskew.append(deskew(x_test[j].reshape(28,28)))\n",
    "x_test_deskew = np.array(x_test_deskew)\n",
    "x_test_deskew = x_test_deskew[..., np.newaxis]\n",
    "print(\"shape of x_test_deskew is \" + str(np.shape(x_test_deskew)))\n",
    "print(\"type of x_test_deskew is \" + str(type(x_test_deskew)))\n",
    "\n",
    "\n",
    "#We should have the deskewed image stored within x_train\n",
    "#original \n",
    "plt.subplot(1, 2, 1)\n",
    "plt.imshow(x_train[3].reshape(28,28))\n",
    "\n",
    "#deskewed \n",
    "plt.subplot(1, 2, 2)\n",
    "plt.imshow(x_train_deskew[3])\n",
    "\n",
    "\n",
    "#We should have the deskewed image stored within x_test \n",
    "#original\n",
    "plt.subplot(1, 2, 1)\n",
    "plt.imshow(x_test[3].reshape(28,28))\n",
    "\n",
    "#deskewed\n",
    "plt.subplot(1, 2, 2)\n",
    "plt.imshow(x_test_deskew[3])"
   ]
  },
  {
   "cell_type": "markdown",
   "metadata": {
    "colab_type": "text",
    "id": "3wyiaP0Xojg_"
   },
   "source": [
    "Show the first example:"
   ]
  },
  {
   "cell_type": "code",
   "execution_count": 9,
   "metadata": {
    "colab": {},
    "colab_type": "code",
    "id": "j5STP7MbojhA",
    "tags": []
   },
   "outputs": [
    {
     "name": "stdout",
     "output_type": "stream",
     "text": [
      "False\n"
     ]
    },
    {
     "data": {
      "text/plain": [
       "<matplotlib.colorbar.Colorbar at 0x7fc4b56c5970>"
      ]
     },
     "execution_count": 9,
     "metadata": {},
     "output_type": "execute_result"
    },
    {
     "data": {
      "image/png": "[encoded data removed]",
      "text/plain": [
       "<Figure size 432x288 with 2 Axes>"
      ]
     },
     "metadata": {
      "needs_background": "light"
     },
     "output_type": "display_data"
    }
   ],
   "source": [
    "print(y_train[0])\n",
    "\n",
    "plt.imshow(x_train[0, :, :, 0])\n",
    "plt.colorbar()"
   ]
  },
  {
   "cell_type": "markdown",
   "metadata": {
    "colab_type": "text",
    "id": "wNS9sVPQojhC"
   },
   "source": [
    "### 1.2 Downscale the images"
   ]
  },
  {
   "cell_type": "markdown",
   "metadata": {
    "colab_type": "text",
    "id": "fmmtplIFGL6t"
   },
   "source": [
    "An image size of 28x28 is much too large for current quantum computers. Resize the image down to 4x4:"
   ]
  },
  {
   "cell_type": "code",
   "execution_count": 10,
   "metadata": {
    "colab": {},
    "colab_type": "code",
    "id": "lbhUdBFWojhE",
    "tags": []
   },
   "outputs": [],
   "source": [
    "x_train_small = tf.image.resize(x_train, (4,4)).numpy()\n",
    "x_test_small = tf.image.resize(x_test, (4,4)).numpy()\n",
    "\n",
    "# 16x16 for amplitude embedding!\n",
    "x_train_small_256 = tf.image.resize(x_train, (16,16)).numpy()\n",
    "x_test_small_256 = tf.image.resize(x_test, (16,16)).numpy()"
   ]
  },
  {
   "cell_type": "markdown",
   "metadata": {
    "colab_type": "text",
    "id": "pOMd7zIjGL6x"
   },
   "source": [
    "Again, display the first training example—after resize: "
   ]
  },
  {
   "cell_type": "code",
   "execution_count": 11,
   "metadata": {
    "colab": {},
    "colab_type": "code",
    "id": "YIYOtCRIGL6y",
    "scrolled": true,
    "tags": []
   },
   "outputs": [
    {
     "name": "stdout",
     "output_type": "stream",
     "text": [
      "False\n"
     ]
    },
    {
     "data": {
      "text/plain": [
       "<matplotlib.colorbar.Colorbar at 0x7fc4b57305e0>"
      ]
     },
     "execution_count": 11,
     "metadata": {},
     "output_type": "execute_result"
    },
    {
     "data": {
      "image/png": "[encoded data removed]",
      "text/plain": [
       "<Figure size 432x288 with 2 Axes>"
      ]
     },
     "metadata": {
      "needs_background": "light"
     },
     "output_type": "display_data"
    }
   ],
   "source": [
    "print(y_train[0])\n",
    "\n",
    "plt.imshow(x_train_small[0,:,:,0], vmin=0, vmax=1)\n",
    "plt.colorbar()"
   ]
  },
  {
   "cell_type": "code",
   "execution_count": 12,
   "metadata": {},
   "outputs": [
    {
     "name": "stdout",
     "output_type": "stream",
     "text": [
      "False\n"
     ]
    },
    {
     "data": {
      "text/plain": [
       "<matplotlib.colorbar.Colorbar at 0x7fc4b5501b50>"
      ]
     },
     "execution_count": 12,
     "metadata": {},
     "output_type": "execute_result"
    },
    {
     "data": {
      "image/png": "[encoded data removed]",
      "text/plain": [
       "<Figure size 432x288 with 2 Axes>"
      ]
     },
     "metadata": {
      "needs_background": "light"
     },
     "output_type": "display_data"
    }
   ],
   "source": [
    "print(y_train[0])\n",
    "\n",
    "plt.imshow(x_train_small_256[0,:,:,0], vmin=0, vmax=1)\n",
    "plt.colorbar()"
   ]
  },
  {
   "cell_type": "markdown",
   "metadata": {
    "colab_type": "text",
    "id": "gGeF1_qtojhK"
   },
   "source": [
    "### 1.3 Remove contradictory examples"
   ]
  },
  {
   "cell_type": "markdown",
   "metadata": {
    "colab_type": "text",
    "id": "7ZLkq2yeojhL"
   },
   "source": [
    "From section *3.3 Learning to Distinguish Digits* of <a href=\"https://arxiv.org/pdf/1802.06002.pdf\" class=\"external\">Farhi et al.</a>, filter the dataset to remove images that are labeled as belonging to both classes.\n",
    "\n",
    "This is not a standard machine-learning procedure, but is included in the interest of following the paper."
   ]
  },
  {
   "cell_type": "code",
   "execution_count": 13,
   "metadata": {
    "colab": {},
    "colab_type": "code",
    "id": "LqOPW0C7ojhL",
    "tags": []
   },
   "outputs": [],
   "source": [
    "def remove_contradicting(xs, ys):\n",
    "    mapping = collections.defaultdict(set)\n",
    "    orig_x = {}\n",
    "    # Determine the set of labels for each unique image:\n",
    "    for x,y in zip(xs,ys):\n",
    "       orig_x[tuple(x.flatten())] = x\n",
    "       mapping[tuple(x.flatten())].add(y)\n",
    "    \n",
    "    new_x = []\n",
    "    new_y = []\n",
    "    for flatten_x in mapping:\n",
    "      x = orig_x[flatten_x]\n",
    "      labels = mapping[flatten_x]\n",
    "      if len(labels) == 1:\n",
    "          new_x.append(x)\n",
    "          new_y.append(next(iter(labels)))\n",
    "      else:\n",
    "          # Throw out images that match more than one label.\n",
    "          pass\n",
    "    \n",
    "    num_uniq_3 = sum(1 for value in mapping.values() if len(value) == 1 and True in value)\n",
    "    num_uniq_6 = sum(1 for value in mapping.values() if len(value) == 1 and False in value)\n",
    "    num_uniq_both = sum(1 for value in mapping.values() if len(value) == 2)\n",
    "\n",
    "    print(\"Number of unique images:\", len(mapping.values()))\n",
    "    print(\"Number of unique 3s: \", num_uniq_3)\n",
    "    print(\"Number of unique 6s: \", num_uniq_6)\n",
    "    print(\"Number of unique contradicting labels (both 3 and 6): \", num_uniq_both)\n",
    "    print()\n",
    "    print(\"Initial number of images: \", len(xs))\n",
    "    print(\"Remaining non-contradicting unique images: \", len(new_x))\n",
    "    \n",
    "    return np.array(new_x), np.array(new_y)"
   ]
  },
  {
   "cell_type": "markdown",
   "metadata": {
    "colab_type": "text",
    "id": "VMOiJfz_ojhP"
   },
   "source": [
    "The resulting counts do not closely match the reported values, but the exact procedure is not specified.\n",
    "\n",
    "It is also worth noting here that applying filtering contradictory examples at this point does not totally prevent the model from receiving contradictory training examples: the next step binarizes the data which will cause more collisions. "
   ]
  },
  {
   "cell_type": "code",
   "execution_count": 14,
   "metadata": {},
   "outputs": [
    {
     "name": "stdout",
     "output_type": "stream",
     "text": [
      "Number of unique images: 481\n",
      "Number of unique 3s:  141\n",
      "Number of unique 6s:  340\n",
      "Number of unique contradicting labels (both 3 and 6):  0\n",
      "\n",
      "Initial number of images:  500\n",
      "Remaining non-contradicting unique images:  481\n"
     ]
    }
   ],
   "source": [
    "x_train_nocon, y_train_nocon = remove_contradicting(x_train_small, y_train)"
   ]
  },
  {
   "cell_type": "code",
   "execution_count": 15,
   "metadata": {
    "colab": {},
    "colab_type": "code",
    "id": "zpnsAssWojhP",
    "scrolled": true,
    "tags": []
   },
   "outputs": [],
   "source": [
    "#x_train_nocon_256, y_train_nocon_256 = remove_contradicting(x_train_small_256, y_train)\n",
    "x_train_nocon_256, y_train_nocon_256 = x_train_small_256, y_train\n",
    "\n",
    "# removing contradictory images is not an issue for 16x16 images!"
   ]
  },
  {
   "cell_type": "code",
   "execution_count": 16,
   "metadata": {},
   "outputs": [],
   "source": [
    "# Duplicate some entries to illustrate the effects of dropout! Run this cell only if testing dropout\n",
    "NUM_DUPLICATE = 100\n",
    "\n",
    "for i in range(NUM_DUPLICATE):\n",
    "    x_train_nocon = np.insert(x_train_nocon, 0, x_train_nocon[0], axis=0)\n",
    "    y_train_nocon = np.insert(y_train_nocon, 0, y_train_nocon[0], axis=0)\n",
    "    \n",
    "#    x_train_nocon_256 = np.insert(x_train_nocon_256, 0, x_train_nocon_256[0], axis=0)\n",
    "#    y_train_nocon_256 = np.insert(y_train_nocon_256, 0, y_train_nocon_256[0], axis=0)\n",
    "\n",
    "# Trim to the number of examples to make sure we don't do extra work!\n",
    "#x_train_nocon_256 = x_train_nocon_256[:NUM_EXAMPLES]\n",
    "#y_train_nocon_256 = y_train_nocon_256[:NUM_EXAMPLES]\n",
    "\n",
    "#print(x_train_nocon_256.shape)\n",
    "#print(y_train_nocon_256.shape)\n",
    "\n",
    "# Add random noise to training data\n",
    "#x_train_nocon_256 = np.array([random_noise(img, mode='gaussian', mean=0.0, var=0.05, clip=True) for img in x_train_nocon_256])"
   ]
  },
  {
   "cell_type": "markdown",
   "metadata": {
    "colab_type": "text",
    "id": "SlJ5NVaPojhT"
   },
   "source": [
    "### 1.4 Encode the data as quantum circuits\n",
    "\n",
    "To process images using a quantum computer, <a href=\"https://arxiv.org/pdf/1802.06002.pdf\" class=\"external\">Farhi et al.</a> proposed representing each pixel with a qubit, with the state depending on the value of the pixel. The first step is to convert to a binary encoding."
   ]
  },
  {
   "cell_type": "code",
   "execution_count": 17,
   "metadata": {
    "colab": {},
    "colab_type": "code",
    "id": "1z8J7OyDojhV",
    "tags": []
   },
   "outputs": [],
   "source": [
    "THRESHOLD = 0.5\n",
    "\n",
    "x_train_bin = np.array(x_train_nocon > THRESHOLD, dtype=np.float32)\n",
    "x_test_bin = np.array(x_test_small > THRESHOLD, dtype=np.float32)"
   ]
  },
  {
   "cell_type": "markdown",
   "metadata": {
    "colab_type": "text",
    "id": "SlJ5NVaPojhU"
   },
   "source": [
    "If you were to remove contradictory images at this point you would be left with only 193, likely not enough for effective training."
   ]
  },
  {
   "cell_type": "code",
   "execution_count": 18,
   "metadata": {
    "colab": {},
    "colab_type": "code",
    "id": "1z8J7OyDojhW",
    "tags": []
   },
   "outputs": [
    {
     "name": "stdout",
     "output_type": "stream",
     "text": [
      "Number of unique images: 67\n",
      "Number of unique 3s:  23\n",
      "Number of unique 6s:  34\n",
      "Number of unique contradicting labels (both 3 and 6):  10\n",
      "\n",
      "Initial number of images:  581\n",
      "Remaining non-contradicting unique images:  57\n"
     ]
    }
   ],
   "source": [
    "_ = remove_contradicting(x_train_bin, y_train_nocon)"
   ]
  },
  {
   "cell_type": "markdown",
   "metadata": {
    "colab_type": "text",
    "id": "oLyxS9KlojhZ"
   },
   "source": [
    "The qubits at pixel indices with values that exceed a threshold, are rotated through an $X$ gate."
   ]
  },
  {
   "cell_type": "code",
   "execution_count": 19,
   "metadata": {},
   "outputs": [],
   "source": [
    "# tolerance for normalization\n",
    "TOLERANCE = 1e-10\n",
    "\n",
    "# Use Mottonen state preparation to get an amplitude embedding of the states\n",
    "# Adapted from https://pennylane.readthedocs.io/en/stable/_modules/pennylane/templates/state_preparations/mottonen.html#MottonenStatePreparation\n",
    "\n",
    "def gray_code(rank):\n",
    "    \"\"\"Generates the Gray code of given rank.\n",
    "\n",
    "    Args:\n",
    "        rank (int): rank of the Gray code (i.e. number of bits)\n",
    "    \"\"\"\n",
    "\n",
    "    def gray_code_recurse(g, rank):\n",
    "        k = len(g)\n",
    "        if rank <= 0:\n",
    "            return\n",
    "\n",
    "        for i in range(k - 1, -1, -1):\n",
    "            char = \"1\" + g[i]\n",
    "            g.append(char)\n",
    "        for i in range(k - 1, -1, -1):\n",
    "            g[i] = \"0\" + g[i]\n",
    "\n",
    "        gray_code_recurse(g, rank - 1)\n",
    "\n",
    "    g = [\"0\", \"1\"]\n",
    "    gray_code_recurse(g, rank - 1)\n",
    "\n",
    "    return g\n",
    "\n",
    "\n",
    "def _matrix_M_entry(row, col):\n",
    "    \"\"\"Returns one entry for the matrix that maps alpha to theta.\n",
    "\n",
    "    See Eq. (3) in `Möttönen et al. (2004) <https://arxiv.org/pdf/quant-ph/0407010.pdf>`_.\n",
    "\n",
    "    Args:\n",
    "        row (int): one-based row number\n",
    "        col (int): one-based column number\n",
    "\n",
    "    Returns:\n",
    "        (float): transformation matrix entry at given row and column\n",
    "    \"\"\"\n",
    "    # (col >> 1) ^ col is the Gray code of col\n",
    "    b_and_g = row & ((col >> 1) ^ col)\n",
    "    sum_of_ones = 0\n",
    "    while b_and_g > 0:\n",
    "        if b_and_g & 0b1:\n",
    "            sum_of_ones += 1\n",
    "\n",
    "        b_and_g = b_and_g >> 1\n",
    "\n",
    "    return (-1) ** sum_of_ones\n",
    "\n",
    "\n",
    "def _compute_theta(alpha):\n",
    "    \"\"\"Maps the angles alpha of the multi-controlled rotations decomposition of a uniformly controlled rotation\n",
    "     to the rotation angles used in the Gray code implementation.\n",
    "\n",
    "    Args:\n",
    "        alpha (tensor_like): alpha parameters\n",
    "\n",
    "    Returns:\n",
    "        (tensor_like): rotation angles theta\n",
    "    \"\"\"\n",
    "    ln = alpha.shape[0]\n",
    "    k = np.log2(alpha.shape[0])\n",
    "\n",
    "    M_trans = np.zeros(shape=(ln, ln))\n",
    "    for i in range(len(M_trans)):\n",
    "        for j in range(len(M_trans[0])):\n",
    "            M_trans[i, j] = _matrix_M_entry(j, i)\n",
    "\n",
    "    theta = np.dot(M_trans, alpha)\n",
    "\n",
    "    return theta / 2 ** k\n",
    "\n",
    "\n",
    "def _uniform_rotation_dagger(gate, alpha, control_wires, target_wire, circuit):\n",
    "    r\"\"\"Applies a uniformly-controlled rotation to the target qubit.\n",
    "\n",
    "    A uniformly-controlled rotation is a sequence of multi-controlled\n",
    "    rotations, each of which is conditioned on the control qubits being in a different state.\n",
    "    For example, a uniformly-controlled rotation with two control qubits describes a sequence of\n",
    "    four multi-controlled rotations, each applying the rotation only if the control qubits\n",
    "    are in states :math:`|00\\rangle`, :math:`|01\\rangle`, :math:`|10\\rangle`, and :math:`|11\\rangle`, respectively.\n",
    "\n",
    "    To implement a uniformly-controlled rotation using single qubit rotations and CNOT gates,\n",
    "    a decomposition based on Gray codes is used. For this purpose, the multi-controlled rotation\n",
    "    angles alpha have to be converted into a set of non-controlled rotation angles theta.\n",
    "\n",
    "    For more details, see `Möttönen and Vartiainen (2005), Fig 7a<https://arxiv.org/pdf/quant-ph/0504100.pdf>`_.\n",
    "\n",
    "    Args:\n",
    "        gate (.Operation): gate to be applied, needs to have exactly one parameter\n",
    "        alpha (tensor_like): angles to decompose the uniformly-controlled rotation into multi-controlled rotations\n",
    "        control_wires (array[int]): wires that act as control\n",
    "        target_wire (int): wire that acts as target\n",
    "    \"\"\"\n",
    "\n",
    "    theta = _compute_theta(alpha)\n",
    "\n",
    "    gray_code_rank = len(control_wires)\n",
    "\n",
    "    if gray_code_rank == 0:\n",
    "        if theta[0] != 0.0:\n",
    "            circuit.append(gate(theta[0])(target_wire))\n",
    "        return\n",
    "\n",
    "    code = gray_code(gray_code_rank)\n",
    "    num_selections = len(code)\n",
    "\n",
    "    control_indices = [\n",
    "        int(np.log2(int(code[i], 2) ^ int(code[(i + 1) % num_selections], 2)))\n",
    "        for i in range(num_selections)\n",
    "    ]\n",
    "\n",
    "    for i, control_index in enumerate(control_indices):\n",
    "        if theta[i] != 0.0:\n",
    "            circuit.append(gate(theta[i])(target_wire))\n",
    "        circuit.append(cirq.CNOT(control_wires[control_index], target_wire))\n",
    "\n",
    "\n",
    "def _get_alpha_z(omega, n, k):\n",
    "    r\"\"\"Computes the rotation angles required to implement the uniformly-controlled Z rotation\n",
    "    applied to the :math:`k`th qubit.\n",
    "\n",
    "    The :math:`j`th angle is related to the phases omega of the desired amplitudes via:\n",
    "\n",
    "    .. math:: \\alpha^{z,k}_j = \\sum_{l=1}^{2^{k-1}} \\frac{\\omega_{(2j-1) 2^{k-1}+l} - \\omega_{(2j-2) 2^{k-1}+l}}{2^{k-1}}\n",
    "\n",
    "    Args:\n",
    "        omega (tensor_like): phases of the state to prepare\n",
    "        n (int): total number of qubits for the uniformly-controlled rotation\n",
    "        k (int): index of current qubit\n",
    "\n",
    "    Returns:\n",
    "        array representing :math:`\\alpha^{z,k}`\n",
    "    \"\"\"\n",
    "    indices1 = [\n",
    "        [(2 * j - 1) * 2 ** (k - 1) + l - 1 for l in range(1, 2 ** (k - 1) + 1)]\n",
    "        for j in range(1, 2 ** (n - k) + 1)\n",
    "    ]\n",
    "    indices2 = [\n",
    "        [(2 * j - 2) * 2 ** (k - 1) + l - 1 for l in range(1, 2 ** (k - 1) + 1)]\n",
    "        for j in range(1, 2 ** (n - k) + 1)\n",
    "    ]\n",
    "\n",
    "    term1 = np.take(omega, indices=indices1)\n",
    "    term2 = np.take(omega, indices=indices2)\n",
    "    diff = (term1 - term2) / 2 ** (k - 1)\n",
    "\n",
    "    return np.sum(diff, axis=1)\n",
    "\n",
    "\n",
    "def _get_alpha_y(a, n, k):\n",
    "    r\"\"\"Computes the rotation angles required to implement the uniformly controlled Y rotation\n",
    "    applied to the :math:`k`th qubit.\n",
    "\n",
    "    The :math:`j`-th angle is related to the absolute values, a, of the desired amplitudes via:\n",
    "\n",
    "    .. math:: \\alpha^{y,k}_j = 2 \\arcsin \\sqrt{ \\frac{ \\sum_{l=1}^{2^{k-1}} a_{(2j-1)2^{k-1} +l}^2  }{ \\sum_{l=1}^{2^{k}} a_{(j-1)2^{k} +l}^2  } }\n",
    "\n",
    "    Args:\n",
    "        a (tensor_like): absolute values of the state to prepare\n",
    "        n (int): total number of qubits for the uniformly-controlled rotation\n",
    "        k (int): index of current qubit\n",
    "\n",
    "    Returns:\n",
    "        array representing :math:`\\alpha^{y,k}`\n",
    "    \"\"\"\n",
    "    indices_numerator = [\n",
    "        [(2 * (j + 1) - 1) * 2 ** (k - 1) + l for l in range(2 ** (k - 1))]\n",
    "        for j in range(2 ** (n - k))\n",
    "    ]\n",
    "    numerator = np.take(a, indices=indices_numerator)\n",
    "    numerator = np.sum(np.abs(numerator) ** 2, axis=1)\n",
    "\n",
    "    indices_denominator = [[j * 2 ** k + l for l in range(2 ** k)] for j in range(2 ** (n - k))]\n",
    "    denominator = np.take(a, indices=indices_denominator)\n",
    "    denominator = np.sum(np.abs(denominator) ** 2, axis=1)\n",
    "\n",
    "    # Divide only where denominator is zero, else leave initial value of zero.\n",
    "    # The equation guarantees that the numerator is also zero in the corresponding entries.\n",
    "\n",
    "    with np.errstate(divide=\"ignore\", invalid=\"ignore\"):\n",
    "        division = numerator / denominator\n",
    "\n",
    "    division = np.where(denominator != 0.0, division, 0.0)\n",
    "\n",
    "    return 2 * np.arcsin(np.sqrt(division))\n",
    "\n",
    "def mottonenStatePrep(state_vector, qubits, circuit):\n",
    "\n",
    "        a = np.abs(state_vector)\n",
    "        omega = np.angle(state_vector)\n",
    "\n",
    "        # change ordering of wires, since original code\n",
    "        # was written for IBM machines\n",
    "        wires_reverse = qubits[::-1]\n",
    "\n",
    "        # Apply inverse y rotation cascade to prepare correct absolute values of amplitudes\n",
    "        for k in range(len(wires_reverse), 0, -1):\n",
    "            alpha_y_k = _get_alpha_y(a, len(wires_reverse), k)\n",
    "            control = wires_reverse[k:]\n",
    "            target = wires_reverse[k - 1]\n",
    "            _uniform_rotation_dagger(cirq.ry, alpha_y_k, control, target, circuit)\n",
    "\n",
    "        # If necessary, apply inverse z rotation cascade to prepare correct phases of amplitudes\n",
    "        if not np.allclose(omega, 0):\n",
    "            for k in range(len(wires_reverse), 0, -1):\n",
    "                alpha_z_k = _get_alpha_z(omega, len(wires_reverse), k)\n",
    "                control = wires_reverse[k:]\n",
    "                target = wires_reverse[k - 1]\n",
    "                if len(alpha_z_k) > 0:\n",
    "                    _uniform_rotation_dagger(cirq.rz, alpha_z_k, control, target, circuit)\n",
    "\n",
    "         \n",
    "# The below is borrowed from https://pennylane.readthedocs.io/en/stable/_modules/pennylane/templates/embeddings/amplitude.html#AmplitudeEmbedding\n",
    "def _preprocess(features, wires, pad_with, normalize):\n",
    "    \"\"\"Validate and pre-process inputs as follows:\n",
    "\n",
    "    * Check that the features tensor is one-dimensional.\n",
    "    * If pad_with is None, check that the first dimension of the features tensor\n",
    "      has length :math:`2^n` where :math:`n` is the number of qubits. Else check that the\n",
    "      first dimension of the features tensor is not larger than :math:`2^n` and pad features with value if necessary.\n",
    "    * If normalize is false, check that first dimension of features is normalised to one. Else, normalise the\n",
    "      features tensor.\n",
    "    \"\"\"\n",
    "\n",
    "    shape = features.shape\n",
    "\n",
    "    # check shape\n",
    "    if features.ndim != 1:\n",
    "        raise ValueError(f\"Features must be a one-dimensional tensor; got shape {shape}.\")\n",
    "\n",
    "    n_features = shape[0]\n",
    "    if pad_with is None and n_features != 2 ** len(wires):\n",
    "        raise ValueError(\n",
    "            f\"Features must be of length {2 ** len(wires)}; got length {n_features}. \"\n",
    "            f\"Use the 'pad' argument for automated padding.\"\n",
    "        )\n",
    "\n",
    "    if pad_with is not None and n_features > 2 ** len(wires):\n",
    "        raise ValueError(\n",
    "            f\"Features must be of length {2 ** len(wires)} or \"\n",
    "            f\"smaller to be padded; got length {n_features}.\"\n",
    "        )\n",
    "\n",
    "    # pad\n",
    "    if pad_with is not None and n_features < 2 ** len(wires):\n",
    "        padding = [pad_with] * (2 ** len(wires) - n_features)\n",
    "        features = np.concatenate([features, padding], axis=0)\n",
    "\n",
    "    # normalize\n",
    "    norm = np.sum(np.abs(features) ** 2)\n",
    "\n",
    "    if not np.allclose(norm, 1.0, atol=TOLERANCE):\n",
    "        if normalize or pad_with:\n",
    "            features = features / np.sqrt(norm)\n",
    "        else:\n",
    "            raise ValueError(\n",
    "                f\"Features must be a vector of length 1.0; got length {norm}.\"\n",
    "                \"Use 'normalize=True' to automatically normalize.\"\n",
    "            )\n",
    "\n",
    "    features = features.astype(np.complex128)\n",
    "    return features\n",
    "\n",
    "def cirqAppendAmplitudeEmbedding(features, qubits, circuit, pad_with=None, normalize=False):\n",
    "    features = _preprocess(features, qubits, pad_with, normalize)\n",
    "    mottonenStatePrep(features, qubits, circuit)"
   ]
  },
  {
   "cell_type": "code",
   "execution_count": 20,
   "metadata": {
    "colab": {},
    "colab_type": "code",
    "id": "aOu_3-3ZGL61",
    "tags": []
   },
   "outputs": [],
   "source": [
    "def convert_to_circuit(image):\n",
    "    \"\"\"Encode truncated classical image into quantum datapoint.\"\"\"\n",
    "    values = np.ndarray.flatten(image)\n",
    "    qubits = cirq.GridQubit.rect(4, 4)\n",
    "    circuit = cirq.Circuit()\n",
    "    for i, value in enumerate(values):\n",
    "        if value:\n",
    "            circuit.append(cirq.X(qubits[i]))\n",
    "    circuit.append(make_qft(qubits))\n",
    "    return circuit\n",
    "\n",
    "def convert_to_circuit_mottonen(image):\n",
    "    values = np.ndarray.flatten(image)\n",
    "    assert len(values) == 256\n",
    "    qubits = cirq.GridQubit.rect(4, 2)\n",
    "    circuit = cirq.Circuit()\n",
    "    cirqAppendAmplitudeEmbedding(values, qubits, circuit, normalize=True)\n",
    "    return circuit\n",
    "\n",
    "#x_train_circ = [convert_to_circuit(x) for x in x_train_bin]\n",
    "#x_test_circ = [convert_to_circuit(x) for x in x_test_bin]\n",
    "\n",
    "x_train_circ = [convert_to_circuit_mottonen(x) for x in x_train_nocon_256]\n",
    "x_test_circ = [convert_to_circuit_mottonen(x) for x in x_test_small_256]"
   ]
  },
  {
   "cell_type": "markdown",
   "metadata": {
    "colab_type": "text",
    "id": "zSCXqzOzojhd"
   },
   "source": [
    "Here is the circuit created for the first example (circuit diagrams do not show qubits with zero gates):"
   ]
  },
  {
   "cell_type": "code",
   "execution_count": 21,
   "metadata": {
    "colab": {},
    "colab_type": "code",
    "id": "w3POmUEUojhe",
    "tags": []
   },
   "outputs": [
    {
     "name": "stderr",
     "output_type": "stream",
     "text": [
      "findfont: Font family ['Arial'] not found. Falling back to DejaVu Sans.\n"
     ]
    },
    {
     "data": {
      "image/svg+xml": [
       "<svg xmlns=\"http://www.w3.org/2000/svg\" width=\"41325.14257812474\" height=\"400.0\"><line x1=\"34.7588671875\" x2=\"41295.14257812474\" y1=\"25.0\" y2=\"25.0\" stroke=\"#1967d2\" stroke-width=\"1\" /><line x1=\"34.7588671875\" x2=\"41295.14257812474\" y1=\"75.0\" y2=\"75.0\" stroke=\"#1967d2\" stroke-width=\"1\" /><line x1=\"34.7588671875\" x2=\"41295.14257812474\" y1=\"125.0\" y2=\"125.0\" stroke=\"#1967d2\" stroke-width=\"1\" /><line x1=\"34.7588671875\" x2=\"41295.14257812474\" y1=\"175.0\" y2=\"175.0\" stroke=\"#1967d2\" stroke-width=\"1\" /><line x1=\"34.7588671875\" x2=\"41295.14257812474\" y1=\"225.0\" y2=\"225.0\" stroke=\"#1967d2\" stroke-width=\"1\" /><line x1=\"34.7588671875\" x2=\"41295.14257812474\" y1=\"275.0\" y2=\"275.0\" stroke=\"#1967d2\" stroke-width=\"1\" /><line x1=\"34.7588671875\" x2=\"41295.14257812474\" y1=\"325.0\" y2=\"325.0\" stroke=\"#1967d2\" stroke-width=\"1\" /><line x1=\"34.7588671875\" x2=\"41295.14257812474\" y1=\"375.0\" y2=\"375.0\" stroke=\"#1967d2\" stroke-width=\"1\" /><line x1=\"203.61546875\" x2=\"203.61546875\" y1=\"25.0\" y2=\"75.0\" stroke=\"black\" stroke-width=\"3\" /><line x1=\"367.713203125\" x2=\"367.713203125\" y1=\"25.0\" y2=\"75.0\" stroke=\"black\" stroke-width=\"3\" /><line x1=\"427.713203125\" x2=\"427.713203125\" y1=\"75.0\" y2=\"125.0\" stroke=\"black\" stroke-width=\"3\" /><line x1=\"591.8109375\" x2=\"591.8109375\" y1=\"25.0\" y2=\"125.0\" stroke=\"black\" stroke-width=\"3\" /><line x1=\"760.9604296875\" x2=\"760.9604296875\" y1=\"75.0\" y2=\"125.0\" stroke=\"black\" stroke-width=\"3\" /><line x1=\"925.0581640624999\" x2=\"925.0581640624999\" y1=\"25.0\" y2=\"125.0\" stroke=\"black\" stroke-width=\"3\" /><line x1=\"985.0581640624999\" x2=\"985.0581640624999\" y1=\"125.0\" y2=\"175.0\" stroke=\"black\" stroke-width=\"3\" /><line x1=\"1154.20765625\" x2=\"1154.20765625\" y1=\"75.0\" y2=\"175.0\" stroke=\"black\" stroke-width=\"3\" /><line x1=\"1318.305390625\" x2=\"1318.305390625\" y1=\"125.0\" y2=\"175.0\" stroke=\"black\" stroke-width=\"3\" /><line x1=\"1482.403125\" x2=\"1482.403125\" y1=\"25.0\" y2=\"175.0\" stroke=\"black\" stroke-width=\"3\" /><line x1=\"1651.5526171875001\" x2=\"1651.5526171875001\" y1=\"125.0\" y2=\"175.0\" stroke=\"black\" stroke-width=\"3\" /><line x1=\"1815.6503515625002\" x2=\"1815.6503515625002\" y1=\"75.0\" y2=\"175.0\" stroke=\"black\" stroke-width=\"3\" /><line x1=\"1979.7480859375003\" x2=\"1979.7480859375003\" y1=\"125.0\" y2=\"175.0\" stroke=\"black\" stroke-width=\"3\" /><line x1=\"2143.8458203125\" x2=\"2143.8458203125\" y1=\"25.0\" y2=\"175.0\" stroke=\"black\" stroke-width=\"3\" /><line x1=\"2203.8458203125\" x2=\"2203.8458203125\" y1=\"175.0\" y2=\"225.0\" stroke=\"black\" stroke-width=\"3\" /><line x1=\"2372.9953125\" x2=\"2372.9953125\" y1=\"125.0\" y2=\"225.0\" stroke=\"black\" stroke-width=\"3\" /><line x1=\"2542.1448046875003\" x2=\"2542.1448046875003\" y1=\"175.0\" y2=\"225.0\" stroke=\"black\" stroke-width=\"3\" /><line x1=\"2711.2942968750003\" x2=\"2711.2942968750003\" y1=\"75.0\" y2=\"225.0\" stroke=\"black\" stroke-width=\"3\" /><line x1=\"2880.4437890625004\" x2=\"2880.4437890625004\" y1=\"175.0\" y2=\"225.0\" stroke=\"black\" stroke-width=\"3\" /><line x1=\"3049.5932812500005\" x2=\"3049.5932812500005\" y1=\"125.0\" y2=\"225.0\" stroke=\"black\" stroke-width=\"3\" /><line x1=\"3200.9283203125005\" x2=\"3200.9283203125005\" y1=\"175.0\" y2=\"225.0\" stroke=\"black\" stroke-width=\"3\" /><line x1=\"3365.0260546875006\" x2=\"3365.0260546875006\" y1=\"25.0\" y2=\"225.0\" stroke=\"black\" stroke-width=\"3\" /><line x1=\"3525.2683203125007\" x2=\"3525.2683203125007\" y1=\"175.0\" y2=\"225.0\" stroke=\"black\" stroke-width=\"3\" /><line x1=\"3694.4178125000008\" x2=\"3694.4178125000008\" y1=\"125.0\" y2=\"225.0\" stroke=\"black\" stroke-width=\"3\" /><line x1=\"3854.660078125001\" x2=\"3854.660078125001\" y1=\"175.0\" y2=\"225.0\" stroke=\"black\" stroke-width=\"3\" /><line x1=\"4023.809570312501\" x2=\"4023.809570312501\" y1=\"75.0\" y2=\"225.0\" stroke=\"black\" stroke-width=\"3\" /><line x1=\"4192.959062500001\" x2=\"4192.959062500001\" y1=\"175.0\" y2=\"225.0\" stroke=\"black\" stroke-width=\"3\" /><line x1=\"4362.108554687501\" x2=\"4362.108554687501\" y1=\"125.0\" y2=\"225.0\" stroke=\"black\" stroke-width=\"3\" /><line x1=\"4531.258046875001\" x2=\"4531.258046875001\" y1=\"175.0\" y2=\"225.0\" stroke=\"black\" stroke-width=\"3\" /><line x1=\"4695.355781250001\" x2=\"4695.355781250001\" y1=\"25.0\" y2=\"225.0\" stroke=\"black\" stroke-width=\"3\" /><line x1=\"4755.355781250001\" x2=\"4755.355781250001\" y1=\"225.0\" y2=\"275.0\" stroke=\"black\" stroke-width=\"3\" /><line x1=\"4919.453515625001\" x2=\"4919.453515625001\" y1=\"175.0\" y2=\"275.0\" stroke=\"black\" stroke-width=\"3\" /><line x1=\"5083.551250000001\" x2=\"5083.551250000001\" y1=\"225.0\" y2=\"275.0\" stroke=\"black\" stroke-width=\"3\" /><line x1=\"5247.648984375001\" x2=\"5247.648984375001\" y1=\"125.0\" y2=\"275.0\" stroke=\"black\" stroke-width=\"3\" /><line x1=\"5411.7467187500015\" x2=\"5411.7467187500015\" y1=\"225.0\" y2=\"275.0\" stroke=\"black\" stroke-width=\"3\" /><line x1=\"5575.844453125002\" x2=\"5575.844453125002\" y1=\"175.0\" y2=\"275.0\" stroke=\"black\" stroke-width=\"3\" /><line x1=\"5739.942187500002\" x2=\"5739.942187500002\" y1=\"225.0\" y2=\"275.0\" stroke=\"black\" stroke-width=\"3\" /><line x1=\"5904.039921875002\" x2=\"5904.039921875002\" y1=\"75.0\" y2=\"275.0\" stroke=\"black\" stroke-width=\"3\" /><line x1=\"6073.189414062502\" x2=\"6073.189414062502\" y1=\"225.0\" y2=\"275.0\" stroke=\"black\" stroke-width=\"3\" /><line x1=\"6242.338906250002\" x2=\"6242.338906250002\" y1=\"175.0\" y2=\"275.0\" stroke=\"black\" stroke-width=\"3\" /><line x1=\"6411.488398437502\" x2=\"6411.488398437502\" y1=\"225.0\" y2=\"275.0\" stroke=\"black\" stroke-width=\"3\" /><line x1=\"6580.637890625002\" x2=\"6580.637890625002\" y1=\"125.0\" y2=\"275.0\" stroke=\"black\" stroke-width=\"3\" /><line x1=\"6749.787382812502\" x2=\"6749.787382812502\" y1=\"225.0\" y2=\"275.0\" stroke=\"black\" stroke-width=\"3\" /><line x1=\"6918.936875000002\" x2=\"6918.936875000002\" y1=\"175.0\" y2=\"275.0\" stroke=\"black\" stroke-width=\"3\" /><line x1=\"7088.086367187502\" x2=\"7088.086367187502\" y1=\"225.0\" y2=\"275.0\" stroke=\"black\" stroke-width=\"3\" /><line x1=\"7257.235859375002\" x2=\"7257.235859375002\" y1=\"25.0\" y2=\"275.0\" stroke=\"black\" stroke-width=\"3\" /><line x1=\"7426.385351562502\" x2=\"7426.385351562502\" y1=\"225.0\" y2=\"275.0\" stroke=\"black\" stroke-width=\"3\" /><line x1=\"7595.534843750002\" x2=\"7595.534843750002\" y1=\"175.0\" y2=\"275.0\" stroke=\"black\" stroke-width=\"3\" /><line x1=\"7759.6325781250025\" x2=\"7759.6325781250025\" y1=\"225.0\" y2=\"275.0\" stroke=\"black\" stroke-width=\"3\" /><line x1=\"7923.730312500003\" x2=\"7923.730312500003\" y1=\"125.0\" y2=\"275.0\" stroke=\"black\" stroke-width=\"3\" /><line x1=\"8087.828046875003\" x2=\"8087.828046875003\" y1=\"225.0\" y2=\"275.0\" stroke=\"black\" stroke-width=\"3\" /><line x1=\"8251.925781250002\" x2=\"8251.925781250002\" y1=\"175.0\" y2=\"275.0\" stroke=\"black\" stroke-width=\"3\" /><line x1=\"8416.023515625002\" x2=\"8416.023515625002\" y1=\"225.0\" y2=\"275.0\" stroke=\"black\" stroke-width=\"3\" /><line x1=\"8580.121250000002\" x2=\"8580.121250000002\" y1=\"75.0\" y2=\"275.0\" stroke=\"black\" stroke-width=\"3\" /><line x1=\"8749.270742187502\" x2=\"8749.270742187502\" y1=\"225.0\" y2=\"275.0\" stroke=\"black\" stroke-width=\"3\" /><line x1=\"8918.420234375002\" x2=\"8918.420234375002\" y1=\"175.0\" y2=\"275.0\" stroke=\"black\" stroke-width=\"3\" /><line x1=\"9087.569726562502\" x2=\"9087.569726562502\" y1=\"225.0\" y2=\"275.0\" stroke=\"black\" stroke-width=\"3\" /><line x1=\"9256.719218750002\" x2=\"9256.719218750002\" y1=\"125.0\" y2=\"275.0\" stroke=\"black\" stroke-width=\"3\" /><line x1=\"9425.868710937502\" x2=\"9425.868710937502\" y1=\"225.0\" y2=\"275.0\" stroke=\"black\" stroke-width=\"3\" /><line x1=\"9595.018203125002\" x2=\"9595.018203125002\" y1=\"175.0\" y2=\"275.0\" stroke=\"black\" stroke-width=\"3\" /><line x1=\"9764.167695312502\" x2=\"9764.167695312502\" y1=\"225.0\" y2=\"275.0\" stroke=\"black\" stroke-width=\"3\" /><line x1=\"9933.317187500003\" x2=\"9933.317187500003\" y1=\"25.0\" y2=\"275.0\" stroke=\"black\" stroke-width=\"3\" /><line x1=\"9993.317187500003\" x2=\"9993.317187500003\" y1=\"275.0\" y2=\"325.0\" stroke=\"black\" stroke-width=\"3\" /><line x1=\"10162.466679687503\" x2=\"10162.466679687503\" y1=\"225.0\" y2=\"325.0\" stroke=\"black\" stroke-width=\"3\" /><line x1=\"10331.616171875003\" x2=\"10331.616171875003\" y1=\"275.0\" y2=\"325.0\" stroke=\"black\" stroke-width=\"3\" /><line x1=\"10495.713906250003\" x2=\"10495.713906250003\" y1=\"175.0\" y2=\"325.0\" stroke=\"black\" stroke-width=\"3\" /><line x1=\"10659.811640625003\" x2=\"10659.811640625003\" y1=\"275.0\" y2=\"325.0\" stroke=\"black\" stroke-width=\"3\" /><line x1=\"10828.961132812503\" x2=\"10828.961132812503\" y1=\"225.0\" y2=\"325.0\" stroke=\"black\" stroke-width=\"3\" /><line x1=\"10998.110625000003\" x2=\"10998.110625000003\" y1=\"275.0\" y2=\"325.0\" stroke=\"black\" stroke-width=\"3\" /><line x1=\"11162.208359375003\" x2=\"11162.208359375003\" y1=\"125.0\" y2=\"325.0\" stroke=\"black\" stroke-width=\"3\" /><line x1=\"11326.306093750003\" x2=\"11326.306093750003\" y1=\"275.0\" y2=\"325.0\" stroke=\"black\" stroke-width=\"3\" /><line x1=\"11495.455585937503\" x2=\"11495.455585937503\" y1=\"225.0\" y2=\"325.0\" stroke=\"black\" stroke-width=\"3\" /><line x1=\"11664.605078125003\" x2=\"11664.605078125003\" y1=\"275.0\" y2=\"325.0\" stroke=\"black\" stroke-width=\"3\" /><line x1=\"11828.702812500003\" x2=\"11828.702812500003\" y1=\"175.0\" y2=\"325.0\" stroke=\"black\" stroke-width=\"3\" /><line x1=\"11992.800546875003\" x2=\"11992.800546875003\" y1=\"275.0\" y2=\"325.0\" stroke=\"black\" stroke-width=\"3\" /><line x1=\"12153.042812500003\" x2=\"12153.042812500003\" y1=\"225.0\" y2=\"325.0\" stroke=\"black\" stroke-width=\"3\" /><line x1=\"12322.192304687504\" x2=\"12322.192304687504\" y1=\"275.0\" y2=\"325.0\" stroke=\"black\" stroke-width=\"3\" /><line x1=\"12477.382812500004\" x2=\"12477.382812500004\" y1=\"75.0\" y2=\"325.0\" stroke=\"black\" stroke-width=\"3\" /><line x1=\"12641.480546875004\" x2=\"12641.480546875004\" y1=\"275.0\" y2=\"325.0\" stroke=\"black\" stroke-width=\"3\" /><line x1=\"12805.578281250004\" x2=\"12805.578281250004\" y1=\"225.0\" y2=\"325.0\" stroke=\"black\" stroke-width=\"3\" /><line x1=\"12974.727773437504\" x2=\"12974.727773437504\" y1=\"275.0\" y2=\"325.0\" stroke=\"black\" stroke-width=\"3\" /><line x1=\"13143.877265625004\" x2=\"13143.877265625004\" y1=\"175.0\" y2=\"325.0\" stroke=\"black\" stroke-width=\"3\" /><line x1=\"13307.975000000004\" x2=\"13307.975000000004\" y1=\"275.0\" y2=\"325.0\" stroke=\"black\" stroke-width=\"3\" /><line x1=\"13472.072734375004\" x2=\"13472.072734375004\" y1=\"225.0\" y2=\"325.0\" stroke=\"black\" stroke-width=\"3\" /><line x1=\"13641.222226562504\" x2=\"13641.222226562504\" y1=\"275.0\" y2=\"325.0\" stroke=\"black\" stroke-width=\"3\" /><line x1=\"13810.371718750004\" x2=\"13810.371718750004\" y1=\"125.0\" y2=\"325.0\" stroke=\"black\" stroke-width=\"3\" /><line x1=\"13979.521210937504\" x2=\"13979.521210937504\" y1=\"275.0\" y2=\"325.0\" stroke=\"black\" stroke-width=\"3\" /><line x1=\"14143.618945312504\" x2=\"14143.618945312504\" y1=\"225.0\" y2=\"325.0\" stroke=\"black\" stroke-width=\"3\" /><line x1=\"14307.716679687504\" x2=\"14307.716679687504\" y1=\"275.0\" y2=\"325.0\" stroke=\"black\" stroke-width=\"3\" /><line x1=\"14476.866171875005\" x2=\"14476.866171875005\" y1=\"175.0\" y2=\"325.0\" stroke=\"black\" stroke-width=\"3\" /><line x1=\"14646.015664062505\" x2=\"14646.015664062505\" y1=\"275.0\" y2=\"325.0\" stroke=\"black\" stroke-width=\"3\" /><line x1=\"14815.165156250005\" x2=\"14815.165156250005\" y1=\"225.0\" y2=\"325.0\" stroke=\"black\" stroke-width=\"3\" /><line x1=\"14979.262890625005\" x2=\"14979.262890625005\" y1=\"275.0\" y2=\"325.0\" stroke=\"black\" stroke-width=\"3\" /><line x1=\"15143.360625000005\" x2=\"15143.360625000005\" y1=\"25.0\" y2=\"325.0\" stroke=\"black\" stroke-width=\"3\" /><line x1=\"15312.510117187505\" x2=\"15312.510117187505\" y1=\"275.0\" y2=\"325.0\" stroke=\"black\" stroke-width=\"3\" /><line x1=\"15476.607851562505\" x2=\"15476.607851562505\" y1=\"225.0\" y2=\"325.0\" stroke=\"black\" stroke-width=\"3\" /><line x1=\"15640.705585937505\" x2=\"15640.705585937505\" y1=\"275.0\" y2=\"325.0\" stroke=\"black\" stroke-width=\"3\" /><line x1=\"15809.855078125005\" x2=\"15809.855078125005\" y1=\"175.0\" y2=\"325.0\" stroke=\"black\" stroke-width=\"3\" /><line x1=\"15973.952812500005\" x2=\"15973.952812500005\" y1=\"275.0\" y2=\"325.0\" stroke=\"black\" stroke-width=\"3\" /><line x1=\"16143.102304687505\" x2=\"16143.102304687505\" y1=\"225.0\" y2=\"325.0\" stroke=\"black\" stroke-width=\"3\" /><line x1=\"16312.251796875005\" x2=\"16312.251796875005\" y1=\"275.0\" y2=\"325.0\" stroke=\"black\" stroke-width=\"3\" /><line x1=\"16476.349531250005\" x2=\"16476.349531250005\" y1=\"125.0\" y2=\"325.0\" stroke=\"black\" stroke-width=\"3\" /><line x1=\"16640.447265625004\" x2=\"16640.447265625004\" y1=\"275.0\" y2=\"325.0\" stroke=\"black\" stroke-width=\"3\" /><line x1=\"16809.596757812502\" x2=\"16809.596757812502\" y1=\"225.0\" y2=\"325.0\" stroke=\"black\" stroke-width=\"3\" /><line x1=\"16978.74625\" x2=\"16978.74625\" y1=\"275.0\" y2=\"325.0\" stroke=\"black\" stroke-width=\"3\" /><line x1=\"17142.843984375\" x2=\"17142.843984375\" y1=\"175.0\" y2=\"325.0\" stroke=\"black\" stroke-width=\"3\" /><line x1=\"17306.941718749997\" x2=\"17306.941718749997\" y1=\"275.0\" y2=\"325.0\" stroke=\"black\" stroke-width=\"3\" /><line x1=\"17431.438867187495\" x2=\"17431.438867187495\" y1=\"225.0\" y2=\"325.0\" stroke=\"black\" stroke-width=\"3\" /><line x1=\"17600.588359374993\" x2=\"17600.588359374993\" y1=\"275.0\" y2=\"325.0\" stroke=\"black\" stroke-width=\"3\" /><line x1=\"17725.08550781249\" x2=\"17725.08550781249\" y1=\"75.0\" y2=\"325.0\" stroke=\"black\" stroke-width=\"3\" /><line x1=\"17894.23499999999\" x2=\"17894.23499999999\" y1=\"275.0\" y2=\"325.0\" stroke=\"black\" stroke-width=\"3\" /><line x1=\"18063.384492187488\" x2=\"18063.384492187488\" y1=\"225.0\" y2=\"325.0\" stroke=\"black\" stroke-width=\"3\" /><line x1=\"18227.482226562486\" x2=\"18227.482226562486\" y1=\"275.0\" y2=\"325.0\" stroke=\"black\" stroke-width=\"3\" /><line x1=\"18391.579960937484\" x2=\"18391.579960937484\" y1=\"175.0\" y2=\"325.0\" stroke=\"black\" stroke-width=\"3\" /><line x1=\"18560.729453124983\" x2=\"18560.729453124983\" y1=\"275.0\" y2=\"325.0\" stroke=\"black\" stroke-width=\"3\" /><line x1=\"18724.82718749998\" x2=\"18724.82718749998\" y1=\"225.0\" y2=\"325.0\" stroke=\"black\" stroke-width=\"3\" /><line x1=\"18888.92492187498\" x2=\"18888.92492187498\" y1=\"275.0\" y2=\"325.0\" stroke=\"black\" stroke-width=\"3\" /><line x1=\"19058.074414062477\" x2=\"19058.074414062477\" y1=\"125.0\" y2=\"325.0\" stroke=\"black\" stroke-width=\"3\" /><line x1=\"19227.223906249976\" x2=\"19227.223906249976\" y1=\"275.0\" y2=\"325.0\" stroke=\"black\" stroke-width=\"3\" /><line x1=\"19396.373398437474\" x2=\"19396.373398437474\" y1=\"225.0\" y2=\"325.0\" stroke=\"black\" stroke-width=\"3\" /><line x1=\"19560.471132812472\" x2=\"19560.471132812472\" y1=\"275.0\" y2=\"325.0\" stroke=\"black\" stroke-width=\"3\" /><line x1=\"19724.56886718747\" x2=\"19724.56886718747\" y1=\"175.0\" y2=\"325.0\" stroke=\"black\" stroke-width=\"3\" /><line x1=\"19888.66660156247\" x2=\"19888.66660156247\" y1=\"275.0\" y2=\"325.0\" stroke=\"black\" stroke-width=\"3\" /><line x1=\"20052.764335937467\" x2=\"20052.764335937467\" y1=\"225.0\" y2=\"325.0\" stroke=\"black\" stroke-width=\"3\" /><line x1=\"20221.913828124965\" x2=\"20221.913828124965\" y1=\"275.0\" y2=\"325.0\" stroke=\"black\" stroke-width=\"3\" /><line x1=\"20391.063320312463\" x2=\"20391.063320312463\" y1=\"25.0\" y2=\"325.0\" stroke=\"black\" stroke-width=\"3\" /><line x1=\"20451.063320312463\" x2=\"20451.063320312463\" y1=\"325.0\" y2=\"375.0\" stroke=\"black\" stroke-width=\"3\" /><line x1=\"20615.16105468746\" x2=\"20615.16105468746\" y1=\"275.0\" y2=\"375.0\" stroke=\"black\" stroke-width=\"3\" /><line x1=\"20779.25878906246\" x2=\"20779.25878906246\" y1=\"325.0\" y2=\"375.0\" stroke=\"black\" stroke-width=\"3\" /><line x1=\"20948.40828124996\" x2=\"20948.40828124996\" y1=\"225.0\" y2=\"375.0\" stroke=\"black\" stroke-width=\"3\" /><line x1=\"21117.557773437456\" x2=\"21117.557773437456\" y1=\"325.0\" y2=\"375.0\" stroke=\"black\" stroke-width=\"3\" /><line x1=\"21286.707265624955\" x2=\"21286.707265624955\" y1=\"275.0\" y2=\"375.0\" stroke=\"black\" stroke-width=\"3\" /><line x1=\"21455.856757812453\" x2=\"21455.856757812453\" y1=\"325.0\" y2=\"375.0\" stroke=\"black\" stroke-width=\"3\" /><line x1=\"21619.95449218745\" x2=\"21619.95449218745\" y1=\"175.0\" y2=\"375.0\" stroke=\"black\" stroke-width=\"3\" /><line x1=\"21784.05222656245\" x2=\"21784.05222656245\" y1=\"325.0\" y2=\"375.0\" stroke=\"black\" stroke-width=\"3\" /><line x1=\"21953.201718749948\" x2=\"21953.201718749948\" y1=\"275.0\" y2=\"375.0\" stroke=\"black\" stroke-width=\"3\" /><line x1=\"22108.392226562446\" x2=\"22108.392226562446\" y1=\"325.0\" y2=\"375.0\" stroke=\"black\" stroke-width=\"3\" /><line x1=\"22277.541718749944\" x2=\"22277.541718749944\" y1=\"225.0\" y2=\"375.0\" stroke=\"black\" stroke-width=\"3\" /><line x1=\"22446.691210937443\" x2=\"22446.691210937443\" y1=\"325.0\" y2=\"375.0\" stroke=\"black\" stroke-width=\"3\" /><line x1=\"22610.78894531244\" x2=\"22610.78894531244\" y1=\"275.0\" y2=\"375.0\" stroke=\"black\" stroke-width=\"3\" /><line x1=\"22771.03121093744\" x2=\"22771.03121093744\" y1=\"325.0\" y2=\"375.0\" stroke=\"black\" stroke-width=\"3\" /><line x1=\"22935.128945312437\" x2=\"22935.128945312437\" y1=\"125.0\" y2=\"375.0\" stroke=\"black\" stroke-width=\"3\" /><line x1=\"23099.226679687436\" x2=\"23099.226679687436\" y1=\"325.0\" y2=\"375.0\" stroke=\"black\" stroke-width=\"3\" /><line x1=\"23268.376171874934\" x2=\"23268.376171874934\" y1=\"275.0\" y2=\"375.0\" stroke=\"black\" stroke-width=\"3\" /><line x1=\"23437.525664062432\" x2=\"23437.525664062432\" y1=\"325.0\" y2=\"375.0\" stroke=\"black\" stroke-width=\"3\" /><line x1=\"23606.67515624993\" x2=\"23606.67515624993\" y1=\"225.0\" y2=\"375.0\" stroke=\"black\" stroke-width=\"3\" /><line x1=\"23775.82464843743\" x2=\"23775.82464843743\" y1=\"325.0\" y2=\"375.0\" stroke=\"black\" stroke-width=\"3\" /><line x1=\"23939.922382812427\" x2=\"23939.922382812427\" y1=\"275.0\" y2=\"375.0\" stroke=\"black\" stroke-width=\"3\" /><line x1=\"24104.020117187425\" x2=\"24104.020117187425\" y1=\"325.0\" y2=\"375.0\" stroke=\"black\" stroke-width=\"3\" /><line x1=\"24268.117851562423\" x2=\"24268.117851562423\" y1=\"175.0\" y2=\"375.0\" stroke=\"black\" stroke-width=\"3\" /><line x1=\"24432.21558593742\" x2=\"24432.21558593742\" y1=\"325.0\" y2=\"375.0\" stroke=\"black\" stroke-width=\"3\" /><line x1=\"24596.31332031242\" x2=\"24596.31332031242\" y1=\"275.0\" y2=\"375.0\" stroke=\"black\" stroke-width=\"3\" /><line x1=\"24760.411054687418\" x2=\"24760.411054687418\" y1=\"325.0\" y2=\"375.0\" stroke=\"black\" stroke-width=\"3\" /><line x1=\"24929.560546874916\" x2=\"24929.560546874916\" y1=\"225.0\" y2=\"375.0\" stroke=\"black\" stroke-width=\"3\" /><line x1=\"25098.710039062415\" x2=\"25098.710039062415\" y1=\"325.0\" y2=\"375.0\" stroke=\"black\" stroke-width=\"3\" /><line x1=\"25267.859531249913\" x2=\"25267.859531249913\" y1=\"275.0\" y2=\"375.0\" stroke=\"black\" stroke-width=\"3\" /><line x1=\"25437.00902343741\" x2=\"25437.00902343741\" y1=\"325.0\" y2=\"375.0\" stroke=\"black\" stroke-width=\"3\" /><line x1=\"25601.10675781241\" x2=\"25601.10675781241\" y1=\"75.0\" y2=\"375.0\" stroke=\"black\" stroke-width=\"3\" /><line x1=\"25756.297265624908\" x2=\"25756.297265624908\" y1=\"325.0\" y2=\"375.0\" stroke=\"black\" stroke-width=\"3\" /><line x1=\"25920.394999999906\" x2=\"25920.394999999906\" y1=\"275.0\" y2=\"375.0\" stroke=\"black\" stroke-width=\"3\" /><line x1=\"26089.544492187404\" x2=\"26089.544492187404\" y1=\"325.0\" y2=\"375.0\" stroke=\"black\" stroke-width=\"3\" /><line x1=\"26244.734999999902\" x2=\"26244.734999999902\" y1=\"225.0\" y2=\"375.0\" stroke=\"black\" stroke-width=\"3\" /><line x1=\"26404.9772656249\" x2=\"26404.9772656249\" y1=\"325.0\" y2=\"375.0\" stroke=\"black\" stroke-width=\"3\" /><line x1=\"26574.1267578124\" x2=\"26574.1267578124\" y1=\"275.0\" y2=\"375.0\" stroke=\"black\" stroke-width=\"3\" /><line x1=\"26738.224492187397\" x2=\"26738.224492187397\" y1=\"325.0\" y2=\"375.0\" stroke=\"black\" stroke-width=\"3\" /><line x1=\"26898.466757812395\" x2=\"26898.466757812395\" y1=\"175.0\" y2=\"375.0\" stroke=\"black\" stroke-width=\"3\" /><line x1=\"27062.564492187394\" x2=\"27062.564492187394\" y1=\"325.0\" y2=\"375.0\" stroke=\"black\" stroke-width=\"3\" /><line x1=\"27226.662226562392\" x2=\"27226.662226562392\" y1=\"275.0\" y2=\"375.0\" stroke=\"black\" stroke-width=\"3\" /><line x1=\"27390.75996093739\" x2=\"27390.75996093739\" y1=\"325.0\" y2=\"375.0\" stroke=\"black\" stroke-width=\"3\" /><line x1=\"27554.85769531239\" x2=\"27554.85769531239\" y1=\"225.0\" y2=\"375.0\" stroke=\"black\" stroke-width=\"3\" /><line x1=\"27724.007187499887\" x2=\"27724.007187499887\" y1=\"325.0\" y2=\"375.0\" stroke=\"black\" stroke-width=\"3\" /><line x1=\"27893.156679687385\" x2=\"27893.156679687385\" y1=\"275.0\" y2=\"375.0\" stroke=\"black\" stroke-width=\"3\" /><line x1=\"28062.306171874883\" x2=\"28062.306171874883\" y1=\"325.0\" y2=\"375.0\" stroke=\"black\" stroke-width=\"3\" /><line x1=\"28231.45566406238\" x2=\"28231.45566406238\" y1=\"125.0\" y2=\"375.0\" stroke=\"black\" stroke-width=\"3\" /><line x1=\"28400.60515624988\" x2=\"28400.60515624988\" y1=\"325.0\" y2=\"375.0\" stroke=\"black\" stroke-width=\"3\" /><line x1=\"28569.754648437378\" x2=\"28569.754648437378\" y1=\"275.0\" y2=\"375.0\" stroke=\"black\" stroke-width=\"3\" /><line x1=\"28729.996914062376\" x2=\"28729.996914062376\" y1=\"325.0\" y2=\"375.0\" stroke=\"black\" stroke-width=\"3\" /><line x1=\"28899.146406249874\" x2=\"28899.146406249874\" y1=\"225.0\" y2=\"375.0\" stroke=\"black\" stroke-width=\"3\" /><line x1=\"29063.244140624873\" x2=\"29063.244140624873\" y1=\"325.0\" y2=\"375.0\" stroke=\"black\" stroke-width=\"3\" /><line x1=\"29227.34187499987\" x2=\"29227.34187499987\" y1=\"275.0\" y2=\"375.0\" stroke=\"black\" stroke-width=\"3\" /><line x1=\"29382.53238281237\" x2=\"29382.53238281237\" y1=\"325.0\" y2=\"375.0\" stroke=\"black\" stroke-width=\"3\" /><line x1=\"29546.630117187367\" x2=\"29546.630117187367\" y1=\"175.0\" y2=\"375.0\" stroke=\"black\" stroke-width=\"3\" /><line x1=\"29715.779609374866\" x2=\"29715.779609374866\" y1=\"325.0\" y2=\"375.0\" stroke=\"black\" stroke-width=\"3\" /><line x1=\"29879.877343749864\" x2=\"29879.877343749864\" y1=\"275.0\" y2=\"375.0\" stroke=\"black\" stroke-width=\"3\" /><line x1=\"30049.026835937362\" x2=\"30049.026835937362\" y1=\"325.0\" y2=\"375.0\" stroke=\"black\" stroke-width=\"3\" /><line x1=\"30218.17632812486\" x2=\"30218.17632812486\" y1=\"225.0\" y2=\"375.0\" stroke=\"black\" stroke-width=\"3\" /><line x1=\"30382.27406249986\" x2=\"30382.27406249986\" y1=\"325.0\" y2=\"375.0\" stroke=\"black\" stroke-width=\"3\" /><line x1=\"30551.423554687357\" x2=\"30551.423554687357\" y1=\"275.0\" y2=\"375.0\" stroke=\"black\" stroke-width=\"3\" /><line x1=\"30715.521289062355\" x2=\"30715.521289062355\" y1=\"325.0\" y2=\"375.0\" stroke=\"black\" stroke-width=\"3\" /><line x1=\"30879.619023437353\" x2=\"30879.619023437353\" y1=\"25.0\" y2=\"375.0\" stroke=\"black\" stroke-width=\"3\" /><line x1=\"31048.76851562485\" x2=\"31048.76851562485\" y1=\"325.0\" y2=\"375.0\" stroke=\"black\" stroke-width=\"3\" /><line x1=\"31217.91800781235\" x2=\"31217.91800781235\" y1=\"275.0\" y2=\"375.0\" stroke=\"black\" stroke-width=\"3\" /><line x1=\"31342.41515624985\" x2=\"31342.41515624985\" y1=\"325.0\" y2=\"375.0\" stroke=\"black\" stroke-width=\"3\" /><line x1=\"31506.512890624846\" x2=\"31506.512890624846\" y1=\"225.0\" y2=\"375.0\" stroke=\"black\" stroke-width=\"3\" /><line x1=\"31670.610624999845\" x2=\"31670.610624999845\" y1=\"325.0\" y2=\"375.0\" stroke=\"black\" stroke-width=\"3\" /><line x1=\"31834.708359374843\" x2=\"31834.708359374843\" y1=\"275.0\" y2=\"375.0\" stroke=\"black\" stroke-width=\"3\" /><line x1=\"31959.20550781234\" x2=\"31959.20550781234\" y1=\"325.0\" y2=\"375.0\" stroke=\"black\" stroke-width=\"3\" /><line x1=\"32128.35499999984\" x2=\"32128.35499999984\" y1=\"175.0\" y2=\"375.0\" stroke=\"black\" stroke-width=\"3\" /><line x1=\"32292.452734374838\" x2=\"32292.452734374838\" y1=\"325.0\" y2=\"375.0\" stroke=\"black\" stroke-width=\"3\" /><line x1=\"32456.550468749836\" x2=\"32456.550468749836\" y1=\"275.0\" y2=\"375.0\" stroke=\"black\" stroke-width=\"3\" /><line x1=\"32625.699960937334\" x2=\"32625.699960937334\" y1=\"325.0\" y2=\"375.0\" stroke=\"black\" stroke-width=\"3\" /><line x1=\"32794.84945312483\" x2=\"32794.84945312483\" y1=\"225.0\" y2=\"375.0\" stroke=\"black\" stroke-width=\"3\" /><line x1=\"32963.99894531233\" x2=\"32963.99894531233\" y1=\"325.0\" y2=\"375.0\" stroke=\"black\" stroke-width=\"3\" /><line x1=\"33133.148437499825\" x2=\"33133.148437499825\" y1=\"275.0\" y2=\"375.0\" stroke=\"black\" stroke-width=\"3\" /><line x1=\"33297.24617187482\" x2=\"33297.24617187482\" y1=\"325.0\" y2=\"375.0\" stroke=\"black\" stroke-width=\"3\" /><line x1=\"33461.34390624982\" x2=\"33461.34390624982\" y1=\"125.0\" y2=\"375.0\" stroke=\"black\" stroke-width=\"3\" /><line x1=\"33630.49339843732\" x2=\"33630.49339843732\" y1=\"325.0\" y2=\"375.0\" stroke=\"black\" stroke-width=\"3\" /><line x1=\"33794.59113281232\" x2=\"33794.59113281232\" y1=\"275.0\" y2=\"375.0\" stroke=\"black\" stroke-width=\"3\" /><line x1=\"33958.68886718732\" x2=\"33958.68886718732\" y1=\"325.0\" y2=\"375.0\" stroke=\"black\" stroke-width=\"3\" /><line x1=\"34127.838359374815\" x2=\"34127.838359374815\" y1=\"225.0\" y2=\"375.0\" stroke=\"black\" stroke-width=\"3\" /><line x1=\"34291.93609374981\" x2=\"34291.93609374981\" y1=\"325.0\" y2=\"375.0\" stroke=\"black\" stroke-width=\"3\" /><line x1=\"34461.08558593731\" x2=\"34461.08558593731\" y1=\"275.0\" y2=\"375.0\" stroke=\"black\" stroke-width=\"3\" /><line x1=\"34630.23507812481\" x2=\"34630.23507812481\" y1=\"325.0\" y2=\"375.0\" stroke=\"black\" stroke-width=\"3\" /><line x1=\"34794.33281249981\" x2=\"34794.33281249981\" y1=\"175.0\" y2=\"375.0\" stroke=\"black\" stroke-width=\"3\" /><line x1=\"34958.430546874806\" x2=\"34958.430546874806\" y1=\"325.0\" y2=\"375.0\" stroke=\"black\" stroke-width=\"3\" /><line x1=\"35127.580039062304\" x2=\"35127.580039062304\" y1=\"275.0\" y2=\"375.0\" stroke=\"black\" stroke-width=\"3\" /><line x1=\"35296.7295312498\" x2=\"35296.7295312498\" y1=\"325.0\" y2=\"375.0\" stroke=\"black\" stroke-width=\"3\" /><line x1=\"35465.8790234373\" x2=\"35465.8790234373\" y1=\"225.0\" y2=\"375.0\" stroke=\"black\" stroke-width=\"3\" /><line x1=\"35635.0285156248\" x2=\"35635.0285156248\" y1=\"325.0\" y2=\"375.0\" stroke=\"black\" stroke-width=\"3\" /><line x1=\"35799.1262499998\" x2=\"35799.1262499998\" y1=\"275.0\" y2=\"375.0\" stroke=\"black\" stroke-width=\"3\" /><line x1=\"35963.223984374796\" x2=\"35963.223984374796\" y1=\"325.0\" y2=\"375.0\" stroke=\"black\" stroke-width=\"3\" /><line x1=\"36127.321718749794\" x2=\"36127.321718749794\" y1=\"75.0\" y2=\"375.0\" stroke=\"black\" stroke-width=\"3\" /><line x1=\"36287.56398437479\" x2=\"36287.56398437479\" y1=\"325.0\" y2=\"375.0\" stroke=\"black\" stroke-width=\"3\" /><line x1=\"36456.71347656229\" x2=\"36456.71347656229\" y1=\"275.0\" y2=\"375.0\" stroke=\"black\" stroke-width=\"3\" /><line x1=\"36620.81121093729\" x2=\"36620.81121093729\" y1=\"325.0\" y2=\"375.0\" stroke=\"black\" stroke-width=\"3\" /><line x1=\"36745.30835937479\" x2=\"36745.30835937479\" y1=\"225.0\" y2=\"375.0\" stroke=\"black\" stroke-width=\"3\" /><line x1=\"36900.498867187285\" x2=\"36900.498867187285\" y1=\"325.0\" y2=\"375.0\" stroke=\"black\" stroke-width=\"3\" /><line x1=\"37064.59660156228\" x2=\"37064.59660156228\" y1=\"275.0\" y2=\"375.0\" stroke=\"black\" stroke-width=\"3\" /><line x1=\"37233.74609374978\" x2=\"37233.74609374978\" y1=\"325.0\" y2=\"375.0\" stroke=\"black\" stroke-width=\"3\" /><line x1=\"37358.24324218728\" x2=\"37358.24324218728\" y1=\"175.0\" y2=\"375.0\" stroke=\"black\" stroke-width=\"3\" /><line x1=\"37527.39273437478\" x2=\"37527.39273437478\" y1=\"325.0\" y2=\"375.0\" stroke=\"black\" stroke-width=\"3\" /><line x1=\"37691.49046874978\" x2=\"37691.49046874978\" y1=\"275.0\" y2=\"375.0\" stroke=\"black\" stroke-width=\"3\" /><line x1=\"37860.639960937275\" x2=\"37860.639960937275\" y1=\"325.0\" y2=\"375.0\" stroke=\"black\" stroke-width=\"3\" /><line x1=\"38024.73769531227\" x2=\"38024.73769531227\" y1=\"225.0\" y2=\"375.0\" stroke=\"black\" stroke-width=\"3\" /><line x1=\"38188.83542968727\" x2=\"38188.83542968727\" y1=\"325.0\" y2=\"375.0\" stroke=\"black\" stroke-width=\"3\" /><line x1=\"38357.98492187477\" x2=\"38357.98492187477\" y1=\"275.0\" y2=\"375.0\" stroke=\"black\" stroke-width=\"3\" /><line x1=\"38522.08265624977\" x2=\"38522.08265624977\" y1=\"325.0\" y2=\"375.0\" stroke=\"black\" stroke-width=\"3\" /><line x1=\"38691.232148437266\" x2=\"38691.232148437266\" y1=\"125.0\" y2=\"375.0\" stroke=\"black\" stroke-width=\"3\" /><line x1=\"38860.381640624764\" x2=\"38860.381640624764\" y1=\"325.0\" y2=\"375.0\" stroke=\"black\" stroke-width=\"3\" /><line x1=\"38984.87878906226\" x2=\"38984.87878906226\" y1=\"275.0\" y2=\"375.0\" stroke=\"black\" stroke-width=\"3\" /><line x1=\"39148.97652343726\" x2=\"39148.97652343726\" y1=\"325.0\" y2=\"375.0\" stroke=\"black\" stroke-width=\"3\" /><line x1=\"39313.07425781226\" x2=\"39313.07425781226\" y1=\"225.0\" y2=\"375.0\" stroke=\"black\" stroke-width=\"3\" /><line x1=\"39477.17199218726\" x2=\"39477.17199218726\" y1=\"325.0\" y2=\"375.0\" stroke=\"black\" stroke-width=\"3\" /><line x1=\"39601.669140624756\" x2=\"39601.669140624756\" y1=\"275.0\" y2=\"375.0\" stroke=\"black\" stroke-width=\"3\" /><line x1=\"39770.818632812254\" x2=\"39770.818632812254\" y1=\"325.0\" y2=\"375.0\" stroke=\"black\" stroke-width=\"3\" /><line x1=\"39939.96812499975\" x2=\"39939.96812499975\" y1=\"175.0\" y2=\"375.0\" stroke=\"black\" stroke-width=\"3\" /><line x1=\"40100.21039062475\" x2=\"40100.21039062475\" y1=\"325.0\" y2=\"375.0\" stroke=\"black\" stroke-width=\"3\" /><line x1=\"40269.35988281225\" x2=\"40269.35988281225\" y1=\"275.0\" y2=\"375.0\" stroke=\"black\" stroke-width=\"3\" /><line x1=\"40433.45761718725\" x2=\"40433.45761718725\" y1=\"325.0\" y2=\"375.0\" stroke=\"black\" stroke-width=\"3\" /><line x1=\"40597.555351562245\" x2=\"40597.555351562245\" y1=\"225.0\" y2=\"375.0\" stroke=\"black\" stroke-width=\"3\" /><line x1=\"40752.74585937474\" x2=\"40752.74585937474\" y1=\"325.0\" y2=\"375.0\" stroke=\"black\" stroke-width=\"3\" /><line x1=\"40916.84359374974\" x2=\"40916.84359374974\" y1=\"275.0\" y2=\"375.0\" stroke=\"black\" stroke-width=\"3\" /><line x1=\"41085.99308593724\" x2=\"41085.99308593724\" y1=\"325.0\" y2=\"375.0\" stroke=\"black\" stroke-width=\"3\" /><line x1=\"41255.14257812474\" x2=\"41255.14257812474\" y1=\"25.0\" y2=\"375.0\" stroke=\"black\" stroke-width=\"3\" /><rect x=\"10.0\" y=\"5.0\" width=\"49.517734375\" height=\"40\" stroke=\"black\" fill=\"white\" stroke-width=\"0\" /><text x=\"34.7588671875\" y=\"25.0\" dominant-baseline=\"middle\" text-anchor=\"middle\" font-size=\"14px\" font-family=\"Arial\">(0, 0): </text><rect x=\"10.0\" y=\"55.0\" width=\"49.517734375\" height=\"40\" stroke=\"black\" fill=\"white\" stroke-width=\"0\" /><text x=\"34.7588671875\" y=\"75.0\" dominant-baseline=\"middle\" text-anchor=\"middle\" font-size=\"14px\" font-family=\"Arial\">(0, 1): </text><rect x=\"10.0\" y=\"105.0\" width=\"49.517734375\" height=\"40\" stroke=\"black\" fill=\"white\" stroke-width=\"0\" /><text x=\"34.7588671875\" y=\"125.0\" dominant-baseline=\"middle\" text-anchor=\"middle\" font-size=\"14px\" font-family=\"Arial\">(1, 0): </text><rect x=\"10.0\" y=\"155.0\" width=\"49.517734375\" height=\"40\" stroke=\"black\" fill=\"white\" stroke-width=\"0\" /><text x=\"34.7588671875\" y=\"175.0\" dominant-baseline=\"middle\" text-anchor=\"middle\" font-size=\"14px\" font-family=\"Arial\">(1, 1): </text><rect x=\"10.0\" y=\"205.0\" width=\"49.517734375\" height=\"40\" stroke=\"black\" fill=\"white\" stroke-width=\"0\" /><text x=\"34.7588671875\" y=\"225.0\" dominant-baseline=\"middle\" text-anchor=\"middle\" font-size=\"14px\" font-family=\"Arial\">(2, 0): </text><rect x=\"10.0\" y=\"255.0\" width=\"49.517734375\" height=\"40\" stroke=\"black\" fill=\"white\" stroke-width=\"0\" /><text x=\"34.7588671875\" y=\"275.0\" dominant-baseline=\"middle\" text-anchor=\"middle\" font-size=\"14px\" font-family=\"Arial\">(2, 1): </text><rect x=\"10.0\" y=\"305.0\" width=\"49.517734375\" height=\"40\" stroke=\"black\" fill=\"white\" stroke-width=\"0\" /><text x=\"34.7588671875\" y=\"325.0\" dominant-baseline=\"middle\" text-anchor=\"middle\" font-size=\"14px\" font-family=\"Arial\">(3, 0): </text><rect x=\"10.0\" y=\"355.0\" width=\"49.517734375\" height=\"40\" stroke=\"black\" fill=\"white\" stroke-width=\"0\" /><text x=\"34.7588671875\" y=\"375.0\" dominant-baseline=\"middle\" text-anchor=\"middle\" font-size=\"14px\" font-family=\"Arial\">(3, 1): </text><rect x=\"79.517734375\" y=\"5.0\" width=\"84.097734375\" height=\"40\" stroke=\"black\" fill=\"white\" stroke-width=\"1\" /><text x=\"121.56660156250001\" y=\"25.0\" dominant-baseline=\"middle\" text-anchor=\"middle\" font-size=\"14px\" font-family=\"Arial\">Ry(0.507π)</text><rect x=\"79.517734375\" y=\"55.0\" width=\"84.097734375\" height=\"40\" stroke=\"black\" fill=\"white\" stroke-width=\"1\" /><text x=\"121.56660156250001\" y=\"75.0\" dominant-baseline=\"middle\" text-anchor=\"middle\" font-size=\"14px\" font-family=\"Arial\">Ry(0.521π)</text><rect x=\"79.517734375\" y=\"105.0\" width=\"84.097734375\" height=\"40\" stroke=\"black\" fill=\"white\" stroke-width=\"1\" /><text x=\"121.56660156250001\" y=\"125.0\" dominant-baseline=\"middle\" text-anchor=\"middle\" font-size=\"14px\" font-family=\"Arial\">Ry(0.545π)</text><rect x=\"79.517734375\" y=\"155.0\" width=\"84.097734375\" height=\"40\" stroke=\"black\" fill=\"white\" stroke-width=\"1\" /><text x=\"121.56660156250001\" y=\"175.0\" dominant-baseline=\"middle\" text-anchor=\"middle\" font-size=\"14px\" font-family=\"Arial\">Ry(0.457π)</text><rect x=\"79.517734375\" y=\"205.0\" width=\"84.097734375\" height=\"40\" stroke=\"black\" fill=\"white\" stroke-width=\"1\" /><text x=\"121.56660156250001\" y=\"225.0\" dominant-baseline=\"middle\" text-anchor=\"middle\" font-size=\"14px\" font-family=\"Arial\">Ry(0.434π)</text><rect x=\"79.517734375\" y=\"255.0\" width=\"84.097734375\" height=\"40\" stroke=\"black\" fill=\"white\" stroke-width=\"1\" /><text x=\"121.56660156250001\" y=\"275.0\" dominant-baseline=\"middle\" text-anchor=\"middle\" font-size=\"14px\" font-family=\"Arial\">Ry(0.281π)</text><rect x=\"79.517734375\" y=\"305.0\" width=\"84.097734375\" height=\"40\" stroke=\"black\" fill=\"white\" stroke-width=\"1\" /><text x=\"121.56660156250001\" y=\"325.0\" dominant-baseline=\"middle\" text-anchor=\"middle\" font-size=\"14px\" font-family=\"Arial\">Ry(0.179π)</text><rect x=\"79.517734375\" y=\"355.0\" width=\"84.097734375\" height=\"40\" stroke=\"black\" fill=\"white\" stroke-width=\"1\" /><text x=\"121.56660156250001\" y=\"375.0\" dominant-baseline=\"middle\" text-anchor=\"middle\" font-size=\"14px\" font-family=\"Arial\">Ry(0.137π)</text><circle cx=\"203.61546875\" cy=\"25.0\" r=\"10.0\" /><rect x=\"183.61546875\" y=\"55.0\" width=\"40\" height=\"40\" stroke=\"black\" fill=\"white\" stroke-width=\"1\" /><text x=\"203.61546875\" y=\"75.0\" dominant-baseline=\"middle\" text-anchor=\"middle\" font-size=\"18px\" font-family=\"Arial\">X</text><rect x=\"243.61546874999996\" y=\"55.0\" width=\"84.097734375\" height=\"40\" stroke=\"black\" fill=\"white\" stroke-width=\"1\" /><text x=\"285.66433593749997\" y=\"75.0\" dominant-baseline=\"middle\" text-anchor=\"middle\" font-size=\"14px\" font-family=\"Arial\">Ry(0.208π)</text><circle cx=\"367.713203125\" cy=\"25.0\" r=\"10.0\" /><rect x=\"347.713203125\" y=\"55.0\" width=\"40\" height=\"40\" stroke=\"black\" fill=\"white\" stroke-width=\"1\" /><text x=\"367.713203125\" y=\"75.0\" dominant-baseline=\"middle\" text-anchor=\"middle\" font-size=\"18px\" font-family=\"Arial\">X</text><circle cx=\"427.713203125\" cy=\"75.0\" r=\"10.0\" /><rect x=\"407.713203125\" y=\"105.0\" width=\"40\" height=\"40\" stroke=\"black\" fill=\"white\" stroke-width=\"1\" /><text x=\"427.713203125\" y=\"125.0\" dominant-baseline=\"middle\" text-anchor=\"middle\" font-size=\"18px\" font-family=\"Arial\">X</text><rect x=\"467.713203125\" y=\"105.0\" width=\"84.097734375\" height=\"40\" stroke=\"black\" fill=\"white\" stroke-width=\"1\" /><text x=\"509.7620703125\" y=\"125.0\" dominant-baseline=\"middle\" text-anchor=\"middle\" font-size=\"14px\" font-family=\"Arial\">Ry(0.203π)</text><circle cx=\"591.8109375\" cy=\"25.0\" r=\"10.0\" /><rect x=\"571.8109375\" y=\"105.0\" width=\"40\" height=\"40\" stroke=\"black\" fill=\"white\" stroke-width=\"1\" /><text x=\"591.8109375\" y=\"125.0\" dominant-baseline=\"middle\" text-anchor=\"middle\" font-size=\"18px\" font-family=\"Arial\">X</text><rect x=\"631.8109375\" y=\"105.0\" width=\"89.1494921875\" height=\"40\" stroke=\"black\" fill=\"white\" stroke-width=\"1\" /><text x=\"676.3856835937501\" y=\"125.0\" dominant-baseline=\"middle\" text-anchor=\"middle\" font-size=\"14px\" font-family=\"Arial\">Ry(-0.068π)</text><circle cx=\"760.9604296875\" cy=\"75.0\" r=\"10.0\" /><rect x=\"740.9604296875\" y=\"105.0\" width=\"40\" height=\"40\" stroke=\"black\" fill=\"white\" stroke-width=\"1\" /><text x=\"760.9604296875\" y=\"125.0\" dominant-baseline=\"middle\" text-anchor=\"middle\" font-size=\"18px\" font-family=\"Arial\">X</text><rect x=\"800.9604296875\" y=\"105.0\" width=\"84.097734375\" height=\"40\" stroke=\"black\" fill=\"white\" stroke-width=\"1\" /><text x=\"843.009296875\" y=\"125.0\" dominant-baseline=\"middle\" text-anchor=\"middle\" font-size=\"14px\" font-family=\"Arial\">Ry(0.274π)</text><circle cx=\"925.0581640624999\" cy=\"25.0\" r=\"10.0\" /><rect x=\"905.0581640624999\" y=\"105.0\" width=\"40\" height=\"40\" stroke=\"black\" fill=\"white\" stroke-width=\"1\" /><text x=\"925.0581640624999\" y=\"125.0\" dominant-baseline=\"middle\" text-anchor=\"middle\" font-size=\"18px\" font-family=\"Arial\">X</text><circle cx=\"985.0581640624999\" cy=\"125.0\" r=\"10.0\" /><rect x=\"965.0581640624999\" y=\"155.0\" width=\"40\" height=\"40\" stroke=\"black\" fill=\"white\" stroke-width=\"1\" /><text x=\"985.0581640624999\" y=\"175.0\" dominant-baseline=\"middle\" text-anchor=\"middle\" font-size=\"18px\" font-family=\"Arial\">X</text><rect x=\"1025.0581640624998\" y=\"155.0\" width=\"89.1494921875\" height=\"40\" stroke=\"black\" fill=\"white\" stroke-width=\"1\" /><text x=\"1069.6329101562499\" y=\"175.0\" dominant-baseline=\"middle\" text-anchor=\"middle\" font-size=\"14px\" font-family=\"Arial\">Ry(-0.001π)</text><circle cx=\"1154.20765625\" cy=\"75.0\" r=\"10.0\" /><rect x=\"1134.20765625\" y=\"155.0\" width=\"40\" height=\"40\" stroke=\"black\" fill=\"white\" stroke-width=\"1\" /><text x=\"1154.20765625\" y=\"175.0\" dominant-baseline=\"middle\" text-anchor=\"middle\" font-size=\"18px\" font-family=\"Arial\">X</text><rect x=\"1194.20765625\" y=\"155.0\" width=\"84.097734375\" height=\"40\" stroke=\"black\" fill=\"white\" stroke-width=\"1\" /><text x=\"1236.2565234375\" y=\"175.0\" dominant-baseline=\"middle\" text-anchor=\"middle\" font-size=\"14px\" font-family=\"Arial\">Ry(0.056π)</text><circle cx=\"1318.305390625\" cy=\"125.0\" r=\"10.0\" /><rect x=\"1298.305390625\" y=\"155.0\" width=\"40\" height=\"40\" stroke=\"black\" fill=\"white\" stroke-width=\"1\" /><text x=\"1318.305390625\" y=\"175.0\" dominant-baseline=\"middle\" text-anchor=\"middle\" font-size=\"18px\" font-family=\"Arial\">X</text><rect x=\"1358.305390625\" y=\"155.0\" width=\"84.097734375\" height=\"40\" stroke=\"black\" fill=\"white\" stroke-width=\"1\" /><text x=\"1400.3542578125\" y=\"175.0\" dominant-baseline=\"middle\" text-anchor=\"middle\" font-size=\"14px\" font-family=\"Arial\">Ry(0.138π)</text><circle cx=\"1482.403125\" cy=\"25.0\" r=\"10.0\" /><rect x=\"1462.403125\" y=\"155.0\" width=\"40\" height=\"40\" stroke=\"black\" fill=\"white\" stroke-width=\"1\" /><text x=\"1482.403125\" y=\"175.0\" dominant-baseline=\"middle\" text-anchor=\"middle\" font-size=\"18px\" font-family=\"Arial\">X</text><rect x=\"1522.403125\" y=\"155.0\" width=\"89.1494921875\" height=\"40\" stroke=\"black\" fill=\"white\" stroke-width=\"1\" /><text x=\"1566.97787109375\" y=\"175.0\" dominant-baseline=\"middle\" text-anchor=\"middle\" font-size=\"14px\" font-family=\"Arial\">Ry(-0.085π)</text><circle cx=\"1651.5526171875001\" cy=\"125.0\" r=\"10.0\" /><rect x=\"1631.5526171875001\" y=\"155.0\" width=\"40\" height=\"40\" stroke=\"black\" fill=\"white\" stroke-width=\"1\" /><text x=\"1651.5526171875001\" y=\"175.0\" dominant-baseline=\"middle\" text-anchor=\"middle\" font-size=\"18px\" font-family=\"Arial\">X</text><rect x=\"1691.5526171875001\" y=\"155.0\" width=\"84.097734375\" height=\"40\" stroke=\"black\" fill=\"white\" stroke-width=\"1\" /><text x=\"1733.6014843750002\" y=\"175.0\" dominant-baseline=\"middle\" text-anchor=\"middle\" font-size=\"14px\" font-family=\"Arial\">Ry(0.129π)</text><circle cx=\"1815.6503515625002\" cy=\"75.0\" r=\"10.0\" /><rect x=\"1795.6503515625002\" y=\"155.0\" width=\"40\" height=\"40\" stroke=\"black\" fill=\"white\" stroke-width=\"1\" /><text x=\"1815.6503515625002\" y=\"175.0\" dominant-baseline=\"middle\" text-anchor=\"middle\" font-size=\"18px\" font-family=\"Arial\">X</text><rect x=\"1855.6503515625002\" y=\"155.0\" width=\"84.097734375\" height=\"40\" stroke=\"black\" fill=\"white\" stroke-width=\"1\" /><text x=\"1897.6992187500002\" y=\"175.0\" dominant-baseline=\"middle\" text-anchor=\"middle\" font-size=\"14px\" font-family=\"Arial\">Ry(0.071π)</text><circle cx=\"1979.7480859375003\" cy=\"125.0\" r=\"10.0\" /><rect x=\"1959.7480859375003\" y=\"155.0\" width=\"40\" height=\"40\" stroke=\"black\" fill=\"white\" stroke-width=\"1\" /><text x=\"1979.7480859375003\" y=\"175.0\" dominant-baseline=\"middle\" text-anchor=\"middle\" font-size=\"18px\" font-family=\"Arial\">X</text><rect x=\"2019.7480859375\" y=\"155.0\" width=\"84.097734375\" height=\"40\" stroke=\"black\" fill=\"white\" stroke-width=\"1\" /><text x=\"2061.796953125\" y=\"175.0\" dominant-baseline=\"middle\" text-anchor=\"middle\" font-size=\"14px\" font-family=\"Arial\">Ry(0.235π)</text><circle cx=\"2143.8458203125\" cy=\"25.0\" r=\"10.0\" /><rect x=\"2123.8458203125\" y=\"155.0\" width=\"40\" height=\"40\" stroke=\"black\" fill=\"white\" stroke-width=\"1\" /><text x=\"2143.8458203125\" y=\"175.0\" dominant-baseline=\"middle\" text-anchor=\"middle\" font-size=\"18px\" font-family=\"Arial\">X</text><circle cx=\"2203.8458203125\" cy=\"175.0\" r=\"10.0\" /><rect x=\"2183.8458203125\" y=\"205.0\" width=\"40\" height=\"40\" stroke=\"black\" fill=\"white\" stroke-width=\"1\" /><text x=\"2203.8458203125\" y=\"225.0\" dominant-baseline=\"middle\" text-anchor=\"middle\" font-size=\"18px\" font-family=\"Arial\">X</text><rect x=\"2243.8458203125\" y=\"205.0\" width=\"89.1494921875\" height=\"40\" stroke=\"black\" fill=\"white\" stroke-width=\"1\" /><text x=\"2288.42056640625\" y=\"225.0\" dominant-baseline=\"middle\" text-anchor=\"middle\" font-size=\"14px\" font-family=\"Arial\">Ry(-0.035π)</text><circle cx=\"2372.9953125\" cy=\"125.0\" r=\"10.0\" /><rect x=\"2352.9953125\" y=\"205.0\" width=\"40\" height=\"40\" stroke=\"black\" fill=\"white\" stroke-width=\"1\" /><text x=\"2372.9953125\" y=\"225.0\" dominant-baseline=\"middle\" text-anchor=\"middle\" font-size=\"18px\" font-family=\"Arial\">X</text><rect x=\"2412.9953125\" y=\"205.0\" width=\"89.1494921875\" height=\"40\" stroke=\"black\" fill=\"white\" stroke-width=\"1\" /><text x=\"2457.57005859375\" y=\"225.0\" dominant-baseline=\"middle\" text-anchor=\"middle\" font-size=\"14px\" font-family=\"Arial\">Ry(-0.006π)</text><circle cx=\"2542.1448046875003\" cy=\"175.0\" r=\"10.0\" /><rect x=\"2522.1448046875003\" y=\"205.0\" width=\"40\" height=\"40\" stroke=\"black\" fill=\"white\" stroke-width=\"1\" /><text x=\"2542.1448046875003\" y=\"225.0\" dominant-baseline=\"middle\" text-anchor=\"middle\" font-size=\"18px\" font-family=\"Arial\">X</text><rect x=\"2582.1448046875003\" y=\"205.0\" width=\"89.1494921875\" height=\"40\" stroke=\"black\" fill=\"white\" stroke-width=\"1\" /><text x=\"2626.7195507812503\" y=\"225.0\" dominant-baseline=\"middle\" text-anchor=\"middle\" font-size=\"14px\" font-family=\"Arial\">Ry(-0.067π)</text><circle cx=\"2711.2942968750003\" cy=\"75.0\" r=\"10.0\" /><rect x=\"2691.2942968750003\" y=\"205.0\" width=\"40\" height=\"40\" stroke=\"black\" fill=\"white\" stroke-width=\"1\" /><text x=\"2711.2942968750003\" y=\"225.0\" dominant-baseline=\"middle\" text-anchor=\"middle\" font-size=\"18px\" font-family=\"Arial\">X</text><rect x=\"2751.2942968750003\" y=\"205.0\" width=\"89.1494921875\" height=\"40\" stroke=\"black\" fill=\"white\" stroke-width=\"1\" /><text x=\"2795.8690429687504\" y=\"225.0\" dominant-baseline=\"middle\" text-anchor=\"middle\" font-size=\"14px\" font-family=\"Arial\">Ry(-0.092π)</text><circle cx=\"2880.4437890625004\" cy=\"175.0\" r=\"10.0\" /><rect x=\"2860.4437890625004\" y=\"205.0\" width=\"40\" height=\"40\" stroke=\"black\" fill=\"white\" stroke-width=\"1\" /><text x=\"2880.4437890625004\" y=\"225.0\" dominant-baseline=\"middle\" text-anchor=\"middle\" font-size=\"18px\" font-family=\"Arial\">X</text><rect x=\"2920.4437890625004\" y=\"205.0\" width=\"89.1494921875\" height=\"40\" stroke=\"black\" fill=\"white\" stroke-width=\"1\" /><text x=\"2965.0185351562504\" y=\"225.0\" dominant-baseline=\"middle\" text-anchor=\"middle\" font-size=\"14px\" font-family=\"Arial\">Ry(-0.129π)</text><circle cx=\"3049.5932812500005\" cy=\"125.0\" r=\"10.0\" /><rect x=\"3029.5932812500005\" y=\"205.0\" width=\"40\" height=\"40\" stroke=\"black\" fill=\"white\" stroke-width=\"1\" /><text x=\"3049.5932812500005\" y=\"225.0\" dominant-baseline=\"middle\" text-anchor=\"middle\" font-size=\"18px\" font-family=\"Arial\">X</text><rect x=\"3089.5932812500005\" y=\"205.0\" width=\"71.3350390625\" height=\"40\" stroke=\"black\" fill=\"white\" stroke-width=\"1\" /><text x=\"3125.2608007812505\" y=\"225.0\" dominant-baseline=\"middle\" text-anchor=\"middle\" font-size=\"14px\" font-family=\"Arial\">Ry(-0.1π)</text><circle cx=\"3200.9283203125005\" cy=\"175.0\" r=\"10.0\" /><rect x=\"3180.9283203125005\" y=\"205.0\" width=\"40\" height=\"40\" stroke=\"black\" fill=\"white\" stroke-width=\"1\" /><text x=\"3200.9283203125005\" y=\"225.0\" dominant-baseline=\"middle\" text-anchor=\"middle\" font-size=\"18px\" font-family=\"Arial\">X</text><rect x=\"3240.9283203125005\" y=\"205.0\" width=\"84.097734375\" height=\"40\" stroke=\"black\" fill=\"white\" stroke-width=\"1\" /><text x=\"3282.9771875000006\" y=\"225.0\" dominant-baseline=\"middle\" text-anchor=\"middle\" font-size=\"14px\" font-family=\"Arial\">Ry(0.168π)</text><circle cx=\"3365.0260546875006\" cy=\"25.0\" r=\"10.0\" /><rect x=\"3345.0260546875006\" y=\"205.0\" width=\"40\" height=\"40\" stroke=\"black\" fill=\"white\" stroke-width=\"1\" /><text x=\"3365.0260546875006\" y=\"225.0\" dominant-baseline=\"middle\" text-anchor=\"middle\" font-size=\"18px\" font-family=\"Arial\">X</text><rect x=\"3405.0260546875006\" y=\"205.0\" width=\"80.242265625\" height=\"40\" stroke=\"black\" fill=\"white\" stroke-width=\"1\" /><text x=\"3445.1471875000007\" y=\"225.0\" dominant-baseline=\"middle\" text-anchor=\"middle\" font-size=\"14px\" font-family=\"Arial\">Ry(-0.02π)</text><circle cx=\"3525.2683203125007\" cy=\"175.0\" r=\"10.0\" /><rect x=\"3505.2683203125007\" y=\"205.0\" width=\"40\" height=\"40\" stroke=\"black\" fill=\"white\" stroke-width=\"1\" /><text x=\"3525.2683203125007\" y=\"225.0\" dominant-baseline=\"middle\" text-anchor=\"middle\" font-size=\"18px\" font-family=\"Arial\">X</text><rect x=\"3565.2683203125007\" y=\"205.0\" width=\"89.1494921875\" height=\"40\" stroke=\"black\" fill=\"white\" stroke-width=\"1\" /><text x=\"3609.8430664062507\" y=\"225.0\" dominant-baseline=\"middle\" text-anchor=\"middle\" font-size=\"14px\" font-family=\"Arial\">Ry(-0.051π)</text><circle cx=\"3694.4178125000008\" cy=\"125.0\" r=\"10.0\" /><rect x=\"3674.4178125000008\" y=\"205.0\" width=\"40\" height=\"40\" stroke=\"black\" fill=\"white\" stroke-width=\"1\" /><text x=\"3694.4178125000008\" y=\"225.0\" dominant-baseline=\"middle\" text-anchor=\"middle\" font-size=\"18px\" font-family=\"Arial\">X</text><rect x=\"3734.4178125000008\" y=\"205.0\" width=\"80.242265625\" height=\"40\" stroke=\"black\" fill=\"white\" stroke-width=\"1\" /><text x=\"3774.538945312501\" y=\"225.0\" dominant-baseline=\"middle\" text-anchor=\"middle\" font-size=\"14px\" font-family=\"Arial\">Ry(-0.08π)</text><circle cx=\"3854.660078125001\" cy=\"175.0\" r=\"10.0\" /><rect x=\"3834.660078125001\" y=\"205.0\" width=\"40\" height=\"40\" stroke=\"black\" fill=\"white\" stroke-width=\"1\" /><text x=\"3854.660078125001\" y=\"225.0\" dominant-baseline=\"middle\" text-anchor=\"middle\" font-size=\"18px\" font-family=\"Arial\">X</text><rect x=\"3894.660078125001\" y=\"205.0\" width=\"89.1494921875\" height=\"40\" stroke=\"black\" fill=\"white\" stroke-width=\"1\" /><text x=\"3939.234824218751\" y=\"225.0\" dominant-baseline=\"middle\" text-anchor=\"middle\" font-size=\"14px\" font-family=\"Arial\">Ry(-0.018π)</text><circle cx=\"4023.809570312501\" cy=\"75.0\" r=\"10.0\" /><rect x=\"4003.809570312501\" y=\"205.0\" width=\"40\" height=\"40\" stroke=\"black\" fill=\"white\" stroke-width=\"1\" /><text x=\"4023.809570312501\" y=\"225.0\" dominant-baseline=\"middle\" text-anchor=\"middle\" font-size=\"18px\" font-family=\"Arial\">X</text><rect x=\"4063.809570312501\" y=\"205.0\" width=\"89.1494921875\" height=\"40\" stroke=\"black\" fill=\"white\" stroke-width=\"1\" /><text x=\"4108.384316406251\" y=\"225.0\" dominant-baseline=\"middle\" text-anchor=\"middle\" font-size=\"14px\" font-family=\"Arial\">Ry(-0.072π)</text><circle cx=\"4192.959062500001\" cy=\"175.0\" r=\"10.0\" /><rect x=\"4172.959062500001\" y=\"205.0\" width=\"40\" height=\"40\" stroke=\"black\" fill=\"white\" stroke-width=\"1\" /><text x=\"4192.959062500001\" y=\"225.0\" dominant-baseline=\"middle\" text-anchor=\"middle\" font-size=\"18px\" font-family=\"Arial\">X</text><rect x=\"4232.959062500001\" y=\"205.0\" width=\"89.1494921875\" height=\"40\" stroke=\"black\" fill=\"white\" stroke-width=\"1\" /><text x=\"4277.533808593751\" y=\"225.0\" dominant-baseline=\"middle\" text-anchor=\"middle\" font-size=\"14px\" font-family=\"Arial\">Ry(-0.035π)</text><circle cx=\"4362.108554687501\" cy=\"125.0\" r=\"10.0\" /><rect x=\"4342.108554687501\" y=\"205.0\" width=\"40\" height=\"40\" stroke=\"black\" fill=\"white\" stroke-width=\"1\" /><text x=\"4362.108554687501\" y=\"225.0\" dominant-baseline=\"middle\" text-anchor=\"middle\" font-size=\"18px\" font-family=\"Arial\">X</text><rect x=\"4402.108554687501\" y=\"205.0\" width=\"89.1494921875\" height=\"40\" stroke=\"black\" fill=\"white\" stroke-width=\"1\" /><text x=\"4446.683300781251\" y=\"225.0\" dominant-baseline=\"middle\" text-anchor=\"middle\" font-size=\"14px\" font-family=\"Arial\">Ry(-0.064π)</text><circle cx=\"4531.258046875001\" cy=\"175.0\" r=\"10.0\" /><rect x=\"4511.258046875001\" y=\"205.0\" width=\"40\" height=\"40\" stroke=\"black\" fill=\"white\" stroke-width=\"1\" /><text x=\"4531.258046875001\" y=\"225.0\" dominant-baseline=\"middle\" text-anchor=\"middle\" font-size=\"18px\" font-family=\"Arial\">X</text><rect x=\"4571.258046875001\" y=\"205.0\" width=\"84.097734375\" height=\"40\" stroke=\"black\" fill=\"white\" stroke-width=\"1\" /><text x=\"4613.306914062501\" y=\"225.0\" dominant-baseline=\"middle\" text-anchor=\"middle\" font-size=\"14px\" font-family=\"Arial\">Ry(0.168π)</text><circle cx=\"4695.355781250001\" cy=\"25.0\" r=\"10.0\" /><rect x=\"4675.355781250001\" y=\"205.0\" width=\"40\" height=\"40\" stroke=\"black\" fill=\"white\" stroke-width=\"1\" /><text x=\"4695.355781250001\" y=\"225.0\" dominant-baseline=\"middle\" text-anchor=\"middle\" font-size=\"18px\" font-family=\"Arial\">X</text><circle cx=\"4755.355781250001\" cy=\"225.0\" r=\"10.0\" /><rect x=\"4735.355781250001\" y=\"255.0\" width=\"40\" height=\"40\" stroke=\"black\" fill=\"white\" stroke-width=\"1\" /><text x=\"4755.355781250001\" y=\"275.0\" dominant-baseline=\"middle\" text-anchor=\"middle\" font-size=\"18px\" font-family=\"Arial\">X</text><rect x=\"4795.355781250001\" y=\"255.0\" width=\"84.097734375\" height=\"40\" stroke=\"black\" fill=\"white\" stroke-width=\"1\" /><text x=\"4837.404648437501\" y=\"275.0\" dominant-baseline=\"middle\" text-anchor=\"middle\" font-size=\"14px\" font-family=\"Arial\">Ry(0.281π)</text><circle cx=\"4919.453515625001\" cy=\"175.0\" r=\"10.0\" /><rect x=\"4899.453515625001\" y=\"255.0\" width=\"40\" height=\"40\" stroke=\"black\" fill=\"white\" stroke-width=\"1\" /><text x=\"4919.453515625001\" y=\"275.0\" dominant-baseline=\"middle\" text-anchor=\"middle\" font-size=\"18px\" font-family=\"Arial\">X</text><rect x=\"4959.453515625001\" y=\"255.0\" width=\"84.097734375\" height=\"40\" stroke=\"black\" fill=\"white\" stroke-width=\"1\" /><text x=\"5001.502382812501\" y=\"275.0\" dominant-baseline=\"middle\" text-anchor=\"middle\" font-size=\"14px\" font-family=\"Arial\">Ry(0.031π)</text><circle cx=\"5083.551250000001\" cy=\"225.0\" r=\"10.0\" /><rect x=\"5063.551250000001\" y=\"255.0\" width=\"40\" height=\"40\" stroke=\"black\" fill=\"white\" stroke-width=\"1\" /><text x=\"5083.551250000001\" y=\"275.0\" dominant-baseline=\"middle\" text-anchor=\"middle\" font-size=\"18px\" font-family=\"Arial\">X</text><rect x=\"5123.551250000001\" y=\"255.0\" width=\"84.097734375\" height=\"40\" stroke=\"black\" fill=\"white\" stroke-width=\"1\" /><text x=\"5165.600117187501\" y=\"275.0\" dominant-baseline=\"middle\" text-anchor=\"middle\" font-size=\"14px\" font-family=\"Arial\">Ry(0.031π)</text><circle cx=\"5247.648984375001\" cy=\"125.0\" r=\"10.0\" /><rect x=\"5227.648984375001\" y=\"255.0\" width=\"40\" height=\"40\" stroke=\"black\" fill=\"white\" stroke-width=\"1\" /><text x=\"5247.648984375001\" y=\"275.0\" dominant-baseline=\"middle\" text-anchor=\"middle\" font-size=\"18px\" font-family=\"Arial\">X</text><rect x=\"5287.648984375001\" y=\"255.0\" width=\"84.097734375\" height=\"40\" stroke=\"black\" fill=\"white\" stroke-width=\"1\" /><text x=\"5329.6978515625015\" y=\"275.0\" dominant-baseline=\"middle\" text-anchor=\"middle\" font-size=\"14px\" font-family=\"Arial\">Ry(0.031π)</text><circle cx=\"5411.7467187500015\" cy=\"225.0\" r=\"10.0\" /><rect x=\"5391.7467187500015\" y=\"255.0\" width=\"40\" height=\"40\" stroke=\"black\" fill=\"white\" stroke-width=\"1\" /><text x=\"5411.7467187500015\" y=\"275.0\" dominant-baseline=\"middle\" text-anchor=\"middle\" font-size=\"18px\" font-family=\"Arial\">X</text><rect x=\"5451.7467187500015\" y=\"255.0\" width=\"84.097734375\" height=\"40\" stroke=\"black\" fill=\"white\" stroke-width=\"1\" /><text x=\"5493.7955859375015\" y=\"275.0\" dominant-baseline=\"middle\" text-anchor=\"middle\" font-size=\"14px\" font-family=\"Arial\">Ry(0.031π)</text><circle cx=\"5575.844453125002\" cy=\"175.0\" r=\"10.0\" /><rect x=\"5555.844453125002\" y=\"255.0\" width=\"40\" height=\"40\" stroke=\"black\" fill=\"white\" stroke-width=\"1\" /><text x=\"5575.844453125002\" y=\"275.0\" dominant-baseline=\"middle\" text-anchor=\"middle\" font-size=\"18px\" font-family=\"Arial\">X</text><rect x=\"5615.844453125002\" y=\"255.0\" width=\"84.097734375\" height=\"40\" stroke=\"black\" fill=\"white\" stroke-width=\"1\" /><text x=\"5657.893320312502\" y=\"275.0\" dominant-baseline=\"middle\" text-anchor=\"middle\" font-size=\"14px\" font-family=\"Arial\">Ry(0.031π)</text><circle cx=\"5739.942187500002\" cy=\"225.0\" r=\"10.0\" /><rect x=\"5719.942187500002\" y=\"255.0\" width=\"40\" height=\"40\" stroke=\"black\" fill=\"white\" stroke-width=\"1\" /><text x=\"5739.942187500002\" y=\"275.0\" dominant-baseline=\"middle\" text-anchor=\"middle\" font-size=\"18px\" font-family=\"Arial\">X</text><rect x=\"5779.942187500002\" y=\"255.0\" width=\"84.097734375\" height=\"40\" stroke=\"black\" fill=\"white\" stroke-width=\"1\" /><text x=\"5821.991054687502\" y=\"275.0\" dominant-baseline=\"middle\" text-anchor=\"middle\" font-size=\"14px\" font-family=\"Arial\">Ry(0.031π)</text><circle cx=\"5904.039921875002\" cy=\"75.0\" r=\"10.0\" /><rect x=\"5884.039921875002\" y=\"255.0\" width=\"40\" height=\"40\" stroke=\"black\" fill=\"white\" stroke-width=\"1\" /><text x=\"5904.039921875002\" y=\"275.0\" dominant-baseline=\"middle\" text-anchor=\"middle\" font-size=\"18px\" font-family=\"Arial\">X</text><rect x=\"5944.039921875002\" y=\"255.0\" width=\"89.1494921875\" height=\"40\" stroke=\"black\" fill=\"white\" stroke-width=\"1\" /><text x=\"5988.614667968752\" y=\"275.0\" dominant-baseline=\"middle\" text-anchor=\"middle\" font-size=\"14px\" font-family=\"Arial\">Ry(-0.031π)</text><circle cx=\"6073.189414062502\" cy=\"225.0\" r=\"10.0\" /><rect x=\"6053.189414062502\" y=\"255.0\" width=\"40\" height=\"40\" stroke=\"black\" fill=\"white\" stroke-width=\"1\" /><text x=\"6073.189414062502\" y=\"275.0\" dominant-baseline=\"middle\" text-anchor=\"middle\" font-size=\"18px\" font-family=\"Arial\">X</text><rect x=\"6113.189414062502\" y=\"255.0\" width=\"89.1494921875\" height=\"40\" stroke=\"black\" fill=\"white\" stroke-width=\"1\" /><text x=\"6157.764160156252\" y=\"275.0\" dominant-baseline=\"middle\" text-anchor=\"middle\" font-size=\"14px\" font-family=\"Arial\">Ry(-0.031π)</text><circle cx=\"6242.338906250002\" cy=\"175.0\" r=\"10.0\" /><rect x=\"6222.338906250002\" y=\"255.0\" width=\"40\" height=\"40\" stroke=\"black\" fill=\"white\" stroke-width=\"1\" /><text x=\"6242.338906250002\" y=\"275.0\" dominant-baseline=\"middle\" text-anchor=\"middle\" font-size=\"18px\" font-family=\"Arial\">X</text><rect x=\"6282.338906250002\" y=\"255.0\" width=\"89.1494921875\" height=\"40\" stroke=\"black\" fill=\"white\" stroke-width=\"1\" /><text x=\"6326.913652343752\" y=\"275.0\" dominant-baseline=\"middle\" text-anchor=\"middle\" font-size=\"14px\" font-family=\"Arial\">Ry(-0.031π)</text><circle cx=\"6411.488398437502\" cy=\"225.0\" r=\"10.0\" /><rect x=\"6391.488398437502\" y=\"255.0\" width=\"40\" height=\"40\" stroke=\"black\" fill=\"white\" stroke-width=\"1\" /><text x=\"6411.488398437502\" y=\"275.0\" dominant-baseline=\"middle\" text-anchor=\"middle\" font-size=\"18px\" font-family=\"Arial\">X</text><rect x=\"6451.488398437502\" y=\"255.0\" width=\"89.1494921875\" height=\"40\" stroke=\"black\" fill=\"white\" stroke-width=\"1\" /><text x=\"6496.063144531252\" y=\"275.0\" dominant-baseline=\"middle\" text-anchor=\"middle\" font-size=\"14px\" font-family=\"Arial\">Ry(-0.031π)</text><circle cx=\"6580.637890625002\" cy=\"125.0\" r=\"10.0\" /><rect x=\"6560.637890625002\" y=\"255.0\" width=\"40\" height=\"40\" stroke=\"black\" fill=\"white\" stroke-width=\"1\" /><text x=\"6580.637890625002\" y=\"275.0\" dominant-baseline=\"middle\" text-anchor=\"middle\" font-size=\"18px\" font-family=\"Arial\">X</text><rect x=\"6620.637890625002\" y=\"255.0\" width=\"89.1494921875\" height=\"40\" stroke=\"black\" fill=\"white\" stroke-width=\"1\" /><text x=\"6665.212636718752\" y=\"275.0\" dominant-baseline=\"middle\" text-anchor=\"middle\" font-size=\"14px\" font-family=\"Arial\">Ry(-0.031π)</text><circle cx=\"6749.787382812502\" cy=\"225.0\" r=\"10.0\" /><rect x=\"6729.787382812502\" y=\"255.0\" width=\"40\" height=\"40\" stroke=\"black\" fill=\"white\" stroke-width=\"1\" /><text x=\"6749.787382812502\" y=\"275.0\" dominant-baseline=\"middle\" text-anchor=\"middle\" font-size=\"18px\" font-family=\"Arial\">X</text><rect x=\"6789.787382812502\" y=\"255.0\" width=\"89.1494921875\" height=\"40\" stroke=\"black\" fill=\"white\" stroke-width=\"1\" /><text x=\"6834.362128906252\" y=\"275.0\" dominant-baseline=\"middle\" text-anchor=\"middle\" font-size=\"14px\" font-family=\"Arial\">Ry(-0.031π)</text><circle cx=\"6918.936875000002\" cy=\"175.0\" r=\"10.0\" /><rect x=\"6898.936875000002\" y=\"255.0\" width=\"40\" height=\"40\" stroke=\"black\" fill=\"white\" stroke-width=\"1\" /><text x=\"6918.936875000002\" y=\"275.0\" dominant-baseline=\"middle\" text-anchor=\"middle\" font-size=\"18px\" font-family=\"Arial\">X</text><rect x=\"6958.936875000002\" y=\"255.0\" width=\"89.1494921875\" height=\"40\" stroke=\"black\" fill=\"white\" stroke-width=\"1\" /><text x=\"7003.511621093752\" y=\"275.0\" dominant-baseline=\"middle\" text-anchor=\"middle\" font-size=\"14px\" font-family=\"Arial\">Ry(-0.031π)</text><circle cx=\"7088.086367187502\" cy=\"225.0\" r=\"10.0\" /><rect x=\"7068.086367187502\" y=\"255.0\" width=\"40\" height=\"40\" stroke=\"black\" fill=\"white\" stroke-width=\"1\" /><text x=\"7088.086367187502\" y=\"275.0\" dominant-baseline=\"middle\" text-anchor=\"middle\" font-size=\"18px\" font-family=\"Arial\">X</text><rect x=\"7128.086367187502\" y=\"255.0\" width=\"89.1494921875\" height=\"40\" stroke=\"black\" fill=\"white\" stroke-width=\"1\" /><text x=\"7172.661113281252\" y=\"275.0\" dominant-baseline=\"middle\" text-anchor=\"middle\" font-size=\"14px\" font-family=\"Arial\">Ry(-0.031π)</text><circle cx=\"7257.235859375002\" cy=\"25.0\" r=\"10.0\" /><rect x=\"7237.235859375002\" y=\"255.0\" width=\"40\" height=\"40\" stroke=\"black\" fill=\"white\" stroke-width=\"1\" /><text x=\"7257.235859375002\" y=\"275.0\" dominant-baseline=\"middle\" text-anchor=\"middle\" font-size=\"18px\" font-family=\"Arial\">X</text><rect x=\"7297.235859375002\" y=\"255.0\" width=\"89.1494921875\" height=\"40\" stroke=\"black\" fill=\"white\" stroke-width=\"1\" /><text x=\"7341.810605468752\" y=\"275.0\" dominant-baseline=\"middle\" text-anchor=\"middle\" font-size=\"14px\" font-family=\"Arial\">Ry(-0.219π)</text><circle cx=\"7426.385351562502\" cy=\"225.0\" r=\"10.0\" /><rect x=\"7406.385351562502\" y=\"255.0\" width=\"40\" height=\"40\" stroke=\"black\" fill=\"white\" stroke-width=\"1\" /><text x=\"7426.385351562502\" y=\"275.0\" dominant-baseline=\"middle\" text-anchor=\"middle\" font-size=\"18px\" font-family=\"Arial\">X</text><rect x=\"7466.385351562502\" y=\"255.0\" width=\"89.1494921875\" height=\"40\" stroke=\"black\" fill=\"white\" stroke-width=\"1\" /><text x=\"7510.960097656252\" y=\"275.0\" dominant-baseline=\"middle\" text-anchor=\"middle\" font-size=\"14px\" font-family=\"Arial\">Ry(-0.219π)</text><circle cx=\"7595.534843750002\" cy=\"175.0\" r=\"10.0\" /><rect x=\"7575.534843750002\" y=\"255.0\" width=\"40\" height=\"40\" stroke=\"black\" fill=\"white\" stroke-width=\"1\" /><text x=\"7595.534843750002\" y=\"275.0\" dominant-baseline=\"middle\" text-anchor=\"middle\" font-size=\"18px\" font-family=\"Arial\">X</text><rect x=\"7635.534843750002\" y=\"255.0\" width=\"84.097734375\" height=\"40\" stroke=\"black\" fill=\"white\" stroke-width=\"1\" /><text x=\"7677.5837109375025\" y=\"275.0\" dominant-baseline=\"middle\" text-anchor=\"middle\" font-size=\"14px\" font-family=\"Arial\">Ry(0.031π)</text><circle cx=\"7759.6325781250025\" cy=\"225.0\" r=\"10.0\" /><rect x=\"7739.6325781250025\" y=\"255.0\" width=\"40\" height=\"40\" stroke=\"black\" fill=\"white\" stroke-width=\"1\" /><text x=\"7759.6325781250025\" y=\"275.0\" dominant-baseline=\"middle\" text-anchor=\"middle\" font-size=\"18px\" font-family=\"Arial\">X</text><rect x=\"7799.6325781250025\" y=\"255.0\" width=\"84.097734375\" height=\"40\" stroke=\"black\" fill=\"white\" stroke-width=\"1\" /><text x=\"7841.681445312503\" y=\"275.0\" dominant-baseline=\"middle\" text-anchor=\"middle\" font-size=\"14px\" font-family=\"Arial\">Ry(0.031π)</text><circle cx=\"7923.730312500003\" cy=\"125.0\" r=\"10.0\" /><rect x=\"7903.730312500003\" y=\"255.0\" width=\"40\" height=\"40\" stroke=\"black\" fill=\"white\" stroke-width=\"1\" /><text x=\"7923.730312500003\" y=\"275.0\" dominant-baseline=\"middle\" text-anchor=\"middle\" font-size=\"18px\" font-family=\"Arial\">X</text><rect x=\"7963.730312500003\" y=\"255.0\" width=\"84.097734375\" height=\"40\" stroke=\"black\" fill=\"white\" stroke-width=\"1\" /><text x=\"8005.779179687503\" y=\"275.0\" dominant-baseline=\"middle\" text-anchor=\"middle\" font-size=\"14px\" font-family=\"Arial\">Ry(0.031π)</text><circle cx=\"8087.828046875003\" cy=\"225.0\" r=\"10.0\" /><rect x=\"8067.828046875003\" y=\"255.0\" width=\"40\" height=\"40\" stroke=\"black\" fill=\"white\" stroke-width=\"1\" /><text x=\"8087.828046875003\" y=\"275.0\" dominant-baseline=\"middle\" text-anchor=\"middle\" font-size=\"18px\" font-family=\"Arial\">X</text><rect x=\"8127.828046875003\" y=\"255.0\" width=\"84.097734375\" height=\"40\" stroke=\"black\" fill=\"white\" stroke-width=\"1\" /><text x=\"8169.876914062503\" y=\"275.0\" dominant-baseline=\"middle\" text-anchor=\"middle\" font-size=\"14px\" font-family=\"Arial\">Ry(0.031π)</text><circle cx=\"8251.925781250002\" cy=\"175.0\" r=\"10.0\" /><rect x=\"8231.925781250002\" y=\"255.0\" width=\"40\" height=\"40\" stroke=\"black\" fill=\"white\" stroke-width=\"1\" /><text x=\"8251.925781250002\" y=\"275.0\" dominant-baseline=\"middle\" text-anchor=\"middle\" font-size=\"18px\" font-family=\"Arial\">X</text><rect x=\"8291.925781250002\" y=\"255.0\" width=\"84.097734375\" height=\"40\" stroke=\"black\" fill=\"white\" stroke-width=\"1\" /><text x=\"8333.974648437501\" y=\"275.0\" dominant-baseline=\"middle\" text-anchor=\"middle\" font-size=\"14px\" font-family=\"Arial\">Ry(0.031π)</text><circle cx=\"8416.023515625002\" cy=\"225.0\" r=\"10.0\" /><rect x=\"8396.023515625002\" y=\"255.0\" width=\"40\" height=\"40\" stroke=\"black\" fill=\"white\" stroke-width=\"1\" /><text x=\"8416.023515625002\" y=\"275.0\" dominant-baseline=\"middle\" text-anchor=\"middle\" font-size=\"18px\" font-family=\"Arial\">X</text><rect x=\"8456.023515625002\" y=\"255.0\" width=\"84.097734375\" height=\"40\" stroke=\"black\" fill=\"white\" stroke-width=\"1\" /><text x=\"8498.072382812501\" y=\"275.0\" dominant-baseline=\"middle\" text-anchor=\"middle\" font-size=\"14px\" font-family=\"Arial\">Ry(0.031π)</text><circle cx=\"8580.121250000002\" cy=\"75.0\" r=\"10.0\" /><rect x=\"8560.121250000002\" y=\"255.0\" width=\"40\" height=\"40\" stroke=\"black\" fill=\"white\" stroke-width=\"1\" /><text x=\"8580.121250000002\" y=\"275.0\" dominant-baseline=\"middle\" text-anchor=\"middle\" font-size=\"18px\" font-family=\"Arial\">X</text><rect x=\"8620.121250000002\" y=\"255.0\" width=\"89.1494921875\" height=\"40\" stroke=\"black\" fill=\"white\" stroke-width=\"1\" /><text x=\"8664.695996093751\" y=\"275.0\" dominant-baseline=\"middle\" text-anchor=\"middle\" font-size=\"14px\" font-family=\"Arial\">Ry(-0.031π)</text><circle cx=\"8749.270742187502\" cy=\"225.0\" r=\"10.0\" /><rect x=\"8729.270742187502\" y=\"255.0\" width=\"40\" height=\"40\" stroke=\"black\" fill=\"white\" stroke-width=\"1\" /><text x=\"8749.270742187502\" y=\"275.0\" dominant-baseline=\"middle\" text-anchor=\"middle\" font-size=\"18px\" font-family=\"Arial\">X</text><rect x=\"8789.270742187502\" y=\"255.0\" width=\"89.1494921875\" height=\"40\" stroke=\"black\" fill=\"white\" stroke-width=\"1\" /><text x=\"8833.845488281251\" y=\"275.0\" dominant-baseline=\"middle\" text-anchor=\"middle\" font-size=\"14px\" font-family=\"Arial\">Ry(-0.031π)</text><circle cx=\"8918.420234375002\" cy=\"175.0\" r=\"10.0\" /><rect x=\"8898.420234375002\" y=\"255.0\" width=\"40\" height=\"40\" stroke=\"black\" fill=\"white\" stroke-width=\"1\" /><text x=\"8918.420234375002\" y=\"275.0\" dominant-baseline=\"middle\" text-anchor=\"middle\" font-size=\"18px\" font-family=\"Arial\">X</text><rect x=\"8958.420234375002\" y=\"255.0\" width=\"89.1494921875\" height=\"40\" stroke=\"black\" fill=\"white\" stroke-width=\"1\" /><text x=\"9002.994980468751\" y=\"275.0\" dominant-baseline=\"middle\" text-anchor=\"middle\" font-size=\"14px\" font-family=\"Arial\">Ry(-0.031π)</text><circle cx=\"9087.569726562502\" cy=\"225.0\" r=\"10.0\" /><rect x=\"9067.569726562502\" y=\"255.0\" width=\"40\" height=\"40\" stroke=\"black\" fill=\"white\" stroke-width=\"1\" /><text x=\"9087.569726562502\" y=\"275.0\" dominant-baseline=\"middle\" text-anchor=\"middle\" font-size=\"18px\" font-family=\"Arial\">X</text><rect x=\"9127.569726562502\" y=\"255.0\" width=\"89.1494921875\" height=\"40\" stroke=\"black\" fill=\"white\" stroke-width=\"1\" /><text x=\"9172.144472656251\" y=\"275.0\" dominant-baseline=\"middle\" text-anchor=\"middle\" font-size=\"14px\" font-family=\"Arial\">Ry(-0.031π)</text><circle cx=\"9256.719218750002\" cy=\"125.0\" r=\"10.0\" /><rect x=\"9236.719218750002\" y=\"255.0\" width=\"40\" height=\"40\" stroke=\"black\" fill=\"white\" stroke-width=\"1\" /><text x=\"9256.719218750002\" y=\"275.0\" dominant-baseline=\"middle\" text-anchor=\"middle\" font-size=\"18px\" font-family=\"Arial\">X</text><rect x=\"9296.719218750002\" y=\"255.0\" width=\"89.1494921875\" height=\"40\" stroke=\"black\" fill=\"white\" stroke-width=\"1\" /><text x=\"9341.293964843751\" y=\"275.0\" dominant-baseline=\"middle\" text-anchor=\"middle\" font-size=\"14px\" font-family=\"Arial\">Ry(-0.031π)</text><circle cx=\"9425.868710937502\" cy=\"225.0\" r=\"10.0\" /><rect x=\"9405.868710937502\" y=\"255.0\" width=\"40\" height=\"40\" stroke=\"black\" fill=\"white\" stroke-width=\"1\" /><text x=\"9425.868710937502\" y=\"275.0\" dominant-baseline=\"middle\" text-anchor=\"middle\" font-size=\"18px\" font-family=\"Arial\">X</text><rect x=\"9465.868710937502\" y=\"255.0\" width=\"89.1494921875\" height=\"40\" stroke=\"black\" fill=\"white\" stroke-width=\"1\" /><text x=\"9510.443457031251\" y=\"275.0\" dominant-baseline=\"middle\" text-anchor=\"middle\" font-size=\"14px\" font-family=\"Arial\">Ry(-0.031π)</text><circle cx=\"9595.018203125002\" cy=\"175.0\" r=\"10.0\" /><rect x=\"9575.018203125002\" y=\"255.0\" width=\"40\" height=\"40\" stroke=\"black\" fill=\"white\" stroke-width=\"1\" /><text x=\"9595.018203125002\" y=\"275.0\" dominant-baseline=\"middle\" text-anchor=\"middle\" font-size=\"18px\" font-family=\"Arial\">X</text><rect x=\"9635.018203125002\" y=\"255.0\" width=\"89.1494921875\" height=\"40\" stroke=\"black\" fill=\"white\" stroke-width=\"1\" /><text x=\"9679.592949218752\" y=\"275.0\" dominant-baseline=\"middle\" text-anchor=\"middle\" font-size=\"14px\" font-family=\"Arial\">Ry(-0.031π)</text><circle cx=\"9764.167695312502\" cy=\"225.0\" r=\"10.0\" /><rect x=\"9744.167695312502\" y=\"255.0\" width=\"40\" height=\"40\" stroke=\"black\" fill=\"white\" stroke-width=\"1\" /><text x=\"9764.167695312502\" y=\"275.0\" dominant-baseline=\"middle\" text-anchor=\"middle\" font-size=\"18px\" font-family=\"Arial\">X</text><rect x=\"9804.167695312502\" y=\"255.0\" width=\"89.1494921875\" height=\"40\" stroke=\"black\" fill=\"white\" stroke-width=\"1\" /><text x=\"9848.742441406252\" y=\"275.0\" dominant-baseline=\"middle\" text-anchor=\"middle\" font-size=\"14px\" font-family=\"Arial\">Ry(-0.031π)</text><circle cx=\"9933.317187500003\" cy=\"25.0\" r=\"10.0\" /><rect x=\"9913.317187500003\" y=\"255.0\" width=\"40\" height=\"40\" stroke=\"black\" fill=\"white\" stroke-width=\"1\" /><text x=\"9933.317187500003\" y=\"275.0\" dominant-baseline=\"middle\" text-anchor=\"middle\" font-size=\"18px\" font-family=\"Arial\">X</text><circle cx=\"9993.317187500003\" cy=\"275.0\" r=\"10.0\" /><rect x=\"9973.317187500003\" y=\"305.0\" width=\"40\" height=\"40\" stroke=\"black\" fill=\"white\" stroke-width=\"1\" /><text x=\"9993.317187500003\" y=\"325.0\" dominant-baseline=\"middle\" text-anchor=\"middle\" font-size=\"18px\" font-family=\"Arial\">X</text><rect x=\"10033.317187500003\" y=\"305.0\" width=\"89.1494921875\" height=\"40\" stroke=\"black\" fill=\"white\" stroke-width=\"1\" /><text x=\"10077.891933593752\" y=\"325.0\" dominant-baseline=\"middle\" text-anchor=\"middle\" font-size=\"14px\" font-family=\"Arial\">Ry(-0.076π)</text><circle cx=\"10162.466679687503\" cy=\"225.0\" r=\"10.0\" /><rect x=\"10142.466679687503\" y=\"305.0\" width=\"40\" height=\"40\" stroke=\"black\" fill=\"white\" stroke-width=\"1\" /><text x=\"10162.466679687503\" y=\"325.0\" dominant-baseline=\"middle\" text-anchor=\"middle\" font-size=\"18px\" font-family=\"Arial\">X</text><rect x=\"10202.466679687503\" y=\"305.0\" width=\"89.1494921875\" height=\"40\" stroke=\"black\" fill=\"white\" stroke-width=\"1\" /><text x=\"10247.041425781252\" y=\"325.0\" dominant-baseline=\"middle\" text-anchor=\"middle\" font-size=\"14px\" font-family=\"Arial\">Ry(-0.179π)</text><circle cx=\"10331.616171875003\" cy=\"275.0\" r=\"10.0\" /><rect x=\"10311.616171875003\" y=\"305.0\" width=\"40\" height=\"40\" stroke=\"black\" fill=\"white\" stroke-width=\"1\" /><text x=\"10331.616171875003\" y=\"325.0\" dominant-baseline=\"middle\" text-anchor=\"middle\" font-size=\"18px\" font-family=\"Arial\">X</text><rect x=\"10371.616171875003\" y=\"305.0\" width=\"84.097734375\" height=\"40\" stroke=\"black\" fill=\"white\" stroke-width=\"1\" /><text x=\"10413.665039062502\" y=\"325.0\" dominant-baseline=\"middle\" text-anchor=\"middle\" font-size=\"14px\" font-family=\"Arial\">Ry(0.076π)</text><circle cx=\"10495.713906250003\" cy=\"175.0\" r=\"10.0\" /><rect x=\"10475.713906250003\" y=\"305.0\" width=\"40\" height=\"40\" stroke=\"black\" fill=\"white\" stroke-width=\"1\" /><text x=\"10495.713906250003\" y=\"325.0\" dominant-baseline=\"middle\" text-anchor=\"middle\" font-size=\"18px\" font-family=\"Arial\">X</text><rect x=\"10535.713906250003\" y=\"305.0\" width=\"84.097734375\" height=\"40\" stroke=\"black\" fill=\"white\" stroke-width=\"1\" /><text x=\"10577.762773437502\" y=\"325.0\" dominant-baseline=\"middle\" text-anchor=\"middle\" font-size=\"14px\" font-family=\"Arial\">Ry(0.007π)</text><circle cx=\"10659.811640625003\" cy=\"275.0\" r=\"10.0\" /><rect x=\"10639.811640625003\" y=\"305.0\" width=\"40\" height=\"40\" stroke=\"black\" fill=\"white\" stroke-width=\"1\" /><text x=\"10659.811640625003\" y=\"325.0\" dominant-baseline=\"middle\" text-anchor=\"middle\" font-size=\"18px\" font-family=\"Arial\">X</text><rect x=\"10699.811640625003\" y=\"305.0\" width=\"89.1494921875\" height=\"40\" stroke=\"black\" fill=\"white\" stroke-width=\"1\" /><text x=\"10744.386386718752\" y=\"325.0\" dominant-baseline=\"middle\" text-anchor=\"middle\" font-size=\"14px\" font-family=\"Arial\">Ry(-0.015π)</text><circle cx=\"10828.961132812503\" cy=\"225.0\" r=\"10.0\" /><rect x=\"10808.961132812503\" y=\"305.0\" width=\"40\" height=\"40\" stroke=\"black\" fill=\"white\" stroke-width=\"1\" /><text x=\"10828.961132812503\" y=\"325.0\" dominant-baseline=\"middle\" text-anchor=\"middle\" font-size=\"18px\" font-family=\"Arial\">X</text><rect x=\"10868.961132812503\" y=\"305.0\" width=\"89.1494921875\" height=\"40\" stroke=\"black\" fill=\"white\" stroke-width=\"1\" /><text x=\"10913.535878906252\" y=\"325.0\" dominant-baseline=\"middle\" text-anchor=\"middle\" font-size=\"14px\" font-family=\"Arial\">Ry(-0.007π)</text><circle cx=\"10998.110625000003\" cy=\"275.0\" r=\"10.0\" /><rect x=\"10978.110625000003\" y=\"305.0\" width=\"40\" height=\"40\" stroke=\"black\" fill=\"white\" stroke-width=\"1\" /><text x=\"10998.110625000003\" y=\"325.0\" dominant-baseline=\"middle\" text-anchor=\"middle\" font-size=\"18px\" font-family=\"Arial\">X</text><rect x=\"11038.110625000003\" y=\"305.0\" width=\"84.097734375\" height=\"40\" stroke=\"black\" fill=\"white\" stroke-width=\"1\" /><text x=\"11080.159492187502\" y=\"325.0\" dominant-baseline=\"middle\" text-anchor=\"middle\" font-size=\"14px\" font-family=\"Arial\">Ry(0.015π)</text><circle cx=\"11162.208359375003\" cy=\"125.0\" r=\"10.0\" /><rect x=\"11142.208359375003\" y=\"305.0\" width=\"40\" height=\"40\" stroke=\"black\" fill=\"white\" stroke-width=\"1\" /><text x=\"11162.208359375003\" y=\"325.0\" dominant-baseline=\"middle\" text-anchor=\"middle\" font-size=\"18px\" font-family=\"Arial\">X</text><rect x=\"11202.208359375003\" y=\"305.0\" width=\"84.097734375\" height=\"40\" stroke=\"black\" fill=\"white\" stroke-width=\"1\" /><text x=\"11244.257226562502\" y=\"325.0\" dominant-baseline=\"middle\" text-anchor=\"middle\" font-size=\"14px\" font-family=\"Arial\">Ry(0.015π)</text><circle cx=\"11326.306093750003\" cy=\"275.0\" r=\"10.0\" /><rect x=\"11306.306093750003\" y=\"305.0\" width=\"40\" height=\"40\" stroke=\"black\" fill=\"white\" stroke-width=\"1\" /><text x=\"11326.306093750003\" y=\"325.0\" dominant-baseline=\"middle\" text-anchor=\"middle\" font-size=\"18px\" font-family=\"Arial\">X</text><rect x=\"11366.306093750003\" y=\"305.0\" width=\"89.1494921875\" height=\"40\" stroke=\"black\" fill=\"white\" stroke-width=\"1\" /><text x=\"11410.880839843752\" y=\"325.0\" dominant-baseline=\"middle\" text-anchor=\"middle\" font-size=\"14px\" font-family=\"Arial\">Ry(-0.028π)</text><circle cx=\"11495.455585937503\" cy=\"225.0\" r=\"10.0\" /><rect x=\"11475.455585937503\" y=\"305.0\" width=\"40\" height=\"40\" stroke=\"black\" fill=\"white\" stroke-width=\"1\" /><text x=\"11495.455585937503\" y=\"325.0\" dominant-baseline=\"middle\" text-anchor=\"middle\" font-size=\"18px\" font-family=\"Arial\">X</text><rect x=\"11535.455585937503\" y=\"305.0\" width=\"89.1494921875\" height=\"40\" stroke=\"black\" fill=\"white\" stroke-width=\"1\" /><text x=\"11580.030332031252\" y=\"325.0\" dominant-baseline=\"middle\" text-anchor=\"middle\" font-size=\"14px\" font-family=\"Arial\">Ry(-0.015π)</text><circle cx=\"11664.605078125003\" cy=\"275.0\" r=\"10.0\" /><rect x=\"11644.605078125003\" y=\"305.0\" width=\"40\" height=\"40\" stroke=\"black\" fill=\"white\" stroke-width=\"1\" /><text x=\"11664.605078125003\" y=\"325.0\" dominant-baseline=\"middle\" text-anchor=\"middle\" font-size=\"18px\" font-family=\"Arial\">X</text><rect x=\"11704.605078125003\" y=\"305.0\" width=\"84.097734375\" height=\"40\" stroke=\"black\" fill=\"white\" stroke-width=\"1\" /><text x=\"11746.653945312502\" y=\"325.0\" dominant-baseline=\"middle\" text-anchor=\"middle\" font-size=\"14px\" font-family=\"Arial\">Ry(0.028π)</text><circle cx=\"11828.702812500003\" cy=\"175.0\" r=\"10.0\" /><rect x=\"11808.702812500003\" y=\"305.0\" width=\"40\" height=\"40\" stroke=\"black\" fill=\"white\" stroke-width=\"1\" /><text x=\"11828.702812500003\" y=\"325.0\" dominant-baseline=\"middle\" text-anchor=\"middle\" font-size=\"18px\" font-family=\"Arial\">X</text><rect x=\"11868.702812500003\" y=\"305.0\" width=\"84.097734375\" height=\"40\" stroke=\"black\" fill=\"white\" stroke-width=\"1\" /><text x=\"11910.751679687502\" y=\"325.0\" dominant-baseline=\"middle\" text-anchor=\"middle\" font-size=\"14px\" font-family=\"Arial\">Ry(0.013π)</text><circle cx=\"11992.800546875003\" cy=\"275.0\" r=\"10.0\" /><rect x=\"11972.800546875003\" y=\"305.0\" width=\"40\" height=\"40\" stroke=\"black\" fill=\"white\" stroke-width=\"1\" /><text x=\"11992.800546875003\" y=\"325.0\" dominant-baseline=\"middle\" text-anchor=\"middle\" font-size=\"18px\" font-family=\"Arial\">X</text><rect x=\"12032.800546875003\" y=\"305.0\" width=\"80.242265625\" height=\"40\" stroke=\"black\" fill=\"white\" stroke-width=\"1\" /><text x=\"12072.921679687503\" y=\"325.0\" dominant-baseline=\"middle\" text-anchor=\"middle\" font-size=\"14px\" font-family=\"Arial\">Ry(-0.03π)</text><circle cx=\"12153.042812500003\" cy=\"225.0\" r=\"10.0\" /><rect x=\"12133.042812500003\" y=\"305.0\" width=\"40\" height=\"40\" stroke=\"black\" fill=\"white\" stroke-width=\"1\" /><text x=\"12153.042812500003\" y=\"325.0\" dominant-baseline=\"middle\" text-anchor=\"middle\" font-size=\"18px\" font-family=\"Arial\">X</text><rect x=\"12193.042812500003\" y=\"305.0\" width=\"89.1494921875\" height=\"40\" stroke=\"black\" fill=\"white\" stroke-width=\"1\" /><text x=\"12237.617558593753\" y=\"325.0\" dominant-baseline=\"middle\" text-anchor=\"middle\" font-size=\"14px\" font-family=\"Arial\">Ry(-0.013π)</text><circle cx=\"12322.192304687504\" cy=\"275.0\" r=\"10.0\" /><rect x=\"12302.192304687504\" y=\"305.0\" width=\"40\" height=\"40\" stroke=\"black\" fill=\"white\" stroke-width=\"1\" /><text x=\"12322.192304687504\" y=\"325.0\" dominant-baseline=\"middle\" text-anchor=\"middle\" font-size=\"18px\" font-family=\"Arial\">X</text><rect x=\"12362.192304687504\" y=\"305.0\" width=\"75.1905078125\" height=\"40\" stroke=\"black\" fill=\"white\" stroke-width=\"1\" /><text x=\"12399.787558593753\" y=\"325.0\" dominant-baseline=\"middle\" text-anchor=\"middle\" font-size=\"14px\" font-family=\"Arial\">Ry(0.03π)</text><circle cx=\"12477.382812500004\" cy=\"75.0\" r=\"10.0\" /><rect x=\"12457.382812500004\" y=\"305.0\" width=\"40\" height=\"40\" stroke=\"black\" fill=\"white\" stroke-width=\"1\" /><text x=\"12477.382812500004\" y=\"325.0\" dominant-baseline=\"middle\" text-anchor=\"middle\" font-size=\"18px\" font-family=\"Arial\">X</text><rect x=\"12517.382812500004\" y=\"305.0\" width=\"84.097734375\" height=\"40\" stroke=\"black\" fill=\"white\" stroke-width=\"1\" /><text x=\"12559.431679687503\" y=\"325.0\" dominant-baseline=\"middle\" text-anchor=\"middle\" font-size=\"14px\" font-family=\"Arial\">Ry(0.017π)</text><circle cx=\"12641.480546875004\" cy=\"275.0\" r=\"10.0\" /><rect x=\"12621.480546875004\" y=\"305.0\" width=\"40\" height=\"40\" stroke=\"black\" fill=\"white\" stroke-width=\"1\" /><text x=\"12641.480546875004\" y=\"325.0\" dominant-baseline=\"middle\" text-anchor=\"middle\" font-size=\"18px\" font-family=\"Arial\">X</text><rect x=\"12681.480546875004\" y=\"305.0\" width=\"84.097734375\" height=\"40\" stroke=\"black\" fill=\"white\" stroke-width=\"1\" /><text x=\"12723.529414062503\" y=\"325.0\" dominant-baseline=\"middle\" text-anchor=\"middle\" font-size=\"14px\" font-family=\"Arial\">Ry(0.035π)</text><circle cx=\"12805.578281250004\" cy=\"225.0\" r=\"10.0\" /><rect x=\"12785.578281250004\" y=\"305.0\" width=\"40\" height=\"40\" stroke=\"black\" fill=\"white\" stroke-width=\"1\" /><text x=\"12805.578281250004\" y=\"325.0\" dominant-baseline=\"middle\" text-anchor=\"middle\" font-size=\"18px\" font-family=\"Arial\">X</text><rect x=\"12845.578281250004\" y=\"305.0\" width=\"89.1494921875\" height=\"40\" stroke=\"black\" fill=\"white\" stroke-width=\"1\" /><text x=\"12890.153027343753\" y=\"325.0\" dominant-baseline=\"middle\" text-anchor=\"middle\" font-size=\"14px\" font-family=\"Arial\">Ry(-0.017π)</text><circle cx=\"12974.727773437504\" cy=\"275.0\" r=\"10.0\" /><rect x=\"12954.727773437504\" y=\"305.0\" width=\"40\" height=\"40\" stroke=\"black\" fill=\"white\" stroke-width=\"1\" /><text x=\"12974.727773437504\" y=\"325.0\" dominant-baseline=\"middle\" text-anchor=\"middle\" font-size=\"18px\" font-family=\"Arial\">X</text><rect x=\"13014.727773437504\" y=\"305.0\" width=\"89.1494921875\" height=\"40\" stroke=\"black\" fill=\"white\" stroke-width=\"1\" /><text x=\"13059.302519531253\" y=\"325.0\" dominant-baseline=\"middle\" text-anchor=\"middle\" font-size=\"14px\" font-family=\"Arial\">Ry(-0.035π)</text><circle cx=\"13143.877265625004\" cy=\"175.0\" r=\"10.0\" /><rect x=\"13123.877265625004\" y=\"305.0\" width=\"40\" height=\"40\" stroke=\"black\" fill=\"white\" stroke-width=\"1\" /><text x=\"13143.877265625004\" y=\"325.0\" dominant-baseline=\"middle\" text-anchor=\"middle\" font-size=\"18px\" font-family=\"Arial\">X</text><rect x=\"13183.877265625004\" y=\"305.0\" width=\"84.097734375\" height=\"40\" stroke=\"black\" fill=\"white\" stroke-width=\"1\" /><text x=\"13225.926132812503\" y=\"325.0\" dominant-baseline=\"middle\" text-anchor=\"middle\" font-size=\"14px\" font-family=\"Arial\">Ry(0.011π)</text><circle cx=\"13307.975000000004\" cy=\"275.0\" r=\"10.0\" /><rect x=\"13287.975000000004\" y=\"305.0\" width=\"40\" height=\"40\" stroke=\"black\" fill=\"white\" stroke-width=\"1\" /><text x=\"13307.975000000004\" y=\"325.0\" dominant-baseline=\"middle\" text-anchor=\"middle\" font-size=\"18px\" font-family=\"Arial\">X</text><rect x=\"13347.975000000004\" y=\"305.0\" width=\"84.097734375\" height=\"40\" stroke=\"black\" fill=\"white\" stroke-width=\"1\" /><text x=\"13390.023867187503\" y=\"325.0\" dominant-baseline=\"middle\" text-anchor=\"middle\" font-size=\"14px\" font-family=\"Arial\">Ry(0.028π)</text><circle cx=\"13472.072734375004\" cy=\"225.0\" r=\"10.0\" /><rect x=\"13452.072734375004\" y=\"305.0\" width=\"40\" height=\"40\" stroke=\"black\" fill=\"white\" stroke-width=\"1\" /><text x=\"13472.072734375004\" y=\"325.0\" dominant-baseline=\"middle\" text-anchor=\"middle\" font-size=\"18px\" font-family=\"Arial\">X</text><rect x=\"13512.072734375004\" y=\"305.0\" width=\"89.1494921875\" height=\"40\" stroke=\"black\" fill=\"white\" stroke-width=\"1\" /><text x=\"13556.647480468753\" y=\"325.0\" dominant-baseline=\"middle\" text-anchor=\"middle\" font-size=\"14px\" font-family=\"Arial\">Ry(-0.011π)</text><circle cx=\"13641.222226562504\" cy=\"275.0\" r=\"10.0\" /><rect x=\"13621.222226562504\" y=\"305.0\" width=\"40\" height=\"40\" stroke=\"black\" fill=\"white\" stroke-width=\"1\" /><text x=\"13641.222226562504\" y=\"325.0\" dominant-baseline=\"middle\" text-anchor=\"middle\" font-size=\"18px\" font-family=\"Arial\">X</text><rect x=\"13681.222226562504\" y=\"305.0\" width=\"89.1494921875\" height=\"40\" stroke=\"black\" fill=\"white\" stroke-width=\"1\" /><text x=\"13725.796972656253\" y=\"325.0\" dominant-baseline=\"middle\" text-anchor=\"middle\" font-size=\"14px\" font-family=\"Arial\">Ry(-0.028π)</text><circle cx=\"13810.371718750004\" cy=\"125.0\" r=\"10.0\" /><rect x=\"13790.371718750004\" y=\"305.0\" width=\"40\" height=\"40\" stroke=\"black\" fill=\"white\" stroke-width=\"1\" /><text x=\"13810.371718750004\" y=\"325.0\" dominant-baseline=\"middle\" text-anchor=\"middle\" font-size=\"18px\" font-family=\"Arial\">X</text><rect x=\"13850.371718750004\" y=\"305.0\" width=\"89.1494921875\" height=\"40\" stroke=\"black\" fill=\"white\" stroke-width=\"1\" /><text x=\"13894.946464843753\" y=\"325.0\" dominant-baseline=\"middle\" text-anchor=\"middle\" font-size=\"14px\" font-family=\"Arial\">Ry(-0.002π)</text><circle cx=\"13979.521210937504\" cy=\"275.0\" r=\"10.0\" /><rect x=\"13959.521210937504\" y=\"305.0\" width=\"40\" height=\"40\" stroke=\"black\" fill=\"white\" stroke-width=\"1\" /><text x=\"13979.521210937504\" y=\"325.0\" dominant-baseline=\"middle\" text-anchor=\"middle\" font-size=\"18px\" font-family=\"Arial\">X</text><rect x=\"14019.521210937504\" y=\"305.0\" width=\"84.097734375\" height=\"40\" stroke=\"black\" fill=\"white\" stroke-width=\"1\" /><text x=\"14061.570078125003\" y=\"325.0\" dominant-baseline=\"middle\" text-anchor=\"middle\" font-size=\"14px\" font-family=\"Arial\">Ry(0.036π)</text><circle cx=\"14143.618945312504\" cy=\"225.0\" r=\"10.0\" /><rect x=\"14123.618945312504\" y=\"305.0\" width=\"40\" height=\"40\" stroke=\"black\" fill=\"white\" stroke-width=\"1\" /><text x=\"14143.618945312504\" y=\"325.0\" dominant-baseline=\"middle\" text-anchor=\"middle\" font-size=\"18px\" font-family=\"Arial\">X</text><rect x=\"14183.618945312504\" y=\"305.0\" width=\"84.097734375\" height=\"40\" stroke=\"black\" fill=\"white\" stroke-width=\"1\" /><text x=\"14225.667812500003\" y=\"325.0\" dominant-baseline=\"middle\" text-anchor=\"middle\" font-size=\"14px\" font-family=\"Arial\">Ry(0.002π)</text><circle cx=\"14307.716679687504\" cy=\"275.0\" r=\"10.0\" /><rect x=\"14287.716679687504\" y=\"305.0\" width=\"40\" height=\"40\" stroke=\"black\" fill=\"white\" stroke-width=\"1\" /><text x=\"14307.716679687504\" y=\"325.0\" dominant-baseline=\"middle\" text-anchor=\"middle\" font-size=\"18px\" font-family=\"Arial\">X</text><rect x=\"14347.716679687504\" y=\"305.0\" width=\"89.1494921875\" height=\"40\" stroke=\"black\" fill=\"white\" stroke-width=\"1\" /><text x=\"14392.291425781254\" y=\"325.0\" dominant-baseline=\"middle\" text-anchor=\"middle\" font-size=\"14px\" font-family=\"Arial\">Ry(-0.036π)</text><circle cx=\"14476.866171875005\" cy=\"175.0\" r=\"10.0\" /><rect x=\"14456.866171875005\" y=\"305.0\" width=\"40\" height=\"40\" stroke=\"black\" fill=\"white\" stroke-width=\"1\" /><text x=\"14476.866171875005\" y=\"325.0\" dominant-baseline=\"middle\" text-anchor=\"middle\" font-size=\"18px\" font-family=\"Arial\">X</text><rect x=\"14516.866171875005\" y=\"305.0\" width=\"89.1494921875\" height=\"40\" stroke=\"black\" fill=\"white\" stroke-width=\"1\" /><text x=\"14561.440917968754\" y=\"325.0\" dominant-baseline=\"middle\" text-anchor=\"middle\" font-size=\"14px\" font-family=\"Arial\">Ry(-0.061π)</text><circle cx=\"14646.015664062505\" cy=\"275.0\" r=\"10.0\" /><rect x=\"14626.015664062505\" y=\"305.0\" width=\"40\" height=\"40\" stroke=\"black\" fill=\"white\" stroke-width=\"1\" /><text x=\"14646.015664062505\" y=\"325.0\" dominant-baseline=\"middle\" text-anchor=\"middle\" font-size=\"18px\" font-family=\"Arial\">X</text><rect x=\"14686.015664062505\" y=\"305.0\" width=\"89.1494921875\" height=\"40\" stroke=\"black\" fill=\"white\" stroke-width=\"1\" /><text x=\"14730.590410156254\" y=\"325.0\" dominant-baseline=\"middle\" text-anchor=\"middle\" font-size=\"14px\" font-family=\"Arial\">Ry(-0.006π)</text><circle cx=\"14815.165156250005\" cy=\"225.0\" r=\"10.0\" /><rect x=\"14795.165156250005\" y=\"305.0\" width=\"40\" height=\"40\" stroke=\"black\" fill=\"white\" stroke-width=\"1\" /><text x=\"14815.165156250005\" y=\"325.0\" dominant-baseline=\"middle\" text-anchor=\"middle\" font-size=\"18px\" font-family=\"Arial\">X</text><rect x=\"14855.165156250005\" y=\"305.0\" width=\"84.097734375\" height=\"40\" stroke=\"black\" fill=\"white\" stroke-width=\"1\" /><text x=\"14897.214023437504\" y=\"325.0\" dominant-baseline=\"middle\" text-anchor=\"middle\" font-size=\"14px\" font-family=\"Arial\">Ry(0.061π)</text><circle cx=\"14979.262890625005\" cy=\"275.0\" r=\"10.0\" /><rect x=\"14959.262890625005\" y=\"305.0\" width=\"40\" height=\"40\" stroke=\"black\" fill=\"white\" stroke-width=\"1\" /><text x=\"14979.262890625005\" y=\"325.0\" dominant-baseline=\"middle\" text-anchor=\"middle\" font-size=\"18px\" font-family=\"Arial\">X</text><rect x=\"15019.262890625005\" y=\"305.0\" width=\"84.097734375\" height=\"40\" stroke=\"black\" fill=\"white\" stroke-width=\"1\" /><text x=\"15061.311757812504\" y=\"325.0\" dominant-baseline=\"middle\" text-anchor=\"middle\" font-size=\"14px\" font-family=\"Arial\">Ry(0.006π)</text><circle cx=\"15143.360625000005\" cy=\"25.0\" r=\"10.0\" /><rect x=\"15123.360625000005\" y=\"305.0\" width=\"40\" height=\"40\" stroke=\"black\" fill=\"white\" stroke-width=\"1\" /><text x=\"15143.360625000005\" y=\"325.0\" dominant-baseline=\"middle\" text-anchor=\"middle\" font-size=\"18px\" font-family=\"Arial\">X</text><rect x=\"15183.360625000005\" y=\"305.0\" width=\"89.1494921875\" height=\"40\" stroke=\"black\" fill=\"white\" stroke-width=\"1\" /><text x=\"15227.935371093754\" y=\"325.0\" dominant-baseline=\"middle\" text-anchor=\"middle\" font-size=\"14px\" font-family=\"Arial\">Ry(-0.149π)</text><circle cx=\"15312.510117187505\" cy=\"275.0\" r=\"10.0\" /><rect x=\"15292.510117187505\" y=\"305.0\" width=\"40\" height=\"40\" stroke=\"black\" fill=\"white\" stroke-width=\"1\" /><text x=\"15312.510117187505\" y=\"325.0\" dominant-baseline=\"middle\" text-anchor=\"middle\" font-size=\"18px\" font-family=\"Arial\">X</text><rect x=\"15352.510117187505\" y=\"305.0\" width=\"84.097734375\" height=\"40\" stroke=\"black\" fill=\"white\" stroke-width=\"1\" /><text x=\"15394.558984375004\" y=\"325.0\" dominant-baseline=\"middle\" text-anchor=\"middle\" font-size=\"14px\" font-family=\"Arial\">Ry(0.046π)</text><circle cx=\"15476.607851562505\" cy=\"225.0\" r=\"10.0\" /><rect x=\"15456.607851562505\" y=\"305.0\" width=\"40\" height=\"40\" stroke=\"black\" fill=\"white\" stroke-width=\"1\" /><text x=\"15476.607851562505\" y=\"325.0\" dominant-baseline=\"middle\" text-anchor=\"middle\" font-size=\"18px\" font-family=\"Arial\">X</text><rect x=\"15516.607851562505\" y=\"305.0\" width=\"84.097734375\" height=\"40\" stroke=\"black\" fill=\"white\" stroke-width=\"1\" /><text x=\"15558.656718750004\" y=\"325.0\" dominant-baseline=\"middle\" text-anchor=\"middle\" font-size=\"14px\" font-family=\"Arial\">Ry(0.149π)</text><circle cx=\"15640.705585937505\" cy=\"275.0\" r=\"10.0\" /><rect x=\"15620.705585937505\" y=\"305.0\" width=\"40\" height=\"40\" stroke=\"black\" fill=\"white\" stroke-width=\"1\" /><text x=\"15640.705585937505\" y=\"325.0\" dominant-baseline=\"middle\" text-anchor=\"middle\" font-size=\"18px\" font-family=\"Arial\">X</text><rect x=\"15680.705585937505\" y=\"305.0\" width=\"89.1494921875\" height=\"40\" stroke=\"black\" fill=\"white\" stroke-width=\"1\" /><text x=\"15725.280332031254\" y=\"325.0\" dominant-baseline=\"middle\" text-anchor=\"middle\" font-size=\"14px\" font-family=\"Arial\">Ry(-0.046π)</text><circle cx=\"15809.855078125005\" cy=\"175.0\" r=\"10.0\" /><rect x=\"15789.855078125005\" y=\"305.0\" width=\"40\" height=\"40\" stroke=\"black\" fill=\"white\" stroke-width=\"1\" /><text x=\"15809.855078125005\" y=\"325.0\" dominant-baseline=\"middle\" text-anchor=\"middle\" font-size=\"18px\" font-family=\"Arial\">X</text><rect x=\"15849.855078125005\" y=\"305.0\" width=\"84.097734375\" height=\"40\" stroke=\"black\" fill=\"white\" stroke-width=\"1\" /><text x=\"15891.903945312504\" y=\"325.0\" dominant-baseline=\"middle\" text-anchor=\"middle\" font-size=\"14px\" font-family=\"Arial\">Ry(0.023π)</text><circle cx=\"15973.952812500005\" cy=\"275.0\" r=\"10.0\" /><rect x=\"15953.952812500005\" y=\"305.0\" width=\"40\" height=\"40\" stroke=\"black\" fill=\"white\" stroke-width=\"1\" /><text x=\"15973.952812500005\" y=\"325.0\" dominant-baseline=\"middle\" text-anchor=\"middle\" font-size=\"18px\" font-family=\"Arial\">X</text><rect x=\"16013.952812500005\" y=\"305.0\" width=\"89.1494921875\" height=\"40\" stroke=\"black\" fill=\"white\" stroke-width=\"1\" /><text x=\"16058.527558593754\" y=\"325.0\" dominant-baseline=\"middle\" text-anchor=\"middle\" font-size=\"14px\" font-family=\"Arial\">Ry(-0.015π)</text><circle cx=\"16143.102304687505\" cy=\"225.0\" r=\"10.0\" /><rect x=\"16123.102304687505\" y=\"305.0\" width=\"40\" height=\"40\" stroke=\"black\" fill=\"white\" stroke-width=\"1\" /><text x=\"16143.102304687505\" y=\"325.0\" dominant-baseline=\"middle\" text-anchor=\"middle\" font-size=\"18px\" font-family=\"Arial\">X</text><rect x=\"16183.102304687505\" y=\"305.0\" width=\"89.1494921875\" height=\"40\" stroke=\"black\" fill=\"white\" stroke-width=\"1\" /><text x=\"16227.677050781254\" y=\"325.0\" dominant-baseline=\"middle\" text-anchor=\"middle\" font-size=\"14px\" font-family=\"Arial\">Ry(-0.023π)</text><circle cx=\"16312.251796875005\" cy=\"275.0\" r=\"10.0\" /><rect x=\"16292.251796875005\" y=\"305.0\" width=\"40\" height=\"40\" stroke=\"black\" fill=\"white\" stroke-width=\"1\" /><text x=\"16312.251796875005\" y=\"325.0\" dominant-baseline=\"middle\" text-anchor=\"middle\" font-size=\"18px\" font-family=\"Arial\">X</text><rect x=\"16352.251796875007\" y=\"305.0\" width=\"84.097734375\" height=\"40\" stroke=\"black\" fill=\"white\" stroke-width=\"1\" /><text x=\"16394.300664062506\" y=\"325.0\" dominant-baseline=\"middle\" text-anchor=\"middle\" font-size=\"14px\" font-family=\"Arial\">Ry(0.015π)</text><circle cx=\"16476.349531250005\" cy=\"125.0\" r=\"10.0\" /><rect x=\"16456.349531250005\" y=\"305.0\" width=\"40\" height=\"40\" stroke=\"black\" fill=\"white\" stroke-width=\"1\" /><text x=\"16476.349531250005\" y=\"325.0\" dominant-baseline=\"middle\" text-anchor=\"middle\" font-size=\"18px\" font-family=\"Arial\">X</text><rect x=\"16516.349531250005\" y=\"305.0\" width=\"84.097734375\" height=\"40\" stroke=\"black\" fill=\"white\" stroke-width=\"1\" /><text x=\"16558.398398437505\" y=\"325.0\" dominant-baseline=\"middle\" text-anchor=\"middle\" font-size=\"14px\" font-family=\"Arial\">Ry(0.015π)</text><circle cx=\"16640.447265625004\" cy=\"275.0\" r=\"10.0\" /><rect x=\"16620.447265625004\" y=\"305.0\" width=\"40\" height=\"40\" stroke=\"black\" fill=\"white\" stroke-width=\"1\" /><text x=\"16640.447265625004\" y=\"325.0\" dominant-baseline=\"middle\" text-anchor=\"middle\" font-size=\"18px\" font-family=\"Arial\">X</text><rect x=\"16680.447265625004\" y=\"305.0\" width=\"89.1494921875\" height=\"40\" stroke=\"black\" fill=\"white\" stroke-width=\"1\" /><text x=\"16725.022011718753\" y=\"325.0\" dominant-baseline=\"middle\" text-anchor=\"middle\" font-size=\"14px\" font-family=\"Arial\">Ry(-0.002π)</text><circle cx=\"16809.596757812502\" cy=\"225.0\" r=\"10.0\" /><rect x=\"16789.596757812502\" y=\"305.0\" width=\"40\" height=\"40\" stroke=\"black\" fill=\"white\" stroke-width=\"1\" /><text x=\"16809.596757812502\" y=\"325.0\" dominant-baseline=\"middle\" text-anchor=\"middle\" font-size=\"18px\" font-family=\"Arial\">X</text><rect x=\"16849.596757812502\" y=\"305.0\" width=\"89.1494921875\" height=\"40\" stroke=\"black\" fill=\"white\" stroke-width=\"1\" /><text x=\"16894.17150390625\" y=\"325.0\" dominant-baseline=\"middle\" text-anchor=\"middle\" font-size=\"14px\" font-family=\"Arial\">Ry(-0.015π)</text><circle cx=\"16978.74625\" cy=\"275.0\" r=\"10.0\" /><rect x=\"16958.74625\" y=\"305.0\" width=\"40\" height=\"40\" stroke=\"black\" fill=\"white\" stroke-width=\"1\" /><text x=\"16978.74625\" y=\"325.0\" dominant-baseline=\"middle\" text-anchor=\"middle\" font-size=\"18px\" font-family=\"Arial\">X</text><rect x=\"17018.74625\" y=\"305.0\" width=\"84.097734375\" height=\"40\" stroke=\"black\" fill=\"white\" stroke-width=\"1\" /><text x=\"17060.7951171875\" y=\"325.0\" dominant-baseline=\"middle\" text-anchor=\"middle\" font-size=\"14px\" font-family=\"Arial\">Ry(0.002π)</text><circle cx=\"17142.843984375\" cy=\"175.0\" r=\"10.0\" /><rect x=\"17122.843984375\" y=\"305.0\" width=\"40\" height=\"40\" stroke=\"black\" fill=\"white\" stroke-width=\"1\" /><text x=\"17142.843984375\" y=\"325.0\" dominant-baseline=\"middle\" text-anchor=\"middle\" font-size=\"18px\" font-family=\"Arial\">X</text><rect x=\"17182.843984375\" y=\"305.0\" width=\"84.097734375\" height=\"40\" stroke=\"black\" fill=\"white\" stroke-width=\"1\" /><text x=\"17224.892851562498\" y=\"325.0\" dominant-baseline=\"middle\" text-anchor=\"middle\" font-size=\"14px\" font-family=\"Arial\">Ry(0.017π)</text><circle cx=\"17306.941718749997\" cy=\"275.0\" r=\"10.0\" /><rect x=\"17286.941718749997\" y=\"305.0\" width=\"40\" height=\"40\" stroke=\"black\" fill=\"white\" stroke-width=\"1\" /><text x=\"17306.941718749997\" y=\"325.0\" dominant-baseline=\"middle\" text-anchor=\"middle\" font-size=\"18px\" font-family=\"Arial\">X</text><rect x=\"17346.941718749997\" y=\"305.0\" width=\"44.4971484375\" height=\"40\" stroke=\"black\" fill=\"white\" stroke-width=\"1\" /><text x=\"17369.190292968746\" y=\"325.0\" dominant-baseline=\"middle\" text-anchor=\"middle\" font-size=\"14px\" font-family=\"Arial\">Ry(0)</text><circle cx=\"17431.438867187495\" cy=\"225.0\" r=\"10.0\" /><rect x=\"17411.438867187495\" y=\"305.0\" width=\"40\" height=\"40\" stroke=\"black\" fill=\"white\" stroke-width=\"1\" /><text x=\"17431.438867187495\" y=\"325.0\" dominant-baseline=\"middle\" text-anchor=\"middle\" font-size=\"18px\" font-family=\"Arial\">X</text><rect x=\"17471.438867187495\" y=\"305.0\" width=\"89.1494921875\" height=\"40\" stroke=\"black\" fill=\"white\" stroke-width=\"1\" /><text x=\"17516.013613281244\" y=\"325.0\" dominant-baseline=\"middle\" text-anchor=\"middle\" font-size=\"14px\" font-family=\"Arial\">Ry(-0.017π)</text><circle cx=\"17600.588359374993\" cy=\"275.0\" r=\"10.0\" /><rect x=\"17580.588359374993\" y=\"305.0\" width=\"40\" height=\"40\" stroke=\"black\" fill=\"white\" stroke-width=\"1\" /><text x=\"17600.588359374993\" y=\"325.0\" dominant-baseline=\"middle\" text-anchor=\"middle\" font-size=\"18px\" font-family=\"Arial\">X</text><rect x=\"17640.588359374993\" y=\"305.0\" width=\"44.4971484375\" height=\"40\" stroke=\"black\" fill=\"white\" stroke-width=\"1\" /><text x=\"17662.836933593742\" y=\"325.0\" dominant-baseline=\"middle\" text-anchor=\"middle\" font-size=\"14px\" font-family=\"Arial\">Ry(0)</text><circle cx=\"17725.08550781249\" cy=\"75.0\" r=\"10.0\" /><rect x=\"17705.08550781249\" y=\"305.0\" width=\"40\" height=\"40\" stroke=\"black\" fill=\"white\" stroke-width=\"1\" /><text x=\"17725.08550781249\" y=\"325.0\" dominant-baseline=\"middle\" text-anchor=\"middle\" font-size=\"18px\" font-family=\"Arial\">X</text><rect x=\"17765.08550781249\" y=\"305.0\" width=\"89.1494921875\" height=\"40\" stroke=\"black\" fill=\"white\" stroke-width=\"1\" /><text x=\"17809.66025390624\" y=\"325.0\" dominant-baseline=\"middle\" text-anchor=\"middle\" font-size=\"14px\" font-family=\"Arial\">Ry(-0.047π)</text><circle cx=\"17894.23499999999\" cy=\"275.0\" r=\"10.0\" /><rect x=\"17874.23499999999\" y=\"305.0\" width=\"40\" height=\"40\" stroke=\"black\" fill=\"white\" stroke-width=\"1\" /><text x=\"17894.23499999999\" y=\"325.0\" dominant-baseline=\"middle\" text-anchor=\"middle\" font-size=\"18px\" font-family=\"Arial\">X</text><rect x=\"17934.23499999999\" y=\"305.0\" width=\"89.1494921875\" height=\"40\" stroke=\"black\" fill=\"white\" stroke-width=\"1\" /><text x=\"17978.80974609374\" y=\"325.0\" dominant-baseline=\"middle\" text-anchor=\"middle\" font-size=\"14px\" font-family=\"Arial\">Ry(-0.005π)</text><circle cx=\"18063.384492187488\" cy=\"225.0\" r=\"10.0\" /><rect x=\"18043.384492187488\" y=\"305.0\" width=\"40\" height=\"40\" stroke=\"black\" fill=\"white\" stroke-width=\"1\" /><text x=\"18063.384492187488\" y=\"325.0\" dominant-baseline=\"middle\" text-anchor=\"middle\" font-size=\"18px\" font-family=\"Arial\">X</text><rect x=\"18103.384492187488\" y=\"305.0\" width=\"84.097734375\" height=\"40\" stroke=\"black\" fill=\"white\" stroke-width=\"1\" /><text x=\"18145.433359374987\" y=\"325.0\" dominant-baseline=\"middle\" text-anchor=\"middle\" font-size=\"14px\" font-family=\"Arial\">Ry(0.047π)</text><circle cx=\"18227.482226562486\" cy=\"275.0\" r=\"10.0\" /><rect x=\"18207.482226562486\" y=\"305.0\" width=\"40\" height=\"40\" stroke=\"black\" fill=\"white\" stroke-width=\"1\" /><text x=\"18227.482226562486\" y=\"325.0\" dominant-baseline=\"middle\" text-anchor=\"middle\" font-size=\"18px\" font-family=\"Arial\">X</text><rect x=\"18267.482226562486\" y=\"305.0\" width=\"84.097734375\" height=\"40\" stroke=\"black\" fill=\"white\" stroke-width=\"1\" /><text x=\"18309.531093749985\" y=\"325.0\" dominant-baseline=\"middle\" text-anchor=\"middle\" font-size=\"14px\" font-family=\"Arial\">Ry(0.005π)</text><circle cx=\"18391.579960937484\" cy=\"175.0\" r=\"10.0\" /><rect x=\"18371.579960937484\" y=\"305.0\" width=\"40\" height=\"40\" stroke=\"black\" fill=\"white\" stroke-width=\"1\" /><text x=\"18391.579960937484\" y=\"325.0\" dominant-baseline=\"middle\" text-anchor=\"middle\" font-size=\"18px\" font-family=\"Arial\">X</text><rect x=\"18431.579960937484\" y=\"305.0\" width=\"89.1494921875\" height=\"40\" stroke=\"black\" fill=\"white\" stroke-width=\"1\" /><text x=\"18476.154707031234\" y=\"325.0\" dominant-baseline=\"middle\" text-anchor=\"middle\" font-size=\"14px\" font-family=\"Arial\">Ry(-0.041π)</text><circle cx=\"18560.729453124983\" cy=\"275.0\" r=\"10.0\" /><rect x=\"18540.729453124983\" y=\"305.0\" width=\"40\" height=\"40\" stroke=\"black\" fill=\"white\" stroke-width=\"1\" /><text x=\"18560.729453124983\" y=\"325.0\" dominant-baseline=\"middle\" text-anchor=\"middle\" font-size=\"18px\" font-family=\"Arial\">X</text><rect x=\"18600.729453124983\" y=\"305.0\" width=\"84.097734375\" height=\"40\" stroke=\"black\" fill=\"white\" stroke-width=\"1\" /><text x=\"18642.77832031248\" y=\"325.0\" dominant-baseline=\"middle\" text-anchor=\"middle\" font-size=\"14px\" font-family=\"Arial\">Ry(0.003π)</text><circle cx=\"18724.82718749998\" cy=\"225.0\" r=\"10.0\" /><rect x=\"18704.82718749998\" y=\"305.0\" width=\"40\" height=\"40\" stroke=\"black\" fill=\"white\" stroke-width=\"1\" /><text x=\"18724.82718749998\" y=\"325.0\" dominant-baseline=\"middle\" text-anchor=\"middle\" font-size=\"18px\" font-family=\"Arial\">X</text><rect x=\"18764.82718749998\" y=\"305.0\" width=\"84.097734375\" height=\"40\" stroke=\"black\" fill=\"white\" stroke-width=\"1\" /><text x=\"18806.87605468748\" y=\"325.0\" dominant-baseline=\"middle\" text-anchor=\"middle\" font-size=\"14px\" font-family=\"Arial\">Ry(0.041π)</text><circle cx=\"18888.92492187498\" cy=\"275.0\" r=\"10.0\" /><rect x=\"18868.92492187498\" y=\"305.0\" width=\"40\" height=\"40\" stroke=\"black\" fill=\"white\" stroke-width=\"1\" /><text x=\"18888.92492187498\" y=\"325.0\" dominant-baseline=\"middle\" text-anchor=\"middle\" font-size=\"18px\" font-family=\"Arial\">X</text><rect x=\"18928.92492187498\" y=\"305.0\" width=\"89.1494921875\" height=\"40\" stroke=\"black\" fill=\"white\" stroke-width=\"1\" /><text x=\"18973.49966796873\" y=\"325.0\" dominant-baseline=\"middle\" text-anchor=\"middle\" font-size=\"14px\" font-family=\"Arial\">Ry(-0.003π)</text><circle cx=\"19058.074414062477\" cy=\"125.0\" r=\"10.0\" /><rect x=\"19038.074414062477\" y=\"305.0\" width=\"40\" height=\"40\" stroke=\"black\" fill=\"white\" stroke-width=\"1\" /><text x=\"19058.074414062477\" y=\"325.0\" dominant-baseline=\"middle\" text-anchor=\"middle\" font-size=\"18px\" font-family=\"Arial\">X</text><rect x=\"19098.074414062477\" y=\"305.0\" width=\"89.1494921875\" height=\"40\" stroke=\"black\" fill=\"white\" stroke-width=\"1\" /><text x=\"19142.649160156227\" y=\"325.0\" dominant-baseline=\"middle\" text-anchor=\"middle\" font-size=\"14px\" font-family=\"Arial\">Ry(-0.028π)</text><circle cx=\"19227.223906249976\" cy=\"275.0\" r=\"10.0\" /><rect x=\"19207.223906249976\" y=\"305.0\" width=\"40\" height=\"40\" stroke=\"black\" fill=\"white\" stroke-width=\"1\" /><text x=\"19227.223906249976\" y=\"325.0\" dominant-baseline=\"middle\" text-anchor=\"middle\" font-size=\"18px\" font-family=\"Arial\">X</text><rect x=\"19267.223906249976\" y=\"305.0\" width=\"89.1494921875\" height=\"40\" stroke=\"black\" fill=\"white\" stroke-width=\"1\" /><text x=\"19311.798652343725\" y=\"325.0\" dominant-baseline=\"middle\" text-anchor=\"middle\" font-size=\"14px\" font-family=\"Arial\">Ry(-0.006π)</text><circle cx=\"19396.373398437474\" cy=\"225.0\" r=\"10.0\" /><rect x=\"19376.373398437474\" y=\"305.0\" width=\"40\" height=\"40\" stroke=\"black\" fill=\"white\" stroke-width=\"1\" /><text x=\"19396.373398437474\" y=\"325.0\" dominant-baseline=\"middle\" text-anchor=\"middle\" font-size=\"18px\" font-family=\"Arial\">X</text><rect x=\"19436.373398437474\" y=\"305.0\" width=\"84.097734375\" height=\"40\" stroke=\"black\" fill=\"white\" stroke-width=\"1\" /><text x=\"19478.422265624973\" y=\"325.0\" dominant-baseline=\"middle\" text-anchor=\"middle\" font-size=\"14px\" font-family=\"Arial\">Ry(0.028π)</text><circle cx=\"19560.471132812472\" cy=\"275.0\" r=\"10.0\" /><rect x=\"19540.471132812472\" y=\"305.0\" width=\"40\" height=\"40\" stroke=\"black\" fill=\"white\" stroke-width=\"1\" /><text x=\"19560.471132812472\" y=\"325.0\" dominant-baseline=\"middle\" text-anchor=\"middle\" font-size=\"18px\" font-family=\"Arial\">X</text><rect x=\"19600.471132812472\" y=\"305.0\" width=\"84.097734375\" height=\"40\" stroke=\"black\" fill=\"white\" stroke-width=\"1\" /><text x=\"19642.51999999997\" y=\"325.0\" dominant-baseline=\"middle\" text-anchor=\"middle\" font-size=\"14px\" font-family=\"Arial\">Ry(0.006π)</text><circle cx=\"19724.56886718747\" cy=\"175.0\" r=\"10.0\" /><rect x=\"19704.56886718747\" y=\"305.0\" width=\"40\" height=\"40\" stroke=\"black\" fill=\"white\" stroke-width=\"1\" /><text x=\"19724.56886718747\" y=\"325.0\" dominant-baseline=\"middle\" text-anchor=\"middle\" font-size=\"18px\" font-family=\"Arial\">X</text><rect x=\"19764.56886718747\" y=\"305.0\" width=\"84.097734375\" height=\"40\" stroke=\"black\" fill=\"white\" stroke-width=\"1\" /><text x=\"19806.61773437497\" y=\"325.0\" dominant-baseline=\"middle\" text-anchor=\"middle\" font-size=\"14px\" font-family=\"Arial\">Ry(0.031π)</text><circle cx=\"19888.66660156247\" cy=\"275.0\" r=\"10.0\" /><rect x=\"19868.66660156247\" y=\"305.0\" width=\"40\" height=\"40\" stroke=\"black\" fill=\"white\" stroke-width=\"1\" /><text x=\"19888.66660156247\" y=\"325.0\" dominant-baseline=\"middle\" text-anchor=\"middle\" font-size=\"18px\" font-family=\"Arial\">X</text><rect x=\"19928.66660156247\" y=\"305.0\" width=\"84.097734375\" height=\"40\" stroke=\"black\" fill=\"white\" stroke-width=\"1\" /><text x=\"19970.715468749968\" y=\"325.0\" dominant-baseline=\"middle\" text-anchor=\"middle\" font-size=\"14px\" font-family=\"Arial\">Ry(0.037π)</text><circle cx=\"20052.764335937467\" cy=\"225.0\" r=\"10.0\" /><rect x=\"20032.764335937467\" y=\"305.0\" width=\"40\" height=\"40\" stroke=\"black\" fill=\"white\" stroke-width=\"1\" /><text x=\"20052.764335937467\" y=\"325.0\" dominant-baseline=\"middle\" text-anchor=\"middle\" font-size=\"18px\" font-family=\"Arial\">X</text><rect x=\"20092.764335937467\" y=\"305.0\" width=\"89.1494921875\" height=\"40\" stroke=\"black\" fill=\"white\" stroke-width=\"1\" /><text x=\"20137.339082031216\" y=\"325.0\" dominant-baseline=\"middle\" text-anchor=\"middle\" font-size=\"14px\" font-family=\"Arial\">Ry(-0.031π)</text><circle cx=\"20221.913828124965\" cy=\"275.0\" r=\"10.0\" /><rect x=\"20201.913828124965\" y=\"305.0\" width=\"40\" height=\"40\" stroke=\"black\" fill=\"white\" stroke-width=\"1\" /><text x=\"20221.913828124965\" y=\"325.0\" dominant-baseline=\"middle\" text-anchor=\"middle\" font-size=\"18px\" font-family=\"Arial\">X</text><rect x=\"20261.913828124965\" y=\"305.0\" width=\"89.1494921875\" height=\"40\" stroke=\"black\" fill=\"white\" stroke-width=\"1\" /><text x=\"20306.488574218714\" y=\"325.0\" dominant-baseline=\"middle\" text-anchor=\"middle\" font-size=\"14px\" font-family=\"Arial\">Ry(-0.037π)</text><circle cx=\"20391.063320312463\" cy=\"25.0\" r=\"10.0\" /><rect x=\"20371.063320312463\" y=\"305.0\" width=\"40\" height=\"40\" stroke=\"black\" fill=\"white\" stroke-width=\"1\" /><text x=\"20391.063320312463\" y=\"325.0\" dominant-baseline=\"middle\" text-anchor=\"middle\" font-size=\"18px\" font-family=\"Arial\">X</text><circle cx=\"20451.063320312463\" cy=\"325.0\" r=\"10.0\" /><rect x=\"20431.063320312463\" y=\"355.0\" width=\"40\" height=\"40\" stroke=\"black\" fill=\"white\" stroke-width=\"1\" /><text x=\"20451.063320312463\" y=\"375.0\" dominant-baseline=\"middle\" text-anchor=\"middle\" font-size=\"18px\" font-family=\"Arial\">X</text><rect x=\"20491.063320312463\" y=\"355.0\" width=\"84.097734375\" height=\"40\" stroke=\"black\" fill=\"white\" stroke-width=\"1\" /><text x=\"20533.112187499963\" y=\"375.0\" dominant-baseline=\"middle\" text-anchor=\"middle\" font-size=\"14px\" font-family=\"Arial\">Ry(0.042π)</text><circle cx=\"20615.16105468746\" cy=\"275.0\" r=\"10.0\" /><rect x=\"20595.16105468746\" y=\"355.0\" width=\"40\" height=\"40\" stroke=\"black\" fill=\"white\" stroke-width=\"1\" /><text x=\"20615.16105468746\" y=\"375.0\" dominant-baseline=\"middle\" text-anchor=\"middle\" font-size=\"18px\" font-family=\"Arial\">X</text><rect x=\"20655.16105468746\" y=\"355.0\" width=\"84.097734375\" height=\"40\" stroke=\"black\" fill=\"white\" stroke-width=\"1\" /><text x=\"20697.20992187496\" y=\"375.0\" dominant-baseline=\"middle\" text-anchor=\"middle\" font-size=\"14px\" font-family=\"Arial\">Ry(0.018π)</text><circle cx=\"20779.25878906246\" cy=\"325.0\" r=\"10.0\" /><rect x=\"20759.25878906246\" y=\"355.0\" width=\"40\" height=\"40\" stroke=\"black\" fill=\"white\" stroke-width=\"1\" /><text x=\"20779.25878906246\" y=\"375.0\" dominant-baseline=\"middle\" text-anchor=\"middle\" font-size=\"18px\" font-family=\"Arial\">X</text><rect x=\"20819.25878906246\" y=\"355.0\" width=\"89.1494921875\" height=\"40\" stroke=\"black\" fill=\"white\" stroke-width=\"1\" /><text x=\"20863.83353515621\" y=\"375.0\" dominant-baseline=\"middle\" text-anchor=\"middle\" font-size=\"14px\" font-family=\"Arial\">Ry(-0.026π)</text><circle cx=\"20948.40828124996\" cy=\"225.0\" r=\"10.0\" /><rect x=\"20928.40828124996\" y=\"355.0\" width=\"40\" height=\"40\" stroke=\"black\" fill=\"white\" stroke-width=\"1\" /><text x=\"20948.40828124996\" y=\"375.0\" dominant-baseline=\"middle\" text-anchor=\"middle\" font-size=\"18px\" font-family=\"Arial\">X</text><rect x=\"20988.40828124996\" y=\"355.0\" width=\"89.1494921875\" height=\"40\" stroke=\"black\" fill=\"white\" stroke-width=\"1\" /><text x=\"21032.983027343707\" y=\"375.0\" dominant-baseline=\"middle\" text-anchor=\"middle\" font-size=\"14px\" font-family=\"Arial\">Ry(-0.137π)</text><circle cx=\"21117.557773437456\" cy=\"325.0\" r=\"10.0\" /><rect x=\"21097.557773437456\" y=\"355.0\" width=\"40\" height=\"40\" stroke=\"black\" fill=\"white\" stroke-width=\"1\" /><text x=\"21117.557773437456\" y=\"375.0\" dominant-baseline=\"middle\" text-anchor=\"middle\" font-size=\"18px\" font-family=\"Arial\">X</text><rect x=\"21157.557773437456\" y=\"355.0\" width=\"89.1494921875\" height=\"40\" stroke=\"black\" fill=\"white\" stroke-width=\"1\" /><text x=\"21202.132519531206\" y=\"375.0\" dominant-baseline=\"middle\" text-anchor=\"middle\" font-size=\"14px\" font-family=\"Arial\">Ry(-0.042π)</text><circle cx=\"21286.707265624955\" cy=\"275.0\" r=\"10.0\" /><rect x=\"21266.707265624955\" y=\"355.0\" width=\"40\" height=\"40\" stroke=\"black\" fill=\"white\" stroke-width=\"1\" /><text x=\"21286.707265624955\" y=\"375.0\" dominant-baseline=\"middle\" text-anchor=\"middle\" font-size=\"18px\" font-family=\"Arial\">X</text><rect x=\"21326.707265624955\" y=\"355.0\" width=\"89.1494921875\" height=\"40\" stroke=\"black\" fill=\"white\" stroke-width=\"1\" /><text x=\"21371.282011718704\" y=\"375.0\" dominant-baseline=\"middle\" text-anchor=\"middle\" font-size=\"14px\" font-family=\"Arial\">Ry(-0.018π)</text><circle cx=\"21455.856757812453\" cy=\"325.0\" r=\"10.0\" /><rect x=\"21435.856757812453\" y=\"355.0\" width=\"40\" height=\"40\" stroke=\"black\" fill=\"white\" stroke-width=\"1\" /><text x=\"21455.856757812453\" y=\"375.0\" dominant-baseline=\"middle\" text-anchor=\"middle\" font-size=\"18px\" font-family=\"Arial\">X</text><rect x=\"21495.856757812453\" y=\"355.0\" width=\"84.097734375\" height=\"40\" stroke=\"black\" fill=\"white\" stroke-width=\"1\" /><text x=\"21537.905624999952\" y=\"375.0\" dominant-baseline=\"middle\" text-anchor=\"middle\" font-size=\"14px\" font-family=\"Arial\">Ry(0.026π)</text><circle cx=\"21619.95449218745\" cy=\"175.0\" r=\"10.0\" /><rect x=\"21599.95449218745\" y=\"355.0\" width=\"40\" height=\"40\" stroke=\"black\" fill=\"white\" stroke-width=\"1\" /><text x=\"21619.95449218745\" y=\"375.0\" dominant-baseline=\"middle\" text-anchor=\"middle\" font-size=\"18px\" font-family=\"Arial\">X</text><rect x=\"21659.95449218745\" y=\"355.0\" width=\"84.097734375\" height=\"40\" stroke=\"black\" fill=\"white\" stroke-width=\"1\" /><text x=\"21702.00335937495\" y=\"375.0\" dominant-baseline=\"middle\" text-anchor=\"middle\" font-size=\"14px\" font-family=\"Arial\">Ry(0.011π)</text><circle cx=\"21784.05222656245\" cy=\"325.0\" r=\"10.0\" /><rect x=\"21764.05222656245\" y=\"355.0\" width=\"40\" height=\"40\" stroke=\"black\" fill=\"white\" stroke-width=\"1\" /><text x=\"21784.05222656245\" y=\"375.0\" dominant-baseline=\"middle\" text-anchor=\"middle\" font-size=\"18px\" font-family=\"Arial\">X</text><rect x=\"21824.05222656245\" y=\"355.0\" width=\"89.1494921875\" height=\"40\" stroke=\"black\" fill=\"white\" stroke-width=\"1\" /><text x=\"21868.6269726562\" y=\"375.0\" dominant-baseline=\"middle\" text-anchor=\"middle\" font-size=\"14px\" font-family=\"Arial\">Ry(-0.004π)</text><circle cx=\"21953.201718749948\" cy=\"275.0\" r=\"10.0\" /><rect x=\"21933.201718749948\" y=\"355.0\" width=\"40\" height=\"40\" stroke=\"black\" fill=\"white\" stroke-width=\"1\" /><text x=\"21953.201718749948\" y=\"375.0\" dominant-baseline=\"middle\" text-anchor=\"middle\" font-size=\"18px\" font-family=\"Arial\">X</text><rect x=\"21993.201718749948\" y=\"355.0\" width=\"75.1905078125\" height=\"40\" stroke=\"black\" fill=\"white\" stroke-width=\"1\" /><text x=\"22030.796972656197\" y=\"375.0\" dominant-baseline=\"middle\" text-anchor=\"middle\" font-size=\"14px\" font-family=\"Arial\">Ry(0.01π)</text><circle cx=\"22108.392226562446\" cy=\"325.0\" r=\"10.0\" /><rect x=\"22088.392226562446\" y=\"355.0\" width=\"40\" height=\"40\" stroke=\"black\" fill=\"white\" stroke-width=\"1\" /><text x=\"22108.392226562446\" y=\"375.0\" dominant-baseline=\"middle\" text-anchor=\"middle\" font-size=\"18px\" font-family=\"Arial\">X</text><rect x=\"22148.392226562446\" y=\"355.0\" width=\"89.1494921875\" height=\"40\" stroke=\"black\" fill=\"white\" stroke-width=\"1\" /><text x=\"22192.966972656195\" y=\"375.0\" dominant-baseline=\"middle\" text-anchor=\"middle\" font-size=\"14px\" font-family=\"Arial\">Ry(-0.002π)</text><circle cx=\"22277.541718749944\" cy=\"225.0\" r=\"10.0\" /><rect x=\"22257.541718749944\" y=\"355.0\" width=\"40\" height=\"40\" stroke=\"black\" fill=\"white\" stroke-width=\"1\" /><text x=\"22277.541718749944\" y=\"375.0\" dominant-baseline=\"middle\" text-anchor=\"middle\" font-size=\"18px\" font-family=\"Arial\">X</text><rect x=\"22317.541718749944\" y=\"355.0\" width=\"89.1494921875\" height=\"40\" stroke=\"black\" fill=\"white\" stroke-width=\"1\" /><text x=\"22362.116464843693\" y=\"375.0\" dominant-baseline=\"middle\" text-anchor=\"middle\" font-size=\"14px\" font-family=\"Arial\">Ry(-0.011π)</text><circle cx=\"22446.691210937443\" cy=\"325.0\" r=\"10.0\" /><rect x=\"22426.691210937443\" y=\"355.0\" width=\"40\" height=\"40\" stroke=\"black\" fill=\"white\" stroke-width=\"1\" /><text x=\"22446.691210937443\" y=\"375.0\" dominant-baseline=\"middle\" text-anchor=\"middle\" font-size=\"18px\" font-family=\"Arial\">X</text><rect x=\"22486.691210937443\" y=\"355.0\" width=\"84.097734375\" height=\"40\" stroke=\"black\" fill=\"white\" stroke-width=\"1\" /><text x=\"22528.74007812494\" y=\"375.0\" dominant-baseline=\"middle\" text-anchor=\"middle\" font-size=\"14px\" font-family=\"Arial\">Ry(0.004π)</text><circle cx=\"22610.78894531244\" cy=\"275.0\" r=\"10.0\" /><rect x=\"22590.78894531244\" y=\"355.0\" width=\"40\" height=\"40\" stroke=\"black\" fill=\"white\" stroke-width=\"1\" /><text x=\"22610.78894531244\" y=\"375.0\" dominant-baseline=\"middle\" text-anchor=\"middle\" font-size=\"18px\" font-family=\"Arial\">X</text><rect x=\"22650.78894531244\" y=\"355.0\" width=\"80.242265625\" height=\"40\" stroke=\"black\" fill=\"white\" stroke-width=\"1\" /><text x=\"22690.91007812494\" y=\"375.0\" dominant-baseline=\"middle\" text-anchor=\"middle\" font-size=\"14px\" font-family=\"Arial\">Ry(-0.01π)</text><circle cx=\"22771.03121093744\" cy=\"325.0\" r=\"10.0\" /><rect x=\"22751.03121093744\" y=\"355.0\" width=\"40\" height=\"40\" stroke=\"black\" fill=\"white\" stroke-width=\"1\" /><text x=\"22771.03121093744\" y=\"375.0\" dominant-baseline=\"middle\" text-anchor=\"middle\" font-size=\"18px\" font-family=\"Arial\">X</text><rect x=\"22811.03121093744\" y=\"355.0\" width=\"84.097734375\" height=\"40\" stroke=\"black\" fill=\"white\" stroke-width=\"1\" /><text x=\"22853.080078124938\" y=\"375.0\" dominant-baseline=\"middle\" text-anchor=\"middle\" font-size=\"14px\" font-family=\"Arial\">Ry(0.002π)</text><circle cx=\"22935.128945312437\" cy=\"125.0\" r=\"10.0\" /><rect x=\"22915.128945312437\" y=\"355.0\" width=\"40\" height=\"40\" stroke=\"black\" fill=\"white\" stroke-width=\"1\" /><text x=\"22935.128945312437\" y=\"375.0\" dominant-baseline=\"middle\" text-anchor=\"middle\" font-size=\"18px\" font-family=\"Arial\">X</text><rect x=\"22975.128945312437\" y=\"355.0\" width=\"84.097734375\" height=\"40\" stroke=\"black\" fill=\"white\" stroke-width=\"1\" /><text x=\"23017.177812499936\" y=\"375.0\" dominant-baseline=\"middle\" text-anchor=\"middle\" font-size=\"14px\" font-family=\"Arial\">Ry(0.003π)</text><circle cx=\"23099.226679687436\" cy=\"325.0\" r=\"10.0\" /><rect x=\"23079.226679687436\" y=\"355.0\" width=\"40\" height=\"40\" stroke=\"black\" fill=\"white\" stroke-width=\"1\" /><text x=\"23099.226679687436\" y=\"375.0\" dominant-baseline=\"middle\" text-anchor=\"middle\" font-size=\"18px\" font-family=\"Arial\">X</text><rect x=\"23139.226679687436\" y=\"355.0\" width=\"89.1494921875\" height=\"40\" stroke=\"black\" fill=\"white\" stroke-width=\"1\" /><text x=\"23183.801425781185\" y=\"375.0\" dominant-baseline=\"middle\" text-anchor=\"middle\" font-size=\"14px\" font-family=\"Arial\">Ry(-0.023π)</text><circle cx=\"23268.376171874934\" cy=\"275.0\" r=\"10.0\" /><rect x=\"23248.376171874934\" y=\"355.0\" width=\"40\" height=\"40\" stroke=\"black\" fill=\"white\" stroke-width=\"1\" /><text x=\"23268.376171874934\" y=\"375.0\" dominant-baseline=\"middle\" text-anchor=\"middle\" font-size=\"18px\" font-family=\"Arial\">X</text><rect x=\"23308.376171874934\" y=\"355.0\" width=\"89.1494921875\" height=\"40\" stroke=\"black\" fill=\"white\" stroke-width=\"1\" /><text x=\"23352.950917968683\" y=\"375.0\" dominant-baseline=\"middle\" text-anchor=\"middle\" font-size=\"14px\" font-family=\"Arial\">Ry(-0.037π)</text><circle cx=\"23437.525664062432\" cy=\"325.0\" r=\"10.0\" /><rect x=\"23417.525664062432\" y=\"355.0\" width=\"40\" height=\"40\" stroke=\"black\" fill=\"white\" stroke-width=\"1\" /><text x=\"23437.525664062432\" y=\"375.0\" dominant-baseline=\"middle\" text-anchor=\"middle\" font-size=\"18px\" font-family=\"Arial\">X</text><rect x=\"23477.525664062432\" y=\"355.0\" width=\"89.1494921875\" height=\"40\" stroke=\"black\" fill=\"white\" stroke-width=\"1\" /><text x=\"23522.10041015618\" y=\"375.0\" dominant-baseline=\"middle\" text-anchor=\"middle\" font-size=\"14px\" font-family=\"Arial\">Ry(-0.046π)</text><circle cx=\"23606.67515624993\" cy=\"225.0\" r=\"10.0\" /><rect x=\"23586.67515624993\" y=\"355.0\" width=\"40\" height=\"40\" stroke=\"black\" fill=\"white\" stroke-width=\"1\" /><text x=\"23606.67515624993\" y=\"375.0\" dominant-baseline=\"middle\" text-anchor=\"middle\" font-size=\"18px\" font-family=\"Arial\">X</text><rect x=\"23646.67515624993\" y=\"355.0\" width=\"89.1494921875\" height=\"40\" stroke=\"black\" fill=\"white\" stroke-width=\"1\" /><text x=\"23691.24990234368\" y=\"375.0\" dominant-baseline=\"middle\" text-anchor=\"middle\" font-size=\"14px\" font-family=\"Arial\">Ry(-0.003π)</text><circle cx=\"23775.82464843743\" cy=\"325.0\" r=\"10.0\" /><rect x=\"23755.82464843743\" y=\"355.0\" width=\"40\" height=\"40\" stroke=\"black\" fill=\"white\" stroke-width=\"1\" /><text x=\"23775.82464843743\" y=\"375.0\" dominant-baseline=\"middle\" text-anchor=\"middle\" font-size=\"18px\" font-family=\"Arial\">X</text><rect x=\"23815.82464843743\" y=\"355.0\" width=\"84.097734375\" height=\"40\" stroke=\"black\" fill=\"white\" stroke-width=\"1\" /><text x=\"23857.873515624928\" y=\"375.0\" dominant-baseline=\"middle\" text-anchor=\"middle\" font-size=\"14px\" font-family=\"Arial\">Ry(0.023π)</text><circle cx=\"23939.922382812427\" cy=\"275.0\" r=\"10.0\" /><rect x=\"23919.922382812427\" y=\"355.0\" width=\"40\" height=\"40\" stroke=\"black\" fill=\"white\" stroke-width=\"1\" /><text x=\"23939.922382812427\" y=\"375.0\" dominant-baseline=\"middle\" text-anchor=\"middle\" font-size=\"18px\" font-family=\"Arial\">X</text><rect x=\"23979.922382812427\" y=\"355.0\" width=\"84.097734375\" height=\"40\" stroke=\"black\" fill=\"white\" stroke-width=\"1\" /><text x=\"24021.971249999926\" y=\"375.0\" dominant-baseline=\"middle\" text-anchor=\"middle\" font-size=\"14px\" font-family=\"Arial\">Ry(0.037π)</text><circle cx=\"24104.020117187425\" cy=\"325.0\" r=\"10.0\" /><rect x=\"24084.020117187425\" y=\"355.0\" width=\"40\" height=\"40\" stroke=\"black\" fill=\"white\" stroke-width=\"1\" /><text x=\"24104.020117187425\" y=\"375.0\" dominant-baseline=\"middle\" text-anchor=\"middle\" font-size=\"18px\" font-family=\"Arial\">X</text><rect x=\"24144.020117187425\" y=\"355.0\" width=\"84.097734375\" height=\"40\" stroke=\"black\" fill=\"white\" stroke-width=\"1\" /><text x=\"24186.068984374924\" y=\"375.0\" dominant-baseline=\"middle\" text-anchor=\"middle\" font-size=\"14px\" font-family=\"Arial\">Ry(0.046π)</text><circle cx=\"24268.117851562423\" cy=\"175.0\" r=\"10.0\" /><rect x=\"24248.117851562423\" y=\"355.0\" width=\"40\" height=\"40\" stroke=\"black\" fill=\"white\" stroke-width=\"1\" /><text x=\"24268.117851562423\" y=\"375.0\" dominant-baseline=\"middle\" text-anchor=\"middle\" font-size=\"18px\" font-family=\"Arial\">X</text><rect x=\"24308.117851562423\" y=\"355.0\" width=\"84.097734375\" height=\"40\" stroke=\"black\" fill=\"white\" stroke-width=\"1\" /><text x=\"24350.166718749922\" y=\"375.0\" dominant-baseline=\"middle\" text-anchor=\"middle\" font-size=\"14px\" font-family=\"Arial\">Ry(0.018π)</text><circle cx=\"24432.21558593742\" cy=\"325.0\" r=\"10.0\" /><rect x=\"24412.21558593742\" y=\"355.0\" width=\"40\" height=\"40\" stroke=\"black\" fill=\"white\" stroke-width=\"1\" /><text x=\"24432.21558593742\" y=\"375.0\" dominant-baseline=\"middle\" text-anchor=\"middle\" font-size=\"18px\" font-family=\"Arial\">X</text><rect x=\"24472.21558593742\" y=\"355.0\" width=\"84.097734375\" height=\"40\" stroke=\"black\" fill=\"white\" stroke-width=\"1\" /><text x=\"24514.26445312492\" y=\"375.0\" dominant-baseline=\"middle\" text-anchor=\"middle\" font-size=\"14px\" font-family=\"Arial\">Ry(0.008π)</text><circle cx=\"24596.31332031242\" cy=\"275.0\" r=\"10.0\" /><rect x=\"24576.31332031242\" y=\"355.0\" width=\"40\" height=\"40\" stroke=\"black\" fill=\"white\" stroke-width=\"1\" /><text x=\"24596.31332031242\" y=\"375.0\" dominant-baseline=\"middle\" text-anchor=\"middle\" font-size=\"18px\" font-family=\"Arial\">X</text><rect x=\"24636.31332031242\" y=\"355.0\" width=\"84.097734375\" height=\"40\" stroke=\"black\" fill=\"white\" stroke-width=\"1\" /><text x=\"24678.36218749992\" y=\"375.0\" dominant-baseline=\"middle\" text-anchor=\"middle\" font-size=\"14px\" font-family=\"Arial\">Ry(0.033π)</text><circle cx=\"24760.411054687418\" cy=\"325.0\" r=\"10.0\" /><rect x=\"24740.411054687418\" y=\"355.0\" width=\"40\" height=\"40\" stroke=\"black\" fill=\"white\" stroke-width=\"1\" /><text x=\"24760.411054687418\" y=\"375.0\" dominant-baseline=\"middle\" text-anchor=\"middle\" font-size=\"18px\" font-family=\"Arial\">X</text><rect x=\"24800.411054687418\" y=\"355.0\" width=\"89.1494921875\" height=\"40\" stroke=\"black\" fill=\"white\" stroke-width=\"1\" /><text x=\"24844.985800781167\" y=\"375.0\" dominant-baseline=\"middle\" text-anchor=\"middle\" font-size=\"14px\" font-family=\"Arial\">Ry(-0.007π)</text><circle cx=\"24929.560546874916\" cy=\"225.0\" r=\"10.0\" /><rect x=\"24909.560546874916\" y=\"355.0\" width=\"40\" height=\"40\" stroke=\"black\" fill=\"white\" stroke-width=\"1\" /><text x=\"24929.560546874916\" y=\"375.0\" dominant-baseline=\"middle\" text-anchor=\"middle\" font-size=\"18px\" font-family=\"Arial\">X</text><rect x=\"24969.560546874916\" y=\"355.0\" width=\"89.1494921875\" height=\"40\" stroke=\"black\" fill=\"white\" stroke-width=\"1\" /><text x=\"25014.135292968665\" y=\"375.0\" dominant-baseline=\"middle\" text-anchor=\"middle\" font-size=\"14px\" font-family=\"Arial\">Ry(-0.018π)</text><circle cx=\"25098.710039062415\" cy=\"325.0\" r=\"10.0\" /><rect x=\"25078.710039062415\" y=\"355.0\" width=\"40\" height=\"40\" stroke=\"black\" fill=\"white\" stroke-width=\"1\" /><text x=\"25098.710039062415\" y=\"375.0\" dominant-baseline=\"middle\" text-anchor=\"middle\" font-size=\"18px\" font-family=\"Arial\">X</text><rect x=\"25138.710039062415\" y=\"355.0\" width=\"89.1494921875\" height=\"40\" stroke=\"black\" fill=\"white\" stroke-width=\"1\" /><text x=\"25183.284785156164\" y=\"375.0\" dominant-baseline=\"middle\" text-anchor=\"middle\" font-size=\"14px\" font-family=\"Arial\">Ry(-0.008π)</text><circle cx=\"25267.859531249913\" cy=\"275.0\" r=\"10.0\" /><rect x=\"25247.859531249913\" y=\"355.0\" width=\"40\" height=\"40\" stroke=\"black\" fill=\"white\" stroke-width=\"1\" /><text x=\"25267.859531249913\" y=\"375.0\" dominant-baseline=\"middle\" text-anchor=\"middle\" font-size=\"18px\" font-family=\"Arial\">X</text><rect x=\"25307.859531249913\" y=\"355.0\" width=\"89.1494921875\" height=\"40\" stroke=\"black\" fill=\"white\" stroke-width=\"1\" /><text x=\"25352.434277343662\" y=\"375.0\" dominant-baseline=\"middle\" text-anchor=\"middle\" font-size=\"14px\" font-family=\"Arial\">Ry(-0.033π)</text><circle cx=\"25437.00902343741\" cy=\"325.0\" r=\"10.0\" /><rect x=\"25417.00902343741\" y=\"355.0\" width=\"40\" height=\"40\" stroke=\"black\" fill=\"white\" stroke-width=\"1\" /><text x=\"25437.00902343741\" y=\"375.0\" dominant-baseline=\"middle\" text-anchor=\"middle\" font-size=\"18px\" font-family=\"Arial\">X</text><rect x=\"25477.00902343741\" y=\"355.0\" width=\"84.097734375\" height=\"40\" stroke=\"black\" fill=\"white\" stroke-width=\"1\" /><text x=\"25519.05789062491\" y=\"375.0\" dominant-baseline=\"middle\" text-anchor=\"middle\" font-size=\"14px\" font-family=\"Arial\">Ry(0.007π)</text><circle cx=\"25601.10675781241\" cy=\"75.0\" r=\"10.0\" /><rect x=\"25581.10675781241\" y=\"355.0\" width=\"40\" height=\"40\" stroke=\"black\" fill=\"white\" stroke-width=\"1\" /><text x=\"25601.10675781241\" y=\"375.0\" dominant-baseline=\"middle\" text-anchor=\"middle\" font-size=\"18px\" font-family=\"Arial\">X</text><rect x=\"25641.10675781241\" y=\"355.0\" width=\"75.1905078125\" height=\"40\" stroke=\"black\" fill=\"white\" stroke-width=\"1\" /><text x=\"25678.70201171866\" y=\"375.0\" dominant-baseline=\"middle\" text-anchor=\"middle\" font-size=\"14px\" font-family=\"Arial\">Ry(0.01π)</text><circle cx=\"25756.297265624908\" cy=\"325.0\" r=\"10.0\" /><rect x=\"25736.297265624908\" y=\"355.0\" width=\"40\" height=\"40\" stroke=\"black\" fill=\"white\" stroke-width=\"1\" /><text x=\"25756.297265624908\" y=\"375.0\" dominant-baseline=\"middle\" text-anchor=\"middle\" font-size=\"18px\" font-family=\"Arial\">X</text><rect x=\"25796.297265624908\" y=\"355.0\" width=\"84.097734375\" height=\"40\" stroke=\"black\" fill=\"white\" stroke-width=\"1\" /><text x=\"25838.346132812407\" y=\"375.0\" dominant-baseline=\"middle\" text-anchor=\"middle\" font-size=\"14px\" font-family=\"Arial\">Ry(0.005π)</text><circle cx=\"25920.394999999906\" cy=\"275.0\" r=\"10.0\" /><rect x=\"25900.394999999906\" y=\"355.0\" width=\"40\" height=\"40\" stroke=\"black\" fill=\"white\" stroke-width=\"1\" /><text x=\"25920.394999999906\" y=\"375.0\" dominant-baseline=\"middle\" text-anchor=\"middle\" font-size=\"18px\" font-family=\"Arial\">X</text><rect x=\"25960.394999999906\" y=\"355.0\" width=\"89.1494921875\" height=\"40\" stroke=\"black\" fill=\"white\" stroke-width=\"1\" /><text x=\"26004.969746093655\" y=\"375.0\" dominant-baseline=\"middle\" text-anchor=\"middle\" font-size=\"14px\" font-family=\"Arial\">Ry(-0.015π)</text><circle cx=\"26089.544492187404\" cy=\"325.0\" r=\"10.0\" /><rect x=\"26069.544492187404\" y=\"355.0\" width=\"40\" height=\"40\" stroke=\"black\" fill=\"white\" stroke-width=\"1\" /><text x=\"26089.544492187404\" y=\"375.0\" dominant-baseline=\"middle\" text-anchor=\"middle\" font-size=\"18px\" font-family=\"Arial\">X</text><rect x=\"26129.544492187404\" y=\"355.0\" width=\"75.1905078125\" height=\"40\" stroke=\"black\" fill=\"white\" stroke-width=\"1\" /><text x=\"26167.139746093653\" y=\"375.0\" dominant-baseline=\"middle\" text-anchor=\"middle\" font-size=\"14px\" font-family=\"Arial\">Ry(0.03π)</text><circle cx=\"26244.734999999902\" cy=\"225.0\" r=\"10.0\" /><rect x=\"26224.734999999902\" y=\"355.0\" width=\"40\" height=\"40\" stroke=\"black\" fill=\"white\" stroke-width=\"1\" /><text x=\"26244.734999999902\" y=\"375.0\" dominant-baseline=\"middle\" text-anchor=\"middle\" font-size=\"18px\" font-family=\"Arial\">X</text><rect x=\"26284.734999999902\" y=\"355.0\" width=\"80.242265625\" height=\"40\" stroke=\"black\" fill=\"white\" stroke-width=\"1\" /><text x=\"26324.8561328124\" y=\"375.0\" dominant-baseline=\"middle\" text-anchor=\"middle\" font-size=\"14px\" font-family=\"Arial\">Ry(-0.01π)</text><circle cx=\"26404.9772656249\" cy=\"325.0\" r=\"10.0\" /><rect x=\"26384.9772656249\" y=\"355.0\" width=\"40\" height=\"40\" stroke=\"black\" fill=\"white\" stroke-width=\"1\" /><text x=\"26404.9772656249\" y=\"375.0\" dominant-baseline=\"middle\" text-anchor=\"middle\" font-size=\"18px\" font-family=\"Arial\">X</text><rect x=\"26444.9772656249\" y=\"355.0\" width=\"89.1494921875\" height=\"40\" stroke=\"black\" fill=\"white\" stroke-width=\"1\" /><text x=\"26489.55201171865\" y=\"375.0\" dominant-baseline=\"middle\" text-anchor=\"middle\" font-size=\"14px\" font-family=\"Arial\">Ry(-0.005π)</text><circle cx=\"26574.1267578124\" cy=\"275.0\" r=\"10.0\" /><rect x=\"26554.1267578124\" y=\"355.0\" width=\"40\" height=\"40\" stroke=\"black\" fill=\"white\" stroke-width=\"1\" /><text x=\"26574.1267578124\" y=\"375.0\" dominant-baseline=\"middle\" text-anchor=\"middle\" font-size=\"18px\" font-family=\"Arial\">X</text><rect x=\"26614.1267578124\" y=\"355.0\" width=\"84.097734375\" height=\"40\" stroke=\"black\" fill=\"white\" stroke-width=\"1\" /><text x=\"26656.175624999898\" y=\"375.0\" dominant-baseline=\"middle\" text-anchor=\"middle\" font-size=\"14px\" font-family=\"Arial\">Ry(0.015π)</text><circle cx=\"26738.224492187397\" cy=\"325.0\" r=\"10.0\" /><rect x=\"26718.224492187397\" y=\"355.0\" width=\"40\" height=\"40\" stroke=\"black\" fill=\"white\" stroke-width=\"1\" /><text x=\"26738.224492187397\" y=\"375.0\" dominant-baseline=\"middle\" text-anchor=\"middle\" font-size=\"18px\" font-family=\"Arial\">X</text><rect x=\"26778.224492187397\" y=\"355.0\" width=\"80.242265625\" height=\"40\" stroke=\"black\" fill=\"white\" stroke-width=\"1\" /><text x=\"26818.345624999896\" y=\"375.0\" dominant-baseline=\"middle\" text-anchor=\"middle\" font-size=\"14px\" font-family=\"Arial\">Ry(-0.03π)</text><circle cx=\"26898.466757812395\" cy=\"175.0\" r=\"10.0\" /><rect x=\"26878.466757812395\" y=\"355.0\" width=\"40\" height=\"40\" stroke=\"black\" fill=\"white\" stroke-width=\"1\" /><text x=\"26898.466757812395\" y=\"375.0\" dominant-baseline=\"middle\" text-anchor=\"middle\" font-size=\"18px\" font-family=\"Arial\">X</text><rect x=\"26938.466757812395\" y=\"355.0\" width=\"84.097734375\" height=\"40\" stroke=\"black\" fill=\"white\" stroke-width=\"1\" /><text x=\"26980.515624999894\" y=\"375.0\" dominant-baseline=\"middle\" text-anchor=\"middle\" font-size=\"14px\" font-family=\"Arial\">Ry(0.005π)</text><circle cx=\"27062.564492187394\" cy=\"325.0\" r=\"10.0\" /><rect x=\"27042.564492187394\" y=\"355.0\" width=\"40\" height=\"40\" stroke=\"black\" fill=\"white\" stroke-width=\"1\" /><text x=\"27062.564492187394\" y=\"375.0\" dominant-baseline=\"middle\" text-anchor=\"middle\" font-size=\"18px\" font-family=\"Arial\">X</text><rect x=\"27102.564492187394\" y=\"355.0\" width=\"84.097734375\" height=\"40\" stroke=\"black\" fill=\"white\" stroke-width=\"1\" /><text x=\"27144.613359374893\" y=\"375.0\" dominant-baseline=\"middle\" text-anchor=\"middle\" font-size=\"14px\" font-family=\"Arial\">Ry(0.001π)</text><circle cx=\"27226.662226562392\" cy=\"275.0\" r=\"10.0\" /><rect x=\"27206.662226562392\" y=\"355.0\" width=\"40\" height=\"40\" stroke=\"black\" fill=\"white\" stroke-width=\"1\" /><text x=\"27226.662226562392\" y=\"375.0\" dominant-baseline=\"middle\" text-anchor=\"middle\" font-size=\"18px\" font-family=\"Arial\">X</text><rect x=\"27266.662226562392\" y=\"355.0\" width=\"84.097734375\" height=\"40\" stroke=\"black\" fill=\"white\" stroke-width=\"1\" /><text x=\"27308.71109374989\" y=\"375.0\" dominant-baseline=\"middle\" text-anchor=\"middle\" font-size=\"14px\" font-family=\"Arial\">Ry(0.035π)</text><circle cx=\"27390.75996093739\" cy=\"325.0\" r=\"10.0\" /><rect x=\"27370.75996093739\" y=\"355.0\" width=\"40\" height=\"40\" stroke=\"black\" fill=\"white\" stroke-width=\"1\" /><text x=\"27390.75996093739\" y=\"375.0\" dominant-baseline=\"middle\" text-anchor=\"middle\" font-size=\"18px\" font-family=\"Arial\">X</text><rect x=\"27430.75996093739\" y=\"355.0\" width=\"84.097734375\" height=\"40\" stroke=\"black\" fill=\"white\" stroke-width=\"1\" /><text x=\"27472.80882812489\" y=\"375.0\" dominant-baseline=\"middle\" text-anchor=\"middle\" font-size=\"14px\" font-family=\"Arial\">Ry(0.034π)</text><circle cx=\"27554.85769531239\" cy=\"225.0\" r=\"10.0\" /><rect x=\"27534.85769531239\" y=\"355.0\" width=\"40\" height=\"40\" stroke=\"black\" fill=\"white\" stroke-width=\"1\" /><text x=\"27554.85769531239\" y=\"375.0\" dominant-baseline=\"middle\" text-anchor=\"middle\" font-size=\"18px\" font-family=\"Arial\">X</text><rect x=\"27594.85769531239\" y=\"355.0\" width=\"89.1494921875\" height=\"40\" stroke=\"black\" fill=\"white\" stroke-width=\"1\" /><text x=\"27639.432441406138\" y=\"375.0\" dominant-baseline=\"middle\" text-anchor=\"middle\" font-size=\"14px\" font-family=\"Arial\">Ry(-0.005π)</text><circle cx=\"27724.007187499887\" cy=\"325.0\" r=\"10.0\" /><rect x=\"27704.007187499887\" y=\"355.0\" width=\"40\" height=\"40\" stroke=\"black\" fill=\"white\" stroke-width=\"1\" /><text x=\"27724.007187499887\" y=\"375.0\" dominant-baseline=\"middle\" text-anchor=\"middle\" font-size=\"18px\" font-family=\"Arial\">X</text><rect x=\"27764.007187499887\" y=\"355.0\" width=\"89.1494921875\" height=\"40\" stroke=\"black\" fill=\"white\" stroke-width=\"1\" /><text x=\"27808.581933593636\" y=\"375.0\" dominant-baseline=\"middle\" text-anchor=\"middle\" font-size=\"14px\" font-family=\"Arial\">Ry(-0.001π)</text><circle cx=\"27893.156679687385\" cy=\"275.0\" r=\"10.0\" /><rect x=\"27873.156679687385\" y=\"355.0\" width=\"40\" height=\"40\" stroke=\"black\" fill=\"white\" stroke-width=\"1\" /><text x=\"27893.156679687385\" y=\"375.0\" dominant-baseline=\"middle\" text-anchor=\"middle\" font-size=\"18px\" font-family=\"Arial\">X</text><rect x=\"27933.156679687385\" y=\"355.0\" width=\"89.1494921875\" height=\"40\" stroke=\"black\" fill=\"white\" stroke-width=\"1\" /><text x=\"27977.731425781134\" y=\"375.0\" dominant-baseline=\"middle\" text-anchor=\"middle\" font-size=\"14px\" font-family=\"Arial\">Ry(-0.035π)</text><circle cx=\"28062.306171874883\" cy=\"325.0\" r=\"10.0\" /><rect x=\"28042.306171874883\" y=\"355.0\" width=\"40\" height=\"40\" stroke=\"black\" fill=\"white\" stroke-width=\"1\" /><text x=\"28062.306171874883\" y=\"375.0\" dominant-baseline=\"middle\" text-anchor=\"middle\" font-size=\"18px\" font-family=\"Arial\">X</text><rect x=\"28102.306171874883\" y=\"355.0\" width=\"89.1494921875\" height=\"40\" stroke=\"black\" fill=\"white\" stroke-width=\"1\" /><text x=\"28146.880917968632\" y=\"375.0\" dominant-baseline=\"middle\" text-anchor=\"middle\" font-size=\"14px\" font-family=\"Arial\">Ry(-0.034π)</text><circle cx=\"28231.45566406238\" cy=\"125.0\" r=\"10.0\" /><rect x=\"28211.45566406238\" y=\"355.0\" width=\"40\" height=\"40\" stroke=\"black\" fill=\"white\" stroke-width=\"1\" /><text x=\"28231.45566406238\" y=\"375.0\" dominant-baseline=\"middle\" text-anchor=\"middle\" font-size=\"18px\" font-family=\"Arial\">X</text><rect x=\"28271.45566406238\" y=\"355.0\" width=\"89.1494921875\" height=\"40\" stroke=\"black\" fill=\"white\" stroke-width=\"1\" /><text x=\"28316.03041015613\" y=\"375.0\" dominant-baseline=\"middle\" text-anchor=\"middle\" font-size=\"14px\" font-family=\"Arial\">Ry(-0.011π)</text><circle cx=\"28400.60515624988\" cy=\"325.0\" r=\"10.0\" /><rect x=\"28380.60515624988\" y=\"355.0\" width=\"40\" height=\"40\" stroke=\"black\" fill=\"white\" stroke-width=\"1\" /><text x=\"28400.60515624988\" y=\"375.0\" dominant-baseline=\"middle\" text-anchor=\"middle\" font-size=\"18px\" font-family=\"Arial\">X</text><rect x=\"28440.60515624988\" y=\"355.0\" width=\"89.1494921875\" height=\"40\" stroke=\"black\" fill=\"white\" stroke-width=\"1\" /><text x=\"28485.17990234363\" y=\"375.0\" dominant-baseline=\"middle\" text-anchor=\"middle\" font-size=\"14px\" font-family=\"Arial\">Ry(-0.011π)</text><circle cx=\"28569.754648437378\" cy=\"275.0\" r=\"10.0\" /><rect x=\"28549.754648437378\" y=\"355.0\" width=\"40\" height=\"40\" stroke=\"black\" fill=\"white\" stroke-width=\"1\" /><text x=\"28569.754648437378\" y=\"375.0\" dominant-baseline=\"middle\" text-anchor=\"middle\" font-size=\"18px\" font-family=\"Arial\">X</text><rect x=\"28609.754648437378\" y=\"355.0\" width=\"80.242265625\" height=\"40\" stroke=\"black\" fill=\"white\" stroke-width=\"1\" /><text x=\"28649.875781249877\" y=\"375.0\" dominant-baseline=\"middle\" text-anchor=\"middle\" font-size=\"14px\" font-family=\"Arial\">Ry(-0.02π)</text><circle cx=\"28729.996914062376\" cy=\"325.0\" r=\"10.0\" /><rect x=\"28709.996914062376\" y=\"355.0\" width=\"40\" height=\"40\" stroke=\"black\" fill=\"white\" stroke-width=\"1\" /><text x=\"28729.996914062376\" y=\"375.0\" dominant-baseline=\"middle\" text-anchor=\"middle\" font-size=\"18px\" font-family=\"Arial\">X</text><rect x=\"28769.996914062376\" y=\"355.0\" width=\"89.1494921875\" height=\"40\" stroke=\"black\" fill=\"white\" stroke-width=\"1\" /><text x=\"28814.571660156125\" y=\"375.0\" dominant-baseline=\"middle\" text-anchor=\"middle\" font-size=\"14px\" font-family=\"Arial\">Ry(-0.003π)</text><circle cx=\"28899.146406249874\" cy=\"225.0\" r=\"10.0\" /><rect x=\"28879.146406249874\" y=\"355.0\" width=\"40\" height=\"40\" stroke=\"black\" fill=\"white\" stroke-width=\"1\" /><text x=\"28899.146406249874\" y=\"375.0\" dominant-baseline=\"middle\" text-anchor=\"middle\" font-size=\"18px\" font-family=\"Arial\">X</text><rect x=\"28939.146406249874\" y=\"355.0\" width=\"84.097734375\" height=\"40\" stroke=\"black\" fill=\"white\" stroke-width=\"1\" /><text x=\"28981.195273437374\" y=\"375.0\" dominant-baseline=\"middle\" text-anchor=\"middle\" font-size=\"14px\" font-family=\"Arial\">Ry(0.011π)</text><circle cx=\"29063.244140624873\" cy=\"325.0\" r=\"10.0\" /><rect x=\"29043.244140624873\" y=\"355.0\" width=\"40\" height=\"40\" stroke=\"black\" fill=\"white\" stroke-width=\"1\" /><text x=\"29063.244140624873\" y=\"375.0\" dominant-baseline=\"middle\" text-anchor=\"middle\" font-size=\"18px\" font-family=\"Arial\">X</text><rect x=\"29103.244140624873\" y=\"355.0\" width=\"84.097734375\" height=\"40\" stroke=\"black\" fill=\"white\" stroke-width=\"1\" /><text x=\"29145.29300781237\" y=\"375.0\" dominant-baseline=\"middle\" text-anchor=\"middle\" font-size=\"14px\" font-family=\"Arial\">Ry(0.011π)</text><circle cx=\"29227.34187499987\" cy=\"275.0\" r=\"10.0\" /><rect x=\"29207.34187499987\" y=\"355.0\" width=\"40\" height=\"40\" stroke=\"black\" fill=\"white\" stroke-width=\"1\" /><text x=\"29227.34187499987\" y=\"375.0\" dominant-baseline=\"middle\" text-anchor=\"middle\" font-size=\"18px\" font-family=\"Arial\">X</text><rect x=\"29267.34187499987\" y=\"355.0\" width=\"75.1905078125\" height=\"40\" stroke=\"black\" fill=\"white\" stroke-width=\"1\" /><text x=\"29304.93712890612\" y=\"375.0\" dominant-baseline=\"middle\" text-anchor=\"middle\" font-size=\"14px\" font-family=\"Arial\">Ry(0.02π)</text><circle cx=\"29382.53238281237\" cy=\"325.0\" r=\"10.0\" /><rect x=\"29362.53238281237\" y=\"355.0\" width=\"40\" height=\"40\" stroke=\"black\" fill=\"white\" stroke-width=\"1\" /><text x=\"29382.53238281237\" y=\"375.0\" dominant-baseline=\"middle\" text-anchor=\"middle\" font-size=\"18px\" font-family=\"Arial\">X</text><rect x=\"29422.53238281237\" y=\"355.0\" width=\"84.097734375\" height=\"40\" stroke=\"black\" fill=\"white\" stroke-width=\"1\" /><text x=\"29464.58124999987\" y=\"375.0\" dominant-baseline=\"middle\" text-anchor=\"middle\" font-size=\"14px\" font-family=\"Arial\">Ry(0.003π)</text><circle cx=\"29546.630117187367\" cy=\"175.0\" r=\"10.0\" /><rect x=\"29526.630117187367\" y=\"355.0\" width=\"40\" height=\"40\" stroke=\"black\" fill=\"white\" stroke-width=\"1\" /><text x=\"29546.630117187367\" y=\"375.0\" dominant-baseline=\"middle\" text-anchor=\"middle\" font-size=\"18px\" font-family=\"Arial\">X</text><rect x=\"29586.630117187367\" y=\"355.0\" width=\"89.1494921875\" height=\"40\" stroke=\"black\" fill=\"white\" stroke-width=\"1\" /><text x=\"29631.204863281117\" y=\"375.0\" dominant-baseline=\"middle\" text-anchor=\"middle\" font-size=\"14px\" font-family=\"Arial\">Ry(-0.039π)</text><circle cx=\"29715.779609374866\" cy=\"325.0\" r=\"10.0\" /><rect x=\"29695.779609374866\" y=\"355.0\" width=\"40\" height=\"40\" stroke=\"black\" fill=\"white\" stroke-width=\"1\" /><text x=\"29715.779609374866\" y=\"375.0\" dominant-baseline=\"middle\" text-anchor=\"middle\" font-size=\"18px\" font-family=\"Arial\">X</text><rect x=\"29755.779609374866\" y=\"355.0\" width=\"84.097734375\" height=\"40\" stroke=\"black\" fill=\"white\" stroke-width=\"1\" /><text x=\"29797.828476562365\" y=\"375.0\" dominant-baseline=\"middle\" text-anchor=\"middle\" font-size=\"14px\" font-family=\"Arial\">Ry(0.025π)</text><circle cx=\"29879.877343749864\" cy=\"275.0\" r=\"10.0\" /><rect x=\"29859.877343749864\" y=\"355.0\" width=\"40\" height=\"40\" stroke=\"black\" fill=\"white\" stroke-width=\"1\" /><text x=\"29879.877343749864\" y=\"375.0\" dominant-baseline=\"middle\" text-anchor=\"middle\" font-size=\"18px\" font-family=\"Arial\">X</text><rect x=\"29919.877343749864\" y=\"355.0\" width=\"89.1494921875\" height=\"40\" stroke=\"black\" fill=\"white\" stroke-width=\"1\" /><text x=\"29964.452089843613\" y=\"375.0\" dominant-baseline=\"middle\" text-anchor=\"middle\" font-size=\"14px\" font-family=\"Arial\">Ry(-0.054π)</text><circle cx=\"30049.026835937362\" cy=\"325.0\" r=\"10.0\" /><rect x=\"30029.026835937362\" y=\"355.0\" width=\"40\" height=\"40\" stroke=\"black\" fill=\"white\" stroke-width=\"1\" /><text x=\"30049.026835937362\" y=\"375.0\" dominant-baseline=\"middle\" text-anchor=\"middle\" font-size=\"18px\" font-family=\"Arial\">X</text><rect x=\"30089.026835937362\" y=\"355.0\" width=\"89.1494921875\" height=\"40\" stroke=\"black\" fill=\"white\" stroke-width=\"1\" /><text x=\"30133.60158203111\" y=\"375.0\" dominant-baseline=\"middle\" text-anchor=\"middle\" font-size=\"14px\" font-family=\"Arial\">Ry(-0.022π)</text><circle cx=\"30218.17632812486\" cy=\"225.0\" r=\"10.0\" /><rect x=\"30198.17632812486\" y=\"355.0\" width=\"40\" height=\"40\" stroke=\"black\" fill=\"white\" stroke-width=\"1\" /><text x=\"30218.17632812486\" y=\"375.0\" dominant-baseline=\"middle\" text-anchor=\"middle\" font-size=\"18px\" font-family=\"Arial\">X</text><rect x=\"30258.17632812486\" y=\"355.0\" width=\"84.097734375\" height=\"40\" stroke=\"black\" fill=\"white\" stroke-width=\"1\" /><text x=\"30300.22519531236\" y=\"375.0\" dominant-baseline=\"middle\" text-anchor=\"middle\" font-size=\"14px\" font-family=\"Arial\">Ry(0.039π)</text><circle cx=\"30382.27406249986\" cy=\"325.0\" r=\"10.0\" /><rect x=\"30362.27406249986\" y=\"355.0\" width=\"40\" height=\"40\" stroke=\"black\" fill=\"white\" stroke-width=\"1\" /><text x=\"30382.27406249986\" y=\"375.0\" dominant-baseline=\"middle\" text-anchor=\"middle\" font-size=\"18px\" font-family=\"Arial\">X</text><rect x=\"30422.27406249986\" y=\"355.0\" width=\"89.1494921875\" height=\"40\" stroke=\"black\" fill=\"white\" stroke-width=\"1\" /><text x=\"30466.848808593608\" y=\"375.0\" dominant-baseline=\"middle\" text-anchor=\"middle\" font-size=\"14px\" font-family=\"Arial\">Ry(-0.025π)</text><circle cx=\"30551.423554687357\" cy=\"275.0\" r=\"10.0\" /><rect x=\"30531.423554687357\" y=\"355.0\" width=\"40\" height=\"40\" stroke=\"black\" fill=\"white\" stroke-width=\"1\" /><text x=\"30551.423554687357\" y=\"375.0\" dominant-baseline=\"middle\" text-anchor=\"middle\" font-size=\"18px\" font-family=\"Arial\">X</text><rect x=\"30591.423554687357\" y=\"355.0\" width=\"84.097734375\" height=\"40\" stroke=\"black\" fill=\"white\" stroke-width=\"1\" /><text x=\"30633.472421874856\" y=\"375.0\" dominant-baseline=\"middle\" text-anchor=\"middle\" font-size=\"14px\" font-family=\"Arial\">Ry(0.054π)</text><circle cx=\"30715.521289062355\" cy=\"325.0\" r=\"10.0\" /><rect x=\"30695.521289062355\" y=\"355.0\" width=\"40\" height=\"40\" stroke=\"black\" fill=\"white\" stroke-width=\"1\" /><text x=\"30715.521289062355\" y=\"375.0\" dominant-baseline=\"middle\" text-anchor=\"middle\" font-size=\"18px\" font-family=\"Arial\">X</text><rect x=\"30755.521289062355\" y=\"355.0\" width=\"84.097734375\" height=\"40\" stroke=\"black\" fill=\"white\" stroke-width=\"1\" /><text x=\"30797.570156249854\" y=\"375.0\" dominant-baseline=\"middle\" text-anchor=\"middle\" font-size=\"14px\" font-family=\"Arial\">Ry(0.022π)</text><circle cx=\"30879.619023437353\" cy=\"25.0\" r=\"10.0\" /><rect x=\"30859.619023437353\" y=\"355.0\" width=\"40\" height=\"40\" stroke=\"black\" fill=\"white\" stroke-width=\"1\" /><text x=\"30879.619023437353\" y=\"375.0\" dominant-baseline=\"middle\" text-anchor=\"middle\" font-size=\"18px\" font-family=\"Arial\">X</text><rect x=\"30919.619023437353\" y=\"355.0\" width=\"89.1494921875\" height=\"40\" stroke=\"black\" fill=\"white\" stroke-width=\"1\" /><text x=\"30964.193769531103\" y=\"375.0\" dominant-baseline=\"middle\" text-anchor=\"middle\" font-size=\"14px\" font-family=\"Arial\">Ry(-0.088π)</text><circle cx=\"31048.76851562485\" cy=\"325.0\" r=\"10.0\" /><rect x=\"31028.76851562485\" y=\"355.0\" width=\"40\" height=\"40\" stroke=\"black\" fill=\"white\" stroke-width=\"1\" /><text x=\"31048.76851562485\" y=\"375.0\" dominant-baseline=\"middle\" text-anchor=\"middle\" font-size=\"18px\" font-family=\"Arial\">X</text><rect x=\"31088.76851562485\" y=\"355.0\" width=\"89.1494921875\" height=\"40\" stroke=\"black\" fill=\"white\" stroke-width=\"1\" /><text x=\"31133.3432617186\" y=\"375.0\" dominant-baseline=\"middle\" text-anchor=\"middle\" font-size=\"14px\" font-family=\"Arial\">Ry(-0.013π)</text><circle cx=\"31217.91800781235\" cy=\"275.0\" r=\"10.0\" /><rect x=\"31197.91800781235\" y=\"355.0\" width=\"40\" height=\"40\" stroke=\"black\" fill=\"white\" stroke-width=\"1\" /><text x=\"31217.91800781235\" y=\"375.0\" dominant-baseline=\"middle\" text-anchor=\"middle\" font-size=\"18px\" font-family=\"Arial\">X</text><rect x=\"31257.91800781235\" y=\"355.0\" width=\"44.4971484375\" height=\"40\" stroke=\"black\" fill=\"white\" stroke-width=\"1\" /><text x=\"31280.1665820311\" y=\"375.0\" dominant-baseline=\"middle\" text-anchor=\"middle\" font-size=\"14px\" font-family=\"Arial\">Ry(0)</text><circle cx=\"31342.41515624985\" cy=\"325.0\" r=\"10.0\" /><rect x=\"31322.41515624985\" y=\"355.0\" width=\"40\" height=\"40\" stroke=\"black\" fill=\"white\" stroke-width=\"1\" /><text x=\"31342.41515624985\" y=\"375.0\" dominant-baseline=\"middle\" text-anchor=\"middle\" font-size=\"18px\" font-family=\"Arial\">X</text><rect x=\"31382.41515624985\" y=\"355.0\" width=\"84.097734375\" height=\"40\" stroke=\"black\" fill=\"white\" stroke-width=\"1\" /><text x=\"31424.464023437347\" y=\"375.0\" dominant-baseline=\"middle\" text-anchor=\"middle\" font-size=\"14px\" font-family=\"Arial\">Ry(0.025π)</text><circle cx=\"31506.512890624846\" cy=\"225.0\" r=\"10.0\" /><rect x=\"31486.512890624846\" y=\"355.0\" width=\"40\" height=\"40\" stroke=\"black\" fill=\"white\" stroke-width=\"1\" /><text x=\"31506.512890624846\" y=\"375.0\" dominant-baseline=\"middle\" text-anchor=\"middle\" font-size=\"18px\" font-family=\"Arial\">X</text><rect x=\"31546.512890624846\" y=\"355.0\" width=\"84.097734375\" height=\"40\" stroke=\"black\" fill=\"white\" stroke-width=\"1\" /><text x=\"31588.561757812346\" y=\"375.0\" dominant-baseline=\"middle\" text-anchor=\"middle\" font-size=\"14px\" font-family=\"Arial\">Ry(0.088π)</text><circle cx=\"31670.610624999845\" cy=\"325.0\" r=\"10.0\" /><rect x=\"31650.610624999845\" y=\"355.0\" width=\"40\" height=\"40\" stroke=\"black\" fill=\"white\" stroke-width=\"1\" /><text x=\"31670.610624999845\" y=\"375.0\" dominant-baseline=\"middle\" text-anchor=\"middle\" font-size=\"18px\" font-family=\"Arial\">X</text><rect x=\"31710.610624999845\" y=\"355.0\" width=\"84.097734375\" height=\"40\" stroke=\"black\" fill=\"white\" stroke-width=\"1\" /><text x=\"31752.659492187344\" y=\"375.0\" dominant-baseline=\"middle\" text-anchor=\"middle\" font-size=\"14px\" font-family=\"Arial\">Ry(0.013π)</text><circle cx=\"31834.708359374843\" cy=\"275.0\" r=\"10.0\" /><rect x=\"31814.708359374843\" y=\"355.0\" width=\"40\" height=\"40\" stroke=\"black\" fill=\"white\" stroke-width=\"1\" /><text x=\"31834.708359374843\" y=\"375.0\" dominant-baseline=\"middle\" text-anchor=\"middle\" font-size=\"18px\" font-family=\"Arial\">X</text><rect x=\"31874.708359374843\" y=\"355.0\" width=\"44.4971484375\" height=\"40\" stroke=\"black\" fill=\"white\" stroke-width=\"1\" /><text x=\"31896.956933593592\" y=\"375.0\" dominant-baseline=\"middle\" text-anchor=\"middle\" font-size=\"14px\" font-family=\"Arial\">Ry(0)</text><circle cx=\"31959.20550781234\" cy=\"325.0\" r=\"10.0\" /><rect x=\"31939.20550781234\" y=\"355.0\" width=\"40\" height=\"40\" stroke=\"black\" fill=\"white\" stroke-width=\"1\" /><text x=\"31959.20550781234\" y=\"375.0\" dominant-baseline=\"middle\" text-anchor=\"middle\" font-size=\"18px\" font-family=\"Arial\">X</text><rect x=\"31999.20550781234\" y=\"355.0\" width=\"89.1494921875\" height=\"40\" stroke=\"black\" fill=\"white\" stroke-width=\"1\" /><text x=\"32043.78025390609\" y=\"375.0\" dominant-baseline=\"middle\" text-anchor=\"middle\" font-size=\"14px\" font-family=\"Arial\">Ry(-0.025π)</text><circle cx=\"32128.35499999984\" cy=\"175.0\" r=\"10.0\" /><rect x=\"32108.35499999984\" y=\"355.0\" width=\"40\" height=\"40\" stroke=\"black\" fill=\"white\" stroke-width=\"1\" /><text x=\"32128.35499999984\" y=\"375.0\" dominant-baseline=\"middle\" text-anchor=\"middle\" font-size=\"18px\" font-family=\"Arial\">X</text><rect x=\"32168.35499999984\" y=\"355.0\" width=\"84.097734375\" height=\"40\" stroke=\"black\" fill=\"white\" stroke-width=\"1\" /><text x=\"32210.40386718734\" y=\"375.0\" dominant-baseline=\"middle\" text-anchor=\"middle\" font-size=\"14px\" font-family=\"Arial\">Ry(0.018π)</text><circle cx=\"32292.452734374838\" cy=\"325.0\" r=\"10.0\" /><rect x=\"32272.452734374838\" y=\"355.0\" width=\"40\" height=\"40\" stroke=\"black\" fill=\"white\" stroke-width=\"1\" /><text x=\"32292.452734374838\" y=\"375.0\" dominant-baseline=\"middle\" text-anchor=\"middle\" font-size=\"18px\" font-family=\"Arial\">X</text><rect x=\"32332.452734374838\" y=\"355.0\" width=\"84.097734375\" height=\"40\" stroke=\"black\" fill=\"white\" stroke-width=\"1\" /><text x=\"32374.501601562337\" y=\"375.0\" dominant-baseline=\"middle\" text-anchor=\"middle\" font-size=\"14px\" font-family=\"Arial\">Ry(0.015π)</text><circle cx=\"32456.550468749836\" cy=\"275.0\" r=\"10.0\" /><rect x=\"32436.550468749836\" y=\"355.0\" width=\"40\" height=\"40\" stroke=\"black\" fill=\"white\" stroke-width=\"1\" /><text x=\"32456.550468749836\" y=\"375.0\" dominant-baseline=\"middle\" text-anchor=\"middle\" font-size=\"18px\" font-family=\"Arial\">X</text><rect x=\"32496.550468749836\" y=\"355.0\" width=\"89.1494921875\" height=\"40\" stroke=\"black\" fill=\"white\" stroke-width=\"1\" /><text x=\"32541.125214843585\" y=\"375.0\" dominant-baseline=\"middle\" text-anchor=\"middle\" font-size=\"14px\" font-family=\"Arial\">Ry(-0.012π)</text><circle cx=\"32625.699960937334\" cy=\"325.0\" r=\"10.0\" /><rect x=\"32605.699960937334\" y=\"355.0\" width=\"40\" height=\"40\" stroke=\"black\" fill=\"white\" stroke-width=\"1\" /><text x=\"32625.699960937334\" y=\"375.0\" dominant-baseline=\"middle\" text-anchor=\"middle\" font-size=\"18px\" font-family=\"Arial\">X</text><rect x=\"32665.699960937334\" y=\"355.0\" width=\"89.1494921875\" height=\"40\" stroke=\"black\" fill=\"white\" stroke-width=\"1\" /><text x=\"32710.274707031083\" y=\"375.0\" dominant-baseline=\"middle\" text-anchor=\"middle\" font-size=\"14px\" font-family=\"Arial\">Ry(-0.018π)</text><circle cx=\"32794.84945312483\" cy=\"225.0\" r=\"10.0\" /><rect x=\"32774.84945312483\" y=\"355.0\" width=\"40\" height=\"40\" stroke=\"black\" fill=\"white\" stroke-width=\"1\" /><text x=\"32794.84945312483\" y=\"375.0\" dominant-baseline=\"middle\" text-anchor=\"middle\" font-size=\"18px\" font-family=\"Arial\">X</text><rect x=\"32834.84945312483\" y=\"355.0\" width=\"89.1494921875\" height=\"40\" stroke=\"black\" fill=\"white\" stroke-width=\"1\" /><text x=\"32879.42419921858\" y=\"375.0\" dominant-baseline=\"middle\" text-anchor=\"middle\" font-size=\"14px\" font-family=\"Arial\">Ry(-0.018π)</text><circle cx=\"32963.99894531233\" cy=\"325.0\" r=\"10.0\" /><rect x=\"32943.99894531233\" y=\"355.0\" width=\"40\" height=\"40\" stroke=\"black\" fill=\"white\" stroke-width=\"1\" /><text x=\"32963.99894531233\" y=\"375.0\" dominant-baseline=\"middle\" text-anchor=\"middle\" font-size=\"18px\" font-family=\"Arial\">X</text><rect x=\"33003.99894531233\" y=\"355.0\" width=\"89.1494921875\" height=\"40\" stroke=\"black\" fill=\"white\" stroke-width=\"1\" /><text x=\"33048.573691406076\" y=\"375.0\" dominant-baseline=\"middle\" text-anchor=\"middle\" font-size=\"14px\" font-family=\"Arial\">Ry(-0.015π)</text><circle cx=\"33133.148437499825\" cy=\"275.0\" r=\"10.0\" /><rect x=\"33113.148437499825\" y=\"355.0\" width=\"40\" height=\"40\" stroke=\"black\" fill=\"white\" stroke-width=\"1\" /><text x=\"33133.148437499825\" y=\"375.0\" dominant-baseline=\"middle\" text-anchor=\"middle\" font-size=\"18px\" font-family=\"Arial\">X</text><rect x=\"33173.148437499825\" y=\"355.0\" width=\"84.097734375\" height=\"40\" stroke=\"black\" fill=\"white\" stroke-width=\"1\" /><text x=\"33215.197304687325\" y=\"375.0\" dominant-baseline=\"middle\" text-anchor=\"middle\" font-size=\"14px\" font-family=\"Arial\">Ry(0.012π)</text><circle cx=\"33297.24617187482\" cy=\"325.0\" r=\"10.0\" /><rect x=\"33277.24617187482\" y=\"355.0\" width=\"40\" height=\"40\" stroke=\"black\" fill=\"white\" stroke-width=\"1\" /><text x=\"33297.24617187482\" y=\"375.0\" dominant-baseline=\"middle\" text-anchor=\"middle\" font-size=\"18px\" font-family=\"Arial\">X</text><rect x=\"33337.24617187482\" y=\"355.0\" width=\"84.097734375\" height=\"40\" stroke=\"black\" fill=\"white\" stroke-width=\"1\" /><text x=\"33379.29503906232\" y=\"375.0\" dominant-baseline=\"middle\" text-anchor=\"middle\" font-size=\"14px\" font-family=\"Arial\">Ry(0.018π)</text><circle cx=\"33461.34390624982\" cy=\"125.0\" r=\"10.0\" /><rect x=\"33441.34390624982\" y=\"355.0\" width=\"40\" height=\"40\" stroke=\"black\" fill=\"white\" stroke-width=\"1\" /><text x=\"33461.34390624982\" y=\"375.0\" dominant-baseline=\"middle\" text-anchor=\"middle\" font-size=\"18px\" font-family=\"Arial\">X</text><rect x=\"33501.34390624982\" y=\"355.0\" width=\"89.1494921875\" height=\"40\" stroke=\"black\" fill=\"white\" stroke-width=\"1\" /><text x=\"33545.91865234357\" y=\"375.0\" dominant-baseline=\"middle\" text-anchor=\"middle\" font-size=\"14px\" font-family=\"Arial\">Ry(-0.001π)</text><circle cx=\"33630.49339843732\" cy=\"325.0\" r=\"10.0\" /><rect x=\"33610.49339843732\" y=\"355.0\" width=\"40\" height=\"40\" stroke=\"black\" fill=\"white\" stroke-width=\"1\" /><text x=\"33630.49339843732\" y=\"375.0\" dominant-baseline=\"middle\" text-anchor=\"middle\" font-size=\"18px\" font-family=\"Arial\">X</text><rect x=\"33670.49339843732\" y=\"355.0\" width=\"84.097734375\" height=\"40\" stroke=\"black\" fill=\"white\" stroke-width=\"1\" /><text x=\"33712.54226562482\" y=\"375.0\" dominant-baseline=\"middle\" text-anchor=\"middle\" font-size=\"14px\" font-family=\"Arial\">Ry(0.006π)</text><circle cx=\"33794.59113281232\" cy=\"275.0\" r=\"10.0\" /><rect x=\"33774.59113281232\" y=\"355.0\" width=\"40\" height=\"40\" stroke=\"black\" fill=\"white\" stroke-width=\"1\" /><text x=\"33794.59113281232\" y=\"375.0\" dominant-baseline=\"middle\" text-anchor=\"middle\" font-size=\"18px\" font-family=\"Arial\">X</text><rect x=\"33834.59113281232\" y=\"355.0\" width=\"84.097734375\" height=\"40\" stroke=\"black\" fill=\"white\" stroke-width=\"1\" /><text x=\"33876.63999999982\" y=\"375.0\" dominant-baseline=\"middle\" text-anchor=\"middle\" font-size=\"14px\" font-family=\"Arial\">Ry(0.007π)</text><circle cx=\"33958.68886718732\" cy=\"325.0\" r=\"10.0\" /><rect x=\"33938.68886718732\" y=\"355.0\" width=\"40\" height=\"40\" stroke=\"black\" fill=\"white\" stroke-width=\"1\" /><text x=\"33958.68886718732\" y=\"375.0\" dominant-baseline=\"middle\" text-anchor=\"middle\" font-size=\"18px\" font-family=\"Arial\">X</text><rect x=\"33998.68886718732\" y=\"355.0\" width=\"89.1494921875\" height=\"40\" stroke=\"black\" fill=\"white\" stroke-width=\"1\" /><text x=\"34043.263613281066\" y=\"375.0\" dominant-baseline=\"middle\" text-anchor=\"middle\" font-size=\"14px\" font-family=\"Arial\">Ry(-0.002π)</text><circle cx=\"34127.838359374815\" cy=\"225.0\" r=\"10.0\" /><rect x=\"34107.838359374815\" y=\"355.0\" width=\"40\" height=\"40\" stroke=\"black\" fill=\"white\" stroke-width=\"1\" /><text x=\"34127.838359374815\" y=\"375.0\" dominant-baseline=\"middle\" text-anchor=\"middle\" font-size=\"18px\" font-family=\"Arial\">X</text><rect x=\"34167.838359374815\" y=\"355.0\" width=\"84.097734375\" height=\"40\" stroke=\"black\" fill=\"white\" stroke-width=\"1\" /><text x=\"34209.887226562314\" y=\"375.0\" dominant-baseline=\"middle\" text-anchor=\"middle\" font-size=\"14px\" font-family=\"Arial\">Ry(0.001π)</text><circle cx=\"34291.93609374981\" cy=\"325.0\" r=\"10.0\" /><rect x=\"34271.93609374981\" y=\"355.0\" width=\"40\" height=\"40\" stroke=\"black\" fill=\"white\" stroke-width=\"1\" /><text x=\"34291.93609374981\" y=\"375.0\" dominant-baseline=\"middle\" text-anchor=\"middle\" font-size=\"18px\" font-family=\"Arial\">X</text><rect x=\"34331.93609374981\" y=\"355.0\" width=\"89.1494921875\" height=\"40\" stroke=\"black\" fill=\"white\" stroke-width=\"1\" /><text x=\"34376.51083984356\" y=\"375.0\" dominant-baseline=\"middle\" text-anchor=\"middle\" font-size=\"14px\" font-family=\"Arial\">Ry(-0.006π)</text><circle cx=\"34461.08558593731\" cy=\"275.0\" r=\"10.0\" /><rect x=\"34441.08558593731\" y=\"355.0\" width=\"40\" height=\"40\" stroke=\"black\" fill=\"white\" stroke-width=\"1\" /><text x=\"34461.08558593731\" y=\"375.0\" dominant-baseline=\"middle\" text-anchor=\"middle\" font-size=\"18px\" font-family=\"Arial\">X</text><rect x=\"34501.08558593731\" y=\"355.0\" width=\"89.1494921875\" height=\"40\" stroke=\"black\" fill=\"white\" stroke-width=\"1\" /><text x=\"34545.66033203106\" y=\"375.0\" dominant-baseline=\"middle\" text-anchor=\"middle\" font-size=\"14px\" font-family=\"Arial\">Ry(-0.007π)</text><circle cx=\"34630.23507812481\" cy=\"325.0\" r=\"10.0\" /><rect x=\"34610.23507812481\" y=\"355.0\" width=\"40\" height=\"40\" stroke=\"black\" fill=\"white\" stroke-width=\"1\" /><text x=\"34630.23507812481\" y=\"375.0\" dominant-baseline=\"middle\" text-anchor=\"middle\" font-size=\"18px\" font-family=\"Arial\">X</text><rect x=\"34670.23507812481\" y=\"355.0\" width=\"84.097734375\" height=\"40\" stroke=\"black\" fill=\"white\" stroke-width=\"1\" /><text x=\"34712.28394531231\" y=\"375.0\" dominant-baseline=\"middle\" text-anchor=\"middle\" font-size=\"14px\" font-family=\"Arial\">Ry(0.002π)</text><circle cx=\"34794.33281249981\" cy=\"175.0\" r=\"10.0\" /><rect x=\"34774.33281249981\" y=\"355.0\" width=\"40\" height=\"40\" stroke=\"black\" fill=\"white\" stroke-width=\"1\" /><text x=\"34794.33281249981\" y=\"375.0\" dominant-baseline=\"middle\" text-anchor=\"middle\" font-size=\"18px\" font-family=\"Arial\">X</text><rect x=\"34834.33281249981\" y=\"355.0\" width=\"84.097734375\" height=\"40\" stroke=\"black\" fill=\"white\" stroke-width=\"1\" /><text x=\"34876.38167968731\" y=\"375.0\" dominant-baseline=\"middle\" text-anchor=\"middle\" font-size=\"14px\" font-family=\"Arial\">Ry(0.002π)</text><circle cx=\"34958.430546874806\" cy=\"325.0\" r=\"10.0\" /><rect x=\"34938.430546874806\" y=\"355.0\" width=\"40\" height=\"40\" stroke=\"black\" fill=\"white\" stroke-width=\"1\" /><text x=\"34958.430546874806\" y=\"375.0\" dominant-baseline=\"middle\" text-anchor=\"middle\" font-size=\"18px\" font-family=\"Arial\">X</text><rect x=\"34998.430546874806\" y=\"355.0\" width=\"89.1494921875\" height=\"40\" stroke=\"black\" fill=\"white\" stroke-width=\"1\" /><text x=\"35043.005292968555\" y=\"375.0\" dominant-baseline=\"middle\" text-anchor=\"middle\" font-size=\"14px\" font-family=\"Arial\">Ry(-0.006π)</text><circle cx=\"35127.580039062304\" cy=\"275.0\" r=\"10.0\" /><rect x=\"35107.580039062304\" y=\"355.0\" width=\"40\" height=\"40\" stroke=\"black\" fill=\"white\" stroke-width=\"1\" /><text x=\"35127.580039062304\" y=\"375.0\" dominant-baseline=\"middle\" text-anchor=\"middle\" font-size=\"18px\" font-family=\"Arial\">X</text><rect x=\"35167.580039062304\" y=\"355.0\" width=\"89.1494921875\" height=\"40\" stroke=\"black\" fill=\"white\" stroke-width=\"1\" /><text x=\"35212.15478515605\" y=\"375.0\" dominant-baseline=\"middle\" text-anchor=\"middle\" font-size=\"14px\" font-family=\"Arial\">Ry(-0.044π)</text><circle cx=\"35296.7295312498\" cy=\"325.0\" r=\"10.0\" /><rect x=\"35276.7295312498\" y=\"355.0\" width=\"40\" height=\"40\" stroke=\"black\" fill=\"white\" stroke-width=\"1\" /><text x=\"35296.7295312498\" y=\"375.0\" dominant-baseline=\"middle\" text-anchor=\"middle\" font-size=\"18px\" font-family=\"Arial\">X</text><rect x=\"35336.7295312498\" y=\"355.0\" width=\"89.1494921875\" height=\"40\" stroke=\"black\" fill=\"white\" stroke-width=\"1\" /><text x=\"35381.30427734355\" y=\"375.0\" dominant-baseline=\"middle\" text-anchor=\"middle\" font-size=\"14px\" font-family=\"Arial\">Ry(-0.022π)</text><circle cx=\"35465.8790234373\" cy=\"225.0\" r=\"10.0\" /><rect x=\"35445.8790234373\" y=\"355.0\" width=\"40\" height=\"40\" stroke=\"black\" fill=\"white\" stroke-width=\"1\" /><text x=\"35465.8790234373\" y=\"375.0\" dominant-baseline=\"middle\" text-anchor=\"middle\" font-size=\"18px\" font-family=\"Arial\">X</text><rect x=\"35505.8790234373\" y=\"355.0\" width=\"89.1494921875\" height=\"40\" stroke=\"black\" fill=\"white\" stroke-width=\"1\" /><text x=\"35550.45376953105\" y=\"375.0\" dominant-baseline=\"middle\" text-anchor=\"middle\" font-size=\"14px\" font-family=\"Arial\">Ry(-0.002π)</text><circle cx=\"35635.0285156248\" cy=\"325.0\" r=\"10.0\" /><rect x=\"35615.0285156248\" y=\"355.0\" width=\"40\" height=\"40\" stroke=\"black\" fill=\"white\" stroke-width=\"1\" /><text x=\"35635.0285156248\" y=\"375.0\" dominant-baseline=\"middle\" text-anchor=\"middle\" font-size=\"18px\" font-family=\"Arial\">X</text><rect x=\"35675.0285156248\" y=\"355.0\" width=\"84.097734375\" height=\"40\" stroke=\"black\" fill=\"white\" stroke-width=\"1\" /><text x=\"35717.0773828123\" y=\"375.0\" dominant-baseline=\"middle\" text-anchor=\"middle\" font-size=\"14px\" font-family=\"Arial\">Ry(0.006π)</text><circle cx=\"35799.1262499998\" cy=\"275.0\" r=\"10.0\" /><rect x=\"35779.1262499998\" y=\"355.0\" width=\"40\" height=\"40\" stroke=\"black\" fill=\"white\" stroke-width=\"1\" /><text x=\"35799.1262499998\" y=\"375.0\" dominant-baseline=\"middle\" text-anchor=\"middle\" font-size=\"18px\" font-family=\"Arial\">X</text><rect x=\"35839.1262499998\" y=\"355.0\" width=\"84.097734375\" height=\"40\" stroke=\"black\" fill=\"white\" stroke-width=\"1\" /><text x=\"35881.1751171873\" y=\"375.0\" dominant-baseline=\"middle\" text-anchor=\"middle\" font-size=\"14px\" font-family=\"Arial\">Ry(0.044π)</text><circle cx=\"35963.223984374796\" cy=\"325.0\" r=\"10.0\" /><rect x=\"35943.223984374796\" y=\"355.0\" width=\"40\" height=\"40\" stroke=\"black\" fill=\"white\" stroke-width=\"1\" /><text x=\"35963.223984374796\" y=\"375.0\" dominant-baseline=\"middle\" text-anchor=\"middle\" font-size=\"18px\" font-family=\"Arial\">X</text><rect x=\"36003.223984374796\" y=\"355.0\" width=\"84.097734375\" height=\"40\" stroke=\"black\" fill=\"white\" stroke-width=\"1\" /><text x=\"36045.272851562295\" y=\"375.0\" dominant-baseline=\"middle\" text-anchor=\"middle\" font-size=\"14px\" font-family=\"Arial\">Ry(0.022π)</text><circle cx=\"36127.321718749794\" cy=\"75.0\" r=\"10.0\" /><rect x=\"36107.321718749794\" y=\"355.0\" width=\"40\" height=\"40\" stroke=\"black\" fill=\"white\" stroke-width=\"1\" /><text x=\"36127.321718749794\" y=\"375.0\" dominant-baseline=\"middle\" text-anchor=\"middle\" font-size=\"18px\" font-family=\"Arial\">X</text><rect x=\"36167.321718749794\" y=\"355.0\" width=\"80.242265625\" height=\"40\" stroke=\"black\" fill=\"white\" stroke-width=\"1\" /><text x=\"36207.44285156229\" y=\"375.0\" dominant-baseline=\"middle\" text-anchor=\"middle\" font-size=\"14px\" font-family=\"Arial\">Ry(-0.03π)</text><circle cx=\"36287.56398437479\" cy=\"325.0\" r=\"10.0\" /><rect x=\"36267.56398437479\" y=\"355.0\" width=\"40\" height=\"40\" stroke=\"black\" fill=\"white\" stroke-width=\"1\" /><text x=\"36287.56398437479\" y=\"375.0\" dominant-baseline=\"middle\" text-anchor=\"middle\" font-size=\"18px\" font-family=\"Arial\">X</text><rect x=\"36327.56398437479\" y=\"355.0\" width=\"89.1494921875\" height=\"40\" stroke=\"black\" fill=\"white\" stroke-width=\"1\" /><text x=\"36372.13873046854\" y=\"375.0\" dominant-baseline=\"middle\" text-anchor=\"middle\" font-size=\"14px\" font-family=\"Arial\">Ry(-0.006π)</text><circle cx=\"36456.71347656229\" cy=\"275.0\" r=\"10.0\" /><rect x=\"36436.71347656229\" y=\"355.0\" width=\"40\" height=\"40\" stroke=\"black\" fill=\"white\" stroke-width=\"1\" /><text x=\"36456.71347656229\" y=\"375.0\" dominant-baseline=\"middle\" text-anchor=\"middle\" font-size=\"18px\" font-family=\"Arial\">X</text><rect x=\"36496.71347656229\" y=\"355.0\" width=\"84.097734375\" height=\"40\" stroke=\"black\" fill=\"white\" stroke-width=\"1\" /><text x=\"36538.76234374979\" y=\"375.0\" dominant-baseline=\"middle\" text-anchor=\"middle\" font-size=\"14px\" font-family=\"Arial\">Ry(0.026π)</text><circle cx=\"36620.81121093729\" cy=\"325.0\" r=\"10.0\" /><rect x=\"36600.81121093729\" y=\"355.0\" width=\"40\" height=\"40\" stroke=\"black\" fill=\"white\" stroke-width=\"1\" /><text x=\"36620.81121093729\" y=\"375.0\" dominant-baseline=\"middle\" text-anchor=\"middle\" font-size=\"18px\" font-family=\"Arial\">X</text><rect x=\"36660.81121093729\" y=\"355.0\" width=\"44.4971484375\" height=\"40\" stroke=\"black\" fill=\"white\" stroke-width=\"1\" /><text x=\"36683.05978515604\" y=\"375.0\" dominant-baseline=\"middle\" text-anchor=\"middle\" font-size=\"14px\" font-family=\"Arial\">Ry(0)</text><circle cx=\"36745.30835937479\" cy=\"225.0\" r=\"10.0\" /><rect x=\"36725.30835937479\" y=\"355.0\" width=\"40\" height=\"40\" stroke=\"black\" fill=\"white\" stroke-width=\"1\" /><text x=\"36745.30835937479\" y=\"375.0\" dominant-baseline=\"middle\" text-anchor=\"middle\" font-size=\"18px\" font-family=\"Arial\">X</text><rect x=\"36785.30835937479\" y=\"355.0\" width=\"75.1905078125\" height=\"40\" stroke=\"black\" fill=\"white\" stroke-width=\"1\" /><text x=\"36822.903613281036\" y=\"375.0\" dominant-baseline=\"middle\" text-anchor=\"middle\" font-size=\"14px\" font-family=\"Arial\">Ry(0.03π)</text><circle cx=\"36900.498867187285\" cy=\"325.0\" r=\"10.0\" /><rect x=\"36880.498867187285\" y=\"355.0\" width=\"40\" height=\"40\" stroke=\"black\" fill=\"white\" stroke-width=\"1\" /><text x=\"36900.498867187285\" y=\"375.0\" dominant-baseline=\"middle\" text-anchor=\"middle\" font-size=\"18px\" font-family=\"Arial\">X</text><rect x=\"36940.498867187285\" y=\"355.0\" width=\"84.097734375\" height=\"40\" stroke=\"black\" fill=\"white\" stroke-width=\"1\" /><text x=\"36982.547734374784\" y=\"375.0\" dominant-baseline=\"middle\" text-anchor=\"middle\" font-size=\"14px\" font-family=\"Arial\">Ry(0.006π)</text><circle cx=\"37064.59660156228\" cy=\"275.0\" r=\"10.0\" /><rect x=\"37044.59660156228\" y=\"355.0\" width=\"40\" height=\"40\" stroke=\"black\" fill=\"white\" stroke-width=\"1\" /><text x=\"37064.59660156228\" y=\"375.0\" dominant-baseline=\"middle\" text-anchor=\"middle\" font-size=\"18px\" font-family=\"Arial\">X</text><rect x=\"37104.59660156228\" y=\"355.0\" width=\"89.1494921875\" height=\"40\" stroke=\"black\" fill=\"white\" stroke-width=\"1\" /><text x=\"37149.17134765603\" y=\"375.0\" dominant-baseline=\"middle\" text-anchor=\"middle\" font-size=\"14px\" font-family=\"Arial\">Ry(-0.026π)</text><circle cx=\"37233.74609374978\" cy=\"325.0\" r=\"10.0\" /><rect x=\"37213.74609374978\" y=\"355.0\" width=\"40\" height=\"40\" stroke=\"black\" fill=\"white\" stroke-width=\"1\" /><text x=\"37233.74609374978\" y=\"375.0\" dominant-baseline=\"middle\" text-anchor=\"middle\" font-size=\"18px\" font-family=\"Arial\">X</text><rect x=\"37273.74609374978\" y=\"355.0\" width=\"44.4971484375\" height=\"40\" stroke=\"black\" fill=\"white\" stroke-width=\"1\" /><text x=\"37295.99466796853\" y=\"375.0\" dominant-baseline=\"middle\" text-anchor=\"middle\" font-size=\"14px\" font-family=\"Arial\">Ry(0)</text><circle cx=\"37358.24324218728\" cy=\"175.0\" r=\"10.0\" /><rect x=\"37338.24324218728\" y=\"355.0\" width=\"40\" height=\"40\" stroke=\"black\" fill=\"white\" stroke-width=\"1\" /><text x=\"37358.24324218728\" y=\"375.0\" dominant-baseline=\"middle\" text-anchor=\"middle\" font-size=\"18px\" font-family=\"Arial\">X</text><rect x=\"37398.24324218728\" y=\"355.0\" width=\"89.1494921875\" height=\"40\" stroke=\"black\" fill=\"white\" stroke-width=\"1\" /><text x=\"37442.81798828103\" y=\"375.0\" dominant-baseline=\"middle\" text-anchor=\"middle\" font-size=\"14px\" font-family=\"Arial\">Ry(-0.007π)</text><circle cx=\"37527.39273437478\" cy=\"325.0\" r=\"10.0\" /><rect x=\"37507.39273437478\" y=\"355.0\" width=\"40\" height=\"40\" stroke=\"black\" fill=\"white\" stroke-width=\"1\" /><text x=\"37527.39273437478\" y=\"375.0\" dominant-baseline=\"middle\" text-anchor=\"middle\" font-size=\"18px\" font-family=\"Arial\">X</text><rect x=\"37567.39273437478\" y=\"355.0\" width=\"84.097734375\" height=\"40\" stroke=\"black\" fill=\"white\" stroke-width=\"1\" /><text x=\"37609.44160156228\" y=\"375.0\" dominant-baseline=\"middle\" text-anchor=\"middle\" font-size=\"14px\" font-family=\"Arial\">Ry(0.016π)</text><circle cx=\"37691.49046874978\" cy=\"275.0\" r=\"10.0\" /><rect x=\"37671.49046874978\" y=\"355.0\" width=\"40\" height=\"40\" stroke=\"black\" fill=\"white\" stroke-width=\"1\" /><text x=\"37691.49046874978\" y=\"375.0\" dominant-baseline=\"middle\" text-anchor=\"middle\" font-size=\"18px\" font-family=\"Arial\">X</text><rect x=\"37731.49046874978\" y=\"355.0\" width=\"89.1494921875\" height=\"40\" stroke=\"black\" fill=\"white\" stroke-width=\"1\" /><text x=\"37776.065214843526\" y=\"375.0\" dominant-baseline=\"middle\" text-anchor=\"middle\" font-size=\"14px\" font-family=\"Arial\">Ry(-0.005π)</text><circle cx=\"37860.639960937275\" cy=\"325.0\" r=\"10.0\" /><rect x=\"37840.639960937275\" y=\"355.0\" width=\"40\" height=\"40\" stroke=\"black\" fill=\"white\" stroke-width=\"1\" /><text x=\"37860.639960937275\" y=\"375.0\" dominant-baseline=\"middle\" text-anchor=\"middle\" font-size=\"18px\" font-family=\"Arial\">X</text><rect x=\"37900.639960937275\" y=\"355.0\" width=\"84.097734375\" height=\"40\" stroke=\"black\" fill=\"white\" stroke-width=\"1\" /><text x=\"37942.688828124774\" y=\"375.0\" dominant-baseline=\"middle\" text-anchor=\"middle\" font-size=\"14px\" font-family=\"Arial\">Ry(0.015π)</text><circle cx=\"38024.73769531227\" cy=\"225.0\" r=\"10.0\" /><rect x=\"38004.73769531227\" y=\"355.0\" width=\"40\" height=\"40\" stroke=\"black\" fill=\"white\" stroke-width=\"1\" /><text x=\"38024.73769531227\" y=\"375.0\" dominant-baseline=\"middle\" text-anchor=\"middle\" font-size=\"18px\" font-family=\"Arial\">X</text><rect x=\"38064.73769531227\" y=\"355.0\" width=\"84.097734375\" height=\"40\" stroke=\"black\" fill=\"white\" stroke-width=\"1\" /><text x=\"38106.78656249977\" y=\"375.0\" dominant-baseline=\"middle\" text-anchor=\"middle\" font-size=\"14px\" font-family=\"Arial\">Ry(0.007π)</text><circle cx=\"38188.83542968727\" cy=\"325.0\" r=\"10.0\" /><rect x=\"38168.83542968727\" y=\"355.0\" width=\"40\" height=\"40\" stroke=\"black\" fill=\"white\" stroke-width=\"1\" /><text x=\"38188.83542968727\" y=\"375.0\" dominant-baseline=\"middle\" text-anchor=\"middle\" font-size=\"18px\" font-family=\"Arial\">X</text><rect x=\"38228.83542968727\" y=\"355.0\" width=\"89.1494921875\" height=\"40\" stroke=\"black\" fill=\"white\" stroke-width=\"1\" /><text x=\"38273.41017578102\" y=\"375.0\" dominant-baseline=\"middle\" text-anchor=\"middle\" font-size=\"14px\" font-family=\"Arial\">Ry(-0.016π)</text><circle cx=\"38357.98492187477\" cy=\"275.0\" r=\"10.0\" /><rect x=\"38337.98492187477\" y=\"355.0\" width=\"40\" height=\"40\" stroke=\"black\" fill=\"white\" stroke-width=\"1\" /><text x=\"38357.98492187477\" y=\"375.0\" dominant-baseline=\"middle\" text-anchor=\"middle\" font-size=\"18px\" font-family=\"Arial\">X</text><rect x=\"38397.98492187477\" y=\"355.0\" width=\"84.097734375\" height=\"40\" stroke=\"black\" fill=\"white\" stroke-width=\"1\" /><text x=\"38440.03378906227\" y=\"375.0\" dominant-baseline=\"middle\" text-anchor=\"middle\" font-size=\"14px\" font-family=\"Arial\">Ry(0.005π)</text><circle cx=\"38522.08265624977\" cy=\"325.0\" r=\"10.0\" /><rect x=\"38502.08265624977\" y=\"355.0\" width=\"40\" height=\"40\" stroke=\"black\" fill=\"white\" stroke-width=\"1\" /><text x=\"38522.08265624977\" y=\"375.0\" dominant-baseline=\"middle\" text-anchor=\"middle\" font-size=\"18px\" font-family=\"Arial\">X</text><rect x=\"38562.08265624977\" y=\"355.0\" width=\"89.1494921875\" height=\"40\" stroke=\"black\" fill=\"white\" stroke-width=\"1\" /><text x=\"38606.65740234352\" y=\"375.0\" dominant-baseline=\"middle\" text-anchor=\"middle\" font-size=\"14px\" font-family=\"Arial\">Ry(-0.015π)</text><circle cx=\"38691.232148437266\" cy=\"125.0\" r=\"10.0\" /><rect x=\"38671.232148437266\" y=\"355.0\" width=\"40\" height=\"40\" stroke=\"black\" fill=\"white\" stroke-width=\"1\" /><text x=\"38691.232148437266\" y=\"375.0\" dominant-baseline=\"middle\" text-anchor=\"middle\" font-size=\"18px\" font-family=\"Arial\">X</text><rect x=\"38731.232148437266\" y=\"355.0\" width=\"89.1494921875\" height=\"40\" stroke=\"black\" fill=\"white\" stroke-width=\"1\" /><text x=\"38775.806894531015\" y=\"375.0\" dominant-baseline=\"middle\" text-anchor=\"middle\" font-size=\"14px\" font-family=\"Arial\">Ry(-0.019π)</text><circle cx=\"38860.381640624764\" cy=\"325.0\" r=\"10.0\" /><rect x=\"38840.381640624764\" y=\"355.0\" width=\"40\" height=\"40\" stroke=\"black\" fill=\"white\" stroke-width=\"1\" /><text x=\"38860.381640624764\" y=\"375.0\" dominant-baseline=\"middle\" text-anchor=\"middle\" font-size=\"18px\" font-family=\"Arial\">X</text><rect x=\"38900.381640624764\" y=\"355.0\" width=\"44.4971484375\" height=\"40\" stroke=\"black\" fill=\"white\" stroke-width=\"1\" /><text x=\"38922.63021484351\" y=\"375.0\" dominant-baseline=\"middle\" text-anchor=\"middle\" font-size=\"14px\" font-family=\"Arial\">Ry(0)</text><circle cx=\"38984.87878906226\" cy=\"275.0\" r=\"10.0\" /><rect x=\"38964.87878906226\" y=\"355.0\" width=\"40\" height=\"40\" stroke=\"black\" fill=\"white\" stroke-width=\"1\" /><text x=\"38984.87878906226\" y=\"375.0\" dominant-baseline=\"middle\" text-anchor=\"middle\" font-size=\"18px\" font-family=\"Arial\">X</text><rect x=\"39024.87878906226\" y=\"355.0\" width=\"84.097734375\" height=\"40\" stroke=\"black\" fill=\"white\" stroke-width=\"1\" /><text x=\"39066.92765624976\" y=\"375.0\" dominant-baseline=\"middle\" text-anchor=\"middle\" font-size=\"14px\" font-family=\"Arial\">Ry(0.021π)</text><circle cx=\"39148.97652343726\" cy=\"325.0\" r=\"10.0\" /><rect x=\"39128.97652343726\" y=\"355.0\" width=\"40\" height=\"40\" stroke=\"black\" fill=\"white\" stroke-width=\"1\" /><text x=\"39148.97652343726\" y=\"375.0\" dominant-baseline=\"middle\" text-anchor=\"middle\" font-size=\"18px\" font-family=\"Arial\">X</text><rect x=\"39188.97652343726\" y=\"355.0\" width=\"84.097734375\" height=\"40\" stroke=\"black\" fill=\"white\" stroke-width=\"1\" /><text x=\"39231.02539062476\" y=\"375.0\" dominant-baseline=\"middle\" text-anchor=\"middle\" font-size=\"14px\" font-family=\"Arial\">Ry(0.023π)</text><circle cx=\"39313.07425781226\" cy=\"225.0\" r=\"10.0\" /><rect x=\"39293.07425781226\" y=\"355.0\" width=\"40\" height=\"40\" stroke=\"black\" fill=\"white\" stroke-width=\"1\" /><text x=\"39313.07425781226\" y=\"375.0\" dominant-baseline=\"middle\" text-anchor=\"middle\" font-size=\"18px\" font-family=\"Arial\">X</text><rect x=\"39353.07425781226\" y=\"355.0\" width=\"84.097734375\" height=\"40\" stroke=\"black\" fill=\"white\" stroke-width=\"1\" /><text x=\"39395.12312499976\" y=\"375.0\" dominant-baseline=\"middle\" text-anchor=\"middle\" font-size=\"14px\" font-family=\"Arial\">Ry(0.019π)</text><circle cx=\"39477.17199218726\" cy=\"325.0\" r=\"10.0\" /><rect x=\"39457.17199218726\" y=\"355.0\" width=\"40\" height=\"40\" stroke=\"black\" fill=\"white\" stroke-width=\"1\" /><text x=\"39477.17199218726\" y=\"375.0\" dominant-baseline=\"middle\" text-anchor=\"middle\" font-size=\"18px\" font-family=\"Arial\">X</text><rect x=\"39517.17199218726\" y=\"355.0\" width=\"44.4971484375\" height=\"40\" stroke=\"black\" fill=\"white\" stroke-width=\"1\" /><text x=\"39539.42056640601\" y=\"375.0\" dominant-baseline=\"middle\" text-anchor=\"middle\" font-size=\"14px\" font-family=\"Arial\">Ry(0)</text><circle cx=\"39601.669140624756\" cy=\"275.0\" r=\"10.0\" /><rect x=\"39581.669140624756\" y=\"355.0\" width=\"40\" height=\"40\" stroke=\"black\" fill=\"white\" stroke-width=\"1\" /><text x=\"39601.669140624756\" y=\"375.0\" dominant-baseline=\"middle\" text-anchor=\"middle\" font-size=\"18px\" font-family=\"Arial\">X</text><rect x=\"39641.669140624756\" y=\"355.0\" width=\"89.1494921875\" height=\"40\" stroke=\"black\" fill=\"white\" stroke-width=\"1\" /><text x=\"39686.243886718505\" y=\"375.0\" dominant-baseline=\"middle\" text-anchor=\"middle\" font-size=\"14px\" font-family=\"Arial\">Ry(-0.021π)</text><circle cx=\"39770.818632812254\" cy=\"325.0\" r=\"10.0\" /><rect x=\"39750.818632812254\" y=\"355.0\" width=\"40\" height=\"40\" stroke=\"black\" fill=\"white\" stroke-width=\"1\" /><text x=\"39770.818632812254\" y=\"375.0\" dominant-baseline=\"middle\" text-anchor=\"middle\" font-size=\"18px\" font-family=\"Arial\">X</text><rect x=\"39810.818632812254\" y=\"355.0\" width=\"89.1494921875\" height=\"40\" stroke=\"black\" fill=\"white\" stroke-width=\"1\" /><text x=\"39855.393378906\" y=\"375.0\" dominant-baseline=\"middle\" text-anchor=\"middle\" font-size=\"14px\" font-family=\"Arial\">Ry(-0.023π)</text><circle cx=\"39939.96812499975\" cy=\"175.0\" r=\"10.0\" /><rect x=\"39919.96812499975\" y=\"355.0\" width=\"40\" height=\"40\" stroke=\"black\" fill=\"white\" stroke-width=\"1\" /><text x=\"39939.96812499975\" y=\"375.0\" dominant-baseline=\"middle\" text-anchor=\"middle\" font-size=\"18px\" font-family=\"Arial\">X</text><rect x=\"39979.96812499975\" y=\"355.0\" width=\"80.242265625\" height=\"40\" stroke=\"black\" fill=\"white\" stroke-width=\"1\" /><text x=\"40020.08925781225\" y=\"375.0\" dominant-baseline=\"middle\" text-anchor=\"middle\" font-size=\"14px\" font-family=\"Arial\">Ry(-0.01π)</text><circle cx=\"40100.21039062475\" cy=\"325.0\" r=\"10.0\" /><rect x=\"40080.21039062475\" y=\"355.0\" width=\"40\" height=\"40\" stroke=\"black\" fill=\"white\" stroke-width=\"1\" /><text x=\"40100.21039062475\" y=\"375.0\" dominant-baseline=\"middle\" text-anchor=\"middle\" font-size=\"18px\" font-family=\"Arial\">X</text><rect x=\"40140.21039062475\" y=\"355.0\" width=\"89.1494921875\" height=\"40\" stroke=\"black\" fill=\"white\" stroke-width=\"1\" /><text x=\"40184.7851367185\" y=\"375.0\" dominant-baseline=\"middle\" text-anchor=\"middle\" font-size=\"14px\" font-family=\"Arial\">Ry(-0.055π)</text><circle cx=\"40269.35988281225\" cy=\"275.0\" r=\"10.0\" /><rect x=\"40249.35988281225\" y=\"355.0\" width=\"40\" height=\"40\" stroke=\"black\" fill=\"white\" stroke-width=\"1\" /><text x=\"40269.35988281225\" y=\"375.0\" dominant-baseline=\"middle\" text-anchor=\"middle\" font-size=\"18px\" font-family=\"Arial\">X</text><rect x=\"40309.35988281225\" y=\"355.0\" width=\"84.097734375\" height=\"40\" stroke=\"black\" fill=\"white\" stroke-width=\"1\" /><text x=\"40351.40874999975\" y=\"375.0\" dominant-baseline=\"middle\" text-anchor=\"middle\" font-size=\"14px\" font-family=\"Arial\">Ry(0.037π)</text><circle cx=\"40433.45761718725\" cy=\"325.0\" r=\"10.0\" /><rect x=\"40413.45761718725\" y=\"355.0\" width=\"40\" height=\"40\" stroke=\"black\" fill=\"white\" stroke-width=\"1\" /><text x=\"40433.45761718725\" y=\"375.0\" dominant-baseline=\"middle\" text-anchor=\"middle\" font-size=\"18px\" font-family=\"Arial\">X</text><rect x=\"40473.45761718725\" y=\"355.0\" width=\"84.097734375\" height=\"40\" stroke=\"black\" fill=\"white\" stroke-width=\"1\" /><text x=\"40515.506484374746\" y=\"375.0\" dominant-baseline=\"middle\" text-anchor=\"middle\" font-size=\"14px\" font-family=\"Arial\">Ry(0.023π)</text><circle cx=\"40597.555351562245\" cy=\"225.0\" r=\"10.0\" /><rect x=\"40577.555351562245\" y=\"355.0\" width=\"40\" height=\"40\" stroke=\"black\" fill=\"white\" stroke-width=\"1\" /><text x=\"40597.555351562245\" y=\"375.0\" dominant-baseline=\"middle\" text-anchor=\"middle\" font-size=\"18px\" font-family=\"Arial\">X</text><rect x=\"40637.555351562245\" y=\"355.0\" width=\"75.1905078125\" height=\"40\" stroke=\"black\" fill=\"white\" stroke-width=\"1\" /><text x=\"40675.150605468494\" y=\"375.0\" dominant-baseline=\"middle\" text-anchor=\"middle\" font-size=\"14px\" font-family=\"Arial\">Ry(0.01π)</text><circle cx=\"40752.74585937474\" cy=\"325.0\" r=\"10.0\" /><rect x=\"40732.74585937474\" y=\"355.0\" width=\"40\" height=\"40\" stroke=\"black\" fill=\"white\" stroke-width=\"1\" /><text x=\"40752.74585937474\" y=\"375.0\" dominant-baseline=\"middle\" text-anchor=\"middle\" font-size=\"18px\" font-family=\"Arial\">X</text><rect x=\"40792.74585937474\" y=\"355.0\" width=\"84.097734375\" height=\"40\" stroke=\"black\" fill=\"white\" stroke-width=\"1\" /><text x=\"40834.79472656224\" y=\"375.0\" dominant-baseline=\"middle\" text-anchor=\"middle\" font-size=\"14px\" font-family=\"Arial\">Ry(0.055π)</text><circle cx=\"40916.84359374974\" cy=\"275.0\" r=\"10.0\" /><rect x=\"40896.84359374974\" y=\"355.0\" width=\"40\" height=\"40\" stroke=\"black\" fill=\"white\" stroke-width=\"1\" /><text x=\"40916.84359374974\" y=\"375.0\" dominant-baseline=\"middle\" text-anchor=\"middle\" font-size=\"18px\" font-family=\"Arial\">X</text><rect x=\"40956.84359374974\" y=\"355.0\" width=\"89.1494921875\" height=\"40\" stroke=\"black\" fill=\"white\" stroke-width=\"1\" /><text x=\"41001.41833984349\" y=\"375.0\" dominant-baseline=\"middle\" text-anchor=\"middle\" font-size=\"14px\" font-family=\"Arial\">Ry(-0.037π)</text><circle cx=\"41085.99308593724\" cy=\"325.0\" r=\"10.0\" /><rect x=\"41065.99308593724\" y=\"355.0\" width=\"40\" height=\"40\" stroke=\"black\" fill=\"white\" stroke-width=\"1\" /><text x=\"41085.99308593724\" y=\"375.0\" dominant-baseline=\"middle\" text-anchor=\"middle\" font-size=\"18px\" font-family=\"Arial\">X</text><rect x=\"41125.99308593724\" y=\"355.0\" width=\"89.1494921875\" height=\"40\" stroke=\"black\" fill=\"white\" stroke-width=\"1\" /><text x=\"41170.56783203099\" y=\"375.0\" dominant-baseline=\"middle\" text-anchor=\"middle\" font-size=\"14px\" font-family=\"Arial\">Ry(-0.023π)</text><circle cx=\"41255.14257812474\" cy=\"25.0\" r=\"10.0\" /><rect x=\"41235.14257812474\" y=\"355.0\" width=\"40\" height=\"40\" stroke=\"black\" fill=\"white\" stroke-width=\"1\" /><text x=\"41255.14257812474\" y=\"375.0\" dominant-baseline=\"middle\" text-anchor=\"middle\" font-size=\"18px\" font-family=\"Arial\">X</text></svg>"
      ],
      "text/plain": [
       "<cirq.contrib.svg.svg.SVGCircuit at 0x7fc4b544b0a0>"
      ]
     },
     "execution_count": 21,
     "metadata": {},
     "output_type": "execute_result"
    }
   ],
   "source": [
    "SVGCircuit(x_train_circ[0])"
   ]
  },
  {
   "cell_type": "markdown",
   "metadata": {
    "colab_type": "text",
    "id": "AEQMxCcBojhg"
   },
   "source": [
    "Compare this circuit to the indices where the image value exceeds the threshold:"
   ]
  },
  {
   "cell_type": "code",
   "execution_count": 22,
   "metadata": {
    "colab": {},
    "colab_type": "code",
    "id": "TBIsiXdtojhh",
    "tags": []
   },
   "outputs": [
    {
     "data": {
      "text/plain": [
       "array([[2, 1]])"
      ]
     },
     "execution_count": 22,
     "metadata": {},
     "output_type": "execute_result"
    }
   ],
   "source": [
    "bin_img = x_train_bin[0,:,:,0]\n",
    "indices = np.array(np.where(bin_img)).T\n",
    "indices"
   ]
  },
  {
   "cell_type": "markdown",
   "metadata": {
    "colab_type": "text",
    "id": "mWZ24w1Oojhk"
   },
   "source": [
    "Convert these `Cirq` circuits to tensors for `tfq`:"
   ]
  },
  {
   "cell_type": "code",
   "execution_count": 23,
   "metadata": {
    "colab": {},
    "colab_type": "code",
    "id": "IZStEMk4ojhk",
    "tags": []
   },
   "outputs": [],
   "source": [
    "x_train_tfcirc = tfq.convert_to_tensor(x_train_circ)\n",
    "x_test_tfcirc = tfq.convert_to_tensor(x_test_circ)"
   ]
  },
  {
   "cell_type": "markdown",
   "metadata": {
    "colab_type": "text",
    "id": "4USiqeOqGL67"
   },
   "source": [
    "## 2. Quantum neural network\n",
    "\n",
    "There is little guidance for a quantum circuit structure that classifies images. Since the classification is based on the expectation of the readout qubit, <a href=\"https://arxiv.org/pdf/1802.06002.pdf\" class=\"external\">Farhi et al.</a> propose using two qubit gates, with the readout qubit always acted upon. This is similar in some ways to running small a <a href=\"https://arxiv.org/abs/1511.06464\" class=\"external\">Unitary RNN</a> across the pixels."
   ]
  },
  {
   "cell_type": "markdown",
   "metadata": {},
   "source": [
    "Helper functions for Tensorboard.\n",
    "\n",
    "\n",
    "- The integer values of samples, so that you can create histograms of the distribution.\n",
    "- The linear XEB fidelity estimate of a set of samples, to give some indication of how \"truly quantum random\" the samples are.\n"
   ]
  },
  {
   "cell_type": "code",
   "execution_count": 24,
   "metadata": {},
   "outputs": [],
   "source": [
    "@tf.function\n",
    "def bits_to_ints(bits):\n",
    "    \"\"\"Convert tensor of bitstrings to tensor of ints.\"\"\"\n",
    "    sigs = tf.constant([1 << i for i in range(N_QUBITS)], dtype=tf.int32)\n",
    "    rounded_bits = tf.clip_by_value(tf.math.round(\n",
    "        tf.cast(bits, dtype=tf.dtypes.float32)), clip_value_min=0, clip_value_max=1)\n",
    "    return tf.einsum('jk,k->j', tf.cast(rounded_bits, dtype=tf.dtypes.int32), sigs)\n",
    "\n",
    "@tf.function\n",
    "def xeb_fid(bits):\n",
    "    \"\"\"Compute linear XEB fidelity of bitstrings.\"\"\"\n",
    "    final_probs = tf.squeeze(\n",
    "        tf.abs(tfq.layers.State()(REFERENCE_CIRCUIT).to_tensor()) ** 2)\n",
    "    nums = bits_to_ints(bits)\n",
    "    return (2 ** N_QUBITS) * tf.reduce_mean(tf.gather(final_probs, nums)) - 1.0\n"
   ]
  },
  {
   "cell_type": "markdown",
   "metadata": {
    "colab_type": "text",
    "id": "knIzawEeojho"
   },
   "source": [
    "### 2.1 Build the model circuit\n",
    "\n",
    "This following example shows this layered approach. Each layer uses *n* instances of the same gate, with each of the data qubits acting on the readout qubit.\n",
    "\n",
    "Start with a simple class that will add a layer of these gates to a circuit:"
   ]
  },
  {
   "cell_type": "code",
   "execution_count": 59,
   "metadata": {
    "colab": {},
    "colab_type": "code",
    "id": "-hjxxgU5ojho",
    "tags": []
   },
   "outputs": [
    {
     "name": "stdout",
     "output_type": "stream",
     "text": [
      "dict_keys([cirq.X, cirq.XX, cirq.Y, cirq.YY, cirq.Z, cirq.ZZ, cirq.H, cirq.CZ, cirq.CNOT, cirq.SWAP, cirq.ISWAP, cirq.PhasedXPowGate(phase_exponent=0.123), cirq.PhasedISwapPowGate(phase_exponent=0.123), cirq.FSimGate(theta=0.123, phi=0.456), cirq.I])\n",
      "dict_keys([cirq.depolarize(p=0.01), cirq.asymmetric_depolarize(error_probabilities={'I': 0.94, 'X': 0.01, 'Y': 0.02, 'Z': 0.03}), cirq.generalized_amplitude_damp(p=0.01,gamma=0.02), cirq.amplitude_damp(gamma=0.01), cirq.ResetChannel(), cirq.phase_damp(gamma=0.01), cirq.phase_flip(p=0.01), cirq.bit_flip(p=0.01)])\n"
     ]
    }
   ],
   "source": [
    "print(tfq.util.get_supported_gates().keys())\n",
    "print(tfq.util.get_supported_channels().keys())\n",
    "\n",
    "class CircuitLayerBuilder():\n",
    "    def __init__(self, circuit, data_qubits, repeat_dropout=0, overlap_dropout=False):\n",
    "        \n",
    "        self.data_qubits = data_qubits\n",
    "        self.curr_layer_id = 0\n",
    "        self.circuit = circuit\n",
    "        \n",
    "        self.dropped_out_qubit_ids = []\n",
    "        self.dropout_blacklist = []\n",
    "        \n",
    "        self.overlap_dropout = overlap_dropout\n",
    "        \n",
    "        if repeat_dropout < 1:\n",
    "            repeat_dropout = 1\n",
    "        if overlap_dropout:\n",
    "            for _ in range(repeat_dropout - 1):\n",
    "                # We will be dequeing from this on each rebuild;\n",
    "                # so, each qubit will be in the list for repeat_dropout rebuilds.\n",
    "                self.dropped_out_qubit_ids.append(len(self.data_qubits))\n",
    "            self.delay_next_dropout = 1\n",
    "        else:\n",
    "            # if not overlapping, delay for as long as we're repeating\n",
    "            self.delay_next_dropout = repeat_dropout\n",
    "            \n",
    "        self.delay_next_dropout_i = 0 # try to dropout immediately\n",
    "        \n",
    "        # maps str(symbol) to (is_dropped_out, weight)\n",
    "        self.symbol_map = {}\n",
    "        \n",
    "        self.drop_out_applied = False\n",
    "        \n",
    "    def rebuild(self, circuit, data_qubits, computed_weights, preserve_dropout=False):\n",
    "        # prev_weights is the result of get_weights from the prior epoch.\n",
    "        \n",
    "        self.data_qubits = data_qubits\n",
    "        self.curr_layer_id = 0\n",
    "        self.circuit = circuit\n",
    "        \n",
    "        if preserve_dropout:\n",
    "            if self.overlap_dropout and len(self.dropped_out_qubit_ids) > 0 and self.drop_out_applied:\n",
    "                # Dropping first element. This is either padding, or an actual id that we want to stop dropping out from here on.\n",
    "                dropped_id = self.dropped_out_qubit_ids.pop(0)\n",
    "                self.dropout_blacklist.append(dropped_id)\n",
    "        else:\n",
    "            self.dropout_blacklist = []\n",
    "            self.dropped_out_qubit_ids = []\n",
    "        \n",
    "        if self.delay_next_dropout_i > 0:\n",
    "            self.delay_next_dropout_i -= 1\n",
    "        \n",
    "        if self.delay_next_dropout_i == 0 and not self.overlap_dropout:\n",
    "            # Dropout finished for this qubit!\n",
    "            assert len(self.dropped_out_qubit_ids) <= 1\n",
    "            if len(self.dropped_out_qubit_ids) == 1:\n",
    "                self.dropout_blacklist.append(self.dropped_out_qubit_ids[0])\n",
    "            self.dropped_out_qubit_ids = []\n",
    "        \n",
    "        self.drop_out_applied = False\n",
    "        \n",
    "        #print('self.dropped_out_qubit_ids = ')\n",
    "        #print(self.dropped_out_qubit_ids)\n",
    "        \n",
    "        j = 0\n",
    "        \n",
    "        #print('Rebuilding; prev self.symbol_map:')\n",
    "        #print(self.symbol_map)\n",
    "        \n",
    "        for k in sorted(self.symbol_map.keys()):\n",
    "            prev_is_dropped_out, _ = self.symbol_map[k]\n",
    "            if not prev_is_dropped_out:\n",
    "                # Re-use the prev weight. This isn't directly used as TFQ inputs, but we later use it to generate\n",
    "                # sane inputs for set_weights().\n",
    "                # Also, is-dropped-out is True by default to handle the case when a rebuilt circuit might not add a layer for some reason\n",
    "                self.symbol_map[k] = (True, computed_weights[j])\n",
    "\n",
    "                # prev_weights is a list that only has entries for non-dropped-out elems\n",
    "                j += 1\n",
    "                \n",
    "        #print('Rebuilding done; updated self.symbol_map:')\n",
    "        #print(self.symbol_map)\n",
    "    \n",
    "    def add_param_gate(self, gate, symbol, i, qubit):\n",
    "        if str(symbol) in self.symbol_map:\n",
    "            _, weight = self.symbol_map[str(symbol)]\n",
    "        else:\n",
    "            # default value for weight is 0\n",
    "            weight = 0\n",
    "\n",
    "        if i in self.dropped_out_qubit_ids:\n",
    "            print(\"Dropped out qubit id \" + str(i))\n",
    "            self.symbol_map[str(symbol)] = (True, weight)\n",
    "            self.drop_out_applied = True\n",
    "        else:\n",
    "            self.symbol_map[str(symbol)] = (False, weight)\n",
    "            self.circuit.append(gate(symbol)(qubit))\n",
    "    \n",
    "    def add_controlled_param_pow_gate(self, gate, symbol, i, j, qubit1, qubit2):\n",
    "        if str(symbol) in self.symbol_map:\n",
    "            _, weight = self.symbol_map[str(symbol)]\n",
    "        else:\n",
    "            # default value for weight is 0\n",
    "            weight = 0\n",
    "\n",
    "        if i in self.dropped_out_qubit_ids or (j is not None and j in self.dropped_out_qubit_ids):\n",
    "            #print(\"Dropped out qubit id \" + str(i))\n",
    "            self.symbol_map[str(symbol)] = (True, weight)\n",
    "            self.drop_out_applied = True\n",
    "        else:\n",
    "            self.symbol_map[str(symbol)] = (False, weight)\n",
    "            self.circuit.append(gate(qubit1, qubit2)**(symbol))\n",
    "    \n",
    "    def add_layer(self, block=1, apply_dropout=False):\n",
    "        # at most one dropped qubit added per layer\n",
    "        if apply_dropout and self.delay_next_dropout_i == 0:# and self.curr_layer_id > 0:\n",
    "            while True:\n",
    "                rand_id = np.random.randint(1, (len(self.data_qubits)) + 1) # NEVER select qubit 0 since it's readout!\n",
    "                if rand_id >= len(self.data_qubits):\n",
    "                    rand_id = len(self.data_qubits)\n",
    "                # Kinda hacky, blacklist qubits that we dropped out already\n",
    "                if rand_id not in self.dropout_blacklist or rand_id == len(self.data_qubits):\n",
    "                    break\n",
    "            #print('self.dropout_blacklist =')\n",
    "            #print(self.dropout_blacklist)\n",
    "            #print(rand_id)\n",
    "            if rand_id not in self.dropped_out_qubit_ids and rand_id != len(self.data_qubits):\n",
    "                self.dropped_out_qubit_ids.append(rand_id)\n",
    "            if rand_id != len(self.data_qubits):\n",
    "                self.delay_next_dropout_i = self.delay_next_dropout # reset delay if we're actually going to drop out!\n",
    "\n",
    "        for i in range(len(self.data_qubits)):\n",
    "            self.add_param_gate(cirq.rz, sympy.Symbol('s_l'+str(self.curr_layer_id)+'_q'+str(i)+'_block'+str(block)+'_rz0'), i, self.data_qubits[i])\n",
    "        for i in range(len(self.data_qubits)):\n",
    "            self.add_param_gate(cirq.ry, sympy.Symbol('s_l'+str(self.curr_layer_id)+'_q'+str(i)+'_block'+str(block)+'_ry'), i, self.data_qubits[i])\n",
    "        for i in range(len(self.data_qubits)):\n",
    "            self.add_param_gate(cirq.rz, sympy.Symbol('s_l'+str(self.curr_layer_id)+'_q'+str(i)+'_block'+str(block)+'_rz'), i, self.data_qubits[i])\n",
    "\n",
    "        i = None\n",
    "            \n",
    "        target = None\n",
    "        control = None\n",
    "        n = len(self.data_qubits)\n",
    "        for _ in range(int(n/np.gcd(n, block))):\n",
    "            if block > 0 :\n",
    "                if control is None:\n",
    "                    control_idx = 0\n",
    "                    control = self.data_qubits[control_idx]\n",
    "                # determine control\n",
    "                target_idx = (control_idx+len(self.data_qubits)-block)%len(self.data_qubits)\n",
    "                target = self.data_qubits[target_idx]\n",
    "                \n",
    "                symbol = sympy.Symbol('s_l'+str(self.curr_layer_id)+'_q'+str(control_idx)+'_block'+str(block)+'_cz')\n",
    "                if str(symbol) in self.symbol_map:\n",
    "                    _, weight = self.symbol_map[str(symbol)]\n",
    "                else:\n",
    "                    # default value for weight is 0\n",
    "                    weight = 0\n",
    "                \n",
    "                # add gate (as per Schuld, \"B. Optimizing the architecture\")\n",
    "                self.add_controlled_param_pow_gate(cirq.CZ, symbol, control_idx, target_idx, control, target)\n",
    "                self.add_param_gate(cirq.rx, sympy.Symbol('s_l'+str(self.curr_layer_id)+'_q'+str(target_idx)+'_block'+str(block)+'_rx2'), target_idx, target)\n",
    "                control = target\n",
    "                control_idx = target_idx\n",
    "            else:\n",
    "                break # a trimmed circuit doesn't include entanglements\n",
    "\n",
    "        self.curr_layer_id += 1\n",
    "    \n",
    "    def add_final_out(self):\n",
    "        # Add final learnable operation on qubit 0\n",
    "        i = 0\n",
    "        self.add_param_gate(cirq.rz, sympy.Symbol('s_l'+str(self.curr_layer_id)+'_q'+str(i)+'_rz0'), i, self.data_qubits[i])\n",
    "        self.add_param_gate(cirq.ry, sympy.Symbol('s_l'+str(self.curr_layer_id)+'_q'+str(i)+'_ry'), i, self.data_qubits[i])\n",
    "        self.add_param_gate(cirq.rz, sympy.Symbol('s_l'+str(self.curr_layer_id)+'_q'+str(i)+'_rz'), i, self.data_qubits[i])\n",
    "        self.curr_layer_id += 1\n",
    "    \n",
    "    def get_builder_weights(self):\n",
    "        # returns symbol names in sorted order, which should match the order used for PQC (kinda hacky and can potentially break later)\n",
    "        # used as the next input for set_weights()\n",
    "        #\n",
    "        # Order of calls:\n",
    "        # tf.fit();\n",
    "        # builder.rebuild(tf.get_weights());\n",
    "        # add_layer()...;\n",
    "        # tf.set_weights(builder.get_builder_weights());\n",
    "        # tf.fit()\n",
    "        weights_list = []\n",
    "        \n",
    "        for k in sorted(self.symbol_map.keys()):\n",
    "            curr_is_dropout, curr_weight = self.symbol_map[k]\n",
    "            if not curr_is_dropout:\n",
    "                weights_list.append(curr_weight)\n",
    "        \n",
    "        return weights_list"
   ]
  },
  {
   "cell_type": "markdown",
   "metadata": {
    "colab_type": "text",
    "id": "Sjo5hANFojhr"
   },
   "source": [
    "Build an example circuit layer to see how it looks:"
   ]
  },
  {
   "cell_type": "code",
   "execution_count": 26,
   "metadata": {},
   "outputs": [
    {
     "data": {
      "image/svg+xml": [
       "<svg xmlns=\"http://www.w3.org/2000/svg\" width=\"7559.960820312502\" height=\"400.0\"><line x1=\"34.7588671875\" x2=\"7529.960820312502\" y1=\"25.0\" y2=\"25.0\" stroke=\"#1967d2\" stroke-width=\"1\" /><line x1=\"34.7588671875\" x2=\"7529.960820312502\" y1=\"75.0\" y2=\"75.0\" stroke=\"#1967d2\" stroke-width=\"1\" /><line x1=\"34.7588671875\" x2=\"7529.960820312502\" y1=\"125.0\" y2=\"125.0\" stroke=\"#1967d2\" stroke-width=\"1\" /><line x1=\"34.7588671875\" x2=\"7529.960820312502\" y1=\"175.0\" y2=\"175.0\" stroke=\"#1967d2\" stroke-width=\"1\" /><line x1=\"34.7588671875\" x2=\"7529.960820312502\" y1=\"225.0\" y2=\"225.0\" stroke=\"#1967d2\" stroke-width=\"1\" /><line x1=\"34.7588671875\" x2=\"7529.960820312502\" y1=\"275.0\" y2=\"275.0\" stroke=\"#1967d2\" stroke-width=\"1\" /><line x1=\"34.7588671875\" x2=\"7529.960820312502\" y1=\"325.0\" y2=\"325.0\" stroke=\"#1967d2\" stroke-width=\"1\" /><line x1=\"34.7588671875\" x2=\"7529.960820312502\" y1=\"375.0\" y2=\"375.0\" stroke=\"#1967d2\" stroke-width=\"1\" /><line x1=\"711.52177734375\" x2=\"711.52177734375\" y1=\"25.0\" y2=\"375.0\" stroke=\"black\" stroke-width=\"3\" /><line x1=\"1083.5902539062502\" x2=\"1083.5902539062502\" y1=\"325.0\" y2=\"375.0\" stroke=\"black\" stroke-width=\"3\" /><line x1=\"1455.8487695312501\" x2=\"1455.8487695312501\" y1=\"275.0\" y2=\"325.0\" stroke=\"black\" stroke-width=\"3\" /><line x1=\"1828.2973242187502\" x2=\"1828.2973242187502\" y1=\"225.0\" y2=\"275.0\" stroke=\"black\" stroke-width=\"3\" /><line x1=\"2200.7458789062503\" x2=\"2200.7458789062503\" y1=\"175.0\" y2=\"225.0\" stroke=\"black\" stroke-width=\"3\" /><line x1=\"2573.1944335937505\" x2=\"2573.1944335937505\" y1=\"125.0\" y2=\"175.0\" stroke=\"black\" stroke-width=\"3\" /><line x1=\"2945.642988281251\" x2=\"2945.642988281251\" y1=\"75.0\" y2=\"125.0\" stroke=\"black\" stroke-width=\"3\" /><line x1=\"3318.091542968751\" x2=\"3318.091542968751\" y1=\"25.0\" y2=\"75.0\" stroke=\"black\" stroke-width=\"3\" /><line x1=\"4241.759433593752\" x2=\"4241.759433593752\" y1=\"25.0\" y2=\"275.0\" stroke=\"black\" stroke-width=\"3\" /><line x1=\"4613.827910156252\" x2=\"4613.827910156252\" y1=\"125.0\" y2=\"275.0\" stroke=\"black\" stroke-width=\"3\" /><line x1=\"4985.896386718752\" x2=\"4985.896386718752\" y1=\"125.0\" y2=\"375.0\" stroke=\"black\" stroke-width=\"3\" /><line x1=\"5357.964863281252\" x2=\"5357.964863281252\" y1=\"225.0\" y2=\"375.0\" stroke=\"black\" stroke-width=\"3\" /><line x1=\"5730.033339843752\" x2=\"5730.033339843752\" y1=\"75.0\" y2=\"225.0\" stroke=\"black\" stroke-width=\"3\" /><line x1=\"6102.1018164062525\" x2=\"6102.1018164062525\" y1=\"75.0\" y2=\"325.0\" stroke=\"black\" stroke-width=\"3\" /><line x1=\"6474.170292968753\" x2=\"6474.170292968753\" y1=\"175.0\" y2=\"325.0\" stroke=\"black\" stroke-width=\"3\" /><line x1=\"6846.238769531253\" x2=\"6846.238769531253\" y1=\"25.0\" y2=\"175.0\" stroke=\"black\" stroke-width=\"3\" /><rect x=\"10.0\" y=\"5.0\" width=\"49.517734375\" height=\"40\" stroke=\"black\" fill=\"white\" stroke-width=\"0\" /><text x=\"34.7588671875\" y=\"25.0\" dominant-baseline=\"middle\" text-anchor=\"middle\" font-size=\"14px\" font-family=\"Arial\">(0, 0): </text><rect x=\"10.0\" y=\"55.0\" width=\"49.517734375\" height=\"40\" stroke=\"black\" fill=\"white\" stroke-width=\"0\" /><text x=\"34.7588671875\" y=\"75.0\" dominant-baseline=\"middle\" text-anchor=\"middle\" font-size=\"14px\" font-family=\"Arial\">(0, 1): </text><rect x=\"10.0\" y=\"105.0\" width=\"49.517734375\" height=\"40\" stroke=\"black\" fill=\"white\" stroke-width=\"0\" /><text x=\"34.7588671875\" y=\"125.0\" dominant-baseline=\"middle\" text-anchor=\"middle\" font-size=\"14px\" font-family=\"Arial\">(1, 0): </text><rect x=\"10.0\" y=\"155.0\" width=\"49.517734375\" height=\"40\" stroke=\"black\" fill=\"white\" stroke-width=\"0\" /><text x=\"34.7588671875\" y=\"175.0\" dominant-baseline=\"middle\" text-anchor=\"middle\" font-size=\"14px\" font-family=\"Arial\">(1, 1): </text><rect x=\"10.0\" y=\"205.0\" width=\"49.517734375\" height=\"40\" stroke=\"black\" fill=\"white\" stroke-width=\"0\" /><text x=\"34.7588671875\" y=\"225.0\" dominant-baseline=\"middle\" text-anchor=\"middle\" font-size=\"14px\" font-family=\"Arial\">(2, 0): </text><rect x=\"10.0\" y=\"255.0\" width=\"49.517734375\" height=\"40\" stroke=\"black\" fill=\"white\" stroke-width=\"0\" /><text x=\"34.7588671875\" y=\"275.0\" dominant-baseline=\"middle\" text-anchor=\"middle\" font-size=\"14px\" font-family=\"Arial\">(2, 1): </text><rect x=\"10.0\" y=\"305.0\" width=\"49.517734375\" height=\"40\" stroke=\"black\" fill=\"white\" stroke-width=\"0\" /><text x=\"34.7588671875\" y=\"325.0\" dominant-baseline=\"middle\" text-anchor=\"middle\" font-size=\"14px\" font-family=\"Arial\">(3, 0): </text><rect x=\"10.0\" y=\"355.0\" width=\"49.517734375\" height=\"40\" stroke=\"black\" fill=\"white\" stroke-width=\"0\" /><text x=\"34.7588671875\" y=\"375.0\" dominant-baseline=\"middle\" text-anchor=\"middle\" font-size=\"14px\" font-family=\"Arial\">(3, 1): </text><rect x=\"79.51773437499999\" y=\"5.0\" width=\"169.37359375000003\" height=\"40\" stroke=\"black\" fill=\"white\" stroke-width=\"1\" /><text x=\"164.20453125\" y=\"25.0\" dominant-baseline=\"middle\" text-anchor=\"middle\" font-size=\"14px\" font-family=\"Arial\">Rz(s_l0_q0_block1_rz0)</text><rect x=\"79.51773437499999\" y=\"55.0\" width=\"169.37359375000003\" height=\"40\" stroke=\"black\" fill=\"white\" stroke-width=\"1\" /><text x=\"164.20453125\" y=\"75.0\" dominant-baseline=\"middle\" text-anchor=\"middle\" font-size=\"14px\" font-family=\"Arial\">Rz(s_l0_q1_block1_rz0)</text><rect x=\"79.51773437499999\" y=\"105.0\" width=\"169.37359375000003\" height=\"40\" stroke=\"black\" fill=\"white\" stroke-width=\"1\" /><text x=\"164.20453125\" y=\"125.0\" dominant-baseline=\"middle\" text-anchor=\"middle\" font-size=\"14px\" font-family=\"Arial\">Rz(s_l0_q2_block1_rz0)</text><rect x=\"79.51773437499999\" y=\"155.0\" width=\"169.37359375000003\" height=\"40\" stroke=\"black\" fill=\"white\" stroke-width=\"1\" /><text x=\"164.20453125\" y=\"175.0\" dominant-baseline=\"middle\" text-anchor=\"middle\" font-size=\"14px\" font-family=\"Arial\">Rz(s_l0_q3_block1_rz0)</text><rect x=\"79.51773437499999\" y=\"205.0\" width=\"169.37359375000003\" height=\"40\" stroke=\"black\" fill=\"white\" stroke-width=\"1\" /><text x=\"164.20453125\" y=\"225.0\" dominant-baseline=\"middle\" text-anchor=\"middle\" font-size=\"14px\" font-family=\"Arial\">Rz(s_l0_q4_block1_rz0)</text><rect x=\"79.51773437499999\" y=\"255.0\" width=\"169.37359375000003\" height=\"40\" stroke=\"black\" fill=\"white\" stroke-width=\"1\" /><text x=\"164.20453125\" y=\"275.0\" dominant-baseline=\"middle\" text-anchor=\"middle\" font-size=\"14px\" font-family=\"Arial\">Rz(s_l0_q5_block1_rz0)</text><rect x=\"79.51773437499999\" y=\"305.0\" width=\"169.37359375000003\" height=\"40\" stroke=\"black\" fill=\"white\" stroke-width=\"1\" /><text x=\"164.20453125\" y=\"325.0\" dominant-baseline=\"middle\" text-anchor=\"middle\" font-size=\"14px\" font-family=\"Arial\">Rz(s_l0_q6_block1_rz0)</text><rect x=\"79.51773437499999\" y=\"355.0\" width=\"169.37359375000003\" height=\"40\" stroke=\"black\" fill=\"white\" stroke-width=\"1\" /><text x=\"164.20453125\" y=\"375.0\" dominant-baseline=\"middle\" text-anchor=\"middle\" font-size=\"14px\" font-family=\"Arial\">Rz(s_l0_q7_block1_rz0)</text><rect x=\"268.891328125\" y=\"5.0\" width=\"161.56941406250002\" height=\"40\" stroke=\"black\" fill=\"white\" stroke-width=\"1\" /><text x=\"349.67603515625\" y=\"25.0\" dominant-baseline=\"middle\" text-anchor=\"middle\" font-size=\"14px\" font-family=\"Arial\">Ry(s_l0_q0_block1_ry)</text><rect x=\"268.891328125\" y=\"55.0\" width=\"161.56941406250002\" height=\"40\" stroke=\"black\" fill=\"white\" stroke-width=\"1\" /><text x=\"349.67603515625\" y=\"75.0\" dominant-baseline=\"middle\" text-anchor=\"middle\" font-size=\"14px\" font-family=\"Arial\">Ry(s_l0_q1_block1_ry)</text><rect x=\"268.891328125\" y=\"105.0\" width=\"161.56941406250002\" height=\"40\" stroke=\"black\" fill=\"white\" stroke-width=\"1\" /><text x=\"349.67603515625\" y=\"125.0\" dominant-baseline=\"middle\" text-anchor=\"middle\" font-size=\"14px\" font-family=\"Arial\">Ry(s_l0_q2_block1_ry)</text><rect x=\"268.891328125\" y=\"155.0\" width=\"161.56941406250002\" height=\"40\" stroke=\"black\" fill=\"white\" stroke-width=\"1\" /><text x=\"349.67603515625\" y=\"175.0\" dominant-baseline=\"middle\" text-anchor=\"middle\" font-size=\"14px\" font-family=\"Arial\">Ry(s_l0_q3_block1_ry)</text><rect x=\"268.891328125\" y=\"205.0\" width=\"161.56941406250002\" height=\"40\" stroke=\"black\" fill=\"white\" stroke-width=\"1\" /><text x=\"349.67603515625\" y=\"225.0\" dominant-baseline=\"middle\" text-anchor=\"middle\" font-size=\"14px\" font-family=\"Arial\">Ry(s_l0_q4_block1_ry)</text><rect x=\"268.891328125\" y=\"255.0\" width=\"161.56941406250002\" height=\"40\" stroke=\"black\" fill=\"white\" stroke-width=\"1\" /><text x=\"349.67603515625\" y=\"275.0\" dominant-baseline=\"middle\" text-anchor=\"middle\" font-size=\"14px\" font-family=\"Arial\">Ry(s_l0_q5_block1_ry)</text><rect x=\"268.891328125\" y=\"305.0\" width=\"161.56941406250002\" height=\"40\" stroke=\"black\" fill=\"white\" stroke-width=\"1\" /><text x=\"349.67603515625\" y=\"325.0\" dominant-baseline=\"middle\" text-anchor=\"middle\" font-size=\"14px\" font-family=\"Arial\">Ry(s_l0_q6_block1_ry)</text><rect x=\"268.891328125\" y=\"355.0\" width=\"161.56941406250002\" height=\"40\" stroke=\"black\" fill=\"white\" stroke-width=\"1\" /><text x=\"349.67603515625\" y=\"375.0\" dominant-baseline=\"middle\" text-anchor=\"middle\" font-size=\"14px\" font-family=\"Arial\">Ry(s_l0_q7_block1_ry)</text><rect x=\"450.46074218750005\" y=\"5.0\" width=\"160.46636718750003\" height=\"40\" stroke=\"black\" fill=\"white\" stroke-width=\"1\" /><text x=\"530.6939257812501\" y=\"25.0\" dominant-baseline=\"middle\" text-anchor=\"middle\" font-size=\"14px\" font-family=\"Arial\">Rz(s_l0_q0_block1_rz)</text><rect x=\"450.46074218750005\" y=\"55.0\" width=\"160.46636718750003\" height=\"40\" stroke=\"black\" fill=\"white\" stroke-width=\"1\" /><text x=\"530.6939257812501\" y=\"75.0\" dominant-baseline=\"middle\" text-anchor=\"middle\" font-size=\"14px\" font-family=\"Arial\">Rz(s_l0_q1_block1_rz)</text><rect x=\"450.46074218750005\" y=\"105.0\" width=\"160.46636718750003\" height=\"40\" stroke=\"black\" fill=\"white\" stroke-width=\"1\" /><text x=\"530.6939257812501\" y=\"125.0\" dominant-baseline=\"middle\" text-anchor=\"middle\" font-size=\"14px\" font-family=\"Arial\">Rz(s_l0_q2_block1_rz)</text><rect x=\"450.46074218750005\" y=\"155.0\" width=\"160.46636718750003\" height=\"40\" stroke=\"black\" fill=\"white\" stroke-width=\"1\" /><text x=\"530.6939257812501\" y=\"175.0\" dominant-baseline=\"middle\" text-anchor=\"middle\" font-size=\"14px\" font-family=\"Arial\">Rz(s_l0_q3_block1_rz)</text><rect x=\"450.46074218750005\" y=\"205.0\" width=\"160.46636718750003\" height=\"40\" stroke=\"black\" fill=\"white\" stroke-width=\"1\" /><text x=\"530.6939257812501\" y=\"225.0\" dominant-baseline=\"middle\" text-anchor=\"middle\" font-size=\"14px\" font-family=\"Arial\">Rz(s_l0_q4_block1_rz)</text><rect x=\"450.46074218750005\" y=\"255.0\" width=\"160.46636718750003\" height=\"40\" stroke=\"black\" fill=\"white\" stroke-width=\"1\" /><text x=\"530.6939257812501\" y=\"275.0\" dominant-baseline=\"middle\" text-anchor=\"middle\" font-size=\"14px\" font-family=\"Arial\">Rz(s_l0_q5_block1_rz)</text><rect x=\"450.46074218750005\" y=\"305.0\" width=\"160.46636718750003\" height=\"40\" stroke=\"black\" fill=\"white\" stroke-width=\"1\" /><text x=\"530.6939257812501\" y=\"325.0\" dominant-baseline=\"middle\" text-anchor=\"middle\" font-size=\"14px\" font-family=\"Arial\">Rz(s_l0_q6_block1_rz)</text><rect x=\"450.46074218750005\" y=\"355.0\" width=\"160.46636718750003\" height=\"40\" stroke=\"black\" fill=\"white\" stroke-width=\"1\" /><text x=\"530.6939257812501\" y=\"375.0\" dominant-baseline=\"middle\" text-anchor=\"middle\" font-size=\"14px\" font-family=\"Arial\">Rz(s_l0_q7_block1_rz)</text><circle cx=\"711.52177734375\" cy=\"25.0\" r=\"10.0\" /><rect x=\"630.9271093750001\" y=\"355.0\" width=\"161.1893359375\" height=\"40\" stroke=\"black\" fill=\"white\" stroke-width=\"1\" /><text x=\"711.52177734375\" y=\"375.0\" dominant-baseline=\"middle\" text-anchor=\"middle\" font-size=\"14px\" font-family=\"Arial\">@^s_l0_q0_block1_cz</text><rect x=\"812.1164453125001\" y=\"355.0\" width=\"170.87914062500002\" height=\"40\" stroke=\"black\" fill=\"white\" stroke-width=\"1\" /><text x=\"897.5560156250001\" y=\"375.0\" dominant-baseline=\"middle\" text-anchor=\"middle\" font-size=\"14px\" font-family=\"Arial\">Rx(s_l0_q7_block1_rx2)</text><rect x=\"1002.9955859375002\" y=\"355.0\" width=\"161.1893359375\" height=\"40\" stroke=\"black\" fill=\"white\" stroke-width=\"1\" /><text x=\"1083.5902539062502\" y=\"375.0\" dominant-baseline=\"middle\" text-anchor=\"middle\" font-size=\"14px\" font-family=\"Arial\">@^s_l0_q7_block1_cz</text><circle cx=\"1083.5902539062502\" cy=\"325.0\" r=\"10.0\" /><rect x=\"1184.184921875\" y=\"305.0\" width=\"170.87914062500002\" height=\"40\" stroke=\"black\" fill=\"white\" stroke-width=\"1\" /><text x=\"1269.6244921875002\" y=\"325.0\" dominant-baseline=\"middle\" text-anchor=\"middle\" font-size=\"14px\" font-family=\"Arial\">Rx(s_l0_q6_block1_rx2)</text><rect x=\"1184.184921875\" y=\"355.0\" width=\"170.87914062500002\" height=\"40\" stroke=\"black\" fill=\"white\" stroke-width=\"1\" /><text x=\"1269.6244921875002\" y=\"375.0\" dominant-baseline=\"middle\" text-anchor=\"middle\" font-size=\"14px\" font-family=\"Arial\">Rz(s_l1_q7_block3_rz0)</text><rect x=\"1375.0640625\" y=\"305.0\" width=\"161.56941406250002\" height=\"40\" stroke=\"black\" fill=\"white\" stroke-width=\"1\" /><text x=\"1455.8487695312501\" y=\"325.0\" dominant-baseline=\"middle\" text-anchor=\"middle\" font-size=\"14px\" font-family=\"Arial\">@^s_l0_q6_block1_cz</text><circle cx=\"1455.8487695312501\" cy=\"275.0\" r=\"10.0\" /><rect x=\"1375.0640625\" y=\"355.0\" width=\"161.56941406250002\" height=\"40\" stroke=\"black\" fill=\"white\" stroke-width=\"1\" /><text x=\"1455.8487695312501\" y=\"375.0\" dominant-baseline=\"middle\" text-anchor=\"middle\" font-size=\"14px\" font-family=\"Arial\">Ry(s_l1_q7_block3_ry)</text><rect x=\"1556.6334765625002\" y=\"255.0\" width=\"170.87914062500002\" height=\"40\" stroke=\"black\" fill=\"white\" stroke-width=\"1\" /><text x=\"1642.0730468750003\" y=\"275.0\" dominant-baseline=\"middle\" text-anchor=\"middle\" font-size=\"14px\" font-family=\"Arial\">Rx(s_l0_q5_block1_rx2)</text><rect x=\"1556.6334765625002\" y=\"305.0\" width=\"170.87914062500002\" height=\"40\" stroke=\"black\" fill=\"white\" stroke-width=\"1\" /><text x=\"1642.0730468750003\" y=\"325.0\" dominant-baseline=\"middle\" text-anchor=\"middle\" font-size=\"14px\" font-family=\"Arial\">Rz(s_l1_q6_block3_rz0)</text><rect x=\"1556.6334765625002\" y=\"355.0\" width=\"170.87914062500002\" height=\"40\" stroke=\"black\" fill=\"white\" stroke-width=\"1\" /><text x=\"1642.0730468750003\" y=\"375.0\" dominant-baseline=\"middle\" text-anchor=\"middle\" font-size=\"14px\" font-family=\"Arial\">Rz(s_l1_q7_block3_rz)</text><rect x=\"1747.5126171875002\" y=\"255.0\" width=\"161.56941406250002\" height=\"40\" stroke=\"black\" fill=\"white\" stroke-width=\"1\" /><text x=\"1828.2973242187502\" y=\"275.0\" dominant-baseline=\"middle\" text-anchor=\"middle\" font-size=\"14px\" font-family=\"Arial\">@^s_l0_q5_block1_cz</text><circle cx=\"1828.2973242187502\" cy=\"225.0\" r=\"10.0\" /><rect x=\"1747.5126171875002\" y=\"305.0\" width=\"161.56941406250002\" height=\"40\" stroke=\"black\" fill=\"white\" stroke-width=\"1\" /><text x=\"1828.2973242187502\" y=\"325.0\" dominant-baseline=\"middle\" text-anchor=\"middle\" font-size=\"14px\" font-family=\"Arial\">Ry(s_l1_q6_block3_ry)</text><rect x=\"1929.0820312500002\" y=\"205.0\" width=\"170.87914062500002\" height=\"40\" stroke=\"black\" fill=\"white\" stroke-width=\"1\" /><text x=\"2014.5216015625003\" y=\"225.0\" dominant-baseline=\"middle\" text-anchor=\"middle\" font-size=\"14px\" font-family=\"Arial\">Rx(s_l0_q4_block1_rx2)</text><rect x=\"1929.0820312500002\" y=\"255.0\" width=\"170.87914062500002\" height=\"40\" stroke=\"black\" fill=\"white\" stroke-width=\"1\" /><text x=\"2014.5216015625003\" y=\"275.0\" dominant-baseline=\"middle\" text-anchor=\"middle\" font-size=\"14px\" font-family=\"Arial\">Rz(s_l1_q5_block3_rz0)</text><rect x=\"1929.0820312500002\" y=\"305.0\" width=\"170.87914062500002\" height=\"40\" stroke=\"black\" fill=\"white\" stroke-width=\"1\" /><text x=\"2014.5216015625003\" y=\"325.0\" dominant-baseline=\"middle\" text-anchor=\"middle\" font-size=\"14px\" font-family=\"Arial\">Rz(s_l1_q6_block3_rz)</text><rect x=\"2119.961171875\" y=\"205.0\" width=\"161.56941406250002\" height=\"40\" stroke=\"black\" fill=\"white\" stroke-width=\"1\" /><text x=\"2200.7458789062503\" y=\"225.0\" dominant-baseline=\"middle\" text-anchor=\"middle\" font-size=\"14px\" font-family=\"Arial\">@^s_l0_q4_block1_cz</text><circle cx=\"2200.7458789062503\" cy=\"175.0\" r=\"10.0\" /><rect x=\"2119.961171875\" y=\"255.0\" width=\"161.56941406250002\" height=\"40\" stroke=\"black\" fill=\"white\" stroke-width=\"1\" /><text x=\"2200.7458789062503\" y=\"275.0\" dominant-baseline=\"middle\" text-anchor=\"middle\" font-size=\"14px\" font-family=\"Arial\">Ry(s_l1_q5_block3_ry)</text><rect x=\"2301.5305859375003\" y=\"155.0\" width=\"170.87914062500002\" height=\"40\" stroke=\"black\" fill=\"white\" stroke-width=\"1\" /><text x=\"2386.9701562500004\" y=\"175.0\" dominant-baseline=\"middle\" text-anchor=\"middle\" font-size=\"14px\" font-family=\"Arial\">Rx(s_l0_q3_block1_rx2)</text><rect x=\"2301.5305859375003\" y=\"205.0\" width=\"170.87914062500002\" height=\"40\" stroke=\"black\" fill=\"white\" stroke-width=\"1\" /><text x=\"2386.9701562500004\" y=\"225.0\" dominant-baseline=\"middle\" text-anchor=\"middle\" font-size=\"14px\" font-family=\"Arial\">Rz(s_l1_q4_block3_rz0)</text><rect x=\"2301.5305859375003\" y=\"255.0\" width=\"170.87914062500002\" height=\"40\" stroke=\"black\" fill=\"white\" stroke-width=\"1\" /><text x=\"2386.9701562500004\" y=\"275.0\" dominant-baseline=\"middle\" text-anchor=\"middle\" font-size=\"14px\" font-family=\"Arial\">Rz(s_l1_q5_block3_rz)</text><rect x=\"2492.4097265625005\" y=\"155.0\" width=\"161.56941406250002\" height=\"40\" stroke=\"black\" fill=\"white\" stroke-width=\"1\" /><text x=\"2573.1944335937505\" y=\"175.0\" dominant-baseline=\"middle\" text-anchor=\"middle\" font-size=\"14px\" font-family=\"Arial\">@^s_l0_q3_block1_cz</text><circle cx=\"2573.1944335937505\" cy=\"125.0\" r=\"10.0\" /><rect x=\"2492.4097265625005\" y=\"205.0\" width=\"161.56941406250002\" height=\"40\" stroke=\"black\" fill=\"white\" stroke-width=\"1\" /><text x=\"2573.1944335937505\" y=\"225.0\" dominant-baseline=\"middle\" text-anchor=\"middle\" font-size=\"14px\" font-family=\"Arial\">Ry(s_l1_q4_block3_ry)</text><rect x=\"2673.9791406250006\" y=\"105.0\" width=\"170.87914062500002\" height=\"40\" stroke=\"black\" fill=\"white\" stroke-width=\"1\" /><text x=\"2759.4187109375007\" y=\"125.0\" dominant-baseline=\"middle\" text-anchor=\"middle\" font-size=\"14px\" font-family=\"Arial\">Rx(s_l0_q2_block1_rx2)</text><rect x=\"2673.9791406250006\" y=\"155.0\" width=\"170.87914062500002\" height=\"40\" stroke=\"black\" fill=\"white\" stroke-width=\"1\" /><text x=\"2759.4187109375007\" y=\"175.0\" dominant-baseline=\"middle\" text-anchor=\"middle\" font-size=\"14px\" font-family=\"Arial\">Rz(s_l1_q3_block3_rz0)</text><rect x=\"2673.9791406250006\" y=\"205.0\" width=\"170.87914062500002\" height=\"40\" stroke=\"black\" fill=\"white\" stroke-width=\"1\" /><text x=\"2759.4187109375007\" y=\"225.0\" dominant-baseline=\"middle\" text-anchor=\"middle\" font-size=\"14px\" font-family=\"Arial\">Rz(s_l1_q4_block3_rz)</text><rect x=\"2864.858281250001\" y=\"105.0\" width=\"161.56941406250002\" height=\"40\" stroke=\"black\" fill=\"white\" stroke-width=\"1\" /><text x=\"2945.642988281251\" y=\"125.0\" dominant-baseline=\"middle\" text-anchor=\"middle\" font-size=\"14px\" font-family=\"Arial\">@^s_l0_q2_block1_cz</text><circle cx=\"2945.642988281251\" cy=\"75.0\" r=\"10.0\" /><rect x=\"2864.858281250001\" y=\"155.0\" width=\"161.56941406250002\" height=\"40\" stroke=\"black\" fill=\"white\" stroke-width=\"1\" /><text x=\"2945.642988281251\" y=\"175.0\" dominant-baseline=\"middle\" text-anchor=\"middle\" font-size=\"14px\" font-family=\"Arial\">Ry(s_l1_q3_block3_ry)</text><rect x=\"3046.427695312501\" y=\"55.0\" width=\"170.87914062500002\" height=\"40\" stroke=\"black\" fill=\"white\" stroke-width=\"1\" /><text x=\"3131.867265625001\" y=\"75.0\" dominant-baseline=\"middle\" text-anchor=\"middle\" font-size=\"14px\" font-family=\"Arial\">Rx(s_l0_q1_block1_rx2)</text><rect x=\"3046.427695312501\" y=\"105.0\" width=\"170.87914062500002\" height=\"40\" stroke=\"black\" fill=\"white\" stroke-width=\"1\" /><text x=\"3131.867265625001\" y=\"125.0\" dominant-baseline=\"middle\" text-anchor=\"middle\" font-size=\"14px\" font-family=\"Arial\">Rz(s_l1_q2_block3_rz0)</text><rect x=\"3046.427695312501\" y=\"155.0\" width=\"170.87914062500002\" height=\"40\" stroke=\"black\" fill=\"white\" stroke-width=\"1\" /><text x=\"3131.867265625001\" y=\"175.0\" dominant-baseline=\"middle\" text-anchor=\"middle\" font-size=\"14px\" font-family=\"Arial\">Rz(s_l1_q3_block3_rz)</text><rect x=\"3237.306835937501\" y=\"55.0\" width=\"161.56941406250002\" height=\"40\" stroke=\"black\" fill=\"white\" stroke-width=\"1\" /><text x=\"3318.091542968751\" y=\"75.0\" dominant-baseline=\"middle\" text-anchor=\"middle\" font-size=\"14px\" font-family=\"Arial\">@^s_l0_q1_block1_cz</text><circle cx=\"3318.091542968751\" cy=\"25.0\" r=\"10.0\" /><rect x=\"3237.306835937501\" y=\"105.0\" width=\"161.56941406250002\" height=\"40\" stroke=\"black\" fill=\"white\" stroke-width=\"1\" /><text x=\"3318.091542968751\" y=\"125.0\" dominant-baseline=\"middle\" text-anchor=\"middle\" font-size=\"14px\" font-family=\"Arial\">Ry(s_l1_q2_block3_ry)</text><rect x=\"3418.876250000001\" y=\"5.0\" width=\"170.87914062500002\" height=\"40\" stroke=\"black\" fill=\"white\" stroke-width=\"1\" /><text x=\"3504.3158203125013\" y=\"25.0\" dominant-baseline=\"middle\" text-anchor=\"middle\" font-size=\"14px\" font-family=\"Arial\">Rx(s_l0_q0_block1_rx2)</text><rect x=\"3418.876250000001\" y=\"55.0\" width=\"170.87914062500002\" height=\"40\" stroke=\"black\" fill=\"white\" stroke-width=\"1\" /><text x=\"3504.3158203125013\" y=\"75.0\" dominant-baseline=\"middle\" text-anchor=\"middle\" font-size=\"14px\" font-family=\"Arial\">Rz(s_l1_q1_block3_rz0)</text><rect x=\"3418.876250000001\" y=\"105.0\" width=\"170.87914062500002\" height=\"40\" stroke=\"black\" fill=\"white\" stroke-width=\"1\" /><text x=\"3504.3158203125013\" y=\"125.0\" dominant-baseline=\"middle\" text-anchor=\"middle\" font-size=\"14px\" font-family=\"Arial\">Rz(s_l1_q2_block3_rz)</text><rect x=\"3609.7553906250014\" y=\"5.0\" width=\"169.37359375000003\" height=\"40\" stroke=\"black\" fill=\"white\" stroke-width=\"1\" /><text x=\"3694.442187500001\" y=\"25.0\" dominant-baseline=\"middle\" text-anchor=\"middle\" font-size=\"14px\" font-family=\"Arial\">Rz(s_l1_q0_block3_rz0)</text><rect x=\"3609.7553906250014\" y=\"55.0\" width=\"169.37359375000003\" height=\"40\" stroke=\"black\" fill=\"white\" stroke-width=\"1\" /><text x=\"3694.442187500001\" y=\"75.0\" dominant-baseline=\"middle\" text-anchor=\"middle\" font-size=\"14px\" font-family=\"Arial\">Ry(s_l1_q1_block3_ry)</text><rect x=\"3799.1289843750014\" y=\"5.0\" width=\"161.56941406250002\" height=\"40\" stroke=\"black\" fill=\"white\" stroke-width=\"1\" /><text x=\"3879.9136914062515\" y=\"25.0\" dominant-baseline=\"middle\" text-anchor=\"middle\" font-size=\"14px\" font-family=\"Arial\">Ry(s_l1_q0_block3_ry)</text><rect x=\"3799.1289843750014\" y=\"55.0\" width=\"161.56941406250002\" height=\"40\" stroke=\"black\" fill=\"white\" stroke-width=\"1\" /><text x=\"3879.9136914062515\" y=\"75.0\" dominant-baseline=\"middle\" text-anchor=\"middle\" font-size=\"14px\" font-family=\"Arial\">Rz(s_l1_q1_block3_rz)</text><rect x=\"3980.6983984375015\" y=\"5.0\" width=\"160.46636718750003\" height=\"40\" stroke=\"black\" fill=\"white\" stroke-width=\"1\" /><text x=\"4060.9315820312513\" y=\"25.0\" dominant-baseline=\"middle\" text-anchor=\"middle\" font-size=\"14px\" font-family=\"Arial\">Rz(s_l1_q0_block3_rz)</text><circle cx=\"4241.759433593752\" cy=\"25.0\" r=\"10.0\" /><rect x=\"4161.164765625002\" y=\"255.0\" width=\"161.1893359375\" height=\"40\" stroke=\"black\" fill=\"white\" stroke-width=\"1\" /><text x=\"4241.759433593752\" y=\"275.0\" dominant-baseline=\"middle\" text-anchor=\"middle\" font-size=\"14px\" font-family=\"Arial\">@^s_l1_q0_block3_cz</text><rect x=\"4342.3541015625015\" y=\"255.0\" width=\"170.87914062500002\" height=\"40\" stroke=\"black\" fill=\"white\" stroke-width=\"1\" /><text x=\"4427.793671875002\" y=\"275.0\" dominant-baseline=\"middle\" text-anchor=\"middle\" font-size=\"14px\" font-family=\"Arial\">Rx(s_l1_q5_block3_rx2)</text><rect x=\"4533.233242187502\" y=\"255.0\" width=\"161.1893359375\" height=\"40\" stroke=\"black\" fill=\"white\" stroke-width=\"1\" /><text x=\"4613.827910156252\" y=\"275.0\" dominant-baseline=\"middle\" text-anchor=\"middle\" font-size=\"14px\" font-family=\"Arial\">@^s_l1_q5_block3_cz</text><circle cx=\"4613.827910156252\" cy=\"125.0\" r=\"10.0\" /><rect x=\"4714.422578125002\" y=\"105.0\" width=\"170.87914062500002\" height=\"40\" stroke=\"black\" fill=\"white\" stroke-width=\"1\" /><text x=\"4799.862148437502\" y=\"125.0\" dominant-baseline=\"middle\" text-anchor=\"middle\" font-size=\"14px\" font-family=\"Arial\">Rx(s_l1_q2_block3_rx2)</text><circle cx=\"4985.896386718752\" cy=\"125.0\" r=\"10.0\" /><rect x=\"4905.301718750002\" y=\"355.0\" width=\"161.1893359375\" height=\"40\" stroke=\"black\" fill=\"white\" stroke-width=\"1\" /><text x=\"4985.896386718752\" y=\"375.0\" dominant-baseline=\"middle\" text-anchor=\"middle\" font-size=\"14px\" font-family=\"Arial\">@^s_l1_q2_block3_cz</text><rect x=\"5086.491054687502\" y=\"355.0\" width=\"170.87914062500002\" height=\"40\" stroke=\"black\" fill=\"white\" stroke-width=\"1\" /><text x=\"5171.930625000002\" y=\"375.0\" dominant-baseline=\"middle\" text-anchor=\"middle\" font-size=\"14px\" font-family=\"Arial\">Rx(s_l1_q7_block3_rx2)</text><rect x=\"5277.370195312502\" y=\"355.0\" width=\"161.1893359375\" height=\"40\" stroke=\"black\" fill=\"white\" stroke-width=\"1\" /><text x=\"5357.964863281252\" y=\"375.0\" dominant-baseline=\"middle\" text-anchor=\"middle\" font-size=\"14px\" font-family=\"Arial\">@^s_l1_q7_block3_cz</text><circle cx=\"5357.964863281252\" cy=\"225.0\" r=\"10.0\" /><rect x=\"5458.559531250002\" y=\"205.0\" width=\"170.87914062500002\" height=\"40\" stroke=\"black\" fill=\"white\" stroke-width=\"1\" /><text x=\"5543.999101562502\" y=\"225.0\" dominant-baseline=\"middle\" text-anchor=\"middle\" font-size=\"14px\" font-family=\"Arial\">Rx(s_l1_q4_block3_rx2)</text><rect x=\"5649.438671875002\" y=\"205.0\" width=\"161.1893359375\" height=\"40\" stroke=\"black\" fill=\"white\" stroke-width=\"1\" /><text x=\"5730.033339843752\" y=\"225.0\" dominant-baseline=\"middle\" text-anchor=\"middle\" font-size=\"14px\" font-family=\"Arial\">@^s_l1_q4_block3_cz</text><circle cx=\"5730.033339843752\" cy=\"75.0\" r=\"10.0\" /><rect x=\"5830.628007812502\" y=\"55.0\" width=\"170.87914062500002\" height=\"40\" stroke=\"black\" fill=\"white\" stroke-width=\"1\" /><text x=\"5916.067578125002\" y=\"75.0\" dominant-baseline=\"middle\" text-anchor=\"middle\" font-size=\"14px\" font-family=\"Arial\">Rx(s_l1_q1_block3_rx2)</text><circle cx=\"6102.1018164062525\" cy=\"75.0\" r=\"10.0\" /><rect x=\"6021.507148437502\" y=\"305.0\" width=\"161.1893359375\" height=\"40\" stroke=\"black\" fill=\"white\" stroke-width=\"1\" /><text x=\"6102.1018164062525\" y=\"325.0\" dominant-baseline=\"middle\" text-anchor=\"middle\" font-size=\"14px\" font-family=\"Arial\">@^s_l1_q1_block3_cz</text><rect x=\"6202.696484375002\" y=\"305.0\" width=\"170.87914062500002\" height=\"40\" stroke=\"black\" fill=\"white\" stroke-width=\"1\" /><text x=\"6288.136054687502\" y=\"325.0\" dominant-baseline=\"middle\" text-anchor=\"middle\" font-size=\"14px\" font-family=\"Arial\">Rx(s_l1_q6_block3_rx2)</text><rect x=\"6393.575625000002\" y=\"305.0\" width=\"161.1893359375\" height=\"40\" stroke=\"black\" fill=\"white\" stroke-width=\"1\" /><text x=\"6474.170292968753\" y=\"325.0\" dominant-baseline=\"middle\" text-anchor=\"middle\" font-size=\"14px\" font-family=\"Arial\">@^s_l1_q6_block3_cz</text><circle cx=\"6474.170292968753\" cy=\"175.0\" r=\"10.0\" /><rect x=\"6574.764960937502\" y=\"155.0\" width=\"170.87914062500002\" height=\"40\" stroke=\"black\" fill=\"white\" stroke-width=\"1\" /><text x=\"6660.204531250002\" y=\"175.0\" dominant-baseline=\"middle\" text-anchor=\"middle\" font-size=\"14px\" font-family=\"Arial\">Rx(s_l1_q3_block3_rx2)</text><rect x=\"6765.644101562502\" y=\"155.0\" width=\"161.1893359375\" height=\"40\" stroke=\"black\" fill=\"white\" stroke-width=\"1\" /><text x=\"6846.238769531253\" y=\"175.0\" dominant-baseline=\"middle\" text-anchor=\"middle\" font-size=\"14px\" font-family=\"Arial\">@^s_l1_q3_block3_cz</text><circle cx=\"6846.238769531253\" cy=\"25.0\" r=\"10.0\" /><rect x=\"6946.833437500002\" y=\"5.0\" width=\"170.87914062500002\" height=\"40\" stroke=\"black\" fill=\"white\" stroke-width=\"1\" /><text x=\"7032.273007812502\" y=\"25.0\" dominant-baseline=\"middle\" text-anchor=\"middle\" font-size=\"14px\" font-family=\"Arial\">Rx(s_l1_q0_block3_rx2)</text><rect x=\"7137.712578125002\" y=\"5.0\" width=\"116.3198828125\" height=\"40\" stroke=\"black\" fill=\"white\" stroke-width=\"1\" /><text x=\"7195.872519531253\" y=\"25.0\" dominant-baseline=\"middle\" text-anchor=\"middle\" font-size=\"14px\" font-family=\"Arial\">Rz(s_l2_q0_rz0)</text><rect x=\"7274.032460937502\" y=\"5.0\" width=\"108.51570312500002\" height=\"40\" stroke=\"black\" fill=\"white\" stroke-width=\"1\" /><text x=\"7328.290312500002\" y=\"25.0\" dominant-baseline=\"middle\" text-anchor=\"middle\" font-size=\"14px\" font-family=\"Arial\">Ry(s_l2_q0_ry)</text><rect x=\"7402.548164062502\" y=\"5.0\" width=\"107.41265625000001\" height=\"40\" stroke=\"black\" fill=\"white\" stroke-width=\"1\" /><text x=\"7456.254492187502\" y=\"25.0\" dominant-baseline=\"middle\" text-anchor=\"middle\" font-size=\"14px\" font-family=\"Arial\">Rz(s_l2_q0_rz)</text></svg>"
      ],
      "text/plain": [
       "<cirq.contrib.svg.svg.SVGCircuit at 0x7fc48d1e5580>"
      ]
     },
     "execution_count": 26,
     "metadata": {},
     "output_type": "execute_result"
    }
   ],
   "source": [
    "# TEST CELL to make sure CircuitLayerBuilder works properly\n",
    "circuit = cirq.Circuit()\n",
    "demo_builder = CircuitLayerBuilder(circuit=circuit,\n",
    "                                   data_qubits = cirq.GridQubit.rect(4,2))\n",
    "\n",
    "demo_builder.add_layer(block=1)\n",
    "demo_builder.add_layer(block=3)\n",
    "demo_builder.add_final_out()\n",
    "\n",
    "SVGCircuit(circuit)"
   ]
  },
  {
   "cell_type": "markdown",
   "metadata": {
    "colab_type": "text",
    "id": "T-QhPE1pojhu"
   },
   "source": [
    "Now build a two-layered model, matching the data-circuit size, and include the preparation and readout operations."
   ]
  },
  {
   "cell_type": "code",
   "execution_count": 92,
   "metadata": {
    "colab": {},
    "colab_type": "code",
    "id": "JiALbpwRGL69",
    "tags": []
   },
   "outputs": [],
   "source": [
    "def create_quantum_model(apply_dropout=False, n_dropout=5, builder=None, computed_weights_arr=None):\n",
    "    \"\"\"Create a QNN model circuit and readout operation to go along with it.\"\"\"\n",
    "    data_qubits = cirq.GridQubit.rect(4, 2)  # a 4x2 grid.\n",
    "    circuit = cirq.Circuit()\n",
    "    \n",
    "    if builder is None or computed_weights_arr is None:\n",
    "        builder = CircuitLayerBuilder(\n",
    "            circuit=circuit,\n",
    "            data_qubits=data_qubits,\n",
    "            repeat_dropout=n_dropout)\n",
    "        if apply_dropout:\n",
    "            builder.TEST_STATE_N_DROPOUT = n_dropout\n",
    "            builder.TEST_STATE_DROPOUT_ID = np.random.randint(1, len(data_qubits))\n",
    "        else:\n",
    "            builder.TEST_STATE_N_DROPOUT = None\n",
    "    else:\n",
    "        builder.rebuild(circuit, data_qubits, computed_weights_arr, preserve_dropout=apply_dropout)\n",
    "        \n",
    "        if builder.TEST_STATE_N_DROPOUT is not None and builder.TEST_STATE_N_DROPOUT == 0:\n",
    "            builder.TEST_STATE_N_DROPOUT = n_dropout\n",
    "            builder.TEST_STATE_DROPOUT_ID = np.random.randint(1, len(data_qubits))\n",
    "            if builder.TEST_STATE_DROPOUT_ID > len(data_qubits):\n",
    "                builder.TEST_STATE_N_DROPOUT = 0 # retry on next!\n",
    "\n",
    "    # Then add layers\n",
    "    builder.add_layer(block=1)\n",
    "    builder.add_layer(block=3)\n",
    "    builder.add_layer(block=7)\n",
    "    builder.add_final_out()\n",
    "\n",
    "    # Finally, prepare the readout qubit.\n",
    "\n",
    "    #print('builder.TEST_STATE_N_DROPOUT = ', builder.TEST_STATE_N_DROPOUT)\n",
    "    #print('builder.TEST_STATE_DROPOUT_ID = ', builder.TEST_STATE_DROPOUT_ID)\n",
    "    if apply_dropout and builder.TEST_STATE_N_DROPOUT is not None and builder.TEST_STATE_DROPOUT_ID < len(data_qubits):\n",
    "        print('Built model, going to drop out qubit id ', builder.TEST_STATE_DROPOUT_ID)\n",
    "        readouts = [cirq.Z(data_qubits[0]), cirq.Z(data_qubits[builder.TEST_STATE_DROPOUT_ID])]\n",
    "        builder.TEST_STATE_N_DROPOUT -= 1\n",
    "    else:\n",
    "        readouts = [cirq.Z(data_qubits[0])] # without dropout, only one qubit is measured\n",
    "    \n",
    "    return builder, circuit, readouts"
   ]
  },
  {
   "cell_type": "code",
   "execution_count": 64,
   "metadata": {
    "colab": {},
    "colab_type": "code",
    "id": "2QZvVh7vojhx",
    "tags": []
   },
   "outputs": [
    {
     "data": {
      "image/svg+xml": [
       "<svg xmlns=\"http://www.w3.org/2000/svg\" width=\"11412.577148437511\" height=\"440.0\"><line x1=\"34.7588671875\" x2=\"11382.577148437511\" y1=\"45.0\" y2=\"45.0\" stroke=\"#1967d2\" stroke-width=\"1\" /><line x1=\"34.7588671875\" x2=\"11382.577148437511\" y1=\"95.0\" y2=\"95.0\" stroke=\"#1967d2\" stroke-width=\"1\" /><line x1=\"34.7588671875\" x2=\"11382.577148437511\" y1=\"145.0\" y2=\"145.0\" stroke=\"#1967d2\" stroke-width=\"1\" /><line x1=\"34.7588671875\" x2=\"11382.577148437511\" y1=\"195.0\" y2=\"195.0\" stroke=\"#1967d2\" stroke-width=\"1\" /><line x1=\"34.7588671875\" x2=\"11382.577148437511\" y1=\"245.0\" y2=\"245.0\" stroke=\"#1967d2\" stroke-width=\"1\" /><line x1=\"34.7588671875\" x2=\"11382.577148437511\" y1=\"295.0\" y2=\"295.0\" stroke=\"#1967d2\" stroke-width=\"1\" /><line x1=\"34.7588671875\" x2=\"11382.577148437511\" y1=\"345.0\" y2=\"345.0\" stroke=\"#1967d2\" stroke-width=\"1\" /><line x1=\"34.7588671875\" x2=\"11382.577148437511\" y1=\"395.0\" y2=\"395.0\" stroke=\"#1967d2\" stroke-width=\"1\" /><line x1=\"6173.836718750003\" x2=\"6506.5954687500025\" y1=\"5.0\" y2=\"5.0\" stroke=\"black\" stroke-width=\"1\" /><line x1=\"6173.836718750003\" x2=\"6506.5954687500025\" y1=\"435.0\" y2=\"435.0\" stroke=\"black\" stroke-width=\"1\" /><line x1=\"4895.301718750002\" x2=\"5228.060468750002\" y1=\"5.0\" y2=\"5.0\" stroke=\"black\" stroke-width=\"1\" /><line x1=\"4895.301718750002\" x2=\"5228.060468750002\" y1=\"435.0\" y2=\"435.0\" stroke=\"black\" stroke-width=\"1\" /><line x1=\"711.52177734375\" x2=\"711.52177734375\" y1=\"45.0\" y2=\"395.0\" stroke=\"black\" stroke-width=\"3\" /><line x1=\"1083.5902539062502\" x2=\"1083.5902539062502\" y1=\"345.0\" y2=\"395.0\" stroke=\"black\" stroke-width=\"3\" /><line x1=\"1455.8487695312501\" x2=\"1455.8487695312501\" y1=\"295.0\" y2=\"345.0\" stroke=\"black\" stroke-width=\"3\" /><line x1=\"1828.2973242187502\" x2=\"1828.2973242187502\" y1=\"245.0\" y2=\"295.0\" stroke=\"black\" stroke-width=\"3\" /><line x1=\"2200.7458789062503\" x2=\"2200.7458789062503\" y1=\"195.0\" y2=\"245.0\" stroke=\"black\" stroke-width=\"3\" /><line x1=\"2573.1944335937505\" x2=\"2573.1944335937505\" y1=\"145.0\" y2=\"195.0\" stroke=\"black\" stroke-width=\"3\" /><line x1=\"2945.642988281251\" x2=\"2945.642988281251\" y1=\"95.0\" y2=\"145.0\" stroke=\"black\" stroke-width=\"3\" /><line x1=\"3318.091542968751\" x2=\"3318.091542968751\" y1=\"45.0\" y2=\"95.0\" stroke=\"black\" stroke-width=\"3\" /><line x1=\"4241.759433593752\" x2=\"4241.759433593752\" y1=\"45.0\" y2=\"295.0\" stroke=\"black\" stroke-width=\"3\" /><line x1=\"4613.827910156252\" x2=\"4613.827910156252\" y1=\"145.0\" y2=\"295.0\" stroke=\"black\" stroke-width=\"3\" /><line x1=\"4975.896386718752\" x2=\"4975.896386718752\" y1=\"145.0\" y2=\"395.0\" stroke=\"black\" stroke-width=\"3\" /><line x1=\"5519.724316406252\" x2=\"5519.724316406252\" y1=\"245.0\" y2=\"395.0\" stroke=\"black\" stroke-width=\"3\" /><line x1=\"5892.172871093752\" x2=\"5892.172871093752\" y1=\"95.0\" y2=\"245.0\" stroke=\"black\" stroke-width=\"3\" /><line x1=\"6254.431386718753\" x2=\"6254.431386718753\" y1=\"95.0\" y2=\"345.0\" stroke=\"black\" stroke-width=\"3\" /><line x1=\"6798.259316406253\" x2=\"6798.259316406253\" y1=\"195.0\" y2=\"345.0\" stroke=\"black\" stroke-width=\"3\" /><line x1=\"7170.707871093753\" x2=\"7170.707871093753\" y1=\"45.0\" y2=\"195.0\" stroke=\"black\" stroke-width=\"3\" /><line x1=\"8094.375761718753\" x2=\"8094.375761718753\" y1=\"45.0\" y2=\"95.0\" stroke=\"black\" stroke-width=\"3\" /><line x1=\"8466.444238281252\" x2=\"8466.444238281252\" y1=\"95.0\" y2=\"145.0\" stroke=\"black\" stroke-width=\"3\" /><line x1=\"8838.512714843753\" x2=\"8838.512714843753\" y1=\"145.0\" y2=\"195.0\" stroke=\"black\" stroke-width=\"3\" /><line x1=\"9210.581191406254\" x2=\"9210.581191406254\" y1=\"195.0\" y2=\"245.0\" stroke=\"black\" stroke-width=\"3\" /><line x1=\"9582.649667968755\" x2=\"9582.649667968755\" y1=\"245.0\" y2=\"295.0\" stroke=\"black\" stroke-width=\"3\" /><line x1=\"9954.718144531256\" x2=\"9954.718144531256\" y1=\"295.0\" y2=\"345.0\" stroke=\"black\" stroke-width=\"3\" /><line x1=\"10326.786621093757\" x2=\"10326.786621093757\" y1=\"345.0\" y2=\"395.0\" stroke=\"black\" stroke-width=\"3\" /><line x1=\"10698.855097656258\" x2=\"10698.855097656258\" y1=\"45.0\" y2=\"395.0\" stroke=\"black\" stroke-width=\"3\" /><line x1=\"6173.836718750003\" x2=\"6173.836718750003\" y1=\"5.0\" y2=\"15.0\" stroke=\"black\" stroke-width=\"3\" /><line x1=\"6506.5954687500025\" x2=\"6506.5954687500025\" y1=\"5.0\" y2=\"15.0\" stroke=\"black\" stroke-width=\"3\" /><line x1=\"6173.836718750003\" x2=\"6173.836718750003\" y1=\"425.0\" y2=\"435.0\" stroke=\"black\" stroke-width=\"3\" /><line x1=\"6506.5954687500025\" x2=\"6506.5954687500025\" y1=\"425.0\" y2=\"435.0\" stroke=\"black\" stroke-width=\"3\" /><line x1=\"4895.301718750002\" x2=\"4895.301718750002\" y1=\"5.0\" y2=\"15.0\" stroke=\"black\" stroke-width=\"3\" /><line x1=\"5228.060468750002\" x2=\"5228.060468750002\" y1=\"5.0\" y2=\"15.0\" stroke=\"black\" stroke-width=\"3\" /><line x1=\"4895.301718750002\" x2=\"4895.301718750002\" y1=\"425.0\" y2=\"435.0\" stroke=\"black\" stroke-width=\"3\" /><line x1=\"5228.060468750002\" x2=\"5228.060468750002\" y1=\"425.0\" y2=\"435.0\" stroke=\"black\" stroke-width=\"3\" /><rect x=\"10.0\" y=\"25.0\" width=\"49.517734375\" height=\"40\" stroke=\"black\" fill=\"white\" stroke-width=\"0\" /><text x=\"34.7588671875\" y=\"45.0\" dominant-baseline=\"middle\" text-anchor=\"middle\" font-size=\"14px\" font-family=\"Arial\">(0, 0): </text><rect x=\"10.0\" y=\"75.0\" width=\"49.517734375\" height=\"40\" stroke=\"black\" fill=\"white\" stroke-width=\"0\" /><text x=\"34.7588671875\" y=\"95.0\" dominant-baseline=\"middle\" text-anchor=\"middle\" font-size=\"14px\" font-family=\"Arial\">(0, 1): </text><rect x=\"10.0\" y=\"125.0\" width=\"49.517734375\" height=\"40\" stroke=\"black\" fill=\"white\" stroke-width=\"0\" /><text x=\"34.7588671875\" y=\"145.0\" dominant-baseline=\"middle\" text-anchor=\"middle\" font-size=\"14px\" font-family=\"Arial\">(1, 0): </text><rect x=\"10.0\" y=\"175.0\" width=\"49.517734375\" height=\"40\" stroke=\"black\" fill=\"white\" stroke-width=\"0\" /><text x=\"34.7588671875\" y=\"195.0\" dominant-baseline=\"middle\" text-anchor=\"middle\" font-size=\"14px\" font-family=\"Arial\">(1, 1): </text><rect x=\"10.0\" y=\"225.0\" width=\"49.517734375\" height=\"40\" stroke=\"black\" fill=\"white\" stroke-width=\"0\" /><text x=\"34.7588671875\" y=\"245.0\" dominant-baseline=\"middle\" text-anchor=\"middle\" font-size=\"14px\" font-family=\"Arial\">(2, 0): </text><rect x=\"10.0\" y=\"275.0\" width=\"49.517734375\" height=\"40\" stroke=\"black\" fill=\"white\" stroke-width=\"0\" /><text x=\"34.7588671875\" y=\"295.0\" dominant-baseline=\"middle\" text-anchor=\"middle\" font-size=\"14px\" font-family=\"Arial\">(2, 1): </text><rect x=\"10.0\" y=\"325.0\" width=\"49.517734375\" height=\"40\" stroke=\"black\" fill=\"white\" stroke-width=\"0\" /><text x=\"34.7588671875\" y=\"345.0\" dominant-baseline=\"middle\" text-anchor=\"middle\" font-size=\"14px\" font-family=\"Arial\">(3, 0): </text><rect x=\"10.0\" y=\"375.0\" width=\"49.517734375\" height=\"40\" stroke=\"black\" fill=\"white\" stroke-width=\"0\" /><text x=\"34.7588671875\" y=\"395.0\" dominant-baseline=\"middle\" text-anchor=\"middle\" font-size=\"14px\" font-family=\"Arial\">(3, 1): </text><rect x=\"79.51773437499999\" y=\"25.0\" width=\"169.37359375000003\" height=\"40\" stroke=\"black\" fill=\"white\" stroke-width=\"1\" /><text x=\"164.20453125\" y=\"45.0\" dominant-baseline=\"middle\" text-anchor=\"middle\" font-size=\"14px\" font-family=\"Arial\">Rz(s_l0_q0_block1_rz0)</text><rect x=\"79.51773437499999\" y=\"75.0\" width=\"169.37359375000003\" height=\"40\" stroke=\"black\" fill=\"white\" stroke-width=\"1\" /><text x=\"164.20453125\" y=\"95.0\" dominant-baseline=\"middle\" text-anchor=\"middle\" font-size=\"14px\" font-family=\"Arial\">Rz(s_l0_q1_block1_rz0)</text><rect x=\"79.51773437499999\" y=\"125.0\" width=\"169.37359375000003\" height=\"40\" stroke=\"black\" fill=\"white\" stroke-width=\"1\" /><text x=\"164.20453125\" y=\"145.0\" dominant-baseline=\"middle\" text-anchor=\"middle\" font-size=\"14px\" font-family=\"Arial\">Rz(s_l0_q2_block1_rz0)</text><rect x=\"79.51773437499999\" y=\"175.0\" width=\"169.37359375000003\" height=\"40\" stroke=\"black\" fill=\"white\" stroke-width=\"1\" /><text x=\"164.20453125\" y=\"195.0\" dominant-baseline=\"middle\" text-anchor=\"middle\" font-size=\"14px\" font-family=\"Arial\">Rz(s_l0_q3_block1_rz0)</text><rect x=\"79.51773437499999\" y=\"225.0\" width=\"169.37359375000003\" height=\"40\" stroke=\"black\" fill=\"white\" stroke-width=\"1\" /><text x=\"164.20453125\" y=\"245.0\" dominant-baseline=\"middle\" text-anchor=\"middle\" font-size=\"14px\" font-family=\"Arial\">Rz(s_l0_q4_block1_rz0)</text><rect x=\"79.51773437499999\" y=\"275.0\" width=\"169.37359375000003\" height=\"40\" stroke=\"black\" fill=\"white\" stroke-width=\"1\" /><text x=\"164.20453125\" y=\"295.0\" dominant-baseline=\"middle\" text-anchor=\"middle\" font-size=\"14px\" font-family=\"Arial\">Rz(s_l0_q5_block1_rz0)</text><rect x=\"79.51773437499999\" y=\"325.0\" width=\"169.37359375000003\" height=\"40\" stroke=\"black\" fill=\"white\" stroke-width=\"1\" /><text x=\"164.20453125\" y=\"345.0\" dominant-baseline=\"middle\" text-anchor=\"middle\" font-size=\"14px\" font-family=\"Arial\">Rz(s_l0_q6_block1_rz0)</text><rect x=\"79.51773437499999\" y=\"375.0\" width=\"169.37359375000003\" height=\"40\" stroke=\"black\" fill=\"white\" stroke-width=\"1\" /><text x=\"164.20453125\" y=\"395.0\" dominant-baseline=\"middle\" text-anchor=\"middle\" font-size=\"14px\" font-family=\"Arial\">Rz(s_l0_q7_block1_rz0)</text><rect x=\"268.891328125\" y=\"25.0\" width=\"161.56941406250002\" height=\"40\" stroke=\"black\" fill=\"white\" stroke-width=\"1\" /><text x=\"349.67603515625\" y=\"45.0\" dominant-baseline=\"middle\" text-anchor=\"middle\" font-size=\"14px\" font-family=\"Arial\">Ry(s_l0_q0_block1_ry)</text><rect x=\"268.891328125\" y=\"75.0\" width=\"161.56941406250002\" height=\"40\" stroke=\"black\" fill=\"white\" stroke-width=\"1\" /><text x=\"349.67603515625\" y=\"95.0\" dominant-baseline=\"middle\" text-anchor=\"middle\" font-size=\"14px\" font-family=\"Arial\">Ry(s_l0_q1_block1_ry)</text><rect x=\"268.891328125\" y=\"125.0\" width=\"161.56941406250002\" height=\"40\" stroke=\"black\" fill=\"white\" stroke-width=\"1\" /><text x=\"349.67603515625\" y=\"145.0\" dominant-baseline=\"middle\" text-anchor=\"middle\" font-size=\"14px\" font-family=\"Arial\">Ry(s_l0_q2_block1_ry)</text><rect x=\"268.891328125\" y=\"175.0\" width=\"161.56941406250002\" height=\"40\" stroke=\"black\" fill=\"white\" stroke-width=\"1\" /><text x=\"349.67603515625\" y=\"195.0\" dominant-baseline=\"middle\" text-anchor=\"middle\" font-size=\"14px\" font-family=\"Arial\">Ry(s_l0_q3_block1_ry)</text><rect x=\"268.891328125\" y=\"225.0\" width=\"161.56941406250002\" height=\"40\" stroke=\"black\" fill=\"white\" stroke-width=\"1\" /><text x=\"349.67603515625\" y=\"245.0\" dominant-baseline=\"middle\" text-anchor=\"middle\" font-size=\"14px\" font-family=\"Arial\">Ry(s_l0_q4_block1_ry)</text><rect x=\"268.891328125\" y=\"275.0\" width=\"161.56941406250002\" height=\"40\" stroke=\"black\" fill=\"white\" stroke-width=\"1\" /><text x=\"349.67603515625\" y=\"295.0\" dominant-baseline=\"middle\" text-anchor=\"middle\" font-size=\"14px\" font-family=\"Arial\">Ry(s_l0_q5_block1_ry)</text><rect x=\"268.891328125\" y=\"325.0\" width=\"161.56941406250002\" height=\"40\" stroke=\"black\" fill=\"white\" stroke-width=\"1\" /><text x=\"349.67603515625\" y=\"345.0\" dominant-baseline=\"middle\" text-anchor=\"middle\" font-size=\"14px\" font-family=\"Arial\">Ry(s_l0_q6_block1_ry)</text><rect x=\"268.891328125\" y=\"375.0\" width=\"161.56941406250002\" height=\"40\" stroke=\"black\" fill=\"white\" stroke-width=\"1\" /><text x=\"349.67603515625\" y=\"395.0\" dominant-baseline=\"middle\" text-anchor=\"middle\" font-size=\"14px\" font-family=\"Arial\">Ry(s_l0_q7_block1_ry)</text><rect x=\"450.46074218750005\" y=\"25.0\" width=\"160.46636718750003\" height=\"40\" stroke=\"black\" fill=\"white\" stroke-width=\"1\" /><text x=\"530.6939257812501\" y=\"45.0\" dominant-baseline=\"middle\" text-anchor=\"middle\" font-size=\"14px\" font-family=\"Arial\">Rz(s_l0_q0_block1_rz)</text><rect x=\"450.46074218750005\" y=\"75.0\" width=\"160.46636718750003\" height=\"40\" stroke=\"black\" fill=\"white\" stroke-width=\"1\" /><text x=\"530.6939257812501\" y=\"95.0\" dominant-baseline=\"middle\" text-anchor=\"middle\" font-size=\"14px\" font-family=\"Arial\">Rz(s_l0_q1_block1_rz)</text><rect x=\"450.46074218750005\" y=\"125.0\" width=\"160.46636718750003\" height=\"40\" stroke=\"black\" fill=\"white\" stroke-width=\"1\" /><text x=\"530.6939257812501\" y=\"145.0\" dominant-baseline=\"middle\" text-anchor=\"middle\" font-size=\"14px\" font-family=\"Arial\">Rz(s_l0_q2_block1_rz)</text><rect x=\"450.46074218750005\" y=\"175.0\" width=\"160.46636718750003\" height=\"40\" stroke=\"black\" fill=\"white\" stroke-width=\"1\" /><text x=\"530.6939257812501\" y=\"195.0\" dominant-baseline=\"middle\" text-anchor=\"middle\" font-size=\"14px\" font-family=\"Arial\">Rz(s_l0_q3_block1_rz)</text><rect x=\"450.46074218750005\" y=\"225.0\" width=\"160.46636718750003\" height=\"40\" stroke=\"black\" fill=\"white\" stroke-width=\"1\" /><text x=\"530.6939257812501\" y=\"245.0\" dominant-baseline=\"middle\" text-anchor=\"middle\" font-size=\"14px\" font-family=\"Arial\">Rz(s_l0_q4_block1_rz)</text><rect x=\"450.46074218750005\" y=\"275.0\" width=\"160.46636718750003\" height=\"40\" stroke=\"black\" fill=\"white\" stroke-width=\"1\" /><text x=\"530.6939257812501\" y=\"295.0\" dominant-baseline=\"middle\" text-anchor=\"middle\" font-size=\"14px\" font-family=\"Arial\">Rz(s_l0_q5_block1_rz)</text><rect x=\"450.46074218750005\" y=\"325.0\" width=\"160.46636718750003\" height=\"40\" stroke=\"black\" fill=\"white\" stroke-width=\"1\" /><text x=\"530.6939257812501\" y=\"345.0\" dominant-baseline=\"middle\" text-anchor=\"middle\" font-size=\"14px\" font-family=\"Arial\">Rz(s_l0_q6_block1_rz)</text><rect x=\"450.46074218750005\" y=\"375.0\" width=\"160.46636718750003\" height=\"40\" stroke=\"black\" fill=\"white\" stroke-width=\"1\" /><text x=\"530.6939257812501\" y=\"395.0\" dominant-baseline=\"middle\" text-anchor=\"middle\" font-size=\"14px\" font-family=\"Arial\">Rz(s_l0_q7_block1_rz)</text><circle cx=\"711.52177734375\" cy=\"45.0\" r=\"10.0\" /><rect x=\"630.9271093750001\" y=\"375.0\" width=\"161.1893359375\" height=\"40\" stroke=\"black\" fill=\"white\" stroke-width=\"1\" /><text x=\"711.52177734375\" y=\"395.0\" dominant-baseline=\"middle\" text-anchor=\"middle\" font-size=\"14px\" font-family=\"Arial\">@^s_l0_q0_block1_cz</text><rect x=\"812.1164453125001\" y=\"375.0\" width=\"170.87914062500002\" height=\"40\" stroke=\"black\" fill=\"white\" stroke-width=\"1\" /><text x=\"897.5560156250001\" y=\"395.0\" dominant-baseline=\"middle\" text-anchor=\"middle\" font-size=\"14px\" font-family=\"Arial\">Rx(s_l0_q7_block1_rx2)</text><rect x=\"1002.9955859375002\" y=\"375.0\" width=\"161.1893359375\" height=\"40\" stroke=\"black\" fill=\"white\" stroke-width=\"1\" /><text x=\"1083.5902539062502\" y=\"395.0\" dominant-baseline=\"middle\" text-anchor=\"middle\" font-size=\"14px\" font-family=\"Arial\">@^s_l0_q7_block1_cz</text><circle cx=\"1083.5902539062502\" cy=\"345.0\" r=\"10.0\" /><rect x=\"1184.184921875\" y=\"325.0\" width=\"170.87914062500002\" height=\"40\" stroke=\"black\" fill=\"white\" stroke-width=\"1\" /><text x=\"1269.6244921875002\" y=\"345.0\" dominant-baseline=\"middle\" text-anchor=\"middle\" font-size=\"14px\" font-family=\"Arial\">Rx(s_l0_q6_block1_rx2)</text><rect x=\"1184.184921875\" y=\"375.0\" width=\"170.87914062500002\" height=\"40\" stroke=\"black\" fill=\"white\" stroke-width=\"1\" /><text x=\"1269.6244921875002\" y=\"395.0\" dominant-baseline=\"middle\" text-anchor=\"middle\" font-size=\"14px\" font-family=\"Arial\">Rz(s_l1_q7_block3_rz0)</text><rect x=\"1375.0640625\" y=\"325.0\" width=\"161.56941406250002\" height=\"40\" stroke=\"black\" fill=\"white\" stroke-width=\"1\" /><text x=\"1455.8487695312501\" y=\"345.0\" dominant-baseline=\"middle\" text-anchor=\"middle\" font-size=\"14px\" font-family=\"Arial\">@^s_l0_q6_block1_cz</text><circle cx=\"1455.8487695312501\" cy=\"295.0\" r=\"10.0\" /><rect x=\"1375.0640625\" y=\"375.0\" width=\"161.56941406250002\" height=\"40\" stroke=\"black\" fill=\"white\" stroke-width=\"1\" /><text x=\"1455.8487695312501\" y=\"395.0\" dominant-baseline=\"middle\" text-anchor=\"middle\" font-size=\"14px\" font-family=\"Arial\">Ry(s_l1_q7_block3_ry)</text><rect x=\"1556.6334765625002\" y=\"275.0\" width=\"170.87914062500002\" height=\"40\" stroke=\"black\" fill=\"white\" stroke-width=\"1\" /><text x=\"1642.0730468750003\" y=\"295.0\" dominant-baseline=\"middle\" text-anchor=\"middle\" font-size=\"14px\" font-family=\"Arial\">Rx(s_l0_q5_block1_rx2)</text><rect x=\"1556.6334765625002\" y=\"325.0\" width=\"170.87914062500002\" height=\"40\" stroke=\"black\" fill=\"white\" stroke-width=\"1\" /><text x=\"1642.0730468750003\" y=\"345.0\" dominant-baseline=\"middle\" text-anchor=\"middle\" font-size=\"14px\" font-family=\"Arial\">Rz(s_l1_q6_block3_rz0)</text><rect x=\"1556.6334765625002\" y=\"375.0\" width=\"170.87914062500002\" height=\"40\" stroke=\"black\" fill=\"white\" stroke-width=\"1\" /><text x=\"1642.0730468750003\" y=\"395.0\" dominant-baseline=\"middle\" text-anchor=\"middle\" font-size=\"14px\" font-family=\"Arial\">Rz(s_l1_q7_block3_rz)</text><rect x=\"1747.5126171875002\" y=\"275.0\" width=\"161.56941406250002\" height=\"40\" stroke=\"black\" fill=\"white\" stroke-width=\"1\" /><text x=\"1828.2973242187502\" y=\"295.0\" dominant-baseline=\"middle\" text-anchor=\"middle\" font-size=\"14px\" font-family=\"Arial\">@^s_l0_q5_block1_cz</text><circle cx=\"1828.2973242187502\" cy=\"245.0\" r=\"10.0\" /><rect x=\"1747.5126171875002\" y=\"325.0\" width=\"161.56941406250002\" height=\"40\" stroke=\"black\" fill=\"white\" stroke-width=\"1\" /><text x=\"1828.2973242187502\" y=\"345.0\" dominant-baseline=\"middle\" text-anchor=\"middle\" font-size=\"14px\" font-family=\"Arial\">Ry(s_l1_q6_block3_ry)</text><rect x=\"1929.0820312500002\" y=\"225.0\" width=\"170.87914062500002\" height=\"40\" stroke=\"black\" fill=\"white\" stroke-width=\"1\" /><text x=\"2014.5216015625003\" y=\"245.0\" dominant-baseline=\"middle\" text-anchor=\"middle\" font-size=\"14px\" font-family=\"Arial\">Rx(s_l0_q4_block1_rx2)</text><rect x=\"1929.0820312500002\" y=\"275.0\" width=\"170.87914062500002\" height=\"40\" stroke=\"black\" fill=\"white\" stroke-width=\"1\" /><text x=\"2014.5216015625003\" y=\"295.0\" dominant-baseline=\"middle\" text-anchor=\"middle\" font-size=\"14px\" font-family=\"Arial\">Rz(s_l1_q5_block3_rz0)</text><rect x=\"1929.0820312500002\" y=\"325.0\" width=\"170.87914062500002\" height=\"40\" stroke=\"black\" fill=\"white\" stroke-width=\"1\" /><text x=\"2014.5216015625003\" y=\"345.0\" dominant-baseline=\"middle\" text-anchor=\"middle\" font-size=\"14px\" font-family=\"Arial\">Rz(s_l1_q6_block3_rz)</text><rect x=\"2119.961171875\" y=\"225.0\" width=\"161.56941406250002\" height=\"40\" stroke=\"black\" fill=\"white\" stroke-width=\"1\" /><text x=\"2200.7458789062503\" y=\"245.0\" dominant-baseline=\"middle\" text-anchor=\"middle\" font-size=\"14px\" font-family=\"Arial\">@^s_l0_q4_block1_cz</text><circle cx=\"2200.7458789062503\" cy=\"195.0\" r=\"10.0\" /><rect x=\"2119.961171875\" y=\"275.0\" width=\"161.56941406250002\" height=\"40\" stroke=\"black\" fill=\"white\" stroke-width=\"1\" /><text x=\"2200.7458789062503\" y=\"295.0\" dominant-baseline=\"middle\" text-anchor=\"middle\" font-size=\"14px\" font-family=\"Arial\">Ry(s_l1_q5_block3_ry)</text><rect x=\"2301.5305859375003\" y=\"175.0\" width=\"170.87914062500002\" height=\"40\" stroke=\"black\" fill=\"white\" stroke-width=\"1\" /><text x=\"2386.9701562500004\" y=\"195.0\" dominant-baseline=\"middle\" text-anchor=\"middle\" font-size=\"14px\" font-family=\"Arial\">Rx(s_l0_q3_block1_rx2)</text><rect x=\"2301.5305859375003\" y=\"225.0\" width=\"170.87914062500002\" height=\"40\" stroke=\"black\" fill=\"white\" stroke-width=\"1\" /><text x=\"2386.9701562500004\" y=\"245.0\" dominant-baseline=\"middle\" text-anchor=\"middle\" font-size=\"14px\" font-family=\"Arial\">Rz(s_l1_q4_block3_rz0)</text><rect x=\"2301.5305859375003\" y=\"275.0\" width=\"170.87914062500002\" height=\"40\" stroke=\"black\" fill=\"white\" stroke-width=\"1\" /><text x=\"2386.9701562500004\" y=\"295.0\" dominant-baseline=\"middle\" text-anchor=\"middle\" font-size=\"14px\" font-family=\"Arial\">Rz(s_l1_q5_block3_rz)</text><rect x=\"2492.4097265625005\" y=\"175.0\" width=\"161.56941406250002\" height=\"40\" stroke=\"black\" fill=\"white\" stroke-width=\"1\" /><text x=\"2573.1944335937505\" y=\"195.0\" dominant-baseline=\"middle\" text-anchor=\"middle\" font-size=\"14px\" font-family=\"Arial\">@^s_l0_q3_block1_cz</text><circle cx=\"2573.1944335937505\" cy=\"145.0\" r=\"10.0\" /><rect x=\"2492.4097265625005\" y=\"225.0\" width=\"161.56941406250002\" height=\"40\" stroke=\"black\" fill=\"white\" stroke-width=\"1\" /><text x=\"2573.1944335937505\" y=\"245.0\" dominant-baseline=\"middle\" text-anchor=\"middle\" font-size=\"14px\" font-family=\"Arial\">Ry(s_l1_q4_block3_ry)</text><rect x=\"2673.9791406250006\" y=\"125.0\" width=\"170.87914062500002\" height=\"40\" stroke=\"black\" fill=\"white\" stroke-width=\"1\" /><text x=\"2759.4187109375007\" y=\"145.0\" dominant-baseline=\"middle\" text-anchor=\"middle\" font-size=\"14px\" font-family=\"Arial\">Rx(s_l0_q2_block1_rx2)</text><rect x=\"2673.9791406250006\" y=\"175.0\" width=\"170.87914062500002\" height=\"40\" stroke=\"black\" fill=\"white\" stroke-width=\"1\" /><text x=\"2759.4187109375007\" y=\"195.0\" dominant-baseline=\"middle\" text-anchor=\"middle\" font-size=\"14px\" font-family=\"Arial\">Rz(s_l1_q3_block3_rz0)</text><rect x=\"2673.9791406250006\" y=\"225.0\" width=\"170.87914062500002\" height=\"40\" stroke=\"black\" fill=\"white\" stroke-width=\"1\" /><text x=\"2759.4187109375007\" y=\"245.0\" dominant-baseline=\"middle\" text-anchor=\"middle\" font-size=\"14px\" font-family=\"Arial\">Rz(s_l1_q4_block3_rz)</text><rect x=\"2864.858281250001\" y=\"125.0\" width=\"161.56941406250002\" height=\"40\" stroke=\"black\" fill=\"white\" stroke-width=\"1\" /><text x=\"2945.642988281251\" y=\"145.0\" dominant-baseline=\"middle\" text-anchor=\"middle\" font-size=\"14px\" font-family=\"Arial\">@^s_l0_q2_block1_cz</text><circle cx=\"2945.642988281251\" cy=\"95.0\" r=\"10.0\" /><rect x=\"2864.858281250001\" y=\"175.0\" width=\"161.56941406250002\" height=\"40\" stroke=\"black\" fill=\"white\" stroke-width=\"1\" /><text x=\"2945.642988281251\" y=\"195.0\" dominant-baseline=\"middle\" text-anchor=\"middle\" font-size=\"14px\" font-family=\"Arial\">Ry(s_l1_q3_block3_ry)</text><rect x=\"3046.427695312501\" y=\"75.0\" width=\"170.87914062500002\" height=\"40\" stroke=\"black\" fill=\"white\" stroke-width=\"1\" /><text x=\"3131.867265625001\" y=\"95.0\" dominant-baseline=\"middle\" text-anchor=\"middle\" font-size=\"14px\" font-family=\"Arial\">Rx(s_l0_q1_block1_rx2)</text><rect x=\"3046.427695312501\" y=\"125.0\" width=\"170.87914062500002\" height=\"40\" stroke=\"black\" fill=\"white\" stroke-width=\"1\" /><text x=\"3131.867265625001\" y=\"145.0\" dominant-baseline=\"middle\" text-anchor=\"middle\" font-size=\"14px\" font-family=\"Arial\">Rz(s_l1_q2_block3_rz0)</text><rect x=\"3046.427695312501\" y=\"175.0\" width=\"170.87914062500002\" height=\"40\" stroke=\"black\" fill=\"white\" stroke-width=\"1\" /><text x=\"3131.867265625001\" y=\"195.0\" dominant-baseline=\"middle\" text-anchor=\"middle\" font-size=\"14px\" font-family=\"Arial\">Rz(s_l1_q3_block3_rz)</text><rect x=\"3237.306835937501\" y=\"75.0\" width=\"161.56941406250002\" height=\"40\" stroke=\"black\" fill=\"white\" stroke-width=\"1\" /><text x=\"3318.091542968751\" y=\"95.0\" dominant-baseline=\"middle\" text-anchor=\"middle\" font-size=\"14px\" font-family=\"Arial\">@^s_l0_q1_block1_cz</text><circle cx=\"3318.091542968751\" cy=\"45.0\" r=\"10.0\" /><rect x=\"3237.306835937501\" y=\"125.0\" width=\"161.56941406250002\" height=\"40\" stroke=\"black\" fill=\"white\" stroke-width=\"1\" /><text x=\"3318.091542968751\" y=\"145.0\" dominant-baseline=\"middle\" text-anchor=\"middle\" font-size=\"14px\" font-family=\"Arial\">Ry(s_l1_q2_block3_ry)</text><rect x=\"3418.876250000001\" y=\"25.0\" width=\"170.87914062500002\" height=\"40\" stroke=\"black\" fill=\"white\" stroke-width=\"1\" /><text x=\"3504.3158203125013\" y=\"45.0\" dominant-baseline=\"middle\" text-anchor=\"middle\" font-size=\"14px\" font-family=\"Arial\">Rx(s_l0_q0_block1_rx2)</text><rect x=\"3418.876250000001\" y=\"75.0\" width=\"170.87914062500002\" height=\"40\" stroke=\"black\" fill=\"white\" stroke-width=\"1\" /><text x=\"3504.3158203125013\" y=\"95.0\" dominant-baseline=\"middle\" text-anchor=\"middle\" font-size=\"14px\" font-family=\"Arial\">Rz(s_l1_q1_block3_rz0)</text><rect x=\"3418.876250000001\" y=\"125.0\" width=\"170.87914062500002\" height=\"40\" stroke=\"black\" fill=\"white\" stroke-width=\"1\" /><text x=\"3504.3158203125013\" y=\"145.0\" dominant-baseline=\"middle\" text-anchor=\"middle\" font-size=\"14px\" font-family=\"Arial\">Rz(s_l1_q2_block3_rz)</text><rect x=\"3609.7553906250014\" y=\"25.0\" width=\"169.37359375000003\" height=\"40\" stroke=\"black\" fill=\"white\" stroke-width=\"1\" /><text x=\"3694.442187500001\" y=\"45.0\" dominant-baseline=\"middle\" text-anchor=\"middle\" font-size=\"14px\" font-family=\"Arial\">Rz(s_l1_q0_block3_rz0)</text><rect x=\"3609.7553906250014\" y=\"75.0\" width=\"169.37359375000003\" height=\"40\" stroke=\"black\" fill=\"white\" stroke-width=\"1\" /><text x=\"3694.442187500001\" y=\"95.0\" dominant-baseline=\"middle\" text-anchor=\"middle\" font-size=\"14px\" font-family=\"Arial\">Ry(s_l1_q1_block3_ry)</text><rect x=\"3799.1289843750014\" y=\"25.0\" width=\"161.56941406250002\" height=\"40\" stroke=\"black\" fill=\"white\" stroke-width=\"1\" /><text x=\"3879.9136914062515\" y=\"45.0\" dominant-baseline=\"middle\" text-anchor=\"middle\" font-size=\"14px\" font-family=\"Arial\">Ry(s_l1_q0_block3_ry)</text><rect x=\"3799.1289843750014\" y=\"75.0\" width=\"161.56941406250002\" height=\"40\" stroke=\"black\" fill=\"white\" stroke-width=\"1\" /><text x=\"3879.9136914062515\" y=\"95.0\" dominant-baseline=\"middle\" text-anchor=\"middle\" font-size=\"14px\" font-family=\"Arial\">Rz(s_l1_q1_block3_rz)</text><rect x=\"3980.6983984375015\" y=\"25.0\" width=\"160.46636718750003\" height=\"40\" stroke=\"black\" fill=\"white\" stroke-width=\"1\" /><text x=\"4060.9315820312513\" y=\"45.0\" dominant-baseline=\"middle\" text-anchor=\"middle\" font-size=\"14px\" font-family=\"Arial\">Rz(s_l1_q0_block3_rz)</text><circle cx=\"4241.759433593752\" cy=\"45.0\" r=\"10.0\" /><rect x=\"4161.164765625002\" y=\"275.0\" width=\"161.1893359375\" height=\"40\" stroke=\"black\" fill=\"white\" stroke-width=\"1\" /><text x=\"4241.759433593752\" y=\"295.0\" dominant-baseline=\"middle\" text-anchor=\"middle\" font-size=\"14px\" font-family=\"Arial\">@^s_l1_q0_block3_cz</text><rect x=\"4342.3541015625015\" y=\"275.0\" width=\"170.87914062500002\" height=\"40\" stroke=\"black\" fill=\"white\" stroke-width=\"1\" /><text x=\"4427.793671875002\" y=\"295.0\" dominant-baseline=\"middle\" text-anchor=\"middle\" font-size=\"14px\" font-family=\"Arial\">Rx(s_l1_q5_block3_rx2)</text><rect x=\"4533.233242187502\" y=\"275.0\" width=\"161.1893359375\" height=\"40\" stroke=\"black\" fill=\"white\" stroke-width=\"1\" /><text x=\"4613.827910156252\" y=\"295.0\" dominant-baseline=\"middle\" text-anchor=\"middle\" font-size=\"14px\" font-family=\"Arial\">@^s_l1_q5_block3_cz</text><circle cx=\"4613.827910156252\" cy=\"145.0\" r=\"10.0\" /><rect x=\"4714.422578125002\" y=\"125.0\" width=\"170.87914062500002\" height=\"40\" stroke=\"black\" fill=\"white\" stroke-width=\"1\" /><text x=\"4799.862148437502\" y=\"145.0\" dominant-baseline=\"middle\" text-anchor=\"middle\" font-size=\"14px\" font-family=\"Arial\">Rx(s_l1_q2_block3_rx2)</text><rect x=\"4714.422578125002\" y=\"275.0\" width=\"170.87914062500002\" height=\"40\" stroke=\"black\" fill=\"white\" stroke-width=\"1\" /><text x=\"4799.862148437502\" y=\"295.0\" dominant-baseline=\"middle\" text-anchor=\"middle\" font-size=\"14px\" font-family=\"Arial\">Rz(s_l2_q5_block7_rz0)</text><circle cx=\"4975.896386718752\" cy=\"145.0\" r=\"10.0\" /><rect x=\"4895.301718750002\" y=\"375.0\" width=\"161.1893359375\" height=\"40\" stroke=\"black\" fill=\"white\" stroke-width=\"1\" /><text x=\"4975.896386718752\" y=\"395.0\" dominant-baseline=\"middle\" text-anchor=\"middle\" font-size=\"14px\" font-family=\"Arial\">@^s_l1_q2_block3_cz</text><rect x=\"5056.491054687502\" y=\"275.0\" width=\"161.56941406250002\" height=\"40\" stroke=\"black\" fill=\"white\" stroke-width=\"1\" /><text x=\"5137.275761718752\" y=\"295.0\" dominant-baseline=\"middle\" text-anchor=\"middle\" font-size=\"14px\" font-family=\"Arial\">Ry(s_l2_q5_block7_ry)</text><rect x=\"5248.060468750002\" y=\"375.0\" width=\"170.87914062500002\" height=\"40\" stroke=\"black\" fill=\"white\" stroke-width=\"1\" /><text x=\"5333.500039062502\" y=\"395.0\" dominant-baseline=\"middle\" text-anchor=\"middle\" font-size=\"14px\" font-family=\"Arial\">Rx(s_l1_q7_block3_rx2)</text><rect x=\"5248.060468750002\" y=\"125.0\" width=\"170.87914062500002\" height=\"40\" stroke=\"black\" fill=\"white\" stroke-width=\"1\" /><text x=\"5333.500039062502\" y=\"145.0\" dominant-baseline=\"middle\" text-anchor=\"middle\" font-size=\"14px\" font-family=\"Arial\">Rz(s_l2_q2_block7_rz0)</text><rect x=\"5248.060468750002\" y=\"275.0\" width=\"170.87914062500002\" height=\"40\" stroke=\"black\" fill=\"white\" stroke-width=\"1\" /><text x=\"5333.500039062502\" y=\"295.0\" dominant-baseline=\"middle\" text-anchor=\"middle\" font-size=\"14px\" font-family=\"Arial\">Rz(s_l2_q5_block7_rz)</text><rect x=\"5438.939609375002\" y=\"375.0\" width=\"161.56941406250002\" height=\"40\" stroke=\"black\" fill=\"white\" stroke-width=\"1\" /><text x=\"5519.724316406252\" y=\"395.0\" dominant-baseline=\"middle\" text-anchor=\"middle\" font-size=\"14px\" font-family=\"Arial\">@^s_l1_q7_block3_cz</text><circle cx=\"5519.724316406252\" cy=\"245.0\" r=\"10.0\" /><rect x=\"5438.939609375002\" y=\"125.0\" width=\"161.56941406250002\" height=\"40\" stroke=\"black\" fill=\"white\" stroke-width=\"1\" /><text x=\"5519.724316406252\" y=\"145.0\" dominant-baseline=\"middle\" text-anchor=\"middle\" font-size=\"14px\" font-family=\"Arial\">Ry(s_l2_q2_block7_ry)</text><rect x=\"5620.509023437502\" y=\"225.0\" width=\"170.87914062500002\" height=\"40\" stroke=\"black\" fill=\"white\" stroke-width=\"1\" /><text x=\"5705.948593750002\" y=\"245.0\" dominant-baseline=\"middle\" text-anchor=\"middle\" font-size=\"14px\" font-family=\"Arial\">Rx(s_l1_q4_block3_rx2)</text><rect x=\"5620.509023437502\" y=\"375.0\" width=\"170.87914062500002\" height=\"40\" stroke=\"black\" fill=\"white\" stroke-width=\"1\" /><text x=\"5705.948593750002\" y=\"395.0\" dominant-baseline=\"middle\" text-anchor=\"middle\" font-size=\"14px\" font-family=\"Arial\">Rz(s_l2_q7_block7_rz0)</text><rect x=\"5620.509023437502\" y=\"125.0\" width=\"170.87914062500002\" height=\"40\" stroke=\"black\" fill=\"white\" stroke-width=\"1\" /><text x=\"5705.948593750002\" y=\"145.0\" dominant-baseline=\"middle\" text-anchor=\"middle\" font-size=\"14px\" font-family=\"Arial\">Rz(s_l2_q2_block7_rz)</text><rect x=\"5811.388164062502\" y=\"225.0\" width=\"161.56941406250002\" height=\"40\" stroke=\"black\" fill=\"white\" stroke-width=\"1\" /><text x=\"5892.172871093752\" y=\"245.0\" dominant-baseline=\"middle\" text-anchor=\"middle\" font-size=\"14px\" font-family=\"Arial\">@^s_l1_q4_block3_cz</text><circle cx=\"5892.172871093752\" cy=\"95.0\" r=\"10.0\" /><rect x=\"5811.388164062502\" y=\"375.0\" width=\"161.56941406250002\" height=\"40\" stroke=\"black\" fill=\"white\" stroke-width=\"1\" /><text x=\"5892.172871093752\" y=\"395.0\" dominant-baseline=\"middle\" text-anchor=\"middle\" font-size=\"14px\" font-family=\"Arial\">Ry(s_l2_q7_block7_ry)</text><rect x=\"5992.957578125002\" y=\"75.0\" width=\"170.87914062500002\" height=\"40\" stroke=\"black\" fill=\"white\" stroke-width=\"1\" /><text x=\"6078.397148437502\" y=\"95.0\" dominant-baseline=\"middle\" text-anchor=\"middle\" font-size=\"14px\" font-family=\"Arial\">Rx(s_l1_q1_block3_rx2)</text><rect x=\"5992.957578125002\" y=\"225.0\" width=\"170.87914062500002\" height=\"40\" stroke=\"black\" fill=\"white\" stroke-width=\"1\" /><text x=\"6078.397148437502\" y=\"245.0\" dominant-baseline=\"middle\" text-anchor=\"middle\" font-size=\"14px\" font-family=\"Arial\">Rz(s_l2_q4_block7_rz0)</text><rect x=\"5992.957578125002\" y=\"375.0\" width=\"170.87914062500002\" height=\"40\" stroke=\"black\" fill=\"white\" stroke-width=\"1\" /><text x=\"6078.397148437502\" y=\"395.0\" dominant-baseline=\"middle\" text-anchor=\"middle\" font-size=\"14px\" font-family=\"Arial\">Rz(s_l2_q7_block7_rz)</text><circle cx=\"6254.431386718753\" cy=\"95.0\" r=\"10.0\" /><rect x=\"6173.836718750003\" y=\"325.0\" width=\"161.1893359375\" height=\"40\" stroke=\"black\" fill=\"white\" stroke-width=\"1\" /><text x=\"6254.431386718753\" y=\"345.0\" dominant-baseline=\"middle\" text-anchor=\"middle\" font-size=\"14px\" font-family=\"Arial\">@^s_l1_q1_block3_cz</text><rect x=\"6335.026054687502\" y=\"225.0\" width=\"161.56941406250002\" height=\"40\" stroke=\"black\" fill=\"white\" stroke-width=\"1\" /><text x=\"6415.8107617187525\" y=\"245.0\" dominant-baseline=\"middle\" text-anchor=\"middle\" font-size=\"14px\" font-family=\"Arial\">Ry(s_l2_q4_block7_ry)</text><rect x=\"6526.5954687500025\" y=\"325.0\" width=\"170.87914062500002\" height=\"40\" stroke=\"black\" fill=\"white\" stroke-width=\"1\" /><text x=\"6612.035039062503\" y=\"345.0\" dominant-baseline=\"middle\" text-anchor=\"middle\" font-size=\"14px\" font-family=\"Arial\">Rx(s_l1_q6_block3_rx2)</text><rect x=\"6526.5954687500025\" y=\"75.0\" width=\"170.87914062500002\" height=\"40\" stroke=\"black\" fill=\"white\" stroke-width=\"1\" /><text x=\"6612.035039062503\" y=\"95.0\" dominant-baseline=\"middle\" text-anchor=\"middle\" font-size=\"14px\" font-family=\"Arial\">Rz(s_l2_q1_block7_rz0)</text><rect x=\"6526.5954687500025\" y=\"225.0\" width=\"170.87914062500002\" height=\"40\" stroke=\"black\" fill=\"white\" stroke-width=\"1\" /><text x=\"6612.035039062503\" y=\"245.0\" dominant-baseline=\"middle\" text-anchor=\"middle\" font-size=\"14px\" font-family=\"Arial\">Rz(s_l2_q4_block7_rz)</text><rect x=\"6717.474609375003\" y=\"325.0\" width=\"161.56941406250002\" height=\"40\" stroke=\"black\" fill=\"white\" stroke-width=\"1\" /><text x=\"6798.259316406253\" y=\"345.0\" dominant-baseline=\"middle\" text-anchor=\"middle\" font-size=\"14px\" font-family=\"Arial\">@^s_l1_q6_block3_cz</text><circle cx=\"6798.259316406253\" cy=\"195.0\" r=\"10.0\" /><rect x=\"6717.474609375003\" y=\"75.0\" width=\"161.56941406250002\" height=\"40\" stroke=\"black\" fill=\"white\" stroke-width=\"1\" /><text x=\"6798.259316406253\" y=\"95.0\" dominant-baseline=\"middle\" text-anchor=\"middle\" font-size=\"14px\" font-family=\"Arial\">Ry(s_l2_q1_block7_ry)</text><rect x=\"6899.044023437503\" y=\"175.0\" width=\"170.87914062500002\" height=\"40\" stroke=\"black\" fill=\"white\" stroke-width=\"1\" /><text x=\"6984.483593750003\" y=\"195.0\" dominant-baseline=\"middle\" text-anchor=\"middle\" font-size=\"14px\" font-family=\"Arial\">Rx(s_l1_q3_block3_rx2)</text><rect x=\"6899.044023437503\" y=\"325.0\" width=\"170.87914062500002\" height=\"40\" stroke=\"black\" fill=\"white\" stroke-width=\"1\" /><text x=\"6984.483593750003\" y=\"345.0\" dominant-baseline=\"middle\" text-anchor=\"middle\" font-size=\"14px\" font-family=\"Arial\">Rz(s_l2_q6_block7_rz0)</text><rect x=\"6899.044023437503\" y=\"75.0\" width=\"170.87914062500002\" height=\"40\" stroke=\"black\" fill=\"white\" stroke-width=\"1\" /><text x=\"6984.483593750003\" y=\"95.0\" dominant-baseline=\"middle\" text-anchor=\"middle\" font-size=\"14px\" font-family=\"Arial\">Rz(s_l2_q1_block7_rz)</text><rect x=\"7089.923164062503\" y=\"175.0\" width=\"161.56941406250002\" height=\"40\" stroke=\"black\" fill=\"white\" stroke-width=\"1\" /><text x=\"7170.707871093753\" y=\"195.0\" dominant-baseline=\"middle\" text-anchor=\"middle\" font-size=\"14px\" font-family=\"Arial\">@^s_l1_q3_block3_cz</text><circle cx=\"7170.707871093753\" cy=\"45.0\" r=\"10.0\" /><rect x=\"7089.923164062503\" y=\"325.0\" width=\"161.56941406250002\" height=\"40\" stroke=\"black\" fill=\"white\" stroke-width=\"1\" /><text x=\"7170.707871093753\" y=\"345.0\" dominant-baseline=\"middle\" text-anchor=\"middle\" font-size=\"14px\" font-family=\"Arial\">Ry(s_l2_q6_block7_ry)</text><rect x=\"7271.492578125003\" y=\"25.0\" width=\"170.87914062500002\" height=\"40\" stroke=\"black\" fill=\"white\" stroke-width=\"1\" /><text x=\"7356.932148437503\" y=\"45.0\" dominant-baseline=\"middle\" text-anchor=\"middle\" font-size=\"14px\" font-family=\"Arial\">Rx(s_l1_q0_block3_rx2)</text><rect x=\"7271.492578125003\" y=\"175.0\" width=\"170.87914062500002\" height=\"40\" stroke=\"black\" fill=\"white\" stroke-width=\"1\" /><text x=\"7356.932148437503\" y=\"195.0\" dominant-baseline=\"middle\" text-anchor=\"middle\" font-size=\"14px\" font-family=\"Arial\">Rz(s_l2_q3_block7_rz0)</text><rect x=\"7271.492578125003\" y=\"325.0\" width=\"170.87914062500002\" height=\"40\" stroke=\"black\" fill=\"white\" stroke-width=\"1\" /><text x=\"7356.932148437503\" y=\"345.0\" dominant-baseline=\"middle\" text-anchor=\"middle\" font-size=\"14px\" font-family=\"Arial\">Rz(s_l2_q6_block7_rz)</text><rect x=\"7462.371718750003\" y=\"25.0\" width=\"169.37359375000003\" height=\"40\" stroke=\"black\" fill=\"white\" stroke-width=\"1\" /><text x=\"7547.058515625004\" y=\"45.0\" dominant-baseline=\"middle\" text-anchor=\"middle\" font-size=\"14px\" font-family=\"Arial\">Rz(s_l2_q0_block7_rz0)</text><rect x=\"7462.371718750003\" y=\"175.0\" width=\"169.37359375000003\" height=\"40\" stroke=\"black\" fill=\"white\" stroke-width=\"1\" /><text x=\"7547.058515625004\" y=\"195.0\" dominant-baseline=\"middle\" text-anchor=\"middle\" font-size=\"14px\" font-family=\"Arial\">Ry(s_l2_q3_block7_ry)</text><rect x=\"7651.745312500003\" y=\"25.0\" width=\"161.56941406250002\" height=\"40\" stroke=\"black\" fill=\"white\" stroke-width=\"1\" /><text x=\"7732.530019531253\" y=\"45.0\" dominant-baseline=\"middle\" text-anchor=\"middle\" font-size=\"14px\" font-family=\"Arial\">Ry(s_l2_q0_block7_ry)</text><rect x=\"7651.745312500003\" y=\"175.0\" width=\"161.56941406250002\" height=\"40\" stroke=\"black\" fill=\"white\" stroke-width=\"1\" /><text x=\"7732.530019531253\" y=\"195.0\" dominant-baseline=\"middle\" text-anchor=\"middle\" font-size=\"14px\" font-family=\"Arial\">Rz(s_l2_q3_block7_rz)</text><rect x=\"7833.314726562503\" y=\"25.0\" width=\"160.46636718750003\" height=\"40\" stroke=\"black\" fill=\"white\" stroke-width=\"1\" /><text x=\"7913.547910156253\" y=\"45.0\" dominant-baseline=\"middle\" text-anchor=\"middle\" font-size=\"14px\" font-family=\"Arial\">Rz(s_l2_q0_block7_rz)</text><circle cx=\"8094.375761718753\" cy=\"45.0\" r=\"10.0\" /><rect x=\"8013.781093750003\" y=\"75.0\" width=\"161.1893359375\" height=\"40\" stroke=\"black\" fill=\"white\" stroke-width=\"1\" /><text x=\"8094.375761718753\" y=\"95.0\" dominant-baseline=\"middle\" text-anchor=\"middle\" font-size=\"14px\" font-family=\"Arial\">@^s_l2_q0_block7_cz</text><rect x=\"8194.970429687502\" y=\"75.0\" width=\"170.87914062500002\" height=\"40\" stroke=\"black\" fill=\"white\" stroke-width=\"1\" /><text x=\"8280.410000000002\" y=\"95.0\" dominant-baseline=\"middle\" text-anchor=\"middle\" font-size=\"14px\" font-family=\"Arial\">Rx(s_l2_q1_block7_rx2)</text><circle cx=\"8466.444238281252\" cy=\"95.0\" r=\"10.0\" /><rect x=\"8385.849570312503\" y=\"125.0\" width=\"161.1893359375\" height=\"40\" stroke=\"black\" fill=\"white\" stroke-width=\"1\" /><text x=\"8466.444238281252\" y=\"145.0\" dominant-baseline=\"middle\" text-anchor=\"middle\" font-size=\"14px\" font-family=\"Arial\">@^s_l2_q1_block7_cz</text><rect x=\"8567.038906250003\" y=\"125.0\" width=\"170.87914062500002\" height=\"40\" stroke=\"black\" fill=\"white\" stroke-width=\"1\" /><text x=\"8652.478476562503\" y=\"145.0\" dominant-baseline=\"middle\" text-anchor=\"middle\" font-size=\"14px\" font-family=\"Arial\">Rx(s_l2_q2_block7_rx2)</text><circle cx=\"8838.512714843753\" cy=\"145.0\" r=\"10.0\" /><rect x=\"8757.918046875004\" y=\"175.0\" width=\"161.1893359375\" height=\"40\" stroke=\"black\" fill=\"white\" stroke-width=\"1\" /><text x=\"8838.512714843753\" y=\"195.0\" dominant-baseline=\"middle\" text-anchor=\"middle\" font-size=\"14px\" font-family=\"Arial\">@^s_l2_q2_block7_cz</text><rect x=\"8939.107382812505\" y=\"175.0\" width=\"170.87914062500002\" height=\"40\" stroke=\"black\" fill=\"white\" stroke-width=\"1\" /><text x=\"9024.546953125004\" y=\"195.0\" dominant-baseline=\"middle\" text-anchor=\"middle\" font-size=\"14px\" font-family=\"Arial\">Rx(s_l2_q3_block7_rx2)</text><circle cx=\"9210.581191406254\" cy=\"195.0\" r=\"10.0\" /><rect x=\"9129.986523437505\" y=\"225.0\" width=\"161.1893359375\" height=\"40\" stroke=\"black\" fill=\"white\" stroke-width=\"1\" /><text x=\"9210.581191406254\" y=\"245.0\" dominant-baseline=\"middle\" text-anchor=\"middle\" font-size=\"14px\" font-family=\"Arial\">@^s_l2_q3_block7_cz</text><rect x=\"9311.175859375006\" y=\"225.0\" width=\"170.87914062500002\" height=\"40\" stroke=\"black\" fill=\"white\" stroke-width=\"1\" /><text x=\"9396.615429687505\" y=\"245.0\" dominant-baseline=\"middle\" text-anchor=\"middle\" font-size=\"14px\" font-family=\"Arial\">Rx(s_l2_q4_block7_rx2)</text><circle cx=\"9582.649667968755\" cy=\"245.0\" r=\"10.0\" /><rect x=\"9502.055000000006\" y=\"275.0\" width=\"161.1893359375\" height=\"40\" stroke=\"black\" fill=\"white\" stroke-width=\"1\" /><text x=\"9582.649667968755\" y=\"295.0\" dominant-baseline=\"middle\" text-anchor=\"middle\" font-size=\"14px\" font-family=\"Arial\">@^s_l2_q4_block7_cz</text><rect x=\"9683.244335937507\" y=\"275.0\" width=\"170.87914062500002\" height=\"40\" stroke=\"black\" fill=\"white\" stroke-width=\"1\" /><text x=\"9768.683906250006\" y=\"295.0\" dominant-baseline=\"middle\" text-anchor=\"middle\" font-size=\"14px\" font-family=\"Arial\">Rx(s_l2_q5_block7_rx2)</text><circle cx=\"9954.718144531256\" cy=\"295.0\" r=\"10.0\" /><rect x=\"9874.123476562507\" y=\"325.0\" width=\"161.1893359375\" height=\"40\" stroke=\"black\" fill=\"white\" stroke-width=\"1\" /><text x=\"9954.718144531256\" y=\"345.0\" dominant-baseline=\"middle\" text-anchor=\"middle\" font-size=\"14px\" font-family=\"Arial\">@^s_l2_q5_block7_cz</text><rect x=\"10055.312812500008\" y=\"325.0\" width=\"170.87914062500002\" height=\"40\" stroke=\"black\" fill=\"white\" stroke-width=\"1\" /><text x=\"10140.752382812507\" y=\"345.0\" dominant-baseline=\"middle\" text-anchor=\"middle\" font-size=\"14px\" font-family=\"Arial\">Rx(s_l2_q6_block7_rx2)</text><circle cx=\"10326.786621093757\" cy=\"345.0\" r=\"10.0\" /><rect x=\"10246.191953125008\" y=\"375.0\" width=\"161.1893359375\" height=\"40\" stroke=\"black\" fill=\"white\" stroke-width=\"1\" /><text x=\"10326.786621093757\" y=\"395.0\" dominant-baseline=\"middle\" text-anchor=\"middle\" font-size=\"14px\" font-family=\"Arial\">@^s_l2_q6_block7_cz</text><rect x=\"10427.381289062509\" y=\"375.0\" width=\"170.87914062500002\" height=\"40\" stroke=\"black\" fill=\"white\" stroke-width=\"1\" /><text x=\"10512.820859375008\" y=\"395.0\" dominant-baseline=\"middle\" text-anchor=\"middle\" font-size=\"14px\" font-family=\"Arial\">Rx(s_l2_q7_block7_rx2)</text><rect x=\"10618.260429687509\" y=\"375.0\" width=\"161.1893359375\" height=\"40\" stroke=\"black\" fill=\"white\" stroke-width=\"1\" /><text x=\"10698.855097656258\" y=\"395.0\" dominant-baseline=\"middle\" text-anchor=\"middle\" font-size=\"14px\" font-family=\"Arial\">@^s_l2_q7_block7_cz</text><circle cx=\"10698.855097656258\" cy=\"45.0\" r=\"10.0\" /><rect x=\"10799.44976562501\" y=\"25.0\" width=\"170.87914062500002\" height=\"40\" stroke=\"black\" fill=\"white\" stroke-width=\"1\" /><text x=\"10884.889335937509\" y=\"45.0\" dominant-baseline=\"middle\" text-anchor=\"middle\" font-size=\"14px\" font-family=\"Arial\">Rx(s_l2_q0_block7_rx2)</text><rect x=\"10990.32890625001\" y=\"25.0\" width=\"116.3198828125\" height=\"40\" stroke=\"black\" fill=\"white\" stroke-width=\"1\" /><text x=\"11048.48884765626\" y=\"45.0\" dominant-baseline=\"middle\" text-anchor=\"middle\" font-size=\"14px\" font-family=\"Arial\">Rz(s_l3_q0_rz0)</text><rect x=\"11126.64878906251\" y=\"25.0\" width=\"108.51570312500002\" height=\"40\" stroke=\"black\" fill=\"white\" stroke-width=\"1\" /><text x=\"11180.90664062501\" y=\"45.0\" dominant-baseline=\"middle\" text-anchor=\"middle\" font-size=\"14px\" font-family=\"Arial\">Ry(s_l3_q0_ry)</text><rect x=\"11255.16449218751\" y=\"25.0\" width=\"107.41265625000001\" height=\"40\" stroke=\"black\" fill=\"white\" stroke-width=\"1\" /><text x=\"11308.87082031251\" y=\"45.0\" dominant-baseline=\"middle\" text-anchor=\"middle\" font-size=\"14px\" font-family=\"Arial\">Rz(s_l3_q0_rz)</text></svg>"
      ],
      "text/plain": [
       "<cirq.contrib.svg.svg.SVGCircuit at 0x7fc3bd39f0a0>"
      ]
     },
     "execution_count": 64,
     "metadata": {},
     "output_type": "execute_result"
    }
   ],
   "source": [
    "_, model_circuit, model_readouts = create_quantum_model(apply_dropout=False)\n",
    "SVGCircuit(model_circuit)"
   ]
  },
  {
   "cell_type": "markdown",
   "metadata": {
    "colab_type": "text",
    "id": "LY7vbY6yfABE"
   },
   "source": [
    "### 2.2 Wrap the model-circuit in a tfq-keras model\n",
    "\n",
    "Build the Keras model with the quantum components. This model is fed the \"quantum data\", from `x_train_circ`, that encodes the classical data. It uses a *Parametrized Quantum Circuit* layer, `tfq.layers.PQC`, to train the model circuit, on the quantum data.\n",
    "\n",
    "To classify these images, <a href=\"https://arxiv.org/pdf/1802.06002.pdf\" class=\"external\">Farhi et al.</a> proposed taking the expectation of a readout qubit in a parameterized circuit. The expectation returns a value between 1 and -1."
   ]
  },
  {
   "cell_type": "code",
   "execution_count": 29,
   "metadata": {
    "colab": {},
    "colab_type": "code",
    "id": "ZYdf_KOxojh0",
    "tags": []
   },
   "outputs": [
    {
     "name": "stdout",
     "output_type": "stream",
     "text": [
      "123\n"
     ]
    }
   ],
   "source": [
    "# Build the Keras model.\n",
    "qlayer = tfq.layers.PQC(model_circuit, model_readouts)\n",
    "print(len(qlayer.get_weights()[0]))\n",
    "\n",
    "model = tf.keras.Sequential([\n",
    "    # The input is the data-circuit, encoded as a tf.string\n",
    "    tf.keras.layers.Input(shape=(), dtype=tf.string),\n",
    "    # The PQC layer returns the expected value of the readout gate, range [-1,1].\n",
    "    qlayer,\n",
    "])"
   ]
  },
  {
   "cell_type": "markdown",
   "metadata": {
    "colab_type": "text",
    "id": "jz-FbVc9ojh3"
   },
   "source": [
    "Next, describe the training procedure to the model, using the `compile` method.\n",
    "\n",
    "Since the the expected readout is in the range `[-1,1]`, optimizing the hinge loss is a somewhat natural fit. \n",
    "\n",
    "Note: Another valid approach would be to shift the output range to `[0,1]`, and treat it as the probability the model assigns to class `3`. This could be used with a standard a `tf.losses.BinaryCrossentropy` loss.\n",
    "\n",
    "To use the hinge loss here you need to make two small adjustments. First convert the labels, `y_train_nocon`, from boolean to `[-1,1]`, as expected by the hinge loss."
   ]
  },
  {
   "cell_type": "code",
   "execution_count": 30,
   "metadata": {
    "colab": {},
    "colab_type": "code",
    "id": "CgMNkC1Fojh5",
    "tags": []
   },
   "outputs": [],
   "source": [
    "y_train_hinge = 2.0*y_train_nocon_256-1.0\n",
    "y_test_hinge = 2.0*y_test-1.0"
   ]
  },
  {
   "cell_type": "markdown",
   "metadata": {
    "colab_type": "text",
    "id": "5nwnveDiojh7"
   },
   "source": [
    "Second, use a custiom `hinge_accuracy` metric that correctly handles `[-1, 1]` as the `y_true` labels argument. \n",
    "`tf.losses.BinaryAccuracy(threshold=0.0)` expects `y_true` to be a boolean, and so can't be used with hinge loss)."
   ]
  },
  {
   "cell_type": "code",
   "execution_count": 31,
   "metadata": {
    "colab": {},
    "colab_type": "code",
    "id": "3XKtZ_TEojh8",
    "tags": []
   },
   "outputs": [],
   "source": [
    "def hinge_accuracy(y_true, y_pred):\n",
    "    y_true = tf.squeeze(y_true) > 0.0\n",
    "    y_pred = tf.squeeze(y_pred) > 0.0\n",
    "    result = tf.cast(y_true == y_pred, tf.float32)\n",
    "\n",
    "    return tf.reduce_mean(result)"
   ]
  },
  {
   "cell_type": "code",
   "execution_count": 32,
   "metadata": {
    "colab": {},
    "colab_type": "code",
    "id": "FlpETlLRojiA",
    "tags": []
   },
   "outputs": [],
   "source": [
    "model.compile(\n",
    "    loss=tf.keras.losses.Hinge(),\n",
    "    optimizer=tf.keras.optimizers.Adam(),\n",
    "    metrics=[hinge_accuracy])"
   ]
  },
  {
   "cell_type": "code",
   "execution_count": 33,
   "metadata": {
    "colab": {},
    "colab_type": "code",
    "id": "jkHq2RstojiC",
    "tags": []
   },
   "outputs": [
    {
     "name": "stdout",
     "output_type": "stream",
     "text": [
      "Model: \"sequential\"\n",
      "_________________________________________________________________\n",
      "Layer (type)                 Output Shape              Param #   \n",
      "=================================================================\n",
      "pqc (PQC)                    (None, 2)                 123       \n",
      "=================================================================\n",
      "Total params: 123\n",
      "Trainable params: 123\n",
      "Non-trainable params: 0\n",
      "_________________________________________________________________\n",
      "None\n"
     ]
    }
   ],
   "source": [
    "print(model.summary())"
   ]
  },
  {
   "cell_type": "markdown",
   "metadata": {},
   "source": [
    "## 3. TensorBoard"
   ]
  },
  {
   "cell_type": "code",
   "execution_count": 34,
   "metadata": {},
   "outputs": [],
   "source": [
    "logdir = \"tb_logs/\" + datetime.datetime.now().strftime(\"%Y%m%d-%H%M%S\")\n",
    "file_writer = tf.summary.create_file_writer(logdir + \"/metrics\")\n",
    "file_writer.set_as_default()\n",
    "tensorboard_callback = tf.keras.callbacks.TensorBoard(log_dir=logdir, histogram_freq=1)\n"
   ]
  },
  {
   "cell_type": "markdown",
   "metadata": {
    "colab_type": "text",
    "id": "lsuOzDYblA9s"
   },
   "source": [
    "### Train the quantum model\n",
    "\n",
    "Now train the model—this takes about 45 min. If you don't want to wait that long, use a small subset of the data (set `NUM_EXAMPLES=500`, below). This doesn't really affect the model's progress during training (it only has 32 parameters, and doesn't need much data to constrain these). Using fewer examples just ends training earlier (5min), but runs long enough to show that it is making progress in the validation logs."
   ]
  },
  {
   "cell_type": "code",
   "execution_count": 42,
   "metadata": {
    "colab": {},
    "colab_type": "code",
    "id": "n8vuQpSLlBV2",
    "tags": []
   },
   "outputs": [],
   "source": [
    "EPOCHS = 10\n",
    "DROPOUT_EPOCHS = 3 # keep qubits dropped out for this num of epochs\n",
    "#BATCH_SIZE = 32\n",
    "BATCH_SIZE = None\n",
    "#NUM_EXAMPLES=None"
   ]
  },
  {
   "cell_type": "code",
   "execution_count": 43,
   "metadata": {
    "colab": {},
    "colab_type": "code",
    "id": "qJnNG-3JojiI",
    "tags": []
   },
   "outputs": [],
   "source": [
    "x_train_tfcirc_sub = x_train_tfcirc[:NUM_EXAMPLES]\n",
    "y_train_hinge_sub = y_train_hinge[:NUM_EXAMPLES]"
   ]
  },
  {
   "cell_type": "markdown",
   "metadata": {
    "colab_type": "text",
    "id": "QMSdgGC1GL7D"
   },
   "source": [
    "Training this model to convergence should achieve >85% accuracy on the test set."
   ]
  },
  {
   "cell_type": "code",
   "execution_count": 93,
   "metadata": {},
   "outputs": [],
   "source": [
    "def train_model(apply_dropout=False):\n",
    "    #dropout_backup_flag = False\n",
    "    \n",
    "    # Corresponds to bias term for non-dropout case; also decouples states for dropout case (two measurements)\n",
    "    res_layer = tf.keras.layers.Dense(1)\n",
    "        \n",
    "    hinge_loss = tf.keras.losses.Hinge()\n",
    "    adam_opt = tf.keras.optimizers.Adam()\n",
    "    \n",
    "    num_iters = EPOCHS\n",
    "    \n",
    "    \n",
    "    for i in range(num_iters):        \n",
    "        # HACK - build new quantum circuit for each epoch and copy over the weights from the old one\n",
    "        \n",
    "        # Toggle apply_dropout off on first epoch\n",
    "        #if dropout_backup_flag:\n",
    "        #    apply_dropout = True\n",
    "        #elif i == 0 and apply_dropout:\n",
    "        #    apply_dropout = False\n",
    "        #    dropout_backup_flag = True\n",
    "        \n",
    "        #if i == num_iters-1:\n",
    "            # Never use dropout on the last epoch; we can't get sane results otherwise\n",
    "            # grab the epoch before last too for better results\n",
    "            #dropout_backup_flag = False\n",
    "            #apply_dropout = False\n",
    "        \n",
    "        print('Iteration ', i)\n",
    "        \n",
    "        if i == 0:\n",
    "            model_builder, model_circuit, model_readouts = create_quantum_model(apply_dropout, DROPOUT_EPOCHS)\n",
    "            qlayer = tfq.layers.PQC(model_circuit, model_readouts)\n",
    "        else:\n",
    "            model_builder, model_circuit, model_readouts = create_quantum_model(apply_dropout, DROPOUT_EPOCHS, model_builder, qlayer.get_weights()[0])\n",
    "            qlayer_new = tfq.layers.PQC(model_circuit, model_readouts,\n",
    "                                        initializer=tf.keras.initializers.Zeros)\n",
    "            curr_l = model_builder.get_builder_weights()\n",
    "            qlayer_new.set_weights([np.array(curr_l, dtype=np.float32)])\n",
    "            qlayer = qlayer_new\n",
    "            \n",
    "        if apply_dropout:\n",
    "            assert len(model_readouts) == 2\n",
    "\n",
    "        model = tf.keras.Sequential([\n",
    "            tf.keras.layers.Input(shape=(), dtype=tf.string),\n",
    "            qlayer,\n",
    "            res_layer\n",
    "        ])\n",
    "        model.compile(\n",
    "            loss=hinge_loss,\n",
    "            optimizer=adam_opt,\n",
    "            metrics=[hinge_accuracy])\n",
    "\n",
    "        # Now fit the model for this epoch\n",
    "        model.fit(\n",
    "              x_train_tfcirc_sub, y_train_hinge_sub,\n",
    "              batch_size=1,\n",
    "              epochs=1,\n",
    "              verbose=1,\n",
    "              callbacks=[tensorboard_callback])\n",
    "        print(\"Training set perf:\")\n",
    "        model.evaluate(x_train_tfcirc_sub, y_train_hinge_sub, batch_size=1)\n",
    "        print(\"Test set perf:\")\n",
    "        model.evaluate(x_test_tfcirc, y_test_hinge, batch_size=1)\n",
    "        print('')\n",
    "    \n",
    "    return model"
   ]
  },
  {
   "cell_type": "code",
   "execution_count": 97,
   "metadata": {},
   "outputs": [
    {
     "name": "stdout",
     "output_type": "stream",
     "text": [
      "Iteration  0\n",
      "WARNING:tensorflow:Model failed to serialize as JSON. Ignoring... Layer PQC has arguments in `__init__` and therefore must override `get_config`.\n",
      "500/500 [==============================] - 34s 67ms/step - loss: 0.8657 - hinge_accuracy: 0.6307\n",
      "Training set perf:\n",
      "500/500 [==============================] - 9s 18ms/step - loss: 0.4959 - hinge_accuracy: 0.7000\n",
      "Test set perf:\n",
      "500/500 [==============================] - 10s 21ms/step - loss: 1.0343 - hinge_accuracy: 0.3000\n",
      "\n",
      "Iteration  1\n",
      "WARNING:tensorflow:Model failed to serialize as JSON. Ignoring... Layer PQC has arguments in `__init__` and therefore must override `get_config`.\n",
      "500/500 [==============================] - 31s 62ms/step - loss: 0.4199 - hinge_accuracy: 0.7388\n",
      "Training set perf:\n",
      "500/500 [==============================] - 9s 18ms/step - loss: 0.4070 - hinge_accuracy: 0.7780\n",
      "Test set perf:\n",
      "500/500 [==============================] - 9s 17ms/step - loss: 0.8310 - hinge_accuracy: 0.4560\n",
      "\n",
      "Iteration  2\n",
      "WARNING:tensorflow:Model failed to serialize as JSON. Ignoring... Layer PQC has arguments in `__init__` and therefore must override `get_config`.\n",
      "500/500 [==============================] - 25s 49ms/step - loss: 0.3524 - hinge_accuracy: 0.7991\n",
      "Training set perf:\n",
      "500/500 [==============================] - 5s 10ms/step - loss: 0.3330 - hinge_accuracy: 0.8940\n",
      "Test set perf:\n",
      "500/500 [==============================] - 5s 9ms/step - loss: 0.6772 - hinge_accuracy: 0.7260\n",
      "\n",
      "Iteration  3\n",
      "WARNING:tensorflow:Model failed to serialize as JSON. Ignoring... Layer PQC has arguments in `__init__` and therefore must override `get_config`.\n",
      "500/500 [==============================] - 14s 27ms/step - loss: 0.2959 - hinge_accuracy: 0.8918\n",
      "Training set perf:\n",
      "500/500 [==============================] - 5s 9ms/step - loss: 0.2711 - hinge_accuracy: 0.9500\n",
      "Test set perf:\n",
      "500/500 [==============================] - 5s 9ms/step - loss: 0.5049 - hinge_accuracy: 0.8880\n",
      "\n",
      "Iteration  4\n",
      "WARNING:tensorflow:Model failed to serialize as JSON. Ignoring... Layer PQC has arguments in `__init__` and therefore must override `get_config`.\n",
      "500/500 [==============================] - 14s 28ms/step - loss: 0.2456 - hinge_accuracy: 0.9364\n",
      "Training set perf:\n",
      "500/500 [==============================] - 5s 9ms/step - loss: 0.2193 - hinge_accuracy: 0.9660\n",
      "Test set perf:\n",
      "500/500 [==============================] - 5s 9ms/step - loss: 0.3800 - hinge_accuracy: 0.9400\n",
      "\n",
      "Iteration  5\n",
      "WARNING:tensorflow:Model failed to serialize as JSON. Ignoring... Layer PQC has arguments in `__init__` and therefore must override `get_config`.\n",
      "500/500 [==============================] - 14s 28ms/step - loss: 0.2056 - hinge_accuracy: 0.9650\n",
      "Training set perf:\n",
      "500/500 [==============================] - 5s 9ms/step - loss: 0.1791 - hinge_accuracy: 0.9740\n",
      "Test set perf:\n",
      "500/500 [==============================] - 5s 10ms/step - loss: 0.2840 - hinge_accuracy: 0.9580\n",
      "\n",
      "Iteration  6\n",
      "WARNING:tensorflow:Model failed to serialize as JSON. Ignoring... Layer PQC has arguments in `__init__` and therefore must override `get_config`.\n",
      "500/500 [==============================] - 14s 28ms/step - loss: 0.1720 - hinge_accuracy: 0.9760\n",
      "Training set perf:\n",
      "500/500 [==============================] - 5s 10ms/step - loss: 0.1489 - hinge_accuracy: 0.9760\n",
      "Test set perf:\n",
      "500/500 [==============================] - 5s 10ms/step - loss: 0.2342 - hinge_accuracy: 0.9620\n",
      "\n",
      "Iteration  7\n",
      "WARNING:tensorflow:Model failed to serialize as JSON. Ignoring... Layer PQC has arguments in `__init__` and therefore must override `get_config`.\n",
      "500/500 [==============================] - 14s 28ms/step - loss: 0.1409 - hinge_accuracy: 0.9822\n",
      "Training set perf:\n",
      "500/500 [==============================] - 5s 9ms/step - loss: 0.1277 - hinge_accuracy: 0.9780\n",
      "Test set perf:\n",
      "500/500 [==============================] - 5s 9ms/step - loss: 0.1953 - hinge_accuracy: 0.9620\n",
      "\n",
      "Iteration  8\n",
      "WARNING:tensorflow:Model failed to serialize as JSON. Ignoring... Layer PQC has arguments in `__init__` and therefore must override `get_config`.\n",
      "500/500 [==============================] - 14s 28ms/step - loss: 0.1266 - hinge_accuracy: 0.9841\n",
      "Training set perf:\n",
      "500/500 [==============================] - 6s 11ms/step - loss: 0.1127 - hinge_accuracy: 0.9780\n",
      "Test set perf:\n",
      "500/500 [==============================] - 5s 9ms/step - loss: 0.1737 - hinge_accuracy: 0.9660\n",
      "\n",
      "Iteration  9\n",
      "WARNING:tensorflow:Model failed to serialize as JSON. Ignoring... Layer PQC has arguments in `__init__` and therefore must override `get_config`.\n",
      "500/500 [==============================] - 31s 61ms/step - loss: 0.1133 - hinge_accuracy: 0.9841\n",
      "Training set perf:\n",
      "500/500 [==============================] - 10s 19ms/step - loss: 0.1004 - hinge_accuracy: 0.9820\n",
      "Test set perf:\n",
      "500/500 [==============================] - 10s 20ms/step - loss: 0.1528 - hinge_accuracy: 0.9720\n",
      "\n"
     ]
    }
   ],
   "source": [
    "model = train_model(apply_dropout=False)"
   ]
  },
  {
   "cell_type": "code",
   "execution_count": 98,
   "metadata": {},
   "outputs": [
    {
     "name": "stdout",
     "output_type": "stream",
     "text": [
      "Non-dropout training set perf:\n",
      "500/500 [==============================] - 9s 19ms/step - loss: 0.1004 - hinge_accuracy: 0.9820\n",
      "Non-dropout test set perf:\n",
      "500/500 [==============================] - 8s 17ms/step - loss: 0.1528 - hinge_accuracy: 0.9720\n"
     ]
    }
   ],
   "source": [
    "print(\"Non-dropout training set perf:\")\n",
    "model.evaluate(x_train_tfcirc_sub, y_train_hinge_sub, batch_size=1)\n",
    "print(\"Non-dropout test set perf:\")\n",
    "qnn_results = model.evaluate(x_test_tfcirc, y_test_hinge, batch_size=1)"
   ]
  },
  {
   "cell_type": "code",
   "execution_count": 99,
   "metadata": {
    "colab": {},
    "colab_type": "code",
    "id": "Ya9qP3KkojiM",
    "tags": []
   },
   "outputs": [
    {
     "name": "stdout",
     "output_type": "stream",
     "text": [
      "Iteration  0\n",
      "Built model, going to drop out qubit id  6\n",
      "WARNING:tensorflow:Model failed to serialize as JSON. Ignoring... Layer PQC has arguments in `__init__` and therefore must override `get_config`.\n",
      "500/500 [==============================] - 33s 65ms/step - loss: 0.8411 - hinge_accuracy: 0.7038\n",
      "Training set perf:\n",
      "500/500 [==============================] - 9s 18ms/step - loss: 0.4905 - hinge_accuracy: 0.7020\n",
      "Test set perf:\n",
      "500/500 [==============================] - 9s 18ms/step - loss: 1.0158 - hinge_accuracy: 0.3060\n",
      "\n",
      "Iteration  1\n",
      "Built model, going to drop out qubit id  6\n",
      "WARNING:tensorflow:Model failed to serialize as JSON. Ignoring... Layer PQC has arguments in `__init__` and therefore must override `get_config`.\n",
      "500/500 [==============================] - 33s 66ms/step - loss: 0.3830 - hinge_accuracy: 0.7804\n",
      "Training set perf:\n",
      "500/500 [==============================] - 9s 18ms/step - loss: 0.2833 - hinge_accuracy: 0.9500\n",
      "Test set perf:\n",
      "500/500 [==============================] - 9s 18ms/step - loss: 0.5019 - hinge_accuracy: 0.9020\n",
      "\n",
      "Iteration  2\n",
      "Built model, going to drop out qubit id  6\n",
      "WARNING:tensorflow:Model failed to serialize as JSON. Ignoring... Layer PQC has arguments in `__init__` and therefore must override `get_config`.\n",
      "500/500 [==============================] - 27s 54ms/step - loss: 0.2490 - hinge_accuracy: 0.9415\n",
      "Training set perf:\n",
      "500/500 [==============================] - 6s 12ms/step - loss: 0.1956 - hinge_accuracy: 0.9680\n",
      "Test set perf:\n",
      "500/500 [==============================] - 5s 10ms/step - loss: 0.2712 - hinge_accuracy: 0.9620\n",
      "\n",
      "Iteration  3\n",
      "Built model, going to drop out qubit id  3\n",
      "WARNING:tensorflow:Model failed to serialize as JSON. Ignoring... Layer PQC has arguments in `__init__` and therefore must override `get_config`.\n",
      "500/500 [==============================] - 14s 28ms/step - loss: 0.2264 - hinge_accuracy: 0.9768\n",
      "Training set perf:\n",
      "500/500 [==============================] - 5s 10ms/step - loss: 0.1528 - hinge_accuracy: 0.9760\n",
      "Test set perf:\n",
      "500/500 [==============================] - 4s 9ms/step - loss: 0.2114 - hinge_accuracy: 0.9660\n",
      "\n",
      "Iteration  4\n",
      "Built model, going to drop out qubit id  3\n",
      "WARNING:tensorflow:Model failed to serialize as JSON. Ignoring... Layer PQC has arguments in `__init__` and therefore must override `get_config`.\n",
      "500/500 [==============================] - 14s 28ms/step - loss: 0.1492 - hinge_accuracy: 0.9751\n",
      "Training set perf:\n",
      "500/500 [==============================] - 5s 9ms/step - loss: 0.1156 - hinge_accuracy: 0.9840\n",
      "Test set perf:\n",
      "500/500 [==============================] - 5s 10ms/step - loss: 0.1713 - hinge_accuracy: 0.9680\n",
      "\n",
      "Iteration  5\n",
      "Built model, going to drop out qubit id  3\n",
      "WARNING:tensorflow:Model failed to serialize as JSON. Ignoring... Layer PQC has arguments in `__init__` and therefore must override `get_config`.\n",
      "500/500 [==============================] - 14s 28ms/step - loss: 0.1117 - hinge_accuracy: 0.9793\n",
      "Training set perf:\n",
      "500/500 [==============================] - 5s 9ms/step - loss: 0.0906 - hinge_accuracy: 0.9900\n",
      "Test set perf:\n",
      "500/500 [==============================] - 5s 10ms/step - loss: 0.1255 - hinge_accuracy: 0.9800\n",
      "\n",
      "Iteration  6\n",
      "Built model, going to drop out qubit id  3\n",
      "WARNING:tensorflow:Model failed to serialize as JSON. Ignoring... Layer PQC has arguments in `__init__` and therefore must override `get_config`.\n",
      "500/500 [==============================] - 15s 28ms/step - loss: 0.0877 - hinge_accuracy: 0.9938\n",
      "Training set perf:\n",
      "500/500 [==============================] - 5s 9ms/step - loss: 0.0707 - hinge_accuracy: 0.9900\n",
      "Test set perf:\n",
      "500/500 [==============================] - 5s 10ms/step - loss: 0.1135 - hinge_accuracy: 0.9840\n",
      "\n",
      "Iteration  7\n",
      "Built model, going to drop out qubit id  3\n",
      "WARNING:tensorflow:Model failed to serialize as JSON. Ignoring... Layer PQC has arguments in `__init__` and therefore must override `get_config`.\n",
      "500/500 [==============================] - 29s 57ms/step - loss: 0.0622 - hinge_accuracy: 0.9938\n",
      "Training set perf:\n",
      "500/500 [==============================] - 8s 16ms/step - loss: 0.0557 - hinge_accuracy: 0.9900\n",
      "Test set perf:\n",
      "500/500 [==============================] - 7s 14ms/step - loss: 0.1031 - hinge_accuracy: 0.9820\n",
      "\n",
      "Iteration  8\n",
      "Built model, going to drop out qubit id  3\n",
      "WARNING:tensorflow:Model failed to serialize as JSON. Ignoring... Layer PQC has arguments in `__init__` and therefore must override `get_config`.\n",
      "500/500 [==============================] - 23s 45ms/step - loss: 0.0525 - hinge_accuracy: 0.9928\n",
      "Training set perf:\n",
      "500/500 [==============================] - 5s 9ms/step - loss: 0.0474 - hinge_accuracy: 0.9920\n",
      "Test set perf:\n",
      "500/500 [==============================] - 5s 10ms/step - loss: 0.0843 - hinge_accuracy: 0.9840\n",
      "\n",
      "Iteration  9\n",
      "Built model, going to drop out qubit id  2\n",
      "WARNING:tensorflow:Model failed to serialize as JSON. Ignoring... Layer PQC has arguments in `__init__` and therefore must override `get_config`.\n",
      "500/500 [==============================] - 14s 28ms/step - loss: 0.1253 - hinge_accuracy: 0.9645\n",
      "Training set perf:\n",
      "500/500 [==============================] - 5s 10ms/step - loss: 0.0550 - hinge_accuracy: 0.9880\n",
      "Test set perf:\n",
      "500/500 [==============================] - 4s 9ms/step - loss: 0.0682 - hinge_accuracy: 0.9880\n",
      "\n"
     ]
    }
   ],
   "source": [
    "dropout_model = train_model(apply_dropout=True)"
   ]
  },
  {
   "cell_type": "code",
   "execution_count": 100,
   "metadata": {},
   "outputs": [
    {
     "name": "stdout",
     "output_type": "stream",
     "text": [
      "Dropout training set perf:\n",
      "500/500 [==============================] - 5s 9ms/step - loss: 0.0550 - hinge_accuracy: 0.9880\n",
      "Dropout test set perf:\n",
      "500/500 [==============================] - 4s 9ms/step - loss: 0.0682 - hinge_accuracy: 0.9880\n"
     ]
    }
   ],
   "source": [
    "print(\"Dropout training set perf:\")\n",
    "dropout_model.evaluate(x_train_tfcirc_sub, y_train_hinge_sub, batch_size=1)\n",
    "print(\"Dropout test set perf:\")\n",
    "qnn_results = dropout_model.evaluate(x_test_tfcirc, y_test_hinge, batch_size=1)"
   ]
  },
  {
   "cell_type": "markdown",
   "metadata": {
    "colab_type": "text",
    "id": "3ER7B7aaojiP"
   },
   "source": [
    "Note: The training accuracy reports the average over the epoch. The validation accuracy is evaluated at the end of each epoch."
   ]
  },
  {
   "cell_type": "markdown",
   "metadata": {
    "colab_type": "text",
    "id": "8952YvuWGL7J"
   },
   "source": [
    "## 4. Classical neural network\n",
    "\n",
    "While the quantum neural network works for this simplified MNIST problem, a basic classical neural network can easily outperform a QNN on this task. After a single epoch, a classical neural network can achieve >98% accuracy on the holdout set.\n",
    "\n",
    "In the following example, a classical neural network is used for for the 3-6 classification problem using the entire 28x28 image instead of subsampling the image. This easily converges to nearly 100% accuracy of the test set."
   ]
  },
  {
   "cell_type": "code",
   "execution_count": 158,
   "metadata": {
    "colab": {},
    "colab_type": "code",
    "id": "pZofEHhLGL7L",
    "tags": []
   },
   "outputs": [
    {
     "name": "stdout",
     "output_type": "stream",
     "text": [
      "Model: \"sequential_16\"\n",
      "_________________________________________________________________\n",
      "Layer (type)                 Output Shape              Param #   \n",
      "=================================================================\n",
      "conv2d_2 (Conv2D)            (None, 26, 26, 32)        320       \n",
      "_________________________________________________________________\n",
      "conv2d_3 (Conv2D)            (None, 24, 24, 64)        18496     \n",
      "_________________________________________________________________\n",
      "max_pooling2d_1 (MaxPooling2 (None, 12, 12, 64)        0         \n",
      "_________________________________________________________________\n",
      "dropout_2 (Dropout)          (None, 12, 12, 64)        0         \n",
      "_________________________________________________________________\n",
      "flatten_2 (Flatten)          (None, 9216)              0         \n",
      "_________________________________________________________________\n",
      "dense_4 (Dense)              (None, 128)               1179776   \n",
      "_________________________________________________________________\n",
      "dropout_3 (Dropout)          (None, 128)               0         \n",
      "_________________________________________________________________\n",
      "dense_5 (Dense)              (None, 1)                 129       \n",
      "=================================================================\n",
      "Total params: 1,198,721\n",
      "Trainable params: 1,198,721\n",
      "Non-trainable params: 0\n",
      "_________________________________________________________________\n"
     ]
    }
   ],
   "source": [
    "def create_classical_model():\n",
    "    # A simple model based off LeNet from https://keras.io/examples/mnist_cnn/\n",
    "    model = tf.keras.Sequential()\n",
    "    model.add(tf.keras.layers.Conv2D(32, [3, 3], activation='relu', input_shape=(28,28,1)))\n",
    "    model.add(tf.keras.layers.Conv2D(64, [3, 3], activation='relu'))\n",
    "    model.add(tf.keras.layers.MaxPooling2D(pool_size=(2, 2)))\n",
    "    model.add(tf.keras.layers.Dropout(0.25))\n",
    "    model.add(tf.keras.layers.Flatten())\n",
    "    model.add(tf.keras.layers.Dense(128, activation='relu'))\n",
    "    model.add(tf.keras.layers.Dropout(0.5))\n",
    "    model.add(tf.keras.layers.Dense(1))\n",
    "    return model\n",
    "\n",
    "\n",
    "model = create_classical_model()\n",
    "model.compile(loss=tf.keras.losses.BinaryCrossentropy(from_logits=True),\n",
    "              optimizer=tf.keras.optimizers.Adam(),\n",
    "              metrics=['accuracy'])\n",
    "\n",
    "model.summary()"
   ]
  },
  {
   "cell_type": "code",
   "execution_count": 159,
   "metadata": {
    "colab": {},
    "colab_type": "code",
    "id": "CiAJl7sZojiU",
    "tags": []
   },
   "outputs": [
    {
     "name": "stdout",
     "output_type": "stream",
     "text": [
      "95/95 [==============================] - 19s 188ms/step - loss: 0.1138 - accuracy: 0.9467 - val_loss: 0.0057 - val_accuracy: 0.9990\n",
      "62/62 [==============================] - 1s 13ms/step - loss: 0.0057 - accuracy: 0.9990\n"
     ]
    }
   ],
   "source": [
    "model.fit(x_train,\n",
    "          y_train,\n",
    "          batch_size=128,\n",
    "          epochs=1,\n",
    "          verbose=1,\n",
    "          validation_data=(x_test, y_test))\n",
    "\n",
    "cnn_results = model.evaluate(x_test, y_test)"
   ]
  },
  {
   "cell_type": "markdown",
   "metadata": {
    "colab_type": "text",
    "id": "X5-5BVJaojiZ"
   },
   "source": [
    "The above model has nearly 1.2M parameters. For a more fair comparison, try a 37-parameter model, on the subsampled images:"
   ]
  },
  {
   "cell_type": "code",
   "execution_count": 160,
   "metadata": {
    "colab": {},
    "colab_type": "code",
    "id": "70TOM6r-ojiZ",
    "tags": []
   },
   "outputs": [
    {
     "name": "stdout",
     "output_type": "stream",
     "text": [
      "Model: \"sequential_17\"\n",
      "_________________________________________________________________\n",
      "Layer (type)                 Output Shape              Param #   \n",
      "=================================================================\n",
      "flatten_3 (Flatten)          (None, 16)                0         \n",
      "_________________________________________________________________\n",
      "dense_6 (Dense)              (None, 2)                 34        \n",
      "_________________________________________________________________\n",
      "dense_7 (Dense)              (None, 1)                 3         \n",
      "=================================================================\n",
      "Total params: 37\n",
      "Trainable params: 37\n",
      "Non-trainable params: 0\n",
      "_________________________________________________________________\n"
     ]
    }
   ],
   "source": [
    "def create_fair_classical_model():\n",
    "    # A simple model based off LeNet from https://keras.io/examples/mnist_cnn/\n",
    "    model = tf.keras.Sequential()\n",
    "    model.add(tf.keras.layers.Flatten(input_shape=(4,4,1)))\n",
    "    model.add(tf.keras.layers.Dense(2, activation='relu'))\n",
    "    model.add(tf.keras.layers.Dense(1))\n",
    "    return model\n",
    "\n",
    "\n",
    "model = create_fair_classical_model()\n",
    "model.compile(loss=tf.keras.losses.BinaryCrossentropy(from_logits=True),\n",
    "              optimizer=tf.keras.optimizers.Adam(),\n",
    "              metrics=['accuracy'])\n",
    "\n",
    "model.summary()"
   ]
  },
  {
   "cell_type": "code",
   "execution_count": 161,
   "metadata": {
    "colab": {},
    "colab_type": "code",
    "id": "lA_Fx-8gojid",
    "tags": []
   },
   "outputs": [
    {
     "name": "stdout",
     "output_type": "stream",
     "text": [
      "Epoch 1/20\n",
      "81/81 - 1s - loss: 0.6579 - accuracy: 0.5250 - val_loss: 0.6457 - val_accuracy: 0.4878\n",
      "Epoch 2/20\n",
      "81/81 - 0s - loss: 0.6325 - accuracy: 0.5525 - val_loss: 0.6172 - val_accuracy: 0.5701\n",
      "Epoch 3/20\n",
      "81/81 - 0s - loss: 0.5962 - accuracy: 0.6614 - val_loss: 0.5704 - val_accuracy: 0.7642\n",
      "Epoch 4/20\n",
      "81/81 - 0s - loss: 0.5455 - accuracy: 0.8182 - val_loss: 0.5161 - val_accuracy: 0.8237\n",
      "Epoch 5/20\n",
      "81/81 - 0s - loss: 0.4965 - accuracy: 0.8508 - val_loss: 0.4702 - val_accuracy: 0.8318\n",
      "Epoch 6/20\n",
      "81/81 - 0s - loss: 0.4564 - accuracy: 0.8564 - val_loss: 0.4347 - val_accuracy: 0.8308\n",
      "Epoch 7/20\n",
      "81/81 - 0s - loss: 0.4255 - accuracy: 0.8578 - val_loss: 0.4075 - val_accuracy: 0.8308\n",
      "Epoch 8/20\n",
      "81/81 - 0s - loss: 0.4008 - accuracy: 0.8582 - val_loss: 0.3854 - val_accuracy: 0.8323\n",
      "Epoch 9/20\n",
      "81/81 - 0s - loss: 0.3807 - accuracy: 0.8667 - val_loss: 0.3675 - val_accuracy: 0.8709\n",
      "Epoch 10/20\n",
      "81/81 - 0s - loss: 0.3637 - accuracy: 0.8803 - val_loss: 0.3522 - val_accuracy: 0.8709\n",
      "Epoch 11/20\n",
      "81/81 - 0s - loss: 0.3493 - accuracy: 0.8822 - val_loss: 0.3394 - val_accuracy: 0.8709\n",
      "Epoch 12/20\n",
      "81/81 - 0s - loss: 0.3369 - accuracy: 0.8829 - val_loss: 0.3284 - val_accuracy: 0.8709\n",
      "Epoch 13/20\n",
      "81/81 - 0s - loss: 0.3261 - accuracy: 0.8829 - val_loss: 0.3188 - val_accuracy: 0.8709\n",
      "Epoch 14/20\n",
      "81/81 - 0s - loss: 0.3167 - accuracy: 0.8829 - val_loss: 0.3102 - val_accuracy: 0.8709\n",
      "Epoch 15/20\n",
      "81/81 - 0s - loss: 0.3083 - accuracy: 0.8829 - val_loss: 0.3027 - val_accuracy: 0.8709\n",
      "Epoch 16/20\n",
      "81/81 - 0s - loss: 0.3009 - accuracy: 0.8831 - val_loss: 0.2960 - val_accuracy: 0.8714\n",
      "Epoch 17/20\n",
      "81/81 - 0s - loss: 0.2943 - accuracy: 0.8833 - val_loss: 0.2901 - val_accuracy: 0.8714\n",
      "Epoch 18/20\n",
      "81/81 - 0s - loss: 0.2884 - accuracy: 0.8834 - val_loss: 0.2847 - val_accuracy: 0.8720\n",
      "Epoch 19/20\n",
      "81/81 - 0s - loss: 0.2830 - accuracy: 0.8835 - val_loss: 0.2798 - val_accuracy: 0.8720\n",
      "Epoch 20/20\n",
      "81/81 - 0s - loss: 0.2782 - accuracy: 0.8835 - val_loss: 0.2754 - val_accuracy: 0.8720\n",
      "62/62 [==============================] - 0s 721us/step - loss: 0.2754 - accuracy: 0.8720\n"
     ]
    }
   ],
   "source": [
    "model.fit(x_train_nocon_256,\n",
    "          y_train_nocon_256,\n",
    "          batch_size=128,\n",
    "          epochs=20,\n",
    "          verbose=2,\n",
    "          validation_data=(x_test_bin, y_test))\n",
    "\n",
    "fair_nn_results = model.evaluate(x_test_bin, y_test)"
   ]
  },
  {
   "cell_type": "markdown",
   "metadata": {
    "colab_type": "text",
    "id": "RH3mam7EGL7N"
   },
   "source": [
    "## 5. Comparison\n",
    "\n",
    "Higher resolution input and a more powerful model make this problem easy for the CNN. While a classical model of similar power (~32 parameters) trains to a similar accuracy in a fraction of the time. One way or the other, the classical neural network easily outperforms the quantum neural network. For classical data, it is difficult to beat a classical neural network."
   ]
  },
  {
   "cell_type": "code",
   "execution_count": 162,
   "metadata": {
    "colab": {},
    "colab_type": "code",
    "id": "NOMeN7pMGL7P",
    "tags": []
   },
   "outputs": [
    {
     "name": "stderr",
     "output_type": "stream",
     "text": [
      "/Users/rickyyoung/opt/anaconda3/lib/python3.8/site-packages/seaborn/_decorators.py:36: FutureWarning: Pass the following variables as keyword args: x, y. From version 0.12, the only valid positional argument will be `data`, and passing other arguments without an explicit keyword will result in an error or misinterpretation.\n",
      "  warnings.warn(\n"
     ]
    },
    {
     "data": {
      "text/plain": [
       "<AxesSubplot:>"
      ]
     },
     "execution_count": 162,
     "metadata": {},
     "output_type": "execute_result"
    },
    {
     "data": {
      "image/png": "[encoded data removed]",
      "text/plain": [
       "<Figure size 432x288 with 1 Axes>"
      ]
     },
     "metadata": {
      "needs_background": "light"
     },
     "output_type": "display_data"
    }
   ],
   "source": [
    "qnn_accuracy = qnn_results[1]\n",
    "cnn_accuracy = cnn_results[1]\n",
    "fair_nn_accuracy = fair_nn_results[1]\n",
    "\n",
    "sns.barplot([\"Quantum\", \"Classical, full\", \"Classical, fair\"],\n",
    "            [qnn_accuracy, cnn_accuracy, fair_nn_accuracy])"
   ]
  },
  {
   "cell_type": "code",
   "execution_count": null,
   "metadata": {},
   "outputs": [],
   "source": []
  }
 ],
 "metadata": {
  "colab": {
   "collapsed_sections": [],
   "name": "mnist.ipynb",
   "private_outputs": true,
   "provenance": [],
   "toc_visible": true
  },
  "kernelspec": {
   "display_name": "Python 3",
   "language": "python",
   "name": "python3"
  },
  "language_info": {
   "codemirror_mode": {
    "name": "ipython",
    "version": 3
   },
   "file_extension": ".py",
   "mimetype": "text/x-python",
   "name": "python",
   "nbconvert_exporter": "python",
   "pygments_lexer": "ipython3",
   "version": "3.8.5"
  }
 },
 "nbformat": 4,
 "nbformat_minor": 4
}
