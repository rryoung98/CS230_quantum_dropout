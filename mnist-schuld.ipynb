{
 "cells": [
  {
   "cell_type": "markdown",
   "metadata": {
    "colab_type": "text",
    "id": "xLOXFOT5Q40E"
   },
   "source": [
    "##### Copyright 2020 The TensorFlow Authors."
   ]
  },
  {
   "cell_type": "code",
   "execution_count": 5,
   "metadata": {
    "cellView": "form",
    "colab": {},
    "colab_type": "code",
    "id": "iiQkM5ZgQ8r2",
    "tags": []
   },
   "outputs": [],
   "source": [
    "#@title Licensed under the Apache License, Version 2.0 (the \"License\");\n",
    "# you may not use this file except in compliance with the License.\n",
    "# You may obtain a copy of the License at\n",
    "#\n",
    "# https://www.apache.org/licenses/LICENSE-2.0\n",
    "#\n",
    "# Unless required by applicable law or agreed to in writing, software\n",
    "# distributed under the License is distributed on an \"AS IS\" BASIS,\n",
    "# WITHOUT WARRANTIES OR CONDITIONS OF ANY KIND, either express or implied.\n",
    "# See the License for the specific language governing permissions and\n",
    "# limitations under the License."
   ]
  },
  {
   "cell_type": "markdown",
   "metadata": {
    "colab_type": "text",
    "id": "j6331ZSsQGY3"
   },
   "source": [
    "# MNIST classification"
   ]
  },
  {
   "cell_type": "markdown",
   "metadata": {
    "colab_type": "text",
    "id": "i9Jcnb8bQQyd"
   },
   "source": [
    "Based on https://www.tensorflow.org/quantum/tutorials/mnist"
   ]
  },
  {
   "cell_type": "markdown",
   "metadata": {
    "colab_type": "text",
    "id": "udLObUVeGfTs"
   },
   "source": [
    "We build a quantum neural network (QNN) to classify a simplified version of MNIST, similar to the approach used in <a href=\"https://arxiv.org/pdf/1802.06002.pdf\" class=\"external\">Farhi et al</a>. The performance of the quantum neural network on this classical data problem is compared with a classical neural network."
   ]
  },
  {
   "cell_type": "markdown",
   "metadata": {
    "colab_type": "text",
    "id": "X35qHdh5Gzqg"
   },
   "source": [
    "## Setup"
   ]
  },
  {
   "cell_type": "code",
   "execution_count": 6,
   "metadata": {
    "colab": {},
    "colab_type": "code",
    "id": "TorxE5tnkvb2",
    "tags": []
   },
   "outputs": [
    {
     "name": "stdout",
     "output_type": "stream",
     "text": [
      "\u001b[31mERROR: pip's dependency resolver does not currently take into account all the packages that are installed. This behaviour is the source of the following dependency conflicts.\n",
      "tfq-nightly 0.5.0.dev20210516 requires grpcio==1.30.0, but you have grpcio 1.32.0 which is incompatible.\u001b[0m\n",
      "\u001b[33mWARNING: You are using pip version 21.1.1; however, version 21.1.2 is available.\n",
      "You should consider upgrading via the '/mnt/c/Users/mmints/Documents/Stanford/CS230/project/CS230_quantum_dropout/qenv_project/bin/python3.8 -m pip install --upgrade pip' command.\u001b[0m\n",
      "Requirement already satisfied: tensorboard_plugin_profile==2.3.0 in ./qenv_project/lib/python3.8/site-packages (2.3.0)\n",
      "Requirement already satisfied: setuptools>=41.0.0 in ./qenv_project/lib/python3.8/site-packages (from tensorboard_plugin_profile==2.3.0) (56.2.0)\n",
      "Requirement already satisfied: protobuf>=3.6.0 in ./qenv_project/lib/python3.8/site-packages (from tensorboard_plugin_profile==2.3.0) (3.13.0)\n",
      "Requirement already satisfied: werkzeug>=0.11.15 in ./qenv_project/lib/python3.8/site-packages (from tensorboard_plugin_profile==2.3.0) (2.0.0)\n",
      "Requirement already satisfied: gviz-api>=1.9.0 in ./qenv_project/lib/python3.8/site-packages (from tensorboard_plugin_profile==2.3.0) (1.9.0)\n",
      "Requirement already satisfied: six>=1.10.0 in ./qenv_project/lib/python3.8/site-packages (from tensorboard_plugin_profile==2.3.0) (1.15.0)\n",
      "\u001b[33mWARNING: You are using pip version 21.1.1; however, version 21.1.2 is available.\n",
      "You should consider upgrading via the '/mnt/c/Users/mmints/Documents/Stanford/CS230/project/CS230_quantum_dropout/qenv_project/bin/python3.8 -m pip install --upgrade pip' command.\u001b[0m\n",
      "The tensorboard extension is already loaded. To reload it, use:\n",
      "  %reload_ext tensorboard\n"
     ]
    }
   ],
   "source": [
    "#!pip3 install -q tensorflow==2.3.1\n",
    "!python3.8 -m pip install -q tensorflow==2.4.1\n",
    "!python3.8 -m pip install tensorboard_plugin_profile==2.3.0\n",
    "%load_ext tensorboard"
   ]
  },
  {
   "cell_type": "markdown",
   "metadata": {
    "colab_type": "text",
    "id": "FxkQA6oblNqI"
   },
   "source": [
    "Install TensorFlow Quantum:"
   ]
  },
  {
   "cell_type": "code",
   "execution_count": 7,
   "metadata": {
    "colab": {},
    "colab_type": "code",
    "id": "saFHsRDpkvkH",
    "tags": []
   },
   "outputs": [
    {
     "name": "stdout",
     "output_type": "stream",
     "text": [
      "Requirement already satisfied: tfq-nightly in ./qenv_project/lib/python3.8/site-packages (0.5.0.dev20210516)\n",
      "Requirement already satisfied: protobuf==3.13.0 in ./qenv_project/lib/python3.8/site-packages (from tfq-nightly) (3.13.0)\n",
      "Requirement already satisfied: googleapis-common-protos==1.52.0 in ./qenv_project/lib/python3.8/site-packages (from tfq-nightly) (1.52.0)\n",
      "Requirement already satisfied: cirq==0.11.0 in ./qenv_project/lib/python3.8/site-packages (from tfq-nightly) (0.11.0)\n",
      "Collecting grpcio==1.30.0\n",
      "  Using cached grpcio-1.30.0-cp38-cp38-manylinux2010_x86_64.whl (3.0 MB)\n",
      "Requirement already satisfied: google-auth==1.18.0 in ./qenv_project/lib/python3.8/site-packages (from tfq-nightly) (1.18.0)\n",
      "Requirement already satisfied: google-api-core==1.21.0 in ./qenv_project/lib/python3.8/site-packages (from tfq-nightly) (1.21.0)\n",
      "Requirement already satisfied: sympy==1.5 in ./qenv_project/lib/python3.8/site-packages (from tfq-nightly) (1.5)\n",
      "Requirement already satisfied: cirq-google==0.11.0 in ./qenv_project/lib/python3.8/site-packages (from cirq==0.11.0->tfq-nightly) (0.11.0)\n",
      "Requirement already satisfied: cirq-core==0.11.0 in ./qenv_project/lib/python3.8/site-packages (from cirq==0.11.0->tfq-nightly) (0.11.0)\n",
      "Requirement already satisfied: pandas in ./qenv_project/lib/python3.8/site-packages (from cirq-core==0.11.0->cirq==0.11.0->tfq-nightly) (1.2.4)\n",
      "Requirement already satisfied: networkx~=2.4 in ./qenv_project/lib/python3.8/site-packages (from cirq-core==0.11.0->cirq==0.11.0->tfq-nightly) (2.5.1)\n",
      "Requirement already satisfied: tqdm in ./qenv_project/lib/python3.8/site-packages (from cirq-core==0.11.0->cirq==0.11.0->tfq-nightly) (4.60.0)\n",
      "Requirement already satisfied: requests~=2.18 in ./qenv_project/lib/python3.8/site-packages (from cirq-core==0.11.0->cirq==0.11.0->tfq-nightly) (2.25.1)\n",
      "Requirement already satisfied: numpy~=1.16 in ./qenv_project/lib/python3.8/site-packages (from cirq-core==0.11.0->cirq==0.11.0->tfq-nightly) (1.19.5)\n",
      "Requirement already satisfied: sortedcontainers~=2.0 in ./qenv_project/lib/python3.8/site-packages (from cirq-core==0.11.0->cirq==0.11.0->tfq-nightly) (2.4.0)\n",
      "Requirement already satisfied: typing-extensions in ./qenv_project/lib/python3.8/site-packages (from cirq-core==0.11.0->cirq==0.11.0->tfq-nightly) (3.7.4.3)\n",
      "Requirement already satisfied: scipy in ./qenv_project/lib/python3.8/site-packages (from cirq-core==0.11.0->cirq==0.11.0->tfq-nightly) (1.6.3)\n",
      "Requirement already satisfied: matplotlib~=3.0 in ./qenv_project/lib/python3.8/site-packages (from cirq-core==0.11.0->cirq==0.11.0->tfq-nightly) (3.4.2)\n",
      "Requirement already satisfied: pytz in ./qenv_project/lib/python3.8/site-packages (from google-api-core==1.21.0->tfq-nightly) (2021.1)\n",
      "Requirement already satisfied: six>=1.10.0 in ./qenv_project/lib/python3.8/site-packages (from google-api-core==1.21.0->tfq-nightly) (1.15.0)\n",
      "Requirement already satisfied: setuptools>=34.0.0 in ./qenv_project/lib/python3.8/site-packages (from google-api-core==1.21.0->tfq-nightly) (56.2.0)\n",
      "Requirement already satisfied: cachetools<5.0,>=2.0.0 in ./qenv_project/lib/python3.8/site-packages (from google-auth==1.18.0->tfq-nightly) (4.2.2)\n",
      "Requirement already satisfied: pyasn1-modules>=0.2.1 in ./qenv_project/lib/python3.8/site-packages (from google-auth==1.18.0->tfq-nightly) (0.2.8)\n",
      "Requirement already satisfied: rsa<5,>=3.1.4 in ./qenv_project/lib/python3.8/site-packages (from google-auth==1.18.0->tfq-nightly) (4.7.2)\n",
      "Requirement already satisfied: mpmath>=0.19 in ./qenv_project/lib/python3.8/site-packages (from sympy==1.5->tfq-nightly) (1.2.1)\n",
      "Requirement already satisfied: pyparsing>=2.2.1 in ./qenv_project/lib/python3.8/site-packages (from matplotlib~=3.0->cirq-core==0.11.0->cirq==0.11.0->tfq-nightly) (2.4.7)\n",
      "Requirement already satisfied: pillow>=6.2.0 in ./qenv_project/lib/python3.8/site-packages (from matplotlib~=3.0->cirq-core==0.11.0->cirq==0.11.0->tfq-nightly) (8.2.0)\n",
      "Requirement already satisfied: python-dateutil>=2.7 in ./qenv_project/lib/python3.8/site-packages (from matplotlib~=3.0->cirq-core==0.11.0->cirq==0.11.0->tfq-nightly) (2.8.1)\n",
      "Requirement already satisfied: cycler>=0.10 in ./qenv_project/lib/python3.8/site-packages (from matplotlib~=3.0->cirq-core==0.11.0->cirq==0.11.0->tfq-nightly) (0.10.0)\n",
      "Requirement already satisfied: kiwisolver>=1.0.1 in ./qenv_project/lib/python3.8/site-packages (from matplotlib~=3.0->cirq-core==0.11.0->cirq==0.11.0->tfq-nightly) (1.3.1)\n",
      "Requirement already satisfied: decorator<5,>=4.3 in ./qenv_project/lib/python3.8/site-packages (from networkx~=2.4->cirq-core==0.11.0->cirq==0.11.0->tfq-nightly) (4.4.2)\n",
      "Requirement already satisfied: pyasn1<0.5.0,>=0.4.6 in ./qenv_project/lib/python3.8/site-packages (from pyasn1-modules>=0.2.1->google-auth==1.18.0->tfq-nightly) (0.4.8)\n",
      "Requirement already satisfied: certifi>=2017.4.17 in ./qenv_project/lib/python3.8/site-packages (from requests~=2.18->cirq-core==0.11.0->cirq==0.11.0->tfq-nightly) (2020.12.5)\n",
      "Requirement already satisfied: chardet<5,>=3.0.2 in ./qenv_project/lib/python3.8/site-packages (from requests~=2.18->cirq-core==0.11.0->cirq==0.11.0->tfq-nightly) (4.0.0)\n",
      "Requirement already satisfied: urllib3<1.27,>=1.21.1 in ./qenv_project/lib/python3.8/site-packages (from requests~=2.18->cirq-core==0.11.0->cirq==0.11.0->tfq-nightly) (1.26.4)\n",
      "Requirement already satisfied: idna<3,>=2.5 in ./qenv_project/lib/python3.8/site-packages (from requests~=2.18->cirq-core==0.11.0->cirq==0.11.0->tfq-nightly) (2.10)\n",
      "Installing collected packages: grpcio\n",
      "  Attempting uninstall: grpcio\n",
      "    Found existing installation: grpcio 1.32.0\n",
      "    Uninstalling grpcio-1.32.0:\n",
      "      Successfully uninstalled grpcio-1.32.0\n",
      "\u001b[31mERROR: pip's dependency resolver does not currently take into account all the packages that are installed. This behaviour is the source of the following dependency conflicts.\n",
      "tensorflow 2.4.1 requires grpcio~=1.32.0, but you have grpcio 1.30.0 which is incompatible.\u001b[0m\n",
      "Successfully installed grpcio-1.30.0\n",
      "\u001b[33mWARNING: You are using pip version 21.1.1; however, version 21.1.2 is available.\n",
      "You should consider upgrading via the '/mnt/c/Users/mmints/Documents/Stanford/CS230/project/CS230_quantum_dropout/qenv_project/bin/python3.8 -m pip install --upgrade pip' command.\u001b[0m\n"
     ]
    }
   ],
   "source": [
    "#!pip3 install -q tensorflow-quantum\n",
    "!python3.8 -m pip install tfq-nightly"
   ]
  },
  {
   "cell_type": "markdown",
   "metadata": {
    "colab_type": "text",
    "id": "hdgMMZEBGqyl"
   },
   "source": [
    "Now import TensorFlow and the module dependencies:"
   ]
  },
  {
   "cell_type": "code",
   "execution_count": 8,
   "metadata": {
    "colab": {},
    "colab_type": "code",
    "id": "enZ300Bflq80",
    "tags": []
   },
   "outputs": [],
   "source": [
    "from tensorflow import keras\n",
    "import pennylane as qml\n",
    "from pennylane.templates import AmplitudeEmbedding\n",
    "import tensorflow as tf\n",
    "import tensorflow_quantum as tfq\n",
    "\n",
    "import cirq\n",
    "import sympy\n",
    "import numpy as np\n",
    "import seaborn as sns\n",
    "import collections\n",
    "import datetime\n",
    "# visualization tools\n",
    "%matplotlib inline\n",
    "import matplotlib.pyplot as plt\n",
    "from cirq.contrib.svg import SVGCircuit\n",
    "\n",
    "# set the random seed\n",
    "tf.random.set_seed(137)\n",
    "np.random.seed(137)"
   ]
  },
  {
   "cell_type": "markdown",
   "metadata": {
    "colab_type": "text",
    "id": "b08Mmbs8lr81"
   },
   "source": [
    "## 1. Load the data\n",
    "\n",
    "In this tutorial you will build a binary classifier to distinguish between the digits 3 and 6, following <a href=\"https://arxiv.org/pdf/1802.06002.pdf\" class=\"external\">Farhi et al.</a> This section covers the data handling that:\n",
    "\n",
    "- Loads the raw data from Keras.\n",
    "- Filters the dataset to only 3s and 6s.\n",
    "- Downscales the images so they fit can fit in a quantum computer.\n",
    "- Removes any contradictory examples.\n",
    "- Converts the binary images to Cirq circuits.\n",
    "- Converts the Cirq circuits to TensorFlow Quantum circuits. "
   ]
  },
  {
   "cell_type": "markdown",
   "metadata": {
    "colab_type": "text",
    "id": "pDUdGxn-ojgy"
   },
   "source": [
    "### 1.1 Load the raw data"
   ]
  },
  {
   "cell_type": "markdown",
   "metadata": {
    "colab_type": "text",
    "id": "xZyGXlaKojgz"
   },
   "source": [
    "Load the MNIST dataset distributed with Keras. "
   ]
  },
  {
   "cell_type": "code",
   "execution_count": 9,
   "metadata": {
    "colab": {},
    "colab_type": "code",
    "id": "d9OSExvCojg0",
    "tags": []
   },
   "outputs": [
    {
     "name": "stdout",
     "output_type": "stream",
     "text": [
      "Number of original training examples: 60000\n",
      "Number of original test examples: 10000\n"
     ]
    }
   ],
   "source": [
    "(x_train, y_train), (x_test, y_test) = tf.keras.datasets.mnist.load_data()\n",
    "\n",
    "# Rescale the images from [0,255] to the [0.0,1.0] range.\n",
    "x_train, x_test = x_train[..., np.newaxis]/255.0, x_test[..., np.newaxis]/255.0\n",
    "\n",
    "print(\"Number of original training examples:\", len(x_train))\n",
    "print(\"Number of original test examples:\", len(x_test))"
   ]
  },
  {
   "cell_type": "markdown",
   "metadata": {},
   "source": [
    "### State Preparation \n",
    "Before implementing the model circuit, Schuld et.al. conducts the state preparation. State preparation is the step in which we transfer the input vector into a n-qubit system of the quantum computer. Suppose that the input vector from the data is $R^{N}$. The mapping that takes this input into the quantum Hilbert space $C^{2n}$ is $\\phi$. Schuld et. al. suggests to take the input vector $x \\in R^{n}$ to be related to the amplitudes of the ket vectors in the $2^{n}$ dimensional Hilbert space (feature space). This is what is called **Amplitude Encoding**. \n",
    "\n",
    "#### Amplitude Encoding Requirement \n",
    "\n",
    "**If N is a power of 2**\n",
    "1. Make the input vector size $N$ to be a power of 2, which makes us able to utilize all the possible amplitudes created by the n-qubit system of the quantum computer.  \n",
    "2. input vector normalized to 1. \n",
    "\n",
    "**If N is *not* a power of 2**\n",
    "1. Pad the input vector $x$, with non-zero features {c}, and normalize\n",
    "$$(x_1,\\cdots, x_{N})^{T} \\rightarrow \\frac{1}{\\sqrt{\\sum_{j}x_{j}^2 + \\sum_{k}|c_{k}|^2}}(x_1,\\cdots, x_{N}, c_1, \\cdots, c_{D})^{T}$$\n",
    "This basically embeds the input vector $x$ into a higher dimensional space. Padding width in the above notation is $D$. \n",
    "\n",
    "In the case of the MNIST data implementation by Schuld et. al, the MNIST data set input vectors are coarsed grained to 256 dimensions. This corresponds to $2^8$ where 8 represents 8-qubits. Thus implementation #1 in the amplitude encoding requirement is taken. \n",
    "\n",
    "For the MNIST dataset, Schuld et. al. deskews the dataset and then coarse grains each of the examples to an image with dimensions (16,16), since when flattened out, the image becomes a 16x16 = 256 dimensional vector. Before, the amplitude encoding, we will first deskew and coarse grain the dataset below. "
   ]
  },
  {
   "cell_type": "markdown",
   "metadata": {},
   "source": [
    "#### 1. Deskew the dataset "
   ]
  },
  {
   "cell_type": "markdown",
   "metadata": {},
   "source": [
    "The following moment and deskew functions were taken from the works of : \n",
    "1. https://stackoverflow.com/questions/43577665/deskew-mnist-images\n",
    "2. https://fsix.github.io/mnist/Deskewing.html"
   ]
  },
  {
   "cell_type": "markdown",
   "metadata": {},
   "source": [
    "First clean up the data with deskewing function. And then apply amplitude encoding. "
   ]
  },
  {
   "cell_type": "code",
   "execution_count": 10,
   "metadata": {},
   "outputs": [
    {
     "name": "stdout",
     "output_type": "stream",
     "text": [
      "shape of x_train is (60000, 28, 28, 1)\n",
      "type of x_train is <class 'numpy.ndarray'>\n",
      "shape of x_test is (10000, 28, 28, 1)\n",
      "type of x_test is <class 'numpy.ndarray'>\n",
      "shape of x_train_deskew is (60000, 28, 28, 1)\n",
      "type of x_train_deskew is <class 'numpy.ndarray'>\n",
      "shape of x_test_deskew is (10000, 28, 28, 1)\n",
      "type of x_test_deskew is <class 'numpy.ndarray'>\n"
     ]
    },
    {
     "data": {
      "text/plain": [
       "<matplotlib.image.AxesImage at 0x7fbe1c2be4f0>"
      ]
     },
     "execution_count": 10,
     "metadata": {},
     "output_type": "execute_result"
    },
    {
     "data": {
      "image/png": "[encoded data removed]",
      "text/plain": [
       "<Figure size 576x1080 with 22 Axes>"
      ]
     },
     "metadata": {
      "needs_background": "light"
     },
     "output_type": "display_data"
    }
   ],
   "source": [
    "from scipy.ndimage import interpolation\n",
    "\n",
    "def moments(image):\n",
    "    c0,c1 = np.mgrid[:image.shape[0],:image.shape[1]] # A trick in numPy to create a mesh grid\n",
    "    totalImage = np.sum(image) #sum of pixels\n",
    "    m0 = np.sum(c0*image)/totalImage #mu_x\n",
    "    m1 = np.sum(c1*image)/totalImage #mu_y\n",
    "    m00 = np.sum((c0-m0)**2*image)/totalImage #var(x)\n",
    "    m11 = np.sum((c1-m1)**2*image)/totalImage #var(y)\n",
    "    m01 = np.sum((c0-m0)*(c1-m1)*image)/totalImage #covariance(x,y)\n",
    "    mu_vector = np.array([m0,m1]) # Notice that these are \\mu_x, \\mu_y respectively\n",
    "    covariance_matrix = np.array([[m00,m01],[m01,m11]]) # Do you see a similarity between the covariance matrix\n",
    "    return mu_vector, covariance_matrix\n",
    "#Deskew the training samples \n",
    "def deskew(image):\n",
    "    c,v = moments(image)\n",
    "    alpha = v[0,1]/v[0,0]\n",
    "    affine = np.array([[1,0],[alpha,1]])\n",
    "    ocenter = np.array(image.shape)/2.0\n",
    "    offset = c-np.dot(affine,ocenter)\n",
    "    img = interpolation.affine_transform(image,affine,offset=offset)\n",
    "    return (img - img.min()) / (img.max() - img.min())\n",
    "examples = (4181, 0), (3,1), (56282, 2), (25829,3), (9741,4) , (26901,5), (50027,6), (17935,7) , (41495, 8), (14662, 9)\n",
    "\n",
    "from mpl_toolkits.axes_grid1 import AxesGrid\n",
    "grid = AxesGrid(plt.figure(figsize=(8,15)), 141,  # similar to subplot(141)\n",
    "                    nrows_ncols=(10, 2),\n",
    "                    axes_pad=0.05,\n",
    "                    label_mode=\"1\",\n",
    "                    )\n",
    "\n",
    "for examplenum,num in examples:\n",
    "    im = grid[2*num].imshow(x_train[examplenum].reshape(28,28))\n",
    "    im2 = grid[2*num+1].imshow(deskew(x_train[examplenum].reshape(28,28)))\n",
    "plt.subplot(1, 2, 1)\n",
    "plt.imshow(x_train[3].reshape(28,28))\n",
    "\n",
    "newim = deskew(x_train[3].reshape(28,28))\n",
    "plt.subplot(1, 2, 2)\n",
    "plt.imshow(newim)\n",
    "\n",
    "print(\"shape of x_train is \" + str(x_train.shape))\n",
    "print(\"type of x_train is \" + str(type(x_train)))\n",
    "print(\"shape of x_test is \" + str(x_test.shape))\n",
    "print(\"type of x_test is \" + str(type(x_test)))\n",
    "\n",
    "\n",
    "#store the deskwed x_train into a list x_test_deskew\n",
    "#store the deskwed x_test into a list x_test_deskew\n",
    "\n",
    "#training set \n",
    "x_train_deskew = [] \n",
    "for i in range(x_train.shape[0]): \n",
    "    x_train_deskew.append(deskew(x_train[i].reshape(28,28)))\n",
    "x_train_deskew = np.array(x_train_deskew)\n",
    "x_train_deskew = x_train_deskew[..., np.newaxis]\n",
    "print(\"shape of x_train_deskew is \" + str(np.shape(x_train_deskew)))\n",
    "print(\"type of x_train_deskew is \" + str(type(x_train_deskew)))\n",
    "\n",
    "#test set \n",
    "x_test_deskew = [] \n",
    "for j in range(x_test.shape[0]): \n",
    "    x_test_deskew.append(deskew(x_test[j].reshape(28,28)))\n",
    "x_test_deskew = np.array(x_test_deskew)\n",
    "x_test_deskew = x_test_deskew[..., np.newaxis]\n",
    "print(\"shape of x_test_deskew is \" + str(np.shape(x_test_deskew)))\n",
    "print(\"type of x_test_deskew is \" + str(type(x_test_deskew)))\n",
    "\n",
    "\n",
    "#We should have the deskewed image stored within x_train\n",
    "#original \n",
    "plt.subplot(1, 2, 1)\n",
    "plt.imshow(x_train[3].reshape(28,28))\n",
    "\n",
    "#deskewed \n",
    "plt.subplot(1, 2, 2)\n",
    "plt.imshow(x_train_deskew[3])\n",
    "\n",
    "\n",
    "#We should have the deskewed image stored within x_test \n",
    "#original\n",
    "plt.subplot(1, 2, 1)\n",
    "plt.imshow(x_test[3].reshape(28,28))\n",
    "\n",
    "#deskewed\n",
    "plt.subplot(1, 2, 2)\n",
    "plt.imshow(x_test_deskew[3])"
   ]
  },
  {
   "cell_type": "code",
   "execution_count": null,
   "metadata": {},
   "outputs": [],
   "source": []
  },
  {
   "cell_type": "markdown",
   "metadata": {
    "colab_type": "text",
    "id": "fZpbygdGojg3"
   },
   "source": [
    "Filter the dataset to keep just the 3s and 6s,  remove the other classes. At the same time convert the label, `y`, to boolean: `True` for `3` and `False` for 6. "
   ]
  },
  {
   "cell_type": "code",
   "execution_count": 11,
   "metadata": {
    "colab": {},
    "colab_type": "code",
    "id": "hOw68cCZojg4",
    "tags": []
   },
   "outputs": [],
   "source": [
    "def filter_36(x, y):\n",
    "    keep = (y == 3) | (y == 6)\n",
    "    x, y = x[keep], y[keep]\n",
    "    y = y == 3\n",
    "    return x,y"
   ]
  },
  {
   "cell_type": "code",
   "execution_count": 12,
   "metadata": {
    "colab": {},
    "colab_type": "code",
    "id": "p-XEU8egGL6q",
    "tags": []
   },
   "outputs": [
    {
     "name": "stdout",
     "output_type": "stream",
     "text": [
      "(60000, 28, 28, 1)\n",
      "(60000,)\n",
      "(60000, 28, 28, 1)\n",
      "Number of filtered training examples: 12049\n",
      "Number of filtered test examples: 1968\n"
     ]
    }
   ],
   "source": [
    "print(x_train_deskew.shape)\n",
    "print(y_train.shape)\n",
    "print(x_train.shape)\n",
    "x_train, y_train = filter_36(x_train, y_train)\n",
    "x_test, y_test = filter_36(x_test, y_test)\n",
    "\n",
    "print(\"Number of filtered training examples:\", len(x_train))\n",
    "print(\"Number of filtered test examples:\", len(x_test))"
   ]
  },
  {
   "cell_type": "markdown",
   "metadata": {
    "colab_type": "text",
    "id": "3wyiaP0Xojg_"
   },
   "source": [
    "Show the first example:"
   ]
  },
  {
   "cell_type": "code",
   "execution_count": 13,
   "metadata": {
    "colab": {},
    "colab_type": "code",
    "id": "j5STP7MbojhA",
    "tags": []
   },
   "outputs": [
    {
     "name": "stdout",
     "output_type": "stream",
     "text": [
      "True\n"
     ]
    },
    {
     "data": {
      "text/plain": [
       "<matplotlib.colorbar.Colorbar at 0x7fbe1c0c00a0>"
      ]
     },
     "execution_count": 13,
     "metadata": {},
     "output_type": "execute_result"
    },
    {
     "data": {
      "image/png": "[encoded data removed]",
      "text/plain": [
       "<Figure size 432x288 with 2 Axes>"
      ]
     },
     "metadata": {
      "needs_background": "light"
     },
     "output_type": "display_data"
    }
   ],
   "source": [
    "print(y_train[0])\n",
    "\n",
    "plt.imshow(x_train[0, :, :, 0])\n",
    "plt.colorbar()"
   ]
  },
  {
   "cell_type": "markdown",
   "metadata": {
    "colab_type": "text",
    "id": "wNS9sVPQojhC"
   },
   "source": [
    "### 1.2 Downscale the images"
   ]
  },
  {
   "cell_type": "markdown",
   "metadata": {
    "colab_type": "text",
    "id": "fmmtplIFGL6t"
   },
   "source": [
    "An image size of 28x28 is much too large for current quantum computers. Resize the image down to 4x4:"
   ]
  },
  {
   "cell_type": "code",
   "execution_count": 14,
   "metadata": {
    "colab": {},
    "colab_type": "code",
    "id": "lbhUdBFWojhE",
    "tags": []
   },
   "outputs": [],
   "source": [
    "x_train_small = tf.image.resize(x_train, (4,4)).numpy()\n",
    "x_test_small = tf.image.resize(x_test, (4,4)).numpy()"
   ]
  },
  {
   "cell_type": "markdown",
   "metadata": {
    "colab_type": "text",
    "id": "pOMd7zIjGL6x"
   },
   "source": [
    "Again, display the first training example—after resize: "
   ]
  },
  {
   "cell_type": "code",
   "execution_count": 15,
   "metadata": {
    "colab": {},
    "colab_type": "code",
    "id": "YIYOtCRIGL6y",
    "scrolled": true,
    "tags": []
   },
   "outputs": [
    {
     "name": "stdout",
     "output_type": "stream",
     "text": [
      "True\n"
     ]
    },
    {
     "data": {
      "text/plain": [
       "<matplotlib.colorbar.Colorbar at 0x7fbe0fff9520>"
      ]
     },
     "execution_count": 15,
     "metadata": {},
     "output_type": "execute_result"
    },
    {
     "data": {
      "image/png": "[encoded data removed]",
      "text/plain": [
       "<Figure size 432x288 with 2 Axes>"
      ]
     },
     "metadata": {
      "needs_background": "light"
     },
     "output_type": "display_data"
    }
   ],
   "source": [
    "print(y_train[0])\n",
    "\n",
    "plt.imshow(x_train_small[0,:,:,0], vmin=0, vmax=1)\n",
    "plt.colorbar()"
   ]
  },
  {
   "cell_type": "markdown",
   "metadata": {
    "colab_type": "text",
    "id": "gGeF1_qtojhK"
   },
   "source": [
    "### 1.3 Remove contradictory examples"
   ]
  },
  {
   "cell_type": "markdown",
   "metadata": {
    "colab_type": "text",
    "id": "7ZLkq2yeojhL"
   },
   "source": [
    "From section *3.3 Learning to Distinguish Digits* of <a href=\"https://arxiv.org/pdf/1802.06002.pdf\" class=\"external\">Farhi et al.</a>, filter the dataset to remove images that are labeled as belonging to both classes.\n",
    "\n",
    "This is not a standard machine-learning procedure, but is included in the interest of following the paper."
   ]
  },
  {
   "cell_type": "code",
   "execution_count": 16,
   "metadata": {
    "colab": {},
    "colab_type": "code",
    "id": "LqOPW0C7ojhL",
    "tags": []
   },
   "outputs": [],
   "source": [
    "def remove_contradicting(xs, ys):\n",
    "    mapping = collections.defaultdict(set)\n",
    "    orig_x = {}\n",
    "    # Determine the set of labels for each unique image:\n",
    "    for x,y in zip(xs,ys):\n",
    "       orig_x[tuple(x.flatten())] = x\n",
    "       mapping[tuple(x.flatten())].add(y)\n",
    "    \n",
    "    new_x = []\n",
    "    new_y = []\n",
    "    for flatten_x in mapping:\n",
    "      x = orig_x[flatten_x]\n",
    "      labels = mapping[flatten_x]\n",
    "      if len(labels) == 1:\n",
    "          new_x.append(x)\n",
    "          new_y.append(next(iter(labels)))\n",
    "      else:\n",
    "          # Throw out images that match more than one label.\n",
    "          pass\n",
    "    \n",
    "    num_uniq_3 = sum(1 for value in mapping.values() if len(value) == 1 and True in value)\n",
    "    num_uniq_6 = sum(1 for value in mapping.values() if len(value) == 1 and False in value)\n",
    "    num_uniq_both = sum(1 for value in mapping.values() if len(value) == 2)\n",
    "\n",
    "    print(\"Number of unique images:\", len(mapping.values()))\n",
    "    print(\"Number of unique 3s: \", num_uniq_3)\n",
    "    print(\"Number of unique 6s: \", num_uniq_6)\n",
    "    print(\"Number of unique contradicting labels (both 3 and 6): \", num_uniq_both)\n",
    "    print()\n",
    "    print(\"Initial number of images: \", len(xs))\n",
    "    print(\"Remaining non-contradicting unique images: \", len(new_x))\n",
    "    \n",
    "    return np.array(new_x), np.array(new_y)"
   ]
  },
  {
   "cell_type": "markdown",
   "metadata": {
    "colab_type": "text",
    "id": "VMOiJfz_ojhP"
   },
   "source": [
    "The resulting counts do not closely match the reported values, but the exact procedure is not specified.\n",
    "\n",
    "It is also worth noting here that applying filtering contradictory examples at this point does not totally prevent the model from receiving contradictory training examples: the next step binarizes the data which will cause more collisions. "
   ]
  },
  {
   "cell_type": "code",
   "execution_count": 17,
   "metadata": {
    "colab": {},
    "colab_type": "code",
    "id": "zpnsAssWojhP",
    "scrolled": true,
    "tags": []
   },
   "outputs": [
    {
     "name": "stdout",
     "output_type": "stream",
     "text": [
      "Number of unique images: 10387\n",
      "Number of unique 3s:  4912\n",
      "Number of unique 6s:  5426\n",
      "Number of unique contradicting labels (both 3 and 6):  49\n",
      "\n",
      "Initial number of images:  12049\n",
      "Remaining non-contradicting unique images:  10338\n"
     ]
    }
   ],
   "source": [
    "x_train_nocon, y_train_nocon = remove_contradicting(x_train_small, y_train)"
   ]
  },
  {
   "cell_type": "code",
   "execution_count": 18,
   "metadata": {
    "colab": {},
    "colab_type": "code",
    "id": "1z8J7OyDojhV",
    "tags": []
   },
   "outputs": [],
   "source": [
    "THRESHOLD = 0.5\n",
    "\n",
    "x_train_bin = np.array(x_train_nocon > THRESHOLD, dtype=np.float32)\n",
    "x_test_bin = np.array(x_test_small > THRESHOLD, dtype=np.float32)"
   ]
  },
  {
   "cell_type": "code",
   "execution_count": 19,
   "metadata": {},
   "outputs": [
    {
     "name": "stdout",
     "output_type": "stream",
     "text": [
      "(10538, 4, 4, 1)\n",
      "(10538,)\n"
     ]
    }
   ],
   "source": [
    "# Duplicate some entries to illustrate the effects of dropout! Run this cell only if testing dropout\n",
    "NUM_DUPLICATE = 200\n",
    "\n",
    "for i in range(NUM_DUPLICATE):\n",
    "    x_train_nocon = np.insert(x_train_nocon, 0, x_train_bin[0], axis=0)\n",
    "    y_train_nocon = np.insert(y_train_nocon, 0, y_train_nocon[0], axis=0)\n",
    "print(x_train_nocon.shape)\n",
    "print(y_train_nocon.shape)"
   ]
  },
  {
   "cell_type": "markdown",
   "metadata": {
    "colab_type": "text",
    "id": "SlJ5NVaPojhT"
   },
   "source": [
    "### 1.4 Encode the data as quantum circuits\n",
    "\n",
    "To process images using a quantum computer, <a href=\"https://arxiv.org/pdf/1802.06002.pdf\" class=\"external\">Farhi et al.</a> proposed representing each pixel with a qubit, with the state depending on the value of the pixel. The first step is to convert to a binary encoding."
   ]
  },
  {
   "cell_type": "markdown",
   "metadata": {
    "colab_type": "text",
    "id": "SlJ5NVaPojhU"
   },
   "source": [
    "If you were to remove contradictory images at this point you would be left with only 193, likely not enough for effective training."
   ]
  },
  {
   "cell_type": "code",
   "execution_count": 20,
   "metadata": {
    "colab": {},
    "colab_type": "code",
    "id": "1z8J7OyDojhW",
    "tags": []
   },
   "outputs": [
    {
     "name": "stdout",
     "output_type": "stream",
     "text": [
      "Number of unique images: 193\n",
      "Number of unique 3s:  32\n",
      "Number of unique 6s:  37\n",
      "Number of unique contradicting labels (both 3 and 6):  124\n",
      "\n",
      "Initial number of images:  10338\n",
      "Remaining non-contradicting unique images:  69\n"
     ]
    }
   ],
   "source": [
    "_ = remove_contradicting(x_train_bin, y_train_nocon)"
   ]
  },
  {
   "cell_type": "markdown",
   "metadata": {
    "colab_type": "text",
    "id": "oLyxS9KlojhZ"
   },
   "source": [
    "The qubits at pixel indices with values that exceed a threshold, are rotated through an $X$ gate."
   ]
  },
  {
   "cell_type": "code",
   "execution_count": 21,
   "metadata": {
    "colab": {},
    "colab_type": "code",
    "id": "aOu_3-3ZGL61",
    "tags": []
   },
   "outputs": [],
   "source": [
    "def convert_to_circuit(image):\n",
    "    \"\"\"Encode truncated classical image into quantum datapoint.\"\"\"\n",
    "    values = np.ndarray.flatten(image)\n",
    "    qubits = cirq.GridQubit.rect(4, 4)\n",
    "    circuit = cirq.Circuit()\n",
    "    for i, value in enumerate(values):\n",
    "        if value:\n",
    "            circuit.append(cirq.X(qubits[i]))\n",
    "    return circuit\n",
    "\n",
    "\n",
    "x_train_circ = [convert_to_circuit(x) for x in x_train_bin]\n",
    "x_test_circ = [convert_to_circuit(x) for x in x_test_bin]"
   ]
  },
  {
   "cell_type": "markdown",
   "metadata": {
    "colab_type": "text",
    "id": "zSCXqzOzojhd"
   },
   "source": [
    "Here is the circuit created for the first example (circuit diagrams do not show qubits with zero gates):"
   ]
  },
  {
   "cell_type": "code",
   "execution_count": 22,
   "metadata": {
    "colab": {},
    "colab_type": "code",
    "id": "w3POmUEUojhe",
    "tags": []
   },
   "outputs": [
    {
     "name": "stderr",
     "output_type": "stream",
     "text": [
      "WARNING:matplotlib.font_manager:findfont: Font family ['Arial'] not found. Falling back to DejaVu Sans.\n"
     ]
    },
    {
     "data": {
      "image/svg+xml": [
       "<svg xmlns=\"http://www.w3.org/2000/svg\" width=\"169.517734375\" height=\"100.0\"><line x1=\"34.7588671875\" x2=\"139.517734375\" y1=\"25.0\" y2=\"25.0\" stroke=\"#1967d2\" stroke-width=\"1\" /><line x1=\"34.7588671875\" x2=\"139.517734375\" y1=\"75.0\" y2=\"75.0\" stroke=\"#1967d2\" stroke-width=\"1\" /><rect x=\"10.0\" y=\"5.0\" width=\"49.517734375\" height=\"40\" stroke=\"black\" fill=\"white\" stroke-width=\"0\" /><text x=\"34.7588671875\" y=\"25.0\" dominant-baseline=\"middle\" text-anchor=\"middle\" font-size=\"14px\" font-family=\"Arial\">(2, 2): </text><rect x=\"10.0\" y=\"55.0\" width=\"49.517734375\" height=\"40\" stroke=\"black\" fill=\"white\" stroke-width=\"0\" /><text x=\"34.7588671875\" y=\"75.0\" dominant-baseline=\"middle\" text-anchor=\"middle\" font-size=\"14px\" font-family=\"Arial\">(3, 1): </text><rect x=\"79.517734375\" y=\"5.0\" width=\"40\" height=\"40\" stroke=\"black\" fill=\"white\" stroke-width=\"1\" /><text x=\"99.517734375\" y=\"25.0\" dominant-baseline=\"middle\" text-anchor=\"middle\" font-size=\"18px\" font-family=\"Arial\">X</text><rect x=\"79.517734375\" y=\"55.0\" width=\"40\" height=\"40\" stroke=\"black\" fill=\"white\" stroke-width=\"1\" /><text x=\"99.517734375\" y=\"75.0\" dominant-baseline=\"middle\" text-anchor=\"middle\" font-size=\"18px\" font-family=\"Arial\">X</text></svg>"
      ],
      "text/plain": [
       "<cirq.contrib.svg.svg.SVGCircuit at 0x7fbe0ff46a00>"
      ]
     },
     "execution_count": 22,
     "metadata": {},
     "output_type": "execute_result"
    }
   ],
   "source": [
    "SVGCircuit(x_train_circ[0])"
   ]
  },
  {
   "cell_type": "markdown",
   "metadata": {
    "colab_type": "text",
    "id": "AEQMxCcBojhg"
   },
   "source": [
    "Compare this circuit to the indices where the image value exceeds the threshold:"
   ]
  },
  {
   "cell_type": "code",
   "execution_count": 23,
   "metadata": {
    "colab": {},
    "colab_type": "code",
    "id": "TBIsiXdtojhh",
    "tags": []
   },
   "outputs": [
    {
     "data": {
      "text/plain": [
       "array([[2, 2],\n",
       "       [3, 1]])"
      ]
     },
     "execution_count": 23,
     "metadata": {},
     "output_type": "execute_result"
    }
   ],
   "source": [
    "bin_img = x_train_bin[0,:,:,0]\n",
    "indices = np.array(np.where(bin_img)).T\n",
    "indices"
   ]
  },
  {
   "cell_type": "markdown",
   "metadata": {
    "colab_type": "text",
    "id": "mWZ24w1Oojhk"
   },
   "source": [
    "Convert these `Cirq` circuits to tensors for `tfq`:"
   ]
  },
  {
   "cell_type": "code",
   "execution_count": 24,
   "metadata": {
    "colab": {},
    "colab_type": "code",
    "id": "IZStEMk4ojhk",
    "tags": []
   },
   "outputs": [],
   "source": [
    "x_train_tfcirc = tfq.convert_to_tensor(x_train_circ)\n",
    "x_test_tfcirc = tfq.convert_to_tensor(x_test_circ)"
   ]
  },
  {
   "cell_type": "markdown",
   "metadata": {
    "colab_type": "text",
    "id": "4USiqeOqGL67"
   },
   "source": [
    "## 2. Quantum neural network\n",
    "\n",
    "There is little guidance for a quantum circuit structure that classifies images. Since the classification is based on the expectation of the readout qubit, <a href=\"https://arxiv.org/pdf/1802.06002.pdf\" class=\"external\">Farhi et al.</a> propose using two qubit gates, with the readout qubit always acted upon. This is similar in some ways to running small a <a href=\"https://arxiv.org/abs/1511.06464\" class=\"external\">Unitary RNN</a> across the pixels."
   ]
  },
  {
   "cell_type": "markdown",
   "metadata": {},
   "source": [
    "Helper functions for Tensorboard.\n",
    "\n",
    "\n",
    "- The integer values of samples, so that you can create histograms of the distribution.\n",
    "- The linear XEB fidelity estimate of a set of samples, to give some indication of how \"truly quantum random\" the samples are.\n"
   ]
  },
  {
   "cell_type": "code",
   "execution_count": 25,
   "metadata": {},
   "outputs": [],
   "source": [
    "@tf.function\n",
    "def bits_to_ints(bits):\n",
    "    \"\"\"Convert tensor of bitstrings to tensor of ints.\"\"\"\n",
    "    sigs = tf.constant([1 << i for i in range(N_QUBITS)], dtype=tf.int32)\n",
    "    rounded_bits = tf.clip_by_value(tf.math.round(\n",
    "        tf.cast(bits, dtype=tf.dtypes.float32)), clip_value_min=0, clip_value_max=1)\n",
    "    return tf.einsum('jk,k->j', tf.cast(rounded_bits, dtype=tf.dtypes.int32), sigs)\n",
    "\n",
    "@tf.function\n",
    "def xeb_fid(bits):\n",
    "    \"\"\"Compute linear XEB fidelity of bitstrings.\"\"\"\n",
    "    final_probs = tf.squeeze(\n",
    "        tf.abs(tfq.layers.State()(REFERENCE_CIRCUIT).to_tensor()) ** 2)\n",
    "    nums = bits_to_ints(bits)\n",
    "    return (2 ** N_QUBITS) * tf.reduce_mean(tf.gather(final_probs, nums)) - 1.0\n"
   ]
  },
  {
   "cell_type": "markdown",
   "metadata": {},
   "source": [
    "From the above, we see that we successfully converted the original MNIST x_train into the deskewed x_train_deskewed. New, we coarse grain the (28,28) image to (16,16). "
   ]
  },
  {
   "cell_type": "markdown",
   "metadata": {},
   "source": [
    "#### 2. Downscaling (Coarse Graining) deskewed image from (28,28) -> (16,16)\n",
    "Schuld et. al. coarse grains a single training example from the MNIST dataset to a vector of 256 dimensions. \n",
    "The original MNIST dataset is of dimension 28x28 = 784 (if each example is flattened out). Flattening out 16x16 = 256 dimensions. "
   ]
  },
  {
   "cell_type": "code",
   "execution_count": 26,
   "metadata": {},
   "outputs": [
    {
     "data": {
      "text/plain": [
       "<matplotlib.image.AxesImage at 0x7fbe0e53bdf0>"
      ]
     },
     "execution_count": 26,
     "metadata": {},
     "output_type": "execute_result"
    },
    {
     "data": {
      "image/png": "[encoded data removed]",
      "text/plain": [
       "<Figure size 432x288 with 1 Axes>"
      ]
     },
     "metadata": {
      "needs_background": "light"
     },
     "output_type": "display_data"
    }
   ],
   "source": [
    "x_train_coarse = tf.image.resize(x_train_deskew, (16,16)).numpy()\n",
    "x_test_coarse = tf.image.resize(x_test_deskew, (16,16)).numpy()\n",
    "plt.imshow(x_train_coarse[3])"
   ]
  },
  {
   "cell_type": "markdown",
   "metadata": {},
   "source": [
    "#### 3. Flatten the image to normalized 256-dimensional vector"
   ]
  },
  {
   "cell_type": "code",
   "execution_count": 27,
   "metadata": {},
   "outputs": [
    {
     "name": "stdout",
     "output_type": "stream",
     "text": [
      "shape of x_train_coarse_flat is (60000, 256)\n",
      "check if normalized : 0.9999999994396633\n"
     ]
    }
   ],
   "source": [
    "#storage for flattend x_train_coarse vectors \n",
    "x_train_coarse_flat = np.zeros((x_train_coarse.shape[0],256))\n",
    "for i in range(x_train.shape[0]): \n",
    "    x_flat = x_train_coarse[i].flatten()\n",
    "    norm = np.linalg.norm(x_flat)\n",
    "    norm_x_flat = x_flat/norm\n",
    "    x_train_coarse_flat[i,:] = norm_x_flat\n",
    "\n",
    "    \n",
    "#storage for flattend x_test_coarse vectors \n",
    "x_test_coarse_flat = np.zeros((x_test_coarse.shape[0],256))\n",
    "for i in range(x_test.shape[0]): \n",
    "    x_flat = x_test_coarse[i].flatten()\n",
    "    norm = np.linalg.norm(x_flat)\n",
    "    norm_x_flat = x_flat/norm\n",
    "    x_test_coarse_flat[i,:] = norm_x_flat\n",
    "    \n",
    "print(\"shape of x_train_coarse_flat is \" + str(np.shape(x_train_coarse_flat)))\n",
    "print(\"check if normalized : \" + str(np.sqrt(x_train_coarse_flat[3,:].dot(x_train_coarse_flat[3,:]))))"
   ]
  },
  {
   "cell_type": "markdown",
   "metadata": {},
   "source": [
    "We successfully flattened the deskewed + coarse grained data set to a normalized 256-dimensional vector. "
   ]
  },
  {
   "cell_type": "markdown",
   "metadata": {},
   "source": [
    "#### 4. Apply amplitude embedding on the dataset.\n",
    "We use the pennylane Amplitude embedding method."
   ]
  },
  {
   "cell_type": "code",
   "execution_count": 28,
   "metadata": {},
   "outputs": [
    {
     "name": "stdout",
     "output_type": "stream",
     "text": [
      "[0.0116099  0.01160989 0.01160967 0.01160916 0.01161146 0.01161371\n",
      " 0.01161433 0.01160899 0.01159702 0.01160656 0.01158849 0.01158695\n",
      " 0.01160782 0.0116097  0.0116099  0.0116099  0.01160989 0.01160992\n",
      " 0.01161097 0.01161348 0.01160245 0.01159234 0.0115901  0.01161476\n",
      " 0.01167109 0.01162117 0.01171254 0.01171549 0.01161499 0.01161142\n",
      " 0.01160985 0.0116099  0.0116099  0.01160986 0.01160885 0.01168735\n",
      " 0.01159235 0.01113598 0.01099782 0.01096042 0.01291967 0.01351303\n",
      " 0.01310598 0.01510118 0.0128954  0.01160156 0.01161015 0.0116099\n",
      " 0.01160842 0.01162058 0.01191654 0.01623252 0.03229045 0.07283596\n",
      " 0.10727166 0.12864868 0.15317373 0.15911235 0.13035896 0.1793035\n",
      " 0.07811258 0.00938078 0.01159267 0.0116099  0.0116095  0.01161269\n",
      " 0.01169003 0.0421715  0.18415603 0.1871769  0.18673553 0.1756878\n",
      " 0.17413333 0.14799191 0.04609891 0.03550546 0.01790038 0.01196682\n",
      " 0.01161832 0.0116099  0.01161066 0.01160471 0.0114609  0.01029056\n",
      " 0.06660093 0.08121876 0.18484472 0.08283664 0.01250172 0.09016296\n",
      " 0.0101214  0.01192239 0.0116574  0.01160899 0.01160987 0.0116099\n",
      " 0.01160985 0.0116102  0.01161873 0.01168676 0.01214894 0.01061378\n",
      " 0.13276775 0.12382369 0.0059593  0.01090145 0.01159052 0.01161964\n",
      " 0.01161208 0.01160884 0.01160988 0.0116099  0.0116099  0.01160989\n",
      " 0.01160967 0.01160791 0.01159141 0.0116876  0.01690125 0.13224609\n",
      " 0.11346015 0.05955125 0.01145617 0.01166308 0.01161728 0.01161091\n",
      " 0.01160993 0.01160989 0.0116099  0.0116099  0.01160986 0.01160955\n",
      " 0.01160816 0.01161834 0.01190984 0.02003774 0.11331896 0.17985968\n",
      " 0.10068997 0.02287149 0.01155882 0.0116058  0.01160975 0.01160991\n",
      " 0.0116099  0.0116099  0.0116099  0.01161028 0.01160903 0.01160943\n",
      " 0.01161164 0.01163893 0.01180902 0.02997651 0.17825386 0.15063486\n",
      " 0.01159815 0.01109924 0.01159212 0.01161252 0.0116099  0.0116099\n",
      " 0.01160985 0.01161405 0.01160771 0.01157949 0.01172858 0.01156814\n",
      " 0.01843886 0.0850965  0.16928399 0.18187653 0.03164841 0.01322477\n",
      " 0.01166616 0.01160207 0.0116099  0.0116099  0.01160966 0.01162353\n",
      " 0.01167171 0.01127188 0.0127272  0.06139254 0.15220375 0.18556491\n",
      " 0.18282223 0.11272287 0.02211933 0.01240087 0.01163746 0.01160609\n",
      " 0.0116099  0.01161017 0.01160206 0.01154296 0.01260347 0.05486384\n",
      " 0.10521045 0.18176024 0.1824882  0.1388175  0.04968446 0.01122701\n",
      " 0.0118319  0.0116131  0.01161001 0.01160988 0.0116099  0.01159344\n",
      " 0.01217763 0.02058881 0.12684506 0.18332876 0.17974447 0.17298801\n",
      " 0.09354518 0.00861487 0.01185839 0.01151903 0.01164021 0.01160681\n",
      " 0.01160979 0.01160991 0.0116099  0.01160666 0.01174184 0.01300829\n",
      " 0.02706333 0.02962305 0.02506826 0.01970372 0.01183775 0.01152561\n",
      " 0.01162189 0.01160862 0.01160954 0.01160997 0.0116099  0.0116099\n",
      " 0.0116099  0.0116099  0.01160924 0.01160372 0.01184958 0.01194844\n",
      " 0.01190869 0.01175972 0.01156702 0.01161921 0.01160746 0.01161007\n",
      " 0.01161003 0.01160985 0.0116099  0.0116099 ]\n",
      "[0.0116099 +0.j 0.01160989+0.j 0.01160967+0.j 0.01160916+0.j\n",
      " 0.01161146+0.j 0.01161371+0.j 0.01161433+0.j 0.01160899+0.j\n",
      " 0.01159702+0.j 0.01160656+0.j 0.01158849+0.j 0.01158695+0.j\n",
      " 0.01160782+0.j 0.0116097 +0.j 0.0116099 +0.j 0.0116099 +0.j\n",
      " 0.01160989+0.j 0.01160992+0.j 0.01161097+0.j 0.01161348+0.j\n",
      " 0.01160245+0.j 0.01159234+0.j 0.0115901 +0.j 0.01161476+0.j\n",
      " 0.01167109+0.j 0.01162117+0.j 0.01171254+0.j 0.01171549+0.j\n",
      " 0.01161499+0.j 0.01161142+0.j 0.01160985+0.j 0.0116099 +0.j\n",
      " 0.0116099 +0.j 0.01160986+0.j 0.01160885+0.j 0.01168735+0.j\n",
      " 0.01159235+0.j 0.01113598+0.j 0.01099782+0.j 0.01096042+0.j\n",
      " 0.01291967+0.j 0.01351303+0.j 0.01310598+0.j 0.01510118+0.j\n",
      " 0.0128954 +0.j 0.01160156+0.j 0.01161015+0.j 0.0116099 +0.j\n",
      " 0.01160842+0.j 0.01162058+0.j 0.01191654+0.j 0.01623252+0.j\n",
      " 0.03229045+0.j 0.07283596+0.j 0.10727166+0.j 0.12864868+0.j\n",
      " 0.15317373+0.j 0.15911235+0.j 0.13035896+0.j 0.1793035 +0.j\n",
      " 0.07811258+0.j 0.00938078+0.j 0.01159267+0.j 0.0116099 +0.j\n",
      " 0.0116095 +0.j 0.01161269+0.j 0.01169003+0.j 0.0421715 +0.j\n",
      " 0.18415603+0.j 0.1871769 +0.j 0.18673553+0.j 0.1756878 +0.j\n",
      " 0.17413333+0.j 0.14799191+0.j 0.04609891+0.j 0.03550546+0.j\n",
      " 0.01790038+0.j 0.01196682+0.j 0.01161832+0.j 0.0116099 +0.j\n",
      " 0.01161066+0.j 0.01160471+0.j 0.0114609 +0.j 0.01029056+0.j\n",
      " 0.06660093+0.j 0.08121876+0.j 0.18484472+0.j 0.08283664+0.j\n",
      " 0.01250172+0.j 0.09016296+0.j 0.0101214 +0.j 0.01192239+0.j\n",
      " 0.0116574 +0.j 0.01160899+0.j 0.01160987+0.j 0.0116099 +0.j\n",
      " 0.01160985+0.j 0.0116102 +0.j 0.01161873+0.j 0.01168676+0.j\n",
      " 0.01214894+0.j 0.01061378+0.j 0.13276775+0.j 0.12382369+0.j\n",
      " 0.0059593 +0.j 0.01090145+0.j 0.01159052+0.j 0.01161964+0.j\n",
      " 0.01161208+0.j 0.01160884+0.j 0.01160988+0.j 0.0116099 +0.j\n",
      " 0.0116099 +0.j 0.01160989+0.j 0.01160967+0.j 0.01160791+0.j\n",
      " 0.01159141+0.j 0.0116876 +0.j 0.01690125+0.j 0.13224609+0.j\n",
      " 0.11346015+0.j 0.05955125+0.j 0.01145617+0.j 0.01166308+0.j\n",
      " 0.01161728+0.j 0.01161091+0.j 0.01160993+0.j 0.01160989+0.j\n",
      " 0.0116099 +0.j 0.0116099 +0.j 0.01160986+0.j 0.01160955+0.j\n",
      " 0.01160816+0.j 0.01161834+0.j 0.01190984+0.j 0.02003774+0.j\n",
      " 0.11331896+0.j 0.17985968+0.j 0.10068997+0.j 0.02287149+0.j\n",
      " 0.01155882+0.j 0.0116058 +0.j 0.01160975+0.j 0.01160991+0.j\n",
      " 0.0116099 +0.j 0.0116099 +0.j 0.0116099 +0.j 0.01161028+0.j\n",
      " 0.01160903+0.j 0.01160943+0.j 0.01161164+0.j 0.01163893+0.j\n",
      " 0.01180902+0.j 0.02997651+0.j 0.17825386+0.j 0.15063486+0.j\n",
      " 0.01159815+0.j 0.01109924+0.j 0.01159212+0.j 0.01161252+0.j\n",
      " 0.0116099 +0.j 0.0116099 +0.j 0.01160985+0.j 0.01161405+0.j\n",
      " 0.01160771+0.j 0.01157949+0.j 0.01172858+0.j 0.01156814+0.j\n",
      " 0.01843886+0.j 0.0850965 +0.j 0.16928399+0.j 0.18187653+0.j\n",
      " 0.03164841+0.j 0.01322477+0.j 0.01166616+0.j 0.01160207+0.j\n",
      " 0.0116099 +0.j 0.0116099 +0.j 0.01160966+0.j 0.01162353+0.j\n",
      " 0.01167171+0.j 0.01127188+0.j 0.0127272 +0.j 0.06139254+0.j\n",
      " 0.15220375+0.j 0.18556491+0.j 0.18282223+0.j 0.11272287+0.j\n",
      " 0.02211933+0.j 0.01240087+0.j 0.01163746+0.j 0.01160609+0.j\n",
      " 0.0116099 +0.j 0.01161017+0.j 0.01160206+0.j 0.01154296+0.j\n",
      " 0.01260347+0.j 0.05486384+0.j 0.10521045+0.j 0.18176024+0.j\n",
      " 0.1824882 +0.j 0.1388175 +0.j 0.04968446+0.j 0.01122701+0.j\n",
      " 0.0118319 +0.j 0.0116131 +0.j 0.01161001+0.j 0.01160988+0.j\n",
      " 0.0116099 +0.j 0.01159344+0.j 0.01217763+0.j 0.02058881+0.j\n",
      " 0.12684506+0.j 0.18332876+0.j 0.17974447+0.j 0.17298801+0.j\n",
      " 0.09354518+0.j 0.00861487+0.j 0.01185839+0.j 0.01151903+0.j\n",
      " 0.01164021+0.j 0.01160681+0.j 0.01160979+0.j 0.01160991+0.j\n",
      " 0.0116099 +0.j 0.01160666+0.j 0.01174184+0.j 0.01300829+0.j\n",
      " 0.02706333+0.j 0.02962305+0.j 0.02506826+0.j 0.01970372+0.j\n",
      " 0.01183775+0.j 0.01152561+0.j 0.01162189+0.j 0.01160862+0.j\n",
      " 0.01160954+0.j 0.01160997+0.j 0.0116099 +0.j 0.0116099 +0.j\n",
      " 0.0116099 +0.j 0.0116099 +0.j 0.01160924+0.j 0.01160372+0.j\n",
      " 0.01184958+0.j 0.01194844+0.j 0.01190869+0.j 0.01175972+0.j\n",
      " 0.01156702+0.j 0.01161921+0.j 0.01160746+0.j 0.01161007+0.j\n",
      " 0.01161003+0.j 0.01160985+0.j 0.0116099 +0.j 0.0116099 +0.j]\n"
     ]
    }
   ],
   "source": [
    "channels = 8 # the number of channels is taken from schuld implementation.\n",
    "dev = qml.device('default.qubit', wires=channels)\n",
    "\n",
    "@qml.qnode(dev)\n",
    "def circuit(f=None,channels=8):\n",
    "    AmplitudeEmbedding(features=f, wires=range(channels))\n",
    "    return qml.expval(qml.PauliZ(0))\n",
    "\n",
    "circuit(f=x_train_coarse_flat[0,:])\n",
    "print(x_train_coarse_flat[0,:])\n",
    "print(dev.state)"
   ]
  },
  {
   "cell_type": "code",
   "execution_count": 29,
   "metadata": {},
   "outputs": [],
   "source": [
    "num_category = 10\n",
    "y_train_onehot = keras.utils.to_categorical(y_train, num_category)\n",
    "y_test_onehot = keras.utils.to_categorical(y_test, num_category)"
   ]
  },
  {
   "cell_type": "markdown",
   "metadata": {
    "colab_type": "text",
    "id": "knIzawEeojho"
   },
   "source": [
    "### 2.1 Build the model circuit\n",
    "\n",
    "This following example shows this layered approach. Each layer uses *n* instances of the same gate, with each of the data qubits acting on the readout qubit.\n",
    "\n",
    "Start with a simple class that will add a layer of these gates to a circuit:"
   ]
  },
  {
   "cell_type": "code",
   "execution_count": 31,
   "metadata": {
    "colab": {},
    "colab_type": "code",
    "id": "-hjxxgU5ojho",
    "tags": []
   },
   "outputs": [
    {
     "name": "stdout",
     "output_type": "stream",
     "text": [
      "dict_keys([cirq.X, cirq.XX, cirq.Y, cirq.YY, cirq.Z, cirq.ZZ, cirq.H, cirq.CZ, cirq.CNOT, cirq.SWAP, cirq.ISWAP, cirq.PhasedXPowGate(phase_exponent=0.123), cirq.PhasedISwapPowGate(phase_exponent=0.123), cirq.FSimGate(theta=0.123, phi=0.456), cirq.I])\n",
      "dict_keys([cirq.depolarize(p=0.01), cirq.asymmetric_depolarize(error_probabilities={'I': 0.94, 'X': 0.01, 'Y': 0.02, 'Z': 0.03}), cirq.generalized_amplitude_damp(p=0.01,gamma=0.02), cirq.amplitude_damp(gamma=0.01), cirq.ResetChannel(), cirq.phase_damp(gamma=0.01), cirq.phase_flip(p=0.01), cirq.bit_flip(p=0.01)])\n"
     ]
    }
   ],
   "source": [
    "print(tfq.util.get_supported_gates().keys())\n",
    "print(tfq.util.get_supported_channels().keys())\n",
    "\n",
    "class CircuitLayerBuilder():\n",
    "    def __init__(self, circuit, data_qubits, repeat_dropout=0, overlap_dropout=False):\n",
    "        \n",
    "        self.data_qubits = data_qubits\n",
    "        #self.readout = readout\n",
    "        self.curr_layer_id = 0\n",
    "        self.circuit = circuit\n",
    "\n",
    "        \n",
    "        # dropout\n",
    "        self.dropped_out_qubit_ids = []\n",
    "        self.dropout_blacklist = []\n",
    "        \n",
    "        self.overlap_dropout = overlap_dropout\n",
    "        \n",
    "        if repeat_dropout < 1:\n",
    "            repeat_dropout = 1\n",
    "        if overlap_dropout:\n",
    "            for _ in range(repeat_dropout - 1):\n",
    "                # We will be dequeing from this on each rebuild;\n",
    "                # so, each qubit will be in the list for repeat_dropout rebuilds.\n",
    "                self.dropped_out_qubit_ids.append(len(self.data_qubits))\n",
    "            self.delay_next_dropout = 1\n",
    "        else:\n",
    "            # if not overlapping, delay for as long as we're repeating\n",
    "            self.delay_next_dropout = repeat_dropout\n",
    "            \n",
    "        self.delay_next_dropout_i = 0 # try to dropout immediately\n",
    "        \n",
    "        # maps str(symbol) to (is_dropped_out, weight)\n",
    "        self.symbol_map = {}\n",
    "        \n",
    "        self.drop_out_applied = False\n",
    "        \n",
    "    def rebuild(self, circuit, data_qubits, computed_weights, preserve_dropout=False):\n",
    "        # prev_weights is the result of get_weights from the prior epoch.\n",
    "        \n",
    "        self.data_qubits = data_qubits\n",
    "        self.curr_layer_id = 0\n",
    "        self.circuit = circuit\n",
    "        \n",
    "        if preserve_dropout:\n",
    "            if self.overlap_dropout and len(self.dropped_out_qubit_ids) > 0 and self.drop_out_applied:\n",
    "                # Dropping first element. This is either padding, or an actual id that we want to stop dropping out from here on.\n",
    "                dropped_id = self.dropped_out_qubit_ids.pop(0)\n",
    "                self.dropout_blacklist.append(dropped_id)\n",
    "        else:\n",
    "            self.dropout_blacklist = []\n",
    "            self.dropped_out_qubit_ids = []\n",
    "        \n",
    "        if self.delay_next_dropout_i > 0:\n",
    "            self.delay_next_dropout_i -= 1\n",
    "        \n",
    "        if self.delay_next_dropout_i == 0 and not self.overlap_dropout:\n",
    "            # Dropout finished for this qubit!\n",
    "            assert len(self.dropped_out_qubit_ids) <= 1\n",
    "            if len(self.dropped_out_qubit_ids) == 1:\n",
    "                self.dropout_blacklist.append(self.dropped_out_qubit_ids[0])\n",
    "            self.dropped_out_qubit_ids = []\n",
    "        \n",
    "        self.drop_out_applied = False\n",
    "        \n",
    "        print('self.dropped_out_qubit_ids = ')\n",
    "        print(self.dropped_out_qubit_ids)\n",
    "        \n",
    "        j = 0\n",
    "        \n",
    "        #print('Rebuilding; prev self.symbol_map:')\n",
    "        #print(self.symbol_map)\n",
    "        \n",
    "        for k in sorted(self.symbol_map.keys()):\n",
    "            prev_is_dropped_out, _ = self.symbol_map[k]\n",
    "            if not prev_is_dropped_out:\n",
    "                # Re-use the prev weight. This isn't directly used as TFQ inputs, but we later use it to generate\n",
    "                # sane inputs for set_weights().\n",
    "                # Also, is-dropped-out is True by default to handle the case when a rebuilt circuit might not add a layer for some reason\n",
    "                self.symbol_map[k] = (True, computed_weights[j])\n",
    "\n",
    "                # prev_weights is a list that only has entries for non-dropped-out elems\n",
    "                j += 1\n",
    "                \n",
    "        #print('Rebuilding done; updated self.symbol_map:')\n",
    "        #print(self.symbol_map)\n",
    "    \n",
    "    def add_layer(self, gate, block=1,apply_dropout=False):\n",
    "        # at most one dropped qubit added per layer\n",
    "        self.block = block\n",
    "        if apply_dropout and self.curr_layer_id > 0 and self.delay_next_dropout_i == 0:\n",
    "            while True:\n",
    "                rand_id = np.random.randint(0, len(self.data_qubits) * 2 + 1)\n",
    "                if rand_id >= len(self.data_qubits):\n",
    "                    rand_id = len(self.data_qubits)\n",
    "                # Kinda hacky, blacklist qubits that we dropped out already\n",
    "                if rand_id not in self.dropout_blacklist or rand_id == len(self.data_qubits):\n",
    "                    break\n",
    "            print('self.dropout_blacklist =')\n",
    "            print(self.dropout_blacklist)\n",
    "            #print(rand_id)\n",
    "            if rand_id not in self.dropped_out_qubit_ids and rand_id != len(self.data_qubits):\n",
    "                self.dropped_out_qubit_ids.append(rand_id)\n",
    "            if rand_id != len(self.data_qubits):\n",
    "                self.delay_next_dropout_i = self.delay_next_dropout # reset delay if we're actually going to drop out!\n",
    "\n",
    "        \n",
    "        # first apply the initial single qubit gates\n",
    "        for i in range(len(self.data_qubits)):\n",
    "            qubit = self.data_qubits[i]\n",
    "            symbol = sympy.Symbol('sym_l' + str(self.curr_layer_id) + '_q' + str(i))\n",
    "            if str(symbol) in self.symbol_map:\n",
    "                _, weight = self.symbol_map[str(symbol)]\n",
    "            else:\n",
    "                # default value for weight is 0\n",
    "                weight = 0\n",
    "            if i in self.dropped_out_qubit_ids:# and self.curr_layer_id > 0:\n",
    "                print(\"Dropped out qubit id \" + str(i))\n",
    "                self.symbol_map[str(symbol)] = (True, weight)\n",
    "                self.drop_out_applied = True\n",
    "            else:\n",
    "                self.symbol_map[str(symbol)] = (False, weight)\n",
    "                self.circuit.append(gate(qubit)**symbol)\n",
    "\n",
    "        # according to the block num create the control gates\n",
    "\n",
    "        # add control gate version of the unitary gate if available (ie cz, cnot).\n",
    "        if gate == cirq.XX:\n",
    "            cgate = cirq.CNOT\n",
    "        elif gate == cirq.Z:\n",
    "            cgate = cirq.CZ\n",
    "        else:\n",
    "            cgate = cirq.CNOT\n",
    "        target = None\n",
    "        control = None\n",
    "        for i in range(len(self.data_qubits)):\n",
    "            if block > 0 :\n",
    "                symbol = sympy.Symbol('sym_l' + str(self.curr_layer_id) + '_q' + str(i)+ 'block'+str(block))\n",
    "                if str(symbol) in self.symbol_map:\n",
    "                    _, weight = self.symbol_map[str(symbol)]\n",
    "                else:\n",
    "                    # default value for weight is 0\n",
    "                    weight = 0\n",
    "                if control is None:\n",
    "                    control_idx = i\n",
    "                    control = self.data_qubits[i]\n",
    "                # determine control\n",
    "                target_idx = (control_idx+len(self.data_qubits)-block)%len(self.data_qubits)\n",
    "                target = self.data_qubits[target_idx]\n",
    "                # add gate\n",
    "                self.symbol_map[str(symbol)] = (False, weight)\n",
    "                self.circuit.append(cgate(control,target)**symbol)\n",
    "                control = target\n",
    "                control_idx = target_idx\n",
    "            else:\n",
    "                break #trimmed circuit doesn't include entanglements\n",
    "                \n",
    "        self.curr_layer_id += 1\n",
    "    \n",
    "    def get_builder_weights(self):\n",
    "        # returns symbol names in sorted order, which should match the order used for PQC (kinda hacky and can potentially break later)\n",
    "        # used as the next input for set_weights()\n",
    "        #\n",
    "        # Order of calls:\n",
    "        # tf.fit();\n",
    "        # builder.rebuild(tf.get_weights());\n",
    "        # add_layer()...;\n",
    "        # tf.set_weights(builder.get_builder_weights());\n",
    "        # tf.fit()\n",
    "        weights_list = []\n",
    "        \n",
    "        for k in sorted(self.symbol_map.keys()):\n",
    "            curr_is_dropout, curr_weight = self.symbol_map[k]\n",
    "            if not curr_is_dropout:\n",
    "                weights_list.append(curr_weight)\n",
    "        \n",
    "        return weights_list"
   ]
  },
  {
   "cell_type": "code",
   "execution_count": 32,
   "metadata": {},
   "outputs": [
    {
     "name": "stdout",
     "output_type": "stream",
     "text": [
      "self.dropout_blacklist =\n",
      "[]\n",
      "Dropped out qubit id 6\n"
     ]
    },
    {
     "data": {
      "image/svg+xml": [
       "<svg xmlns=\"http://www.w3.org/2000/svg\" width=\"4820.140820312499\" height=\"440.0\"><line x1=\"34.7588671875\" x2=\"4790.140820312499\" y1=\"45.0\" y2=\"45.0\" stroke=\"#1967d2\" stroke-width=\"1\" /><line x1=\"34.7588671875\" x2=\"4790.140820312499\" y1=\"95.0\" y2=\"95.0\" stroke=\"#1967d2\" stroke-width=\"1\" /><line x1=\"34.7588671875\" x2=\"4790.140820312499\" y1=\"145.0\" y2=\"145.0\" stroke=\"#1967d2\" stroke-width=\"1\" /><line x1=\"34.7588671875\" x2=\"4790.140820312499\" y1=\"195.0\" y2=\"195.0\" stroke=\"#1967d2\" stroke-width=\"1\" /><line x1=\"34.7588671875\" x2=\"4790.140820312499\" y1=\"245.0\" y2=\"245.0\" stroke=\"#1967d2\" stroke-width=\"1\" /><line x1=\"34.7588671875\" x2=\"4790.140820312499\" y1=\"295.0\" y2=\"295.0\" stroke=\"#1967d2\" stroke-width=\"1\" /><line x1=\"34.7588671875\" x2=\"4790.140820312499\" y1=\"345.0\" y2=\"345.0\" stroke=\"#1967d2\" stroke-width=\"1\" /><line x1=\"34.7588671875\" x2=\"4790.140820312499\" y1=\"395.0\" y2=\"395.0\" stroke=\"#1967d2\" stroke-width=\"1\" /><line x1=\"2671.340820312499\" x2=\"2938.813632812499\" y1=\"5.0\" y2=\"5.0\" stroke=\"black\" stroke-width=\"1\" /><line x1=\"2671.340820312499\" x2=\"2938.813632812499\" y1=\"435.0\" y2=\"435.0\" stroke=\"black\" stroke-width=\"1\" /><line x1=\"2047.2119921874996\" x2=\"2314.2473046874993\" y1=\"5.0\" y2=\"5.0\" stroke=\"black\" stroke-width=\"1\" /><line x1=\"2047.2119921874996\" x2=\"2314.2473046874993\" y1=\"435.0\" y2=\"435.0\" stroke=\"black\" stroke-width=\"1\" /><line x1=\"278.179921875\" x2=\"278.179921875\" y1=\"45.0\" y2=\"395.0\" stroke=\"black\" stroke-width=\"3\" /><line x1=\"449.60412109375005\" x2=\"449.60412109375005\" y1=\"345.0\" y2=\"395.0\" stroke=\"black\" stroke-width=\"3\" /><line x1=\"622.98025390625\" x2=\"622.98025390625\" y1=\"295.0\" y2=\"345.0\" stroke=\"black\" stroke-width=\"3\" /><line x1=\"796.3563867187501\" x2=\"796.3563867187501\" y1=\"245.0\" y2=\"295.0\" stroke=\"black\" stroke-width=\"3\" /><line x1=\"969.7325195312501\" x2=\"969.7325195312501\" y1=\"195.0\" y2=\"245.0\" stroke=\"black\" stroke-width=\"3\" /><line x1=\"1143.1086523437502\" x2=\"1143.1086523437502\" y1=\"145.0\" y2=\"195.0\" stroke=\"black\" stroke-width=\"3\" /><line x1=\"1316.4847851562502\" x2=\"1316.4847851562502\" y1=\"95.0\" y2=\"145.0\" stroke=\"black\" stroke-width=\"3\" /><line x1=\"1489.86091796875\" x2=\"1489.86091796875\" y1=\"45.0\" y2=\"95.0\" stroke=\"black\" stroke-width=\"3\" /><line x1=\"1786.8918554687498\" x2=\"1786.8918554687498\" y1=\"45.0\" y2=\"295.0\" stroke=\"black\" stroke-width=\"3\" /><line x1=\"1960.4386132812497\" x2=\"1960.4386132812497\" y1=\"145.0\" y2=\"295.0\" stroke=\"black\" stroke-width=\"3\" /><line x1=\"2123.9853710937496\" x2=\"2123.9853710937496\" y1=\"145.0\" y2=\"395.0\" stroke=\"black\" stroke-width=\"3\" /><line x1=\"2411.0206835937493\" x2=\"2411.0206835937493\" y1=\"245.0\" y2=\"395.0\" stroke=\"black\" stroke-width=\"3\" /><line x1=\"2584.567441406249\" x2=\"2584.567441406249\" y1=\"95.0\" y2=\"245.0\" stroke=\"black\" stroke-width=\"3\" /><line x1=\"2748.114199218749\" x2=\"2748.114199218749\" y1=\"95.0\" y2=\"345.0\" stroke=\"black\" stroke-width=\"3\" /><line x1=\"3035.5870117187487\" x2=\"3035.5870117187487\" y1=\"195.0\" y2=\"345.0\" stroke=\"black\" stroke-width=\"3\" /><line x1=\"3209.1337695312486\" x2=\"3209.1337695312486\" y1=\"45.0\" y2=\"195.0\" stroke=\"black\" stroke-width=\"3\" /><line x1=\"3504.4730859374986\" x2=\"3504.4730859374986\" y1=\"45.0\" y2=\"95.0\" stroke=\"black\" stroke-width=\"3\" /><line x1=\"3674.0416015624987\" x2=\"3674.0416015624987\" y1=\"95.0\" y2=\"145.0\" stroke=\"black\" stroke-width=\"3\" /><line x1=\"3843.610117187499\" x2=\"3843.610117187499\" y1=\"145.0\" y2=\"195.0\" stroke=\"black\" stroke-width=\"3\" /><line x1=\"4013.178632812499\" x2=\"4013.178632812499\" y1=\"195.0\" y2=\"245.0\" stroke=\"black\" stroke-width=\"3\" /><line x1=\"4182.747148437499\" x2=\"4182.747148437499\" y1=\"245.0\" y2=\"295.0\" stroke=\"black\" stroke-width=\"3\" /><line x1=\"4352.315664062499\" x2=\"4352.315664062499\" y1=\"295.0\" y2=\"345.0\" stroke=\"black\" stroke-width=\"3\" /><line x1=\"4521.884179687499\" x2=\"4521.884179687499\" y1=\"345.0\" y2=\"395.0\" stroke=\"black\" stroke-width=\"3\" /><line x1=\"4693.40462890625\" x2=\"4693.40462890625\" y1=\"45.0\" y2=\"395.0\" stroke=\"black\" stroke-width=\"3\" /><line x1=\"2671.340820312499\" x2=\"2671.340820312499\" y1=\"5.0\" y2=\"15.0\" stroke=\"black\" stroke-width=\"3\" /><line x1=\"2938.813632812499\" x2=\"2938.813632812499\" y1=\"5.0\" y2=\"15.0\" stroke=\"black\" stroke-width=\"3\" /><line x1=\"2671.340820312499\" x2=\"2671.340820312499\" y1=\"425.0\" y2=\"435.0\" stroke=\"black\" stroke-width=\"3\" /><line x1=\"2938.813632812499\" x2=\"2938.813632812499\" y1=\"425.0\" y2=\"435.0\" stroke=\"black\" stroke-width=\"3\" /><line x1=\"2047.2119921874996\" x2=\"2047.2119921874996\" y1=\"5.0\" y2=\"15.0\" stroke=\"black\" stroke-width=\"3\" /><line x1=\"2314.2473046874993\" x2=\"2314.2473046874993\" y1=\"5.0\" y2=\"15.0\" stroke=\"black\" stroke-width=\"3\" /><line x1=\"2047.2119921874996\" x2=\"2047.2119921874996\" y1=\"425.0\" y2=\"435.0\" stroke=\"black\" stroke-width=\"3\" /><line x1=\"2314.2473046874993\" x2=\"2314.2473046874993\" y1=\"425.0\" y2=\"435.0\" stroke=\"black\" stroke-width=\"3\" /><rect x=\"10.0\" y=\"25.0\" width=\"49.517734375\" height=\"40\" stroke=\"black\" fill=\"white\" stroke-width=\"0\" /><text x=\"34.7588671875\" y=\"45.0\" dominant-baseline=\"middle\" text-anchor=\"middle\" font-size=\"14px\" font-family=\"Arial\">(0, 0): </text><rect x=\"10.0\" y=\"75.0\" width=\"49.517734375\" height=\"40\" stroke=\"black\" fill=\"white\" stroke-width=\"0\" /><text x=\"34.7588671875\" y=\"95.0\" dominant-baseline=\"middle\" text-anchor=\"middle\" font-size=\"14px\" font-family=\"Arial\">(0, 1): </text><rect x=\"10.0\" y=\"125.0\" width=\"49.517734375\" height=\"40\" stroke=\"black\" fill=\"white\" stroke-width=\"0\" /><text x=\"34.7588671875\" y=\"145.0\" dominant-baseline=\"middle\" text-anchor=\"middle\" font-size=\"14px\" font-family=\"Arial\">(1, 0): </text><rect x=\"10.0\" y=\"175.0\" width=\"49.517734375\" height=\"40\" stroke=\"black\" fill=\"white\" stroke-width=\"0\" /><text x=\"34.7588671875\" y=\"195.0\" dominant-baseline=\"middle\" text-anchor=\"middle\" font-size=\"14px\" font-family=\"Arial\">(1, 1): </text><rect x=\"10.0\" y=\"225.0\" width=\"49.517734375\" height=\"40\" stroke=\"black\" fill=\"white\" stroke-width=\"0\" /><text x=\"34.7588671875\" y=\"245.0\" dominant-baseline=\"middle\" text-anchor=\"middle\" font-size=\"14px\" font-family=\"Arial\">(2, 0): </text><rect x=\"10.0\" y=\"275.0\" width=\"49.517734375\" height=\"40\" stroke=\"black\" fill=\"white\" stroke-width=\"0\" /><text x=\"34.7588671875\" y=\"295.0\" dominant-baseline=\"middle\" text-anchor=\"middle\" font-size=\"14px\" font-family=\"Arial\">(2, 1): </text><rect x=\"10.0\" y=\"325.0\" width=\"49.517734375\" height=\"40\" stroke=\"black\" fill=\"white\" stroke-width=\"0\" /><text x=\"34.7588671875\" y=\"345.0\" dominant-baseline=\"middle\" text-anchor=\"middle\" font-size=\"14px\" font-family=\"Arial\">(3, 0): </text><rect x=\"10.0\" y=\"375.0\" width=\"49.517734375\" height=\"40\" stroke=\"black\" fill=\"white\" stroke-width=\"0\" /><text x=\"34.7588671875\" y=\"395.0\" dominant-baseline=\"middle\" text-anchor=\"middle\" font-size=\"14px\" font-family=\"Arial\">(3, 1): </text><rect x=\"79.517734375\" y=\"25.0\" width=\"103.92605468750001\" height=\"40\" stroke=\"black\" fill=\"white\" stroke-width=\"1\" /><text x=\"131.48076171875002\" y=\"45.0\" dominant-baseline=\"middle\" text-anchor=\"middle\" font-size=\"14px\" font-family=\"Arial\">X^sym_l0_q0</text><rect x=\"79.517734375\" y=\"75.0\" width=\"103.92605468750001\" height=\"40\" stroke=\"black\" fill=\"white\" stroke-width=\"1\" /><text x=\"131.48076171875002\" y=\"95.0\" dominant-baseline=\"middle\" text-anchor=\"middle\" font-size=\"14px\" font-family=\"Arial\">X^sym_l0_q1</text><rect x=\"79.517734375\" y=\"125.0\" width=\"103.92605468750001\" height=\"40\" stroke=\"black\" fill=\"white\" stroke-width=\"1\" /><text x=\"131.48076171875002\" y=\"145.0\" dominant-baseline=\"middle\" text-anchor=\"middle\" font-size=\"14px\" font-family=\"Arial\">X^sym_l0_q2</text><rect x=\"79.517734375\" y=\"175.0\" width=\"103.92605468750001\" height=\"40\" stroke=\"black\" fill=\"white\" stroke-width=\"1\" /><text x=\"131.48076171875002\" y=\"195.0\" dominant-baseline=\"middle\" text-anchor=\"middle\" font-size=\"14px\" font-family=\"Arial\">X^sym_l0_q3</text><rect x=\"79.517734375\" y=\"225.0\" width=\"103.92605468750001\" height=\"40\" stroke=\"black\" fill=\"white\" stroke-width=\"1\" /><text x=\"131.48076171875002\" y=\"245.0\" dominant-baseline=\"middle\" text-anchor=\"middle\" font-size=\"14px\" font-family=\"Arial\">X^sym_l0_q4</text><rect x=\"79.517734375\" y=\"275.0\" width=\"103.92605468750001\" height=\"40\" stroke=\"black\" fill=\"white\" stroke-width=\"1\" /><text x=\"131.48076171875002\" y=\"295.0\" dominant-baseline=\"middle\" text-anchor=\"middle\" font-size=\"14px\" font-family=\"Arial\">X^sym_l0_q5</text><rect x=\"79.517734375\" y=\"325.0\" width=\"103.92605468750001\" height=\"40\" stroke=\"black\" fill=\"white\" stroke-width=\"1\" /><text x=\"131.48076171875002\" y=\"345.0\" dominant-baseline=\"middle\" text-anchor=\"middle\" font-size=\"14px\" font-family=\"Arial\">X^sym_l0_q6</text><rect x=\"79.517734375\" y=\"375.0\" width=\"103.92605468750001\" height=\"40\" stroke=\"black\" fill=\"white\" stroke-width=\"1\" /><text x=\"131.48076171875002\" y=\"395.0\" dominant-baseline=\"middle\" text-anchor=\"middle\" font-size=\"14px\" font-family=\"Arial\">X^sym_l0_q7</text><circle cx=\"278.179921875\" cy=\"45.0\" r=\"10.0\" /><rect x=\"203.4437890625\" y=\"375.0\" width=\"149.472265625\" height=\"40\" stroke=\"black\" fill=\"white\" stroke-width=\"1\" /><text x=\"278.179921875\" y=\"395.0\" dominant-baseline=\"middle\" text-anchor=\"middle\" font-size=\"14px\" font-family=\"Arial\">X^sym_l0_q0block1</text><rect x=\"372.91605468750004\" y=\"375.0\" width=\"153.3761328125\" height=\"40\" stroke=\"black\" fill=\"white\" stroke-width=\"1\" /><text x=\"449.60412109375005\" y=\"395.0\" dominant-baseline=\"middle\" text-anchor=\"middle\" font-size=\"14px\" font-family=\"Arial\">@^sym_l0_q1block1</text><rect x=\"372.91605468750004\" y=\"325.0\" width=\"153.3761328125\" height=\"40\" stroke=\"black\" fill=\"white\" stroke-width=\"1\" /><text x=\"449.60412109375005\" y=\"345.0\" dominant-baseline=\"middle\" text-anchor=\"middle\" font-size=\"18px\" font-family=\"Arial\">X</text><rect x=\"546.2921875000001\" y=\"325.0\" width=\"153.3761328125\" height=\"40\" stroke=\"black\" fill=\"white\" stroke-width=\"1\" /><text x=\"622.98025390625\" y=\"345.0\" dominant-baseline=\"middle\" text-anchor=\"middle\" font-size=\"14px\" font-family=\"Arial\">@^sym_l0_q2block1</text><rect x=\"546.2921875000001\" y=\"275.0\" width=\"153.3761328125\" height=\"40\" stroke=\"black\" fill=\"white\" stroke-width=\"1\" /><text x=\"622.98025390625\" y=\"295.0\" dominant-baseline=\"middle\" text-anchor=\"middle\" font-size=\"18px\" font-family=\"Arial\">X</text><rect x=\"546.2921875000001\" y=\"375.0\" width=\"153.3761328125\" height=\"40\" stroke=\"black\" fill=\"white\" stroke-width=\"1\" /><text x=\"622.98025390625\" y=\"395.0\" dominant-baseline=\"middle\" text-anchor=\"middle\" font-size=\"14px\" font-family=\"Arial\">Z^sym_l1_q7</text><rect x=\"719.6683203125001\" y=\"275.0\" width=\"153.3761328125\" height=\"40\" stroke=\"black\" fill=\"white\" stroke-width=\"1\" /><text x=\"796.3563867187501\" y=\"295.0\" dominant-baseline=\"middle\" text-anchor=\"middle\" font-size=\"14px\" font-family=\"Arial\">@^sym_l0_q3block1</text><rect x=\"719.6683203125001\" y=\"225.0\" width=\"153.3761328125\" height=\"40\" stroke=\"black\" fill=\"white\" stroke-width=\"1\" /><text x=\"796.3563867187501\" y=\"245.0\" dominant-baseline=\"middle\" text-anchor=\"middle\" font-size=\"18px\" font-family=\"Arial\">X</text><rect x=\"719.6683203125001\" y=\"325.0\" width=\"153.3761328125\" height=\"40\" stroke=\"black\" fill=\"white\" stroke-width=\"1\" /><text x=\"796.3563867187501\" y=\"345.0\" dominant-baseline=\"middle\" text-anchor=\"middle\" font-size=\"14px\" font-family=\"Arial\">Z^sym_l1_q6</text><rect x=\"893.0444531250001\" y=\"225.0\" width=\"153.3761328125\" height=\"40\" stroke=\"black\" fill=\"white\" stroke-width=\"1\" /><text x=\"969.7325195312501\" y=\"245.0\" dominant-baseline=\"middle\" text-anchor=\"middle\" font-size=\"14px\" font-family=\"Arial\">@^sym_l0_q4block1</text><rect x=\"893.0444531250001\" y=\"175.0\" width=\"153.3761328125\" height=\"40\" stroke=\"black\" fill=\"white\" stroke-width=\"1\" /><text x=\"969.7325195312501\" y=\"195.0\" dominant-baseline=\"middle\" text-anchor=\"middle\" font-size=\"18px\" font-family=\"Arial\">X</text><rect x=\"893.0444531250001\" y=\"275.0\" width=\"153.3761328125\" height=\"40\" stroke=\"black\" fill=\"white\" stroke-width=\"1\" /><text x=\"969.7325195312501\" y=\"295.0\" dominant-baseline=\"middle\" text-anchor=\"middle\" font-size=\"14px\" font-family=\"Arial\">Z^sym_l1_q5</text><rect x=\"1066.4205859375002\" y=\"175.0\" width=\"153.3761328125\" height=\"40\" stroke=\"black\" fill=\"white\" stroke-width=\"1\" /><text x=\"1143.1086523437502\" y=\"195.0\" dominant-baseline=\"middle\" text-anchor=\"middle\" font-size=\"14px\" font-family=\"Arial\">@^sym_l0_q5block1</text><rect x=\"1066.4205859375002\" y=\"125.0\" width=\"153.3761328125\" height=\"40\" stroke=\"black\" fill=\"white\" stroke-width=\"1\" /><text x=\"1143.1086523437502\" y=\"145.0\" dominant-baseline=\"middle\" text-anchor=\"middle\" font-size=\"18px\" font-family=\"Arial\">X</text><rect x=\"1066.4205859375002\" y=\"225.0\" width=\"153.3761328125\" height=\"40\" stroke=\"black\" fill=\"white\" stroke-width=\"1\" /><text x=\"1143.1086523437502\" y=\"245.0\" dominant-baseline=\"middle\" text-anchor=\"middle\" font-size=\"14px\" font-family=\"Arial\">Z^sym_l1_q4</text><rect x=\"1239.79671875\" y=\"125.0\" width=\"153.3761328125\" height=\"40\" stroke=\"black\" fill=\"white\" stroke-width=\"1\" /><text x=\"1316.4847851562502\" y=\"145.0\" dominant-baseline=\"middle\" text-anchor=\"middle\" font-size=\"14px\" font-family=\"Arial\">@^sym_l0_q6block1</text><rect x=\"1239.79671875\" y=\"75.0\" width=\"153.3761328125\" height=\"40\" stroke=\"black\" fill=\"white\" stroke-width=\"1\" /><text x=\"1316.4847851562502\" y=\"95.0\" dominant-baseline=\"middle\" text-anchor=\"middle\" font-size=\"18px\" font-family=\"Arial\">X</text><rect x=\"1239.79671875\" y=\"175.0\" width=\"153.3761328125\" height=\"40\" stroke=\"black\" fill=\"white\" stroke-width=\"1\" /><text x=\"1316.4847851562502\" y=\"195.0\" dominant-baseline=\"middle\" text-anchor=\"middle\" font-size=\"14px\" font-family=\"Arial\">Z^sym_l1_q3</text><rect x=\"1413.1728515625\" y=\"75.0\" width=\"153.3761328125\" height=\"40\" stroke=\"black\" fill=\"white\" stroke-width=\"1\" /><text x=\"1489.86091796875\" y=\"95.0\" dominant-baseline=\"middle\" text-anchor=\"middle\" font-size=\"14px\" font-family=\"Arial\">@^sym_l0_q7block1</text><rect x=\"1413.1728515625\" y=\"25.0\" width=\"153.3761328125\" height=\"40\" stroke=\"black\" fill=\"white\" stroke-width=\"1\" /><text x=\"1489.86091796875\" y=\"45.0\" dominant-baseline=\"middle\" text-anchor=\"middle\" font-size=\"18px\" font-family=\"Arial\">X</text><rect x=\"1413.1728515625\" y=\"125.0\" width=\"153.3761328125\" height=\"40\" stroke=\"black\" fill=\"white\" stroke-width=\"1\" /><text x=\"1489.86091796875\" y=\"145.0\" dominant-baseline=\"middle\" text-anchor=\"middle\" font-size=\"14px\" font-family=\"Arial\">Z^sym_l1_q2</text><rect x=\"1586.548984375\" y=\"25.0\" width=\"103.56949218750002\" height=\"40\" stroke=\"black\" fill=\"white\" stroke-width=\"1\" /><text x=\"1638.33373046875\" y=\"45.0\" dominant-baseline=\"middle\" text-anchor=\"middle\" font-size=\"14px\" font-family=\"Arial\">Z^sym_l1_q0</text><rect x=\"1586.548984375\" y=\"75.0\" width=\"103.56949218750002\" height=\"40\" stroke=\"black\" fill=\"white\" stroke-width=\"1\" /><text x=\"1638.33373046875\" y=\"95.0\" dominant-baseline=\"middle\" text-anchor=\"middle\" font-size=\"14px\" font-family=\"Arial\">Z^sym_l1_q1</text><circle cx=\"1786.8918554687498\" cy=\"45.0\" r=\"10.0\" /><rect x=\"1710.1184765624998\" y=\"275.0\" width=\"153.5467578125\" height=\"40\" stroke=\"black\" fill=\"white\" stroke-width=\"1\" /><text x=\"1786.8918554687498\" y=\"295.0\" dominant-baseline=\"middle\" text-anchor=\"middle\" font-size=\"14px\" font-family=\"Arial\">@^sym_l1_q0block3</text><rect x=\"1883.6652343749997\" y=\"275.0\" width=\"153.5467578125\" height=\"40\" stroke=\"black\" fill=\"white\" stroke-width=\"1\" /><text x=\"1960.4386132812497\" y=\"295.0\" dominant-baseline=\"middle\" text-anchor=\"middle\" font-size=\"14px\" font-family=\"Arial\">@^sym_l1_q1block3</text><circle cx=\"1960.4386132812497\" cy=\"145.0\" r=\"10.0\" /><circle cx=\"2123.9853710937496\" cy=\"145.0\" r=\"10.0\" /><rect x=\"2047.2119921874996\" y=\"375.0\" width=\"153.5467578125\" height=\"40\" stroke=\"black\" fill=\"white\" stroke-width=\"1\" /><text x=\"2123.9853710937496\" y=\"395.0\" dominant-baseline=\"middle\" text-anchor=\"middle\" font-size=\"14px\" font-family=\"Arial\">@^sym_l1_q2block3</text><rect x=\"2200.7587499999995\" y=\"275.0\" width=\"103.48855468750001\" height=\"40\" stroke=\"black\" fill=\"white\" stroke-width=\"1\" /><text x=\"2252.5030273437496\" y=\"295.0\" dominant-baseline=\"middle\" text-anchor=\"middle\" font-size=\"14px\" font-family=\"Arial\">X^sym_l2_q5</text><rect x=\"2334.2473046874993\" y=\"375.0\" width=\"153.5467578125\" height=\"40\" stroke=\"black\" fill=\"white\" stroke-width=\"1\" /><text x=\"2411.0206835937493\" y=\"395.0\" dominant-baseline=\"middle\" text-anchor=\"middle\" font-size=\"14px\" font-family=\"Arial\">@^sym_l1_q3block3</text><circle cx=\"2411.0206835937493\" cy=\"245.0\" r=\"10.0\" /><rect x=\"2334.2473046874993\" y=\"125.0\" width=\"153.5467578125\" height=\"40\" stroke=\"black\" fill=\"white\" stroke-width=\"1\" /><text x=\"2411.0206835937493\" y=\"145.0\" dominant-baseline=\"middle\" text-anchor=\"middle\" font-size=\"14px\" font-family=\"Arial\">X^sym_l2_q2</text><rect x=\"2507.794062499999\" y=\"225.0\" width=\"153.5467578125\" height=\"40\" stroke=\"black\" fill=\"white\" stroke-width=\"1\" /><text x=\"2584.567441406249\" y=\"245.0\" dominant-baseline=\"middle\" text-anchor=\"middle\" font-size=\"14px\" font-family=\"Arial\">@^sym_l1_q4block3</text><circle cx=\"2584.567441406249\" cy=\"95.0\" r=\"10.0\" /><rect x=\"2507.794062499999\" y=\"375.0\" width=\"153.5467578125\" height=\"40\" stroke=\"black\" fill=\"white\" stroke-width=\"1\" /><text x=\"2584.567441406249\" y=\"395.0\" dominant-baseline=\"middle\" text-anchor=\"middle\" font-size=\"14px\" font-family=\"Arial\">X^sym_l2_q7</text><circle cx=\"2748.114199218749\" cy=\"95.0\" r=\"10.0\" /><rect x=\"2671.340820312499\" y=\"325.0\" width=\"153.5467578125\" height=\"40\" stroke=\"black\" fill=\"white\" stroke-width=\"1\" /><text x=\"2748.114199218749\" y=\"345.0\" dominant-baseline=\"middle\" text-anchor=\"middle\" font-size=\"14px\" font-family=\"Arial\">@^sym_l1_q5block3</text><rect x=\"2824.887578124999\" y=\"225.0\" width=\"103.92605468750001\" height=\"40\" stroke=\"black\" fill=\"white\" stroke-width=\"1\" /><text x=\"2876.850605468749\" y=\"245.0\" dominant-baseline=\"middle\" text-anchor=\"middle\" font-size=\"14px\" font-family=\"Arial\">X^sym_l2_q4</text><rect x=\"2958.813632812499\" y=\"325.0\" width=\"153.5467578125\" height=\"40\" stroke=\"black\" fill=\"white\" stroke-width=\"1\" /><text x=\"3035.5870117187487\" y=\"345.0\" dominant-baseline=\"middle\" text-anchor=\"middle\" font-size=\"14px\" font-family=\"Arial\">@^sym_l1_q6block3</text><circle cx=\"3035.5870117187487\" cy=\"195.0\" r=\"10.0\" /><rect x=\"2958.813632812499\" y=\"75.0\" width=\"153.5467578125\" height=\"40\" stroke=\"black\" fill=\"white\" stroke-width=\"1\" /><text x=\"3035.5870117187487\" y=\"95.0\" dominant-baseline=\"middle\" text-anchor=\"middle\" font-size=\"14px\" font-family=\"Arial\">X^sym_l2_q1</text><rect x=\"3132.3603906249987\" y=\"175.0\" width=\"153.5467578125\" height=\"40\" stroke=\"black\" fill=\"white\" stroke-width=\"1\" /><text x=\"3209.1337695312486\" y=\"195.0\" dominant-baseline=\"middle\" text-anchor=\"middle\" font-size=\"14px\" font-family=\"Arial\">@^sym_l1_q7block3</text><circle cx=\"3209.1337695312486\" cy=\"45.0\" r=\"10.0\" /><rect x=\"3305.9071484374986\" y=\"25.0\" width=\"103.78167968750002\" height=\"40\" stroke=\"black\" fill=\"white\" stroke-width=\"1\" /><text x=\"3357.7979882812488\" y=\"45.0\" dominant-baseline=\"middle\" text-anchor=\"middle\" font-size=\"14px\" font-family=\"Arial\">X^sym_l2_q0</text><rect x=\"3305.9071484374986\" y=\"175.0\" width=\"103.78167968750002\" height=\"40\" stroke=\"black\" fill=\"white\" stroke-width=\"1\" /><text x=\"3357.7979882812488\" y=\"195.0\" dominant-baseline=\"middle\" text-anchor=\"middle\" font-size=\"14px\" font-family=\"Arial\">X^sym_l2_q3</text><circle cx=\"3504.4730859374986\" cy=\"45.0\" r=\"10.0\" /><rect x=\"3429.6888281249985\" y=\"75.0\" width=\"149.568515625\" height=\"40\" stroke=\"black\" fill=\"white\" stroke-width=\"1\" /><text x=\"3504.4730859374986\" y=\"95.0\" dominant-baseline=\"middle\" text-anchor=\"middle\" font-size=\"14px\" font-family=\"Arial\">X^sym_l2_q0block7</text><circle cx=\"3674.0416015624987\" cy=\"95.0\" r=\"10.0\" /><rect x=\"3599.2573437499987\" y=\"125.0\" width=\"149.568515625\" height=\"40\" stroke=\"black\" fill=\"white\" stroke-width=\"1\" /><text x=\"3674.0416015624987\" y=\"145.0\" dominant-baseline=\"middle\" text-anchor=\"middle\" font-size=\"14px\" font-family=\"Arial\">X^sym_l2_q1block7</text><circle cx=\"3843.610117187499\" cy=\"145.0\" r=\"10.0\" /><rect x=\"3768.825859374999\" y=\"175.0\" width=\"149.568515625\" height=\"40\" stroke=\"black\" fill=\"white\" stroke-width=\"1\" /><text x=\"3843.610117187499\" y=\"195.0\" dominant-baseline=\"middle\" text-anchor=\"middle\" font-size=\"14px\" font-family=\"Arial\">X^sym_l2_q2block7</text><circle cx=\"4013.178632812499\" cy=\"195.0\" r=\"10.0\" /><rect x=\"3938.394374999999\" y=\"225.0\" width=\"149.568515625\" height=\"40\" stroke=\"black\" fill=\"white\" stroke-width=\"1\" /><text x=\"4013.178632812499\" y=\"245.0\" dominant-baseline=\"middle\" text-anchor=\"middle\" font-size=\"14px\" font-family=\"Arial\">X^sym_l2_q3block7</text><circle cx=\"4182.747148437499\" cy=\"245.0\" r=\"10.0\" /><rect x=\"4107.962890624999\" y=\"275.0\" width=\"149.568515625\" height=\"40\" stroke=\"black\" fill=\"white\" stroke-width=\"1\" /><text x=\"4182.747148437499\" y=\"295.0\" dominant-baseline=\"middle\" text-anchor=\"middle\" font-size=\"14px\" font-family=\"Arial\">X^sym_l2_q4block7</text><circle cx=\"4352.315664062499\" cy=\"295.0\" r=\"10.0\" /><rect x=\"4277.531406249999\" y=\"325.0\" width=\"149.568515625\" height=\"40\" stroke=\"black\" fill=\"white\" stroke-width=\"1\" /><text x=\"4352.315664062499\" y=\"345.0\" dominant-baseline=\"middle\" text-anchor=\"middle\" font-size=\"14px\" font-family=\"Arial\">X^sym_l2_q5block7</text><circle cx=\"4521.884179687499\" cy=\"345.0\" r=\"10.0\" /><rect x=\"4447.099921874999\" y=\"375.0\" width=\"149.568515625\" height=\"40\" stroke=\"black\" fill=\"white\" stroke-width=\"1\" /><text x=\"4521.884179687499\" y=\"395.0\" dominant-baseline=\"middle\" text-anchor=\"middle\" font-size=\"14px\" font-family=\"Arial\">X^sym_l2_q6block7</text><rect x=\"4616.6684374999995\" y=\"375.0\" width=\"153.4723828125\" height=\"40\" stroke=\"black\" fill=\"white\" stroke-width=\"1\" /><text x=\"4693.40462890625\" y=\"395.0\" dominant-baseline=\"middle\" text-anchor=\"middle\" font-size=\"14px\" font-family=\"Arial\">@^sym_l2_q7block7</text><rect x=\"4616.6684374999995\" y=\"25.0\" width=\"153.4723828125\" height=\"40\" stroke=\"black\" fill=\"white\" stroke-width=\"1\" /><text x=\"4693.40462890625\" y=\"45.0\" dominant-baseline=\"middle\" text-anchor=\"middle\" font-size=\"18px\" font-family=\"Arial\">X</text></svg>"
      ],
      "text/plain": [
       "<cirq.contrib.svg.svg.SVGCircuit at 0x7fbe0e4c83d0>"
      ]
     },
     "execution_count": 32,
     "metadata": {},
     "output_type": "execute_result"
    }
   ],
   "source": [
    "# TEST CELL to make sure CircuitLayerBuilder works properly\n",
    "circuit = cirq.Circuit()\n",
    "demo_builder = CircuitLayerBuilder(circuit=circuit,\n",
    "                                   data_qubits = cirq.GridQubit.rect(4,2),\n",
    "                                   )\n",
    "demo_builder.add_layer(gate=cirq.X,block=1)\n",
    "demo_builder.add_layer(gate=cirq.Z,block=3)\n",
    "demo_builder.add_layer(gate=cirq.X,block=7,apply_dropout=True)\n",
    "SVGCircuit(circuit)"
   ]
  },
  {
   "cell_type": "markdown",
   "metadata": {
    "colab_type": "text",
    "id": "Sjo5hANFojhr"
   },
   "source": [
    "Build an example circuit layer to see how it looks:"
   ]
  },
  {
   "cell_type": "markdown",
   "metadata": {
    "colab_type": "text",
    "id": "T-QhPE1pojhu"
   },
   "source": [
    "Now build a two-layered model, matching the data-circuit size, and include the preparation and readout operations."
   ]
  },
  {
   "cell_type": "code",
   "execution_count": null,
   "metadata": {
    "colab": {},
    "colab_type": "code",
    "id": "JiALbpwRGL69",
    "tags": []
   },
   "outputs": [],
   "source": [
    "def create_quantum_model(apply_dropout=False, n_dropout=5, builder=None, computed_weights_arr=None):\n",
    "    \"\"\"Create a QNN model circuit and readout operation to go along with it.\"\"\"\n",
    "    data_qubits = cirq.GridQubit.rect(4, 2)  # a 4x4 grid.\n",
    "    circuit = cirq.Circuit()\n",
    "    \n",
    "    \n",
    "    if builder is None or computed_weights_arr is None:\n",
    "        builder = CircuitLayerBuilder(\n",
    "            circuit=circuit,\n",
    "            data_qubits=data_qubits,\n",
    "            repeat_dropout=n_dropout)\n",
    "    else:\n",
    "        builder.rebuild(circuit, data_qubits, readout, computed_weights_arr, preserve_dropout=apply_dropout)\n",
    "\n",
    "    # Then add layers (TODO: experiment by adding more).\n",
    "    builder.add_layer(cirq.X,1, apply_dropout = False)\n",
    "    builder.add_layer(cirq.Z,3, apply_dropout) # only drop out one qubit as per Schuld\n",
    "    #builder.add_layer(cirq.X,7, False)\n",
    "\n",
    "    # Finally, prepare the readout qubit.\n",
    "\n",
    "    return builder, circuit, cirq.X(data_qubits[0])"
   ]
  },
  {
   "cell_type": "code",
   "execution_count": null,
   "metadata": {
    "colab": {},
    "colab_type": "code",
    "id": "2QZvVh7vojhx",
    "tags": []
   },
   "outputs": [],
   "source": [
    "_, model_circuit, model_readout = create_quantum_model(apply_dropout=True)\n",
    "SVGCircuit(model_circuit)"
   ]
  },
  {
   "cell_type": "markdown",
   "metadata": {
    "colab_type": "text",
    "id": "LY7vbY6yfABE"
   },
   "source": [
    "### 2.2 Wrap the model-circuit in a tfq-keras model\n",
    "\n",
    "Build the Keras model with the quantum components. This model is fed the \"quantum data\", from `x_train_circ`, that encodes the classical data. It uses a *Parametrized Quantum Circuit* layer, `tfq.layers.PQC`, to train the model circuit, on the quantum data.\n",
    "\n",
    "To classify these images, <a href=\"https://arxiv.org/pdf/1802.06002.pdf\" class=\"external\">Farhi et al.</a> proposed taking the expectation of a readout qubit in a parameterized circuit. The expectation returns a value between 1 and -1."
   ]
  },
  {
   "cell_type": "code",
   "execution_count": null,
   "metadata": {
    "colab": {},
    "colab_type": "code",
    "id": "ZYdf_KOxojh0",
    "tags": []
   },
   "outputs": [],
   "source": [
    "# Build the Keras model.\n",
    "qlayer = tfq.layers.PQC(model_circuit, model_readout,repetitions=5000)\n",
    "print(len(qlayer.get_weights()[0]))\n",
    "model = tf.keras.Sequential([\n",
    "    # The input is the data-circuit, encoded as a tf.string\n",
    "    tf.keras.layers.Input(shape=(), dtype=tf.string),\n",
    "    # The PQC layer returns the expected value of the readout gate, range [-1,1].\n",
    "    qlayer,\n",
    "])"
   ]
  },
  {
   "cell_type": "markdown",
   "metadata": {
    "colab_type": "text",
    "id": "jz-FbVc9ojh3"
   },
   "source": [
    "Next, describe the training procedure to the model, using the `compile` method.\n",
    "\n",
    "Since the the expected readout is in the range `[-1,1]`, optimizing the hinge loss is a somewhat natural fit. \n",
    "\n",
    "Note: Another valid approach would be to shift the output range to `[0,1]`, and treat it as the probability the model assigns to class `3`. This could be used with a standard a `tf.losses.BinaryCrossentropy` loss.\n",
    "\n",
    "To use the hinge loss here you need to make two small adjustments. First convert the labels, `y_train_nocon`, from boolean to `[-1,1]`, as expected by the hinge loss."
   ]
  },
  {
   "cell_type": "code",
   "execution_count": null,
   "metadata": {
    "colab": {},
    "colab_type": "code",
    "id": "CgMNkC1Fojh5",
    "tags": []
   },
   "outputs": [],
   "source": [
    "y_train_hinge = 2.0*y_train_nocon-1.0\n",
    "y_test_hinge = 2.0*y_test-1.0"
   ]
  },
  {
   "cell_type": "markdown",
   "metadata": {
    "colab_type": "text",
    "id": "5nwnveDiojh7"
   },
   "source": [
    "Second, use a custiom `hinge_accuracy` metric that correctly handles `[-1, 1]` as the `y_true` labels argument. \n",
    "`tf.losses.BinaryAccuracy(threshold=0.0)` expects `y_true` to be a boolean, and so can't be used with hinge loss)."
   ]
  },
  {
   "cell_type": "code",
   "execution_count": null,
   "metadata": {
    "colab": {},
    "colab_type": "code",
    "id": "3XKtZ_TEojh8",
    "tags": []
   },
   "outputs": [],
   "source": [
    "def hinge_accuracy(y_true, y_pred):\n",
    "    y_true = tf.squeeze(y_true) > 0.0\n",
    "    y_pred = tf.squeeze(y_pred) > 0.0\n",
    "    result = tf.cast(y_true == y_pred, tf.float32)\n",
    "\n",
    "    return tf.reduce_mean(result)"
   ]
  },
  {
   "cell_type": "code",
   "execution_count": null,
   "metadata": {
    "colab": {},
    "colab_type": "code",
    "id": "FlpETlLRojiA",
    "tags": []
   },
   "outputs": [],
   "source": [
    "model.compile(\n",
    "    loss=tf.keras.losses.Hinge(),\n",
    "    optimizer=tf.keras.optimizers.Adam(),\n",
    "    metrics=[hinge_accuracy])"
   ]
  },
  {
   "cell_type": "code",
   "execution_count": null,
   "metadata": {
    "colab": {},
    "colab_type": "code",
    "id": "jkHq2RstojiC",
    "tags": []
   },
   "outputs": [],
   "source": [
    "print(model.summary())"
   ]
  },
  {
   "cell_type": "markdown",
   "metadata": {},
   "source": [
    "## 3. TensorBoard"
   ]
  },
  {
   "cell_type": "code",
   "execution_count": null,
   "metadata": {},
   "outputs": [],
   "source": [
    "logdir = \"tb_logs/\" + datetime.datetime.now().strftime(\"%Y%m%d-%H%M%S\")\n",
    "file_writer = tf.summary.create_file_writer(logdir + \"/metrics\")\n",
    "file_writer.set_as_default()\n",
    "tensorboard_callback = tf.keras.callbacks.TensorBoard(log_dir=logdir, histogram_freq=1)\n"
   ]
  },
  {
   "cell_type": "markdown",
   "metadata": {
    "colab_type": "text",
    "id": "lsuOzDYblA9s"
   },
   "source": [
    "### Train the quantum model\n",
    "\n",
    "Now train the model—this takes about 45 min. If you don't want to wait that long, use a small subset of the data (set `NUM_EXAMPLES=500`, below). This doesn't really affect the model's progress during training (it only has 32 parameters, and doesn't need much data to constrain these). Using fewer examples just ends training earlier (5min), but runs long enough to show that it is making progress in the validation logs."
   ]
  },
  {
   "cell_type": "code",
   "execution_count": null,
   "metadata": {
    "colab": {},
    "colab_type": "code",
    "id": "n8vuQpSLlBV2",
    "tags": []
   },
   "outputs": [],
   "source": [
    "EPOCHS = 20\n",
    "DROPOUT_EPOCHS = 2 # keep qubits dropped out for this num of epochs\n",
    "BATCH_SIZE = 32\n",
    "NUM_EXAMPLES = 500 #len(x_train_tfcirc)\n",
    "#NUM_EXAMPLES=None"
   ]
  },
  {
   "cell_type": "code",
   "execution_count": null,
   "metadata": {
    "colab": {},
    "colab_type": "code",
    "id": "qJnNG-3JojiI",
    "tags": []
   },
   "outputs": [],
   "source": [
    "x_train_tfcirc_sub = x_train_tfcirc[:NUM_EXAMPLES]\n",
    "y_train_hinge_sub = y_train_hinge[:NUM_EXAMPLES]\n",
    "tf.print(x_train_tfcirc_sub[0])"
   ]
  },
  {
   "cell_type": "code",
   "execution_count": null,
   "metadata": {},
   "outputs": [],
   "source": [
    "x_train_coarse_sub = x_train_coarse_flat[:NUM_EXAMPLES]\n",
    "print(x_train_coarse_sub .shape)\n",
    "y_train_coarse_sub = y_train_onehot[:NUM_EXAMPLES]"
   ]
  },
  {
   "cell_type": "code",
   "execution_count": null,
   "metadata": {},
   "outputs": [],
   "source": [
    "model.fit(\n",
    "  x_train_tfcirc_sub, y_train_hinge_sub,\n",
    "  batch_size=32,\n",
    "  epochs=EPOCHS,\n",
    "  verbose=1,\n",
    "  validation_data=(x_test_tfcirc, y_test_hinge),\n",
    "  callbacks=[tensorboard_callback])"
   ]
  },
  {
   "cell_type": "markdown",
   "metadata": {
    "colab_type": "text",
    "id": "QMSdgGC1GL7D"
   },
   "source": [
    "Training this model to convergence should achieve >85% accuracy on the test set."
   ]
  },
  {
   "cell_type": "code",
   "execution_count": null,
   "metadata": {},
   "outputs": [],
   "source": [
    "def train_model(apply_dropout=False):\n",
    "    for i in range(EPOCHS):        \n",
    "        # HACK - build new quantum circuit for each epoch and copy over the weights from the old one\n",
    "        if i == EPOCHS-1:\n",
    "            # Never use dropout on the last epoch; we can't get sane results otherwise\n",
    "            apply_dropout = False\n",
    "        \n",
    "        if i == 0:\n",
    "            model_builder, model_circuit, model_readout = create_quantum_model(apply_dropout, DROPOUT_EPOCHS)\n",
    "            qlayer = tfq.layers.PQC(model_circuit, model_readout)\n",
    "        else:\n",
    "            model_builder, model_circuit, model_readout = create_quantum_model(apply_dropout, -1, model_builder, qlayer.get_weights()[0])\n",
    "            qlayer_new = tfq.layers.PQC(model_circuit, model_readout,\n",
    "                                        initializer=tf.keras.initializers.Zeros)\n",
    "            curr_l = model_builder.get_builder_weights()\n",
    "            qlayer_new.set_weights([np.array(curr_l, dtype=np.float32)])\n",
    "            qlayer = qlayer_new\n",
    "\n",
    "        model = tf.keras.Sequential([\n",
    "            tf.keras.layers.Input(shape=(), dtype=tf.string),\n",
    "            qlayer,\n",
    "        ])\n",
    "        model.compile(\n",
    "            loss=tf.keras.losses.Hinge(),\n",
    "            optimizer=tf.keras.optimizers.Adam(),\n",
    "            metrics=[hinge_accuracy])\n",
    "\n",
    "        # Now fit the model for this epoch\n",
    "        model.fit(\n",
    "              x_train_tfcirc_sub, y_train_hinge_sub,\n",
    "              batch_size=32,\n",
    "              epochs=1,\n",
    "              verbose=1,\n",
    "              validation_data=(x_test_tfcirc, y_test_hinge),\n",
    "              callbacks=[tensorboard_callback])\n",
    "    print(model.loss())\n",
    "    tf.summary.scalar('loss', train_loss.result(), step=i)\n",
    "    tf.summary.scalar('accuracy', train_accuracy.result(), step=i)\n",
    "    return model"
   ]
  },
  {
   "cell_type": "code",
   "execution_count": null,
   "metadata": {},
   "outputs": [],
   "source": [
    "model = train_model(apply_dropout=False)"
   ]
  },
  {
   "cell_type": "code",
   "execution_count": null,
   "metadata": {},
   "outputs": [],
   "source": [
    "print(\"Non-dropout training set perf:\")\n",
    "model.evaluate(x_train_tfcirc_sub, y_train_hinge_sub)\n",
    "print(\"Non-dropout test set perf:\")\n",
    "qnn_results = model.evaluate(x_test_tfcirc, y_test)"
   ]
  },
  {
   "cell_type": "code",
   "execution_count": null,
   "metadata": {
    "colab": {},
    "colab_type": "code",
    "id": "Ya9qP3KkojiM",
    "tags": []
   },
   "outputs": [],
   "source": [
    "dropout_model = train_model(apply_dropout=True)"
   ]
  },
  {
   "cell_type": "code",
   "execution_count": null,
   "metadata": {},
   "outputs": [],
   "source": [
    "print(\"Dropout training set perf:\")\n",
    "dropout_model.evaluate(x_train_tfcirc_sub, y_train_hinge_sub)\n",
    "print(\"Dropout test set perf:\")\n",
    "qnn_results = dropout_model.evaluate(x_test_tfcirc, y_test)"
   ]
  },
  {
   "cell_type": "markdown",
   "metadata": {
    "colab_type": "text",
    "id": "3ER7B7aaojiP"
   },
   "source": [
    "Note: The training accuracy reports the average over the epoch. The validation accuracy is evaluated at the end of each epoch."
   ]
  },
  {
   "cell_type": "markdown",
   "metadata": {
    "colab_type": "text",
    "id": "8952YvuWGL7J"
   },
   "source": [
    "## 4. Classical neural network\n",
    "\n",
    "While the quantum neural network works for this simplified MNIST problem, a basic classical neural network can easily outperform a QNN on this task. After a single epoch, a classical neural network can achieve >98% accuracy on the holdout set.\n",
    "\n",
    "In the following example, a classical neural network is used for for the 3-6 classification problem using the entire 28x28 image instead of subsampling the image. This easily converges to nearly 100% accuracy of the test set."
   ]
  },
  {
   "cell_type": "code",
   "execution_count": null,
   "metadata": {
    "colab": {},
    "colab_type": "code",
    "id": "pZofEHhLGL7L",
    "tags": []
   },
   "outputs": [],
   "source": [
    "def create_classical_model():\n",
    "    # A simple model based off LeNet from https://keras.io/examples/mnist_cnn/\n",
    "    model = tf.keras.Sequential()\n",
    "    model.add(tf.keras.layers.Conv2D(32, [3, 3], activation='relu', input_shape=(28,28,1)))\n",
    "    model.add(tf.keras.layers.Conv2D(64, [3, 3], activation='relu'))\n",
    "    model.add(tf.keras.layers.MaxPooling2D(pool_size=(2, 2)))\n",
    "    model.add(tf.keras.layers.Dropout(0.25))\n",
    "    model.add(tf.keras.layers.Flatten())\n",
    "    model.add(tf.keras.layers.Dense(128, activation='relu'))\n",
    "    model.add(tf.keras.layers.Dropout(0.5))\n",
    "    model.add(tf.keras.layers.Dense(1))\n",
    "    return model\n",
    "\n",
    "\n",
    "model = create_classical_model()\n",
    "model.compile(loss=tf.keras.losses.BinaryCrossentropy(from_logits=True),\n",
    "              optimizer=tf.keras.optimizers.Adam(),\n",
    "              metrics=['accuracy'])\n",
    "\n",
    "model.summary()"
   ]
  },
  {
   "cell_type": "code",
   "execution_count": null,
   "metadata": {
    "colab": {},
    "colab_type": "code",
    "id": "CiAJl7sZojiU",
    "tags": []
   },
   "outputs": [],
   "source": [
    "model.fit(x_train,\n",
    "          y_train,\n",
    "          batch_size=128,\n",
    "          epochs=1,\n",
    "          verbose=1,\n",
    "          validation_data=(x_test, y_test))\n",
    "\n",
    "cnn_results = model.evaluate(x_test, y_test)"
   ]
  },
  {
   "cell_type": "markdown",
   "metadata": {
    "colab_type": "text",
    "id": "X5-5BVJaojiZ"
   },
   "source": [
    "The above model has nearly 1.2M parameters. For a more fair comparison, try a 37-parameter model, on the subsampled images:"
   ]
  },
  {
   "cell_type": "code",
   "execution_count": null,
   "metadata": {
    "colab": {},
    "colab_type": "code",
    "id": "70TOM6r-ojiZ",
    "tags": []
   },
   "outputs": [],
   "source": [
    "def create_fair_classical_model():\n",
    "    # A simple model based off LeNet from https://keras.io/examples/mnist_cnn/\n",
    "    model = tf.keras.Sequential()\n",
    "    model.add(tf.keras.layers.Flatten(input_shape=(4,4,1)))\n",
    "    model.add(tf.keras.layers.Dense(2, activation='relu'))\n",
    "    model.add(tf.keras.layers.Dense(1))\n",
    "    return model\n",
    "\n",
    "\n",
    "model = create_fair_classical_model()\n",
    "model.compile(loss=tf.keras.losses.BinaryCrossentropy(from_logits=True),\n",
    "              optimizer=tf.keras.optimizers.Adam(),\n",
    "              metrics=['accuracy'])\n",
    "\n",
    "model.summary()"
   ]
  },
  {
   "cell_type": "code",
   "execution_count": null,
   "metadata": {
    "colab": {},
    "colab_type": "code",
    "id": "lA_Fx-8gojid",
    "tags": []
   },
   "outputs": [],
   "source": [
    "model.fit(x_train_bin,\n",
    "          y_train_nocon,\n",
    "          batch_size=128,\n",
    "          epochs=20,\n",
    "          verbose=2,\n",
    "          validation_data=(x_test_bin, y_test))\n",
    "\n",
    "fair_nn_results = model.evaluate(x_test_bin, y_test)"
   ]
  },
  {
   "cell_type": "markdown",
   "metadata": {
    "colab_type": "text",
    "id": "RH3mam7EGL7N"
   },
   "source": [
    "## 5. Comparison\n",
    "\n",
    "Higher resolution input and a more powerful model make this problem easy for the CNN. While a classical model of similar power (~32 parameters) trains to a similar accuracy in a fraction of the time. One way or the other, the classical neural network easily outperforms the quantum neural network. For classical data, it is difficult to beat a classical neural network."
   ]
  },
  {
   "cell_type": "code",
   "execution_count": null,
   "metadata": {
    "colab": {},
    "colab_type": "code",
    "id": "NOMeN7pMGL7P",
    "tags": []
   },
   "outputs": [],
   "source": [
    "qnn_accuracy = qnn_results[1]\n",
    "cnn_accuracy = cnn_results[1]\n",
    "fair_nn_accuracy = fair_nn_results[1]\n",
    "\n",
    "sns.barplot([\"Quantum\", \"Classical, full\", \"Classical, fair\"],\n",
    "            [qnn_accuracy, cnn_accuracy, fair_nn_accuracy])"
   ]
  },
  {
   "cell_type": "code",
   "execution_count": null,
   "metadata": {},
   "outputs": [],
   "source": []
  }
 ],
 "metadata": {
  "colab": {
   "collapsed_sections": [],
   "name": "mnist.ipynb",
   "private_outputs": true,
   "provenance": [],
   "toc_visible": true
  },
  "kernelspec": {
   "display_name": "Python 3",
   "language": "python",
   "name": "python3"
  },
  "language_info": {
   "codemirror_mode": {
    "name": "ipython",
    "version": 3
   },
   "file_extension": ".py",
   "mimetype": "text/x-python",
   "name": "python",
   "nbconvert_exporter": "python",
   "pygments_lexer": "ipython3",
   "version": "3.8.0"
  }
 },
 "nbformat": 4,
 "nbformat_minor": 4
}
